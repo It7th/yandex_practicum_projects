{
 "cells": [
  {
   "cell_type": "markdown",
   "metadata": {
    "toc": true
   },
   "source": [
    "<h1>Содержание<span class=\"tocSkip\"></span></h1>\n",
    "<div class=\"toc\"><ul class=\"toc-item\"><li><span><a href=\"#Подготовка-данных\" data-toc-modified-id=\"Подготовка-данных-1\"><span class=\"toc-item-num\">1&nbsp;&nbsp;</span>Подготовка данных</a></span></li><li><span><a href=\"#Исследование-задачи\" data-toc-modified-id=\"Исследование-задачи-2\"><span class=\"toc-item-num\">2&nbsp;&nbsp;</span>Исследование задачи</a></span></li><li><span><a href=\"#Борьба-с-дисбалансом\" data-toc-modified-id=\"Борьба-с-дисбалансом-3\"><span class=\"toc-item-num\">3&nbsp;&nbsp;</span>Борьба с дисбалансом</a></span><ul class=\"toc-item\"><li><span><a href=\"#upsampling\" data-toc-modified-id=\"upsampling-3.1\"><span class=\"toc-item-num\">3.1&nbsp;&nbsp;</span>upsampling</a></span></li><li><span><a href=\"#downsampling\" data-toc-modified-id=\"downsampling-3.2\"><span class=\"toc-item-num\">3.2&nbsp;&nbsp;</span>downsampling</a></span></li></ul></li><li><span><a href=\"#Тестирование-модели\" data-toc-modified-id=\"Тестирование-модели-4\"><span class=\"toc-item-num\">4&nbsp;&nbsp;</span>Тестирование модели</a></span></li><li><span><a href=\"#Чек-лист-готовности-проекта\" data-toc-modified-id=\"Чек-лист-готовности-проекта-5\"><span class=\"toc-item-num\">5&nbsp;&nbsp;</span>Чек-лист готовности проекта</a></span></li></ul></div>"
   ]
  },
  {
   "cell_type": "markdown",
   "metadata": {},
   "source": [
    "# Отток клиентов"
   ]
  },
  {
   "cell_type": "markdown",
   "metadata": {},
   "source": [
    "Из «Бета-Банка» стали уходить клиенты. Каждый месяц. Немного, но заметно. Банковские маркетологи посчитали: сохранять текущих клиентов дешевле, чем привлекать новых.\n",
    "\n",
    "Нужно спрогнозировать, уйдёт клиент из банка в ближайшее время или нет. Вам предоставлены исторические данные о поведении клиентов и расторжении договоров с банком. \n",
    "\n",
    "Постройте модель с предельно большим значением *F1*-меры. Чтобы сдать проект успешно, нужно довести метрику до 0.59. Проверьте *F1*-меру на тестовой выборке самостоятельно.\n",
    "\n",
    "Дополнительно измеряйте *AUC-ROC*, сравнивайте её значение с *F1*-мерой.\n",
    "\n",
    "Источник данных: [https://www.kaggle.com/barelydedicated/bank-customer-churn-modeling](https://www.kaggle.com/barelydedicated/bank-customer-churn-modeling)"
   ]
  },
  {
   "cell_type": "markdown",
   "metadata": {},
   "source": [
    "Так как задача состоит в том, чтобы мы предсказали уйдет ли клиент или нет, то перед нами стоит задача классификации"
   ]
  },
  {
   "cell_type": "markdown",
   "metadata": {},
   "source": [
    "## Подготовка данных"
   ]
  },
  {
   "cell_type": "code",
   "execution_count": 1,
   "metadata": {},
   "outputs": [],
   "source": [
    "import pandas as pd\n",
    "from sklearn.model_selection import train_test_split\n",
    "from sklearn.linear_model import LogisticRegression\n",
    "from sklearn.tree import DecisionTreeClassifier\n",
    "from sklearn.ensemble import RandomForestClassifier\n",
    "from sklearn.metrics import f1_score, roc_auc_score, roc_curve, auc\n",
    "from sklearn.preprocessing import StandardScaler\n",
    "from sklearn.utils import shuffle\n",
    "import matplotlib.pyplot as plt\n",
    "\n",
    "df = pd.read_csv('/datasets/Churn.csv')"
   ]
  },
  {
   "cell_type": "code",
   "execution_count": 2,
   "metadata": {},
   "outputs": [
    {
     "data": {
      "text/html": [
       "<div>\n",
       "<style scoped>\n",
       "    .dataframe tbody tr th:only-of-type {\n",
       "        vertical-align: middle;\n",
       "    }\n",
       "\n",
       "    .dataframe tbody tr th {\n",
       "        vertical-align: top;\n",
       "    }\n",
       "\n",
       "    .dataframe thead th {\n",
       "        text-align: right;\n",
       "    }\n",
       "</style>\n",
       "<table border=\"1\" class=\"dataframe\">\n",
       "  <thead>\n",
       "    <tr style=\"text-align: right;\">\n",
       "      <th></th>\n",
       "      <th>RowNumber</th>\n",
       "      <th>CustomerId</th>\n",
       "      <th>Surname</th>\n",
       "      <th>CreditScore</th>\n",
       "      <th>Geography</th>\n",
       "      <th>Gender</th>\n",
       "      <th>Age</th>\n",
       "      <th>Tenure</th>\n",
       "      <th>Balance</th>\n",
       "      <th>NumOfProducts</th>\n",
       "      <th>HasCrCard</th>\n",
       "      <th>IsActiveMember</th>\n",
       "      <th>EstimatedSalary</th>\n",
       "      <th>Exited</th>\n",
       "    </tr>\n",
       "  </thead>\n",
       "  <tbody>\n",
       "    <tr>\n",
       "      <th>0</th>\n",
       "      <td>1</td>\n",
       "      <td>15634602</td>\n",
       "      <td>Hargrave</td>\n",
       "      <td>619</td>\n",
       "      <td>France</td>\n",
       "      <td>Female</td>\n",
       "      <td>42</td>\n",
       "      <td>2.0</td>\n",
       "      <td>0.00</td>\n",
       "      <td>1</td>\n",
       "      <td>1</td>\n",
       "      <td>1</td>\n",
       "      <td>101348.88</td>\n",
       "      <td>1</td>\n",
       "    </tr>\n",
       "    <tr>\n",
       "      <th>1</th>\n",
       "      <td>2</td>\n",
       "      <td>15647311</td>\n",
       "      <td>Hill</td>\n",
       "      <td>608</td>\n",
       "      <td>Spain</td>\n",
       "      <td>Female</td>\n",
       "      <td>41</td>\n",
       "      <td>1.0</td>\n",
       "      <td>83807.86</td>\n",
       "      <td>1</td>\n",
       "      <td>0</td>\n",
       "      <td>1</td>\n",
       "      <td>112542.58</td>\n",
       "      <td>0</td>\n",
       "    </tr>\n",
       "    <tr>\n",
       "      <th>2</th>\n",
       "      <td>3</td>\n",
       "      <td>15619304</td>\n",
       "      <td>Onio</td>\n",
       "      <td>502</td>\n",
       "      <td>France</td>\n",
       "      <td>Female</td>\n",
       "      <td>42</td>\n",
       "      <td>8.0</td>\n",
       "      <td>159660.80</td>\n",
       "      <td>3</td>\n",
       "      <td>1</td>\n",
       "      <td>0</td>\n",
       "      <td>113931.57</td>\n",
       "      <td>1</td>\n",
       "    </tr>\n",
       "    <tr>\n",
       "      <th>3</th>\n",
       "      <td>4</td>\n",
       "      <td>15701354</td>\n",
       "      <td>Boni</td>\n",
       "      <td>699</td>\n",
       "      <td>France</td>\n",
       "      <td>Female</td>\n",
       "      <td>39</td>\n",
       "      <td>1.0</td>\n",
       "      <td>0.00</td>\n",
       "      <td>2</td>\n",
       "      <td>0</td>\n",
       "      <td>0</td>\n",
       "      <td>93826.63</td>\n",
       "      <td>0</td>\n",
       "    </tr>\n",
       "    <tr>\n",
       "      <th>4</th>\n",
       "      <td>5</td>\n",
       "      <td>15737888</td>\n",
       "      <td>Mitchell</td>\n",
       "      <td>850</td>\n",
       "      <td>Spain</td>\n",
       "      <td>Female</td>\n",
       "      <td>43</td>\n",
       "      <td>2.0</td>\n",
       "      <td>125510.82</td>\n",
       "      <td>1</td>\n",
       "      <td>1</td>\n",
       "      <td>1</td>\n",
       "      <td>79084.10</td>\n",
       "      <td>0</td>\n",
       "    </tr>\n",
       "    <tr>\n",
       "      <th>...</th>\n",
       "      <td>...</td>\n",
       "      <td>...</td>\n",
       "      <td>...</td>\n",
       "      <td>...</td>\n",
       "      <td>...</td>\n",
       "      <td>...</td>\n",
       "      <td>...</td>\n",
       "      <td>...</td>\n",
       "      <td>...</td>\n",
       "      <td>...</td>\n",
       "      <td>...</td>\n",
       "      <td>...</td>\n",
       "      <td>...</td>\n",
       "      <td>...</td>\n",
       "    </tr>\n",
       "    <tr>\n",
       "      <th>9995</th>\n",
       "      <td>9996</td>\n",
       "      <td>15606229</td>\n",
       "      <td>Obijiaku</td>\n",
       "      <td>771</td>\n",
       "      <td>France</td>\n",
       "      <td>Male</td>\n",
       "      <td>39</td>\n",
       "      <td>5.0</td>\n",
       "      <td>0.00</td>\n",
       "      <td>2</td>\n",
       "      <td>1</td>\n",
       "      <td>0</td>\n",
       "      <td>96270.64</td>\n",
       "      <td>0</td>\n",
       "    </tr>\n",
       "    <tr>\n",
       "      <th>9996</th>\n",
       "      <td>9997</td>\n",
       "      <td>15569892</td>\n",
       "      <td>Johnstone</td>\n",
       "      <td>516</td>\n",
       "      <td>France</td>\n",
       "      <td>Male</td>\n",
       "      <td>35</td>\n",
       "      <td>10.0</td>\n",
       "      <td>57369.61</td>\n",
       "      <td>1</td>\n",
       "      <td>1</td>\n",
       "      <td>1</td>\n",
       "      <td>101699.77</td>\n",
       "      <td>0</td>\n",
       "    </tr>\n",
       "    <tr>\n",
       "      <th>9997</th>\n",
       "      <td>9998</td>\n",
       "      <td>15584532</td>\n",
       "      <td>Liu</td>\n",
       "      <td>709</td>\n",
       "      <td>France</td>\n",
       "      <td>Female</td>\n",
       "      <td>36</td>\n",
       "      <td>7.0</td>\n",
       "      <td>0.00</td>\n",
       "      <td>1</td>\n",
       "      <td>0</td>\n",
       "      <td>1</td>\n",
       "      <td>42085.58</td>\n",
       "      <td>1</td>\n",
       "    </tr>\n",
       "    <tr>\n",
       "      <th>9998</th>\n",
       "      <td>9999</td>\n",
       "      <td>15682355</td>\n",
       "      <td>Sabbatini</td>\n",
       "      <td>772</td>\n",
       "      <td>Germany</td>\n",
       "      <td>Male</td>\n",
       "      <td>42</td>\n",
       "      <td>3.0</td>\n",
       "      <td>75075.31</td>\n",
       "      <td>2</td>\n",
       "      <td>1</td>\n",
       "      <td>0</td>\n",
       "      <td>92888.52</td>\n",
       "      <td>1</td>\n",
       "    </tr>\n",
       "    <tr>\n",
       "      <th>9999</th>\n",
       "      <td>10000</td>\n",
       "      <td>15628319</td>\n",
       "      <td>Walker</td>\n",
       "      <td>792</td>\n",
       "      <td>France</td>\n",
       "      <td>Female</td>\n",
       "      <td>28</td>\n",
       "      <td>NaN</td>\n",
       "      <td>130142.79</td>\n",
       "      <td>1</td>\n",
       "      <td>1</td>\n",
       "      <td>0</td>\n",
       "      <td>38190.78</td>\n",
       "      <td>0</td>\n",
       "    </tr>\n",
       "  </tbody>\n",
       "</table>\n",
       "<p>10000 rows × 14 columns</p>\n",
       "</div>"
      ],
      "text/plain": [
       "      RowNumber  CustomerId    Surname  CreditScore Geography  Gender  Age  \\\n",
       "0             1    15634602   Hargrave          619    France  Female   42   \n",
       "1             2    15647311       Hill          608     Spain  Female   41   \n",
       "2             3    15619304       Onio          502    France  Female   42   \n",
       "3             4    15701354       Boni          699    France  Female   39   \n",
       "4             5    15737888   Mitchell          850     Spain  Female   43   \n",
       "...         ...         ...        ...          ...       ...     ...  ...   \n",
       "9995       9996    15606229   Obijiaku          771    France    Male   39   \n",
       "9996       9997    15569892  Johnstone          516    France    Male   35   \n",
       "9997       9998    15584532        Liu          709    France  Female   36   \n",
       "9998       9999    15682355  Sabbatini          772   Germany    Male   42   \n",
       "9999      10000    15628319     Walker          792    France  Female   28   \n",
       "\n",
       "      Tenure    Balance  NumOfProducts  HasCrCard  IsActiveMember  \\\n",
       "0        2.0       0.00              1          1               1   \n",
       "1        1.0   83807.86              1          0               1   \n",
       "2        8.0  159660.80              3          1               0   \n",
       "3        1.0       0.00              2          0               0   \n",
       "4        2.0  125510.82              1          1               1   \n",
       "...      ...        ...            ...        ...             ...   \n",
       "9995     5.0       0.00              2          1               0   \n",
       "9996    10.0   57369.61              1          1               1   \n",
       "9997     7.0       0.00              1          0               1   \n",
       "9998     3.0   75075.31              2          1               0   \n",
       "9999     NaN  130142.79              1          1               0   \n",
       "\n",
       "      EstimatedSalary  Exited  \n",
       "0           101348.88       1  \n",
       "1           112542.58       0  \n",
       "2           113931.57       1  \n",
       "3            93826.63       0  \n",
       "4            79084.10       0  \n",
       "...               ...     ...  \n",
       "9995         96270.64       0  \n",
       "9996        101699.77       0  \n",
       "9997         42085.58       1  \n",
       "9998         92888.52       1  \n",
       "9999         38190.78       0  \n",
       "\n",
       "[10000 rows x 14 columns]"
      ]
     },
     "metadata": {},
     "output_type": "display_data"
    },
    {
     "name": "stdout",
     "output_type": "stream",
     "text": [
      "<class 'pandas.core.frame.DataFrame'>\n",
      "RangeIndex: 10000 entries, 0 to 9999\n",
      "Data columns (total 14 columns):\n",
      " #   Column           Non-Null Count  Dtype  \n",
      "---  ------           --------------  -----  \n",
      " 0   RowNumber        10000 non-null  int64  \n",
      " 1   CustomerId       10000 non-null  int64  \n",
      " 2   Surname          10000 non-null  object \n",
      " 3   CreditScore      10000 non-null  int64  \n",
      " 4   Geography        10000 non-null  object \n",
      " 5   Gender           10000 non-null  object \n",
      " 6   Age              10000 non-null  int64  \n",
      " 7   Tenure           9091 non-null   float64\n",
      " 8   Balance          10000 non-null  float64\n",
      " 9   NumOfProducts    10000 non-null  int64  \n",
      " 10  HasCrCard        10000 non-null  int64  \n",
      " 11  IsActiveMember   10000 non-null  int64  \n",
      " 12  EstimatedSalary  10000 non-null  float64\n",
      " 13  Exited           10000 non-null  int64  \n",
      "dtypes: float64(3), int64(8), object(3)\n",
      "memory usage: 1.1+ MB\n"
     ]
    }
   ],
   "source": [
    "display(df)\n",
    "df.info()"
   ]
  },
  {
   "cell_type": "markdown",
   "metadata": {},
   "source": [
    "Для начала, названия столбцов переведем в змеиный регистр для лучшей читабельности. \n",
    "Далее, как можно заметить, в столбце Tenure 909 строк с NaN. Для упрощения дальнейшей работы, удалим их.\n",
    "Также, стоит изменить тип стобца tenure с float на int, потому что в этом стобце нет значений, которым не подошел бы int (float здесь не нужен)"
   ]
  },
  {
   "cell_type": "code",
   "execution_count": 3,
   "metadata": {},
   "outputs": [
    {
     "data": {
      "text/html": [
       "<div>\n",
       "<style scoped>\n",
       "    .dataframe tbody tr th:only-of-type {\n",
       "        vertical-align: middle;\n",
       "    }\n",
       "\n",
       "    .dataframe tbody tr th {\n",
       "        vertical-align: top;\n",
       "    }\n",
       "\n",
       "    .dataframe thead th {\n",
       "        text-align: right;\n",
       "    }\n",
       "</style>\n",
       "<table border=\"1\" class=\"dataframe\">\n",
       "  <thead>\n",
       "    <tr style=\"text-align: right;\">\n",
       "      <th></th>\n",
       "      <th>row_number</th>\n",
       "      <th>customer_id</th>\n",
       "      <th>surname</th>\n",
       "      <th>credit_score</th>\n",
       "      <th>geography</th>\n",
       "      <th>gender</th>\n",
       "      <th>age</th>\n",
       "      <th>tenure</th>\n",
       "      <th>balance</th>\n",
       "      <th>num_of_products</th>\n",
       "      <th>has_cr_card</th>\n",
       "      <th>is_active_member</th>\n",
       "      <th>estimated_salary</th>\n",
       "      <th>exited</th>\n",
       "    </tr>\n",
       "  </thead>\n",
       "  <tbody>\n",
       "    <tr>\n",
       "      <th>0</th>\n",
       "      <td>1</td>\n",
       "      <td>15634602</td>\n",
       "      <td>Hargrave</td>\n",
       "      <td>619</td>\n",
       "      <td>France</td>\n",
       "      <td>Female</td>\n",
       "      <td>42</td>\n",
       "      <td>2</td>\n",
       "      <td>0.00</td>\n",
       "      <td>1</td>\n",
       "      <td>1</td>\n",
       "      <td>1</td>\n",
       "      <td>101348.88</td>\n",
       "      <td>1</td>\n",
       "    </tr>\n",
       "    <tr>\n",
       "      <th>1</th>\n",
       "      <td>2</td>\n",
       "      <td>15647311</td>\n",
       "      <td>Hill</td>\n",
       "      <td>608</td>\n",
       "      <td>Spain</td>\n",
       "      <td>Female</td>\n",
       "      <td>41</td>\n",
       "      <td>1</td>\n",
       "      <td>83807.86</td>\n",
       "      <td>1</td>\n",
       "      <td>0</td>\n",
       "      <td>1</td>\n",
       "      <td>112542.58</td>\n",
       "      <td>0</td>\n",
       "    </tr>\n",
       "    <tr>\n",
       "      <th>2</th>\n",
       "      <td>3</td>\n",
       "      <td>15619304</td>\n",
       "      <td>Onio</td>\n",
       "      <td>502</td>\n",
       "      <td>France</td>\n",
       "      <td>Female</td>\n",
       "      <td>42</td>\n",
       "      <td>8</td>\n",
       "      <td>159660.80</td>\n",
       "      <td>3</td>\n",
       "      <td>1</td>\n",
       "      <td>0</td>\n",
       "      <td>113931.57</td>\n",
       "      <td>1</td>\n",
       "    </tr>\n",
       "    <tr>\n",
       "      <th>3</th>\n",
       "      <td>4</td>\n",
       "      <td>15701354</td>\n",
       "      <td>Boni</td>\n",
       "      <td>699</td>\n",
       "      <td>France</td>\n",
       "      <td>Female</td>\n",
       "      <td>39</td>\n",
       "      <td>1</td>\n",
       "      <td>0.00</td>\n",
       "      <td>2</td>\n",
       "      <td>0</td>\n",
       "      <td>0</td>\n",
       "      <td>93826.63</td>\n",
       "      <td>0</td>\n",
       "    </tr>\n",
       "    <tr>\n",
       "      <th>4</th>\n",
       "      <td>5</td>\n",
       "      <td>15737888</td>\n",
       "      <td>Mitchell</td>\n",
       "      <td>850</td>\n",
       "      <td>Spain</td>\n",
       "      <td>Female</td>\n",
       "      <td>43</td>\n",
       "      <td>2</td>\n",
       "      <td>125510.82</td>\n",
       "      <td>1</td>\n",
       "      <td>1</td>\n",
       "      <td>1</td>\n",
       "      <td>79084.10</td>\n",
       "      <td>0</td>\n",
       "    </tr>\n",
       "    <tr>\n",
       "      <th>...</th>\n",
       "      <td>...</td>\n",
       "      <td>...</td>\n",
       "      <td>...</td>\n",
       "      <td>...</td>\n",
       "      <td>...</td>\n",
       "      <td>...</td>\n",
       "      <td>...</td>\n",
       "      <td>...</td>\n",
       "      <td>...</td>\n",
       "      <td>...</td>\n",
       "      <td>...</td>\n",
       "      <td>...</td>\n",
       "      <td>...</td>\n",
       "      <td>...</td>\n",
       "    </tr>\n",
       "    <tr>\n",
       "      <th>9994</th>\n",
       "      <td>9995</td>\n",
       "      <td>15719294</td>\n",
       "      <td>Wood</td>\n",
       "      <td>800</td>\n",
       "      <td>France</td>\n",
       "      <td>Female</td>\n",
       "      <td>29</td>\n",
       "      <td>2</td>\n",
       "      <td>0.00</td>\n",
       "      <td>2</td>\n",
       "      <td>0</td>\n",
       "      <td>0</td>\n",
       "      <td>167773.55</td>\n",
       "      <td>0</td>\n",
       "    </tr>\n",
       "    <tr>\n",
       "      <th>9995</th>\n",
       "      <td>9996</td>\n",
       "      <td>15606229</td>\n",
       "      <td>Obijiaku</td>\n",
       "      <td>771</td>\n",
       "      <td>France</td>\n",
       "      <td>Male</td>\n",
       "      <td>39</td>\n",
       "      <td>5</td>\n",
       "      <td>0.00</td>\n",
       "      <td>2</td>\n",
       "      <td>1</td>\n",
       "      <td>0</td>\n",
       "      <td>96270.64</td>\n",
       "      <td>0</td>\n",
       "    </tr>\n",
       "    <tr>\n",
       "      <th>9996</th>\n",
       "      <td>9997</td>\n",
       "      <td>15569892</td>\n",
       "      <td>Johnstone</td>\n",
       "      <td>516</td>\n",
       "      <td>France</td>\n",
       "      <td>Male</td>\n",
       "      <td>35</td>\n",
       "      <td>10</td>\n",
       "      <td>57369.61</td>\n",
       "      <td>1</td>\n",
       "      <td>1</td>\n",
       "      <td>1</td>\n",
       "      <td>101699.77</td>\n",
       "      <td>0</td>\n",
       "    </tr>\n",
       "    <tr>\n",
       "      <th>9997</th>\n",
       "      <td>9998</td>\n",
       "      <td>15584532</td>\n",
       "      <td>Liu</td>\n",
       "      <td>709</td>\n",
       "      <td>France</td>\n",
       "      <td>Female</td>\n",
       "      <td>36</td>\n",
       "      <td>7</td>\n",
       "      <td>0.00</td>\n",
       "      <td>1</td>\n",
       "      <td>0</td>\n",
       "      <td>1</td>\n",
       "      <td>42085.58</td>\n",
       "      <td>1</td>\n",
       "    </tr>\n",
       "    <tr>\n",
       "      <th>9998</th>\n",
       "      <td>9999</td>\n",
       "      <td>15682355</td>\n",
       "      <td>Sabbatini</td>\n",
       "      <td>772</td>\n",
       "      <td>Germany</td>\n",
       "      <td>Male</td>\n",
       "      <td>42</td>\n",
       "      <td>3</td>\n",
       "      <td>75075.31</td>\n",
       "      <td>2</td>\n",
       "      <td>1</td>\n",
       "      <td>0</td>\n",
       "      <td>92888.52</td>\n",
       "      <td>1</td>\n",
       "    </tr>\n",
       "  </tbody>\n",
       "</table>\n",
       "<p>9091 rows × 14 columns</p>\n",
       "</div>"
      ],
      "text/plain": [
       "      row_number  customer_id    surname  credit_score geography  gender  age  \\\n",
       "0              1     15634602   Hargrave           619    France  Female   42   \n",
       "1              2     15647311       Hill           608     Spain  Female   41   \n",
       "2              3     15619304       Onio           502    France  Female   42   \n",
       "3              4     15701354       Boni           699    France  Female   39   \n",
       "4              5     15737888   Mitchell           850     Spain  Female   43   \n",
       "...          ...          ...        ...           ...       ...     ...  ...   \n",
       "9994        9995     15719294       Wood           800    France  Female   29   \n",
       "9995        9996     15606229   Obijiaku           771    France    Male   39   \n",
       "9996        9997     15569892  Johnstone           516    France    Male   35   \n",
       "9997        9998     15584532        Liu           709    France  Female   36   \n",
       "9998        9999     15682355  Sabbatini           772   Germany    Male   42   \n",
       "\n",
       "      tenure    balance  num_of_products  has_cr_card  is_active_member  \\\n",
       "0          2       0.00                1            1                 1   \n",
       "1          1   83807.86                1            0                 1   \n",
       "2          8  159660.80                3            1                 0   \n",
       "3          1       0.00                2            0                 0   \n",
       "4          2  125510.82                1            1                 1   \n",
       "...      ...        ...              ...          ...               ...   \n",
       "9994       2       0.00                2            0                 0   \n",
       "9995       5       0.00                2            1                 0   \n",
       "9996      10   57369.61                1            1                 1   \n",
       "9997       7       0.00                1            0                 1   \n",
       "9998       3   75075.31                2            1                 0   \n",
       "\n",
       "      estimated_salary  exited  \n",
       "0            101348.88       1  \n",
       "1            112542.58       0  \n",
       "2            113931.57       1  \n",
       "3             93826.63       0  \n",
       "4             79084.10       0  \n",
       "...                ...     ...  \n",
       "9994         167773.55       0  \n",
       "9995          96270.64       0  \n",
       "9996         101699.77       0  \n",
       "9997          42085.58       1  \n",
       "9998          92888.52       1  \n",
       "\n",
       "[9091 rows x 14 columns]"
      ]
     },
     "metadata": {},
     "output_type": "display_data"
    }
   ],
   "source": [
    "df.columns = ['row_number', 'customer_id', 'surname', 'credit_score', 'geography', 'gender', 'age', \\\n",
    "              'tenure', 'balance', 'num_of_products', 'has_cr_card', 'is_active_member', 'estimated_salary', 'exited']\n",
    "\n",
    "df.dropna(subset=['tenure'], inplace=True)\n",
    "df['tenure'] = df['tenure'].astype(int)\n",
    "display(df)"
   ]
  },
  {
   "cell_type": "code",
   "execution_count": 4,
   "metadata": {},
   "outputs": [
    {
     "name": "stdout",
     "output_type": "stream",
     "text": [
      "(5454, 11)\n",
      "(1819, 11)\n",
      "(1818, 11)\n",
      "(5454,)\n",
      "(1819,)\n"
     ]
    },
    {
     "data": {
      "text/plain": [
       "(1818,)"
      ]
     },
     "execution_count": 4,
     "metadata": {},
     "output_type": "execute_result"
    }
   ],
   "source": [
    "\n",
    "features = df.drop(['row_number', 'customer_id', 'surname', 'exited'], axis=1) \n",
    "target = df['exited']\n",
    "features['geography'] = features['geography'].str.lower()\n",
    "features['gender'] = features['gender'].str.lower()\n",
    "\n",
    "features = pd.get_dummies(features, drop_first=True)\n",
    "\n",
    "features_train, features_valid, target_train, target_valid = train_test_split(features, target, \\\n",
    "                                                                              test_size=0.20, random_state=12345)\n",
    "features_train, features_test, target_train, target_test = train_test_split(features_train, target_train, \\\n",
    "                                                                            test_size=0.25, random_state=12345)\n",
    "\n",
    "print(features_train.shape)\n",
    "print(features_valid.shape)\n",
    "print(features_test.shape)\n",
    "print(target_train.shape)\n",
    "print(target_valid.shape)\n",
    "target_test.shape\n",
    "\n"
   ]
  },
  {
   "cell_type": "markdown",
   "metadata": {},
   "source": [
    "Выделяем feature и target для дальнейших тренировок моделей. Соотношение буде 3:1:1 (тренировочная выборка:валидационная:тестовая). Стобцы 'row_number', 'customer_id', 'surname' нам для тренировки модели не нужны, поэтому добавлять их во features нет смысла.\n",
    "\n",
    "Проверяем верно ли всё разбили путем беглого осмотра features и target."
   ]
  },
  {
   "cell_type": "code",
   "execution_count": 5,
   "metadata": {},
   "outputs": [
    {
     "data": {
      "text/html": [
       "<div>\n",
       "<style scoped>\n",
       "    .dataframe tbody tr th:only-of-type {\n",
       "        vertical-align: middle;\n",
       "    }\n",
       "\n",
       "    .dataframe tbody tr th {\n",
       "        vertical-align: top;\n",
       "    }\n",
       "\n",
       "    .dataframe thead th {\n",
       "        text-align: right;\n",
       "    }\n",
       "</style>\n",
       "<table border=\"1\" class=\"dataframe\">\n",
       "  <thead>\n",
       "    <tr style=\"text-align: right;\">\n",
       "      <th></th>\n",
       "      <th>credit_score</th>\n",
       "      <th>age</th>\n",
       "      <th>tenure</th>\n",
       "      <th>balance</th>\n",
       "      <th>num_of_products</th>\n",
       "      <th>has_cr_card</th>\n",
       "      <th>is_active_member</th>\n",
       "      <th>estimated_salary</th>\n",
       "      <th>geography_germany</th>\n",
       "      <th>geography_spain</th>\n",
       "      <th>gender_male</th>\n",
       "    </tr>\n",
       "  </thead>\n",
       "  <tbody>\n",
       "    <tr>\n",
       "      <th>0</th>\n",
       "      <td>619</td>\n",
       "      <td>42</td>\n",
       "      <td>2</td>\n",
       "      <td>0.00</td>\n",
       "      <td>1</td>\n",
       "      <td>1</td>\n",
       "      <td>1</td>\n",
       "      <td>101348.88</td>\n",
       "      <td>0</td>\n",
       "      <td>0</td>\n",
       "      <td>0</td>\n",
       "    </tr>\n",
       "    <tr>\n",
       "      <th>1</th>\n",
       "      <td>608</td>\n",
       "      <td>41</td>\n",
       "      <td>1</td>\n",
       "      <td>83807.86</td>\n",
       "      <td>1</td>\n",
       "      <td>0</td>\n",
       "      <td>1</td>\n",
       "      <td>112542.58</td>\n",
       "      <td>0</td>\n",
       "      <td>1</td>\n",
       "      <td>0</td>\n",
       "    </tr>\n",
       "    <tr>\n",
       "      <th>2</th>\n",
       "      <td>502</td>\n",
       "      <td>42</td>\n",
       "      <td>8</td>\n",
       "      <td>159660.80</td>\n",
       "      <td>3</td>\n",
       "      <td>1</td>\n",
       "      <td>0</td>\n",
       "      <td>113931.57</td>\n",
       "      <td>0</td>\n",
       "      <td>0</td>\n",
       "      <td>0</td>\n",
       "    </tr>\n",
       "    <tr>\n",
       "      <th>3</th>\n",
       "      <td>699</td>\n",
       "      <td>39</td>\n",
       "      <td>1</td>\n",
       "      <td>0.00</td>\n",
       "      <td>2</td>\n",
       "      <td>0</td>\n",
       "      <td>0</td>\n",
       "      <td>93826.63</td>\n",
       "      <td>0</td>\n",
       "      <td>0</td>\n",
       "      <td>0</td>\n",
       "    </tr>\n",
       "    <tr>\n",
       "      <th>4</th>\n",
       "      <td>850</td>\n",
       "      <td>43</td>\n",
       "      <td>2</td>\n",
       "      <td>125510.82</td>\n",
       "      <td>1</td>\n",
       "      <td>1</td>\n",
       "      <td>1</td>\n",
       "      <td>79084.10</td>\n",
       "      <td>0</td>\n",
       "      <td>1</td>\n",
       "      <td>0</td>\n",
       "    </tr>\n",
       "    <tr>\n",
       "      <th>...</th>\n",
       "      <td>...</td>\n",
       "      <td>...</td>\n",
       "      <td>...</td>\n",
       "      <td>...</td>\n",
       "      <td>...</td>\n",
       "      <td>...</td>\n",
       "      <td>...</td>\n",
       "      <td>...</td>\n",
       "      <td>...</td>\n",
       "      <td>...</td>\n",
       "      <td>...</td>\n",
       "    </tr>\n",
       "    <tr>\n",
       "      <th>9994</th>\n",
       "      <td>800</td>\n",
       "      <td>29</td>\n",
       "      <td>2</td>\n",
       "      <td>0.00</td>\n",
       "      <td>2</td>\n",
       "      <td>0</td>\n",
       "      <td>0</td>\n",
       "      <td>167773.55</td>\n",
       "      <td>0</td>\n",
       "      <td>0</td>\n",
       "      <td>0</td>\n",
       "    </tr>\n",
       "    <tr>\n",
       "      <th>9995</th>\n",
       "      <td>771</td>\n",
       "      <td>39</td>\n",
       "      <td>5</td>\n",
       "      <td>0.00</td>\n",
       "      <td>2</td>\n",
       "      <td>1</td>\n",
       "      <td>0</td>\n",
       "      <td>96270.64</td>\n",
       "      <td>0</td>\n",
       "      <td>0</td>\n",
       "      <td>1</td>\n",
       "    </tr>\n",
       "    <tr>\n",
       "      <th>9996</th>\n",
       "      <td>516</td>\n",
       "      <td>35</td>\n",
       "      <td>10</td>\n",
       "      <td>57369.61</td>\n",
       "      <td>1</td>\n",
       "      <td>1</td>\n",
       "      <td>1</td>\n",
       "      <td>101699.77</td>\n",
       "      <td>0</td>\n",
       "      <td>0</td>\n",
       "      <td>1</td>\n",
       "    </tr>\n",
       "    <tr>\n",
       "      <th>9997</th>\n",
       "      <td>709</td>\n",
       "      <td>36</td>\n",
       "      <td>7</td>\n",
       "      <td>0.00</td>\n",
       "      <td>1</td>\n",
       "      <td>0</td>\n",
       "      <td>1</td>\n",
       "      <td>42085.58</td>\n",
       "      <td>0</td>\n",
       "      <td>0</td>\n",
       "      <td>0</td>\n",
       "    </tr>\n",
       "    <tr>\n",
       "      <th>9998</th>\n",
       "      <td>772</td>\n",
       "      <td>42</td>\n",
       "      <td>3</td>\n",
       "      <td>75075.31</td>\n",
       "      <td>2</td>\n",
       "      <td>1</td>\n",
       "      <td>0</td>\n",
       "      <td>92888.52</td>\n",
       "      <td>1</td>\n",
       "      <td>0</td>\n",
       "      <td>1</td>\n",
       "    </tr>\n",
       "  </tbody>\n",
       "</table>\n",
       "<p>9091 rows × 11 columns</p>\n",
       "</div>"
      ],
      "text/plain": [
       "      credit_score  age  tenure    balance  num_of_products  has_cr_card  \\\n",
       "0              619   42       2       0.00                1            1   \n",
       "1              608   41       1   83807.86                1            0   \n",
       "2              502   42       8  159660.80                3            1   \n",
       "3              699   39       1       0.00                2            0   \n",
       "4              850   43       2  125510.82                1            1   \n",
       "...            ...  ...     ...        ...              ...          ...   \n",
       "9994           800   29       2       0.00                2            0   \n",
       "9995           771   39       5       0.00                2            1   \n",
       "9996           516   35      10   57369.61                1            1   \n",
       "9997           709   36       7       0.00                1            0   \n",
       "9998           772   42       3   75075.31                2            1   \n",
       "\n",
       "      is_active_member  estimated_salary  geography_germany  geography_spain  \\\n",
       "0                    1         101348.88                  0                0   \n",
       "1                    1         112542.58                  0                1   \n",
       "2                    0         113931.57                  0                0   \n",
       "3                    0          93826.63                  0                0   \n",
       "4                    1          79084.10                  0                1   \n",
       "...                ...               ...                ...              ...   \n",
       "9994                 0         167773.55                  0                0   \n",
       "9995                 0          96270.64                  0                0   \n",
       "9996                 1         101699.77                  0                0   \n",
       "9997                 1          42085.58                  0                0   \n",
       "9998                 0          92888.52                  1                0   \n",
       "\n",
       "      gender_male  \n",
       "0               0  \n",
       "1               0  \n",
       "2               0  \n",
       "3               0  \n",
       "4               0  \n",
       "...           ...  \n",
       "9994            0  \n",
       "9995            1  \n",
       "9996            1  \n",
       "9997            0  \n",
       "9998            1  \n",
       "\n",
       "[9091 rows x 11 columns]"
      ]
     },
     "metadata": {},
     "output_type": "display_data"
    },
    {
     "data": {
      "text/plain": [
       "0       1\n",
       "1       0\n",
       "2       1\n",
       "3       0\n",
       "4       0\n",
       "       ..\n",
       "9994    0\n",
       "9995    0\n",
       "9996    0\n",
       "9997    1\n",
       "9998    1\n",
       "Name: exited, Length: 9091, dtype: int64"
      ]
     },
     "metadata": {},
     "output_type": "display_data"
    }
   ],
   "source": [
    "display(features)\n",
    "display(target)"
   ]
  },
  {
   "cell_type": "markdown",
   "metadata": {},
   "source": [
    "## Исследование задачи"
   ]
  },
  {
   "cell_type": "code",
   "execution_count": 6,
   "metadata": {},
   "outputs": [
    {
     "name": "stdout",
     "output_type": "stream",
     "text": [
      "Кол-во объектов класса 1 = 1854\n",
      "Кол-во объектов класса 0 = 7237\n"
     ]
    }
   ],
   "source": [
    "print('Кол-во объектов класса 1 =', target[target == 1].count())\n",
    "print('Кол-во объектов класса 0 =', target[target == 0].count())"
   ]
  },
  {
   "cell_type": "markdown",
   "metadata": {},
   "source": [
    "В датафрейме 20% объектов класса 1 и 80% объектов класса 0.\n",
    "Таким образом, мы наблюдаем дисбаланс классов в нашем датафрейме"
   ]
  },
  {
   "cell_type": "markdown",
   "metadata": {},
   "source": [
    "Также, в выборке наблюдается сильный разброс значений между признаками. Для исправления данного факта воспользуемся масштабированием признаков"
   ]
  },
  {
   "cell_type": "code",
   "execution_count": 7,
   "metadata": {},
   "outputs": [
    {
     "data": {
      "text/html": [
       "<div>\n",
       "<style scoped>\n",
       "    .dataframe tbody tr th:only-of-type {\n",
       "        vertical-align: middle;\n",
       "    }\n",
       "\n",
       "    .dataframe tbody tr th {\n",
       "        vertical-align: top;\n",
       "    }\n",
       "\n",
       "    .dataframe thead th {\n",
       "        text-align: right;\n",
       "    }\n",
       "</style>\n",
       "<table border=\"1\" class=\"dataframe\">\n",
       "  <thead>\n",
       "    <tr style=\"text-align: right;\">\n",
       "      <th></th>\n",
       "      <th>credit_score</th>\n",
       "      <th>age</th>\n",
       "      <th>tenure</th>\n",
       "      <th>balance</th>\n",
       "      <th>num_of_products</th>\n",
       "      <th>has_cr_card</th>\n",
       "      <th>is_active_member</th>\n",
       "      <th>estimated_salary</th>\n",
       "      <th>geography_germany</th>\n",
       "      <th>geography_spain</th>\n",
       "      <th>gender_male</th>\n",
       "    </tr>\n",
       "  </thead>\n",
       "  <tbody>\n",
       "    <tr>\n",
       "      <th>3706</th>\n",
       "      <td>-0.203819</td>\n",
       "      <td>0.471273</td>\n",
       "      <td>0.352316</td>\n",
       "      <td>0.786022</td>\n",
       "      <td>0.782369</td>\n",
       "      <td>0</td>\n",
       "      <td>0</td>\n",
       "      <td>-0.357205</td>\n",
       "      <td>0</td>\n",
       "      <td>1</td>\n",
       "      <td>0</td>\n",
       "    </tr>\n",
       "    <tr>\n",
       "      <th>6805</th>\n",
       "      <td>-0.357513</td>\n",
       "      <td>-0.384930</td>\n",
       "      <td>-1.373506</td>\n",
       "      <td>-1.230577</td>\n",
       "      <td>0.782369</td>\n",
       "      <td>1</td>\n",
       "      <td>1</td>\n",
       "      <td>-1.671048</td>\n",
       "      <td>0</td>\n",
       "      <td>0</td>\n",
       "      <td>0</td>\n",
       "    </tr>\n",
       "    <tr>\n",
       "      <th>4449</th>\n",
       "      <td>0.175290</td>\n",
       "      <td>-0.289797</td>\n",
       "      <td>-0.683177</td>\n",
       "      <td>-1.230577</td>\n",
       "      <td>0.782369</td>\n",
       "      <td>1</td>\n",
       "      <td>0</td>\n",
       "      <td>-1.119181</td>\n",
       "      <td>0</td>\n",
       "      <td>0</td>\n",
       "      <td>1</td>\n",
       "    </tr>\n",
       "    <tr>\n",
       "      <th>598</th>\n",
       "      <td>0.349476</td>\n",
       "      <td>1.708010</td>\n",
       "      <td>0.007151</td>\n",
       "      <td>1.379462</td>\n",
       "      <td>-0.914942</td>\n",
       "      <td>0</td>\n",
       "      <td>0</td>\n",
       "      <td>-1.569064</td>\n",
       "      <td>1</td>\n",
       "      <td>0</td>\n",
       "      <td>0</td>\n",
       "    </tr>\n",
       "    <tr>\n",
       "      <th>1845</th>\n",
       "      <td>0.902771</td>\n",
       "      <td>-0.289797</td>\n",
       "      <td>1.387809</td>\n",
       "      <td>-1.230577</td>\n",
       "      <td>-0.914942</td>\n",
       "      <td>0</td>\n",
       "      <td>1</td>\n",
       "      <td>1.543790</td>\n",
       "      <td>0</td>\n",
       "      <td>0</td>\n",
       "      <td>1</td>\n",
       "    </tr>\n",
       "    <tr>\n",
       "      <th>...</th>\n",
       "      <td>...</td>\n",
       "      <td>...</td>\n",
       "      <td>...</td>\n",
       "      <td>...</td>\n",
       "      <td>...</td>\n",
       "      <td>...</td>\n",
       "      <td>...</td>\n",
       "      <td>...</td>\n",
       "      <td>...</td>\n",
       "      <td>...</td>\n",
       "      <td>...</td>\n",
       "    </tr>\n",
       "    <tr>\n",
       "      <th>8706</th>\n",
       "      <td>2.060592</td>\n",
       "      <td>1.517743</td>\n",
       "      <td>0.697480</td>\n",
       "      <td>-1.230577</td>\n",
       "      <td>-0.914942</td>\n",
       "      <td>0</td>\n",
       "      <td>0</td>\n",
       "      <td>1.250491</td>\n",
       "      <td>0</td>\n",
       "      <td>1</td>\n",
       "      <td>0</td>\n",
       "    </tr>\n",
       "    <tr>\n",
       "      <th>113</th>\n",
       "      <td>0.267506</td>\n",
       "      <td>-0.289797</td>\n",
       "      <td>1.387809</td>\n",
       "      <td>0.475571</td>\n",
       "      <td>-0.914942</td>\n",
       "      <td>0</td>\n",
       "      <td>1</td>\n",
       "      <td>-1.330155</td>\n",
       "      <td>0</td>\n",
       "      <td>1</td>\n",
       "      <td>1</td>\n",
       "    </tr>\n",
       "    <tr>\n",
       "      <th>4961</th>\n",
       "      <td>0.410953</td>\n",
       "      <td>0.566406</td>\n",
       "      <td>-1.718671</td>\n",
       "      <td>0.860859</td>\n",
       "      <td>0.782369</td>\n",
       "      <td>1</td>\n",
       "      <td>0</td>\n",
       "      <td>0.887832</td>\n",
       "      <td>1</td>\n",
       "      <td>0</td>\n",
       "      <td>1</td>\n",
       "    </tr>\n",
       "    <tr>\n",
       "      <th>2403</th>\n",
       "      <td>-0.080865</td>\n",
       "      <td>-1.241133</td>\n",
       "      <td>-0.338013</td>\n",
       "      <td>0.240309</td>\n",
       "      <td>0.782369</td>\n",
       "      <td>0</td>\n",
       "      <td>1</td>\n",
       "      <td>-1.240594</td>\n",
       "      <td>0</td>\n",
       "      <td>0</td>\n",
       "      <td>0</td>\n",
       "    </tr>\n",
       "    <tr>\n",
       "      <th>208</th>\n",
       "      <td>-0.060373</td>\n",
       "      <td>0.566406</td>\n",
       "      <td>0.007151</td>\n",
       "      <td>-1.230577</td>\n",
       "      <td>-0.914942</td>\n",
       "      <td>1</td>\n",
       "      <td>0</td>\n",
       "      <td>0.743110</td>\n",
       "      <td>0</td>\n",
       "      <td>0</td>\n",
       "      <td>1</td>\n",
       "    </tr>\n",
       "  </tbody>\n",
       "</table>\n",
       "<p>5454 rows × 11 columns</p>\n",
       "</div>"
      ],
      "text/plain": [
       "      credit_score       age    tenure   balance  num_of_products  \\\n",
       "3706     -0.203819  0.471273  0.352316  0.786022         0.782369   \n",
       "6805     -0.357513 -0.384930 -1.373506 -1.230577         0.782369   \n",
       "4449      0.175290 -0.289797 -0.683177 -1.230577         0.782369   \n",
       "598       0.349476  1.708010  0.007151  1.379462        -0.914942   \n",
       "1845      0.902771 -0.289797  1.387809 -1.230577        -0.914942   \n",
       "...            ...       ...       ...       ...              ...   \n",
       "8706      2.060592  1.517743  0.697480 -1.230577        -0.914942   \n",
       "113       0.267506 -0.289797  1.387809  0.475571        -0.914942   \n",
       "4961      0.410953  0.566406 -1.718671  0.860859         0.782369   \n",
       "2403     -0.080865 -1.241133 -0.338013  0.240309         0.782369   \n",
       "208      -0.060373  0.566406  0.007151 -1.230577        -0.914942   \n",
       "\n",
       "      has_cr_card  is_active_member  estimated_salary  geography_germany  \\\n",
       "3706            0                 0         -0.357205                  0   \n",
       "6805            1                 1         -1.671048                  0   \n",
       "4449            1                 0         -1.119181                  0   \n",
       "598             0                 0         -1.569064                  1   \n",
       "1845            0                 1          1.543790                  0   \n",
       "...           ...               ...               ...                ...   \n",
       "8706            0                 0          1.250491                  0   \n",
       "113             0                 1         -1.330155                  0   \n",
       "4961            1                 0          0.887832                  1   \n",
       "2403            0                 1         -1.240594                  0   \n",
       "208             1                 0          0.743110                  0   \n",
       "\n",
       "      geography_spain  gender_male  \n",
       "3706                1            0  \n",
       "6805                0            0  \n",
       "4449                0            1  \n",
       "598                 0            0  \n",
       "1845                0            1  \n",
       "...               ...          ...  \n",
       "8706                1            0  \n",
       "113                 1            1  \n",
       "4961                0            1  \n",
       "2403                0            0  \n",
       "208                 0            1  \n",
       "\n",
       "[5454 rows x 11 columns]"
      ]
     },
     "metadata": {},
     "output_type": "display_data"
    },
    {
     "data": {
      "text/html": [
       "<div>\n",
       "<style scoped>\n",
       "    .dataframe tbody tr th:only-of-type {\n",
       "        vertical-align: middle;\n",
       "    }\n",
       "\n",
       "    .dataframe tbody tr th {\n",
       "        vertical-align: top;\n",
       "    }\n",
       "\n",
       "    .dataframe thead th {\n",
       "        text-align: right;\n",
       "    }\n",
       "</style>\n",
       "<table border=\"1\" class=\"dataframe\">\n",
       "  <thead>\n",
       "    <tr style=\"text-align: right;\">\n",
       "      <th></th>\n",
       "      <th>credit_score</th>\n",
       "      <th>age</th>\n",
       "      <th>tenure</th>\n",
       "      <th>balance</th>\n",
       "      <th>num_of_products</th>\n",
       "      <th>has_cr_card</th>\n",
       "      <th>is_active_member</th>\n",
       "      <th>estimated_salary</th>\n",
       "      <th>geography_germany</th>\n",
       "      <th>geography_spain</th>\n",
       "      <th>gender_male</th>\n",
       "    </tr>\n",
       "  </thead>\n",
       "  <tbody>\n",
       "    <tr>\n",
       "      <th>862</th>\n",
       "      <td>0.779816</td>\n",
       "      <td>0.185872</td>\n",
       "      <td>0.697480</td>\n",
       "      <td>0.600726</td>\n",
       "      <td>-0.914942</td>\n",
       "      <td>1</td>\n",
       "      <td>1</td>\n",
       "      <td>0.295405</td>\n",
       "      <td>0</td>\n",
       "      <td>0</td>\n",
       "      <td>1</td>\n",
       "    </tr>\n",
       "    <tr>\n",
       "      <th>9727</th>\n",
       "      <td>-1.218194</td>\n",
       "      <td>0.566406</td>\n",
       "      <td>-1.373506</td>\n",
       "      <td>-1.230577</td>\n",
       "      <td>-0.914942</td>\n",
       "      <td>0</td>\n",
       "      <td>1</td>\n",
       "      <td>1.578362</td>\n",
       "      <td>0</td>\n",
       "      <td>0</td>\n",
       "      <td>0</td>\n",
       "    </tr>\n",
       "    <tr>\n",
       "      <th>1717</th>\n",
       "      <td>0.595385</td>\n",
       "      <td>-0.384930</td>\n",
       "      <td>-0.683177</td>\n",
       "      <td>-0.319996</td>\n",
       "      <td>-0.914942</td>\n",
       "      <td>1</td>\n",
       "      <td>0</td>\n",
       "      <td>-1.417009</td>\n",
       "      <td>0</td>\n",
       "      <td>1</td>\n",
       "      <td>0</td>\n",
       "    </tr>\n",
       "    <tr>\n",
       "      <th>8640</th>\n",
       "      <td>0.831047</td>\n",
       "      <td>-0.670331</td>\n",
       "      <td>1.387809</td>\n",
       "      <td>0.820545</td>\n",
       "      <td>-0.914942</td>\n",
       "      <td>0</td>\n",
       "      <td>0</td>\n",
       "      <td>-0.672521</td>\n",
       "      <td>0</td>\n",
       "      <td>0</td>\n",
       "      <td>0</td>\n",
       "    </tr>\n",
       "    <tr>\n",
       "      <th>5288</th>\n",
       "      <td>-0.685391</td>\n",
       "      <td>-0.860599</td>\n",
       "      <td>-1.028342</td>\n",
       "      <td>-1.230577</td>\n",
       "      <td>0.782369</td>\n",
       "      <td>1</td>\n",
       "      <td>1</td>\n",
       "      <td>0.561255</td>\n",
       "      <td>0</td>\n",
       "      <td>0</td>\n",
       "      <td>1</td>\n",
       "    </tr>\n",
       "    <tr>\n",
       "      <th>...</th>\n",
       "      <td>...</td>\n",
       "      <td>...</td>\n",
       "      <td>...</td>\n",
       "      <td>...</td>\n",
       "      <td>...</td>\n",
       "      <td>...</td>\n",
       "      <td>...</td>\n",
       "      <td>...</td>\n",
       "      <td>...</td>\n",
       "      <td>...</td>\n",
       "      <td>...</td>\n",
       "    </tr>\n",
       "    <tr>\n",
       "      <th>7697</th>\n",
       "      <td>-0.490713</td>\n",
       "      <td>0.185872</td>\n",
       "      <td>-0.683177</td>\n",
       "      <td>-1.230577</td>\n",
       "      <td>0.782369</td>\n",
       "      <td>1</td>\n",
       "      <td>0</td>\n",
       "      <td>-0.786362</td>\n",
       "      <td>0</td>\n",
       "      <td>1</td>\n",
       "      <td>0</td>\n",
       "    </tr>\n",
       "    <tr>\n",
       "      <th>8323</th>\n",
       "      <td>0.646616</td>\n",
       "      <td>-0.860599</td>\n",
       "      <td>0.352316</td>\n",
       "      <td>-1.230577</td>\n",
       "      <td>0.782369</td>\n",
       "      <td>1</td>\n",
       "      <td>0</td>\n",
       "      <td>0.914921</td>\n",
       "      <td>0</td>\n",
       "      <td>1</td>\n",
       "      <td>0</td>\n",
       "    </tr>\n",
       "    <tr>\n",
       "      <th>3900</th>\n",
       "      <td>1.640498</td>\n",
       "      <td>-0.289797</td>\n",
       "      <td>1.387809</td>\n",
       "      <td>-0.123866</td>\n",
       "      <td>0.782369</td>\n",
       "      <td>0</td>\n",
       "      <td>1</td>\n",
       "      <td>0.164105</td>\n",
       "      <td>0</td>\n",
       "      <td>0</td>\n",
       "      <td>1</td>\n",
       "    </tr>\n",
       "    <tr>\n",
       "      <th>5474</th>\n",
       "      <td>0.021597</td>\n",
       "      <td>-0.480064</td>\n",
       "      <td>1.387809</td>\n",
       "      <td>-1.230577</td>\n",
       "      <td>0.782369</td>\n",
       "      <td>1</td>\n",
       "      <td>0</td>\n",
       "      <td>0.666789</td>\n",
       "      <td>0</td>\n",
       "      <td>0</td>\n",
       "      <td>0</td>\n",
       "    </tr>\n",
       "    <tr>\n",
       "      <th>1419</th>\n",
       "      <td>-1.166963</td>\n",
       "      <td>0.471273</td>\n",
       "      <td>-1.028342</td>\n",
       "      <td>0.607919</td>\n",
       "      <td>-0.914942</td>\n",
       "      <td>1</td>\n",
       "      <td>1</td>\n",
       "      <td>0.635852</td>\n",
       "      <td>0</td>\n",
       "      <td>0</td>\n",
       "      <td>0</td>\n",
       "    </tr>\n",
       "  </tbody>\n",
       "</table>\n",
       "<p>1819 rows × 11 columns</p>\n",
       "</div>"
      ],
      "text/plain": [
       "      credit_score       age    tenure   balance  num_of_products  \\\n",
       "862       0.779816  0.185872  0.697480  0.600726        -0.914942   \n",
       "9727     -1.218194  0.566406 -1.373506 -1.230577        -0.914942   \n",
       "1717      0.595385 -0.384930 -0.683177 -0.319996        -0.914942   \n",
       "8640      0.831047 -0.670331  1.387809  0.820545        -0.914942   \n",
       "5288     -0.685391 -0.860599 -1.028342 -1.230577         0.782369   \n",
       "...            ...       ...       ...       ...              ...   \n",
       "7697     -0.490713  0.185872 -0.683177 -1.230577         0.782369   \n",
       "8323      0.646616 -0.860599  0.352316 -1.230577         0.782369   \n",
       "3900      1.640498 -0.289797  1.387809 -0.123866         0.782369   \n",
       "5474      0.021597 -0.480064  1.387809 -1.230577         0.782369   \n",
       "1419     -1.166963  0.471273 -1.028342  0.607919        -0.914942   \n",
       "\n",
       "      has_cr_card  is_active_member  estimated_salary  geography_germany  \\\n",
       "862             1                 1          0.295405                  0   \n",
       "9727            0                 1          1.578362                  0   \n",
       "1717            1                 0         -1.417009                  0   \n",
       "8640            0                 0         -0.672521                  0   \n",
       "5288            1                 1          0.561255                  0   \n",
       "...           ...               ...               ...                ...   \n",
       "7697            1                 0         -0.786362                  0   \n",
       "8323            1                 0          0.914921                  0   \n",
       "3900            0                 1          0.164105                  0   \n",
       "5474            1                 0          0.666789                  0   \n",
       "1419            1                 1          0.635852                  0   \n",
       "\n",
       "      geography_spain  gender_male  \n",
       "862                 0            1  \n",
       "9727                0            0  \n",
       "1717                1            0  \n",
       "8640                0            0  \n",
       "5288                0            1  \n",
       "...               ...          ...  \n",
       "7697                1            0  \n",
       "8323                1            0  \n",
       "3900                0            1  \n",
       "5474                0            0  \n",
       "1419                0            0  \n",
       "\n",
       "[1819 rows x 11 columns]"
      ]
     },
     "metadata": {},
     "output_type": "display_data"
    },
    {
     "data": {
      "text/html": [
       "<div>\n",
       "<style scoped>\n",
       "    .dataframe tbody tr th:only-of-type {\n",
       "        vertical-align: middle;\n",
       "    }\n",
       "\n",
       "    .dataframe tbody tr th {\n",
       "        vertical-align: top;\n",
       "    }\n",
       "\n",
       "    .dataframe thead th {\n",
       "        text-align: right;\n",
       "    }\n",
       "</style>\n",
       "<table border=\"1\" class=\"dataframe\">\n",
       "  <thead>\n",
       "    <tr style=\"text-align: right;\">\n",
       "      <th></th>\n",
       "      <th>credit_score</th>\n",
       "      <th>age</th>\n",
       "      <th>tenure</th>\n",
       "      <th>balance</th>\n",
       "      <th>num_of_products</th>\n",
       "      <th>has_cr_card</th>\n",
       "      <th>is_active_member</th>\n",
       "      <th>estimated_salary</th>\n",
       "      <th>geography_germany</th>\n",
       "      <th>geography_spain</th>\n",
       "      <th>gender_male</th>\n",
       "    </tr>\n",
       "  </thead>\n",
       "  <tbody>\n",
       "    <tr>\n",
       "      <th>4799</th>\n",
       "      <td>-1.003024</td>\n",
       "      <td>1.232342</td>\n",
       "      <td>-1.373506</td>\n",
       "      <td>-1.230577</td>\n",
       "      <td>-0.914942</td>\n",
       "      <td>0</td>\n",
       "      <td>0</td>\n",
       "      <td>-0.626048</td>\n",
       "      <td>0</td>\n",
       "      <td>0</td>\n",
       "      <td>1</td>\n",
       "    </tr>\n",
       "    <tr>\n",
       "      <th>396</th>\n",
       "      <td>-0.941546</td>\n",
       "      <td>-0.575198</td>\n",
       "      <td>-0.683177</td>\n",
       "      <td>-0.354876</td>\n",
       "      <td>-0.914942</td>\n",
       "      <td>1</td>\n",
       "      <td>1</td>\n",
       "      <td>-1.722595</td>\n",
       "      <td>0</td>\n",
       "      <td>0</td>\n",
       "      <td>1</td>\n",
       "    </tr>\n",
       "    <tr>\n",
       "      <th>5144</th>\n",
       "      <td>-1.679273</td>\n",
       "      <td>-1.336267</td>\n",
       "      <td>-0.683177</td>\n",
       "      <td>0.929889</td>\n",
       "      <td>-0.914942</td>\n",
       "      <td>1</td>\n",
       "      <td>1</td>\n",
       "      <td>0.235764</td>\n",
       "      <td>0</td>\n",
       "      <td>0</td>\n",
       "      <td>0</td>\n",
       "    </tr>\n",
       "    <tr>\n",
       "      <th>9723</th>\n",
       "      <td>-1.259179</td>\n",
       "      <td>-0.670331</td>\n",
       "      <td>0.697480</td>\n",
       "      <td>0.786457</td>\n",
       "      <td>-0.914942</td>\n",
       "      <td>0</td>\n",
       "      <td>0</td>\n",
       "      <td>-0.223572</td>\n",
       "      <td>0</td>\n",
       "      <td>0</td>\n",
       "      <td>1</td>\n",
       "    </tr>\n",
       "    <tr>\n",
       "      <th>1999</th>\n",
       "      <td>-0.162835</td>\n",
       "      <td>0.376139</td>\n",
       "      <td>-0.683177</td>\n",
       "      <td>1.085690</td>\n",
       "      <td>-0.914942</td>\n",
       "      <td>1</td>\n",
       "      <td>1</td>\n",
       "      <td>1.022964</td>\n",
       "      <td>1</td>\n",
       "      <td>0</td>\n",
       "      <td>1</td>\n",
       "    </tr>\n",
       "    <tr>\n",
       "      <th>...</th>\n",
       "      <td>...</td>\n",
       "      <td>...</td>\n",
       "      <td>...</td>\n",
       "      <td>...</td>\n",
       "      <td>...</td>\n",
       "      <td>...</td>\n",
       "      <td>...</td>\n",
       "      <td>...</td>\n",
       "      <td>...</td>\n",
       "      <td>...</td>\n",
       "      <td>...</td>\n",
       "    </tr>\n",
       "    <tr>\n",
       "      <th>6810</th>\n",
       "      <td>-1.054255</td>\n",
       "      <td>0.281005</td>\n",
       "      <td>1.387809</td>\n",
       "      <td>0.156826</td>\n",
       "      <td>0.782369</td>\n",
       "      <td>1</td>\n",
       "      <td>0</td>\n",
       "      <td>-0.733674</td>\n",
       "      <td>1</td>\n",
       "      <td>0</td>\n",
       "      <td>0</td>\n",
       "    </tr>\n",
       "    <tr>\n",
       "      <th>9462</th>\n",
       "      <td>1.548282</td>\n",
       "      <td>0.661540</td>\n",
       "      <td>0.352316</td>\n",
       "      <td>-1.230577</td>\n",
       "      <td>0.782369</td>\n",
       "      <td>1</td>\n",
       "      <td>0</td>\n",
       "      <td>1.253356</td>\n",
       "      <td>0</td>\n",
       "      <td>1</td>\n",
       "      <td>0</td>\n",
       "    </tr>\n",
       "    <tr>\n",
       "      <th>546</th>\n",
       "      <td>-0.634160</td>\n",
       "      <td>-0.099529</td>\n",
       "      <td>-1.718671</td>\n",
       "      <td>-1.230577</td>\n",
       "      <td>0.782369</td>\n",
       "      <td>1</td>\n",
       "      <td>0</td>\n",
       "      <td>-0.906551</td>\n",
       "      <td>0</td>\n",
       "      <td>0</td>\n",
       "      <td>1</td>\n",
       "    </tr>\n",
       "    <tr>\n",
       "      <th>4694</th>\n",
       "      <td>-1.320656</td>\n",
       "      <td>0.566406</td>\n",
       "      <td>0.697480</td>\n",
       "      <td>0.488946</td>\n",
       "      <td>-0.914942</td>\n",
       "      <td>1</td>\n",
       "      <td>0</td>\n",
       "      <td>-1.158256</td>\n",
       "      <td>0</td>\n",
       "      <td>1</td>\n",
       "      <td>1</td>\n",
       "    </tr>\n",
       "    <tr>\n",
       "      <th>1883</th>\n",
       "      <td>1.445820</td>\n",
       "      <td>-1.431401</td>\n",
       "      <td>0.697480</td>\n",
       "      <td>0.495297</td>\n",
       "      <td>-0.914942</td>\n",
       "      <td>0</td>\n",
       "      <td>1</td>\n",
       "      <td>1.054254</td>\n",
       "      <td>1</td>\n",
       "      <td>0</td>\n",
       "      <td>1</td>\n",
       "    </tr>\n",
       "  </tbody>\n",
       "</table>\n",
       "<p>1818 rows × 11 columns</p>\n",
       "</div>"
      ],
      "text/plain": [
       "      credit_score       age    tenure   balance  num_of_products  \\\n",
       "4799     -1.003024  1.232342 -1.373506 -1.230577        -0.914942   \n",
       "396      -0.941546 -0.575198 -0.683177 -0.354876        -0.914942   \n",
       "5144     -1.679273 -1.336267 -0.683177  0.929889        -0.914942   \n",
       "9723     -1.259179 -0.670331  0.697480  0.786457        -0.914942   \n",
       "1999     -0.162835  0.376139 -0.683177  1.085690        -0.914942   \n",
       "...            ...       ...       ...       ...              ...   \n",
       "6810     -1.054255  0.281005  1.387809  0.156826         0.782369   \n",
       "9462      1.548282  0.661540  0.352316 -1.230577         0.782369   \n",
       "546      -0.634160 -0.099529 -1.718671 -1.230577         0.782369   \n",
       "4694     -1.320656  0.566406  0.697480  0.488946        -0.914942   \n",
       "1883      1.445820 -1.431401  0.697480  0.495297        -0.914942   \n",
       "\n",
       "      has_cr_card  is_active_member  estimated_salary  geography_germany  \\\n",
       "4799            0                 0         -0.626048                  0   \n",
       "396             1                 1         -1.722595                  0   \n",
       "5144            1                 1          0.235764                  0   \n",
       "9723            0                 0         -0.223572                  0   \n",
       "1999            1                 1          1.022964                  1   \n",
       "...           ...               ...               ...                ...   \n",
       "6810            1                 0         -0.733674                  1   \n",
       "9462            1                 0          1.253356                  0   \n",
       "546             1                 0         -0.906551                  0   \n",
       "4694            1                 0         -1.158256                  0   \n",
       "1883            0                 1          1.054254                  1   \n",
       "\n",
       "      geography_spain  gender_male  \n",
       "4799                0            1  \n",
       "396                 0            1  \n",
       "5144                0            0  \n",
       "9723                0            1  \n",
       "1999                0            1  \n",
       "...               ...          ...  \n",
       "6810                0            0  \n",
       "9462                1            0  \n",
       "546                 0            1  \n",
       "4694                1            1  \n",
       "1883                0            1  \n",
       "\n",
       "[1818 rows x 11 columns]"
      ]
     },
     "execution_count": 7,
     "metadata": {},
     "output_type": "execute_result"
    }
   ],
   "source": [
    "numeric = ['credit_score', 'age', 'tenure', 'balance', 'estimated_salary', 'num_of_products']\n",
    "pd.options.mode.chained_assignment = None\n",
    "\n",
    "scaler = StandardScaler()\n",
    "\n",
    "features_train[numeric] = scaler.fit_transform(features_train[numeric])\n",
    "features_valid[numeric] = scaler.transform(features_valid[numeric])\n",
    "features_test[numeric] = scaler.transform(features_test[numeric])\n",
    "\n",
    "display(features_train)\n",
    "display(features_valid)\n",
    "features_test"
   ]
  },
  {
   "cell_type": "markdown",
   "metadata": {},
   "source": [
    "Выполнили масштабирование, не забыли про дамми-ловушку, проверяем что получилось и идем дальше"
   ]
  },
  {
   "cell_type": "markdown",
   "metadata": {},
   "source": [
    "**Модель: логистическая регрессия**"
   ]
  },
  {
   "cell_type": "code",
   "execution_count": 8,
   "metadata": {},
   "outputs": [
    {
     "name": "stdout",
     "output_type": "stream",
     "text": [
      "CPU times: user 20.7 ms, sys: 8.18 ms, total: 28.9 ms\n",
      "Wall time: 40.6 ms\n"
     ]
    }
   ],
   "source": [
    "%%time\n",
    "model = LogisticRegression(random_state=12345, solver='liblinear')\n",
    "model.fit(features_train, target_train)\n",
    "\n",
    "predictions = model.predict(features_valid)"
   ]
  },
  {
   "cell_type": "code",
   "execution_count": 9,
   "metadata": {},
   "outputs": [
    {
     "name": "stdout",
     "output_type": "stream",
     "text": [
      "Значение F1-меры: 0.329938900203666 \n",
      "\n",
      "Значение AUC-ROC метрики: 0.7882347444164097\n"
     ]
    },
    {
     "data": {
      "image/png": "[encoded data removed]",
      "text/plain": [
       "<Figure size 432x288 with 1 Axes>"
      ]
     },
     "metadata": {
      "needs_background": "light"
     },
     "output_type": "display_data"
    }
   ],
   "source": [
    "probabilities = model.predict_proba(features_valid)\n",
    "probabilities = probabilities[:,1]\n",
    "\n",
    "print('Значение F1-меры:', f1_score(target_valid, predictions), '\\n')\n",
    "print('Значение AUC-ROC метрики:', roc_auc_score(target_valid, probabilities))\n",
    "\n",
    "\n",
    "fpr, tpr, treshold = roc_curve(target_valid, probabilities)\n",
    "roc_auc = auc(fpr, tpr)\n",
    "\n",
    "# строим график\n",
    "plt.plot(fpr, tpr, color='darkorange',\n",
    "         label='ROC кривая (area = %0.2f)' % roc_auc)\n",
    "plt.plot([0, 1], [0, 1], color='navy', linestyle='--')\n",
    "plt.xlim([0.0, 1.0])\n",
    "plt.ylim([0.0, 1.05])\n",
    "plt.xlabel('False Positive Rate')\n",
    "plt.ylabel('True Positive Rate')\n",
    "plt.title('ROC-кривая')\n",
    "plt.legend(loc=\"lower right\")\n",
    "plt.show()"
   ]
  },
  {
   "cell_type": "markdown",
   "metadata": {},
   "source": [
    "Значение F1-меры очень маленькое, такая модель нам не подходит"
   ]
  },
  {
   "cell_type": "markdown",
   "metadata": {},
   "source": [
    "**Модель: решающее дерево**"
   ]
  },
  {
   "cell_type": "code",
   "execution_count": 10,
   "metadata": {},
   "outputs": [
    {
     "name": "stdout",
     "output_type": "stream",
     "text": [
      "CPU times: user 311 ms, sys: 598 µs, total: 312 ms\n",
      "Wall time: 322 ms\n"
     ]
    }
   ],
   "source": [
    "%%time\n",
    "best_f1_score = 0\n",
    "for depth in range(1,16):\n",
    "    model = DecisionTreeClassifier(random_state=12345, criterion='gini', max_depth=depth)\n",
    "    model.fit(features_train, target_train)\n",
    "    predictions = model.predict(features_valid)\n",
    "    if f1_score(target_valid, predictions) > best_f1_score:\n",
    "        best_f1_score = f1_score(target_valid, predictions)\n",
    "        best_depth = depth"
   ]
  },
  {
   "cell_type": "code",
   "execution_count": 11,
   "metadata": {},
   "outputs": [
    {
     "name": "stdout",
     "output_type": "stream",
     "text": [
      "CPU times: user 32.5 ms, sys: 108 µs, total: 32.6 ms\n",
      "Wall time: 37.6 ms\n"
     ]
    }
   ],
   "source": [
    "%%time\n",
    "model = DecisionTreeClassifier(random_state=12345, criterion='gini', max_depth=best_depth)\n",
    "model.fit(features_train, target_train)\n",
    "\n",
    "predictions = model.predict(features_valid)"
   ]
  },
  {
   "cell_type": "code",
   "execution_count": 12,
   "metadata": {},
   "outputs": [
    {
     "name": "stdout",
     "output_type": "stream",
     "text": [
      "Значение F1-меры для лучшей модели решающего дерева: 0.5942684766214177 \n",
      "\n",
      "Значение AUC-ROC метрики для лучшей модели решающего дерева: 0.8037790860667227 \n",
      "\n",
      "Лучшая глубина: 9\n"
     ]
    },
    {
     "data": {
      "image/png": "[encoded data removed]",
      "text/plain": [
       "<Figure size 432x288 with 1 Axes>"
      ]
     },
     "metadata": {
      "needs_background": "light"
     },
     "output_type": "display_data"
    }
   ],
   "source": [
    "probabilities = model.predict_proba(features_valid)\n",
    "probabilities = probabilities[:,1]\n",
    "\n",
    "print('Значение F1-меры для лучшей модели решающего дерева:', f1_score(target_valid, predictions), '\\n')\n",
    "print('Значение AUC-ROC метрики для лучшей модели решающего дерева:', roc_auc_score(target_valid, probabilities), '\\n')\n",
    "print('Лучшая глубина:', best_depth)\n",
    "\n",
    "fpr, tpr, treshold = roc_curve(target_valid, probabilities)\n",
    "roc_auc = auc(fpr, tpr)\n",
    "\n",
    "# строим график\n",
    "plt.plot(fpr, tpr, color='darkorange',\n",
    "         label='ROC кривая (area = %0.2f)' % roc_auc)\n",
    "plt.plot([0, 1], [0, 1], color='navy', linestyle='--')\n",
    "plt.xlim([0.0, 1.0])\n",
    "plt.ylim([0.0, 1.05])\n",
    "plt.xlabel('False Positive Rate')\n",
    "plt.ylabel('True Positive Rate')\n",
    "plt.title('ROC-кривая')\n",
    "plt.legend(loc=\"lower right\")\n",
    "plt.show()"
   ]
  },
  {
   "cell_type": "markdown",
   "metadata": {},
   "source": [
    "Здесь ситуация лучше, но для успешного прохождения тестовой выборки, F1 на валидационной выборке должен быть побольше, чем предельное значение "
   ]
  },
  {
   "cell_type": "markdown",
   "metadata": {},
   "source": [
    "**Модель: случайный лес**"
   ]
  },
  {
   "cell_type": "code",
   "execution_count": 13,
   "metadata": {},
   "outputs": [
    {
     "name": "stdout",
     "output_type": "stream",
     "text": [
      "CPU times: user 35.3 s, sys: 150 ms, total: 35.5 s\n",
      "Wall time: 36.7 s\n"
     ]
    }
   ],
   "source": [
    "%%time\n",
    "best_depth = 0\n",
    "best_n = 0\n",
    "best_f1_score = 0\n",
    "for depth in range(1,16):\n",
    "    model = RandomForestClassifier(random_state=12345, n_estimators=20, max_depth=depth)\n",
    "    model.fit(features_train, target_train)\n",
    "    predictions = model.predict(features_valid)\n",
    "    if f1_score(target_valid, predictions) > best_f1_score:\n",
    "        best_f1_score = f1_score(target_valid, predictions)\n",
    "        best_depth = depth\n",
    "\n",
    "for n in range(1,100):\n",
    "    model = RandomForestClassifier(random_state=12345, n_estimators=n, max_depth=best_depth)\n",
    "    model.fit(features_train, target_train)\n",
    "    predictions = model.predict(features_valid)\n",
    "    if f1_score(target_valid, predictions) > best_f1_score:\n",
    "        best_f1_score = f1_score(target_valid, predictions)\n",
    "        best_n = n"
   ]
  },
  {
   "cell_type": "code",
   "execution_count": 14,
   "metadata": {},
   "outputs": [
    {
     "name": "stdout",
     "output_type": "stream",
     "text": [
      "CPU times: user 280 ms, sys: 4.09 ms, total: 284 ms\n",
      "Wall time: 288 ms\n"
     ]
    }
   ],
   "source": [
    "%%time \n",
    "model = RandomForestClassifier(random_state=12345, n_estimators=best_n, max_depth=best_depth)\n",
    "model.fit(features_train, target_train)\n",
    "\n",
    "predictions = model.predict(features_valid)"
   ]
  },
  {
   "cell_type": "code",
   "execution_count": 15,
   "metadata": {},
   "outputs": [
    {
     "name": "stdout",
     "output_type": "stream",
     "text": [
      "Значение F1-меры для лучшей модели случайного леса: 0.5664335664335663 \n",
      "\n",
      "Значение AUC-ROC метрики для лучшей модели случайного леса: 0.8547986169516868 \n",
      "\n",
      "Лучшая глубина: 12\n",
      "Лучший размер леса: 38\n"
     ]
    },
    {
     "data": {
      "image/png": "[encoded data removed]",
      "text/plain": [
       "<Figure size 432x288 with 1 Axes>"
      ]
     },
     "metadata": {
      "needs_background": "light"
     },
     "output_type": "display_data"
    }
   ],
   "source": [
    "probabilities = model.predict_proba(features_valid)\n",
    "probabilities = probabilities[:,1]\n",
    "\n",
    "print('Значение F1-меры для лучшей модели случайного леса:', f1_score(target_valid, predictions), '\\n')\n",
    "print('Значение AUC-ROC метрики для лучшей модели случайного леса:', roc_auc_score(target_valid, probabilities), '\\n')\n",
    "print('Лучшая глубина:', best_depth)\n",
    "print('Лучший размер леса:', best_n)\n",
    "\n",
    "fpr, tpr, treshold = roc_curve(target_valid, probabilities)\n",
    "roc_auc = auc(fpr, tpr)\n",
    "\n",
    "# строим график\n",
    "plt.plot(fpr, tpr, color='darkorange',\n",
    "         label='ROC кривая (area = %0.2f)' % roc_auc)\n",
    "plt.plot([0, 1], [0, 1], color='navy', linestyle='--')\n",
    "plt.xlim([0.0, 1.0])\n",
    "plt.ylim([0.0, 1.05])\n",
    "plt.xlabel('False Positive Rate')\n",
    "plt.ylabel('True Positive Rate')\n",
    "plt.title('ROC-кривая')\n",
    "plt.legend(loc=\"lower right\")\n",
    "plt.show()"
   ]
  },
  {
   "cell_type": "markdown",
   "metadata": {},
   "source": [
    "Результат меньше 0.59, всё еще слишком мало"
   ]
  },
  {
   "cell_type": "markdown",
   "metadata": {},
   "source": [
    "Обучая модель с несбалансированными классами, мы получаем очень плохие результаты, что является вполне логичным, ведь модели попросту не хватате примеров положительных классов, чтобы нормально обучиться."
   ]
  },
  {
   "cell_type": "markdown",
   "metadata": {},
   "source": [
    "## Борьба с дисбалансом"
   ]
  },
  {
   "cell_type": "markdown",
   "metadata": {},
   "source": [
    "В первую очередь поверим данные, может быть у нас большое кол-во дубликатов и поэтому происходит перевес в сторону отрицательного класса"
   ]
  },
  {
   "cell_type": "code",
   "execution_count": 16,
   "metadata": {},
   "outputs": [
    {
     "data": {
      "text/plain": [
       "0"
      ]
     },
     "execution_count": 16,
     "metadata": {},
     "output_type": "execute_result"
    }
   ],
   "source": [
    "df.duplicated().sum()"
   ]
  },
  {
   "cell_type": "markdown",
   "metadata": {},
   "source": [
    "Дубликатов нет, значит воспользуемся поочередно upsampling-ом и downsampling-ом."
   ]
  },
  {
   "cell_type": "markdown",
   "metadata": {},
   "source": [
    "### upsampling"
   ]
  },
  {
   "cell_type": "code",
   "execution_count": 17,
   "metadata": {},
   "outputs": [
    {
     "name": "stdout",
     "output_type": "stream",
     "text": [
      "Кол-во объектов класса 1 до апсэмплинга = 1119\n",
      "Кол-во объектов класса 0 до апсэмплинга = 4335\n",
      "Кол-во объектов класса 1 после апсэмплинга = 3357\n",
      "Кол-во объектов класса 0 после апсэмплинга = 4335\n"
     ]
    }
   ],
   "source": [
    "def upsample(features, target, repeat):\n",
    "    features_zeros = features[target == 0]\n",
    "    features_ones = features[target == 1]\n",
    "    target_zeros = target[target == 0]\n",
    "    target_ones = target[target == 1]\n",
    "    \n",
    "    features_upsampled = pd.concat([features_zeros] + [features_ones] * repeat)\n",
    "    target_upsampled = pd.concat([target_zeros] + [target_ones] * repeat)\n",
    "    \n",
    "    features_upsampled, target_upsampled = shuffle(features_upsampled, target_upsampled, random_state=12345)\n",
    "    \n",
    "    return features_upsampled, target_upsampled\n",
    "\n",
    "\n",
    "print('Кол-во объектов класса 1 до апсэмплинга =', target_train[target_train == 1].count())\n",
    "print('Кол-во объектов класса 0 до апсэмплинга =', target_train[target_train == 0].count())\n",
    "\n",
    "features_train_up, target_train_up = upsample(features_train, target_train, 3)\n",
    "\n",
    "print('Кол-во объектов класса 1 после апсэмплинга =', target_train_up[target_train_up == 1].count())\n",
    "print('Кол-во объектов класса 0 после апсэмплинга =', target_train_up[target_train_up == 0].count())"
   ]
  },
  {
   "cell_type": "markdown",
   "metadata": {},
   "source": [
    "Я выбрал число repeat=3, потому что при 4 создается перевес уже в сторону не отрицательного класса, а положительного. "
   ]
  },
  {
   "cell_type": "markdown",
   "metadata": {},
   "source": [
    "**Модель: логистическая регрессия**"
   ]
  },
  {
   "cell_type": "code",
   "execution_count": 18,
   "metadata": {},
   "outputs": [
    {
     "name": "stdout",
     "output_type": "stream",
     "text": [
      "CPU times: user 34 ms, sys: 40.1 ms, total: 74.1 ms\n",
      "Wall time: 29 ms\n"
     ]
    }
   ],
   "source": [
    "%%time\n",
    "model = LogisticRegression(random_state=12345, solver='liblinear')\n",
    "model.fit(features_train_up, target_train_up)\n",
    "\n",
    "predictions = model.predict(features_valid)"
   ]
  },
  {
   "cell_type": "code",
   "execution_count": 19,
   "metadata": {},
   "outputs": [
    {
     "name": "stdout",
     "output_type": "stream",
     "text": [
      "Значение F1-меры: 0.5155350978135789 \n",
      "\n",
      "Значение AUC-ROC метрики: 0.7883450144846276\n"
     ]
    },
    {
     "data": {
      "image/png": "[encoded data removed]",
      "text/plain": [
       "<Figure size 432x288 with 1 Axes>"
      ]
     },
     "metadata": {
      "needs_background": "light"
     },
     "output_type": "display_data"
    }
   ],
   "source": [
    "probabilities = model.predict_proba(features_valid)\n",
    "probabilities = probabilities[:,1]\n",
    "\n",
    "print('Значение F1-меры:', f1_score(target_valid, predictions), '\\n')\n",
    "print('Значение AUC-ROC метрики:', roc_auc_score(target_valid, probabilities))\n",
    "\n",
    "\n",
    "fpr, tpr, treshold = roc_curve(target_valid, probabilities)\n",
    "roc_auc = auc(fpr, tpr)\n",
    "\n",
    "# строим график\n",
    "plt.plot(fpr, tpr, color='darkorange',\n",
    "         label='ROC кривая (area = %0.2f)' % roc_auc)\n",
    "plt.plot([0, 1], [0, 1], color='navy', linestyle='--')\n",
    "plt.xlim([0.0, 1.0])\n",
    "plt.ylim([0.0, 1.05])\n",
    "plt.xlabel('False Positive Rate')\n",
    "plt.ylabel('True Positive Rate')\n",
    "plt.title('ROC-кривая')\n",
    "plt.legend(loc=\"lower right\")\n",
    "plt.show()"
   ]
  },
  {
   "cell_type": "markdown",
   "metadata": {},
   "source": [
    "F1 модели линейной регрессии после upsampling-а значительно выбор, но все еще не дотягивает до минимально допустимого"
   ]
  },
  {
   "cell_type": "markdown",
   "metadata": {},
   "source": [
    "**Модель: решающее дерево**"
   ]
  },
  {
   "cell_type": "code",
   "execution_count": 20,
   "metadata": {},
   "outputs": [
    {
     "name": "stdout",
     "output_type": "stream",
     "text": [
      "CPU times: user 391 ms, sys: 0 ns, total: 391 ms\n",
      "Wall time: 397 ms\n"
     ]
    }
   ],
   "source": [
    "%%time\n",
    "best_f1_score = 0\n",
    "for depth in range(1,16):\n",
    "    model = DecisionTreeClassifier(random_state=12345, criterion='gini', max_depth=depth)\n",
    "    model.fit(features_train_up, target_train_up)\n",
    "    predictions = model.predict(features_valid)\n",
    "    if f1_score(target_valid, predictions) > best_f1_score:\n",
    "        best_f1_score = f1_score(target_valid, predictions)\n",
    "        best_depth = depth"
   ]
  },
  {
   "cell_type": "code",
   "execution_count": 21,
   "metadata": {},
   "outputs": [
    {
     "name": "stdout",
     "output_type": "stream",
     "text": [
      "CPU times: user 23 ms, sys: 0 ns, total: 23 ms\n",
      "Wall time: 21.5 ms\n"
     ]
    }
   ],
   "source": [
    "%%time\n",
    "model = DecisionTreeClassifier(random_state=12345, criterion='gini', max_depth=best_depth)\n",
    "model.fit(features_train_up, target_train_up)\n",
    "\n",
    "predictions = model.predict(features_valid)"
   ]
  },
  {
   "cell_type": "code",
   "execution_count": 22,
   "metadata": {
    "scrolled": false
   },
   "outputs": [
    {
     "name": "stdout",
     "output_type": "stream",
     "text": [
      "Значение F1-меры для лучшей модели решающего дерева: 0.5930521091811414 \n",
      "\n",
      "Значение AUC-ROC метрики для лучшей модели решающего дерева: 0.8278385197645081 \n",
      "\n",
      "Лучшая глубина: 5\n"
     ]
    },
    {
     "data": {
      "image/png": "[encoded data removed]",
      "text/plain": [
       "<Figure size 432x288 with 1 Axes>"
      ]
     },
     "metadata": {
      "needs_background": "light"
     },
     "output_type": "display_data"
    }
   ],
   "source": [
    "probabilities = model.predict_proba(features_valid)\n",
    "probabilities = probabilities[:,1]\n",
    "\n",
    "print('Значение F1-меры для лучшей модели решающего дерева:', f1_score(target_valid, predictions), '\\n')\n",
    "print('Значение AUC-ROC метрики для лучшей модели решающего дерева:', roc_auc_score(target_valid, probabilities), '\\n')\n",
    "print('Лучшая глубина:', best_depth)\n",
    "\n",
    "fpr, tpr, treshold = roc_curve(target_valid, probabilities)\n",
    "roc_auc = auc(fpr, tpr)\n",
    "\n",
    "# строим график\n",
    "plt.plot(fpr, tpr, color='darkorange',\n",
    "         label='ROC кривая (area = %0.2f)' % roc_auc)\n",
    "plt.plot([0, 1], [0, 1], color='navy', linestyle='--')\n",
    "plt.xlim([0.0, 1.0])\n",
    "plt.ylim([0.0, 1.05])\n",
    "plt.xlabel('False Positive Rate')\n",
    "plt.ylabel('True Positive Rate')\n",
    "plt.title('ROC-кривая')\n",
    "plt.legend(loc=\"lower right\")\n",
    "plt.show()"
   ]
  },
  {
   "cell_type": "markdown",
   "metadata": {},
   "source": [
    "Неплохой результат, но все еще маловато"
   ]
  },
  {
   "cell_type": "markdown",
   "metadata": {},
   "source": [
    "**Модель: случайный лес**"
   ]
  },
  {
   "cell_type": "code",
   "execution_count": 23,
   "metadata": {},
   "outputs": [
    {
     "name": "stdout",
     "output_type": "stream",
     "text": [
      "CPU times: user 28.8 s, sys: 124 ms, total: 29 s\n",
      "Wall time: 29 s\n"
     ]
    }
   ],
   "source": [
    "%%time\n",
    "best_depth = 0\n",
    "best_n = 0\n",
    "best_f1_score = 0\n",
    "for depth in range(1,16):\n",
    "    model = RandomForestClassifier(random_state=12345, n_estimators=20, max_depth=depth)\n",
    "    model.fit(features_train_up, target_train_up)\n",
    "    predictions = model.predict(features_valid)\n",
    "    if f1_score(target_valid, predictions) > best_f1_score:\n",
    "        best_f1_score = f1_score(target_valid, predictions)\n",
    "        best_depth = depth\n",
    "\n",
    "for n in range(1,101):\n",
    "    model = RandomForestClassifier(random_state=12345, n_estimators=n, max_depth=best_depth)\n",
    "    model.fit(features_train_up, target_train_up)\n",
    "    predictions = model.predict(features_valid)\n",
    "    if f1_score(target_valid, predictions) > best_f1_score:\n",
    "        best_f1_score = f1_score(target_valid, predictions)\n",
    "        best_n = n"
   ]
  },
  {
   "cell_type": "code",
   "execution_count": 24,
   "metadata": {},
   "outputs": [
    {
     "name": "stdout",
     "output_type": "stream",
     "text": [
      "CPU times: user 137 ms, sys: 0 ns, total: 137 ms\n",
      "Wall time: 140 ms\n"
     ]
    }
   ],
   "source": [
    "%%time \n",
    "model = RandomForestClassifier(random_state=12345, n_estimators=best_n, max_depth=best_depth)\n",
    "model.fit(features_train_up, target_train_up)\n",
    "\n",
    "predictions = model.predict(features_valid)"
   ]
  },
  {
   "cell_type": "code",
   "execution_count": 25,
   "metadata": {},
   "outputs": [
    {
     "name": "stdout",
     "output_type": "stream",
     "text": [
      "Значение F1-меры для лучшей модели случайного леса: 0.6430517711171663 \n",
      "\n",
      "Значение AUC-ROC метрики для лучшей модели случайного леса: 0.8610578450612092 \n",
      "\n",
      "Лучшая глубина: 5\n",
      "Лучший размер леса: 23\n"
     ]
    },
    {
     "data": {
      "image/png": "[encoded data removed]",
      "text/plain": [
       "<Figure size 432x288 with 1 Axes>"
      ]
     },
     "metadata": {
      "needs_background": "light"
     },
     "output_type": "display_data"
    }
   ],
   "source": [
    "probabilities = model.predict_proba(features_valid)\n",
    "probabilities = probabilities[:,1]\n",
    "\n",
    "print('Значение F1-меры для лучшей модели случайного леса:', f1_score(target_valid, predictions), '\\n')\n",
    "print('Значение AUC-ROC метрики для лучшей модели случайного леса:', roc_auc_score(target_valid, probabilities), '\\n')\n",
    "print('Лучшая глубина:', best_depth)\n",
    "print('Лучший размер леса:', best_n)\n",
    "\n",
    "fpr, tpr, treshold = roc_curve(target_valid, probabilities)\n",
    "roc_auc = auc(fpr, tpr)\n",
    "\n",
    "# строим график\n",
    "plt.plot(fpr, tpr, color='darkorange',\n",
    "         label='ROC кривая (area = %0.2f)' % roc_auc)\n",
    "plt.plot([0, 1], [0, 1], color='navy', linestyle='--')\n",
    "plt.xlim([0.0, 1.0])\n",
    "plt.ylim([0.0, 1.05])\n",
    "plt.xlabel('False Positive Rate')\n",
    "plt.ylabel('True Positive Rate')\n",
    "plt.title('ROC-кривая')\n",
    "plt.legend(loc=\"lower right\")\n",
    "plt.show()"
   ]
  },
  {
   "cell_type": "markdown",
   "metadata": {},
   "source": [
    "А вот у модели случайного леса отличный F1 показатель, да и AUC-ROC тоже очень высокий, эту модель можно протестировать на тестовой выборке  "
   ]
  },
  {
   "cell_type": "markdown",
   "metadata": {},
   "source": [
    "### downsampling"
   ]
  },
  {
   "cell_type": "code",
   "execution_count": 26,
   "metadata": {},
   "outputs": [
    {
     "name": "stdout",
     "output_type": "stream",
     "text": [
      "Кол-во объектов класса 1 до downсэмплинга = 1119\n",
      "Кол-во объектов класса 0 до downсэмплинга = 4335\n",
      "Кол-во объектов класса 1 после downсэмплинга = 1119\n",
      "Кол-во объектов класса 0 после downсэмплинга = 1300\n"
     ]
    }
   ],
   "source": [
    "def downsample(features, target, fraction):\n",
    "    features_zeros = features[target == 0]\n",
    "    features_ones = features[target == 1]\n",
    "    target_zeros = target[target == 0]\n",
    "    target_ones = target[target == 1]\n",
    "    \n",
    "    features_downsampled = pd.concat(\n",
    "    [features_zeros.sample(frac=fraction, random_state=12345)] + [features_ones])\n",
    "    \n",
    "    target_downsampled = pd.concat(\n",
    "    [target_zeros.sample(frac=fraction, random_state=12345)] + [target_ones])\n",
    "    \n",
    "    features_downsampled, target_downsampled = shuffle(\n",
    "    features_downsampled, target_downsampled, random_state=12345)\n",
    "    \n",
    "    return features_downsampled, target_downsampled\n",
    "\n",
    "print('Кол-во объектов класса 1 до downсэмплинга =', target_train[target_train == 1].count())\n",
    "print('Кол-во объектов класса 0 до downсэмплинга =', target_train[target_train == 0].count())\n",
    "\n",
    "features_train_down, target_train_down = downsample(features_train, target_train, 0.3)\n",
    "\n",
    "print('Кол-во объектов класса 1 после downсэмплинга =', target_train_down[target_train_down == 1].count())\n",
    "print('Кол-во объектов класса 0 после downсэмплинга =', target_train_down[target_train_down == 0].count())"
   ]
  },
  {
   "cell_type": "markdown",
   "metadata": {},
   "source": [
    "Использую значение frac = 0.3 по тем же причинам, что и при upsampling-е"
   ]
  },
  {
   "cell_type": "markdown",
   "metadata": {},
   "source": [
    "**Модель: логистическая регрессия**"
   ]
  },
  {
   "cell_type": "code",
   "execution_count": 27,
   "metadata": {},
   "outputs": [
    {
     "name": "stdout",
     "output_type": "stream",
     "text": [
      "CPU times: user 35.3 ms, sys: 96 ms, total: 131 ms\n",
      "Wall time: 90.9 ms\n"
     ]
    }
   ],
   "source": [
    "%%time\n",
    "model = LogisticRegression(random_state=12345, solver='liblinear')\n",
    "model.fit(features_train_down, target_train_down)\n",
    "\n",
    "predictions = model.predict(features_valid)"
   ]
  },
  {
   "cell_type": "code",
   "execution_count": 28,
   "metadata": {},
   "outputs": [
    {
     "name": "stdout",
     "output_type": "stream",
     "text": [
      "Значение F1-меры: 0.5120350109409191 \n",
      "\n",
      "Значение AUC-ROC метрики: 0.7887244182786655\n"
     ]
    },
    {
     "data": {
      "image/png": "[encoded data removed]",
      "text/plain": [
       "<Figure size 432x288 with 1 Axes>"
      ]
     },
     "metadata": {
      "needs_background": "light"
     },
     "output_type": "display_data"
    }
   ],
   "source": [
    "probabilities = model.predict_proba(features_valid)\n",
    "probabilities = probabilities[:,1]\n",
    "\n",
    "print('Значение F1-меры:', f1_score(target_valid, predictions), '\\n')\n",
    "print('Значение AUC-ROC метрики:', roc_auc_score(target_valid, probabilities))\n",
    "\n",
    "\n",
    "fpr, tpr, treshold = roc_curve(target_valid, probabilities)\n",
    "roc_auc = auc(fpr, tpr)\n",
    "\n",
    "# строим график\n",
    "plt.plot(fpr, tpr, color='darkorange',\n",
    "         label='ROC кривая (area = %0.2f)' % roc_auc)\n",
    "plt.plot([0, 1], [0, 1], color='navy', linestyle='--')\n",
    "plt.xlim([0.0, 1.0])\n",
    "plt.ylim([0.0, 1.05])\n",
    "plt.xlabel('False Positive Rate')\n",
    "plt.ylabel('True Positive Rate')\n",
    "plt.title('ROC-кривая')\n",
    "plt.legend(loc=\"lower right\")\n",
    "plt.show()"
   ]
  },
  {
   "cell_type": "markdown",
   "metadata": {},
   "source": [
    "Значение F1 слишком мало"
   ]
  },
  {
   "cell_type": "markdown",
   "metadata": {},
   "source": [
    "**Модель: решающее дерево**"
   ]
  },
  {
   "cell_type": "code",
   "execution_count": 29,
   "metadata": {},
   "outputs": [
    {
     "name": "stdout",
     "output_type": "stream",
     "text": [
      "CPU times: user 233 ms, sys: 37 µs, total: 234 ms\n",
      "Wall time: 237 ms\n"
     ]
    }
   ],
   "source": [
    "%%time\n",
    "best_f1_score = 0\n",
    "for depth in range(1,16):\n",
    "    model = DecisionTreeClassifier(random_state=12345, criterion='gini', max_depth=depth)\n",
    "    model.fit(features_train_down, target_train_down)\n",
    "    predictions = model.predict(features_valid)\n",
    "    if f1_score(target_valid, predictions) > best_f1_score:\n",
    "        best_f1_score = f1_score(target_valid, predictions)\n",
    "        best_depth = depth"
   ]
  },
  {
   "cell_type": "code",
   "execution_count": 30,
   "metadata": {},
   "outputs": [
    {
     "name": "stdout",
     "output_type": "stream",
     "text": [
      "CPU times: user 12.7 ms, sys: 16 µs, total: 12.7 ms\n",
      "Wall time: 12.4 ms\n"
     ]
    }
   ],
   "source": [
    "%%time\n",
    "model = DecisionTreeClassifier(random_state=12345, criterion='gini', max_depth=best_depth)\n",
    "model.fit(features_train_down, target_train_down)\n",
    "\n",
    "predictions = model.predict(features_valid)"
   ]
  },
  {
   "cell_type": "code",
   "execution_count": 31,
   "metadata": {},
   "outputs": [
    {
     "name": "stdout",
     "output_type": "stream",
     "text": [
      "Значение F1-меры для лучшей модели решающего дерева: 0.5909090909090909 \n",
      "\n",
      "Значение AUC-ROC метрики для лучшей модели решающего дерева: 0.8172217549761703 \n",
      "\n",
      "Лучшая глубина: 5\n"
     ]
    },
    {
     "data": {
      "image/png": "[encoded data removed]",
      "text/plain": [
       "<Figure size 432x288 with 1 Axes>"
      ]
     },
     "metadata": {
      "needs_background": "light"
     },
     "output_type": "display_data"
    }
   ],
   "source": [
    "probabilities = model.predict_proba(features_valid)\n",
    "probabilities = probabilities[:,1]\n",
    "\n",
    "print('Значение F1-меры для лучшей модели решающего дерева:', f1_score(target_valid, predictions), '\\n')\n",
    "print('Значение AUC-ROC метрики для лучшей модели решающего дерева:', roc_auc_score(target_valid, probabilities), '\\n')\n",
    "print('Лучшая глубина:', best_depth)\n",
    "\n",
    "fpr, tpr, treshold = roc_curve(target_valid, probabilities)\n",
    "roc_auc = auc(fpr, tpr)\n",
    "\n",
    "# строим график\n",
    "plt.plot(fpr, tpr, color='darkorange',\n",
    "         label='ROC кривая (area = %0.2f)' % roc_auc)\n",
    "plt.plot([0, 1], [0, 1], color='navy', linestyle='--')\n",
    "plt.xlim([0.0, 1.0])\n",
    "plt.ylim([0.0, 1.05])\n",
    "plt.xlabel('False Positive Rate')\n",
    "plt.ylabel('True Positive Rate')\n",
    "plt.title('ROC-кривая')\n",
    "plt.legend(loc=\"lower right\")\n",
    "plt.show()"
   ]
  },
  {
   "cell_type": "markdown",
   "metadata": {},
   "source": [
    "Неплохой результат, но схожие показатели мы уже видели. Значение F1-меры слишком близко к критическому"
   ]
  },
  {
   "cell_type": "markdown",
   "metadata": {},
   "source": [
    "**Модель: случайный лес**"
   ]
  },
  {
   "cell_type": "code",
   "execution_count": 32,
   "metadata": {},
   "outputs": [
    {
     "name": "stdout",
     "output_type": "stream",
     "text": [
      "CPU times: user 17.6 s, sys: 87.8 ms, total: 17.7 s\n",
      "Wall time: 17.7 s\n"
     ]
    }
   ],
   "source": [
    "%%time\n",
    "best_depth = 0\n",
    "best_n = 0\n",
    "best_f1_score = 0\n",
    "for depth in range(1,16):\n",
    "    model = RandomForestClassifier(random_state=12345, n_estimators=20, max_depth=depth)\n",
    "    model.fit(features_train_down, target_train_down)\n",
    "    predictions = model.predict(features_valid)\n",
    "    if f1_score(target_valid, predictions) > best_f1_score:\n",
    "        best_f1_score = f1_score(target_valid, predictions)\n",
    "        best_depth = depth\n",
    "\n",
    "for n in range(1,101):\n",
    "    model = RandomForestClassifier(random_state=12345, n_estimators=n, max_depth=best_depth)\n",
    "    model.fit(features_train_down, target_train_down)\n",
    "    predictions = model.predict(features_valid)\n",
    "    if f1_score(target_valid, predictions) > best_f1_score:\n",
    "        best_f1_score = f1_score(target_valid, predictions)\n",
    "        best_n = n"
   ]
  },
  {
   "cell_type": "code",
   "execution_count": 33,
   "metadata": {},
   "outputs": [
    {
     "name": "stdout",
     "output_type": "stream",
     "text": [
      "CPU times: user 200 ms, sys: 0 ns, total: 200 ms\n",
      "Wall time: 202 ms\n"
     ]
    }
   ],
   "source": [
    "%%time \n",
    "model = RandomForestClassifier(random_state=12345, n_estimators=best_n, max_depth=best_depth)\n",
    "model.fit(features_train_down, target_train_down)\n",
    "\n",
    "predictions = model.predict(features_valid)"
   ]
  },
  {
   "cell_type": "code",
   "execution_count": 34,
   "metadata": {},
   "outputs": [
    {
     "name": "stdout",
     "output_type": "stream",
     "text": [
      "Значение F1-меры для лучшей модели случайного леса: 0.6218487394957984 \n",
      "\n",
      "Значение AUC-ROC метрики для лучшей модели случайного леса: 0.8601065320998038 \n",
      "\n",
      "Лучшая глубина: 7\n",
      "Лучший размер леса: 44\n"
     ]
    },
    {
     "data": {
      "image/png": "[encoded data removed]",
      "text/plain": [
       "<Figure size 432x288 with 1 Axes>"
      ]
     },
     "metadata": {
      "needs_background": "light"
     },
     "output_type": "display_data"
    }
   ],
   "source": [
    "probabilities = model.predict_proba(features_valid)\n",
    "probabilities = probabilities[:,1]\n",
    "\n",
    "print('Значение F1-меры для лучшей модели случайного леса:', f1_score(target_valid, predictions), '\\n')\n",
    "print('Значение AUC-ROC метрики для лучшей модели случайного леса:', roc_auc_score(target_valid, probabilities), '\\n')\n",
    "print('Лучшая глубина:', best_depth)\n",
    "print('Лучший размер леса:', best_n)\n",
    "\n",
    "fpr, tpr, treshold = roc_curve(target_valid, probabilities)\n",
    "roc_auc = auc(fpr, tpr)\n",
    "\n",
    "# строим график\n",
    "plt.plot(fpr, tpr, color='darkorange',\n",
    "         label='ROC кривая (area = %0.2f)' % roc_auc)\n",
    "plt.plot([0, 1], [0, 1], color='navy', linestyle='--')\n",
    "plt.xlim([0.0, 1.0])\n",
    "plt.ylim([0.0, 1.05])\n",
    "plt.xlabel('False Positive Rate')\n",
    "plt.ylabel('True Positive Rate')\n",
    "plt.title('ROC-кривая')\n",
    "plt.legend(loc=\"lower right\")\n",
    "plt.show()"
   ]
  },
  {
   "cell_type": "markdown",
   "metadata": {},
   "source": [
    "Случайный лес и downsampling-е имеет хорошие показатели AUC-ROC и F1. Но так как F1-мера модели случайного леса после upsampling-а имеет более высокие показатели, мы будем использовать именно её"
   ]
  },
  {
   "cell_type": "markdown",
   "metadata": {},
   "source": [
    "**Вывод по методам балансировки классов:**\n",
    "Ниболее успешной стала модель, полученная с помощью upsampling-а. Её показатель F1 составил: 0.6430517711171663, а показатель AUC-ROC: 0.8610578450612092. \n",
    "Гиперпораметры модели: max_depth = 5, n_estimators = 23"
   ]
  },
  {
   "cell_type": "markdown",
   "metadata": {},
   "source": [
    "Стоит также добавить, что я проводил исследование для всех 3-х типов моделей следующего вида:\n",
    "отказ от использования каких-либо методов sampling-а, а использование классического гиперпараметра class_weight=True. Положительных результатов это не дало, что в принципе логично, ведь для class_weight в нашем случае \"разрыв\" между положительными и отрицательными классами слишком велик"
   ]
  },
  {
   "cell_type": "markdown",
   "metadata": {},
   "source": [
    "## Тестирование модели"
   ]
  },
  {
   "cell_type": "markdown",
   "metadata": {},
   "source": [
    "***Тестируем нашу лучшую модель на тестовой выборке:***"
   ]
  },
  {
   "cell_type": "code",
   "execution_count": 35,
   "metadata": {},
   "outputs": [
    {
     "name": "stdout",
     "output_type": "stream",
     "text": [
      "Значение F1-меры лучшей модели 0.6162310866574965 \n",
      "\n",
      "Значение AUC-ROC метрики лучшей модели: 0.8452191437474598\n"
     ]
    }
   ],
   "source": [
    "model = RandomForestClassifier(random_state=12345, n_estimators=23, max_depth=5)\n",
    "model.fit(features_train_up, target_train_up)\n",
    "predictions = model.predict(features_test)\n",
    "probabilities = model.predict_proba(features_test)\n",
    "probabilities = probabilities[:,1]\n",
    "print('Значение F1-меры лучшей модели', f1_score(target_test, predictions), '\\n')\n",
    "print('Значение AUC-ROC метрики лучшей модели:', roc_auc_score(target_test, probabilities))"
   ]
  },
  {
   "cell_type": "markdown",
   "metadata": {},
   "source": [
    "AUC-ROC модели составляет: 0.8452191437474598, что является хорошим результатом\n",
    "\n",
    "F1-score больше 0.59, следовательно, модель нам подходит\n",
    "\n"
   ]
  },
  {
   "cell_type": "markdown",
   "metadata": {},
   "source": [
    "В течение всего исследования, мы можем наблюдать, что всегда увеличиваются либо оба параметра (и AUC-ROC, и F1), либо оба уменьшаются. Это вполне закономерно, ведб оба параметра так или иначе связаны с тем, как хорошо модель разобралась в данных и научилась определять положительные и отрицательные классы\n",
    "\n",
    "Финальная модель имеет высокий показатель AUC-ROC, что свидетельствует о том, что она сильно отличается от случайной модели, а значит, мы ее хорошо обучили\n",
    "\n"
   ]
  }
 ],
 "metadata": {
  "ExecuteTimeLog": [
   {
    "duration": 463,
    "start_time": "2023-04-21T17:47:31.234Z"
   },
   {
    "duration": 28,
    "start_time": "2023-04-21T17:47:37.281Z"
   },
   {
    "duration": 22,
    "start_time": "2023-04-21T17:48:35.683Z"
   },
   {
    "duration": 34,
    "start_time": "2023-04-21T17:48:56.184Z"
   },
   {
    "duration": 11,
    "start_time": "2023-04-21T17:52:56.487Z"
   },
   {
    "duration": 5,
    "start_time": "2023-04-21T17:53:41.387Z"
   },
   {
    "duration": 5,
    "start_time": "2023-04-21T17:53:45.852Z"
   },
   {
    "duration": 73,
    "start_time": "2023-04-21T17:54:42.764Z"
   },
   {
    "duration": 45,
    "start_time": "2023-04-21T17:54:46.454Z"
   },
   {
    "duration": 34,
    "start_time": "2023-04-21T17:54:46.844Z"
   },
   {
    "duration": 9,
    "start_time": "2023-04-21T17:54:48.284Z"
   },
   {
    "duration": 7,
    "start_time": "2023-04-21T17:55:01.034Z"
   },
   {
    "duration": 9,
    "start_time": "2023-04-21T17:55:09.435Z"
   },
   {
    "duration": 77,
    "start_time": "2023-04-21T17:56:06.437Z"
   },
   {
    "duration": 8,
    "start_time": "2023-04-21T17:56:17.867Z"
   },
   {
    "duration": 1084,
    "start_time": "2023-04-21T18:08:15.884Z"
   },
   {
    "duration": 38,
    "start_time": "2023-04-21T18:08:17.978Z"
   },
   {
    "duration": 9,
    "start_time": "2023-04-21T18:08:19.448Z"
   },
   {
    "duration": 43,
    "start_time": "2023-04-21T18:11:35.180Z"
   },
   {
    "duration": 30,
    "start_time": "2023-04-21T18:11:38.744Z"
   },
   {
    "duration": 8,
    "start_time": "2023-04-21T18:11:40.365Z"
   },
   {
    "duration": 54,
    "start_time": "2023-04-21T18:11:40.754Z"
   },
   {
    "duration": 4,
    "start_time": "2023-04-21T18:25:24.733Z"
   },
   {
    "duration": 21,
    "start_time": "2023-04-21T18:25:34.268Z"
   },
   {
    "duration": 4,
    "start_time": "2023-04-21T18:25:42.158Z"
   },
   {
    "duration": 31,
    "start_time": "2023-04-21T18:31:51.744Z"
   },
   {
    "duration": 21,
    "start_time": "2023-04-21T18:33:32.210Z"
   },
   {
    "duration": 20,
    "start_time": "2023-04-21T18:34:08.723Z"
   },
   {
    "duration": 14,
    "start_time": "2023-04-21T18:35:21.693Z"
   },
   {
    "duration": 247,
    "start_time": "2023-04-21T18:35:39.176Z"
   },
   {
    "duration": 38,
    "start_time": "2023-04-21T18:35:53.667Z"
   },
   {
    "duration": 41,
    "start_time": "2023-04-21T18:36:02.109Z"
   },
   {
    "duration": 27,
    "start_time": "2023-04-21T18:36:13.613Z"
   },
   {
    "duration": 34,
    "start_time": "2023-04-21T18:36:18.176Z"
   },
   {
    "duration": 44,
    "start_time": "2023-04-21T18:36:37.948Z"
   },
   {
    "duration": 28,
    "start_time": "2023-04-21T18:36:43.918Z"
   },
   {
    "duration": 27,
    "start_time": "2023-04-21T18:37:26.159Z"
   },
   {
    "duration": 5,
    "start_time": "2023-04-21T18:37:35.020Z"
   },
   {
    "duration": 20,
    "start_time": "2023-04-21T18:37:37.899Z"
   },
   {
    "duration": 24,
    "start_time": "2023-04-21T18:38:30.604Z"
   },
   {
    "duration": 1243,
    "start_time": "2023-04-21T18:38:46.813Z"
   },
   {
    "duration": 17,
    "start_time": "2023-04-21T18:39:07.021Z"
   },
   {
    "duration": 17,
    "start_time": "2023-04-21T18:39:12.033Z"
   },
   {
    "duration": 14,
    "start_time": "2023-04-21T18:39:18.122Z"
   },
   {
    "duration": 15,
    "start_time": "2023-04-21T18:39:29.342Z"
   },
   {
    "duration": 16,
    "start_time": "2023-04-21T18:39:34.871Z"
   },
   {
    "duration": 26,
    "start_time": "2023-04-21T18:40:03.916Z"
   },
   {
    "duration": 14,
    "start_time": "2023-04-21T18:40:12.714Z"
   },
   {
    "duration": 13,
    "start_time": "2023-04-21T18:40:32.554Z"
   },
   {
    "duration": 14,
    "start_time": "2023-04-21T18:40:45.110Z"
   },
   {
    "duration": 13,
    "start_time": "2023-04-21T18:40:52.474Z"
   },
   {
    "duration": 37,
    "start_time": "2023-04-21T18:41:28.746Z"
   },
   {
    "duration": 16,
    "start_time": "2023-04-21T18:41:48.402Z"
   },
   {
    "duration": 36,
    "start_time": "2023-04-21T18:42:12.608Z"
   },
   {
    "duration": 33,
    "start_time": "2023-04-21T18:43:59.470Z"
   },
   {
    "duration": 18,
    "start_time": "2023-04-21T18:44:31.962Z"
   },
   {
    "duration": 22,
    "start_time": "2023-04-21T18:44:37.181Z"
   },
   {
    "duration": 29,
    "start_time": "2023-04-21T18:44:48.911Z"
   },
   {
    "duration": 31,
    "start_time": "2023-04-21T18:45:07.723Z"
   },
   {
    "duration": 44,
    "start_time": "2023-04-21T18:45:25.183Z"
   },
   {
    "duration": 1303,
    "start_time": "2023-04-21T18:46:11.714Z"
   },
   {
    "duration": 30,
    "start_time": "2023-04-21T18:46:18.404Z"
   },
   {
    "duration": 56,
    "start_time": "2023-04-21T18:48:45.775Z"
   },
   {
    "duration": 32,
    "start_time": "2023-04-21T18:49:00.229Z"
   },
   {
    "duration": 30,
    "start_time": "2023-04-21T18:49:02.599Z"
   },
   {
    "duration": 53,
    "start_time": "2023-04-21T18:49:20.750Z"
   },
   {
    "duration": 49,
    "start_time": "2023-04-21T18:49:30.711Z"
   },
   {
    "duration": 38,
    "start_time": "2023-04-21T18:49:39.921Z"
   },
   {
    "duration": 29,
    "start_time": "2023-04-21T18:49:55.101Z"
   },
   {
    "duration": 40,
    "start_time": "2023-04-21T18:53:04.077Z"
   },
   {
    "duration": 32,
    "start_time": "2023-04-21T18:53:13.677Z"
   },
   {
    "duration": 1263,
    "start_time": "2023-04-21T18:54:53.220Z"
   },
   {
    "duration": 22,
    "start_time": "2023-04-21T18:55:06.031Z"
   },
   {
    "duration": 24,
    "start_time": "2023-04-21T18:55:20.761Z"
   },
   {
    "duration": 20,
    "start_time": "2023-04-21T18:55:33.331Z"
   },
   {
    "duration": 25,
    "start_time": "2023-04-21T18:58:31.777Z"
   },
   {
    "duration": 1258,
    "start_time": "2023-04-21T19:02:30.374Z"
   },
   {
    "duration": 24,
    "start_time": "2023-04-21T19:02:37.664Z"
   },
   {
    "duration": 32,
    "start_time": "2023-04-21T19:02:53.985Z"
   },
   {
    "duration": 32,
    "start_time": "2023-04-21T19:02:59.956Z"
   },
   {
    "duration": 45,
    "start_time": "2023-04-21T19:03:10.455Z"
   },
   {
    "duration": 33,
    "start_time": "2023-04-21T19:03:25.967Z"
   },
   {
    "duration": 18,
    "start_time": "2023-04-21T19:04:00.887Z"
   },
   {
    "duration": 1056,
    "start_time": "2023-04-21T19:04:13.216Z"
   },
   {
    "duration": 13,
    "start_time": "2023-04-21T19:04:29.900Z"
   },
   {
    "duration": 1249,
    "start_time": "2023-04-21T19:04:41.298Z"
   },
   {
    "duration": 41,
    "start_time": "2023-04-21T19:04:42.549Z"
   },
   {
    "duration": 267,
    "start_time": "2023-04-21T19:04:42.592Z"
   },
   {
    "duration": 0,
    "start_time": "2023-04-21T19:04:42.861Z"
   },
   {
    "duration": 25,
    "start_time": "2023-04-21T19:06:12.471Z"
   },
   {
    "duration": 35,
    "start_time": "2023-04-21T19:06:18.546Z"
   },
   {
    "duration": 1277,
    "start_time": "2023-04-21T19:06:34.909Z"
   },
   {
    "duration": 129,
    "start_time": "2023-04-21T19:06:36.189Z"
   },
   {
    "duration": 0,
    "start_time": "2023-04-21T19:06:36.320Z"
   },
   {
    "duration": 0,
    "start_time": "2023-04-21T19:06:36.322Z"
   },
   {
    "duration": 60,
    "start_time": "2023-04-21T19:06:50.574Z"
   },
   {
    "duration": 40,
    "start_time": "2023-04-21T19:07:13.252Z"
   },
   {
    "duration": 87,
    "start_time": "2023-04-21T19:08:41.395Z"
   },
   {
    "duration": 83,
    "start_time": "2023-04-21T19:09:04.502Z"
   },
   {
    "duration": 22,
    "start_time": "2023-04-21T19:10:11.337Z"
   },
   {
    "duration": 84,
    "start_time": "2023-04-21T19:10:54.659Z"
   },
   {
    "duration": 78,
    "start_time": "2023-04-21T19:11:04.058Z"
   },
   {
    "duration": 78,
    "start_time": "2023-04-21T19:11:10.379Z"
   },
   {
    "duration": 84,
    "start_time": "2023-04-21T19:11:58.950Z"
   },
   {
    "duration": 85,
    "start_time": "2023-04-21T19:12:04.560Z"
   },
   {
    "duration": 30,
    "start_time": "2023-04-21T19:12:21.422Z"
   },
   {
    "duration": 50,
    "start_time": "2023-04-21T19:12:45.961Z"
   },
   {
    "duration": 44,
    "start_time": "2023-04-21T19:13:22.146Z"
   },
   {
    "duration": 36,
    "start_time": "2023-04-21T19:15:51.519Z"
   },
   {
    "duration": 37,
    "start_time": "2023-04-21T19:16:13.747Z"
   },
   {
    "duration": 27,
    "start_time": "2023-04-21T19:16:30.939Z"
   },
   {
    "duration": 979,
    "start_time": "2023-04-21T19:17:47.651Z"
   },
   {
    "duration": 1093,
    "start_time": "2023-04-21T19:18:08.176Z"
   },
   {
    "duration": 36,
    "start_time": "2023-04-21T19:18:19.422Z"
   },
   {
    "duration": 29,
    "start_time": "2023-04-21T19:18:22.931Z"
   },
   {
    "duration": 6,
    "start_time": "2023-04-21T19:18:54.523Z"
   },
   {
    "duration": 47,
    "start_time": "2023-04-21T19:21:00.572Z"
   },
   {
    "duration": 47,
    "start_time": "2023-04-21T19:21:07.096Z"
   },
   {
    "duration": 37,
    "start_time": "2023-04-21T19:21:11.626Z"
   },
   {
    "duration": 16,
    "start_time": "2023-04-21T19:22:05.388Z"
   },
   {
    "duration": 26,
    "start_time": "2023-04-21T19:22:11.657Z"
   },
   {
    "duration": 20,
    "start_time": "2023-04-21T19:22:50.153Z"
   },
   {
    "duration": 44,
    "start_time": "2023-04-21T19:34:13.838Z"
   },
   {
    "duration": 16,
    "start_time": "2023-04-21T19:36:38.811Z"
   },
   {
    "duration": 23,
    "start_time": "2023-04-21T19:36:53.474Z"
   },
   {
    "duration": 16,
    "start_time": "2023-04-21T19:36:57.523Z"
   },
   {
    "duration": 37,
    "start_time": "2023-04-21T19:37:15.405Z"
   },
   {
    "duration": 11,
    "start_time": "2023-04-21T19:38:29.298Z"
   },
   {
    "duration": 28,
    "start_time": "2023-04-21T19:41:08.661Z"
   },
   {
    "duration": 40,
    "start_time": "2023-04-21T19:42:57.656Z"
   },
   {
    "duration": 1323,
    "start_time": "2023-04-21T19:43:29.977Z"
   },
   {
    "duration": 39,
    "start_time": "2023-04-21T19:43:31.303Z"
   },
   {
    "duration": 45,
    "start_time": "2023-04-21T19:43:31.343Z"
   },
   {
    "duration": 31,
    "start_time": "2023-04-21T19:43:31.390Z"
   },
   {
    "duration": 36,
    "start_time": "2023-04-21T19:43:31.423Z"
   },
   {
    "duration": 32,
    "start_time": "2023-04-21T19:43:31.461Z"
   },
   {
    "duration": 163,
    "start_time": "2023-04-21T19:43:31.496Z"
   },
   {
    "duration": 68,
    "start_time": "2023-04-21T19:44:07.483Z"
   },
   {
    "duration": 1275,
    "start_time": "2023-04-21T19:44:15.146Z"
   },
   {
    "duration": 50,
    "start_time": "2023-04-21T19:44:16.423Z"
   },
   {
    "duration": 38,
    "start_time": "2023-04-21T19:44:16.475Z"
   },
   {
    "duration": 28,
    "start_time": "2023-04-21T19:44:16.516Z"
   },
   {
    "duration": 52,
    "start_time": "2023-04-21T19:44:16.547Z"
   },
   {
    "duration": 7,
    "start_time": "2023-04-21T19:44:16.600Z"
   },
   {
    "duration": 105,
    "start_time": "2023-04-21T19:44:16.608Z"
   },
   {
    "duration": 86,
    "start_time": "2023-04-21T19:45:31.784Z"
   },
   {
    "duration": 117,
    "start_time": "2023-04-21T19:46:01.411Z"
   },
   {
    "duration": 52,
    "start_time": "2023-04-21T20:08:22.272Z"
   },
   {
    "duration": 28,
    "start_time": "2023-04-21T20:17:17.698Z"
   },
   {
    "duration": 213,
    "start_time": "2023-04-21T20:25:15.276Z"
   },
   {
    "duration": 289,
    "start_time": "2023-04-21T20:27:58.605Z"
   },
   {
    "duration": 190,
    "start_time": "2023-04-21T20:28:27.432Z"
   },
   {
    "duration": 44,
    "start_time": "2023-04-21T20:28:33.209Z"
   },
   {
    "duration": 176,
    "start_time": "2023-04-21T20:28:37.633Z"
   },
   {
    "duration": 111,
    "start_time": "2023-04-21T20:29:07.978Z"
   },
   {
    "duration": 283,
    "start_time": "2023-04-21T20:29:33.508Z"
   },
   {
    "duration": 45,
    "start_time": "2023-04-21T20:30:48.616Z"
   },
   {
    "duration": 155,
    "start_time": "2023-04-21T20:30:53.836Z"
   },
   {
    "duration": 138,
    "start_time": "2023-04-21T20:31:20.155Z"
   },
   {
    "duration": 1223,
    "start_time": "2023-04-21T20:32:42.207Z"
   },
   {
    "duration": 40,
    "start_time": "2023-04-21T20:32:43.432Z"
   },
   {
    "duration": 27,
    "start_time": "2023-04-21T20:32:43.474Z"
   },
   {
    "duration": 28,
    "start_time": "2023-04-21T20:32:43.503Z"
   },
   {
    "duration": 18,
    "start_time": "2023-04-21T20:32:43.534Z"
   },
   {
    "duration": 5,
    "start_time": "2023-04-21T20:32:43.554Z"
   },
   {
    "duration": 83,
    "start_time": "2023-04-21T20:32:43.561Z"
   },
   {
    "duration": 352,
    "start_time": "2023-04-21T20:32:43.648Z"
   },
   {
    "duration": 0,
    "start_time": "2023-04-21T20:32:44.002Z"
   },
   {
    "duration": 181,
    "start_time": "2023-04-21T20:34:37.009Z"
   },
   {
    "duration": 173,
    "start_time": "2023-04-21T20:35:25.017Z"
   },
   {
    "duration": 237,
    "start_time": "2023-04-21T20:35:45.055Z"
   },
   {
    "duration": 226,
    "start_time": "2023-04-21T20:35:53.071Z"
   },
   {
    "duration": 281,
    "start_time": "2023-04-21T20:36:01.015Z"
   },
   {
    "duration": 265,
    "start_time": "2023-04-21T20:36:15.025Z"
   },
   {
    "duration": 230,
    "start_time": "2023-04-21T20:36:26.072Z"
   },
   {
    "duration": 180,
    "start_time": "2023-04-21T20:36:40.009Z"
   },
   {
    "duration": 214,
    "start_time": "2023-04-21T20:36:56.075Z"
   },
   {
    "duration": 184,
    "start_time": "2023-04-21T20:37:12.510Z"
   },
   {
    "duration": 140,
    "start_time": "2023-04-21T20:37:30.660Z"
   },
   {
    "duration": 111,
    "start_time": "2023-04-21T20:37:54.810Z"
   },
   {
    "duration": 174,
    "start_time": "2023-04-21T20:37:58.319Z"
   },
   {
    "duration": 460,
    "start_time": "2023-04-21T20:38:27.720Z"
   },
   {
    "duration": 388,
    "start_time": "2023-04-21T20:38:32.550Z"
   },
   {
    "duration": 376,
    "start_time": "2023-04-21T20:38:46.862Z"
   },
   {
    "duration": 327,
    "start_time": "2023-04-21T20:41:02.609Z"
   },
   {
    "duration": 355,
    "start_time": "2023-04-21T20:41:13.865Z"
   },
   {
    "duration": 76,
    "start_time": "2023-04-21T20:41:20.736Z"
   },
   {
    "duration": 350,
    "start_time": "2023-04-21T20:41:28.710Z"
   },
   {
    "duration": 443,
    "start_time": "2023-04-21T20:41:36.965Z"
   },
   {
    "duration": 560,
    "start_time": "2023-04-21T20:45:58.515Z"
   },
   {
    "duration": 4257,
    "start_time": "2023-04-21T20:48:28.457Z"
   },
   {
    "duration": 546,
    "start_time": "2023-04-21T20:49:43.010Z"
   },
   {
    "duration": 38255,
    "start_time": "2023-04-21T20:49:48.737Z"
   },
   {
    "duration": 401,
    "start_time": "2023-04-21T20:50:47.784Z"
   },
   {
    "duration": 589,
    "start_time": "2023-04-21T20:51:52.733Z"
   },
   {
    "duration": 28,
    "start_time": "2023-04-21T20:52:35.878Z"
   },
   {
    "duration": 152,
    "start_time": "2023-04-21T20:52:37.309Z"
   },
   {
    "duration": 395,
    "start_time": "2023-04-21T20:52:39.509Z"
   },
   {
    "duration": 398,
    "start_time": "2023-04-21T20:52:49.555Z"
   },
   {
    "duration": 51060,
    "start_time": "2023-04-21T20:58:13.804Z"
   },
   {
    "duration": 28,
    "start_time": "2023-04-21T21:00:08.738Z"
   },
   {
    "duration": 339,
    "start_time": "2023-04-21T21:00:10.569Z"
   },
   {
    "duration": 402,
    "start_time": "2023-04-21T21:00:14.468Z"
   },
   {
    "duration": 36,
    "start_time": "2023-04-21T21:00:15.637Z"
   },
   {
    "duration": 199,
    "start_time": "2023-04-21T21:00:16.399Z"
   },
   {
    "duration": 112,
    "start_time": "2023-04-21T21:00:27.100Z"
   },
   {
    "duration": 336,
    "start_time": "2023-04-21T21:01:16.360Z"
   },
   {
    "duration": 211,
    "start_time": "2023-04-21T21:01:24.610Z"
   },
   {
    "duration": 159634,
    "start_time": "2023-04-21T21:02:31.933Z"
   },
   {
    "duration": 328,
    "start_time": "2023-04-21T21:05:18.226Z"
   },
   {
    "duration": 168,
    "start_time": "2023-04-21T21:05:19.067Z"
   },
   {
    "duration": 167,
    "start_time": "2023-04-21T21:36:33.640Z"
   },
   {
    "duration": 23,
    "start_time": "2023-04-21T21:43:57.143Z"
   },
   {
    "duration": 15,
    "start_time": "2023-04-21T21:44:15.984Z"
   },
   {
    "duration": 13,
    "start_time": "2023-04-21T21:44:48.955Z"
   },
   {
    "duration": 400,
    "start_time": "2023-04-22T07:19:01.644Z"
   },
   {
    "duration": 1868,
    "start_time": "2023-04-22T07:19:30.661Z"
   },
   {
    "duration": 36,
    "start_time": "2023-04-22T07:19:32.531Z"
   },
   {
    "duration": 38,
    "start_time": "2023-04-22T07:19:32.568Z"
   },
   {
    "duration": 57,
    "start_time": "2023-04-22T07:19:32.616Z"
   },
   {
    "duration": 55,
    "start_time": "2023-04-22T07:19:32.674Z"
   },
   {
    "duration": 11,
    "start_time": "2023-04-22T07:19:32.731Z"
   },
   {
    "duration": 78,
    "start_time": "2023-04-22T07:19:32.744Z"
   },
   {
    "duration": 87,
    "start_time": "2023-04-22T07:19:32.824Z"
   },
   {
    "duration": 473,
    "start_time": "2023-04-22T07:19:32.934Z"
   },
   {
    "duration": 421,
    "start_time": "2023-04-22T07:19:33.417Z"
   },
   {
    "duration": 59,
    "start_time": "2023-04-22T07:19:33.840Z"
   },
   {
    "duration": 214,
    "start_time": "2023-04-22T07:19:33.912Z"
   },
   {
    "duration": 15892,
    "start_time": "2023-04-22T07:19:34.127Z"
   },
   {
    "duration": 407,
    "start_time": "2023-04-22T07:19:50.024Z"
   },
   {
    "duration": 224,
    "start_time": "2023-04-22T07:19:50.433Z"
   },
   {
    "duration": 35,
    "start_time": "2023-04-22T07:19:50.658Z"
   },
   {
    "duration": 46,
    "start_time": "2023-04-22T07:19:50.695Z"
   },
   {
    "duration": 449,
    "start_time": "2023-04-22T07:19:50.744Z"
   },
   {
    "duration": 474,
    "start_time": "2023-04-22T07:19:51.200Z"
   },
   {
    "duration": 40,
    "start_time": "2023-04-22T07:19:51.676Z"
   },
   {
    "duration": 307,
    "start_time": "2023-04-22T07:19:51.718Z"
   },
   {
    "duration": 1578,
    "start_time": "2023-04-22T07:19:55.952Z"
   },
   {
    "duration": 32,
    "start_time": "2023-04-22T07:19:57.532Z"
   },
   {
    "duration": 46,
    "start_time": "2023-04-22T07:19:57.566Z"
   },
   {
    "duration": 23,
    "start_time": "2023-04-22T07:19:57.619Z"
   },
   {
    "duration": 22,
    "start_time": "2023-04-22T07:19:57.644Z"
   },
   {
    "duration": 6,
    "start_time": "2023-04-22T07:19:57.667Z"
   },
   {
    "duration": 75,
    "start_time": "2023-04-22T07:19:57.675Z"
   },
   {
    "duration": 41,
    "start_time": "2023-04-22T07:19:57.752Z"
   },
   {
    "duration": 359,
    "start_time": "2023-04-22T07:19:57.794Z"
   },
   {
    "duration": 460,
    "start_time": "2023-04-22T07:19:58.155Z"
   },
   {
    "duration": 28,
    "start_time": "2023-04-22T07:19:58.622Z"
   },
   {
    "duration": 163,
    "start_time": "2023-04-22T07:19:58.651Z"
   },
   {
    "duration": 42887,
    "start_time": "2023-04-22T07:19:58.817Z"
   },
   {
    "duration": 331,
    "start_time": "2023-04-22T07:20:41.707Z"
   },
   {
    "duration": 221,
    "start_time": "2023-04-22T07:20:42.040Z"
   },
   {
    "duration": 49,
    "start_time": "2023-04-22T07:20:42.263Z"
   },
   {
    "duration": 24,
    "start_time": "2023-04-22T07:20:42.316Z"
   },
   {
    "duration": 325,
    "start_time": "2023-04-22T07:20:42.344Z"
   },
   {
    "duration": 396,
    "start_time": "2023-04-22T07:20:42.672Z"
   },
   {
    "duration": 37,
    "start_time": "2023-04-22T07:20:43.069Z"
   },
   {
    "duration": 160,
    "start_time": "2023-04-22T07:20:43.111Z"
   },
   {
    "duration": 1190,
    "start_time": "2023-04-22T07:23:01.412Z"
   },
   {
    "duration": 244,
    "start_time": "2023-04-22T07:23:02.611Z"
   },
   {
    "duration": 38773,
    "start_time": "2023-04-22T07:23:02.857Z"
   },
   {
    "duration": 712,
    "start_time": "2023-04-22T07:23:53.513Z"
   },
   {
    "duration": 204,
    "start_time": "2023-04-22T07:23:55.617Z"
   },
   {
    "duration": 129,
    "start_time": "2023-04-22T07:33:54.422Z"
   },
   {
    "duration": 38,
    "start_time": "2023-04-22T07:34:45.538Z"
   },
   {
    "duration": 12,
    "start_time": "2023-04-22T07:34:57.414Z"
   },
   {
    "duration": 16,
    "start_time": "2023-04-22T07:35:29.013Z"
   },
   {
    "duration": 18,
    "start_time": "2023-04-22T07:35:48.261Z"
   },
   {
    "duration": 41,
    "start_time": "2023-04-22T07:35:54.681Z"
   },
   {
    "duration": 1526,
    "start_time": "2023-04-22T07:37:02.730Z"
   },
   {
    "duration": 33,
    "start_time": "2023-04-22T07:37:04.258Z"
   },
   {
    "duration": 33,
    "start_time": "2023-04-22T07:37:04.294Z"
   },
   {
    "duration": 23,
    "start_time": "2023-04-22T07:37:04.329Z"
   },
   {
    "duration": 48,
    "start_time": "2023-04-22T07:37:04.354Z"
   },
   {
    "duration": 7,
    "start_time": "2023-04-22T07:37:04.403Z"
   },
   {
    "duration": 58,
    "start_time": "2023-04-22T07:37:04.412Z"
   },
   {
    "duration": 47,
    "start_time": "2023-04-22T07:37:04.471Z"
   },
   {
    "duration": 425,
    "start_time": "2023-04-22T07:37:04.520Z"
   },
   {
    "duration": 382,
    "start_time": "2023-04-22T07:37:04.947Z"
   },
   {
    "duration": 24,
    "start_time": "2023-04-22T07:37:05.331Z"
   },
   {
    "duration": 169,
    "start_time": "2023-04-22T07:37:05.356Z"
   },
   {
    "duration": 40273,
    "start_time": "2023-04-22T07:37:05.526Z"
   },
   {
    "duration": 318,
    "start_time": "2023-04-22T07:37:45.804Z"
   },
   {
    "duration": 194,
    "start_time": "2023-04-22T07:37:46.124Z"
   },
   {
    "duration": 11,
    "start_time": "2023-04-22T07:37:46.320Z"
   },
   {
    "duration": 17,
    "start_time": "2023-04-22T07:37:46.333Z"
   },
   {
    "duration": 60,
    "start_time": "2023-04-22T07:37:46.352Z"
   },
   {
    "duration": 398,
    "start_time": "2023-04-22T07:37:46.419Z"
   },
   {
    "duration": 511,
    "start_time": "2023-04-22T07:37:46.819Z"
   },
   {
    "duration": 26,
    "start_time": "2023-04-22T07:37:47.332Z"
   },
   {
    "duration": 170,
    "start_time": "2023-04-22T07:37:47.359Z"
   },
   {
    "duration": 31895,
    "start_time": "2023-04-22T07:37:47.530Z"
   },
   {
    "duration": 541,
    "start_time": "2023-04-22T07:38:19.426Z"
   },
   {
    "duration": 235,
    "start_time": "2023-04-22T07:38:19.968Z"
   },
   {
    "duration": 27,
    "start_time": "2023-04-22T08:08:52.855Z"
   },
   {
    "duration": 1408,
    "start_time": "2023-04-22T08:09:22.194Z"
   },
   {
    "duration": 31,
    "start_time": "2023-04-22T08:09:23.604Z"
   },
   {
    "duration": 24,
    "start_time": "2023-04-22T08:09:23.637Z"
   },
   {
    "duration": 45,
    "start_time": "2023-04-22T08:09:23.663Z"
   },
   {
    "duration": 18,
    "start_time": "2023-04-22T08:09:23.710Z"
   },
   {
    "duration": 5,
    "start_time": "2023-04-22T08:09:23.730Z"
   },
   {
    "duration": 72,
    "start_time": "2023-04-22T08:09:23.736Z"
   },
   {
    "duration": 79,
    "start_time": "2023-04-22T08:09:23.809Z"
   },
   {
    "duration": 434,
    "start_time": "2023-04-22T08:09:23.889Z"
   },
   {
    "duration": 347,
    "start_time": "2023-04-22T08:09:24.324Z"
   },
   {
    "duration": 29,
    "start_time": "2023-04-22T08:09:24.672Z"
   },
   {
    "duration": 172,
    "start_time": "2023-04-22T08:09:24.702Z"
   },
   {
    "duration": 35054,
    "start_time": "2023-04-22T08:09:24.883Z"
   },
   {
    "duration": 318,
    "start_time": "2023-04-22T08:09:59.940Z"
   },
   {
    "duration": 178,
    "start_time": "2023-04-22T08:10:00.260Z"
   },
   {
    "duration": 12,
    "start_time": "2023-04-22T08:10:00.440Z"
   },
   {
    "duration": 56,
    "start_time": "2023-04-22T08:10:00.454Z"
   },
   {
    "duration": 52,
    "start_time": "2023-04-22T08:10:00.512Z"
   },
   {
    "duration": 417,
    "start_time": "2023-04-22T08:10:00.586Z"
   },
   {
    "duration": 496,
    "start_time": "2023-04-22T08:10:01.005Z"
   },
   {
    "duration": 28,
    "start_time": "2023-04-22T08:10:01.503Z"
   },
   {
    "duration": 167,
    "start_time": "2023-04-22T08:10:01.532Z"
   },
   {
    "duration": 28024,
    "start_time": "2023-04-22T08:10:01.701Z"
   },
   {
    "duration": 473,
    "start_time": "2023-04-22T08:10:29.727Z"
   },
   {
    "duration": 178,
    "start_time": "2023-04-22T08:10:30.201Z"
   },
   {
    "duration": 28,
    "start_time": "2023-04-22T08:14:10.558Z"
   },
   {
    "duration": 265,
    "start_time": "2023-04-22T08:14:11.225Z"
   },
   {
    "duration": 498,
    "start_time": "2023-04-22T08:14:11.548Z"
   },
   {
    "duration": 38,
    "start_time": "2023-04-22T08:14:12.049Z"
   },
   {
    "duration": 138,
    "start_time": "2023-04-22T08:14:12.119Z"
   },
   {
    "duration": 28982,
    "start_time": "2023-04-22T08:14:12.308Z"
   },
   {
    "duration": 473,
    "start_time": "2023-04-22T08:14:41.292Z"
   },
   {
    "duration": 169,
    "start_time": "2023-04-22T08:14:41.766Z"
   },
   {
    "duration": 34,
    "start_time": "2023-04-22T08:27:02.968Z"
   },
   {
    "duration": 15,
    "start_time": "2023-04-22T08:29:56.108Z"
   },
   {
    "duration": 1439,
    "start_time": "2023-04-22T08:30:10.912Z"
   },
   {
    "duration": 35,
    "start_time": "2023-04-22T08:30:12.353Z"
   },
   {
    "duration": 23,
    "start_time": "2023-04-22T08:30:12.390Z"
   },
   {
    "duration": 31,
    "start_time": "2023-04-22T08:30:12.415Z"
   },
   {
    "duration": 37,
    "start_time": "2023-04-22T08:30:12.447Z"
   },
   {
    "duration": 5,
    "start_time": "2023-04-22T08:30:12.487Z"
   },
   {
    "duration": 58,
    "start_time": "2023-04-22T08:30:12.494Z"
   },
   {
    "duration": 38,
    "start_time": "2023-04-22T08:30:12.553Z"
   },
   {
    "duration": 510,
    "start_time": "2023-04-22T08:30:12.593Z"
   },
   {
    "duration": 295,
    "start_time": "2023-04-22T08:30:13.106Z"
   },
   {
    "duration": 27,
    "start_time": "2023-04-22T08:30:13.402Z"
   },
   {
    "duration": 153,
    "start_time": "2023-04-22T08:30:13.430Z"
   },
   {
    "duration": 30339,
    "start_time": "2023-04-22T08:30:13.585Z"
   },
   {
    "duration": 243,
    "start_time": "2023-04-22T08:30:43.926Z"
   },
   {
    "duration": 159,
    "start_time": "2023-04-22T08:30:44.171Z"
   },
   {
    "duration": 12,
    "start_time": "2023-04-22T08:30:44.332Z"
   },
   {
    "duration": 34,
    "start_time": "2023-04-22T08:30:44.346Z"
   },
   {
    "duration": 105,
    "start_time": "2023-04-22T08:30:44.382Z"
   },
   {
    "duration": 444,
    "start_time": "2023-04-22T08:30:44.490Z"
   },
   {
    "duration": 382,
    "start_time": "2023-04-22T08:30:44.936Z"
   },
   {
    "duration": 24,
    "start_time": "2023-04-22T08:30:45.320Z"
   },
   {
    "duration": 142,
    "start_time": "2023-04-22T08:30:45.345Z"
   },
   {
    "duration": 31755,
    "start_time": "2023-04-22T08:30:45.488Z"
   },
   {
    "duration": 482,
    "start_time": "2023-04-22T08:31:17.244Z"
   },
   {
    "duration": 171,
    "start_time": "2023-04-22T08:31:17.728Z"
   },
   {
    "duration": 61,
    "start_time": "2023-04-22T08:35:27.066Z"
   },
   {
    "duration": 1571,
    "start_time": "2023-04-22T08:36:41.655Z"
   },
   {
    "duration": 35,
    "start_time": "2023-04-22T08:36:43.228Z"
   },
   {
    "duration": 24,
    "start_time": "2023-04-22T08:36:43.265Z"
   },
   {
    "duration": 28,
    "start_time": "2023-04-22T08:36:43.291Z"
   },
   {
    "duration": 19,
    "start_time": "2023-04-22T08:36:43.321Z"
   },
   {
    "duration": 14,
    "start_time": "2023-04-22T08:36:43.342Z"
   },
   {
    "duration": 110,
    "start_time": "2023-04-22T08:36:43.358Z"
   },
   {
    "duration": 26,
    "start_time": "2023-04-22T08:36:43.470Z"
   },
   {
    "duration": 516,
    "start_time": "2023-04-22T08:36:43.498Z"
   },
   {
    "duration": 300,
    "start_time": "2023-04-22T08:36:44.016Z"
   },
   {
    "duration": 27,
    "start_time": "2023-04-22T08:36:44.328Z"
   },
   {
    "duration": 200,
    "start_time": "2023-04-22T08:36:44.357Z"
   },
   {
    "duration": 31246,
    "start_time": "2023-04-22T08:36:44.559Z"
   },
   {
    "duration": 244,
    "start_time": "2023-04-22T08:37:15.807Z"
   },
   {
    "duration": 158,
    "start_time": "2023-04-22T08:37:16.053Z"
   },
   {
    "duration": 10,
    "start_time": "2023-04-22T08:37:16.212Z"
   },
   {
    "duration": 20,
    "start_time": "2023-04-22T08:37:16.224Z"
   },
   {
    "duration": 41,
    "start_time": "2023-04-22T08:37:16.246Z"
   },
   {
    "duration": 413,
    "start_time": "2023-04-22T08:37:16.289Z"
   },
   {
    "duration": 406,
    "start_time": "2023-04-22T08:37:16.704Z"
   },
   {
    "duration": 29,
    "start_time": "2023-04-22T08:37:17.112Z"
   },
   {
    "duration": 157,
    "start_time": "2023-04-22T08:37:17.143Z"
   },
   {
    "duration": 33827,
    "start_time": "2023-04-22T08:37:17.302Z"
   },
   {
    "duration": 497,
    "start_time": "2023-04-22T08:37:51.131Z"
   },
   {
    "duration": 170,
    "start_time": "2023-04-22T08:37:51.629Z"
   },
   {
    "duration": 108,
    "start_time": "2023-04-22T08:41:26.932Z"
   },
   {
    "duration": 488,
    "start_time": "2023-04-22T08:42:13.369Z"
   },
   {
    "duration": 520,
    "start_time": "2023-04-22T08:43:13.039Z"
   },
   {
    "duration": 1480,
    "start_time": "2023-04-22T08:44:45.481Z"
   },
   {
    "duration": 36,
    "start_time": "2023-04-22T08:44:46.963Z"
   },
   {
    "duration": 27,
    "start_time": "2023-04-22T08:44:47.000Z"
   },
   {
    "duration": 27,
    "start_time": "2023-04-22T08:44:47.029Z"
   },
   {
    "duration": 41,
    "start_time": "2023-04-22T08:44:47.058Z"
   },
   {
    "duration": 10,
    "start_time": "2023-04-22T08:44:47.101Z"
   },
   {
    "duration": 87,
    "start_time": "2023-04-22T08:44:47.112Z"
   },
   {
    "duration": 88,
    "start_time": "2023-04-22T08:44:47.201Z"
   },
   {
    "duration": 397,
    "start_time": "2023-04-22T08:44:47.292Z"
   },
   {
    "duration": 298,
    "start_time": "2023-04-22T08:44:47.692Z"
   },
   {
    "duration": 27,
    "start_time": "2023-04-22T08:44:47.992Z"
   },
   {
    "duration": 168,
    "start_time": "2023-04-22T08:44:48.021Z"
   },
   {
    "duration": 30100,
    "start_time": "2023-04-22T08:44:48.190Z"
   },
   {
    "duration": 236,
    "start_time": "2023-04-22T08:45:18.292Z"
   },
   {
    "duration": 144,
    "start_time": "2023-04-22T08:45:18.529Z"
   },
   {
    "duration": 16,
    "start_time": "2023-04-22T08:45:18.675Z"
   },
   {
    "duration": 49,
    "start_time": "2023-04-22T08:45:18.693Z"
   },
   {
    "duration": 34,
    "start_time": "2023-04-22T08:45:18.744Z"
   },
   {
    "duration": 329,
    "start_time": "2023-04-22T08:45:18.780Z"
   },
   {
    "duration": 361,
    "start_time": "2023-04-22T08:45:19.110Z"
   },
   {
    "duration": 30,
    "start_time": "2023-04-22T08:45:19.473Z"
   },
   {
    "duration": 154,
    "start_time": "2023-04-22T08:45:19.505Z"
   },
   {
    "duration": 29709,
    "start_time": "2023-04-22T08:45:19.661Z"
   },
   {
    "duration": 468,
    "start_time": "2023-04-22T08:45:49.372Z"
   },
   {
    "duration": 194,
    "start_time": "2023-04-22T08:45:49.842Z"
   },
   {
    "duration": 516,
    "start_time": "2023-04-22T08:45:50.038Z"
   },
   {
    "duration": 2,
    "start_time": "2023-04-22T08:47:05.912Z"
   },
   {
    "duration": 114,
    "start_time": "2023-04-22T08:54:32.119Z"
   },
   {
    "duration": 1614,
    "start_time": "2023-04-22T08:55:07.063Z"
   },
   {
    "duration": 35,
    "start_time": "2023-04-22T08:55:08.680Z"
   },
   {
    "duration": 26,
    "start_time": "2023-04-22T08:55:08.717Z"
   },
   {
    "duration": 53,
    "start_time": "2023-04-22T08:55:08.745Z"
   },
   {
    "duration": 24,
    "start_time": "2023-04-22T08:55:08.800Z"
   },
   {
    "duration": 21,
    "start_time": "2023-04-22T08:55:08.826Z"
   },
   {
    "duration": 93,
    "start_time": "2023-04-22T08:55:08.849Z"
   },
   {
    "duration": 47,
    "start_time": "2023-04-22T08:55:08.945Z"
   },
   {
    "duration": 432,
    "start_time": "2023-04-22T08:55:08.996Z"
   },
   {
    "duration": 327,
    "start_time": "2023-04-22T08:55:09.430Z"
   },
   {
    "duration": 48,
    "start_time": "2023-04-22T08:55:09.760Z"
   },
   {
    "duration": 165,
    "start_time": "2023-04-22T08:55:09.810Z"
   },
   {
    "duration": 32676,
    "start_time": "2023-04-22T08:55:09.983Z"
   },
   {
    "duration": 237,
    "start_time": "2023-04-22T08:55:42.661Z"
   },
   {
    "duration": 165,
    "start_time": "2023-04-22T08:55:42.900Z"
   },
   {
    "duration": 21,
    "start_time": "2023-04-22T08:55:43.066Z"
   },
   {
    "duration": 17,
    "start_time": "2023-04-22T08:55:43.089Z"
   },
   {
    "duration": 80,
    "start_time": "2023-04-22T08:55:43.107Z"
   },
   {
    "duration": 431,
    "start_time": "2023-04-22T08:55:43.189Z"
   },
   {
    "duration": 398,
    "start_time": "2023-04-22T08:55:43.622Z"
   },
   {
    "duration": 29,
    "start_time": "2023-04-22T08:55:44.038Z"
   },
   {
    "duration": 151,
    "start_time": "2023-04-22T08:55:44.069Z"
   },
   {
    "duration": 23311,
    "start_time": "2023-04-22T08:55:44.221Z"
   },
   {
    "duration": 259,
    "start_time": "2023-04-22T08:56:07.534Z"
   },
   {
    "duration": 17,
    "start_time": "2023-04-22T08:56:07.795Z"
   },
   {
    "duration": 0,
    "start_time": "2023-04-22T08:56:07.814Z"
   },
   {
    "duration": 0,
    "start_time": "2023-04-22T08:56:07.815Z"
   },
   {
    "duration": 32072,
    "start_time": "2023-04-22T08:57:33.351Z"
   },
   {
    "duration": 486,
    "start_time": "2023-04-22T08:58:07.576Z"
   },
   {
    "duration": 196,
    "start_time": "2023-04-22T08:58:12.287Z"
   },
   {
    "duration": 16,
    "start_time": "2023-04-22T08:58:17.476Z"
   },
   {
    "duration": 6,
    "start_time": "2023-04-22T08:59:11.448Z"
   },
   {
    "duration": 1484,
    "start_time": "2023-04-22T09:07:22.058Z"
   },
   {
    "duration": 37,
    "start_time": "2023-04-22T09:07:23.544Z"
   },
   {
    "duration": 29,
    "start_time": "2023-04-22T09:07:23.583Z"
   },
   {
    "duration": 33,
    "start_time": "2023-04-22T09:07:23.615Z"
   },
   {
    "duration": 42,
    "start_time": "2023-04-22T09:07:23.651Z"
   },
   {
    "duration": 7,
    "start_time": "2023-04-22T09:07:23.694Z"
   },
   {
    "duration": 101,
    "start_time": "2023-04-22T09:07:23.703Z"
   },
   {
    "duration": 20,
    "start_time": "2023-04-22T09:07:23.806Z"
   },
   {
    "duration": 492,
    "start_time": "2023-04-22T09:07:23.828Z"
   },
   {
    "duration": 300,
    "start_time": "2023-04-22T09:07:24.323Z"
   },
   {
    "duration": 23,
    "start_time": "2023-04-22T09:07:24.625Z"
   },
   {
    "duration": 176,
    "start_time": "2023-04-22T09:07:24.650Z"
   },
   {
    "duration": 30489,
    "start_time": "2023-04-22T09:07:24.828Z"
   },
   {
    "duration": 238,
    "start_time": "2023-04-22T09:07:55.320Z"
   },
   {
    "duration": 157,
    "start_time": "2023-04-22T09:07:55.560Z"
   },
   {
    "duration": 11,
    "start_time": "2023-04-22T09:07:55.719Z"
   },
   {
    "duration": 14,
    "start_time": "2023-04-22T09:07:55.731Z"
   },
   {
    "duration": 54,
    "start_time": "2023-04-22T09:07:55.747Z"
   },
   {
    "duration": 388,
    "start_time": "2023-04-22T09:07:55.805Z"
   },
   {
    "duration": 366,
    "start_time": "2023-04-22T09:07:56.196Z"
   },
   {
    "duration": 36,
    "start_time": "2023-04-22T09:07:56.564Z"
   },
   {
    "duration": 144,
    "start_time": "2023-04-22T09:07:56.602Z"
   },
   {
    "duration": 29450,
    "start_time": "2023-04-22T09:07:56.748Z"
   },
   {
    "duration": 440,
    "start_time": "2023-04-22T09:08:26.200Z"
   },
   {
    "duration": 167,
    "start_time": "2023-04-22T09:08:26.642Z"
   },
   {
    "duration": 13,
    "start_time": "2023-04-22T09:08:26.811Z"
   },
   {
    "duration": 62,
    "start_time": "2023-04-22T09:08:26.826Z"
   },
   {
    "duration": 411,
    "start_time": "2023-04-22T09:08:26.894Z"
   },
   {
    "duration": 359,
    "start_time": "2023-04-22T09:08:27.307Z"
   },
   {
    "duration": 34,
    "start_time": "2023-04-22T09:08:27.668Z"
   },
   {
    "duration": 138,
    "start_time": "2023-04-22T09:08:27.704Z"
   },
   {
    "duration": 29605,
    "start_time": "2023-04-22T09:08:27.844Z"
   },
   {
    "duration": 436,
    "start_time": "2023-04-22T09:08:57.450Z"
   },
   {
    "duration": 173,
    "start_time": "2023-04-22T09:08:57.895Z"
   },
   {
    "duration": 405,
    "start_time": "2023-04-22T09:08:58.070Z"
   },
   {
    "duration": 1575,
    "start_time": "2023-04-22T09:12:04.744Z"
   },
   {
    "duration": 37,
    "start_time": "2023-04-22T09:12:06.321Z"
   },
   {
    "duration": 29,
    "start_time": "2023-04-22T09:12:06.360Z"
   },
   {
    "duration": 27,
    "start_time": "2023-04-22T09:12:06.391Z"
   },
   {
    "duration": 48,
    "start_time": "2023-04-22T09:12:06.419Z"
   },
   {
    "duration": 28,
    "start_time": "2023-04-22T09:12:06.469Z"
   },
   {
    "duration": 64,
    "start_time": "2023-04-22T09:12:06.499Z"
   },
   {
    "duration": 31,
    "start_time": "2023-04-22T09:12:06.565Z"
   },
   {
    "duration": 421,
    "start_time": "2023-04-22T09:12:06.599Z"
   },
   {
    "duration": 345,
    "start_time": "2023-04-22T09:12:07.023Z"
   },
   {
    "duration": 35,
    "start_time": "2023-04-22T09:12:07.370Z"
   },
   {
    "duration": 165,
    "start_time": "2023-04-22T09:12:07.406Z"
   },
   {
    "duration": 32711,
    "start_time": "2023-04-22T09:12:07.572Z"
   },
   {
    "duration": 250,
    "start_time": "2023-04-22T09:12:40.285Z"
   },
   {
    "duration": 186,
    "start_time": "2023-04-22T09:12:40.537Z"
   },
   {
    "duration": 12,
    "start_time": "2023-04-22T09:12:40.724Z"
   },
   {
    "duration": 22,
    "start_time": "2023-04-22T09:12:40.739Z"
   },
   {
    "duration": 32,
    "start_time": "2023-04-22T09:12:40.784Z"
   },
   {
    "duration": 403,
    "start_time": "2023-04-22T09:12:40.819Z"
   },
   {
    "duration": 415,
    "start_time": "2023-04-22T09:12:41.224Z"
   },
   {
    "duration": 29,
    "start_time": "2023-04-22T09:12:41.641Z"
   },
   {
    "duration": 248,
    "start_time": "2023-04-22T09:12:41.684Z"
   },
   {
    "duration": 29320,
    "start_time": "2023-04-22T09:12:41.934Z"
   },
   {
    "duration": 466,
    "start_time": "2023-04-22T09:13:11.256Z"
   },
   {
    "duration": 166,
    "start_time": "2023-04-22T09:13:11.723Z"
   },
   {
    "duration": 19,
    "start_time": "2023-04-22T09:13:11.891Z"
   },
   {
    "duration": 74,
    "start_time": "2023-04-22T09:13:11.911Z"
   },
   {
    "duration": 422,
    "start_time": "2023-04-22T09:13:11.990Z"
   },
   {
    "duration": 160,
    "start_time": "2023-04-22T09:13:12.414Z"
   },
   {
    "duration": 19,
    "start_time": "2023-04-22T09:13:12.576Z"
   },
   {
    "duration": 142,
    "start_time": "2023-04-22T09:13:12.598Z"
   },
   {
    "duration": 11674,
    "start_time": "2023-04-22T09:13:12.742Z"
   },
   {
    "duration": 67,
    "start_time": "2023-04-22T09:13:24.417Z"
   },
   {
    "duration": 143,
    "start_time": "2023-04-22T09:13:24.486Z"
   },
   {
    "duration": 246,
    "start_time": "2023-04-22T09:13:24.630Z"
   },
   {
    "duration": 80,
    "start_time": "2023-04-22T09:14:00.170Z"
   },
   {
    "duration": 212,
    "start_time": "2023-04-22T09:14:12.854Z"
   },
   {
    "duration": 452,
    "start_time": "2023-04-22T09:14:43.196Z"
   },
   {
    "duration": 547,
    "start_time": "2023-04-22T09:15:02.301Z"
   },
   {
    "duration": 114533,
    "start_time": "2023-04-22T09:16:47.305Z"
   },
   {
    "duration": 510,
    "start_time": "2023-04-22T09:37:08.370Z"
   },
   {
    "duration": 20,
    "start_time": "2023-04-22T09:39:45.120Z"
   },
   {
    "duration": 160,
    "start_time": "2023-04-22T09:39:55.110Z"
   },
   {
    "duration": 16,
    "start_time": "2023-04-22T09:40:01.812Z"
   },
   {
    "duration": 30,
    "start_time": "2023-04-22T09:40:06.600Z"
   },
   {
    "duration": 280,
    "start_time": "2023-04-22T09:40:07.740Z"
   },
   {
    "duration": 368,
    "start_time": "2023-04-22T09:40:13.440Z"
   },
   {
    "duration": 29,
    "start_time": "2023-04-22T09:40:22.680Z"
   },
   {
    "duration": 141,
    "start_time": "2023-04-22T09:40:29.134Z"
   },
   {
    "duration": 24485,
    "start_time": "2023-04-22T09:40:34.501Z"
   },
   {
    "duration": 124,
    "start_time": "2023-04-22T09:41:02.671Z"
   },
   {
    "duration": 140,
    "start_time": "2023-04-22T09:41:03.572Z"
   },
   {
    "duration": 115,
    "start_time": "2023-04-22T09:41:24.122Z"
   },
   {
    "duration": 16,
    "start_time": "2023-04-22T09:42:46.505Z"
   },
   {
    "duration": 24,
    "start_time": "2023-04-22T09:42:48.694Z"
   },
   {
    "duration": 312,
    "start_time": "2023-04-22T09:42:49.715Z"
   },
   {
    "duration": 396,
    "start_time": "2023-04-22T09:42:53.315Z"
   },
   {
    "duration": 26,
    "start_time": "2023-04-22T09:42:55.145Z"
   },
   {
    "duration": 149,
    "start_time": "2023-04-22T09:42:57.497Z"
   },
   {
    "duration": 45298,
    "start_time": "2023-04-22T09:42:58.565Z"
   },
   {
    "duration": 274,
    "start_time": "2023-04-22T09:43:43.865Z"
   },
   {
    "duration": 147,
    "start_time": "2023-04-22T09:43:44.140Z"
   },
   {
    "duration": 283,
    "start_time": "2023-04-22T09:44:09.667Z"
   },
   {
    "duration": 130,
    "start_time": "2023-04-22T09:44:17.347Z"
   },
   {
    "duration": 124,
    "start_time": "2023-04-22T09:44:22.328Z"
   },
   {
    "duration": 1453,
    "start_time": "2023-04-22T09:45:15.002Z"
   },
   {
    "duration": 34,
    "start_time": "2023-04-22T09:45:16.456Z"
   },
   {
    "duration": 24,
    "start_time": "2023-04-22T09:45:16.500Z"
   },
   {
    "duration": 23,
    "start_time": "2023-04-22T09:45:16.526Z"
   },
   {
    "duration": 19,
    "start_time": "2023-04-22T09:45:16.552Z"
   },
   {
    "duration": 27,
    "start_time": "2023-04-22T09:45:16.573Z"
   },
   {
    "duration": 72,
    "start_time": "2023-04-22T09:45:16.602Z"
   },
   {
    "duration": 31,
    "start_time": "2023-04-22T09:45:16.675Z"
   },
   {
    "duration": 403,
    "start_time": "2023-04-22T09:45:16.708Z"
   },
   {
    "duration": 292,
    "start_time": "2023-04-22T09:45:17.113Z"
   },
   {
    "duration": 23,
    "start_time": "2023-04-22T09:45:17.407Z"
   },
   {
    "duration": 148,
    "start_time": "2023-04-22T09:45:17.432Z"
   },
   {
    "duration": 31376,
    "start_time": "2023-04-22T09:45:17.596Z"
   },
   {
    "duration": 253,
    "start_time": "2023-04-22T09:45:48.975Z"
   },
   {
    "duration": 181,
    "start_time": "2023-04-22T09:45:49.230Z"
   },
   {
    "duration": 11,
    "start_time": "2023-04-22T09:45:49.413Z"
   },
   {
    "duration": 32,
    "start_time": "2023-04-22T09:45:49.426Z"
   },
   {
    "duration": 40,
    "start_time": "2023-04-22T09:45:49.460Z"
   },
   {
    "duration": 434,
    "start_time": "2023-04-22T09:45:49.502Z"
   },
   {
    "duration": 412,
    "start_time": "2023-04-22T09:45:49.938Z"
   },
   {
    "duration": 22,
    "start_time": "2023-04-22T09:45:50.352Z"
   },
   {
    "duration": 222,
    "start_time": "2023-04-22T09:45:50.391Z"
   },
   {
    "duration": 25317,
    "start_time": "2023-04-22T09:45:50.615Z"
   },
   {
    "duration": 113,
    "start_time": "2023-04-22T09:46:15.936Z"
   },
   {
    "duration": 159,
    "start_time": "2023-04-22T09:46:16.051Z"
   },
   {
    "duration": 15,
    "start_time": "2023-04-22T09:46:16.212Z"
   },
   {
    "duration": 71,
    "start_time": "2023-04-22T09:46:16.228Z"
   },
   {
    "duration": 383,
    "start_time": "2023-04-22T09:46:16.307Z"
   },
   {
    "duration": 152,
    "start_time": "2023-04-22T09:46:16.692Z"
   },
   {
    "duration": 11,
    "start_time": "2023-04-22T09:46:16.846Z"
   },
   {
    "duration": 151,
    "start_time": "2023-04-22T09:46:16.859Z"
   },
   {
    "duration": 11994,
    "start_time": "2023-04-22T09:46:17.011Z"
   },
   {
    "duration": 55,
    "start_time": "2023-04-22T09:46:29.006Z"
   },
   {
    "duration": 151,
    "start_time": "2023-04-22T09:46:29.063Z"
   },
   {
    "duration": 121,
    "start_time": "2023-04-22T09:46:29.216Z"
   },
   {
    "duration": 121,
    "start_time": "2023-04-22T09:46:43.452Z"
   },
   {
    "duration": 111,
    "start_time": "2023-04-22T09:46:46.331Z"
   },
   {
    "duration": 125,
    "start_time": "2023-04-22T09:46:48.702Z"
   },
   {
    "duration": 114,
    "start_time": "2023-04-22T12:19:28.232Z"
   },
   {
    "duration": 220,
    "start_time": "2023-04-22T12:23:32.619Z"
   },
   {
    "duration": 128,
    "start_time": "2023-04-22T12:24:25.391Z"
   },
   {
    "duration": 16,
    "start_time": "2023-04-22T12:41:40.481Z"
   },
   {
    "duration": 13,
    "start_time": "2023-04-22T12:41:43.661Z"
   },
   {
    "duration": 284,
    "start_time": "2023-04-22T12:41:49.631Z"
   },
   {
    "duration": 157,
    "start_time": "2023-04-22T12:41:52.961Z"
   },
   {
    "duration": 13,
    "start_time": "2023-04-22T12:41:53.651Z"
   },
   {
    "duration": 134,
    "start_time": "2023-04-22T12:41:54.257Z"
   },
   {
    "duration": 15452,
    "start_time": "2023-04-22T12:41:55.421Z"
   },
   {
    "duration": 135,
    "start_time": "2023-04-22T12:42:10.875Z"
   },
   {
    "duration": 155,
    "start_time": "2023-04-22T12:42:11.012Z"
   },
   {
    "duration": 238,
    "start_time": "2023-04-22T12:43:56.535Z"
   },
   {
    "duration": 141,
    "start_time": "2023-04-22T12:44:35.102Z"
   },
   {
    "duration": 2259,
    "start_time": "2023-04-22T13:11:30.230Z"
   },
   {
    "duration": 59,
    "start_time": "2023-04-22T13:11:32.493Z"
   },
   {
    "duration": 48,
    "start_time": "2023-04-22T13:11:32.555Z"
   },
   {
    "duration": 43,
    "start_time": "2023-04-22T13:11:32.606Z"
   },
   {
    "duration": 46,
    "start_time": "2023-04-22T13:11:32.653Z"
   },
   {
    "duration": 21,
    "start_time": "2023-04-22T13:11:32.703Z"
   },
   {
    "duration": 125,
    "start_time": "2023-04-22T13:11:32.726Z"
   },
   {
    "duration": 146,
    "start_time": "2023-04-22T13:11:32.854Z"
   },
   {
    "duration": 608,
    "start_time": "2023-04-22T13:11:33.008Z"
   },
   {
    "duration": 438,
    "start_time": "2023-04-22T13:11:33.618Z"
   },
   {
    "duration": 42,
    "start_time": "2023-04-22T13:11:34.058Z"
   },
   {
    "duration": 191,
    "start_time": "2023-04-22T13:11:34.102Z"
   },
   {
    "duration": 36816,
    "start_time": "2023-04-22T13:11:34.295Z"
   },
   {
    "duration": 295,
    "start_time": "2023-04-22T13:12:11.114Z"
   },
   {
    "duration": 228,
    "start_time": "2023-04-22T13:12:11.411Z"
   },
   {
    "duration": 17,
    "start_time": "2023-04-22T13:12:11.642Z"
   },
   {
    "duration": 54,
    "start_time": "2023-04-22T13:12:11.661Z"
   },
   {
    "duration": 93,
    "start_time": "2023-04-22T13:12:11.717Z"
   },
   {
    "duration": 376,
    "start_time": "2023-04-22T13:12:11.884Z"
   },
   {
    "duration": 395,
    "start_time": "2023-04-22T13:12:12.262Z"
   },
   {
    "duration": 30,
    "start_time": "2023-04-22T13:12:12.659Z"
   },
   {
    "duration": 283,
    "start_time": "2023-04-22T13:12:12.692Z"
   },
   {
    "duration": 24900,
    "start_time": "2023-04-22T13:12:12.977Z"
   },
   {
    "duration": 113,
    "start_time": "2023-04-22T13:12:37.883Z"
   },
   {
    "duration": 166,
    "start_time": "2023-04-22T13:12:37.997Z"
   },
   {
    "duration": 32,
    "start_time": "2023-04-22T13:12:38.165Z"
   },
   {
    "duration": 20,
    "start_time": "2023-04-22T13:12:38.199Z"
   },
   {
    "duration": 380,
    "start_time": "2023-04-22T13:12:38.383Z"
   },
   {
    "duration": 211,
    "start_time": "2023-04-22T13:12:38.766Z"
   },
   {
    "duration": 15,
    "start_time": "2023-04-22T13:12:38.979Z"
   },
   {
    "duration": 154,
    "start_time": "2023-04-22T13:12:38.995Z"
   },
   {
    "duration": 15891,
    "start_time": "2023-04-22T13:12:39.151Z"
   },
   {
    "duration": 157,
    "start_time": "2023-04-22T13:12:55.045Z"
   },
   {
    "duration": 175,
    "start_time": "2023-04-22T13:12:55.205Z"
   },
   {
    "duration": 148,
    "start_time": "2023-04-22T13:12:55.384Z"
   },
   {
    "duration": 2513,
    "start_time": "2023-04-23T10:48:46.527Z"
   },
   {
    "duration": 29,
    "start_time": "2023-04-23T10:48:49.042Z"
   },
   {
    "duration": 22,
    "start_time": "2023-04-23T10:48:49.072Z"
   },
   {
    "duration": 24,
    "start_time": "2023-04-23T10:48:49.096Z"
   },
   {
    "duration": 15,
    "start_time": "2023-04-23T10:48:49.122Z"
   },
   {
    "duration": 5,
    "start_time": "2023-04-23T10:48:49.138Z"
   },
   {
    "duration": 79,
    "start_time": "2023-04-23T10:48:49.144Z"
   },
   {
    "duration": 23,
    "start_time": "2023-04-23T10:48:49.225Z"
   },
   {
    "duration": 475,
    "start_time": "2023-04-23T10:48:49.249Z"
   },
   {
    "duration": 257,
    "start_time": "2023-04-23T10:48:49.725Z"
   },
   {
    "duration": 24,
    "start_time": "2023-04-23T10:48:49.984Z"
   },
   {
    "duration": 136,
    "start_time": "2023-04-23T10:48:50.009Z"
   },
   {
    "duration": 27336,
    "start_time": "2023-04-23T10:48:50.147Z"
   },
   {
    "duration": 212,
    "start_time": "2023-04-23T10:49:17.486Z"
   },
   {
    "duration": 139,
    "start_time": "2023-04-23T10:49:17.700Z"
   },
   {
    "duration": 10,
    "start_time": "2023-04-23T10:49:17.841Z"
   },
   {
    "duration": 12,
    "start_time": "2023-04-23T10:49:17.852Z"
   },
   {
    "duration": 41,
    "start_time": "2023-04-23T10:49:17.866Z"
   },
   {
    "duration": 355,
    "start_time": "2023-04-23T10:49:17.908Z"
   },
   {
    "duration": 312,
    "start_time": "2023-04-23T10:49:18.265Z"
   },
   {
    "duration": 28,
    "start_time": "2023-04-23T10:49:18.578Z"
   },
   {
    "duration": 202,
    "start_time": "2023-04-23T10:49:18.608Z"
   },
   {
    "duration": 22080,
    "start_time": "2023-04-23T10:49:18.812Z"
   },
   {
    "duration": 102,
    "start_time": "2023-04-23T10:49:40.894Z"
   },
   {
    "duration": 129,
    "start_time": "2023-04-23T10:49:40.997Z"
   },
   {
    "duration": 15,
    "start_time": "2023-04-23T10:49:41.127Z"
   },
   {
    "duration": 51,
    "start_time": "2023-04-23T10:49:41.143Z"
   },
   {
    "duration": 327,
    "start_time": "2023-04-23T10:49:41.196Z"
   },
   {
    "duration": 153,
    "start_time": "2023-04-23T10:49:41.524Z"
   },
   {
    "duration": 22,
    "start_time": "2023-04-23T10:49:41.679Z"
   },
   {
    "duration": 137,
    "start_time": "2023-04-23T10:49:41.703Z"
   },
   {
    "duration": 14464,
    "start_time": "2023-04-23T10:49:41.842Z"
   },
   {
    "duration": 121,
    "start_time": "2023-04-23T10:49:56.308Z"
   },
   {
    "duration": 137,
    "start_time": "2023-04-23T10:49:56.430Z"
   },
   {
    "duration": 114,
    "start_time": "2023-04-23T10:49:56.569Z"
   },
   {
    "duration": 54,
    "start_time": "2023-04-23T13:20:13.648Z"
   },
   {
    "duration": 3,
    "start_time": "2023-04-23T13:20:47.405Z"
   },
   {
    "duration": 3,
    "start_time": "2023-04-23T13:20:57.116Z"
   },
   {
    "duration": 3,
    "start_time": "2023-04-23T13:21:40.743Z"
   },
   {
    "duration": 1898,
    "start_time": "2023-04-23T13:21:50.341Z"
   },
   {
    "duration": 64,
    "start_time": "2023-04-23T13:21:52.242Z"
   },
   {
    "duration": 37,
    "start_time": "2023-04-23T13:21:52.309Z"
   },
   {
    "duration": 61,
    "start_time": "2023-04-23T13:21:52.348Z"
   },
   {
    "duration": 31,
    "start_time": "2023-04-23T13:21:52.411Z"
   },
   {
    "duration": 7,
    "start_time": "2023-04-23T13:21:52.444Z"
   },
   {
    "duration": 100,
    "start_time": "2023-04-23T13:21:52.453Z"
   },
   {
    "duration": 45,
    "start_time": "2023-04-23T13:21:52.555Z"
   },
   {
    "duration": 341,
    "start_time": "2023-04-23T13:21:52.606Z"
   },
   {
    "duration": 327,
    "start_time": "2023-04-23T13:21:52.950Z"
   },
   {
    "duration": 43,
    "start_time": "2023-04-23T13:21:53.279Z"
   },
   {
    "duration": 174,
    "start_time": "2023-04-23T13:21:53.324Z"
   },
   {
    "duration": 36659,
    "start_time": "2023-04-23T13:21:53.500Z"
   },
   {
    "duration": 292,
    "start_time": "2023-04-23T13:22:30.161Z"
   },
   {
    "duration": 247,
    "start_time": "2023-04-23T13:22:30.456Z"
   },
   {
    "duration": 20,
    "start_time": "2023-04-23T13:22:30.705Z"
   },
   {
    "duration": 44,
    "start_time": "2023-04-23T13:22:30.728Z"
   },
   {
    "duration": 116,
    "start_time": "2023-04-23T13:22:30.775Z"
   },
   {
    "duration": 390,
    "start_time": "2023-04-23T13:22:30.894Z"
   },
   {
    "duration": 402,
    "start_time": "2023-04-23T13:22:31.288Z"
   },
   {
    "duration": 26,
    "start_time": "2023-04-23T13:22:31.692Z"
   },
   {
    "duration": 283,
    "start_time": "2023-04-23T13:22:31.721Z"
   },
   {
    "duration": 28976,
    "start_time": "2023-04-23T13:22:32.006Z"
   },
   {
    "duration": 147,
    "start_time": "2023-04-23T13:23:00.984Z"
   },
   {
    "duration": 259,
    "start_time": "2023-04-23T13:23:01.133Z"
   },
   {
    "duration": 26,
    "start_time": "2023-04-23T13:23:01.394Z"
   },
   {
    "duration": 184,
    "start_time": "2023-04-23T13:23:01.423Z"
   },
   {
    "duration": 352,
    "start_time": "2023-04-23T13:23:01.688Z"
   },
   {
    "duration": 247,
    "start_time": "2023-04-23T13:23:02.042Z"
   },
   {
    "duration": 19,
    "start_time": "2023-04-23T13:23:02.292Z"
   },
   {
    "duration": 181,
    "start_time": "2023-04-23T13:23:02.317Z"
   },
   {
    "duration": 17696,
    "start_time": "2023-04-23T13:23:02.507Z"
   },
   {
    "duration": 207,
    "start_time": "2023-04-23T13:23:20.207Z"
   },
   {
    "duration": 228,
    "start_time": "2023-04-23T13:23:20.416Z"
   },
   {
    "duration": 158,
    "start_time": "2023-04-23T13:23:20.646Z"
   },
   {
    "duration": 3,
    "start_time": "2023-04-23T13:23:20.806Z"
   }
  ],
  "kernelspec": {
   "display_name": "Python 3 (ipykernel)",
   "language": "python",
   "name": "python3"
  },
  "language_info": {
   "codemirror_mode": {
    "name": "ipython",
    "version": 3
   },
   "file_extension": ".py",
   "mimetype": "text/x-python",
   "name": "python",
   "nbconvert_exporter": "python",
   "pygments_lexer": "ipython3",
   "version": "3.9.12"
  },
  "toc": {
   "base_numbering": 1,
   "nav_menu": {},
   "number_sections": true,
   "sideBar": true,
   "skip_h1_title": true,
   "title_cell": "Содержание",
   "title_sidebar": "Contents",
   "toc_cell": true,
   "toc_position": {},
   "toc_section_display": true,
   "toc_window_display": true
  }
 },
 "nbformat": 4,
 "nbformat_minor": 2
}
