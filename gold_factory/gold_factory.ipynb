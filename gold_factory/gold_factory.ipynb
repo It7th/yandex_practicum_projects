{
 "cells": [
  {
   "cell_type": "markdown",
   "metadata": {
    "toc": true
   },
   "source": [
    "<h1>Содержание<span class=\"tocSkip\"></span></h1>\n",
    "<div class=\"toc\"><ul class=\"toc-item\"><li><span><a href=\"#Подготовка-данных\" data-toc-modified-id=\"Подготовка-данных-1\"><span class=\"toc-item-num\">1&nbsp;&nbsp;</span>Подготовка данных</a></span></li><li><span><a href=\"#Анализ-данных\" data-toc-modified-id=\"Анализ-данных-2\"><span class=\"toc-item-num\">2&nbsp;&nbsp;</span>Анализ данных</a></span></li><li><span><a href=\"#Модель\" data-toc-modified-id=\"Модель-3\"><span class=\"toc-item-num\">3&nbsp;&nbsp;</span>Модель</a></span><ul class=\"toc-item\"><li><span><a href=\"#Функция-расчета-SMAPE\" data-toc-modified-id=\"Функция-расчета-SMAPE-3.1\"><span class=\"toc-item-num\">3.1&nbsp;&nbsp;</span>Функция расчета SMAPE</a></span></li><li><span><a href=\"#Функция-расчета-score\" data-toc-modified-id=\"Функция-расчета-score-3.2\"><span class=\"toc-item-num\">3.2&nbsp;&nbsp;</span>Функция расчета score</a></span></li><li><span><a href=\"#Линейная-регрессия\" data-toc-modified-id=\"Линейная-регрессия-3.3\"><span class=\"toc-item-num\">3.3&nbsp;&nbsp;</span>Линейная регрессия</a></span></li><li><span><a href=\"#Дерево-решений\" data-toc-modified-id=\"Дерево-решений-3.4\"><span class=\"toc-item-num\">3.4&nbsp;&nbsp;</span>Дерево решений</a></span></li><li><span><a href=\"#Случайный-лес\" data-toc-modified-id=\"Случайный-лес-3.5\"><span class=\"toc-item-num\">3.5&nbsp;&nbsp;</span>Случайный лес</a></span></li><li><span><a href=\"#CatBoostRegressor\" data-toc-modified-id=\"CatBoostRegressor-3.6\"><span class=\"toc-item-num\">3.6&nbsp;&nbsp;</span>CatBoostRegressor</a></span></li><li><span><a href=\"#Проверка-модели-на-адекватность\" data-toc-modified-id=\"Проверка-модели-на-адекватность-3.7\"><span class=\"toc-item-num\">3.7&nbsp;&nbsp;</span>Проверка модели на адекватность</a></span></li></ul></li></ul></div>"
   ]
  },
  {
   "cell_type": "markdown",
   "metadata": {},
   "source": [
    "# Восстановление золота из руды"
   ]
  },
  {
   "cell_type": "markdown",
   "metadata": {},
   "source": [
    "Подготовьте прототип модели машинного обучения для «Цифры». Компания разрабатывает решения для эффективной работы промышленных предприятий.\n",
    "\n",
    "Модель должна предсказать коэффициент восстановления золота из золотосодержащей руды. Используйте данные с параметрами добычи и очистки. \n",
    "\n",
    "Модель поможет оптимизировать производство, чтобы не запускать предприятие с убыточными характеристиками.\n",
    "\n",
    "Вам нужно:\n",
    "\n",
    "1. Подготовить данные;\n",
    "2. Провести исследовательский анализ данных;\n",
    "3. Построить и обучить модель.\n"
   ]
  },
  {
   "cell_type": "markdown",
   "metadata": {},
   "source": [
    "## Подготовка данных"
   ]
  },
  {
   "cell_type": "code",
   "execution_count": 1,
   "metadata": {},
   "outputs": [],
   "source": [
    "from tqdm import tqdm\n",
    "import pandas as pd\n",
    "import numpy as np\n",
    "import matplotlib.pyplot as plt\n",
    "%matplotlib inline\n",
    "from matplotlib import style\n",
    "from sklearn.tree import DecisionTreeRegressor\n",
    "from sklearn.ensemble import RandomForestRegressor\n",
    "from sklearn.metrics import mean_absolute_error, make_scorer\n",
    "from sklearn.linear_model import LinearRegression\n",
    "from sklearn.model_selection import train_test_split, cross_val_score, GridSearchCV, RandomizedSearchCV\n",
    "from sklearn.dummy import DummyRegressor"
   ]
  },
  {
   "cell_type": "code",
   "execution_count": 2,
   "metadata": {},
   "outputs": [],
   "source": [
    "data = [1,1,1]\n",
    "train_data = pd.read_csv('/datasets/gold_industry_train.csv')\n",
    "test_data = pd.read_csv('/datasets/gold_industry_test.csv')\n",
    "full_data = pd.read_csv('/datasets/gold_industry_full.csv')\n",
    "data = [train_data, test_data, full_data]"
   ]
  },
  {
   "cell_type": "code",
   "execution_count": 3,
   "metadata": {
    "scrolled": true
   },
   "outputs": [
    {
     "data": {
      "text/html": [
       "<div>\n",
       "<style scoped>\n",
       "    .dataframe tbody tr th:only-of-type {\n",
       "        vertical-align: middle;\n",
       "    }\n",
       "\n",
       "    .dataframe tbody tr th {\n",
       "        vertical-align: top;\n",
       "    }\n",
       "\n",
       "    .dataframe thead th {\n",
       "        text-align: right;\n",
       "    }\n",
       "</style>\n",
       "<table border=\"1\" class=\"dataframe\">\n",
       "  <thead>\n",
       "    <tr style=\"text-align: right;\">\n",
       "      <th></th>\n",
       "      <th>date</th>\n",
       "      <th>rougher.input.feed_au</th>\n",
       "      <th>rougher.input.feed_ag</th>\n",
       "      <th>rougher.input.feed_pb</th>\n",
       "      <th>rougher.input.feed_sol</th>\n",
       "      <th>rougher.input.feed_rate</th>\n",
       "      <th>rougher.input.feed_size</th>\n",
       "      <th>rougher.input.floatbank10_sulfate</th>\n",
       "      <th>rougher.input.floatbank10_xanthate</th>\n",
       "      <th>rougher.state.floatbank10_a_air</th>\n",
       "      <th>...</th>\n",
       "      <th>secondary_cleaner.output.tail_sol</th>\n",
       "      <th>final.output.concentrate_au</th>\n",
       "      <th>final.output.concentrate_ag</th>\n",
       "      <th>final.output.concentrate_pb</th>\n",
       "      <th>final.output.concentrate_sol</th>\n",
       "      <th>final.output.recovery</th>\n",
       "      <th>final.output.tail_au</th>\n",
       "      <th>final.output.tail_ag</th>\n",
       "      <th>final.output.tail_pb</th>\n",
       "      <th>final.output.tail_sol</th>\n",
       "    </tr>\n",
       "  </thead>\n",
       "  <tbody>\n",
       "    <tr>\n",
       "      <th>0</th>\n",
       "      <td>2016-01-15 00:00:00</td>\n",
       "      <td>6.486150</td>\n",
       "      <td>6.100378</td>\n",
       "      <td>2.284912</td>\n",
       "      <td>36.808594</td>\n",
       "      <td>523.546326</td>\n",
       "      <td>55.486599</td>\n",
       "      <td>11.986616</td>\n",
       "      <td>6.007990</td>\n",
       "      <td>999.706909</td>\n",
       "      <td>...</td>\n",
       "      <td>8.764648</td>\n",
       "      <td>42.192020</td>\n",
       "      <td>6.055403</td>\n",
       "      <td>9.889648</td>\n",
       "      <td>5.507324</td>\n",
       "      <td>70.541216</td>\n",
       "      <td>2.143149</td>\n",
       "      <td>10.411962</td>\n",
       "      <td>0.895447</td>\n",
       "      <td>16.904297</td>\n",
       "    </tr>\n",
       "    <tr>\n",
       "      <th>1</th>\n",
       "      <td>2016-01-15 01:00:00</td>\n",
       "      <td>6.478583</td>\n",
       "      <td>6.161113</td>\n",
       "      <td>2.266033</td>\n",
       "      <td>35.753385</td>\n",
       "      <td>525.290581</td>\n",
       "      <td>57.278666</td>\n",
       "      <td>11.971193</td>\n",
       "      <td>6.005766</td>\n",
       "      <td>1000.286398</td>\n",
       "      <td>...</td>\n",
       "      <td>9.001494</td>\n",
       "      <td>42.701629</td>\n",
       "      <td>6.029369</td>\n",
       "      <td>9.968944</td>\n",
       "      <td>5.257781</td>\n",
       "      <td>69.266198</td>\n",
       "      <td>2.224930</td>\n",
       "      <td>10.462676</td>\n",
       "      <td>0.927452</td>\n",
       "      <td>16.634514</td>\n",
       "    </tr>\n",
       "    <tr>\n",
       "      <th>2</th>\n",
       "      <td>2016-01-15 02:00:00</td>\n",
       "      <td>6.362222</td>\n",
       "      <td>6.116455</td>\n",
       "      <td>2.159622</td>\n",
       "      <td>35.971630</td>\n",
       "      <td>530.026610</td>\n",
       "      <td>57.510649</td>\n",
       "      <td>11.920603</td>\n",
       "      <td>6.197377</td>\n",
       "      <td>999.719565</td>\n",
       "      <td>...</td>\n",
       "      <td>8.842896</td>\n",
       "      <td>42.657501</td>\n",
       "      <td>6.055926</td>\n",
       "      <td>10.213995</td>\n",
       "      <td>5.383759</td>\n",
       "      <td>68.116445</td>\n",
       "      <td>2.257889</td>\n",
       "      <td>10.507046</td>\n",
       "      <td>0.953716</td>\n",
       "      <td>16.208849</td>\n",
       "    </tr>\n",
       "    <tr>\n",
       "      <th>3</th>\n",
       "      <td>2016-01-15 03:00:00</td>\n",
       "      <td>6.118189</td>\n",
       "      <td>6.043309</td>\n",
       "      <td>2.037807</td>\n",
       "      <td>36.862241</td>\n",
       "      <td>542.590390</td>\n",
       "      <td>57.792734</td>\n",
       "      <td>11.630094</td>\n",
       "      <td>6.203177</td>\n",
       "      <td>999.814770</td>\n",
       "      <td>...</td>\n",
       "      <td>9.122857</td>\n",
       "      <td>42.689819</td>\n",
       "      <td>6.047977</td>\n",
       "      <td>9.977019</td>\n",
       "      <td>4.858634</td>\n",
       "      <td>68.347543</td>\n",
       "      <td>2.146849</td>\n",
       "      <td>10.422762</td>\n",
       "      <td>0.883763</td>\n",
       "      <td>16.532835</td>\n",
       "    </tr>\n",
       "    <tr>\n",
       "      <th>4</th>\n",
       "      <td>2016-01-15 04:00:00</td>\n",
       "      <td>5.663707</td>\n",
       "      <td>6.060915</td>\n",
       "      <td>1.786875</td>\n",
       "      <td>34.347666</td>\n",
       "      <td>540.531893</td>\n",
       "      <td>56.047189</td>\n",
       "      <td>10.957755</td>\n",
       "      <td>6.198826</td>\n",
       "      <td>999.678690</td>\n",
       "      <td>...</td>\n",
       "      <td>8.871028</td>\n",
       "      <td>42.774141</td>\n",
       "      <td>6.148599</td>\n",
       "      <td>10.142511</td>\n",
       "      <td>4.939416</td>\n",
       "      <td>66.927016</td>\n",
       "      <td>2.055292</td>\n",
       "      <td>10.360302</td>\n",
       "      <td>0.792826</td>\n",
       "      <td>16.525686</td>\n",
       "    </tr>\n",
       "  </tbody>\n",
       "</table>\n",
       "<p>5 rows × 87 columns</p>\n",
       "</div>"
      ],
      "text/plain": [
       "                  date  rougher.input.feed_au  rougher.input.feed_ag  \\\n",
       "0  2016-01-15 00:00:00               6.486150               6.100378   \n",
       "1  2016-01-15 01:00:00               6.478583               6.161113   \n",
       "2  2016-01-15 02:00:00               6.362222               6.116455   \n",
       "3  2016-01-15 03:00:00               6.118189               6.043309   \n",
       "4  2016-01-15 04:00:00               5.663707               6.060915   \n",
       "\n",
       "   rougher.input.feed_pb  rougher.input.feed_sol  rougher.input.feed_rate  \\\n",
       "0               2.284912               36.808594               523.546326   \n",
       "1               2.266033               35.753385               525.290581   \n",
       "2               2.159622               35.971630               530.026610   \n",
       "3               2.037807               36.862241               542.590390   \n",
       "4               1.786875               34.347666               540.531893   \n",
       "\n",
       "   rougher.input.feed_size  rougher.input.floatbank10_sulfate  \\\n",
       "0                55.486599                          11.986616   \n",
       "1                57.278666                          11.971193   \n",
       "2                57.510649                          11.920603   \n",
       "3                57.792734                          11.630094   \n",
       "4                56.047189                          10.957755   \n",
       "\n",
       "   rougher.input.floatbank10_xanthate  rougher.state.floatbank10_a_air  ...  \\\n",
       "0                            6.007990                       999.706909  ...   \n",
       "1                            6.005766                      1000.286398  ...   \n",
       "2                            6.197377                       999.719565  ...   \n",
       "3                            6.203177                       999.814770  ...   \n",
       "4                            6.198826                       999.678690  ...   \n",
       "\n",
       "   secondary_cleaner.output.tail_sol  final.output.concentrate_au  \\\n",
       "0                           8.764648                    42.192020   \n",
       "1                           9.001494                    42.701629   \n",
       "2                           8.842896                    42.657501   \n",
       "3                           9.122857                    42.689819   \n",
       "4                           8.871028                    42.774141   \n",
       "\n",
       "   final.output.concentrate_ag  final.output.concentrate_pb  \\\n",
       "0                     6.055403                     9.889648   \n",
       "1                     6.029369                     9.968944   \n",
       "2                     6.055926                    10.213995   \n",
       "3                     6.047977                     9.977019   \n",
       "4                     6.148599                    10.142511   \n",
       "\n",
       "   final.output.concentrate_sol  final.output.recovery  final.output.tail_au  \\\n",
       "0                      5.507324              70.541216              2.143149   \n",
       "1                      5.257781              69.266198              2.224930   \n",
       "2                      5.383759              68.116445              2.257889   \n",
       "3                      4.858634              68.347543              2.146849   \n",
       "4                      4.939416              66.927016              2.055292   \n",
       "\n",
       "   final.output.tail_ag  final.output.tail_pb  final.output.tail_sol  \n",
       "0             10.411962              0.895447              16.904297  \n",
       "1             10.462676              0.927452              16.634514  \n",
       "2             10.507046              0.953716              16.208849  \n",
       "3             10.422762              0.883763              16.532835  \n",
       "4             10.360302              0.792826              16.525686  \n",
       "\n",
       "[5 rows x 87 columns]"
      ]
     },
     "metadata": {},
     "output_type": "display_data"
    },
    {
     "data": {
      "text/html": [
       "<div>\n",
       "<style scoped>\n",
       "    .dataframe tbody tr th:only-of-type {\n",
       "        vertical-align: middle;\n",
       "    }\n",
       "\n",
       "    .dataframe tbody tr th {\n",
       "        vertical-align: top;\n",
       "    }\n",
       "\n",
       "    .dataframe thead th {\n",
       "        text-align: right;\n",
       "    }\n",
       "</style>\n",
       "<table border=\"1\" class=\"dataframe\">\n",
       "  <thead>\n",
       "    <tr style=\"text-align: right;\">\n",
       "      <th></th>\n",
       "      <th>date</th>\n",
       "      <th>rougher.input.feed_au</th>\n",
       "      <th>rougher.input.feed_ag</th>\n",
       "      <th>rougher.input.feed_pb</th>\n",
       "      <th>rougher.input.feed_sol</th>\n",
       "      <th>rougher.input.feed_rate</th>\n",
       "      <th>rougher.input.feed_size</th>\n",
       "      <th>rougher.input.floatbank10_sulfate</th>\n",
       "      <th>rougher.input.floatbank10_xanthate</th>\n",
       "      <th>rougher.state.floatbank10_a_air</th>\n",
       "      <th>...</th>\n",
       "      <th>secondary_cleaner.state.floatbank4_a_air</th>\n",
       "      <th>secondary_cleaner.state.floatbank4_a_level</th>\n",
       "      <th>secondary_cleaner.state.floatbank4_b_air</th>\n",
       "      <th>secondary_cleaner.state.floatbank4_b_level</th>\n",
       "      <th>secondary_cleaner.state.floatbank5_a_air</th>\n",
       "      <th>secondary_cleaner.state.floatbank5_a_level</th>\n",
       "      <th>secondary_cleaner.state.floatbank5_b_air</th>\n",
       "      <th>secondary_cleaner.state.floatbank5_b_level</th>\n",
       "      <th>secondary_cleaner.state.floatbank6_a_air</th>\n",
       "      <th>secondary_cleaner.state.floatbank6_a_level</th>\n",
       "    </tr>\n",
       "  </thead>\n",
       "  <tbody>\n",
       "    <tr>\n",
       "      <th>0</th>\n",
       "      <td>2017-12-09 14:59:59</td>\n",
       "      <td>4.365491</td>\n",
       "      <td>6.158718</td>\n",
       "      <td>3.875727</td>\n",
       "      <td>39.135119</td>\n",
       "      <td>555.820208</td>\n",
       "      <td>94.544358</td>\n",
       "      <td>6.146982</td>\n",
       "      <td>9.308612</td>\n",
       "      <td>1196.238112</td>\n",
       "      <td>...</td>\n",
       "      <td>23.018622</td>\n",
       "      <td>-500.492702</td>\n",
       "      <td>20.020205</td>\n",
       "      <td>-500.220296</td>\n",
       "      <td>17.963512</td>\n",
       "      <td>-499.939490</td>\n",
       "      <td>12.990306</td>\n",
       "      <td>-500.080993</td>\n",
       "      <td>19.990336</td>\n",
       "      <td>-499.191575</td>\n",
       "    </tr>\n",
       "    <tr>\n",
       "      <th>1</th>\n",
       "      <td>2017-12-09 15:59:59</td>\n",
       "      <td>4.362781</td>\n",
       "      <td>6.048130</td>\n",
       "      <td>3.902537</td>\n",
       "      <td>39.713906</td>\n",
       "      <td>544.731687</td>\n",
       "      <td>123.742430</td>\n",
       "      <td>6.210119</td>\n",
       "      <td>9.297709</td>\n",
       "      <td>1201.904177</td>\n",
       "      <td>...</td>\n",
       "      <td>23.024963</td>\n",
       "      <td>-501.153409</td>\n",
       "      <td>20.054122</td>\n",
       "      <td>-500.314711</td>\n",
       "      <td>17.979515</td>\n",
       "      <td>-499.272871</td>\n",
       "      <td>12.992404</td>\n",
       "      <td>-499.976268</td>\n",
       "      <td>20.013986</td>\n",
       "      <td>-500.625471</td>\n",
       "    </tr>\n",
       "    <tr>\n",
       "      <th>2</th>\n",
       "      <td>2017-12-09 16:59:59</td>\n",
       "      <td>5.081681</td>\n",
       "      <td>6.082745</td>\n",
       "      <td>4.564078</td>\n",
       "      <td>37.208683</td>\n",
       "      <td>558.155110</td>\n",
       "      <td>82.610855</td>\n",
       "      <td>7.363824</td>\n",
       "      <td>9.003562</td>\n",
       "      <td>1200.826926</td>\n",
       "      <td>...</td>\n",
       "      <td>22.993827</td>\n",
       "      <td>-501.559663</td>\n",
       "      <td>20.029144</td>\n",
       "      <td>-500.000662</td>\n",
       "      <td>18.012723</td>\n",
       "      <td>-500.024764</td>\n",
       "      <td>13.016445</td>\n",
       "      <td>-500.058432</td>\n",
       "      <td>19.973767</td>\n",
       "      <td>-501.394155</td>\n",
       "    </tr>\n",
       "    <tr>\n",
       "      <th>3</th>\n",
       "      <td>2017-12-09 17:59:59</td>\n",
       "      <td>5.145949</td>\n",
       "      <td>6.084374</td>\n",
       "      <td>4.768124</td>\n",
       "      <td>36.808874</td>\n",
       "      <td>539.713765</td>\n",
       "      <td>77.984784</td>\n",
       "      <td>6.927072</td>\n",
       "      <td>8.955597</td>\n",
       "      <td>1199.292489</td>\n",
       "      <td>...</td>\n",
       "      <td>23.032807</td>\n",
       "      <td>-501.287889</td>\n",
       "      <td>19.977466</td>\n",
       "      <td>-500.159903</td>\n",
       "      <td>17.980463</td>\n",
       "      <td>-500.504602</td>\n",
       "      <td>12.949071</td>\n",
       "      <td>-500.009937</td>\n",
       "      <td>20.010332</td>\n",
       "      <td>-508.337973</td>\n",
       "    </tr>\n",
       "    <tr>\n",
       "      <th>4</th>\n",
       "      <td>2017-12-09 18:59:59</td>\n",
       "      <td>5.735249</td>\n",
       "      <td>6.165220</td>\n",
       "      <td>4.512346</td>\n",
       "      <td>37.810642</td>\n",
       "      <td>558.713584</td>\n",
       "      <td>86.434874</td>\n",
       "      <td>7.823471</td>\n",
       "      <td>7.490356</td>\n",
       "      <td>1198.005449</td>\n",
       "      <td>...</td>\n",
       "      <td>23.001911</td>\n",
       "      <td>-499.947838</td>\n",
       "      <td>20.023735</td>\n",
       "      <td>-499.713680</td>\n",
       "      <td>17.990955</td>\n",
       "      <td>-500.334769</td>\n",
       "      <td>13.007523</td>\n",
       "      <td>-499.968459</td>\n",
       "      <td>19.995999</td>\n",
       "      <td>-499.788805</td>\n",
       "    </tr>\n",
       "  </tbody>\n",
       "</table>\n",
       "<p>5 rows × 53 columns</p>\n",
       "</div>"
      ],
      "text/plain": [
       "                  date  rougher.input.feed_au  rougher.input.feed_ag  \\\n",
       "0  2017-12-09 14:59:59               4.365491               6.158718   \n",
       "1  2017-12-09 15:59:59               4.362781               6.048130   \n",
       "2  2017-12-09 16:59:59               5.081681               6.082745   \n",
       "3  2017-12-09 17:59:59               5.145949               6.084374   \n",
       "4  2017-12-09 18:59:59               5.735249               6.165220   \n",
       "\n",
       "   rougher.input.feed_pb  rougher.input.feed_sol  rougher.input.feed_rate  \\\n",
       "0               3.875727               39.135119               555.820208   \n",
       "1               3.902537               39.713906               544.731687   \n",
       "2               4.564078               37.208683               558.155110   \n",
       "3               4.768124               36.808874               539.713765   \n",
       "4               4.512346               37.810642               558.713584   \n",
       "\n",
       "   rougher.input.feed_size  rougher.input.floatbank10_sulfate  \\\n",
       "0                94.544358                           6.146982   \n",
       "1               123.742430                           6.210119   \n",
       "2                82.610855                           7.363824   \n",
       "3                77.984784                           6.927072   \n",
       "4                86.434874                           7.823471   \n",
       "\n",
       "   rougher.input.floatbank10_xanthate  rougher.state.floatbank10_a_air  ...  \\\n",
       "0                            9.308612                      1196.238112  ...   \n",
       "1                            9.297709                      1201.904177  ...   \n",
       "2                            9.003562                      1200.826926  ...   \n",
       "3                            8.955597                      1199.292489  ...   \n",
       "4                            7.490356                      1198.005449  ...   \n",
       "\n",
       "   secondary_cleaner.state.floatbank4_a_air  \\\n",
       "0                                 23.018622   \n",
       "1                                 23.024963   \n",
       "2                                 22.993827   \n",
       "3                                 23.032807   \n",
       "4                                 23.001911   \n",
       "\n",
       "   secondary_cleaner.state.floatbank4_a_level  \\\n",
       "0                                 -500.492702   \n",
       "1                                 -501.153409   \n",
       "2                                 -501.559663   \n",
       "3                                 -501.287889   \n",
       "4                                 -499.947838   \n",
       "\n",
       "   secondary_cleaner.state.floatbank4_b_air  \\\n",
       "0                                 20.020205   \n",
       "1                                 20.054122   \n",
       "2                                 20.029144   \n",
       "3                                 19.977466   \n",
       "4                                 20.023735   \n",
       "\n",
       "   secondary_cleaner.state.floatbank4_b_level  \\\n",
       "0                                 -500.220296   \n",
       "1                                 -500.314711   \n",
       "2                                 -500.000662   \n",
       "3                                 -500.159903   \n",
       "4                                 -499.713680   \n",
       "\n",
       "   secondary_cleaner.state.floatbank5_a_air  \\\n",
       "0                                 17.963512   \n",
       "1                                 17.979515   \n",
       "2                                 18.012723   \n",
       "3                                 17.980463   \n",
       "4                                 17.990955   \n",
       "\n",
       "   secondary_cleaner.state.floatbank5_a_level  \\\n",
       "0                                 -499.939490   \n",
       "1                                 -499.272871   \n",
       "2                                 -500.024764   \n",
       "3                                 -500.504602   \n",
       "4                                 -500.334769   \n",
       "\n",
       "   secondary_cleaner.state.floatbank5_b_air  \\\n",
       "0                                 12.990306   \n",
       "1                                 12.992404   \n",
       "2                                 13.016445   \n",
       "3                                 12.949071   \n",
       "4                                 13.007523   \n",
       "\n",
       "   secondary_cleaner.state.floatbank5_b_level  \\\n",
       "0                                 -500.080993   \n",
       "1                                 -499.976268   \n",
       "2                                 -500.058432   \n",
       "3                                 -500.009937   \n",
       "4                                 -499.968459   \n",
       "\n",
       "   secondary_cleaner.state.floatbank6_a_air  \\\n",
       "0                                 19.990336   \n",
       "1                                 20.013986   \n",
       "2                                 19.973767   \n",
       "3                                 20.010332   \n",
       "4                                 19.995999   \n",
       "\n",
       "   secondary_cleaner.state.floatbank6_a_level  \n",
       "0                                 -499.191575  \n",
       "1                                 -500.625471  \n",
       "2                                 -501.394155  \n",
       "3                                 -508.337973  \n",
       "4                                 -499.788805  \n",
       "\n",
       "[5 rows x 53 columns]"
      ]
     },
     "metadata": {},
     "output_type": "display_data"
    },
    {
     "data": {
      "text/html": [
       "<div>\n",
       "<style scoped>\n",
       "    .dataframe tbody tr th:only-of-type {\n",
       "        vertical-align: middle;\n",
       "    }\n",
       "\n",
       "    .dataframe tbody tr th {\n",
       "        vertical-align: top;\n",
       "    }\n",
       "\n",
       "    .dataframe thead th {\n",
       "        text-align: right;\n",
       "    }\n",
       "</style>\n",
       "<table border=\"1\" class=\"dataframe\">\n",
       "  <thead>\n",
       "    <tr style=\"text-align: right;\">\n",
       "      <th></th>\n",
       "      <th>date</th>\n",
       "      <th>rougher.input.feed_au</th>\n",
       "      <th>rougher.input.feed_ag</th>\n",
       "      <th>rougher.input.feed_pb</th>\n",
       "      <th>rougher.input.feed_sol</th>\n",
       "      <th>rougher.input.feed_rate</th>\n",
       "      <th>rougher.input.feed_size</th>\n",
       "      <th>rougher.input.floatbank10_sulfate</th>\n",
       "      <th>rougher.input.floatbank10_xanthate</th>\n",
       "      <th>rougher.state.floatbank10_a_air</th>\n",
       "      <th>...</th>\n",
       "      <th>secondary_cleaner.output.tail_sol</th>\n",
       "      <th>final.output.concentrate_au</th>\n",
       "      <th>final.output.concentrate_ag</th>\n",
       "      <th>final.output.concentrate_pb</th>\n",
       "      <th>final.output.concentrate_sol</th>\n",
       "      <th>final.output.recovery</th>\n",
       "      <th>final.output.tail_au</th>\n",
       "      <th>final.output.tail_ag</th>\n",
       "      <th>final.output.tail_pb</th>\n",
       "      <th>final.output.tail_sol</th>\n",
       "    </tr>\n",
       "  </thead>\n",
       "  <tbody>\n",
       "    <tr>\n",
       "      <th>0</th>\n",
       "      <td>2016-01-15 00:00:00</td>\n",
       "      <td>6.486150</td>\n",
       "      <td>6.100378</td>\n",
       "      <td>2.284912</td>\n",
       "      <td>36.808594</td>\n",
       "      <td>523.546326</td>\n",
       "      <td>55.486599</td>\n",
       "      <td>11.986616</td>\n",
       "      <td>6.007990</td>\n",
       "      <td>999.706909</td>\n",
       "      <td>...</td>\n",
       "      <td>8.764648</td>\n",
       "      <td>42.192020</td>\n",
       "      <td>6.055403</td>\n",
       "      <td>9.889648</td>\n",
       "      <td>5.507324</td>\n",
       "      <td>70.541216</td>\n",
       "      <td>2.143149</td>\n",
       "      <td>10.411962</td>\n",
       "      <td>0.895447</td>\n",
       "      <td>16.904297</td>\n",
       "    </tr>\n",
       "    <tr>\n",
       "      <th>1</th>\n",
       "      <td>2016-01-15 01:00:00</td>\n",
       "      <td>6.478583</td>\n",
       "      <td>6.161113</td>\n",
       "      <td>2.266033</td>\n",
       "      <td>35.753385</td>\n",
       "      <td>525.290581</td>\n",
       "      <td>57.278666</td>\n",
       "      <td>11.971193</td>\n",
       "      <td>6.005766</td>\n",
       "      <td>1000.286398</td>\n",
       "      <td>...</td>\n",
       "      <td>9.001494</td>\n",
       "      <td>42.701629</td>\n",
       "      <td>6.029369</td>\n",
       "      <td>9.968944</td>\n",
       "      <td>5.257781</td>\n",
       "      <td>69.266198</td>\n",
       "      <td>2.224930</td>\n",
       "      <td>10.462676</td>\n",
       "      <td>0.927452</td>\n",
       "      <td>16.634514</td>\n",
       "    </tr>\n",
       "    <tr>\n",
       "      <th>2</th>\n",
       "      <td>2016-01-15 02:00:00</td>\n",
       "      <td>6.362222</td>\n",
       "      <td>6.116455</td>\n",
       "      <td>2.159622</td>\n",
       "      <td>35.971630</td>\n",
       "      <td>530.026610</td>\n",
       "      <td>57.510649</td>\n",
       "      <td>11.920603</td>\n",
       "      <td>6.197377</td>\n",
       "      <td>999.719565</td>\n",
       "      <td>...</td>\n",
       "      <td>8.842896</td>\n",
       "      <td>42.657501</td>\n",
       "      <td>6.055926</td>\n",
       "      <td>10.213995</td>\n",
       "      <td>5.383759</td>\n",
       "      <td>68.116445</td>\n",
       "      <td>2.257889</td>\n",
       "      <td>10.507046</td>\n",
       "      <td>0.953716</td>\n",
       "      <td>16.208849</td>\n",
       "    </tr>\n",
       "    <tr>\n",
       "      <th>3</th>\n",
       "      <td>2016-01-15 03:00:00</td>\n",
       "      <td>6.118189</td>\n",
       "      <td>6.043309</td>\n",
       "      <td>2.037807</td>\n",
       "      <td>36.862241</td>\n",
       "      <td>542.590390</td>\n",
       "      <td>57.792734</td>\n",
       "      <td>11.630094</td>\n",
       "      <td>6.203177</td>\n",
       "      <td>999.814770</td>\n",
       "      <td>...</td>\n",
       "      <td>9.122857</td>\n",
       "      <td>42.689819</td>\n",
       "      <td>6.047977</td>\n",
       "      <td>9.977019</td>\n",
       "      <td>4.858634</td>\n",
       "      <td>68.347543</td>\n",
       "      <td>2.146849</td>\n",
       "      <td>10.422762</td>\n",
       "      <td>0.883763</td>\n",
       "      <td>16.532835</td>\n",
       "    </tr>\n",
       "    <tr>\n",
       "      <th>4</th>\n",
       "      <td>2016-01-15 04:00:00</td>\n",
       "      <td>5.663707</td>\n",
       "      <td>6.060915</td>\n",
       "      <td>1.786875</td>\n",
       "      <td>34.347666</td>\n",
       "      <td>540.531893</td>\n",
       "      <td>56.047189</td>\n",
       "      <td>10.957755</td>\n",
       "      <td>6.198826</td>\n",
       "      <td>999.678690</td>\n",
       "      <td>...</td>\n",
       "      <td>8.871028</td>\n",
       "      <td>42.774141</td>\n",
       "      <td>6.148599</td>\n",
       "      <td>10.142511</td>\n",
       "      <td>4.939416</td>\n",
       "      <td>66.927016</td>\n",
       "      <td>2.055292</td>\n",
       "      <td>10.360302</td>\n",
       "      <td>0.792826</td>\n",
       "      <td>16.525686</td>\n",
       "    </tr>\n",
       "  </tbody>\n",
       "</table>\n",
       "<p>5 rows × 87 columns</p>\n",
       "</div>"
      ],
      "text/plain": [
       "                  date  rougher.input.feed_au  rougher.input.feed_ag  \\\n",
       "0  2016-01-15 00:00:00               6.486150               6.100378   \n",
       "1  2016-01-15 01:00:00               6.478583               6.161113   \n",
       "2  2016-01-15 02:00:00               6.362222               6.116455   \n",
       "3  2016-01-15 03:00:00               6.118189               6.043309   \n",
       "4  2016-01-15 04:00:00               5.663707               6.060915   \n",
       "\n",
       "   rougher.input.feed_pb  rougher.input.feed_sol  rougher.input.feed_rate  \\\n",
       "0               2.284912               36.808594               523.546326   \n",
       "1               2.266033               35.753385               525.290581   \n",
       "2               2.159622               35.971630               530.026610   \n",
       "3               2.037807               36.862241               542.590390   \n",
       "4               1.786875               34.347666               540.531893   \n",
       "\n",
       "   rougher.input.feed_size  rougher.input.floatbank10_sulfate  \\\n",
       "0                55.486599                          11.986616   \n",
       "1                57.278666                          11.971193   \n",
       "2                57.510649                          11.920603   \n",
       "3                57.792734                          11.630094   \n",
       "4                56.047189                          10.957755   \n",
       "\n",
       "   rougher.input.floatbank10_xanthate  rougher.state.floatbank10_a_air  ...  \\\n",
       "0                            6.007990                       999.706909  ...   \n",
       "1                            6.005766                      1000.286398  ...   \n",
       "2                            6.197377                       999.719565  ...   \n",
       "3                            6.203177                       999.814770  ...   \n",
       "4                            6.198826                       999.678690  ...   \n",
       "\n",
       "   secondary_cleaner.output.tail_sol  final.output.concentrate_au  \\\n",
       "0                           8.764648                    42.192020   \n",
       "1                           9.001494                    42.701629   \n",
       "2                           8.842896                    42.657501   \n",
       "3                           9.122857                    42.689819   \n",
       "4                           8.871028                    42.774141   \n",
       "\n",
       "   final.output.concentrate_ag  final.output.concentrate_pb  \\\n",
       "0                     6.055403                     9.889648   \n",
       "1                     6.029369                     9.968944   \n",
       "2                     6.055926                    10.213995   \n",
       "3                     6.047977                     9.977019   \n",
       "4                     6.148599                    10.142511   \n",
       "\n",
       "   final.output.concentrate_sol  final.output.recovery  final.output.tail_au  \\\n",
       "0                      5.507324              70.541216              2.143149   \n",
       "1                      5.257781              69.266198              2.224930   \n",
       "2                      5.383759              68.116445              2.257889   \n",
       "3                      4.858634              68.347543              2.146849   \n",
       "4                      4.939416              66.927016              2.055292   \n",
       "\n",
       "   final.output.tail_ag  final.output.tail_pb  final.output.tail_sol  \n",
       "0             10.411962              0.895447              16.904297  \n",
       "1             10.462676              0.927452              16.634514  \n",
       "2             10.507046              0.953716              16.208849  \n",
       "3             10.422762              0.883763              16.532835  \n",
       "4             10.360302              0.792826              16.525686  \n",
       "\n",
       "[5 rows x 87 columns]"
      ]
     },
     "metadata": {},
     "output_type": "display_data"
    }
   ],
   "source": [
    "for i in range(3):\n",
    "    display(data[i].head())"
   ]
  },
  {
   "cell_type": "code",
   "execution_count": 4,
   "metadata": {},
   "outputs": [
    {
     "name": "stdout",
     "output_type": "stream",
     "text": [
      "<class 'pandas.core.frame.DataFrame'>\n",
      "RangeIndex: 14579 entries, 0 to 14578\n",
      "Data columns (total 87 columns):\n",
      " #   Column                                              Non-Null Count  Dtype  \n",
      "---  ------                                              --------------  -----  \n",
      " 0   date                                                14579 non-null  object \n",
      " 1   rougher.input.feed_au                               14579 non-null  float64\n",
      " 2   rougher.input.feed_ag                               14579 non-null  float64\n",
      " 3   rougher.input.feed_pb                               14507 non-null  float64\n",
      " 4   rougher.input.feed_sol                              14502 non-null  float64\n",
      " 5   rougher.input.feed_rate                             14572 non-null  float64\n",
      " 6   rougher.input.feed_size                             14478 non-null  float64\n",
      " 7   rougher.input.floatbank10_sulfate                   14548 non-null  float64\n",
      " 8   rougher.input.floatbank10_xanthate                  14572 non-null  float64\n",
      " 9   rougher.state.floatbank10_a_air                     14579 non-null  float64\n",
      " 10  rougher.state.floatbank10_a_level                   14579 non-null  float64\n",
      " 11  rougher.state.floatbank10_b_air                     14579 non-null  float64\n",
      " 12  rougher.state.floatbank10_b_level                   14579 non-null  float64\n",
      " 13  rougher.state.floatbank10_c_air                     14579 non-null  float64\n",
      " 14  rougher.state.floatbank10_c_level                   14579 non-null  float64\n",
      " 15  rougher.state.floatbank10_d_air                     14579 non-null  float64\n",
      " 16  rougher.state.floatbank10_d_level                   14579 non-null  float64\n",
      " 17  rougher.state.floatbank10_e_air                     14150 non-null  float64\n",
      " 18  rougher.state.floatbank10_e_level                   14579 non-null  float64\n",
      " 19  rougher.state.floatbank10_f_air                     14579 non-null  float64\n",
      " 20  rougher.state.floatbank10_f_level                   14579 non-null  float64\n",
      " 21  rougher.input.floatbank11_sulfate                   14543 non-null  float64\n",
      " 22  rougher.input.floatbank11_xanthate                  14172 non-null  float64\n",
      " 23  rougher.calculation.sulfate_to_au_concentrate       14578 non-null  float64\n",
      " 24  rougher.calculation.floatbank10_sulfate_to_au_feed  14578 non-null  float64\n",
      " 25  rougher.calculation.floatbank11_sulfate_to_au_feed  14578 non-null  float64\n",
      " 26  rougher.calculation.au_pb_ratio                     14579 non-null  float64\n",
      " 27  rougher.output.concentrate_au                       14579 non-null  float64\n",
      " 28  rougher.output.concentrate_ag                       14579 non-null  float64\n",
      " 29  rougher.output.concentrate_pb                       14579 non-null  float64\n",
      " 30  rougher.output.concentrate_sol                      14561 non-null  float64\n",
      " 31  rougher.output.recovery                             14579 non-null  float64\n",
      " 32  rougher.output.tail_au                              14579 non-null  float64\n",
      " 33  rougher.output.tail_ag                              14578 non-null  float64\n",
      " 34  rougher.output.tail_pb                              14579 non-null  float64\n",
      " 35  rougher.output.tail_sol                             14579 non-null  float64\n",
      " 36  primary_cleaner.input.sulfate                       14556 non-null  float64\n",
      " 37  primary_cleaner.input.depressant                    14551 non-null  float64\n",
      " 38  primary_cleaner.input.feed_size                     14579 non-null  float64\n",
      " 39  primary_cleaner.input.xanthate                      14518 non-null  float64\n",
      " 40  primary_cleaner.state.floatbank8_a_air              14576 non-null  float64\n",
      " 41  primary_cleaner.state.floatbank8_a_level            14579 non-null  float64\n",
      " 42  primary_cleaner.state.floatbank8_b_air              14576 non-null  float64\n",
      " 43  primary_cleaner.state.floatbank8_b_level            14579 non-null  float64\n",
      " 44  primary_cleaner.state.floatbank8_c_air              14579 non-null  float64\n",
      " 45  primary_cleaner.state.floatbank8_c_level            14579 non-null  float64\n",
      " 46  primary_cleaner.state.floatbank8_d_air              14578 non-null  float64\n",
      " 47  primary_cleaner.state.floatbank8_d_level            14579 non-null  float64\n",
      " 48  primary_cleaner.output.concentrate_au               14579 non-null  float64\n",
      " 49  primary_cleaner.output.concentrate_ag               14579 non-null  float64\n",
      " 50  primary_cleaner.output.concentrate_pb               14491 non-null  float64\n",
      " 51  primary_cleaner.output.concentrate_sol              14314 non-null  float64\n",
      " 52  primary_cleaner.output.tail_au                      14579 non-null  float64\n",
      " 53  primary_cleaner.output.tail_ag                      14575 non-null  float64\n",
      " 54  primary_cleaner.output.tail_pb                      14573 non-null  float64\n",
      " 55  primary_cleaner.output.tail_sol                     14534 non-null  float64\n",
      " 56  secondary_cleaner.state.floatbank2_a_air            14485 non-null  float64\n",
      " 57  secondary_cleaner.state.floatbank2_a_level          14579 non-null  float64\n",
      " 58  secondary_cleaner.state.floatbank2_b_air            14557 non-null  float64\n",
      " 59  secondary_cleaner.state.floatbank2_b_level          14579 non-null  float64\n",
      " 60  secondary_cleaner.state.floatbank3_a_air            14567 non-null  float64\n",
      " 61  secondary_cleaner.state.floatbank3_a_level          14579 non-null  float64\n",
      " 62  secondary_cleaner.state.floatbank3_b_air            14579 non-null  float64\n",
      " 63  secondary_cleaner.state.floatbank3_b_level          14579 non-null  float64\n",
      " 64  secondary_cleaner.state.floatbank4_a_air            14574 non-null  float64\n",
      " 65  secondary_cleaner.state.floatbank4_a_level          14579 non-null  float64\n",
      " 66  secondary_cleaner.state.floatbank4_b_air            14579 non-null  float64\n",
      " 67  secondary_cleaner.state.floatbank4_b_level          14579 non-null  float64\n",
      " 68  secondary_cleaner.state.floatbank5_a_air            14579 non-null  float64\n",
      " 69  secondary_cleaner.state.floatbank5_a_level          14579 non-null  float64\n",
      " 70  secondary_cleaner.state.floatbank5_b_air            14579 non-null  float64\n",
      " 71  secondary_cleaner.state.floatbank5_b_level          14579 non-null  float64\n",
      " 72  secondary_cleaner.state.floatbank6_a_air            14578 non-null  float64\n",
      " 73  secondary_cleaner.state.floatbank6_a_level          14579 non-null  float64\n",
      " 74  secondary_cleaner.output.tail_au                    14579 non-null  float64\n",
      " 75  secondary_cleaner.output.tail_ag                    14578 non-null  float64\n",
      " 76  secondary_cleaner.output.tail_pb                    14575 non-null  float64\n",
      " 77  secondary_cleaner.output.tail_sol                   13659 non-null  float64\n",
      " 78  final.output.concentrate_au                         14579 non-null  float64\n",
      " 79  final.output.concentrate_ag                         14578 non-null  float64\n",
      " 80  final.output.concentrate_pb                         14578 non-null  float64\n",
      " 81  final.output.concentrate_sol                        14387 non-null  float64\n",
      " 82  final.output.recovery                               14579 non-null  float64\n",
      " 83  final.output.tail_au                                14579 non-null  float64\n",
      " 84  final.output.tail_ag                                14578 non-null  float64\n",
      " 85  final.output.tail_pb                                14504 non-null  float64\n",
      " 86  final.output.tail_sol                               14574 non-null  float64\n",
      "dtypes: float64(86), object(1)\n",
      "memory usage: 9.7+ MB\n",
      "<class 'pandas.core.frame.DataFrame'>\n",
      "RangeIndex: 4860 entries, 0 to 4859\n",
      "Data columns (total 53 columns):\n",
      " #   Column                                      Non-Null Count  Dtype  \n",
      "---  ------                                      --------------  -----  \n",
      " 0   date                                        4860 non-null   object \n",
      " 1   rougher.input.feed_au                       4860 non-null   float64\n",
      " 2   rougher.input.feed_ag                       4860 non-null   float64\n",
      " 3   rougher.input.feed_pb                       4832 non-null   float64\n",
      " 4   rougher.input.feed_sol                      4838 non-null   float64\n",
      " 5   rougher.input.feed_rate                     4856 non-null   float64\n",
      " 6   rougher.input.feed_size                     4816 non-null   float64\n",
      " 7   rougher.input.floatbank10_sulfate           4857 non-null   float64\n",
      " 8   rougher.input.floatbank10_xanthate          4859 non-null   float64\n",
      " 9   rougher.state.floatbank10_a_air             4859 non-null   float64\n",
      " 10  rougher.state.floatbank10_a_level           4859 non-null   float64\n",
      " 11  rougher.state.floatbank10_b_air             4859 non-null   float64\n",
      " 12  rougher.state.floatbank10_b_level           4859 non-null   float64\n",
      " 13  rougher.state.floatbank10_c_air             4859 non-null   float64\n",
      " 14  rougher.state.floatbank10_c_level           4859 non-null   float64\n",
      " 15  rougher.state.floatbank10_d_air             4860 non-null   float64\n",
      " 16  rougher.state.floatbank10_d_level           4860 non-null   float64\n",
      " 17  rougher.state.floatbank10_e_air             4853 non-null   float64\n",
      " 18  rougher.state.floatbank10_e_level           4860 non-null   float64\n",
      " 19  rougher.state.floatbank10_f_air             4860 non-null   float64\n",
      " 20  rougher.state.floatbank10_f_level           4860 non-null   float64\n",
      " 21  rougher.input.floatbank11_sulfate           4852 non-null   float64\n",
      " 22  rougher.input.floatbank11_xanthate          4814 non-null   float64\n",
      " 23  primary_cleaner.input.sulfate               4859 non-null   float64\n",
      " 24  primary_cleaner.input.depressant            4851 non-null   float64\n",
      " 25  primary_cleaner.input.feed_size             4860 non-null   float64\n",
      " 26  primary_cleaner.input.xanthate              4817 non-null   float64\n",
      " 27  primary_cleaner.state.floatbank8_a_air      4859 non-null   float64\n",
      " 28  primary_cleaner.state.floatbank8_a_level    4859 non-null   float64\n",
      " 29  primary_cleaner.state.floatbank8_b_air      4859 non-null   float64\n",
      " 30  primary_cleaner.state.floatbank8_b_level    4859 non-null   float64\n",
      " 31  primary_cleaner.state.floatbank8_c_air      4858 non-null   float64\n",
      " 32  primary_cleaner.state.floatbank8_c_level    4859 non-null   float64\n",
      " 33  primary_cleaner.state.floatbank8_d_air      4858 non-null   float64\n",
      " 34  primary_cleaner.state.floatbank8_d_level    4859 non-null   float64\n",
      " 35  secondary_cleaner.state.floatbank2_a_air    4734 non-null   float64\n",
      " 36  secondary_cleaner.state.floatbank2_a_level  4859 non-null   float64\n",
      " 37  secondary_cleaner.state.floatbank2_b_air    4859 non-null   float64\n",
      " 38  secondary_cleaner.state.floatbank2_b_level  4859 non-null   float64\n",
      " 39  secondary_cleaner.state.floatbank3_a_air    4859 non-null   float64\n",
      " 40  secondary_cleaner.state.floatbank3_a_level  4859 non-null   float64\n",
      " 41  secondary_cleaner.state.floatbank3_b_air    4859 non-null   float64\n",
      " 42  secondary_cleaner.state.floatbank3_b_level  4859 non-null   float64\n",
      " 43  secondary_cleaner.state.floatbank4_a_air    4859 non-null   float64\n",
      " 44  secondary_cleaner.state.floatbank4_a_level  4859 non-null   float64\n",
      " 45  secondary_cleaner.state.floatbank4_b_air    4859 non-null   float64\n",
      " 46  secondary_cleaner.state.floatbank4_b_level  4859 non-null   float64\n",
      " 47  secondary_cleaner.state.floatbank5_a_air    4859 non-null   float64\n",
      " 48  secondary_cleaner.state.floatbank5_a_level  4859 non-null   float64\n",
      " 49  secondary_cleaner.state.floatbank5_b_air    4859 non-null   float64\n",
      " 50  secondary_cleaner.state.floatbank5_b_level  4859 non-null   float64\n",
      " 51  secondary_cleaner.state.floatbank6_a_air    4859 non-null   float64\n",
      " 52  secondary_cleaner.state.floatbank6_a_level  4859 non-null   float64\n",
      "dtypes: float64(52), object(1)\n",
      "memory usage: 2.0+ MB\n",
      "<class 'pandas.core.frame.DataFrame'>\n",
      "RangeIndex: 19439 entries, 0 to 19438\n",
      "Data columns (total 87 columns):\n",
      " #   Column                                              Non-Null Count  Dtype  \n",
      "---  ------                                              --------------  -----  \n",
      " 0   date                                                19439 non-null  object \n",
      " 1   rougher.input.feed_au                               19439 non-null  float64\n",
      " 2   rougher.input.feed_ag                               19439 non-null  float64\n",
      " 3   rougher.input.feed_pb                               19339 non-null  float64\n",
      " 4   rougher.input.feed_sol                              19340 non-null  float64\n",
      " 5   rougher.input.feed_rate                             19428 non-null  float64\n",
      " 6   rougher.input.feed_size                             19294 non-null  float64\n",
      " 7   rougher.input.floatbank10_sulfate                   19405 non-null  float64\n",
      " 8   rougher.input.floatbank10_xanthate                  19431 non-null  float64\n",
      " 9   rougher.state.floatbank10_a_air                     19438 non-null  float64\n",
      " 10  rougher.state.floatbank10_a_level                   19438 non-null  float64\n",
      " 11  rougher.state.floatbank10_b_air                     19438 non-null  float64\n",
      " 12  rougher.state.floatbank10_b_level                   19438 non-null  float64\n",
      " 13  rougher.state.floatbank10_c_air                     19438 non-null  float64\n",
      " 14  rougher.state.floatbank10_c_level                   19438 non-null  float64\n",
      " 15  rougher.state.floatbank10_d_air                     19439 non-null  float64\n",
      " 16  rougher.state.floatbank10_d_level                   19439 non-null  float64\n",
      " 17  rougher.state.floatbank10_e_air                     19003 non-null  float64\n",
      " 18  rougher.state.floatbank10_e_level                   19439 non-null  float64\n",
      " 19  rougher.state.floatbank10_f_air                     19439 non-null  float64\n",
      " 20  rougher.state.floatbank10_f_level                   19439 non-null  float64\n",
      " 21  rougher.input.floatbank11_sulfate                   19395 non-null  float64\n",
      " 22  rougher.input.floatbank11_xanthate                  18986 non-null  float64\n",
      " 23  rougher.calculation.sulfate_to_au_concentrate       19437 non-null  float64\n",
      " 24  rougher.calculation.floatbank10_sulfate_to_au_feed  19437 non-null  float64\n",
      " 25  rougher.calculation.floatbank11_sulfate_to_au_feed  19437 non-null  float64\n",
      " 26  rougher.calculation.au_pb_ratio                     19439 non-null  float64\n",
      " 27  rougher.output.concentrate_au                       19439 non-null  float64\n",
      " 28  rougher.output.concentrate_ag                       19439 non-null  float64\n",
      " 29  rougher.output.concentrate_pb                       19439 non-null  float64\n",
      " 30  rougher.output.concentrate_sol                      19416 non-null  float64\n",
      " 31  rougher.output.recovery                             19439 non-null  float64\n",
      " 32  rougher.output.tail_au                              19439 non-null  float64\n",
      " 33  rougher.output.tail_ag                              19438 non-null  float64\n",
      " 34  rougher.output.tail_pb                              19439 non-null  float64\n",
      " 35  rougher.output.tail_sol                             19439 non-null  float64\n",
      " 36  primary_cleaner.input.sulfate                       19415 non-null  float64\n",
      " 37  primary_cleaner.input.depressant                    19402 non-null  float64\n",
      " 38  primary_cleaner.input.feed_size                     19439 non-null  float64\n",
      " 39  primary_cleaner.input.xanthate                      19335 non-null  float64\n",
      " 40  primary_cleaner.state.floatbank8_a_air              19435 non-null  float64\n",
      " 41  primary_cleaner.state.floatbank8_a_level            19438 non-null  float64\n",
      " 42  primary_cleaner.state.floatbank8_b_air              19435 non-null  float64\n",
      " 43  primary_cleaner.state.floatbank8_b_level            19438 non-null  float64\n",
      " 44  primary_cleaner.state.floatbank8_c_air              19437 non-null  float64\n",
      " 45  primary_cleaner.state.floatbank8_c_level            19438 non-null  float64\n",
      " 46  primary_cleaner.state.floatbank8_d_air              19436 non-null  float64\n",
      " 47  primary_cleaner.state.floatbank8_d_level            19438 non-null  float64\n",
      " 48  primary_cleaner.output.concentrate_au               19439 non-null  float64\n",
      " 49  primary_cleaner.output.concentrate_ag               19439 non-null  float64\n",
      " 50  primary_cleaner.output.concentrate_pb               19323 non-null  float64\n",
      " 51  primary_cleaner.output.concentrate_sol              19069 non-null  float64\n",
      " 52  primary_cleaner.output.tail_au                      19439 non-null  float64\n",
      " 53  primary_cleaner.output.tail_ag                      19435 non-null  float64\n",
      " 54  primary_cleaner.output.tail_pb                      19418 non-null  float64\n",
      " 55  primary_cleaner.output.tail_sol                     19377 non-null  float64\n",
      " 56  secondary_cleaner.state.floatbank2_a_air            19219 non-null  float64\n",
      " 57  secondary_cleaner.state.floatbank2_a_level          19438 non-null  float64\n",
      " 58  secondary_cleaner.state.floatbank2_b_air            19416 non-null  float64\n",
      " 59  secondary_cleaner.state.floatbank2_b_level          19438 non-null  float64\n",
      " 60  secondary_cleaner.state.floatbank3_a_air            19426 non-null  float64\n",
      " 61  secondary_cleaner.state.floatbank3_a_level          19438 non-null  float64\n",
      " 62  secondary_cleaner.state.floatbank3_b_air            19438 non-null  float64\n",
      " 63  secondary_cleaner.state.floatbank3_b_level          19438 non-null  float64\n",
      " 64  secondary_cleaner.state.floatbank4_a_air            19433 non-null  float64\n",
      " 65  secondary_cleaner.state.floatbank4_a_level          19438 non-null  float64\n",
      " 66  secondary_cleaner.state.floatbank4_b_air            19438 non-null  float64\n",
      " 67  secondary_cleaner.state.floatbank4_b_level          19438 non-null  float64\n",
      " 68  secondary_cleaner.state.floatbank5_a_air            19438 non-null  float64\n",
      " 69  secondary_cleaner.state.floatbank5_a_level          19438 non-null  float64\n",
      " 70  secondary_cleaner.state.floatbank5_b_air            19438 non-null  float64\n",
      " 71  secondary_cleaner.state.floatbank5_b_level          19438 non-null  float64\n",
      " 72  secondary_cleaner.state.floatbank6_a_air            19437 non-null  float64\n",
      " 73  secondary_cleaner.state.floatbank6_a_level          19438 non-null  float64\n",
      " 74  secondary_cleaner.output.tail_au                    19439 non-null  float64\n",
      " 75  secondary_cleaner.output.tail_ag                    19437 non-null  float64\n",
      " 76  secondary_cleaner.output.tail_pb                    19427 non-null  float64\n",
      " 77  secondary_cleaner.output.tail_sol                   17691 non-null  float64\n",
      " 78  final.output.concentrate_au                         19439 non-null  float64\n",
      " 79  final.output.concentrate_ag                         19438 non-null  float64\n",
      " 80  final.output.concentrate_pb                         19438 non-null  float64\n",
      " 81  final.output.concentrate_sol                        19228 non-null  float64\n",
      " 82  final.output.recovery                               19439 non-null  float64\n",
      " 83  final.output.tail_au                                19439 non-null  float64\n",
      " 84  final.output.tail_ag                                19438 non-null  float64\n",
      " 85  final.output.tail_pb                                19338 non-null  float64\n",
      " 86  final.output.tail_sol                               19433 non-null  float64\n",
      "dtypes: float64(86), object(1)\n",
      "memory usage: 12.9+ MB\n"
     ]
    }
   ],
   "source": [
    "for i in range(3):\n",
    "    data[i].info()"
   ]
  },
  {
   "cell_type": "code",
   "execution_count": 5,
   "metadata": {
    "scrolled": true
   },
   "outputs": [
    {
     "name": "stdout",
     "output_type": "stream",
     "text": [
      "Пропусков в таблице 1 3050\n",
      "Всего строк в выборке: 14579 \n",
      "\n",
      "Пропусков в таблице 2 375\n",
      "Всего строк в выборке: 4860 \n",
      "\n",
      "Пропусков в таблице 3 4481\n",
      "Всего строк в выборке: 19439 \n",
      "\n"
     ]
    }
   ],
   "source": [
    "for i in range(3):\n",
    "    print('Пропусков в таблице', i+1, data[i].isna().sum().sum())\n",
    "    print('Всего строк в выборке:', data[i].shape[0], '\\n')"
   ]
  },
  {
   "cell_type": "markdown",
   "metadata": {},
   "source": [
    "В условии сказано, что \"соседние по времени параметры часто похожи\", значит мы можем воспользоваться методом ffill, чтобы избавиться от пропусков"
   ]
  },
  {
   "cell_type": "code",
   "execution_count": 6,
   "metadata": {},
   "outputs": [
    {
     "name": "stdout",
     "output_type": "stream",
     "text": [
      "Пропусков в таблице 1 0\n",
      "Всего строк в выборке: 14579 \n",
      "\n",
      "Пропусков в таблице 2 0\n",
      "Всего строк в выборке: 4860 \n",
      "\n",
      "Пропусков в таблице 3 0\n",
      "Всего строк в выборке: 19439 \n",
      "\n"
     ]
    }
   ],
   "source": [
    "for i in range(3):\n",
    "    data[i].ffill(axis=0, inplace=True)\n",
    "    print('Пропусков в таблице', i+1, data[i].isna().sum().sum())\n",
    "    print('Всего строк в выборке:', data[i].shape[0], '\\n')"
   ]
  },
  {
   "cell_type": "code",
   "execution_count": 7,
   "metadata": {},
   "outputs": [
    {
     "name": "stdout",
     "output_type": "stream",
     "text": [
      "Кол-во дубликатов в выборке 1 равно: 0\n",
      "Кол-во дубликатов в выборке 2 равно: 0\n",
      "Кол-во дубликатов в выборке 3 равно: 0\n"
     ]
    }
   ],
   "source": [
    "for i in range(3):\n",
    "    print('Кол-во дубликатов в выборке', i+1, 'равно:', data[i].duplicated().sum())"
   ]
  },
  {
   "cell_type": "code",
   "execution_count": 8,
   "metadata": {},
   "outputs": [
    {
     "name": "stdout",
     "output_type": "stream",
     "text": [
      "Значение MAE равно: 1.1181885454685472e-14\n"
     ]
    }
   ],
   "source": [
    "c = train_data['rougher.output.concentrate_au']\n",
    "f = train_data['rougher.input.feed_au']\n",
    "t = train_data['rougher.output.tail_au']\n",
    "recovery = (c*(f-t))*100/(f*(c-t))\n",
    "target = train_data['rougher.output.recovery']\n",
    "print('Значение MAE равно:', mean_absolute_error(target, recovery))"
   ]
  },
  {
   "cell_type": "markdown",
   "metadata": {},
   "source": [
    "Значение MAE небольшое, значит эффективность обогащения рассчитана правильно\n"
   ]
  },
  {
   "cell_type": "code",
   "execution_count": 9,
   "metadata": {
    "scrolled": true
   },
   "outputs": [
    {
     "name": "stdout",
     "output_type": "stream",
     "text": [
      "Признак: rougher.calculation.sulfate_to_au_concentrate\n",
      "Признак: rougher.calculation.floatbank10_sulfate_to_au_feed\n",
      "Признак: rougher.calculation.floatbank11_sulfate_to_au_feed\n",
      "Признак: rougher.calculation.au_pb_ratio\n",
      "Признак: rougher.output.concentrate_au\n",
      "Признак: rougher.output.concentrate_ag\n",
      "Признак: rougher.output.concentrate_pb\n",
      "Признак: rougher.output.concentrate_sol\n",
      "Признак: rougher.output.recovery\n",
      "Признак: rougher.output.tail_au\n",
      "Признак: rougher.output.tail_ag\n",
      "Признак: rougher.output.tail_pb\n",
      "Признак: rougher.output.tail_sol\n",
      "Признак: primary_cleaner.output.concentrate_au\n",
      "Признак: primary_cleaner.output.concentrate_ag\n",
      "Признак: primary_cleaner.output.concentrate_pb\n",
      "Признак: primary_cleaner.output.concentrate_sol\n",
      "Признак: primary_cleaner.output.tail_au\n",
      "Признак: primary_cleaner.output.tail_ag\n",
      "Признак: primary_cleaner.output.tail_pb\n",
      "Признак: primary_cleaner.output.tail_sol\n",
      "Признак: secondary_cleaner.output.tail_au\n",
      "Признак: secondary_cleaner.output.tail_ag\n",
      "Признак: secondary_cleaner.output.tail_pb\n",
      "Признак: secondary_cleaner.output.tail_sol\n",
      "Признак: final.output.concentrate_au\n",
      "Признак: final.output.concentrate_ag\n",
      "Признак: final.output.concentrate_pb\n",
      "Признак: final.output.concentrate_sol\n",
      "Признак: final.output.recovery\n",
      "Признак: final.output.tail_au\n",
      "Признак: final.output.tail_ag\n",
      "Признак: final.output.tail_pb\n",
      "Признак: final.output.tail_sol\n",
      "Всего в тестовой выборке отсутствует 34 признака\n"
     ]
    }
   ],
   "source": [
    "c = 0\n",
    "for i in train_data.columns:\n",
    "    if i not in test_data.columns:\n",
    "        print(f'Признак: {i}')\n",
    "        c += 1\n",
    "print(f'Всего в тестовой выборке отсутствует {c} признака') \n",
    "#можно было бы сделать и через разницу .shape[1], но так я проверил код"
   ]
  },
  {
   "cell_type": "markdown",
   "metadata": {},
   "source": [
    "Отсутствующие признаки относятся к типу 'calculation' и 'output'. Причина их отсутствия объяснена в описании проекта: \"Некоторые параметры недоступны, потому что замеряются и/или рассчитываются значительно позже. Из-за этого в тестовой выборке отсутствуют некоторые признаки, которые могут быть в обучающей. Также в тестовом наборе нет целевых признаков\""
   ]
  },
  {
   "cell_type": "code",
   "execution_count": 10,
   "metadata": {
    "scrolled": true
   },
   "outputs": [
    {
     "name": "stdout",
     "output_type": "stream",
     "text": [
      "<class 'pandas.core.frame.DataFrame'>\n",
      "RangeIndex: 19439 entries, 0 to 19438\n",
      "Data columns (total 87 columns):\n",
      " #   Column                                              Non-Null Count  Dtype  \n",
      "---  ------                                              --------------  -----  \n",
      " 0   date                                                19439 non-null  object \n",
      " 1   rougher.input.feed_au                               19439 non-null  float64\n",
      " 2   rougher.input.feed_ag                               19439 non-null  float64\n",
      " 3   rougher.input.feed_pb                               19439 non-null  float64\n",
      " 4   rougher.input.feed_sol                              19439 non-null  float64\n",
      " 5   rougher.input.feed_rate                             19439 non-null  float64\n",
      " 6   rougher.input.feed_size                             19439 non-null  float64\n",
      " 7   rougher.input.floatbank10_sulfate                   19439 non-null  float64\n",
      " 8   rougher.input.floatbank10_xanthate                  19439 non-null  float64\n",
      " 9   rougher.state.floatbank10_a_air                     19439 non-null  float64\n",
      " 10  rougher.state.floatbank10_a_level                   19439 non-null  float64\n",
      " 11  rougher.state.floatbank10_b_air                     19439 non-null  float64\n",
      " 12  rougher.state.floatbank10_b_level                   19439 non-null  float64\n",
      " 13  rougher.state.floatbank10_c_air                     19439 non-null  float64\n",
      " 14  rougher.state.floatbank10_c_level                   19439 non-null  float64\n",
      " 15  rougher.state.floatbank10_d_air                     19439 non-null  float64\n",
      " 16  rougher.state.floatbank10_d_level                   19439 non-null  float64\n",
      " 17  rougher.state.floatbank10_e_air                     19439 non-null  float64\n",
      " 18  rougher.state.floatbank10_e_level                   19439 non-null  float64\n",
      " 19  rougher.state.floatbank10_f_air                     19439 non-null  float64\n",
      " 20  rougher.state.floatbank10_f_level                   19439 non-null  float64\n",
      " 21  rougher.input.floatbank11_sulfate                   19439 non-null  float64\n",
      " 22  rougher.input.floatbank11_xanthate                  19439 non-null  float64\n",
      " 23  rougher.calculation.sulfate_to_au_concentrate       19439 non-null  float64\n",
      " 24  rougher.calculation.floatbank10_sulfate_to_au_feed  19439 non-null  float64\n",
      " 25  rougher.calculation.floatbank11_sulfate_to_au_feed  19439 non-null  float64\n",
      " 26  rougher.calculation.au_pb_ratio                     19439 non-null  float64\n",
      " 27  rougher.output.concentrate_au                       19439 non-null  float64\n",
      " 28  rougher.output.concentrate_ag                       19439 non-null  float64\n",
      " 29  rougher.output.concentrate_pb                       19439 non-null  float64\n",
      " 30  rougher.output.concentrate_sol                      19439 non-null  float64\n",
      " 31  rougher.output.recovery                             19439 non-null  float64\n",
      " 32  rougher.output.tail_au                              19439 non-null  float64\n",
      " 33  rougher.output.tail_ag                              19439 non-null  float64\n",
      " 34  rougher.output.tail_pb                              19439 non-null  float64\n",
      " 35  rougher.output.tail_sol                             19439 non-null  float64\n",
      " 36  primary_cleaner.input.sulfate                       19439 non-null  float64\n",
      " 37  primary_cleaner.input.depressant                    19439 non-null  float64\n",
      " 38  primary_cleaner.input.feed_size                     19439 non-null  float64\n",
      " 39  primary_cleaner.input.xanthate                      19439 non-null  float64\n",
      " 40  primary_cleaner.state.floatbank8_a_air              19439 non-null  float64\n",
      " 41  primary_cleaner.state.floatbank8_a_level            19439 non-null  float64\n",
      " 42  primary_cleaner.state.floatbank8_b_air              19439 non-null  float64\n",
      " 43  primary_cleaner.state.floatbank8_b_level            19439 non-null  float64\n",
      " 44  primary_cleaner.state.floatbank8_c_air              19439 non-null  float64\n",
      " 45  primary_cleaner.state.floatbank8_c_level            19439 non-null  float64\n",
      " 46  primary_cleaner.state.floatbank8_d_air              19439 non-null  float64\n",
      " 47  primary_cleaner.state.floatbank8_d_level            19439 non-null  float64\n",
      " 48  primary_cleaner.output.concentrate_au               19439 non-null  float64\n",
      " 49  primary_cleaner.output.concentrate_ag               19439 non-null  float64\n",
      " 50  primary_cleaner.output.concentrate_pb               19439 non-null  float64\n",
      " 51  primary_cleaner.output.concentrate_sol              19439 non-null  float64\n",
      " 52  primary_cleaner.output.tail_au                      19439 non-null  float64\n",
      " 53  primary_cleaner.output.tail_ag                      19439 non-null  float64\n",
      " 54  primary_cleaner.output.tail_pb                      19439 non-null  float64\n",
      " 55  primary_cleaner.output.tail_sol                     19439 non-null  float64\n",
      " 56  secondary_cleaner.state.floatbank2_a_air            19439 non-null  float64\n",
      " 57  secondary_cleaner.state.floatbank2_a_level          19439 non-null  float64\n",
      " 58  secondary_cleaner.state.floatbank2_b_air            19439 non-null  float64\n",
      " 59  secondary_cleaner.state.floatbank2_b_level          19439 non-null  float64\n",
      " 60  secondary_cleaner.state.floatbank3_a_air            19439 non-null  float64\n",
      " 61  secondary_cleaner.state.floatbank3_a_level          19439 non-null  float64\n",
      " 62  secondary_cleaner.state.floatbank3_b_air            19439 non-null  float64\n",
      " 63  secondary_cleaner.state.floatbank3_b_level          19439 non-null  float64\n",
      " 64  secondary_cleaner.state.floatbank4_a_air            19439 non-null  float64\n",
      " 65  secondary_cleaner.state.floatbank4_a_level          19439 non-null  float64\n",
      " 66  secondary_cleaner.state.floatbank4_b_air            19439 non-null  float64\n",
      " 67  secondary_cleaner.state.floatbank4_b_level          19439 non-null  float64\n",
      " 68  secondary_cleaner.state.floatbank5_a_air            19439 non-null  float64\n",
      " 69  secondary_cleaner.state.floatbank5_a_level          19439 non-null  float64\n",
      " 70  secondary_cleaner.state.floatbank5_b_air            19439 non-null  float64\n",
      " 71  secondary_cleaner.state.floatbank5_b_level          19439 non-null  float64\n",
      " 72  secondary_cleaner.state.floatbank6_a_air            19439 non-null  float64\n",
      " 73  secondary_cleaner.state.floatbank6_a_level          19439 non-null  float64\n",
      " 74  secondary_cleaner.output.tail_au                    19439 non-null  float64\n",
      " 75  secondary_cleaner.output.tail_ag                    19439 non-null  float64\n",
      " 76  secondary_cleaner.output.tail_pb                    19439 non-null  float64\n",
      " 77  secondary_cleaner.output.tail_sol                   19439 non-null  float64\n",
      " 78  final.output.concentrate_au                         19439 non-null  float64\n",
      " 79  final.output.concentrate_ag                         19439 non-null  float64\n",
      " 80  final.output.concentrate_pb                         19439 non-null  float64\n",
      " 81  final.output.concentrate_sol                        19439 non-null  float64\n",
      " 82  final.output.recovery                               19439 non-null  float64\n",
      " 83  final.output.tail_au                                19439 non-null  float64\n",
      " 84  final.output.tail_ag                                19439 non-null  float64\n",
      " 85  final.output.tail_pb                                19439 non-null  float64\n",
      " 86  final.output.tail_sol                               19439 non-null  float64\n",
      "dtypes: float64(86), object(1)\n",
      "memory usage: 12.9+ MB\n"
     ]
    }
   ],
   "source": [
    "full_data.info()"
   ]
  },
  {
   "cell_type": "code",
   "execution_count": 11,
   "metadata": {
    "scrolled": true
   },
   "outputs": [
    {
     "name": "stdout",
     "output_type": "stream",
     "text": [
      "AxesSubplot(0.125,0.125;0.775x0.755)\n"
     ]
    },
    {
     "data": {
      "image/png": "[encoded data removed]",
      "text/plain": [
       "<Figure size 1080x720 with 1 Axes>"
      ]
     },
     "metadata": {
      "needs_background": "light"
     },
     "output_type": "display_data"
    }
   ],
   "source": [
    "print(full_data.boxplot(column=['rougher.input.feed_au', 'rougher.output.concentrate_au', 'primary_cleaner.output.concentrate_au', \\\n",
    "                                'final.output.concentrate_au', 'rougher.input.feed_ag', 'rougher.output.concentrate_ag', \\\n",
    "                                'primary_cleaner.output.concentrate_ag', 'final.output.concentrate_ag', 'rougher.input.feed_pb', \n",
    "                                'rougher.output.concentrate_pb', 'primary_cleaner.output.concentrate_pb', 'final.output.concentrate_pb'], figsize=(15,10), rot=90))"
   ]
  },
  {
   "cell_type": "markdown",
   "metadata": {},
   "source": [
    "Проеряем на выборсы все признаки и выбираем: median или mean для построения графика распределения концентрации.\n",
    "Значения  "
   ]
  },
  {
   "cell_type": "markdown",
   "metadata": {},
   "source": [
    "## Анализ данных"
   ]
  },
  {
   "cell_type": "code",
   "execution_count": 12,
   "metadata": {},
   "outputs": [
    {
     "name": "stdout",
     "output_type": "stream",
     "text": [
      "[8.125838836648287, 20.280214025891475, 32.841295480233306, 45.01124391455689] \n",
      "\n",
      "[8.593574167368724, 12.098114967346191, 8.507297972365805, 5.066039118467836] \n",
      "\n",
      "[3.5282347219520145, 7.742580079502529, 10.142270415359071, 10.10226350598865] \n",
      "\n"
     ]
    }
   ],
   "source": [
    "au = []\n",
    "ag = []\n",
    "pb = []\n",
    "def stage_concentration(material_type_array, raw, crude, cleaner, finaly):\n",
    "    material_type_array.append(full_data[raw].median())\n",
    "    material_type_array.append(full_data[crude].median())\n",
    "    material_type_array.append(full_data[cleaner].median())\n",
    "    material_type_array.append(full_data[finaly].median())\n",
    "    return material_type_array\n",
    "\n",
    "print(stage_concentration(au, 'rougher.input.feed_au', 'rougher.output.concentrate_au', \\\n",
    "                          'primary_cleaner.output.concentrate_au', 'final.output.concentrate_au'), '\\n')\n",
    "\n",
    "print(stage_concentration(ag, 'rougher.input.feed_ag', 'rougher.output.concentrate_ag', \\\n",
    "                          'primary_cleaner.output.concentrate_ag', 'final.output.concentrate_ag'), '\\n')\n",
    "\n",
    "print(stage_concentration(pb, 'rougher.input.feed_pb', 'rougher.output.concentrate_pb', \\\n",
    "                          'primary_cleaner.output.concentrate_pb', 'final.output.concentrate_pb'), '\\n')"
   ]
  },
  {
   "cell_type": "code",
   "execution_count": 13,
   "metadata": {},
   "outputs": [
    {
     "data": {
      "text/plain": [
       "<matplotlib.legend.Legend at 0x7f3a269d8cd0>"
      ]
     },
     "execution_count": 13,
     "metadata": {},
     "output_type": "execute_result"
    },
    {
     "data": {
      "image/png": "[encoded data removed]",
      "text/plain": [
       "<Figure size 1080x720 with 1 Axes>"
      ]
     },
     "metadata": {},
     "output_type": "display_data"
    }
   ],
   "source": [
    "style.use('ggplot')\n",
    "xname = ['Сырьё', 'Чер. кон-т', 'После 1-й очистки', 'Финальный кон-т']\n",
    "xpos = np.arange(len(au))\n",
    "plt.figure(figsize=(15,10))\n",
    "plt.bar(xpos, au, color='gold', width=0.2, label='Золото')\n",
    "plt.bar(xpos+0.2, ag, color='silver', width=0.2, label='Серебро')\n",
    "plt.bar(xpos+0.4, pb, color='dimgray', width=0.2, label='Свинец')\n",
    "plt.xticks(ticks = xpos, labels=xname)\n",
    "plt.xlabel('Этапы обработки')\n",
    "plt.ylabel('Концентрация металлов')\n",
    "plt.legend()"
   ]
  },
  {
   "cell_type": "markdown",
   "metadata": {},
   "source": [
    "С каждым этапом обработки концентрация золота растет. И осоебнностей: доля серебра сначала растет (1-2 этап), а потом резко падает; концентрация свинца на последних двух этапах обработки практически идентична, когда как концентрация серебра продолжает падать."
   ]
  },
  {
   "cell_type": "code",
   "execution_count": 14,
   "metadata": {
    "scrolled": false
   },
   "outputs": [
    {
     "data": {
      "text/plain": [
       "<matplotlib.legend.Legend at 0x7f3a269b4a90>"
      ]
     },
     "execution_count": 14,
     "metadata": {},
     "output_type": "execute_result"
    },
    {
     "data": {
      "image/png": "[encoded data removed]",
      "text/plain": [
       "<Figure size 1080x720 with 1 Axes>"
      ]
     },
     "metadata": {},
     "output_type": "display_data"
    }
   ],
   "source": [
    "plt.figure(figsize=(15,10))\n",
    "plt.hist(train_data['rougher.input.feed_size'], density=True, bins=50, label='train')\n",
    "plt.hist(test_data['rougher.input.feed_size'], density=True, bins=50, label='test')\n",
    "plt.xlabel('Кол-во элементов')\n",
    "plt.ylabel('Размер гранул')\n",
    "plt.legend()"
   ]
  },
  {
   "cell_type": "code",
   "execution_count": 15,
   "metadata": {},
   "outputs": [
    {
     "data": {
      "image/png": "[encoded data removed]",
      "text/plain": [
       "<Figure size 720x360 with 1 Axes>"
      ]
     },
     "metadata": {},
     "output_type": "display_data"
    },
    {
     "data": {
      "image/png": "[encoded data removed]",
      "text/plain": [
       "<Figure size 720x360 with 1 Axes>"
      ]
     },
     "metadata": {},
     "output_type": "display_data"
    }
   ],
   "source": [
    "plt.figure(figsize=(10,5))\n",
    "train_data.boxplot(column=['rougher.input.feed_size'])\n",
    "plt.show()\n",
    "plt.figure(figsize=(10,5))\n",
    "test_data.boxplot(column=['rougher.input.feed_size'])\n",
    "plt.show()"
   ]
  },
  {
   "cell_type": "code",
   "execution_count": 16,
   "metadata": {},
   "outputs": [
    {
     "name": "stdout",
     "output_type": "stream",
     "text": [
      "Обучающая выборка:\n",
      "count    14579.000000\n",
      "mean        59.070865\n",
      "std         22.903811\n",
      "min          0.049194\n",
      "25%         47.322462\n",
      "50%         54.464259\n",
      "75%         64.469177\n",
      "max        484.967466\n",
      "Name: rougher.input.feed_size, dtype: float64\n",
      "Тестовая выборка:\n",
      "count    4860.000000\n",
      "mean       59.136150\n",
      "std        19.512497\n",
      "min         0.046369\n",
      "25%        47.610795\n",
      "50%        55.461058\n",
      "75%        66.538910\n",
      "max       363.989699\n",
      "Name: rougher.input.feed_size, dtype: float64\n"
     ]
    }
   ],
   "source": [
    "print(f'Обучающая выборка:\\n{train_data[\"rougher.input.feed_size\"].describe()}')\n",
    "print(f'Тестовая выборка:\\n{test_data[\"rougher.input.feed_size\"].describe()}')"
   ]
  },
  {
   "cell_type": "markdown",
   "metadata": {},
   "source": [
    "Распределения размеров гранул практически не отличаются, а значит оценка модели должна быть правильной"
   ]
  },
  {
   "cell_type": "code",
   "execution_count": 17,
   "metadata": {},
   "outputs": [
    {
     "name": "stdout",
     "output_type": "stream",
     "text": [
      "[160684.66593156557, 384347.9107114745, 624369.0245287111, 856803.3350786205] \n",
      "\n",
      "[170964.59423041172, 233166.1271965796, 164111.97062278076, 100468.27426143161] \n",
      "\n",
      "[69679.41156014719, 147858.3274961977, 190682.5194985767, 193978.30888732593] \n",
      "\n",
      "[712958.1617327845, 559810.9934242333, 201920.63715886662, 183317.36354930865] \n",
      "\n"
     ]
    }
   ],
   "source": [
    "au = []\n",
    "ag = []\n",
    "pb = []\n",
    "sol = []\n",
    "def stage_concentration(material_type_array, raw, crude, cleaner, finaly):\n",
    "    material_type_array.append(full_data[raw].sum())\n",
    "    material_type_array.append(full_data[crude].sum())\n",
    "    material_type_array.append(full_data[cleaner].sum())\n",
    "    material_type_array.append(full_data[finaly].sum())\n",
    "    return material_type_array\n",
    "\n",
    "\n",
    "print(stage_concentration(au, 'rougher.input.feed_au', 'rougher.output.concentrate_au', \\\n",
    "                          'primary_cleaner.output.concentrate_au', 'final.output.concentrate_au'), '\\n')\n",
    "\n",
    "print(stage_concentration(ag, 'rougher.input.feed_ag', 'rougher.output.concentrate_ag', \\\n",
    "                          'primary_cleaner.output.concentrate_ag', 'final.output.concentrate_ag'), '\\n')\n",
    "\n",
    "print(stage_concentration(pb, 'rougher.input.feed_pb', 'rougher.output.concentrate_pb', \\\n",
    "                          'primary_cleaner.output.concentrate_pb', 'final.output.concentrate_pb'), '\\n')\n",
    "\n",
    "print(stage_concentration(sol, 'rougher.input.feed_sol', 'rougher.output.concentrate_sol', \\\n",
    "                          'primary_cleaner.output.concentrate_sol', 'final.output.concentrate_sol'), '\\n')"
   ]
  },
  {
   "cell_type": "code",
   "execution_count": 18,
   "metadata": {},
   "outputs": [
    {
     "data": {
      "text/plain": [
       "<matplotlib.legend.Legend at 0x7f3a27585910>"
      ]
     },
     "execution_count": 18,
     "metadata": {},
     "output_type": "execute_result"
    },
    {
     "data": {
      "image/png": "[encoded data removed]",
      "text/plain": [
       "<Figure size 720x360 with 1 Axes>"
      ]
     },
     "metadata": {},
     "output_type": "display_data"
    }
   ],
   "source": [
    "all_material = []\n",
    "for i in range(len(au)):\n",
    "    all_material.append(au[i]+ag[i]+pb[i]+sol[i])\n",
    "xname = ['Сырьё', 'Чер. кон-т', 'После 1-й очистки', 'Финальный кон-т']\n",
    "xpos = np.arange(len(all_material))\n",
    "plt.figure(figsize=(10,5))\n",
    "plt.bar(xpos, all_material, color='royalblue', width=0.2, label='суммарная концентарция 4-ех веществ')\n",
    "plt.xticks(ticks = xpos, labels=xname)\n",
    "plt.xlabel('Этапы обработки')\n",
    "plt.ylabel('Концентрация металлов')\n",
    "plt.legend()"
   ]
  },
  {
   "cell_type": "markdown",
   "metadata": {},
   "source": [
    "Суммарная концентрация меняется на каждом этапе обработки, но не сильно. На 1-2 этапах она растет, затем снижается на 3-м этапе и снова растет на 4-м"
   ]
  },
  {
   "cell_type": "markdown",
   "metadata": {},
   "source": [
    "## Модель"
   ]
  },
  {
   "cell_type": "markdown",
   "metadata": {},
   "source": [
    "### Функция расчета SMAPE"
   ]
  },
  {
   "cell_type": "code",
   "execution_count": 19,
   "metadata": {},
   "outputs": [],
   "source": [
    "def smape(predict, target):\n",
    "    return 100/len(predict) * np.sum(2 * np.abs(target - predict) / (np.abs(predict) + np.abs(target)))"
   ]
  },
  {
   "cell_type": "code",
   "execution_count": 20,
   "metadata": {},
   "outputs": [
    {
     "name": "stdout",
     "output_type": "stream",
     "text": [
      "394\n",
      "3\n",
      "98\n",
      "72\n"
     ]
    }
   ],
   "source": [
    "print(train_data[train_data['rougher.output.recovery'] == 0]['rougher.output.recovery'].count())\n",
    "print(train_data[train_data['rougher.output.recovery'] == 100]['rougher.output.recovery'].count())\n",
    "print(train_data[train_data['final.output.recovery'] == 0]['final.output.recovery'].count())\n",
    "print(train_data[train_data['final.output.recovery'] == 100]['final.output.recovery'].count())"
   ]
  },
  {
   "cell_type": "code",
   "execution_count": 21,
   "metadata": {
    "scrolled": true
   },
   "outputs": [
    {
     "name": "stdout",
     "output_type": "stream",
     "text": [
      "0\n",
      "0\n",
      "0\n",
      "0\n"
     ]
    }
   ],
   "source": [
    "train_data = train_data.loc[((train_data['rougher.output.recovery'] != 0) & (train_data['rougher.output.recovery'] != 100) \\\n",
    "                             & (train_data['final.output.recovery'] != 0) & (train_data['final.output.recovery'] != 100))]\n",
    "\n",
    "print(train_data[train_data['rougher.output.recovery'] == 0]['rougher.output.recovery'].count())\n",
    "print(train_data[train_data['rougher.output.recovery'] == 100]['rougher.output.recovery'].count())\n",
    "print(train_data[train_data['final.output.recovery'] == 0]['final.output.recovery'].count())\n",
    "print(train_data[train_data['final.output.recovery'] == 100]['final.output.recovery'].count())"
   ]
  },
  {
   "cell_type": "code",
   "execution_count": 22,
   "metadata": {
    "scrolled": true
   },
   "outputs": [],
   "source": [
    "features_train = train_data[test_data.columns.values].drop(['date'], axis=1)\n",
    "target_train_rougher = train_data['rougher.output.recovery']\n",
    "target_train_final = train_data['final.output.recovery']"
   ]
  },
  {
   "cell_type": "code",
   "execution_count": 23,
   "metadata": {},
   "outputs": [
    {
     "name": "stdout",
     "output_type": "stream",
     "text": [
      "['rougher.input.feed_au' 'rougher.input.feed_ag' 'rougher.input.feed_pb'\n",
      " 'rougher.input.feed_sol' 'rougher.input.feed_rate'\n",
      " 'rougher.input.feed_size' 'rougher.input.floatbank10_sulfate'\n",
      " 'rougher.input.floatbank10_xanthate' 'rougher.state.floatbank10_a_air'\n",
      " 'rougher.state.floatbank10_a_level' 'rougher.state.floatbank10_b_air'\n",
      " 'rougher.state.floatbank10_b_level' 'rougher.state.floatbank10_c_air'\n",
      " 'rougher.state.floatbank10_c_level' 'rougher.state.floatbank10_d_air'\n",
      " 'rougher.state.floatbank10_d_level' 'rougher.state.floatbank10_e_air'\n",
      " 'rougher.state.floatbank10_e_level' 'rougher.state.floatbank10_f_air'\n",
      " 'rougher.state.floatbank10_f_level' 'rougher.input.floatbank11_sulfate'\n",
      " 'rougher.input.floatbank11_xanthate' 'primary_cleaner.input.sulfate'\n",
      " 'primary_cleaner.input.depressant' 'primary_cleaner.input.feed_size'\n",
      " 'primary_cleaner.input.xanthate' 'primary_cleaner.state.floatbank8_a_air'\n",
      " 'primary_cleaner.state.floatbank8_a_level'\n",
      " 'primary_cleaner.state.floatbank8_b_air'\n",
      " 'primary_cleaner.state.floatbank8_b_level'\n",
      " 'primary_cleaner.state.floatbank8_c_air'\n",
      " 'primary_cleaner.state.floatbank8_c_level'\n",
      " 'primary_cleaner.state.floatbank8_d_air'\n",
      " 'primary_cleaner.state.floatbank8_d_level'\n",
      " 'secondary_cleaner.state.floatbank2_a_air'\n",
      " 'secondary_cleaner.state.floatbank2_a_level'\n",
      " 'secondary_cleaner.state.floatbank2_b_air'\n",
      " 'secondary_cleaner.state.floatbank2_b_level'\n",
      " 'secondary_cleaner.state.floatbank3_a_air'\n",
      " 'secondary_cleaner.state.floatbank3_a_level'\n",
      " 'secondary_cleaner.state.floatbank3_b_air'\n",
      " 'secondary_cleaner.state.floatbank3_b_level'\n",
      " 'secondary_cleaner.state.floatbank4_a_air'\n",
      " 'secondary_cleaner.state.floatbank4_a_level'\n",
      " 'secondary_cleaner.state.floatbank4_b_air'\n",
      " 'secondary_cleaner.state.floatbank4_b_level'\n",
      " 'secondary_cleaner.state.floatbank5_a_air'\n",
      " 'secondary_cleaner.state.floatbank5_a_level'\n",
      " 'secondary_cleaner.state.floatbank5_b_air'\n",
      " 'secondary_cleaner.state.floatbank5_b_level'\n",
      " 'secondary_cleaner.state.floatbank6_a_air'\n",
      " 'secondary_cleaner.state.floatbank6_a_level']\n"
     ]
    }
   ],
   "source": [
    "print(features_train.columns.values)"
   ]
  },
  {
   "cell_type": "markdown",
   "metadata": {},
   "source": [
    "### Функция расчета score"
   ]
  },
  {
   "cell_type": "code",
   "execution_count": 24,
   "metadata": {},
   "outputs": [],
   "source": [
    "def score(model_rougher, model_final, features, target_rougher, target_final):\n",
    "    score = make_scorer(smape, greater_is_better=True)\n",
    "    if model_final == 0:\n",
    "        score_rougher = cross_val_score(model_rougher, features, target_rougher, cv=5, scoring=score).mean()\n",
    "        score_final = cross_val_score(model_rougher, features, target_final, cv=5, scoring=score).mean()\n",
    "    else:\n",
    "        score_rougher = cross_val_score(model_rougher, features, target_rougher, cv=5, scoring=score).mean()\n",
    "        score_final = cross_val_score(model_final, features, target_final, cv=5, scoring=score).mean()\n",
    "    return (score_rougher*0.25+score_final*0.75)"
   ]
  },
  {
   "cell_type": "markdown",
   "metadata": {},
   "source": [
    "### Линейная регрессия"
   ]
  },
  {
   "cell_type": "code",
   "execution_count": 25,
   "metadata": {},
   "outputs": [
    {
     "name": "stdout",
     "output_type": "stream",
     "text": [
      "Итоговый sMAPE: 8.78007991969113\n",
      " Модель: LinearRegression()\n",
      "CPU times: user 1.95 s, sys: 2.65 s, total: 4.61 s\n",
      "Wall time: 4.6 s\n"
     ]
    }
   ],
   "source": [
    "%%time\n",
    "model = LinearRegression()\n",
    "print(f'Итоговый sMAPE: {score(model, 0, features_train, target_train_rougher, target_train_final)}\\n Модель: {model}' )"
   ]
  },
  {
   "cell_type": "markdown",
   "metadata": {},
   "source": [
    "### Дерево решений"
   ]
  },
  {
   "cell_type": "code",
   "execution_count": 26,
   "metadata": {},
   "outputs": [
    {
     "name": "stdout",
     "output_type": "stream",
     "text": [
      "Лучший sMAPE: 8.48801743060245\n",
      " Лучшая глубина: 2\n",
      " Модель: DecisionTreeRegressor(max_depth=2, random_state=12345)\n",
      "CPU times: user 57.9 s, sys: 460 ms, total: 58.4 s\n",
      "Wall time: 58.5 s\n"
     ]
    }
   ],
   "source": [
    "%%time\n",
    "best_smape = 100\n",
    "best_depth = 0\n",
    "best_model = 0\n",
    "for depth in range(1, 16):\n",
    "    model = DecisionTreeRegressor(random_state=12345, max_depth=depth)\n",
    "    t_smape = score(model, 0, features_train, target_train_rougher, target_train_final)\n",
    "    if t_smape < best_smape:\n",
    "        best_smape = t_smape\n",
    "        best_depth = depth\n",
    "        best_model = model\n",
    "\n",
    "print(f'Лучший sMAPE: {best_smape}\\n Лучшая глубина: {best_depth}\\n Модель: {best_model}')"
   ]
  },
  {
   "cell_type": "markdown",
   "metadata": {},
   "source": [
    "### Случайный лес"
   ]
  },
  {
   "cell_type": "code",
   "execution_count": 27,
   "metadata": {},
   "outputs": [
    {
     "name": "stdout",
     "output_type": "stream",
     "text": [
      "Fitting 5 folds for each of 10 candidates, totalling 50 fits\n",
      "Лучшие параметры для модели, находящей rougher: {'n_estimators': 25, 'max_depth': 5}\n",
      "RandomForestRegressor(max_depth=5, n_estimators=25)\n",
      "-6.474941871503016\n",
      "Fitting 5 folds for each of 10 candidates, totalling 50 fits\n",
      "Лучшие параметры для модели, находящей final: {'n_estimators': 35, 'max_depth': 2}\n",
      "RandomForestRegressor(max_depth=2, n_estimators=35)\n",
      "-8.672440867882532\n",
      "sMAPE: 8.123066118787653\n",
      "CPU times: user 16min 5s, sys: 4.89 s, total: 16min 10s\n",
      "Wall time: 16min 11s\n"
     ]
    }
   ],
   "source": [
    "%%time\n",
    "\n",
    "parametrs = { 'n_estimators': range (10, 66, 5),\n",
    "              'max_depth': range (1,16)}\n",
    "scorer = make_scorer(smape, greater_is_better=False)\n",
    "model = RandomizedSearchCV(RandomForestRegressor(), param_distributions=parametrs, cv=5, scoring=scorer, n_jobs=-1, verbose=1, random_state=12345)\n",
    "model_grid = model.fit(features_train, target_train_rougher)\n",
    "print(f'Лучшие параметры для модели, находящей rougher: {model_grid.best_params_}')\n",
    "print(model_grid.best_estimator_)\n",
    "a = model_grid.best_score_\n",
    "print(a)\n",
    "model_grid = model.fit(features_train, target_train_final)\n",
    "print(f'Лучшие параметры для модели, находящей final: {model_grid.best_params_}')\n",
    "print(model_grid.best_estimator_)\n",
    "print(model_grid.best_score_)\n",
    "print(f'sMAPE: {a*-0.25+model_grid.best_score_*-0.75}')"
   ]
  },
  {
   "cell_type": "code",
   "execution_count": 28,
   "metadata": {},
   "outputs": [
    {
     "name": "stdout",
     "output_type": "stream",
     "text": [
      "8.115902382514534\n",
      "CPU times: user 1min 9s, sys: 348 ms, total: 1min 9s\n",
      "Wall time: 1min 9s\n"
     ]
    }
   ],
   "source": [
    "%%time\n",
    "model_rougher = RandomForestRegressor(random_state=12345, n_estimators = 60, max_depth=6)\n",
    "model_final = RandomForestRegressor(random_state=12345, n_estimators = 35, max_depth=2)\n",
    "print(score(model_rougher, model_final, features_train, target_train_rougher, target_train_final))"
   ]
  },
  {
   "cell_type": "markdown",
   "metadata": {},
   "source": [
    "### CatBoostRegressor "
   ]
  },
  {
   "cell_type": "code",
   "execution_count": 29,
   "metadata": {},
   "outputs": [
    {
     "name": "stdout",
     "output_type": "stream",
     "text": [
      "sMAPE для rougher: 1.7461826162341618 \n",
      "\n",
      "sMAPE для final: 3.989388087239352 \n",
      "\n",
      "sMAPE для catboost(rougher+final): 3.4285867194880546\n"
     ]
    }
   ],
   "source": [
    "from catboost import CatBoostRegressor\n",
    "cat = CatBoostRegressor()\n",
    "cat.fit(features_train, target_train_rougher, verbose=False)\n",
    "a = smape(cat.predict(features_train), target_train_rougher)\n",
    "print(f'sMAPE для rougher: {a} \\n')\n",
    "cat.fit(features_train, target_train_final, verbose=False)\n",
    "b = smape(cat.predict(features_train), target_train_final)\n",
    "print(f'sMAPE для final: {b} \\n')\n",
    "print(f'sMAPE для catboost(rougher+final): {a*0.25+b*0.75}')"
   ]
  },
  {
   "cell_type": "code",
   "execution_count": 30,
   "metadata": {},
   "outputs": [],
   "source": [
    "test_data = test_data.merge(full_data.loc[:, ['date','rougher.output.recovery','final.output.recovery']], on='date')\n",
    "test_data = test_data.loc[((test_data['rougher.output.recovery'] != 0) & (test_data['rougher.output.recovery'] != 100) \\\n",
    "                             & (test_data['final.output.recovery'] != 0) & (test_data['final.output.recovery'] != 100))]\n",
    "\n",
    "features_test = test_data.drop(['date','rougher.output.recovery','final.output.recovery'], axis=1)\n",
    "target_test_final = test_data['final.output.recovery']\n",
    "target_test_rougher = test_data['rougher.output.recovery']"
   ]
  },
  {
   "cell_type": "code",
   "execution_count": 31,
   "metadata": {},
   "outputs": [
    {
     "name": "stdout",
     "output_type": "stream",
     "text": [
      "sMAPE для rougher: 2.5646431373458416 \n",
      "\n",
      "sMAPE для final: 6.020304711835924 \n",
      "\n",
      "sMAPE для catboost(rougher+final) на тестовой выборке равно: 5.156389318213403\n"
     ]
    }
   ],
   "source": [
    "cat.fit(features_train, target_train_rougher, verbose=False)\n",
    "a = smape(cat.predict(features_test), target_test_rougher)\n",
    "print(f'sMAPE для rougher: {a} \\n')\n",
    "cat.fit(features_train, target_train_final, verbose=False)\n",
    "b = smape(cat.predict(features_test), target_test_final)\n",
    "print(f'sMAPE для final: {b} \\n')\n",
    "print(f'sMAPE для catboost(rougher+final) на тестовой выборке равно: {a*0.25+b*0.75}')"
   ]
  },
  {
   "cell_type": "markdown",
   "metadata": {},
   "source": [
    "### Проверка модели на адекватность "
   ]
  },
  {
   "cell_type": "code",
   "execution_count": 32,
   "metadata": {},
   "outputs": [
    {
     "name": "stdout",
     "output_type": "stream",
     "text": [
      "Значение sMAPE DummyRegressor модели: 8.763208952458411\n"
     ]
    }
   ],
   "source": [
    "model = DummyRegressor()\n",
    "print(f'Значение sMAPE DummyRegressor модели: {score(model, 0, features_test, target_test_rougher, target_test_final)}')"
   ]
  },
  {
   "cell_type": "markdown",
   "metadata": {},
   "source": [
    "Лучшей моделью оказалась: CatBoostRegressor\n",
    "Результат sMAPE данной модели: 5.156389318213403\n",
    "sMAPE ниже чему у константной модели, а значит модель работает верно"
   ]
  },
  {
   "cell_type": "markdown",
   "metadata": {},
   "source": [
    "Вывод:\n",
    "В ходе проекта были протестированы 4 модели: LinearRegression, DecisionTreeRegressor, RandomForestRegressor и CatBoostRegressor. Гиперпараметры находились с помощью RandomizedSearchCV с кол-вом блоков для кросс-валидации равным 5. Исследование проводилось для двух таргетов: 'rougher.output.recovery' и 'final.output.recovery'.\n",
    "Результат оценивался на основе данной из ТЗ формулы sMAPE. По результатам исследования:\n",
    "* Модель с лучшими показателями sMAPE: CatBoostRegressor\n",
    "* sMAPE на тестовой выборке равен: 5.156389318213403\n",
    "* Ошибка ниже, чем у константной модели, а значит обученная модель допускается к дальнейшему использованию."
   ]
  }
 ],
 "metadata": {
  "ExecuteTimeLog": [
   {
    "duration": 445,
    "start_time": "2023-05-09T13:08:41.875Z"
   },
   {
    "duration": 3,
    "start_time": "2023-05-09T13:10:18.626Z"
   },
   {
    "duration": 3567,
    "start_time": "2023-05-09T13:11:18.808Z"
   },
   {
    "duration": 425,
    "start_time": "2023-05-09T13:11:41.560Z"
   },
   {
    "duration": 974,
    "start_time": "2023-05-09T13:11:47.128Z"
   },
   {
    "duration": 111,
    "start_time": "2023-05-09T13:12:16.502Z"
   },
   {
    "duration": 86,
    "start_time": "2023-05-09T13:12:25.180Z"
   },
   {
    "duration": 655,
    "start_time": "2023-05-09T13:12:51.999Z"
   },
   {
    "duration": 42,
    "start_time": "2023-05-09T13:13:09.662Z"
   },
   {
    "duration": 3,
    "start_time": "2023-05-09T13:13:33.361Z"
   },
   {
    "duration": 53,
    "start_time": "2023-05-09T13:13:36.158Z"
   },
   {
    "duration": 17,
    "start_time": "2023-05-09T13:14:54.558Z"
   },
   {
    "duration": 25,
    "start_time": "2023-05-09T13:15:30.166Z"
   },
   {
    "duration": 21,
    "start_time": "2023-05-09T13:15:48.080Z"
   },
   {
    "duration": 24,
    "start_time": "2023-05-09T13:15:56.560Z"
   },
   {
    "duration": 25,
    "start_time": "2023-05-09T13:15:59.203Z"
   },
   {
    "duration": 22,
    "start_time": "2023-05-09T13:16:03.560Z"
   },
   {
    "duration": 14,
    "start_time": "2023-05-09T13:16:25.326Z"
   },
   {
    "duration": 799,
    "start_time": "2023-05-09T13:35:44.326Z"
   },
   {
    "duration": 31,
    "start_time": "2023-05-09T13:48:10.451Z"
   },
   {
    "duration": 50,
    "start_time": "2023-05-09T13:49:18.188Z"
   },
   {
    "duration": 3,
    "start_time": "2023-05-09T13:49:22.504Z"
   },
   {
    "duration": 46,
    "start_time": "2023-05-09T13:50:42.817Z"
   },
   {
    "duration": 958,
    "start_time": "2023-05-09T13:53:55.972Z"
   },
   {
    "duration": 72,
    "start_time": "2023-05-09T13:53:59.324Z"
   },
   {
    "duration": 18,
    "start_time": "2023-05-09T13:57:15.451Z"
   },
   {
    "duration": 42,
    "start_time": "2023-05-09T13:57:38.210Z"
   },
   {
    "duration": 98,
    "start_time": "2023-05-09T13:58:23.097Z"
   },
   {
    "duration": 21,
    "start_time": "2023-05-09T13:58:25.886Z"
   },
   {
    "duration": 23,
    "start_time": "2023-05-09T13:59:11.700Z"
   },
   {
    "duration": 23,
    "start_time": "2023-05-09T13:59:45.773Z"
   },
   {
    "duration": 37,
    "start_time": "2023-05-09T14:01:21.270Z"
   },
   {
    "duration": 23,
    "start_time": "2023-05-09T14:01:25.137Z"
   },
   {
    "duration": 18,
    "start_time": "2023-05-09T14:01:43.598Z"
   },
   {
    "duration": 55,
    "start_time": "2023-05-09T14:01:46.227Z"
   },
   {
    "duration": 1205,
    "start_time": "2023-05-09T14:01:53.695Z"
   },
   {
    "duration": 788,
    "start_time": "2023-05-09T14:01:54.902Z"
   },
   {
    "duration": 126,
    "start_time": "2023-05-09T14:01:55.695Z"
   },
   {
    "duration": 69,
    "start_time": "2023-05-09T14:01:55.824Z"
   },
   {
    "duration": 18,
    "start_time": "2023-05-09T14:01:55.896Z"
   },
   {
    "duration": 86,
    "start_time": "2023-05-09T14:01:55.916Z"
   },
   {
    "duration": 750,
    "start_time": "2023-05-09T14:01:56.006Z"
   },
   {
    "duration": 269,
    "start_time": "2023-05-09T14:04:13.599Z"
   },
   {
    "duration": 293,
    "start_time": "2023-05-09T14:04:17.672Z"
   },
   {
    "duration": 284,
    "start_time": "2023-05-09T14:04:42.422Z"
   },
   {
    "duration": 225,
    "start_time": "2023-05-09T14:04:47.671Z"
   },
   {
    "duration": 210,
    "start_time": "2023-05-09T14:04:59.294Z"
   },
   {
    "duration": 947,
    "start_time": "2023-05-09T14:05:48.124Z"
   },
   {
    "duration": 1329,
    "start_time": "2023-05-09T14:05:57.214Z"
   },
   {
    "duration": 4,
    "start_time": "2023-05-09T14:14:18.956Z"
   },
   {
    "duration": 73,
    "start_time": "2023-05-09T14:18:31.652Z"
   },
   {
    "duration": 6,
    "start_time": "2023-05-09T14:18:40.134Z"
   },
   {
    "duration": 873,
    "start_time": "2023-05-09T14:20:46.797Z"
   },
   {
    "duration": 847,
    "start_time": "2023-05-09T14:21:17.699Z"
   },
   {
    "duration": 40,
    "start_time": "2023-05-09T14:21:38.729Z"
   },
   {
    "duration": 40,
    "start_time": "2023-05-09T14:21:45.725Z"
   },
   {
    "duration": 39,
    "start_time": "2023-05-09T14:22:18.761Z"
   },
   {
    "duration": 8,
    "start_time": "2023-05-09T14:24:38.258Z"
   },
   {
    "duration": 9,
    "start_time": "2023-05-09T14:24:50.615Z"
   },
   {
    "duration": 8,
    "start_time": "2023-05-09T14:26:51.592Z"
   },
   {
    "duration": 8,
    "start_time": "2023-05-09T14:28:21.912Z"
   },
   {
    "duration": 77,
    "start_time": "2023-05-09T14:30:24.860Z"
   },
   {
    "duration": 1179,
    "start_time": "2023-05-09T14:40:34.115Z"
   },
   {
    "duration": 864,
    "start_time": "2023-05-09T14:40:35.296Z"
   },
   {
    "duration": 92,
    "start_time": "2023-05-09T14:40:36.163Z"
   },
   {
    "duration": 56,
    "start_time": "2023-05-09T14:40:36.258Z"
   },
   {
    "duration": 39,
    "start_time": "2023-05-09T14:40:36.316Z"
   },
   {
    "duration": 68,
    "start_time": "2023-05-09T14:40:36.358Z"
   },
   {
    "duration": 282,
    "start_time": "2023-05-09T14:40:36.428Z"
   },
   {
    "duration": 434,
    "start_time": "2023-05-09T14:40:36.715Z"
   },
   {
    "duration": 90,
    "start_time": "2023-05-09T14:40:37.154Z"
   },
   {
    "duration": 72,
    "start_time": "2023-05-09T14:40:37.248Z"
   },
   {
    "duration": 102,
    "start_time": "2023-05-09T14:55:37.530Z"
   },
   {
    "duration": 14,
    "start_time": "2023-05-09T14:55:45.932Z"
   },
   {
    "duration": 4,
    "start_time": "2023-05-09T14:55:55.650Z"
   },
   {
    "duration": 4,
    "start_time": "2023-05-09T14:56:05.160Z"
   },
   {
    "duration": 89,
    "start_time": "2023-05-09T14:56:17.760Z"
   },
   {
    "duration": 2616,
    "start_time": "2023-05-09T15:16:10.811Z"
   },
   {
    "duration": 13,
    "start_time": "2023-05-09T15:16:33.036Z"
   },
   {
    "duration": 16,
    "start_time": "2023-05-09T15:16:56.742Z"
   },
   {
    "duration": 18,
    "start_time": "2023-05-09T15:17:08.736Z"
   },
   {
    "duration": 17,
    "start_time": "2023-05-09T15:17:18.816Z"
   },
   {
    "duration": 6,
    "start_time": "2023-05-09T15:42:48.981Z"
   },
   {
    "duration": 8,
    "start_time": "2023-05-09T15:42:57.741Z"
   },
   {
    "duration": 12,
    "start_time": "2023-05-09T16:40:21.871Z"
   },
   {
    "duration": 12,
    "start_time": "2023-05-09T16:40:28.555Z"
   },
   {
    "duration": 13,
    "start_time": "2023-05-09T16:46:08.592Z"
   },
   {
    "duration": 8,
    "start_time": "2023-05-09T16:46:18.936Z"
   },
   {
    "duration": 8,
    "start_time": "2023-05-09T16:46:31.716Z"
   },
   {
    "duration": 13,
    "start_time": "2023-05-09T16:50:19.819Z"
   },
   {
    "duration": 916,
    "start_time": "2023-05-09T16:54:37.167Z"
   },
   {
    "duration": 409,
    "start_time": "2023-05-09T16:55:29.814Z"
   },
   {
    "duration": 137,
    "start_time": "2023-05-09T16:55:37.644Z"
   },
   {
    "duration": 368,
    "start_time": "2023-05-09T16:55:46.313Z"
   },
   {
    "duration": 414,
    "start_time": "2023-05-09T16:56:13.644Z"
   },
   {
    "duration": 426,
    "start_time": "2023-05-09T16:59:38.462Z"
   },
   {
    "duration": 630,
    "start_time": "2023-05-09T17:00:01.411Z"
   },
   {
    "duration": 12,
    "start_time": "2023-05-09T17:10:58.975Z"
   },
   {
    "duration": 3,
    "start_time": "2023-05-09T17:11:51.922Z"
   },
   {
    "duration": 12,
    "start_time": "2023-05-09T17:13:01.799Z"
   },
   {
    "duration": 125,
    "start_time": "2023-05-09T17:13:04.254Z"
   },
   {
    "duration": 99,
    "start_time": "2023-05-09T17:13:13.283Z"
   },
   {
    "duration": 107,
    "start_time": "2023-05-09T17:13:17.334Z"
   },
   {
    "duration": 106,
    "start_time": "2023-05-09T17:13:58.527Z"
   },
   {
    "duration": 107,
    "start_time": "2023-05-09T17:14:40.556Z"
   },
   {
    "duration": 127,
    "start_time": "2023-05-09T17:17:11.071Z"
   },
   {
    "duration": 130,
    "start_time": "2023-05-09T17:18:12.377Z"
   },
   {
    "duration": 129,
    "start_time": "2023-05-09T17:18:21.997Z"
   },
   {
    "duration": 139,
    "start_time": "2023-05-09T17:18:50.594Z"
   },
   {
    "duration": 142,
    "start_time": "2023-05-09T17:21:42.061Z"
   },
   {
    "duration": 122,
    "start_time": "2023-05-09T17:22:14.612Z"
   },
   {
    "duration": 139,
    "start_time": "2023-05-09T17:22:39.812Z"
   },
   {
    "duration": 132,
    "start_time": "2023-05-09T17:22:52.175Z"
   },
   {
    "duration": 133,
    "start_time": "2023-05-09T17:23:07.624Z"
   },
   {
    "duration": 12,
    "start_time": "2023-05-09T17:25:16.792Z"
   },
   {
    "duration": 3,
    "start_time": "2023-05-09T17:25:52.719Z"
   },
   {
    "duration": 69,
    "start_time": "2023-05-09T17:25:57.159Z"
   },
   {
    "duration": 51,
    "start_time": "2023-05-09T17:26:13.751Z"
   },
   {
    "duration": 5,
    "start_time": "2023-05-09T17:26:58.150Z"
   },
   {
    "duration": 87,
    "start_time": "2023-05-09T17:27:04.121Z"
   },
   {
    "duration": 125,
    "start_time": "2023-05-09T17:27:19.691Z"
   },
   {
    "duration": 146,
    "start_time": "2023-05-09T17:28:06.073Z"
   },
   {
    "duration": 110,
    "start_time": "2023-05-09T17:28:11.622Z"
   },
   {
    "duration": 304,
    "start_time": "2023-05-09T17:28:49.424Z"
   },
   {
    "duration": 183,
    "start_time": "2023-05-09T17:29:18.675Z"
   },
   {
    "duration": 216,
    "start_time": "2023-05-09T17:31:23.538Z"
   },
   {
    "duration": 16,
    "start_time": "2023-05-09T17:34:53.545Z"
   },
   {
    "duration": 212,
    "start_time": "2023-05-09T17:34:53.814Z"
   },
   {
    "duration": 10,
    "start_time": "2023-05-09T17:40:17.553Z"
   },
   {
    "duration": 164,
    "start_time": "2023-05-09T17:40:25.173Z"
   },
   {
    "duration": 148,
    "start_time": "2023-05-09T17:40:31.653Z"
   },
   {
    "duration": 147,
    "start_time": "2023-05-09T17:40:37.414Z"
   },
   {
    "duration": 11,
    "start_time": "2023-05-09T17:41:07.444Z"
   },
   {
    "duration": 153,
    "start_time": "2023-05-09T17:42:22.790Z"
   },
   {
    "duration": 164,
    "start_time": "2023-05-09T17:42:38.707Z"
   },
   {
    "duration": 142,
    "start_time": "2023-05-09T17:42:42.368Z"
   },
   {
    "duration": 123,
    "start_time": "2023-05-09T17:42:44.707Z"
   },
   {
    "duration": 158,
    "start_time": "2023-05-09T17:42:49.959Z"
   },
   {
    "duration": 194,
    "start_time": "2023-05-09T17:43:06.398Z"
   },
   {
    "duration": 450,
    "start_time": "2023-05-09T17:43:58.750Z"
   },
   {
    "duration": 287,
    "start_time": "2023-05-09T17:44:18.193Z"
   },
   {
    "duration": 269,
    "start_time": "2023-05-09T17:44:31.451Z"
   },
   {
    "duration": 308,
    "start_time": "2023-05-09T17:45:29.353Z"
   },
   {
    "duration": 549,
    "start_time": "2023-05-09T17:45:36.253Z"
   },
   {
    "duration": 269,
    "start_time": "2023-05-09T17:45:46.814Z"
   },
   {
    "duration": 358,
    "start_time": "2023-05-09T17:45:49.854Z"
   },
   {
    "duration": 540,
    "start_time": "2023-05-09T17:47:13.427Z"
   },
   {
    "duration": 127,
    "start_time": "2023-05-09T17:49:17.359Z"
   },
   {
    "duration": 207,
    "start_time": "2023-05-09T17:49:38.240Z"
   },
   {
    "duration": 9,
    "start_time": "2023-05-09T17:50:20.241Z"
   },
   {
    "duration": 12,
    "start_time": "2023-05-09T17:50:32.122Z"
   },
   {
    "duration": 12,
    "start_time": "2023-05-09T17:50:38.695Z"
   },
   {
    "duration": 85,
    "start_time": "2023-05-09T17:52:12.624Z"
   },
   {
    "duration": 11,
    "start_time": "2023-05-09T17:52:46.165Z"
   },
   {
    "duration": 13,
    "start_time": "2023-05-09T17:52:58.165Z"
   },
   {
    "duration": 11,
    "start_time": "2023-05-09T17:53:07.826Z"
   },
   {
    "duration": 13,
    "start_time": "2023-05-09T17:53:12.776Z"
   },
   {
    "duration": 264,
    "start_time": "2023-05-09T17:53:37.736Z"
   },
   {
    "duration": 342,
    "start_time": "2023-05-09T17:54:05.607Z"
   },
   {
    "duration": 252,
    "start_time": "2023-05-09T17:54:15.028Z"
   },
   {
    "duration": 98,
    "start_time": "2023-05-11T12:16:22.004Z"
   },
   {
    "duration": 2336,
    "start_time": "2023-05-11T12:16:32.012Z"
   },
   {
    "duration": 7667,
    "start_time": "2023-05-11T12:16:34.359Z"
   },
   {
    "duration": 113,
    "start_time": "2023-05-11T12:16:42.036Z"
   },
   {
    "duration": 76,
    "start_time": "2023-05-11T12:16:42.155Z"
   },
   {
    "duration": 39,
    "start_time": "2023-05-11T12:16:42.237Z"
   },
   {
    "duration": 72,
    "start_time": "2023-05-11T12:16:42.279Z"
   },
   {
    "duration": 308,
    "start_time": "2023-05-11T12:16:42.355Z"
   },
   {
    "duration": 1570,
    "start_time": "2023-05-11T12:16:42.665Z"
   },
   {
    "duration": 26,
    "start_time": "2023-05-11T12:16:44.270Z"
   },
   {
    "duration": 59,
    "start_time": "2023-05-11T12:16:44.308Z"
   },
   {
    "duration": 701,
    "start_time": "2023-05-11T12:16:44.373Z"
   },
   {
    "duration": 39,
    "start_time": "2023-05-11T12:16:45.076Z"
   },
   {
    "duration": 303,
    "start_time": "2023-05-11T12:16:45.124Z"
   },
   {
    "duration": 0,
    "start_time": "2023-05-11T12:16:45.429Z"
   },
   {
    "duration": 0,
    "start_time": "2023-05-11T12:16:45.433Z"
   },
   {
    "duration": 0,
    "start_time": "2023-05-11T12:16:45.434Z"
   },
   {
    "duration": 232,
    "start_time": "2023-05-11T12:17:11.812Z"
   },
   {
    "duration": 500,
    "start_time": "2023-05-11T12:17:15.753Z"
   },
   {
    "duration": 286,
    "start_time": "2023-05-11T12:17:16.281Z"
   },
   {
    "duration": 20,
    "start_time": "2023-05-11T12:17:19.015Z"
   },
   {
    "duration": 17,
    "start_time": "2023-05-11T12:23:59.122Z"
   },
   {
    "duration": 18,
    "start_time": "2023-05-11T12:24:34.052Z"
   },
   {
    "duration": 36,
    "start_time": "2023-05-11T12:25:25.811Z"
   },
   {
    "duration": 146,
    "start_time": "2023-05-11T12:26:43.637Z"
   },
   {
    "duration": 269,
    "start_time": "2023-05-11T12:27:02.610Z"
   },
   {
    "duration": 335,
    "start_time": "2023-05-11T12:28:14.579Z"
   },
   {
    "duration": 282,
    "start_time": "2023-05-11T12:28:24.983Z"
   },
   {
    "duration": 266,
    "start_time": "2023-05-11T12:28:28.937Z"
   },
   {
    "duration": 220,
    "start_time": "2023-05-11T12:28:34.470Z"
   },
   {
    "duration": 221,
    "start_time": "2023-05-11T12:28:37.168Z"
   },
   {
    "duration": 223,
    "start_time": "2023-05-11T12:28:45.325Z"
   },
   {
    "duration": 271,
    "start_time": "2023-05-11T12:28:51.081Z"
   },
   {
    "duration": 235,
    "start_time": "2023-05-11T12:32:48.032Z"
   },
   {
    "duration": 215,
    "start_time": "2023-05-11T12:33:43.850Z"
   },
   {
    "duration": 205,
    "start_time": "2023-05-11T12:34:02.843Z"
   },
   {
    "duration": 13,
    "start_time": "2023-05-11T12:34:28.670Z"
   },
   {
    "duration": 467,
    "start_time": "2023-05-11T12:34:29.273Z"
   },
   {
    "duration": 11,
    "start_time": "2023-05-12T14:39:56.206Z"
   },
   {
    "duration": 1411,
    "start_time": "2023-05-12T14:41:34.994Z"
   },
   {
    "duration": 97,
    "start_time": "2023-05-12T14:47:08.639Z"
   },
   {
    "duration": 1239,
    "start_time": "2023-05-12T14:47:13.404Z"
   },
   {
    "duration": 3108,
    "start_time": "2023-05-12T14:47:14.645Z"
   },
   {
    "duration": 58,
    "start_time": "2023-05-12T14:47:17.754Z"
   },
   {
    "duration": 51,
    "start_time": "2023-05-12T14:47:17.813Z"
   },
   {
    "duration": 13,
    "start_time": "2023-05-12T14:47:17.866Z"
   },
   {
    "duration": 44,
    "start_time": "2023-05-12T14:47:17.881Z"
   },
   {
    "duration": 250,
    "start_time": "2023-05-12T14:47:17.926Z"
   },
   {
    "duration": 476,
    "start_time": "2023-05-12T14:47:18.177Z"
   },
   {
    "duration": 95,
    "start_time": "2023-05-12T14:47:18.655Z"
   },
   {
    "duration": 27,
    "start_time": "2023-05-12T14:47:18.752Z"
   },
   {
    "duration": 444,
    "start_time": "2023-05-12T14:47:18.780Z"
   },
   {
    "duration": 26,
    "start_time": "2023-05-12T14:47:19.225Z"
   },
   {
    "duration": 191,
    "start_time": "2023-05-12T14:47:19.253Z"
   },
   {
    "duration": 357,
    "start_time": "2023-05-12T14:47:19.450Z"
   },
   {
    "duration": 224,
    "start_time": "2023-05-12T14:47:19.809Z"
   },
   {
    "duration": 18,
    "start_time": "2023-05-12T14:47:20.034Z"
   },
   {
    "duration": 15,
    "start_time": "2023-05-12T14:47:20.053Z"
   },
   {
    "duration": 141,
    "start_time": "2023-05-12T14:47:20.069Z"
   },
   {
    "duration": 4,
    "start_time": "2023-05-12T14:47:20.212Z"
   },
   {
    "duration": 933,
    "start_time": "2023-05-12T14:47:20.218Z"
   },
   {
    "duration": 1961,
    "start_time": "2023-05-12T14:48:57.998Z"
   },
   {
    "duration": 118,
    "start_time": "2023-05-12T14:50:54.359Z"
   },
   {
    "duration": 4227,
    "start_time": "2023-05-12T14:51:21.729Z"
   },
   {
    "duration": 5614,
    "start_time": "2023-05-12T14:51:31.739Z"
   },
   {
    "duration": 4670,
    "start_time": "2023-05-12T14:53:18.895Z"
   },
   {
    "duration": 3,
    "start_time": "2023-05-12T15:31:45.887Z"
   },
   {
    "duration": 19,
    "start_time": "2023-05-12T15:31:50.702Z"
   },
   {
    "duration": 5,
    "start_time": "2023-05-12T15:32:13.460Z"
   },
   {
    "duration": 3771,
    "start_time": "2023-05-12T15:32:16.791Z"
   },
   {
    "duration": 4,
    "start_time": "2023-05-12T15:36:52.091Z"
   },
   {
    "duration": 9,
    "start_time": "2023-05-12T15:37:20.450Z"
   },
   {
    "duration": 8,
    "start_time": "2023-05-12T15:45:20.441Z"
   },
   {
    "duration": 7,
    "start_time": "2023-05-12T15:48:42.591Z"
   },
   {
    "duration": 3268,
    "start_time": "2023-05-12T15:48:44.992Z"
   },
   {
    "duration": 4,
    "start_time": "2023-05-12T15:48:57.388Z"
   },
   {
    "duration": 3901,
    "start_time": "2023-05-12T15:48:59.355Z"
   },
   {
    "duration": 3,
    "start_time": "2023-05-12T15:49:26.499Z"
   },
   {
    "duration": 4,
    "start_time": "2023-05-12T15:49:28.452Z"
   },
   {
    "duration": 6,
    "start_time": "2023-05-12T15:49:29.717Z"
   },
   {
    "duration": 3898,
    "start_time": "2023-05-12T15:49:30.252Z"
   },
   {
    "duration": 4,
    "start_time": "2023-05-12T15:49:40.040Z"
   },
   {
    "duration": 3901,
    "start_time": "2023-05-12T15:49:42.253Z"
   },
   {
    "duration": 12,
    "start_time": "2023-05-12T15:54:21.425Z"
   },
   {
    "duration": 4,
    "start_time": "2023-05-12T15:54:24.816Z"
   },
   {
    "duration": 3538,
    "start_time": "2023-05-12T15:54:26.212Z"
   },
   {
    "duration": 4195,
    "start_time": "2023-05-12T15:55:27.156Z"
   },
   {
    "duration": 6,
    "start_time": "2023-05-12T15:55:34.628Z"
   },
   {
    "duration": 11,
    "start_time": "2023-05-12T16:04:18.993Z"
   },
   {
    "duration": 36,
    "start_time": "2023-05-12T16:04:23.521Z"
   },
   {
    "duration": 72,
    "start_time": "2023-05-12T16:04:33.706Z"
   },
   {
    "duration": 21,
    "start_time": "2023-05-12T16:05:25.788Z"
   },
   {
    "duration": 3,
    "start_time": "2023-05-12T16:05:59.088Z"
   },
   {
    "duration": 5,
    "start_time": "2023-05-12T16:05:59.441Z"
   },
   {
    "duration": 3,
    "start_time": "2023-05-12T16:05:59.793Z"
   },
   {
    "duration": 3332,
    "start_time": "2023-05-12T16:06:01.122Z"
   },
   {
    "duration": 76,
    "start_time": "2023-05-12T16:06:06.112Z"
   },
   {
    "duration": 19,
    "start_time": "2023-05-12T16:08:41.056Z"
   },
   {
    "duration": 22,
    "start_time": "2023-05-12T16:08:50.596Z"
   },
   {
    "duration": 27,
    "start_time": "2023-05-12T16:09:04.548Z"
   },
   {
    "duration": 26,
    "start_time": "2023-05-12T16:09:11.880Z"
   },
   {
    "duration": 18,
    "start_time": "2023-05-12T16:10:48.232Z"
   },
   {
    "duration": 20,
    "start_time": "2023-05-12T16:13:51.422Z"
   },
   {
    "duration": 17,
    "start_time": "2023-05-12T16:14:20.252Z"
   },
   {
    "duration": 20,
    "start_time": "2023-05-12T16:14:36.027Z"
   },
   {
    "duration": 1273,
    "start_time": "2023-05-12T16:14:45.056Z"
   },
   {
    "duration": 733,
    "start_time": "2023-05-12T16:14:46.331Z"
   },
   {
    "duration": 58,
    "start_time": "2023-05-12T16:14:47.066Z"
   },
   {
    "duration": 54,
    "start_time": "2023-05-12T16:14:47.126Z"
   },
   {
    "duration": 15,
    "start_time": "2023-05-12T16:14:47.182Z"
   },
   {
    "duration": 61,
    "start_time": "2023-05-12T16:14:47.199Z"
   },
   {
    "duration": 234,
    "start_time": "2023-05-12T16:14:47.262Z"
   },
   {
    "duration": 7,
    "start_time": "2023-05-12T16:14:47.498Z"
   },
   {
    "duration": 6,
    "start_time": "2023-05-12T16:14:47.507Z"
   },
   {
    "duration": 42,
    "start_time": "2023-05-12T16:14:47.515Z"
   },
   {
    "duration": 422,
    "start_time": "2023-05-12T16:14:47.558Z"
   },
   {
    "duration": 11,
    "start_time": "2023-05-12T16:14:47.982Z"
   },
   {
    "duration": 204,
    "start_time": "2023-05-12T16:14:47.994Z"
   },
   {
    "duration": 402,
    "start_time": "2023-05-12T16:14:48.202Z"
   },
   {
    "duration": 258,
    "start_time": "2023-05-12T16:14:48.606Z"
   },
   {
    "duration": 10,
    "start_time": "2023-05-12T16:14:48.866Z"
   },
   {
    "duration": 8,
    "start_time": "2023-05-12T16:14:48.877Z"
   },
   {
    "duration": 163,
    "start_time": "2023-05-12T16:14:48.887Z"
   },
   {
    "duration": 3,
    "start_time": "2023-05-12T16:14:49.052Z"
   },
   {
    "duration": 11,
    "start_time": "2023-05-12T16:14:49.057Z"
   },
   {
    "duration": 7,
    "start_time": "2023-05-12T16:14:49.070Z"
   },
   {
    "duration": 4073,
    "start_time": "2023-05-12T16:14:49.079Z"
   },
   {
    "duration": 40674,
    "start_time": "2023-05-12T16:14:53.154Z"
   },
   {
    "duration": 0,
    "start_time": "2023-05-12T16:15:33.830Z"
   },
   {
    "duration": 44519,
    "start_time": "2023-05-12T16:15:38.983Z"
   },
   {
    "duration": 77833,
    "start_time": "2023-05-12T16:16:26.760Z"
   },
   {
    "duration": 91278,
    "start_time": "2023-05-12T16:17:59.523Z"
   },
   {
    "duration": 6528,
    "start_time": "2023-05-12T16:25:15.981Z"
   },
   {
    "duration": 49,
    "start_time": "2023-05-12T16:25:31.996Z"
   },
   {
    "duration": 22042311,
    "start_time": "2023-05-12T16:25:49.666Z"
   },
   {
    "duration": 53,
    "start_time": "2023-05-13T07:54:42.318Z"
   },
   {
    "duration": 1700,
    "start_time": "2023-05-13T07:55:11.249Z"
   },
   {
    "duration": 3425,
    "start_time": "2023-05-13T07:55:12.951Z"
   },
   {
    "duration": 74,
    "start_time": "2023-05-13T07:55:16.387Z"
   },
   {
    "duration": 63,
    "start_time": "2023-05-13T07:55:16.463Z"
   },
   {
    "duration": 15,
    "start_time": "2023-05-13T07:55:16.528Z"
   },
   {
    "duration": 68,
    "start_time": "2023-05-13T07:55:16.545Z"
   },
   {
    "duration": 253,
    "start_time": "2023-05-13T07:55:16.615Z"
   },
   {
    "duration": 22,
    "start_time": "2023-05-13T07:55:16.870Z"
   },
   {
    "duration": 8,
    "start_time": "2023-05-13T07:55:16.897Z"
   },
   {
    "duration": 32,
    "start_time": "2023-05-13T07:55:16.910Z"
   },
   {
    "duration": 506,
    "start_time": "2023-05-13T07:55:16.944Z"
   },
   {
    "duration": 36,
    "start_time": "2023-05-13T07:55:17.453Z"
   },
   {
    "duration": 362,
    "start_time": "2023-05-13T07:55:17.498Z"
   },
   {
    "duration": 385,
    "start_time": "2023-05-13T07:55:17.862Z"
   },
   {
    "duration": 276,
    "start_time": "2023-05-13T07:55:18.249Z"
   },
   {
    "duration": 11,
    "start_time": "2023-05-13T07:55:18.527Z"
   },
   {
    "duration": 20,
    "start_time": "2023-05-13T07:55:18.540Z"
   },
   {
    "duration": 191,
    "start_time": "2023-05-13T07:55:18.561Z"
   },
   {
    "duration": 4,
    "start_time": "2023-05-13T07:55:18.754Z"
   },
   {
    "duration": 30,
    "start_time": "2023-05-13T07:55:18.759Z"
   },
   {
    "duration": 23,
    "start_time": "2023-05-13T07:55:18.791Z"
   },
   {
    "duration": 11762,
    "start_time": "2023-05-13T07:55:18.818Z"
   },
   {
    "duration": 90137,
    "start_time": "2023-05-13T07:55:30.582Z"
   },
   {
    "duration": 3,
    "start_time": "2023-05-13T07:57:00.721Z"
   },
   {
    "duration": 33,
    "start_time": "2023-05-13T07:57:00.726Z"
   },
   {
    "duration": 1091,
    "start_time": "2023-05-13T07:57:00.761Z"
   },
   {
    "duration": 989,
    "start_time": "2023-05-13T08:00:50.819Z"
   },
   {
    "duration": 1265,
    "start_time": "2023-05-13T08:04:35.130Z"
   },
   {
    "duration": 15,
    "start_time": "2023-05-13T08:06:26.343Z"
   },
   {
    "duration": 35,
    "start_time": "2023-05-13T08:16:48.686Z"
   },
   {
    "duration": 38,
    "start_time": "2023-05-13T08:23:21.250Z"
   },
   {
    "duration": 29,
    "start_time": "2023-05-13T08:24:32.526Z"
   },
   {
    "duration": 27,
    "start_time": "2023-05-13T08:25:51.532Z"
   },
   {
    "duration": 24,
    "start_time": "2023-05-13T08:30:25.552Z"
   },
   {
    "duration": 76,
    "start_time": "2023-05-13T08:30:39.676Z"
   },
   {
    "duration": 44,
    "start_time": "2023-05-13T08:30:45.106Z"
   },
   {
    "duration": 10,
    "start_time": "2023-05-13T08:31:11.657Z"
   },
   {
    "duration": 12,
    "start_time": "2023-05-13T08:31:16.308Z"
   },
   {
    "duration": 17,
    "start_time": "2023-05-13T08:31:19.608Z"
   },
   {
    "duration": 7,
    "start_time": "2023-05-13T08:35:19.710Z"
   },
   {
    "duration": 6,
    "start_time": "2023-05-13T08:46:26.720Z"
   },
   {
    "duration": 9,
    "start_time": "2023-05-13T08:46:31.933Z"
   },
   {
    "duration": 7,
    "start_time": "2023-05-13T08:46:35.294Z"
   },
   {
    "duration": 15,
    "start_time": "2023-05-13T08:47:31.336Z"
   },
   {
    "duration": 9,
    "start_time": "2023-05-13T08:47:45.376Z"
   },
   {
    "duration": 17,
    "start_time": "2023-05-13T08:49:02.029Z"
   },
   {
    "duration": 28,
    "start_time": "2023-05-13T08:49:07.728Z"
   },
   {
    "duration": 39,
    "start_time": "2023-05-13T08:50:34.461Z"
   },
   {
    "duration": 33,
    "start_time": "2023-05-13T08:51:56.489Z"
   },
   {
    "duration": 46,
    "start_time": "2023-05-13T08:53:08.636Z"
   },
   {
    "duration": 29,
    "start_time": "2023-05-13T08:53:13.675Z"
   },
   {
    "duration": 1499,
    "start_time": "2023-05-13T08:53:41.323Z"
   },
   {
    "duration": 730,
    "start_time": "2023-05-13T08:53:42.825Z"
   },
   {
    "duration": 69,
    "start_time": "2023-05-13T08:53:43.557Z"
   },
   {
    "duration": 57,
    "start_time": "2023-05-13T08:53:43.628Z"
   },
   {
    "duration": 15,
    "start_time": "2023-05-13T08:53:43.687Z"
   },
   {
    "duration": 54,
    "start_time": "2023-05-13T08:53:43.704Z"
   },
   {
    "duration": 247,
    "start_time": "2023-05-13T08:53:43.760Z"
   },
   {
    "duration": 8,
    "start_time": "2023-05-13T08:53:44.009Z"
   },
   {
    "duration": 15,
    "start_time": "2023-05-13T08:53:44.018Z"
   },
   {
    "duration": 26,
    "start_time": "2023-05-13T08:53:44.037Z"
   },
   {
    "duration": 466,
    "start_time": "2023-05-13T08:53:44.065Z"
   },
   {
    "duration": 11,
    "start_time": "2023-05-13T08:53:44.533Z"
   },
   {
    "duration": 217,
    "start_time": "2023-05-13T08:53:44.546Z"
   },
   {
    "duration": 398,
    "start_time": "2023-05-13T08:53:44.766Z"
   },
   {
    "duration": 251,
    "start_time": "2023-05-13T08:53:45.166Z"
   },
   {
    "duration": 12,
    "start_time": "2023-05-13T08:53:45.419Z"
   },
   {
    "duration": 11,
    "start_time": "2023-05-13T08:53:45.434Z"
   },
   {
    "duration": 221,
    "start_time": "2023-05-13T08:53:45.447Z"
   },
   {
    "duration": 9,
    "start_time": "2023-05-13T08:53:45.670Z"
   },
   {
    "duration": 11,
    "start_time": "2023-05-13T08:53:45.681Z"
   },
   {
    "duration": 16,
    "start_time": "2023-05-13T08:53:45.694Z"
   },
   {
    "duration": 3966,
    "start_time": "2023-05-13T08:53:45.712Z"
   },
   {
    "duration": 81965,
    "start_time": "2023-05-13T08:53:49.681Z"
   },
   {
    "duration": 3,
    "start_time": "2023-05-13T08:55:11.649Z"
   },
   {
    "duration": 7,
    "start_time": "2023-05-13T08:55:11.655Z"
   },
   {
    "duration": 134,
    "start_time": "2023-05-13T08:55:11.664Z"
   },
   {
    "duration": 0,
    "start_time": "2023-05-13T08:55:11.800Z"
   },
   {
    "duration": 0,
    "start_time": "2023-05-13T08:55:11.801Z"
   },
   {
    "duration": 47,
    "start_time": "2023-05-13T11:49:15.767Z"
   },
   {
    "duration": 39,
    "start_time": "2023-05-13T11:49:24.250Z"
   },
   {
    "duration": 33,
    "start_time": "2023-05-13T11:49:40.116Z"
   },
   {
    "duration": 88,
    "start_time": "2023-05-13T11:49:45.910Z"
   },
   {
    "duration": 62,
    "start_time": "2023-05-13T11:50:22.283Z"
   },
   {
    "duration": 84,
    "start_time": "2023-05-13T11:51:13.057Z"
   },
   {
    "duration": 107,
    "start_time": "2023-05-13T11:51:16.799Z"
   },
   {
    "duration": 94,
    "start_time": "2023-05-13T11:51:36.638Z"
   },
   {
    "duration": 11,
    "start_time": "2023-05-13T11:51:59.546Z"
   },
   {
    "duration": 57,
    "start_time": "2023-05-13T11:52:03.593Z"
   },
   {
    "duration": 106,
    "start_time": "2023-05-13T11:52:13.583Z"
   },
   {
    "duration": 15,
    "start_time": "2023-05-13T11:52:18.793Z"
   },
   {
    "duration": 101,
    "start_time": "2023-05-13T11:53:08.144Z"
   },
   {
    "duration": 77,
    "start_time": "2023-05-13T11:54:09.431Z"
   },
   {
    "duration": 79,
    "start_time": "2023-05-13T11:54:58.903Z"
   },
   {
    "duration": 141,
    "start_time": "2023-05-13T11:55:03.298Z"
   },
   {
    "duration": 74,
    "start_time": "2023-05-13T11:56:23.687Z"
   },
   {
    "duration": 43,
    "start_time": "2023-05-13T11:57:21.536Z"
   },
   {
    "duration": 43,
    "start_time": "2023-05-13T12:05:08.742Z"
   },
   {
    "duration": 29,
    "start_time": "2023-05-13T12:05:24.611Z"
   },
   {
    "duration": 14,
    "start_time": "2023-05-13T12:05:32.859Z"
   },
   {
    "duration": 599,
    "start_time": "2023-05-13T12:05:40.340Z"
   },
   {
    "duration": 623,
    "start_time": "2023-05-13T12:06:15.459Z"
   },
   {
    "duration": 504,
    "start_time": "2023-05-13T12:06:25.101Z"
   },
   {
    "duration": 586,
    "start_time": "2023-05-13T12:06:48.529Z"
   },
   {
    "duration": 534,
    "start_time": "2023-05-13T12:07:26.925Z"
   },
   {
    "duration": 502,
    "start_time": "2023-05-13T12:08:12.706Z"
   },
   {
    "duration": 441,
    "start_time": "2023-05-13T12:08:38.620Z"
   },
   {
    "duration": 4,
    "start_time": "2023-05-13T12:10:30.160Z"
   },
   {
    "duration": 97,
    "start_time": "2023-05-13T12:10:40.270Z"
   },
   {
    "duration": 1767,
    "start_time": "2023-05-13T12:11:30.368Z"
   },
   {
    "duration": 1022,
    "start_time": "2023-05-13T12:11:32.141Z"
   },
   {
    "duration": 90,
    "start_time": "2023-05-13T12:11:33.165Z"
   },
   {
    "duration": 75,
    "start_time": "2023-05-13T12:11:33.257Z"
   },
   {
    "duration": 26,
    "start_time": "2023-05-13T12:11:33.335Z"
   },
   {
    "duration": 66,
    "start_time": "2023-05-13T12:11:33.363Z"
   },
   {
    "duration": 265,
    "start_time": "2023-05-13T12:11:33.431Z"
   },
   {
    "duration": 9,
    "start_time": "2023-05-13T12:11:33.698Z"
   },
   {
    "duration": 14,
    "start_time": "2023-05-13T12:11:33.709Z"
   },
   {
    "duration": 25,
    "start_time": "2023-05-13T12:11:33.725Z"
   },
   {
    "duration": 632,
    "start_time": "2023-05-13T12:11:33.752Z"
   },
   {
    "duration": 19,
    "start_time": "2023-05-13T12:11:34.389Z"
   },
   {
    "duration": 238,
    "start_time": "2023-05-13T12:11:34.413Z"
   },
   {
    "duration": 527,
    "start_time": "2023-05-13T12:11:34.655Z"
   },
   {
    "duration": 348,
    "start_time": "2023-05-13T12:11:35.188Z"
   },
   {
    "duration": 28,
    "start_time": "2023-05-13T12:11:35.538Z"
   },
   {
    "duration": 31,
    "start_time": "2023-05-13T12:11:35.568Z"
   },
   {
    "duration": 255,
    "start_time": "2023-05-13T12:11:35.601Z"
   },
   {
    "duration": 4,
    "start_time": "2023-05-13T12:11:35.857Z"
   },
   {
    "duration": 29,
    "start_time": "2023-05-13T12:11:35.863Z"
   },
   {
    "duration": 8,
    "start_time": "2023-05-13T12:11:35.898Z"
   },
   {
    "duration": 7750,
    "start_time": "2023-05-13T12:11:35.911Z"
   },
   {
    "duration": 64638,
    "start_time": "2023-05-13T12:11:43.663Z"
   },
   {
    "duration": 23,
    "start_time": "2023-05-13T12:12:48.306Z"
   },
   {
    "duration": 7,
    "start_time": "2023-05-13T12:12:48.338Z"
   },
   {
    "duration": 564,
    "start_time": "2023-05-13T12:12:48.353Z"
   },
   {
    "duration": 75,
    "start_time": "2023-05-13T12:12:49.014Z"
   },
   {
    "duration": 160,
    "start_time": "2023-05-13T12:15:23.302Z"
   },
   {
    "duration": 17,
    "start_time": "2023-05-13T12:15:37.073Z"
   },
   {
    "duration": 107978,
    "start_time": "2023-05-13T12:15:42.731Z"
   },
   {
    "duration": 15201,
    "start_time": "2023-05-13T12:17:51.301Z"
   },
   {
    "duration": 20992,
    "start_time": "2023-05-13T12:18:22.203Z"
   },
   {
    "duration": 15,
    "start_time": "2023-05-13T12:18:55.801Z"
   },
   {
    "duration": 434,
    "start_time": "2023-05-13T12:18:59.345Z"
   },
   {
    "duration": 91,
    "start_time": "2023-05-13T12:19:01.468Z"
   },
   {
    "duration": 9,
    "start_time": "2023-05-13T12:19:02.521Z"
   },
   {
    "duration": 16,
    "start_time": "2023-05-13T12:19:17.433Z"
   },
   {
    "duration": 1379,
    "start_time": "2023-05-13T12:20:38.669Z"
   },
   {
    "duration": 55,
    "start_time": "2023-05-13T12:20:47.890Z"
   },
   {
    "duration": 1291,
    "start_time": "2023-05-13T12:24:49.786Z"
   },
   {
    "duration": 16,
    "start_time": "2023-05-13T12:25:17.810Z"
   },
   {
    "duration": 12,
    "start_time": "2023-05-13T12:25:33.825Z"
   },
   {
    "duration": 9,
    "start_time": "2023-05-13T12:25:49.278Z"
   },
   {
    "duration": 8,
    "start_time": "2023-05-13T12:25:57.911Z"
   },
   {
    "duration": 1418,
    "start_time": "2023-05-13T12:26:18.042Z"
   },
   {
    "duration": 10,
    "start_time": "2023-05-13T12:26:30.605Z"
   },
   {
    "duration": 11,
    "start_time": "2023-05-13T12:27:11.232Z"
   },
   {
    "duration": 28,
    "start_time": "2023-05-13T12:27:30.432Z"
   },
   {
    "duration": 29,
    "start_time": "2023-05-13T12:27:51.404Z"
   },
   {
    "duration": 27,
    "start_time": "2023-05-13T12:27:59.108Z"
   },
   {
    "duration": 43,
    "start_time": "2023-05-13T12:28:37.576Z"
   },
   {
    "duration": 16,
    "start_time": "2023-05-13T12:29:31.636Z"
   },
   {
    "duration": 30,
    "start_time": "2023-05-13T12:31:24.412Z"
   },
   {
    "duration": 41,
    "start_time": "2023-05-13T12:31:36.560Z"
   },
   {
    "duration": 28,
    "start_time": "2023-05-13T12:32:34.312Z"
   },
   {
    "duration": 317,
    "start_time": "2023-05-13T12:33:14.296Z"
   },
   {
    "duration": 378,
    "start_time": "2023-05-13T12:33:27.024Z"
   },
   {
    "duration": 334,
    "start_time": "2023-05-13T12:33:29.635Z"
   },
   {
    "duration": 329,
    "start_time": "2023-05-13T12:33:37.044Z"
   },
   {
    "duration": 341,
    "start_time": "2023-05-13T12:34:03.656Z"
   },
   {
    "duration": 24,
    "start_time": "2023-05-13T12:34:19.007Z"
   },
   {
    "duration": 23,
    "start_time": "2023-05-13T12:34:23.610Z"
   },
   {
    "duration": 25,
    "start_time": "2023-05-13T12:38:40.654Z"
   },
   {
    "duration": 34,
    "start_time": "2023-05-13T12:38:44.435Z"
   },
   {
    "duration": 33,
    "start_time": "2023-05-13T12:39:05.110Z"
   },
   {
    "duration": 33,
    "start_time": "2023-05-13T12:39:17.322Z"
   },
   {
    "duration": 393,
    "start_time": "2023-05-13T12:42:16.423Z"
   },
   {
    "duration": 43,
    "start_time": "2023-05-13T12:56:58.613Z"
   },
   {
    "duration": 15,
    "start_time": "2023-05-13T13:06:42.850Z"
   },
   {
    "duration": 1579,
    "start_time": "2023-05-13T13:06:52.526Z"
   },
   {
    "duration": 1004,
    "start_time": "2023-05-13T13:06:54.116Z"
   },
   {
    "duration": 130,
    "start_time": "2023-05-13T13:06:55.122Z"
   },
   {
    "duration": 67,
    "start_time": "2023-05-13T13:06:55.254Z"
   },
   {
    "duration": 21,
    "start_time": "2023-05-13T13:06:55.324Z"
   },
   {
    "duration": 62,
    "start_time": "2023-05-13T13:06:55.352Z"
   },
   {
    "duration": 276,
    "start_time": "2023-05-13T13:06:55.418Z"
   },
   {
    "duration": 11,
    "start_time": "2023-05-13T13:06:55.696Z"
   },
   {
    "duration": 27,
    "start_time": "2023-05-13T13:06:55.709Z"
   },
   {
    "duration": 20,
    "start_time": "2023-05-13T13:06:55.738Z"
   },
   {
    "duration": 584,
    "start_time": "2023-05-13T13:06:55.761Z"
   },
   {
    "duration": 17,
    "start_time": "2023-05-13T13:06:56.347Z"
   },
   {
    "duration": 370,
    "start_time": "2023-05-13T13:06:56.366Z"
   },
   {
    "duration": 454,
    "start_time": "2023-05-13T13:06:56.741Z"
   },
   {
    "duration": 303,
    "start_time": "2023-05-13T13:06:57.199Z"
   },
   {
    "duration": 15,
    "start_time": "2023-05-13T13:06:57.504Z"
   },
   {
    "duration": 31,
    "start_time": "2023-05-13T13:06:57.522Z"
   },
   {
    "duration": 231,
    "start_time": "2023-05-13T13:06:57.555Z"
   },
   {
    "duration": 3,
    "start_time": "2023-05-13T13:06:57.788Z"
   },
   {
    "duration": 42,
    "start_time": "2023-05-13T13:06:57.794Z"
   },
   {
    "duration": 13,
    "start_time": "2023-05-13T13:06:57.846Z"
   },
   {
    "duration": 9139,
    "start_time": "2023-05-13T13:06:57.865Z"
   },
   {
    "duration": 60702,
    "start_time": "2023-05-13T13:07:07.011Z"
   },
   {
    "duration": 8,
    "start_time": "2023-05-13T13:08:07.726Z"
   },
   {
    "duration": 20781,
    "start_time": "2023-05-13T13:08:07.735Z"
   },
   {
    "duration": 399,
    "start_time": "2023-05-13T13:08:28.522Z"
   },
   {
    "duration": 0,
    "start_time": "2023-05-13T13:08:29.077Z"
   },
   {
    "duration": 68,
    "start_time": "2023-05-13T13:08:32.953Z"
   },
   {
    "duration": 413,
    "start_time": "2023-05-13T13:13:34.722Z"
   },
   {
    "duration": 513,
    "start_time": "2023-05-13T13:13:56.911Z"
   },
   {
    "duration": 462,
    "start_time": "2023-05-13T13:14:03.498Z"
   },
   {
    "duration": 42,
    "start_time": "2023-05-13T13:17:37.580Z"
   },
   {
    "duration": 120,
    "start_time": "2023-05-13T13:18:40.670Z"
   },
   {
    "duration": 26,
    "start_time": "2023-05-13T13:20:37.018Z"
   },
   {
    "duration": 37,
    "start_time": "2023-05-13T13:24:19.188Z"
   },
   {
    "duration": 31,
    "start_time": "2023-05-13T13:24:29.071Z"
   },
   {
    "duration": 38,
    "start_time": "2023-05-13T13:47:19.210Z"
   },
   {
    "duration": 41,
    "start_time": "2023-05-13T13:47:42.761Z"
   },
   {
    "duration": 44,
    "start_time": "2023-05-13T13:50:00.505Z"
   },
   {
    "duration": 1811,
    "start_time": "2023-05-13T13:57:36.881Z"
   },
   {
    "duration": 1060,
    "start_time": "2023-05-13T13:57:38.696Z"
   },
   {
    "duration": 95,
    "start_time": "2023-05-13T13:57:39.758Z"
   },
   {
    "duration": 71,
    "start_time": "2023-05-13T13:57:39.856Z"
   },
   {
    "duration": 53,
    "start_time": "2023-05-13T13:57:39.928Z"
   },
   {
    "duration": 51,
    "start_time": "2023-05-13T13:57:39.984Z"
   },
   {
    "duration": 329,
    "start_time": "2023-05-13T13:57:40.037Z"
   },
   {
    "duration": 13,
    "start_time": "2023-05-13T13:57:40.377Z"
   },
   {
    "duration": 12,
    "start_time": "2023-05-13T13:57:40.395Z"
   },
   {
    "duration": 23,
    "start_time": "2023-05-13T13:57:40.413Z"
   },
   {
    "duration": 568,
    "start_time": "2023-05-13T13:57:40.438Z"
   },
   {
    "duration": 13,
    "start_time": "2023-05-13T13:57:41.008Z"
   },
   {
    "duration": 302,
    "start_time": "2023-05-13T13:57:41.023Z"
   },
   {
    "duration": 568,
    "start_time": "2023-05-13T13:57:41.328Z"
   },
   {
    "duration": 343,
    "start_time": "2023-05-13T13:57:41.901Z"
   },
   {
    "duration": 15,
    "start_time": "2023-05-13T13:57:42.246Z"
   },
   {
    "duration": 27,
    "start_time": "2023-05-13T13:57:42.263Z"
   },
   {
    "duration": 228,
    "start_time": "2023-05-13T13:57:42.298Z"
   },
   {
    "duration": 7,
    "start_time": "2023-05-13T13:57:42.529Z"
   },
   {
    "duration": 12,
    "start_time": "2023-05-13T13:57:42.542Z"
   },
   {
    "duration": 11,
    "start_time": "2023-05-13T13:57:42.556Z"
   },
   {
    "duration": 5279,
    "start_time": "2023-05-13T13:57:42.570Z"
   },
   {
    "duration": 57154,
    "start_time": "2023-05-13T13:57:47.852Z"
   },
   {
    "duration": 3,
    "start_time": "2023-05-13T13:58:45.008Z"
   },
   {
    "duration": 18508,
    "start_time": "2023-05-13T13:58:45.013Z"
   },
   {
    "duration": 161,
    "start_time": "2023-05-13T13:59:03.524Z"
   },
   {
    "duration": 0,
    "start_time": "2023-05-13T13:59:03.690Z"
   },
   {
    "duration": 12,
    "start_time": "2023-05-13T14:00:38.703Z"
   },
   {
    "duration": 18,
    "start_time": "2023-05-13T14:01:14.945Z"
   },
   {
    "duration": 30,
    "start_time": "2023-05-13T14:02:06.095Z"
   },
   {
    "duration": 56,
    "start_time": "2023-05-13T14:02:26.196Z"
   },
   {
    "duration": 1454,
    "start_time": "2023-05-13T14:02:36.498Z"
   },
   {
    "duration": 1778,
    "start_time": "2023-05-13T14:02:37.955Z"
   },
   {
    "duration": 190,
    "start_time": "2023-05-13T14:02:39.735Z"
   },
   {
    "duration": 155,
    "start_time": "2023-05-13T14:02:39.927Z"
   },
   {
    "duration": 43,
    "start_time": "2023-05-13T14:02:40.087Z"
   },
   {
    "duration": 165,
    "start_time": "2023-05-13T14:02:40.132Z"
   },
   {
    "duration": 331,
    "start_time": "2023-05-13T14:02:40.300Z"
   },
   {
    "duration": 10,
    "start_time": "2023-05-13T14:02:40.633Z"
   },
   {
    "duration": 9,
    "start_time": "2023-05-13T14:02:40.646Z"
   },
   {
    "duration": 28,
    "start_time": "2023-05-13T14:02:40.678Z"
   },
   {
    "duration": 520,
    "start_time": "2023-05-13T14:02:40.709Z"
   },
   {
    "duration": 16,
    "start_time": "2023-05-13T14:02:41.231Z"
   },
   {
    "duration": 251,
    "start_time": "2023-05-13T14:02:41.250Z"
   },
   {
    "duration": 474,
    "start_time": "2023-05-13T14:02:41.506Z"
   },
   {
    "duration": 309,
    "start_time": "2023-05-13T14:02:41.986Z"
   },
   {
    "duration": 14,
    "start_time": "2023-05-13T14:02:42.299Z"
   },
   {
    "duration": 22,
    "start_time": "2023-05-13T14:02:42.316Z"
   },
   {
    "duration": 189,
    "start_time": "2023-05-13T14:02:42.340Z"
   },
   {
    "duration": 4,
    "start_time": "2023-05-13T14:02:42.531Z"
   },
   {
    "duration": 31,
    "start_time": "2023-05-13T14:02:42.536Z"
   },
   {
    "duration": 35,
    "start_time": "2023-05-13T14:02:42.568Z"
   },
   {
    "duration": 5585,
    "start_time": "2023-05-13T14:02:42.605Z"
   },
   {
    "duration": 53842,
    "start_time": "2023-05-13T14:02:48.199Z"
   },
   {
    "duration": 3,
    "start_time": "2023-05-13T14:03:42.043Z"
   },
   {
    "duration": 17881,
    "start_time": "2023-05-13T14:03:42.048Z"
   },
   {
    "duration": 15,
    "start_time": "2023-05-13T14:03:59.931Z"
   },
   {
    "duration": 187,
    "start_time": "2023-05-13T14:03:59.947Z"
   },
   {
    "duration": 41,
    "start_time": "2023-05-13T14:04:40.300Z"
   },
   {
    "duration": 26,
    "start_time": "2023-05-13T14:04:57.400Z"
   },
   {
    "duration": 1379,
    "start_time": "2023-05-13T14:05:02.773Z"
   },
   {
    "duration": 757,
    "start_time": "2023-05-13T14:05:04.154Z"
   },
   {
    "duration": 80,
    "start_time": "2023-05-13T14:05:04.912Z"
   },
   {
    "duration": 46,
    "start_time": "2023-05-13T14:05:04.994Z"
   },
   {
    "duration": 50,
    "start_time": "2023-05-13T14:05:05.042Z"
   },
   {
    "duration": 60,
    "start_time": "2023-05-13T14:05:05.099Z"
   },
   {
    "duration": 254,
    "start_time": "2023-05-13T14:05:05.161Z"
   },
   {
    "duration": 8,
    "start_time": "2023-05-13T14:05:05.416Z"
   },
   {
    "duration": 24,
    "start_time": "2023-05-13T14:05:05.426Z"
   },
   {
    "duration": 27,
    "start_time": "2023-05-13T14:05:05.454Z"
   },
   {
    "duration": 555,
    "start_time": "2023-05-13T14:05:05.484Z"
   },
   {
    "duration": 11,
    "start_time": "2023-05-13T14:05:06.041Z"
   },
   {
    "duration": 217,
    "start_time": "2023-05-13T14:05:06.054Z"
   },
   {
    "duration": 386,
    "start_time": "2023-05-13T14:05:06.277Z"
   },
   {
    "duration": 245,
    "start_time": "2023-05-13T14:05:06.664Z"
   },
   {
    "duration": 11,
    "start_time": "2023-05-13T14:05:06.911Z"
   },
   {
    "duration": 13,
    "start_time": "2023-05-13T14:05:06.923Z"
   },
   {
    "duration": 165,
    "start_time": "2023-05-13T14:05:06.937Z"
   },
   {
    "duration": 3,
    "start_time": "2023-05-13T14:05:07.104Z"
   },
   {
    "duration": 25,
    "start_time": "2023-05-13T14:05:07.109Z"
   },
   {
    "duration": 14,
    "start_time": "2023-05-13T14:05:07.136Z"
   },
   {
    "duration": 4137,
    "start_time": "2023-05-13T14:05:07.152Z"
   },
   {
    "duration": 54615,
    "start_time": "2023-05-13T14:05:11.291Z"
   },
   {
    "duration": 3,
    "start_time": "2023-05-13T14:06:05.908Z"
   },
   {
    "duration": 15529,
    "start_time": "2023-05-13T14:06:05.912Z"
   },
   {
    "duration": 12,
    "start_time": "2023-05-13T14:06:21.443Z"
   },
   {
    "duration": 99,
    "start_time": "2023-05-13T14:06:21.457Z"
   },
   {
    "duration": 10,
    "start_time": "2023-05-13T14:06:21.559Z"
   },
   {
    "duration": 5,
    "start_time": "2023-05-13T14:06:29.862Z"
   },
   {
    "duration": 7,
    "start_time": "2023-05-13T14:06:38.863Z"
   },
   {
    "duration": 817,
    "start_time": "2023-05-13T14:07:53.924Z"
   },
   {
    "duration": 14,
    "start_time": "2023-05-13T14:07:59.415Z"
   },
   {
    "duration": 19,
    "start_time": "2023-05-13T14:08:05.308Z"
   },
   {
    "duration": 8,
    "start_time": "2023-05-13T14:08:16.066Z"
   },
   {
    "duration": 9,
    "start_time": "2023-05-13T14:08:36.525Z"
   },
   {
    "duration": 2251,
    "start_time": "2023-05-13T14:10:25.238Z"
   },
   {
    "duration": 1662,
    "start_time": "2023-05-13T14:10:27.492Z"
   },
   {
    "duration": 86,
    "start_time": "2023-05-13T14:10:29.156Z"
   },
   {
    "duration": 64,
    "start_time": "2023-05-13T14:10:29.243Z"
   },
   {
    "duration": 31,
    "start_time": "2023-05-13T14:10:29.311Z"
   },
   {
    "duration": 79,
    "start_time": "2023-05-13T14:10:29.344Z"
   },
   {
    "duration": 269,
    "start_time": "2023-05-13T14:10:29.426Z"
   },
   {
    "duration": 10,
    "start_time": "2023-05-13T14:10:29.698Z"
   },
   {
    "duration": 10,
    "start_time": "2023-05-13T14:10:29.711Z"
   },
   {
    "duration": 23,
    "start_time": "2023-05-13T14:10:29.724Z"
   },
   {
    "duration": 631,
    "start_time": "2023-05-13T14:10:29.749Z"
   },
   {
    "duration": 18,
    "start_time": "2023-05-13T14:10:30.382Z"
   },
   {
    "duration": 243,
    "start_time": "2023-05-13T14:10:30.405Z"
   },
   {
    "duration": 456,
    "start_time": "2023-05-13T14:10:30.653Z"
   },
   {
    "duration": 293,
    "start_time": "2023-05-13T14:10:31.111Z"
   },
   {
    "duration": 15,
    "start_time": "2023-05-13T14:10:31.406Z"
   },
   {
    "duration": 49,
    "start_time": "2023-05-13T14:10:31.423Z"
   },
   {
    "duration": 239,
    "start_time": "2023-05-13T14:10:31.475Z"
   },
   {
    "duration": 5,
    "start_time": "2023-05-13T14:10:31.716Z"
   },
   {
    "duration": 23,
    "start_time": "2023-05-13T14:10:31.724Z"
   },
   {
    "duration": 24,
    "start_time": "2023-05-13T14:10:31.750Z"
   },
   {
    "duration": 4040,
    "start_time": "2023-05-13T14:10:31.781Z"
   },
   {
    "duration": 55562,
    "start_time": "2023-05-13T14:10:35.824Z"
   },
   {
    "duration": 2,
    "start_time": "2023-05-13T14:11:31.393Z"
   },
   {
    "duration": 18304,
    "start_time": "2023-05-13T14:11:31.396Z"
   },
   {
    "duration": 13,
    "start_time": "2023-05-13T14:11:49.702Z"
   },
   {
    "duration": 187,
    "start_time": "2023-05-13T14:11:49.717Z"
   },
   {
    "duration": 1398,
    "start_time": "2023-05-13T14:14:20.154Z"
   },
   {
    "duration": 788,
    "start_time": "2023-05-13T14:14:21.554Z"
   },
   {
    "duration": 77,
    "start_time": "2023-05-13T14:14:22.343Z"
   },
   {
    "duration": 58,
    "start_time": "2023-05-13T14:14:22.423Z"
   },
   {
    "duration": 17,
    "start_time": "2023-05-13T14:14:22.487Z"
   },
   {
    "duration": 45,
    "start_time": "2023-05-13T14:14:22.506Z"
   },
   {
    "duration": 250,
    "start_time": "2023-05-13T14:14:22.553Z"
   },
   {
    "duration": 9,
    "start_time": "2023-05-13T14:14:22.804Z"
   },
   {
    "duration": 8,
    "start_time": "2023-05-13T14:14:22.814Z"
   },
   {
    "duration": 16,
    "start_time": "2023-05-13T14:14:22.825Z"
   },
   {
    "duration": 474,
    "start_time": "2023-05-13T14:14:22.843Z"
   },
   {
    "duration": 12,
    "start_time": "2023-05-13T14:14:23.319Z"
   },
   {
    "duration": 234,
    "start_time": "2023-05-13T14:14:23.333Z"
   },
   {
    "duration": 416,
    "start_time": "2023-05-13T14:14:23.569Z"
   },
   {
    "duration": 252,
    "start_time": "2023-05-13T14:14:23.991Z"
   },
   {
    "duration": 12,
    "start_time": "2023-05-13T14:14:24.244Z"
   },
   {
    "duration": 31,
    "start_time": "2023-05-13T14:14:24.258Z"
   },
   {
    "duration": 193,
    "start_time": "2023-05-13T14:14:24.291Z"
   },
   {
    "duration": 5,
    "start_time": "2023-05-13T14:14:24.490Z"
   },
   {
    "duration": 19,
    "start_time": "2023-05-13T14:14:24.497Z"
   },
   {
    "duration": 14,
    "start_time": "2023-05-13T14:14:24.517Z"
   },
   {
    "duration": 4946,
    "start_time": "2023-05-13T14:14:24.533Z"
   },
   {
    "duration": 54822,
    "start_time": "2023-05-13T14:14:29.481Z"
   },
   {
    "duration": 3,
    "start_time": "2023-05-13T14:15:24.305Z"
   },
   {
    "duration": 17987,
    "start_time": "2023-05-13T14:15:24.309Z"
   },
   {
    "duration": 0,
    "start_time": "2023-05-13T14:15:42.420Z"
   },
   {
    "duration": 0,
    "start_time": "2023-05-13T14:15:42.422Z"
   },
   {
    "duration": 31,
    "start_time": "2023-05-13T14:15:56.366Z"
   },
   {
    "duration": 28,
    "start_time": "2023-05-13T14:16:13.466Z"
   },
   {
    "duration": 28,
    "start_time": "2023-05-13T14:16:36.372Z"
   },
   {
    "duration": 814,
    "start_time": "2023-05-13T14:17:44.009Z"
   },
   {
    "duration": 855,
    "start_time": "2023-05-13T14:17:55.294Z"
   },
   {
    "duration": 641,
    "start_time": "2023-05-13T14:18:32.373Z"
   },
   {
    "duration": 24,
    "start_time": "2023-05-13T14:19:12.121Z"
   },
   {
    "duration": 24,
    "start_time": "2023-05-13T14:20:06.039Z"
   },
   {
    "duration": 38,
    "start_time": "2023-05-13T14:20:18.363Z"
   },
   {
    "duration": 75,
    "start_time": "2023-05-13T14:23:35.256Z"
   },
   {
    "duration": 128,
    "start_time": "2023-05-13T14:26:28.062Z"
   },
   {
    "duration": 73,
    "start_time": "2023-05-13T14:26:49.696Z"
   },
   {
    "duration": 20,
    "start_time": "2023-05-13T14:26:56.596Z"
   },
   {
    "duration": 1466,
    "start_time": "2023-05-13T14:27:31.957Z"
   },
   {
    "duration": 1486,
    "start_time": "2023-05-13T14:27:33.426Z"
   },
   {
    "duration": 198,
    "start_time": "2023-05-13T14:27:34.914Z"
   },
   {
    "duration": 167,
    "start_time": "2023-05-13T14:27:35.115Z"
   },
   {
    "duration": 30,
    "start_time": "2023-05-13T14:27:35.289Z"
   },
   {
    "duration": 101,
    "start_time": "2023-05-13T14:27:35.321Z"
   },
   {
    "duration": 80,
    "start_time": "2023-05-13T14:27:35.424Z"
   },
   {
    "duration": 539,
    "start_time": "2023-05-13T14:27:35.507Z"
   },
   {
    "duration": 7,
    "start_time": "2023-05-13T14:27:36.048Z"
   },
   {
    "duration": 33,
    "start_time": "2023-05-13T14:27:36.057Z"
   },
   {
    "duration": 17,
    "start_time": "2023-05-13T14:27:36.091Z"
   },
   {
    "duration": 460,
    "start_time": "2023-05-13T14:27:36.110Z"
   },
   {
    "duration": 26,
    "start_time": "2023-05-13T14:27:36.572Z"
   },
   {
    "duration": 232,
    "start_time": "2023-05-13T14:27:36.601Z"
   },
   {
    "duration": 494,
    "start_time": "2023-05-13T14:27:36.837Z"
   },
   {
    "duration": 293,
    "start_time": "2023-05-13T14:27:37.333Z"
   },
   {
    "duration": 15,
    "start_time": "2023-05-13T14:27:37.628Z"
   },
   {
    "duration": 23,
    "start_time": "2023-05-13T14:27:37.645Z"
   },
   {
    "duration": 210,
    "start_time": "2023-05-13T14:27:37.680Z"
   },
   {
    "duration": 6,
    "start_time": "2023-05-13T14:27:37.893Z"
   },
   {
    "duration": 17,
    "start_time": "2023-05-13T14:27:37.901Z"
   },
   {
    "duration": 7,
    "start_time": "2023-05-13T14:27:37.921Z"
   },
   {
    "duration": 4450,
    "start_time": "2023-05-13T14:27:37.931Z"
   },
   {
    "duration": 57057,
    "start_time": "2023-05-13T14:27:42.394Z"
   },
   {
    "duration": 5,
    "start_time": "2023-05-13T14:28:39.453Z"
   },
   {
    "duration": 20154,
    "start_time": "2023-05-13T14:28:39.461Z"
   },
   {
    "duration": 55,
    "start_time": "2023-05-13T14:28:59.617Z"
   },
   {
    "duration": 0,
    "start_time": "2023-05-13T14:28:59.674Z"
   },
   {
    "duration": 1499,
    "start_time": "2023-05-13T14:29:34.953Z"
   },
   {
    "duration": 847,
    "start_time": "2023-05-13T14:29:36.456Z"
   },
   {
    "duration": 124,
    "start_time": "2023-05-13T14:29:37.305Z"
   },
   {
    "duration": 70,
    "start_time": "2023-05-13T14:29:37.431Z"
   },
   {
    "duration": 29,
    "start_time": "2023-05-13T14:29:37.509Z"
   },
   {
    "duration": 64,
    "start_time": "2023-05-13T14:29:37.540Z"
   },
   {
    "duration": 30,
    "start_time": "2023-05-13T14:29:37.607Z"
   },
   {
    "duration": 286,
    "start_time": "2023-05-13T14:29:37.642Z"
   },
   {
    "duration": 10,
    "start_time": "2023-05-13T14:29:37.930Z"
   },
   {
    "duration": 9,
    "start_time": "2023-05-13T14:29:37.942Z"
   },
   {
    "duration": 40,
    "start_time": "2023-05-13T14:29:37.954Z"
   },
   {
    "duration": 515,
    "start_time": "2023-05-13T14:29:37.996Z"
   },
   {
    "duration": 17,
    "start_time": "2023-05-13T14:29:38.512Z"
   },
   {
    "duration": 274,
    "start_time": "2023-05-13T14:29:38.532Z"
   },
   {
    "duration": 422,
    "start_time": "2023-05-13T14:29:38.809Z"
   },
   {
    "duration": 295,
    "start_time": "2023-05-13T14:29:39.233Z"
   },
   {
    "duration": 18,
    "start_time": "2023-05-13T14:29:39.530Z"
   },
   {
    "duration": 41,
    "start_time": "2023-05-13T14:29:39.549Z"
   },
   {
    "duration": 171,
    "start_time": "2023-05-13T14:29:39.598Z"
   },
   {
    "duration": 10,
    "start_time": "2023-05-13T14:29:39.771Z"
   },
   {
    "duration": 21,
    "start_time": "2023-05-13T14:29:39.782Z"
   },
   {
    "duration": 7,
    "start_time": "2023-05-13T14:29:39.807Z"
   },
   {
    "duration": 75,
    "start_time": "2023-05-13T14:29:39.816Z"
   },
   {
    "duration": 1268,
    "start_time": "2023-05-13T14:29:39.893Z"
   },
   {
    "duration": 23,
    "start_time": "2023-05-13T14:29:41.163Z"
   },
   {
    "duration": 108,
    "start_time": "2023-05-13T14:29:41.188Z"
   },
   {
    "duration": 59,
    "start_time": "2023-05-13T14:29:41.297Z"
   },
   {
    "duration": 0,
    "start_time": "2023-05-13T14:29:41.359Z"
   },
   {
    "duration": 39,
    "start_time": "2023-05-13T14:30:41.058Z"
   },
   {
    "duration": 1516,
    "start_time": "2023-05-13T14:30:46.348Z"
   },
   {
    "duration": 1342,
    "start_time": "2023-05-13T14:30:47.866Z"
   },
   {
    "duration": 200,
    "start_time": "2023-05-13T14:30:49.209Z"
   },
   {
    "duration": 166,
    "start_time": "2023-05-13T14:30:49.412Z"
   },
   {
    "duration": 29,
    "start_time": "2023-05-13T14:30:49.583Z"
   },
   {
    "duration": 80,
    "start_time": "2023-05-13T14:30:49.615Z"
   },
   {
    "duration": 18,
    "start_time": "2023-05-13T14:30:49.702Z"
   },
   {
    "duration": 662,
    "start_time": "2023-05-13T14:30:49.723Z"
   },
   {
    "duration": 10,
    "start_time": "2023-05-13T14:30:50.387Z"
   },
   {
    "duration": 10,
    "start_time": "2023-05-13T14:30:50.400Z"
   },
   {
    "duration": 77,
    "start_time": "2023-05-13T14:30:50.412Z"
   },
   {
    "duration": 618,
    "start_time": "2023-05-13T14:30:50.491Z"
   },
   {
    "duration": 13,
    "start_time": "2023-05-13T14:30:51.111Z"
   },
   {
    "duration": 269,
    "start_time": "2023-05-13T14:30:51.126Z"
   },
   {
    "duration": 426,
    "start_time": "2023-05-13T14:30:51.396Z"
   },
   {
    "duration": 361,
    "start_time": "2023-05-13T14:30:51.823Z"
   },
   {
    "duration": 17,
    "start_time": "2023-05-13T14:30:52.185Z"
   },
   {
    "duration": 9,
    "start_time": "2023-05-13T14:30:52.204Z"
   },
   {
    "duration": 478,
    "start_time": "2023-05-13T14:30:52.215Z"
   },
   {
    "duration": 5,
    "start_time": "2023-05-13T14:30:52.695Z"
   },
   {
    "duration": 35,
    "start_time": "2023-05-13T14:30:52.703Z"
   },
   {
    "duration": 63,
    "start_time": "2023-05-13T14:30:52.740Z"
   },
   {
    "duration": 5999,
    "start_time": "2023-05-13T14:30:52.805Z"
   },
   {
    "duration": 66333,
    "start_time": "2023-05-13T14:30:58.808Z"
   },
   {
    "duration": 5,
    "start_time": "2023-05-13T14:32:05.143Z"
   },
   {
    "duration": 24055,
    "start_time": "2023-05-13T14:32:05.150Z"
   },
   {
    "duration": 283,
    "start_time": "2023-05-13T14:32:29.207Z"
   },
   {
    "duration": 0,
    "start_time": "2023-05-13T14:32:29.494Z"
   },
   {
    "duration": 2641,
    "start_time": "2023-05-13T14:32:44.748Z"
   },
   {
    "duration": 2128,
    "start_time": "2023-05-13T14:32:47.391Z"
   },
   {
    "duration": 177,
    "start_time": "2023-05-13T14:32:49.524Z"
   },
   {
    "duration": 43,
    "start_time": "2023-05-13T14:32:49.703Z"
   },
   {
    "duration": 24,
    "start_time": "2023-05-13T14:32:49.779Z"
   },
   {
    "duration": 28,
    "start_time": "2023-05-13T14:32:49.805Z"
   },
   {
    "duration": 276,
    "start_time": "2023-05-13T14:32:49.836Z"
   },
   {
    "duration": 8,
    "start_time": "2023-05-13T14:32:50.114Z"
   },
   {
    "duration": 6,
    "start_time": "2023-05-13T14:32:50.124Z"
   },
   {
    "duration": 21,
    "start_time": "2023-05-13T14:32:50.131Z"
   },
   {
    "duration": 535,
    "start_time": "2023-05-13T14:32:50.154Z"
   },
   {
    "duration": 14,
    "start_time": "2023-05-13T14:32:50.697Z"
   },
   {
    "duration": 236,
    "start_time": "2023-05-13T14:32:50.714Z"
   },
   {
    "duration": 419,
    "start_time": "2023-05-13T14:32:50.952Z"
   },
   {
    "duration": 254,
    "start_time": "2023-05-13T14:32:51.373Z"
   },
   {
    "duration": 11,
    "start_time": "2023-05-13T14:32:51.629Z"
   },
   {
    "duration": 14,
    "start_time": "2023-05-13T14:32:51.642Z"
   },
   {
    "duration": 181,
    "start_time": "2023-05-13T14:32:51.657Z"
   },
   {
    "duration": 4,
    "start_time": "2023-05-13T14:32:51.840Z"
   },
   {
    "duration": 22,
    "start_time": "2023-05-13T14:32:51.846Z"
   },
   {
    "duration": 23,
    "start_time": "2023-05-13T14:32:51.870Z"
   },
   {
    "duration": 6085,
    "start_time": "2023-05-13T14:32:51.895Z"
   },
   {
    "duration": 65421,
    "start_time": "2023-05-13T14:32:57.982Z"
   },
   {
    "duration": 3,
    "start_time": "2023-05-13T14:34:03.405Z"
   },
   {
    "duration": 21550,
    "start_time": "2023-05-13T14:34:03.409Z"
   },
   {
    "duration": 124,
    "start_time": "2023-05-13T14:34:24.961Z"
   },
   {
    "duration": 0,
    "start_time": "2023-05-13T14:34:25.086Z"
   },
   {
    "duration": 27,
    "start_time": "2023-05-13T14:35:01.590Z"
   },
   {
    "duration": 6734,
    "start_time": "2023-05-13T14:35:07.945Z"
   },
   {
    "duration": 3909928,
    "start_time": "2023-05-13T14:37:34.941Z"
   },
   {
    "duration": 69776,
    "start_time": "2023-05-13T15:45:31.906Z"
   },
   {
    "duration": 14,
    "start_time": "2023-05-13T15:46:41.688Z"
   },
   {
    "duration": 13,
    "start_time": "2023-05-13T15:46:45.015Z"
   },
   {
    "duration": 23559,
    "start_time": "2023-05-13T15:46:47.024Z"
   },
   {
    "duration": 15038,
    "start_time": "2023-05-13T15:47:17.836Z"
   },
   {
    "duration": 63569,
    "start_time": "2023-05-13T15:47:42.917Z"
   },
   {
    "duration": 12244152,
    "start_time": "2023-05-13T15:48:53.271Z"
   },
   {
    "duration": 88959,
    "start_time": "2023-05-13T19:17:55.168Z"
   },
   {
    "duration": 20,
    "start_time": "2023-05-13T19:21:18.843Z"
   },
   {
    "duration": 26441,
    "start_time": "2023-05-13T19:21:23.314Z"
   },
   {
    "duration": 21763,
    "start_time": "2023-05-13T19:22:09.695Z"
   },
   {
    "duration": 14,
    "start_time": "2023-05-13T19:22:38.016Z"
   },
   {
    "duration": 6612,
    "start_time": "2023-05-13T19:22:38.891Z"
   },
   {
    "duration": 87271,
    "start_time": "2023-05-13T19:23:30.998Z"
   },
   {
    "duration": 16,
    "start_time": "2023-05-13T19:25:15.551Z"
   },
   {
    "duration": 26202,
    "start_time": "2023-05-13T19:25:16.571Z"
   },
   {
    "duration": 51,
    "start_time": "2023-05-14T11:57:53.809Z"
   },
   {
    "duration": 2200,
    "start_time": "2023-05-14T12:02:24.589Z"
   },
   {
    "duration": 2338,
    "start_time": "2023-05-14T12:02:26.791Z"
   },
   {
    "duration": 59,
    "start_time": "2023-05-14T12:02:29.131Z"
   },
   {
    "duration": 45,
    "start_time": "2023-05-14T12:02:29.192Z"
   },
   {
    "duration": 33,
    "start_time": "2023-05-14T12:02:29.240Z"
   },
   {
    "duration": 29,
    "start_time": "2023-05-14T12:02:29.274Z"
   },
   {
    "duration": 266,
    "start_time": "2023-05-14T12:02:29.305Z"
   },
   {
    "duration": 7,
    "start_time": "2023-05-14T12:02:29.573Z"
   },
   {
    "duration": 8,
    "start_time": "2023-05-14T12:02:29.582Z"
   },
   {
    "duration": 21,
    "start_time": "2023-05-14T12:02:29.592Z"
   },
   {
    "duration": 494,
    "start_time": "2023-05-14T12:02:29.614Z"
   },
   {
    "duration": 12,
    "start_time": "2023-05-14T12:02:30.110Z"
   },
   {
    "duration": 321,
    "start_time": "2023-05-14T12:02:30.124Z"
   },
   {
    "duration": 343,
    "start_time": "2023-05-14T12:02:30.454Z"
   },
   {
    "duration": 251,
    "start_time": "2023-05-14T12:02:30.800Z"
   },
   {
    "duration": 28,
    "start_time": "2023-05-14T12:02:31.054Z"
   },
   {
    "duration": 39,
    "start_time": "2023-05-14T12:02:31.084Z"
   },
   {
    "duration": 190,
    "start_time": "2023-05-14T12:02:31.125Z"
   },
   {
    "duration": 3,
    "start_time": "2023-05-14T12:02:31.318Z"
   },
   {
    "duration": 47,
    "start_time": "2023-05-14T12:02:31.323Z"
   },
   {
    "duration": 55,
    "start_time": "2023-05-14T12:02:31.372Z"
   },
   {
    "duration": 3045,
    "start_time": "2023-05-14T12:02:31.428Z"
   },
   {
    "duration": 64357,
    "start_time": "2023-05-14T12:02:34.475Z"
   },
   {
    "duration": 343,
    "start_time": "2023-05-14T12:03:38.834Z"
   },
   {
    "duration": 15110,
    "start_time": "2023-05-14T12:03:39.179Z"
   },
   {
    "duration": 19,
    "start_time": "2023-05-14T12:03:54.290Z"
   },
   {
    "duration": 2461,
    "start_time": "2023-05-14T12:03:54.311Z"
   },
   {
    "duration": 627,
    "start_time": "2023-05-14T12:03:56.775Z"
   },
   {
    "duration": 332,
    "start_time": "2023-05-14T12:04:09.949Z"
   },
   {
    "duration": 478,
    "start_time": "2023-05-14T12:04:16.759Z"
   },
   {
    "duration": 419,
    "start_time": "2023-05-14T12:04:26.211Z"
   },
   {
    "duration": 346,
    "start_time": "2023-05-14T12:05:15.510Z"
   },
   {
    "duration": 369,
    "start_time": "2023-05-14T12:05:24.049Z"
   },
   {
    "duration": 89,
    "start_time": "2023-05-14T13:10:36.680Z"
   },
   {
    "duration": 1499,
    "start_time": "2023-05-14T13:10:43.026Z"
   },
   {
    "duration": 756,
    "start_time": "2023-05-14T13:10:44.527Z"
   },
   {
    "duration": 63,
    "start_time": "2023-05-14T13:10:45.285Z"
   },
   {
    "duration": 64,
    "start_time": "2023-05-14T13:10:45.351Z"
   },
   {
    "duration": 18,
    "start_time": "2023-05-14T13:10:45.416Z"
   },
   {
    "duration": 56,
    "start_time": "2023-05-14T13:10:45.436Z"
   },
   {
    "duration": 282,
    "start_time": "2023-05-14T13:10:45.494Z"
   },
   {
    "duration": 9,
    "start_time": "2023-05-14T13:10:45.778Z"
   },
   {
    "duration": 12,
    "start_time": "2023-05-14T13:10:45.789Z"
   },
   {
    "duration": 27,
    "start_time": "2023-05-14T13:10:45.803Z"
   },
   {
    "duration": 572,
    "start_time": "2023-05-14T13:10:45.832Z"
   },
   {
    "duration": 14,
    "start_time": "2023-05-14T13:10:46.406Z"
   },
   {
    "duration": 249,
    "start_time": "2023-05-14T13:10:46.422Z"
   },
   {
    "duration": 486,
    "start_time": "2023-05-14T13:10:46.673Z"
   },
   {
    "duration": 276,
    "start_time": "2023-05-14T13:10:47.161Z"
   },
   {
    "duration": 13,
    "start_time": "2023-05-14T13:10:47.439Z"
   },
   {
    "duration": 25,
    "start_time": "2023-05-14T13:10:47.454Z"
   },
   {
    "duration": 179,
    "start_time": "2023-05-14T13:10:47.481Z"
   },
   {
    "duration": 3,
    "start_time": "2023-05-14T13:10:47.663Z"
   },
   {
    "duration": 14,
    "start_time": "2023-05-14T13:10:47.668Z"
   },
   {
    "duration": 21,
    "start_time": "2023-05-14T13:10:47.683Z"
   },
   {
    "duration": 3672,
    "start_time": "2023-05-14T13:10:47.706Z"
   },
   {
    "duration": 9503,
    "start_time": "2023-05-14T13:10:51.381Z"
   },
   {
    "duration": 86,
    "start_time": "2023-05-14T13:11:00.886Z"
   },
   {
    "duration": 106,
    "start_time": "2023-05-14T13:11:00.974Z"
   },
   {
    "duration": 94,
    "start_time": "2023-05-14T13:11:01.082Z"
   },
   {
    "duration": 19,
    "start_time": "2023-05-14T13:11:01.178Z"
   },
   {
    "duration": 111,
    "start_time": "2023-05-14T13:11:01.200Z"
   },
   {
    "duration": 138,
    "start_time": "2023-05-14T13:15:02.694Z"
   },
   {
    "duration": 99,
    "start_time": "2023-05-14T13:15:16.106Z"
   },
   {
    "duration": 51,
    "start_time": "2023-05-14T13:15:32.094Z"
   },
   {
    "duration": 117,
    "start_time": "2023-05-14T13:16:36.207Z"
   },
   {
    "duration": 101,
    "start_time": "2023-05-14T13:17:06.897Z"
   },
   {
    "duration": 152,
    "start_time": "2023-05-14T13:17:43.799Z"
   },
   {
    "duration": 11525,
    "start_time": "2023-05-14T13:18:32.308Z"
   },
   {
    "duration": 1462,
    "start_time": "2023-05-14T15:47:38.496Z"
   },
   {
    "duration": 821,
    "start_time": "2023-05-14T15:47:39.961Z"
   },
   {
    "duration": 64,
    "start_time": "2023-05-14T15:47:40.785Z"
   },
   {
    "duration": 65,
    "start_time": "2023-05-14T15:47:40.851Z"
   },
   {
    "duration": 19,
    "start_time": "2023-05-14T15:47:40.918Z"
   },
   {
    "duration": 55,
    "start_time": "2023-05-14T15:47:40.939Z"
   },
   {
    "duration": 278,
    "start_time": "2023-05-14T15:47:40.996Z"
   },
   {
    "duration": 9,
    "start_time": "2023-05-14T15:47:41.276Z"
   },
   {
    "duration": 8,
    "start_time": "2023-05-14T15:47:41.287Z"
   },
   {
    "duration": 22,
    "start_time": "2023-05-14T15:47:41.297Z"
   },
   {
    "duration": 501,
    "start_time": "2023-05-14T15:47:41.321Z"
   },
   {
    "duration": 13,
    "start_time": "2023-05-14T15:47:41.824Z"
   },
   {
    "duration": 212,
    "start_time": "2023-05-14T15:47:41.838Z"
   },
   {
    "duration": 452,
    "start_time": "2023-05-14T15:47:42.054Z"
   },
   {
    "duration": 247,
    "start_time": "2023-05-14T15:47:42.509Z"
   },
   {
    "duration": 18,
    "start_time": "2023-05-14T15:47:42.758Z"
   },
   {
    "duration": 9,
    "start_time": "2023-05-14T15:47:42.778Z"
   },
   {
    "duration": 177,
    "start_time": "2023-05-14T15:47:42.788Z"
   },
   {
    "duration": 4,
    "start_time": "2023-05-14T15:47:42.967Z"
   },
   {
    "duration": 20,
    "start_time": "2023-05-14T15:47:42.972Z"
   },
   {
    "duration": 11,
    "start_time": "2023-05-14T15:47:42.995Z"
   },
   {
    "duration": 3063,
    "start_time": "2023-05-14T15:47:43.008Z"
   },
   {
    "duration": 65409,
    "start_time": "2023-05-14T15:47:46.074Z"
   },
   {
    "duration": 31615,
    "start_time": "2023-05-14T15:48:51.485Z"
   },
   {
    "duration": 82,
    "start_time": "2023-05-14T15:49:23.102Z"
   },
   {
    "duration": 111,
    "start_time": "2023-05-14T15:49:23.186Z"
   },
   {
    "duration": 17,
    "start_time": "2023-05-14T15:49:23.299Z"
   },
   {
    "duration": 96,
    "start_time": "2023-05-14T15:49:23.318Z"
   },
   {
    "duration": 1887888,
    "start_time": "2023-05-14T16:21:18.897Z"
   },
   {
    "duration": 101,
    "start_time": "2023-05-14T16:58:48.120Z"
   },
   {
    "duration": 1519,
    "start_time": "2023-05-14T16:58:57.430Z"
   },
   {
    "duration": 887,
    "start_time": "2023-05-14T16:58:58.953Z"
   },
   {
    "duration": 69,
    "start_time": "2023-05-14T16:58:59.841Z"
   },
   {
    "duration": 63,
    "start_time": "2023-05-14T16:58:59.912Z"
   },
   {
    "duration": 22,
    "start_time": "2023-05-14T16:58:59.978Z"
   },
   {
    "duration": 68,
    "start_time": "2023-05-14T16:59:00.002Z"
   },
   {
    "duration": 314,
    "start_time": "2023-05-14T16:59:00.072Z"
   },
   {
    "duration": 22,
    "start_time": "2023-05-14T16:59:00.388Z"
   },
   {
    "duration": 63,
    "start_time": "2023-05-14T16:59:00.412Z"
   },
   {
    "duration": 83,
    "start_time": "2023-05-14T16:59:00.477Z"
   },
   {
    "duration": 585,
    "start_time": "2023-05-14T16:59:00.562Z"
   },
   {
    "duration": 23,
    "start_time": "2023-05-14T16:59:01.149Z"
   },
   {
    "duration": 238,
    "start_time": "2023-05-14T16:59:01.177Z"
   },
   {
    "duration": 527,
    "start_time": "2023-05-14T16:59:01.418Z"
   },
   {
    "duration": 296,
    "start_time": "2023-05-14T16:59:01.948Z"
   },
   {
    "duration": 12,
    "start_time": "2023-05-14T16:59:02.247Z"
   },
   {
    "duration": 48,
    "start_time": "2023-05-14T16:59:02.260Z"
   },
   {
    "duration": 209,
    "start_time": "2023-05-14T16:59:02.309Z"
   },
   {
    "duration": 3,
    "start_time": "2023-05-14T16:59:02.519Z"
   },
   {
    "duration": 59,
    "start_time": "2023-05-14T16:59:02.524Z"
   },
   {
    "duration": 28,
    "start_time": "2023-05-14T16:59:02.585Z"
   },
   {
    "duration": 3463,
    "start_time": "2023-05-14T16:59:02.614Z"
   },
   {
    "duration": 63798,
    "start_time": "2023-05-14T16:59:06.079Z"
   },
   {
    "duration": 232,
    "start_time": "2023-05-14T17:00:09.878Z"
   },
   {
    "duration": 126,
    "start_time": "2023-05-14T17:00:10.112Z"
   },
   {
    "duration": 61229,
    "start_time": "2023-05-14T17:00:10.240Z"
   },
   {
    "duration": 15,
    "start_time": "2023-05-14T17:01:11.470Z"
   },
   {
    "duration": 17899,
    "start_time": "2023-05-14T17:01:11.487Z"
   },
   {
    "duration": 1477,
    "start_time": "2023-05-14T17:02:07.317Z"
   },
   {
    "duration": 802,
    "start_time": "2023-05-14T17:02:08.796Z"
   },
   {
    "duration": 73,
    "start_time": "2023-05-14T17:02:09.600Z"
   },
   {
    "duration": 47,
    "start_time": "2023-05-14T17:02:09.674Z"
   },
   {
    "duration": 17,
    "start_time": "2023-05-14T17:02:09.724Z"
   },
   {
    "duration": 51,
    "start_time": "2023-05-14T17:02:09.743Z"
   },
   {
    "duration": 287,
    "start_time": "2023-05-14T17:02:09.796Z"
   },
   {
    "duration": 8,
    "start_time": "2023-05-14T17:02:10.086Z"
   },
   {
    "duration": 15,
    "start_time": "2023-05-14T17:02:10.096Z"
   },
   {
    "duration": 21,
    "start_time": "2023-05-14T17:02:10.113Z"
   },
   {
    "duration": 551,
    "start_time": "2023-05-14T17:02:10.136Z"
   },
   {
    "duration": 16,
    "start_time": "2023-05-14T17:02:10.690Z"
   },
   {
    "duration": 242,
    "start_time": "2023-05-14T17:02:10.708Z"
   },
   {
    "duration": 498,
    "start_time": "2023-05-14T17:02:10.953Z"
   },
   {
    "duration": 265,
    "start_time": "2023-05-14T17:02:11.454Z"
   },
   {
    "duration": 13,
    "start_time": "2023-05-14T17:02:11.721Z"
   },
   {
    "duration": 11,
    "start_time": "2023-05-14T17:02:11.736Z"
   },
   {
    "duration": 218,
    "start_time": "2023-05-14T17:02:11.772Z"
   },
   {
    "duration": 3,
    "start_time": "2023-05-14T17:02:11.992Z"
   },
   {
    "duration": 27,
    "start_time": "2023-05-14T17:02:11.996Z"
   },
   {
    "duration": 12,
    "start_time": "2023-05-14T17:02:12.025Z"
   },
   {
    "duration": 3338,
    "start_time": "2023-05-14T17:02:12.039Z"
   },
   {
    "duration": 64710,
    "start_time": "2023-05-14T17:02:15.379Z"
   },
   {
    "duration": 786518,
    "start_time": "2023-05-14T17:03:20.091Z"
   },
   {
    "duration": 188,
    "start_time": "2023-05-14T17:16:26.610Z"
   },
   {
    "duration": 64232,
    "start_time": "2023-05-14T17:16:26.800Z"
   },
   {
    "duration": 19,
    "start_time": "2023-05-14T17:17:31.034Z"
   },
   {
    "duration": 9306,
    "start_time": "2023-05-14T17:17:31.056Z"
   },
   {
    "duration": 4,
    "start_time": "2023-05-14T17:17:40.365Z"
   },
   {
    "duration": 76450,
    "start_time": "2023-05-14T17:17:40.371Z"
   },
   {
    "duration": 17,
    "start_time": "2023-05-14T17:18:56.824Z"
   },
   {
    "duration": 23192,
    "start_time": "2023-05-14T17:18:56.846Z"
   },
   {
    "duration": 966034,
    "start_time": "2023-05-14T17:36:29.347Z"
   },
   {
    "duration": 89,
    "start_time": "2023-05-14T17:52:35.384Z"
   },
   {
    "duration": 16,
    "start_time": "2023-05-14T17:52:35.476Z"
   },
   {
    "duration": 132,
    "start_time": "2023-05-14T17:52:35.494Z"
   },
   {
    "duration": 3,
    "start_time": "2023-05-14T17:53:02.825Z"
   },
   {
    "duration": 87,
    "start_time": "2023-05-14T17:53:56.941Z"
   },
   {
    "duration": 4,
    "start_time": "2023-05-14T17:54:05.132Z"
   },
   {
    "duration": 29176,
    "start_time": "2023-05-14T17:54:09.032Z"
   },
   {
    "duration": 16,
    "start_time": "2023-05-14T17:54:58.504Z"
   },
   {
    "duration": 8696,
    "start_time": "2023-05-14T17:55:01.084Z"
   },
   {
    "duration": 10,
    "start_time": "2023-05-14T17:56:14.736Z"
   },
   {
    "duration": 8951,
    "start_time": "2023-05-14T17:56:35.736Z"
   },
   {
    "duration": 49,
    "start_time": "2023-05-14T17:56:58.387Z"
   },
   {
    "duration": 8,
    "start_time": "2023-05-14T18:01:28.634Z"
   },
   {
    "duration": 5,
    "start_time": "2023-05-14T18:01:36.495Z"
   },
   {
    "duration": 6,
    "start_time": "2023-05-14T18:01:41.535Z"
   },
   {
    "duration": 6,
    "start_time": "2023-05-14T18:01:44.415Z"
   },
   {
    "duration": 22,
    "start_time": "2023-05-14T18:02:04.187Z"
   },
   {
    "duration": 9,
    "start_time": "2023-05-14T18:02:11.806Z"
   },
   {
    "duration": 19,
    "start_time": "2023-05-14T18:02:28.247Z"
   },
   {
    "duration": 15,
    "start_time": "2023-05-14T18:04:34.161Z"
   },
   {
    "duration": 18,
    "start_time": "2023-05-14T18:04:39.140Z"
   },
   {
    "duration": 14,
    "start_time": "2023-05-14T18:04:45.590Z"
   },
   {
    "duration": 17,
    "start_time": "2023-05-14T18:04:48.140Z"
   },
   {
    "duration": 15,
    "start_time": "2023-05-14T18:04:50.451Z"
   },
   {
    "duration": 30,
    "start_time": "2023-05-14T18:05:03.472Z"
   },
   {
    "duration": 25,
    "start_time": "2023-05-14T18:05:13.491Z"
   },
   {
    "duration": 19,
    "start_time": "2023-05-14T18:05:36.652Z"
   },
   {
    "duration": 369,
    "start_time": "2023-05-14T18:06:24.114Z"
   },
   {
    "duration": 331,
    "start_time": "2023-05-14T18:24:21.565Z"
   },
   {
    "duration": 14,
    "start_time": "2023-05-14T18:24:30.716Z"
   },
   {
    "duration": 1124,
    "start_time": "2023-05-14T18:25:04.346Z"
   },
   {
    "duration": 68,
    "start_time": "2023-05-14T18:25:20.817Z"
   },
   {
    "duration": 30,
    "start_time": "2023-05-14T18:26:20.979Z"
   },
   {
    "duration": 16,
    "start_time": "2023-05-14T18:26:40.080Z"
   },
   {
    "duration": 14,
    "start_time": "2023-05-14T18:26:58.380Z"
   },
   {
    "duration": 19,
    "start_time": "2023-05-14T18:28:55.113Z"
   },
   {
    "duration": 16,
    "start_time": "2023-05-14T18:29:11.553Z"
   },
   {
    "duration": 1531,
    "start_time": "2023-05-14T18:29:35.436Z"
   },
   {
    "duration": 817,
    "start_time": "2023-05-14T18:29:36.970Z"
   },
   {
    "duration": 87,
    "start_time": "2023-05-14T18:29:37.788Z"
   },
   {
    "duration": 59,
    "start_time": "2023-05-14T18:29:37.877Z"
   },
   {
    "duration": 44,
    "start_time": "2023-05-14T18:29:37.939Z"
   },
   {
    "duration": 29,
    "start_time": "2023-05-14T18:29:37.984Z"
   },
   {
    "duration": 286,
    "start_time": "2023-05-14T18:29:38.015Z"
   },
   {
    "duration": 8,
    "start_time": "2023-05-14T18:29:38.303Z"
   },
   {
    "duration": 23,
    "start_time": "2023-05-14T18:29:38.313Z"
   },
   {
    "duration": 47,
    "start_time": "2023-05-14T18:29:38.338Z"
   },
   {
    "duration": 527,
    "start_time": "2023-05-14T18:29:38.388Z"
   },
   {
    "duration": 13,
    "start_time": "2023-05-14T18:29:38.917Z"
   },
   {
    "duration": 223,
    "start_time": "2023-05-14T18:29:38.931Z"
   },
   {
    "duration": 476,
    "start_time": "2023-05-14T18:29:39.157Z"
   },
   {
    "duration": 261,
    "start_time": "2023-05-14T18:29:39.635Z"
   },
   {
    "duration": 12,
    "start_time": "2023-05-14T18:29:39.898Z"
   },
   {
    "duration": 11,
    "start_time": "2023-05-14T18:29:39.912Z"
   },
   {
    "duration": 192,
    "start_time": "2023-05-14T18:29:39.925Z"
   },
   {
    "duration": 3,
    "start_time": "2023-05-14T18:29:40.119Z"
   },
   {
    "duration": 31,
    "start_time": "2023-05-14T18:29:40.124Z"
   },
   {
    "duration": 17,
    "start_time": "2023-05-14T18:29:40.157Z"
   },
   {
    "duration": 1743,
    "start_time": "2023-05-14T18:29:40.176Z"
   },
   {
    "duration": 775,
    "start_time": "2023-05-14T18:29:41.921Z"
   },
   {
    "duration": 78223,
    "start_time": "2023-05-14T18:29:42.698Z"
   },
   {
    "duration": 4,
    "start_time": "2023-05-14T18:31:00.923Z"
   },
   {
    "duration": 4235,
    "start_time": "2023-05-14T18:31:00.928Z"
   },
   {
    "duration": 22,
    "start_time": "2023-05-14T18:31:05.166Z"
   },
   {
    "duration": 3647,
    "start_time": "2023-05-14T18:31:05.190Z"
   },
   {
    "duration": 41,
    "start_time": "2023-05-14T18:31:08.839Z"
   },
   {
    "duration": 0,
    "start_time": "2023-05-14T18:31:08.883Z"
   },
   {
    "duration": 23,
    "start_time": "2023-05-14T18:31:15.818Z"
   },
   {
    "duration": 42,
    "start_time": "2023-05-14T18:38:31.163Z"
   },
   {
    "duration": 43,
    "start_time": "2023-05-14T18:38:38.962Z"
   },
   {
    "duration": 7,
    "start_time": "2023-05-14T18:39:11.608Z"
   },
   {
    "duration": 41,
    "start_time": "2023-05-14T18:40:08.304Z"
   },
   {
    "duration": 44,
    "start_time": "2023-05-14T18:40:13.586Z"
   },
   {
    "duration": 28,
    "start_time": "2023-05-14T18:41:57.717Z"
   },
   {
    "duration": 71,
    "start_time": "2023-05-14T18:44:20.312Z"
   },
   {
    "duration": 71,
    "start_time": "2023-05-14T18:44:31.591Z"
   },
   {
    "duration": 77,
    "start_time": "2023-05-14T18:44:34.113Z"
   },
   {
    "duration": 75,
    "start_time": "2023-05-14T18:44:49.704Z"
   },
   {
    "duration": 1341,
    "start_time": "2023-05-14T18:44:53.191Z"
   },
   {
    "duration": 336,
    "start_time": "2023-05-14T18:45:37.834Z"
   },
   {
    "duration": 332,
    "start_time": "2023-05-14T18:46:24.366Z"
   },
   {
    "duration": 8,
    "start_time": "2023-05-14T18:46:43.653Z"
   },
   {
    "duration": 799,
    "start_time": "2023-05-14T18:46:43.664Z"
   },
   {
    "duration": 64,
    "start_time": "2023-05-14T18:46:44.464Z"
   },
   {
    "duration": 65,
    "start_time": "2023-05-14T18:46:44.530Z"
   },
   {
    "duration": 16,
    "start_time": "2023-05-14T18:46:44.598Z"
   },
   {
    "duration": 29,
    "start_time": "2023-05-14T18:46:44.616Z"
   },
   {
    "duration": 296,
    "start_time": "2023-05-14T18:46:44.647Z"
   },
   {
    "duration": 8,
    "start_time": "2023-05-14T18:46:44.945Z"
   },
   {
    "duration": 24,
    "start_time": "2023-05-14T18:46:44.955Z"
   },
   {
    "duration": 19,
    "start_time": "2023-05-14T18:46:44.981Z"
   },
   {
    "duration": 503,
    "start_time": "2023-05-14T18:46:45.002Z"
   },
   {
    "duration": 12,
    "start_time": "2023-05-14T18:46:45.507Z"
   },
   {
    "duration": 232,
    "start_time": "2023-05-14T18:46:45.521Z"
   },
   {
    "duration": 567,
    "start_time": "2023-05-14T18:46:45.756Z"
   },
   {
    "duration": 268,
    "start_time": "2023-05-14T18:46:46.325Z"
   },
   {
    "duration": 12,
    "start_time": "2023-05-14T18:46:46.594Z"
   },
   {
    "duration": 11,
    "start_time": "2023-05-14T18:46:46.607Z"
   },
   {
    "duration": 195,
    "start_time": "2023-05-14T18:46:46.620Z"
   },
   {
    "duration": 4,
    "start_time": "2023-05-14T18:46:46.817Z"
   },
   {
    "duration": 342,
    "start_time": "2023-05-14T18:46:46.823Z"
   },
   {
    "duration": 364,
    "start_time": "2023-05-14T18:46:51.456Z"
   },
   {
    "duration": 9,
    "start_time": "2023-05-14T18:49:14.082Z"
   },
   {
    "duration": 15,
    "start_time": "2023-05-14T18:50:23.989Z"
   },
   {
    "duration": 16,
    "start_time": "2023-05-14T18:50:28.571Z"
   },
   {
    "duration": 16,
    "start_time": "2023-05-14T18:50:32.471Z"
   },
   {
    "duration": 11,
    "start_time": "2023-05-14T18:50:43.152Z"
   },
   {
    "duration": 13,
    "start_time": "2023-05-14T18:51:09.643Z"
   },
   {
    "duration": 32,
    "start_time": "2023-05-14T18:54:07.819Z"
   },
   {
    "duration": 1423,
    "start_time": "2023-05-14T18:54:20.925Z"
   },
   {
    "duration": 764,
    "start_time": "2023-05-14T18:54:22.350Z"
   },
   {
    "duration": 70,
    "start_time": "2023-05-14T18:54:23.117Z"
   },
   {
    "duration": 45,
    "start_time": "2023-05-14T18:54:23.189Z"
   },
   {
    "duration": 99,
    "start_time": "2023-05-14T18:54:23.236Z"
   },
   {
    "duration": 27,
    "start_time": "2023-05-14T18:54:23.337Z"
   },
   {
    "duration": 260,
    "start_time": "2023-05-14T18:54:23.366Z"
   },
   {
    "duration": 7,
    "start_time": "2023-05-14T18:54:23.628Z"
   },
   {
    "duration": 42,
    "start_time": "2023-05-14T18:54:23.637Z"
   },
   {
    "duration": 30,
    "start_time": "2023-05-14T18:54:23.682Z"
   },
   {
    "duration": 518,
    "start_time": "2023-05-14T18:54:23.714Z"
   },
   {
    "duration": 13,
    "start_time": "2023-05-14T18:54:24.234Z"
   },
   {
    "duration": 213,
    "start_time": "2023-05-14T18:54:24.249Z"
   },
   {
    "duration": 426,
    "start_time": "2023-05-14T18:54:24.464Z"
   },
   {
    "duration": 244,
    "start_time": "2023-05-14T18:54:24.892Z"
   },
   {
    "duration": 12,
    "start_time": "2023-05-14T18:54:25.139Z"
   },
   {
    "duration": 26,
    "start_time": "2023-05-14T18:54:25.154Z"
   },
   {
    "duration": 179,
    "start_time": "2023-05-14T18:54:25.182Z"
   },
   {
    "duration": 3,
    "start_time": "2023-05-14T18:54:25.370Z"
   },
   {
    "duration": 20,
    "start_time": "2023-05-14T18:54:25.376Z"
   },
   {
    "duration": 12,
    "start_time": "2023-05-14T18:54:25.398Z"
   },
   {
    "duration": 7,
    "start_time": "2023-05-14T18:54:25.412Z"
   },
   {
    "duration": 2952,
    "start_time": "2023-05-14T18:54:25.421Z"
   },
   {
    "duration": 59276,
    "start_time": "2023-05-14T18:54:28.375Z"
   },
   {
    "duration": 7599,
    "start_time": "2023-05-14T18:55:27.653Z"
   },
   {
    "duration": 5,
    "start_time": "2023-05-14T18:55:35.253Z"
   },
   {
    "duration": 3486,
    "start_time": "2023-05-14T18:55:35.260Z"
   },
   {
    "duration": 25,
    "start_time": "2023-05-14T18:55:38.751Z"
   },
   {
    "duration": 128,
    "start_time": "2023-05-14T18:55:38.778Z"
   },
   {
    "duration": 22,
    "start_time": "2023-05-14T18:55:38.907Z"
   },
   {
    "duration": 59002,
    "start_time": "2023-05-14T18:55:51.231Z"
   },
   {
    "duration": 680815,
    "start_time": "2023-05-14T18:56:50.235Z"
   },
   {
    "duration": 3178,
    "start_time": "2023-05-14T19:08:11.052Z"
   },
   {
    "duration": 1538,
    "start_time": "2023-05-14T19:08:14.233Z"
   },
   {
    "duration": 0,
    "start_time": "2023-05-14T19:08:15.773Z"
   },
   {
    "duration": 0,
    "start_time": "2023-05-14T19:08:15.774Z"
   },
   {
    "duration": 906987,
    "start_time": "2023-05-14T19:08:29.264Z"
   },
   {
    "duration": 28814,
    "start_time": "2023-05-14T19:24:26.980Z"
   },
   {
    "duration": 105215,
    "start_time": "2023-05-14T19:27:14.086Z"
   },
   {
    "duration": 97889,
    "start_time": "2023-05-14T19:30:05.359Z"
   },
   {
    "duration": 103476,
    "start_time": "2023-05-14T19:33:30.772Z"
   },
   {
    "duration": 31,
    "start_time": "2023-05-14T19:35:14.250Z"
   },
   {
    "duration": 30853,
    "start_time": "2023-05-14T19:35:14.284Z"
   },
   {
    "duration": 50,
    "start_time": "2023-05-14T19:35:45.139Z"
   },
   {
    "duration": 1551,
    "start_time": "2023-05-14T19:35:45.192Z"
   },
   {
    "duration": 26,
    "start_time": "2023-05-14T19:35:51.689Z"
   },
   {
    "duration": 33883,
    "start_time": "2023-05-14T19:35:57.209Z"
   },
   {
    "duration": 37,
    "start_time": "2023-05-14T19:36:31.095Z"
   },
   {
    "duration": 12,
    "start_time": "2023-05-14T19:37:07.983Z"
   },
   {
    "duration": 1651,
    "start_time": "2023-05-14T19:38:42.936Z"
   },
   {
    "duration": 6,
    "start_time": "2023-05-14T19:39:19.115Z"
   },
   {
    "duration": 27,
    "start_time": "2023-05-14T19:39:53.796Z"
   },
   {
    "duration": 8,
    "start_time": "2023-05-14T19:40:06.582Z"
   },
   {
    "duration": 1462,
    "start_time": "2023-05-14T19:41:51.625Z"
   },
   {
    "duration": 847,
    "start_time": "2023-05-14T19:41:53.090Z"
   },
   {
    "duration": 79,
    "start_time": "2023-05-14T19:41:53.939Z"
   },
   {
    "duration": 66,
    "start_time": "2023-05-14T19:41:54.021Z"
   },
   {
    "duration": 19,
    "start_time": "2023-05-14T19:41:54.089Z"
   },
   {
    "duration": 48,
    "start_time": "2023-05-14T19:41:54.109Z"
   },
   {
    "duration": 279,
    "start_time": "2023-05-14T19:41:54.159Z"
   },
   {
    "duration": 8,
    "start_time": "2023-05-14T19:41:54.440Z"
   },
   {
    "duration": 34,
    "start_time": "2023-05-14T19:41:54.450Z"
   },
   {
    "duration": 43,
    "start_time": "2023-05-14T19:41:54.487Z"
   },
   {
    "duration": 504,
    "start_time": "2023-05-14T19:41:54.532Z"
   },
   {
    "duration": 14,
    "start_time": "2023-05-14T19:41:55.038Z"
   },
   {
    "duration": 225,
    "start_time": "2023-05-14T19:41:55.053Z"
   },
   {
    "duration": 463,
    "start_time": "2023-05-14T19:41:55.284Z"
   },
   {
    "duration": 290,
    "start_time": "2023-05-14T19:41:55.749Z"
   },
   {
    "duration": 14,
    "start_time": "2023-05-14T19:41:56.041Z"
   },
   {
    "duration": 39,
    "start_time": "2023-05-14T19:41:56.057Z"
   },
   {
    "duration": 211,
    "start_time": "2023-05-14T19:41:56.098Z"
   },
   {
    "duration": 3,
    "start_time": "2023-05-14T19:41:56.311Z"
   },
   {
    "duration": 87,
    "start_time": "2023-05-14T19:41:56.316Z"
   },
   {
    "duration": 0,
    "start_time": "2023-05-14T19:41:56.405Z"
   },
   {
    "duration": 0,
    "start_time": "2023-05-14T19:41:56.406Z"
   },
   {
    "duration": 0,
    "start_time": "2023-05-14T19:41:56.407Z"
   },
   {
    "duration": 0,
    "start_time": "2023-05-14T19:41:56.409Z"
   },
   {
    "duration": 0,
    "start_time": "2023-05-14T19:41:56.410Z"
   },
   {
    "duration": 0,
    "start_time": "2023-05-14T19:41:56.411Z"
   },
   {
    "duration": 0,
    "start_time": "2023-05-14T19:41:56.412Z"
   },
   {
    "duration": 0,
    "start_time": "2023-05-14T19:41:56.413Z"
   },
   {
    "duration": 0,
    "start_time": "2023-05-14T19:41:56.414Z"
   },
   {
    "duration": 0,
    "start_time": "2023-05-14T19:41:56.415Z"
   },
   {
    "duration": 0,
    "start_time": "2023-05-14T19:41:56.416Z"
   },
   {
    "duration": 0,
    "start_time": "2023-05-14T19:41:56.417Z"
   },
   {
    "duration": 11,
    "start_time": "2023-05-14T19:42:12.596Z"
   },
   {
    "duration": 18,
    "start_time": "2023-05-14T19:42:34.540Z"
   },
   {
    "duration": 20,
    "start_time": "2023-05-14T19:42:48.165Z"
   },
   {
    "duration": 5,
    "start_time": "2023-05-14T19:42:49.485Z"
   },
   {
    "duration": 4171,
    "start_time": "2023-05-14T19:42:51.311Z"
   },
   {
    "duration": 103109,
    "start_time": "2023-05-14T19:43:00.672Z"
   },
   {
    "duration": 4,
    "start_time": "2023-05-14T19:44:43.783Z"
   },
   {
    "duration": 25,
    "start_time": "2023-05-14T19:44:43.788Z"
   },
   {
    "duration": 30030,
    "start_time": "2023-05-14T19:44:43.816Z"
   },
   {
    "duration": 45,
    "start_time": "2023-05-14T19:45:13.848Z"
   },
   {
    "duration": 5,
    "start_time": "2023-05-14T19:45:13.894Z"
   },
   {
    "duration": 5,
    "start_time": "2023-05-14T19:45:31.425Z"
   },
   {
    "duration": 1451,
    "start_time": "2023-05-14T19:46:20.820Z"
   },
   {
    "duration": 818,
    "start_time": "2023-05-14T19:46:22.274Z"
   },
   {
    "duration": 77,
    "start_time": "2023-05-14T19:46:23.094Z"
   },
   {
    "duration": 50,
    "start_time": "2023-05-14T19:46:23.173Z"
   },
   {
    "duration": 19,
    "start_time": "2023-05-14T19:46:23.226Z"
   },
   {
    "duration": 55,
    "start_time": "2023-05-14T19:46:23.246Z"
   },
   {
    "duration": 274,
    "start_time": "2023-05-14T19:46:23.303Z"
   },
   {
    "duration": 8,
    "start_time": "2023-05-14T19:46:23.578Z"
   },
   {
    "duration": 29,
    "start_time": "2023-05-14T19:46:23.588Z"
   },
   {
    "duration": 77,
    "start_time": "2023-05-14T19:46:23.619Z"
   },
   {
    "duration": 492,
    "start_time": "2023-05-14T19:46:23.697Z"
   },
   {
    "duration": 12,
    "start_time": "2023-05-14T19:46:24.191Z"
   },
   {
    "duration": 226,
    "start_time": "2023-05-14T19:46:24.205Z"
   },
   {
    "duration": 455,
    "start_time": "2023-05-14T19:46:24.435Z"
   },
   {
    "duration": 250,
    "start_time": "2023-05-14T19:46:24.892Z"
   },
   {
    "duration": 13,
    "start_time": "2023-05-14T19:46:25.144Z"
   },
   {
    "duration": 33,
    "start_time": "2023-05-14T19:46:25.158Z"
   },
   {
    "duration": 212,
    "start_time": "2023-05-14T19:46:25.192Z"
   },
   {
    "duration": 4,
    "start_time": "2023-05-14T19:46:25.406Z"
   },
   {
    "duration": 29,
    "start_time": "2023-05-14T19:46:25.412Z"
   },
   {
    "duration": 54,
    "start_time": "2023-05-14T19:46:25.442Z"
   },
   {
    "duration": 30,
    "start_time": "2023-05-14T19:46:25.498Z"
   },
   {
    "duration": 29,
    "start_time": "2023-05-14T19:46:25.530Z"
   },
   {
    "duration": 29,
    "start_time": "2023-05-14T19:46:25.560Z"
   },
   {
    "duration": 2881,
    "start_time": "2023-05-14T19:46:25.591Z"
   },
   {
    "duration": 59299,
    "start_time": "2023-05-14T19:46:28.476Z"
   },
   {
    "duration": 648251,
    "start_time": "2023-05-14T19:47:27.776Z"
   },
   {
    "duration": 101341,
    "start_time": "2023-05-14T19:58:16.030Z"
   },
   {
    "duration": 8,
    "start_time": "2023-05-14T19:59:57.376Z"
   },
   {
    "duration": 25,
    "start_time": "2023-05-14T19:59:57.386Z"
   },
   {
    "duration": 30967,
    "start_time": "2023-05-14T19:59:57.413Z"
   },
   {
    "duration": 37,
    "start_time": "2023-05-14T20:00:28.382Z"
   },
   {
    "duration": 4,
    "start_time": "2023-05-14T20:00:28.421Z"
   },
   {
    "duration": 30526,
    "start_time": "2023-05-14T21:10:59.130Z"
   },
   {
    "duration": 1571,
    "start_time": "2023-05-14T21:11:36.694Z"
   },
   {
    "duration": 0,
    "start_time": "2023-05-14T21:11:38.267Z"
   },
   {
    "duration": 10003,
    "start_time": "2023-05-14T21:12:04.501Z"
   },
   {
    "duration": 35,
    "start_time": "2023-05-14T21:12:21.211Z"
   },
   {
    "duration": 42,
    "start_time": "2023-05-14T21:12:34.742Z"
   },
   {
    "duration": 107001,
    "start_time": "2023-05-14T21:12:50.674Z"
   },
   {
    "duration": 32773,
    "start_time": "2023-05-14T21:14:51.936Z"
   },
   {
    "duration": 2625,
    "start_time": "2023-05-14T21:33:49.082Z"
   },
   {
    "duration": 110,
    "start_time": "2023-05-14T21:34:29.951Z"
   },
   {
    "duration": 0,
    "start_time": "2023-05-14T21:35:07.232Z"
   },
   {
    "duration": 18087,
    "start_time": "2023-05-14T21:35:43.206Z"
   },
   {
    "duration": 18230,
    "start_time": "2023-05-14T21:36:16.055Z"
   },
   {
    "duration": 90,
    "start_time": "2023-05-14T21:39:45.942Z"
   },
   {
    "duration": 39641,
    "start_time": "2023-05-14T21:39:54.942Z"
   },
   {
    "duration": 38048,
    "start_time": "2023-05-14T21:41:16.604Z"
   },
   {
    "duration": 9,
    "start_time": "2023-05-14T21:44:17.988Z"
   },
   {
    "duration": 4,
    "start_time": "2023-05-14T21:44:44.028Z"
   },
   {
    "duration": 24,
    "start_time": "2023-05-14T21:44:46.668Z"
   },
   {
    "duration": 29,
    "start_time": "2023-05-14T21:45:26.449Z"
   },
   {
    "duration": 32,
    "start_time": "2023-05-14T21:46:02.421Z"
   },
   {
    "duration": 5,
    "start_time": "2023-05-14T21:46:09.183Z"
   },
   {
    "duration": 1645,
    "start_time": "2023-05-14T21:46:40.865Z"
   },
   {
    "duration": 1682,
    "start_time": "2023-05-14T21:46:42.513Z"
   },
   {
    "duration": 117,
    "start_time": "2023-05-14T21:46:44.197Z"
   },
   {
    "duration": 99,
    "start_time": "2023-05-14T21:46:44.316Z"
   },
   {
    "duration": 22,
    "start_time": "2023-05-14T21:46:44.473Z"
   },
   {
    "duration": 91,
    "start_time": "2023-05-14T21:46:44.497Z"
   },
   {
    "duration": 296,
    "start_time": "2023-05-14T21:46:44.590Z"
   },
   {
    "duration": 8,
    "start_time": "2023-05-14T21:46:44.888Z"
   },
   {
    "duration": 12,
    "start_time": "2023-05-14T21:46:44.897Z"
   },
   {
    "duration": 26,
    "start_time": "2023-05-14T21:46:44.911Z"
   },
   {
    "duration": 519,
    "start_time": "2023-05-14T21:46:44.938Z"
   },
   {
    "duration": 27,
    "start_time": "2023-05-14T21:46:45.459Z"
   },
   {
    "duration": 214,
    "start_time": "2023-05-14T21:46:45.488Z"
   },
   {
    "duration": 543,
    "start_time": "2023-05-14T21:46:45.705Z"
   },
   {
    "duration": 258,
    "start_time": "2023-05-14T21:46:46.250Z"
   },
   {
    "duration": 12,
    "start_time": "2023-05-14T21:46:46.510Z"
   },
   {
    "duration": 24,
    "start_time": "2023-05-14T21:46:46.523Z"
   },
   {
    "duration": 168,
    "start_time": "2023-05-14T21:46:46.548Z"
   },
   {
    "duration": 3,
    "start_time": "2023-05-14T21:46:46.717Z"
   },
   {
    "duration": 25,
    "start_time": "2023-05-14T21:46:46.722Z"
   },
   {
    "duration": 31,
    "start_time": "2023-05-14T21:46:46.748Z"
   },
   {
    "duration": 15,
    "start_time": "2023-05-14T21:46:46.782Z"
   },
   {
    "duration": 14,
    "start_time": "2023-05-14T21:46:46.799Z"
   },
   {
    "duration": 14,
    "start_time": "2023-05-14T21:46:46.815Z"
   },
   {
    "duration": 3760,
    "start_time": "2023-05-14T21:46:46.831Z"
   },
   {
    "duration": 3471,
    "start_time": "2023-05-14T21:46:50.595Z"
   },
   {
    "duration": 2579,
    "start_time": "2023-05-14T21:46:54.068Z"
   },
   {
    "duration": 101884,
    "start_time": "2023-05-14T21:46:56.649Z"
   },
   {
    "duration": 40932,
    "start_time": "2023-05-14T21:48:38.534Z"
   },
   {
    "duration": 31,
    "start_time": "2023-05-14T21:49:19.468Z"
   },
   {
    "duration": 25,
    "start_time": "2023-05-14T21:49:19.501Z"
   },
   {
    "duration": 113,
    "start_time": "2023-05-14T21:49:19.529Z"
   },
   {
    "duration": 0,
    "start_time": "2023-05-14T21:49:19.644Z"
   },
   {
    "duration": 24,
    "start_time": "2023-05-14T21:50:08.382Z"
   },
   {
    "duration": 15,
    "start_time": "2023-05-14T21:50:27.119Z"
   },
   {
    "duration": 6,
    "start_time": "2023-05-14T21:51:54.030Z"
   },
   {
    "duration": 12,
    "start_time": "2023-05-14T21:52:05.401Z"
   },
   {
    "duration": 39,
    "start_time": "2023-05-14T21:52:20.552Z"
   },
   {
    "duration": 12,
    "start_time": "2023-05-14T21:52:27.122Z"
   },
   {
    "duration": 958,
    "start_time": "2023-05-14T21:54:24.245Z"
   },
   {
    "duration": 880,
    "start_time": "2023-05-14T21:54:49.506Z"
   },
   {
    "duration": 42,
    "start_time": "2023-05-14T21:56:41.169Z"
   },
   {
    "duration": 36,
    "start_time": "2023-05-14T21:56:48.218Z"
   },
   {
    "duration": 29,
    "start_time": "2023-05-14T21:57:28.390Z"
   },
   {
    "duration": 42124,
    "start_time": "2023-05-14T21:57:54.521Z"
   },
   {
    "duration": 1564,
    "start_time": "2023-05-14T21:58:50.774Z"
   },
   {
    "duration": 35,
    "start_time": "2023-05-14T21:58:56.174Z"
   },
   {
    "duration": 26,
    "start_time": "2023-05-14T21:59:36.134Z"
   },
   {
    "duration": 46297,
    "start_time": "2023-05-14T22:00:52.125Z"
   },
   {
    "duration": 50,
    "start_time": "2023-05-14T22:02:01.847Z"
   },
   {
    "duration": 1720,
    "start_time": "2023-05-14T22:10:11.181Z"
   },
   {
    "duration": 838,
    "start_time": "2023-05-14T22:10:12.903Z"
   },
   {
    "duration": 70,
    "start_time": "2023-05-14T22:10:13.742Z"
   },
   {
    "duration": 59,
    "start_time": "2023-05-14T22:10:13.816Z"
   },
   {
    "duration": 18,
    "start_time": "2023-05-14T22:10:13.878Z"
   },
   {
    "duration": 31,
    "start_time": "2023-05-14T22:10:13.897Z"
   },
   {
    "duration": 277,
    "start_time": "2023-05-14T22:10:13.930Z"
   },
   {
    "duration": 8,
    "start_time": "2023-05-14T22:10:14.209Z"
   },
   {
    "duration": 8,
    "start_time": "2023-05-14T22:10:14.218Z"
   },
   {
    "duration": 43,
    "start_time": "2023-05-14T22:10:14.228Z"
   },
   {
    "duration": 465,
    "start_time": "2023-05-14T22:10:14.273Z"
   },
   {
    "duration": 11,
    "start_time": "2023-05-14T22:10:14.740Z"
   },
   {
    "duration": 206,
    "start_time": "2023-05-14T22:10:14.752Z"
   },
   {
    "duration": 433,
    "start_time": "2023-05-14T22:10:14.960Z"
   },
   {
    "duration": 229,
    "start_time": "2023-05-14T22:10:15.395Z"
   },
   {
    "duration": 12,
    "start_time": "2023-05-14T22:10:15.627Z"
   },
   {
    "duration": 9,
    "start_time": "2023-05-14T22:10:15.641Z"
   },
   {
    "duration": 195,
    "start_time": "2023-05-14T22:10:15.672Z"
   },
   {
    "duration": 4,
    "start_time": "2023-05-14T22:10:15.873Z"
   },
   {
    "duration": 28,
    "start_time": "2023-05-14T22:10:15.878Z"
   },
   {
    "duration": 35,
    "start_time": "2023-05-14T22:10:15.908Z"
   },
   {
    "duration": 23,
    "start_time": "2023-05-14T22:10:15.945Z"
   },
   {
    "duration": 17,
    "start_time": "2023-05-14T22:10:15.971Z"
   },
   {
    "duration": 21,
    "start_time": "2023-05-14T22:10:15.990Z"
   },
   {
    "duration": 3261,
    "start_time": "2023-05-14T22:10:16.014Z"
   },
   {
    "duration": 58320,
    "start_time": "2023-05-14T22:10:19.277Z"
   },
   {
    "duration": 166926,
    "start_time": "2023-05-14T22:11:17.599Z"
   },
   {
    "duration": 3773,
    "start_time": "2023-05-14T22:14:04.528Z"
   },
   {
    "duration": 2884,
    "start_time": "2023-05-14T22:14:08.303Z"
   },
   {
    "duration": 0,
    "start_time": "2023-05-14T22:14:11.189Z"
   },
   {
    "duration": 0,
    "start_time": "2023-05-14T22:14:11.190Z"
   },
   {
    "duration": 0,
    "start_time": "2023-05-14T22:14:11.192Z"
   },
   {
    "duration": 138,
    "start_time": "2023-05-14T22:15:19.750Z"
   },
   {
    "duration": 119,
    "start_time": "2023-05-14T22:15:35.739Z"
   },
   {
    "duration": 1119397,
    "start_time": "2023-05-14T22:16:18.041Z"
   },
   {
    "duration": 106412,
    "start_time": "2023-05-14T22:34:57.440Z"
   },
   {
    "duration": 40099,
    "start_time": "2023-05-14T22:36:43.854Z"
   },
   {
    "duration": 26,
    "start_time": "2023-05-14T22:37:23.959Z"
   },
   {
    "duration": 42588,
    "start_time": "2023-05-14T22:37:23.987Z"
   },
   {
    "duration": 49,
    "start_time": "2023-05-14T22:38:06.581Z"
   },
   {
    "duration": 541390,
    "start_time": "2023-05-14T22:39:05.360Z"
   },
   {
    "duration": 1350,
    "start_time": "2023-06-12T16:50:29.336Z"
   },
   {
    "duration": 2333,
    "start_time": "2023-06-12T16:50:30.688Z"
   },
   {
    "duration": 60,
    "start_time": "2023-06-12T16:50:33.023Z"
   },
   {
    "duration": 61,
    "start_time": "2023-06-12T16:50:33.084Z"
   },
   {
    "duration": 23,
    "start_time": "2023-06-12T16:50:33.149Z"
   },
   {
    "duration": 28,
    "start_time": "2023-06-12T16:50:33.173Z"
   },
   {
    "duration": 271,
    "start_time": "2023-06-12T16:50:33.203Z"
   },
   {
    "duration": 7,
    "start_time": "2023-06-12T16:50:33.476Z"
   },
   {
    "duration": 19,
    "start_time": "2023-06-12T16:50:33.485Z"
   },
   {
    "duration": 34,
    "start_time": "2023-06-12T16:50:33.506Z"
   },
   {
    "duration": 465,
    "start_time": "2023-06-12T16:50:33.542Z"
   },
   {
    "duration": 23,
    "start_time": "2023-06-12T16:50:34.008Z"
   },
   {
    "duration": 213,
    "start_time": "2023-06-12T16:50:34.033Z"
   },
   {
    "duration": 386,
    "start_time": "2023-06-12T16:50:34.250Z"
   },
   {
    "duration": 237,
    "start_time": "2023-06-12T16:50:34.638Z"
   },
   {
    "duration": 15,
    "start_time": "2023-06-12T16:50:34.879Z"
   },
   {
    "duration": 16,
    "start_time": "2023-06-12T16:50:34.896Z"
   },
   {
    "duration": 187,
    "start_time": "2023-06-12T16:50:34.914Z"
   },
   {
    "duration": 3,
    "start_time": "2023-06-12T16:50:35.103Z"
   },
   {
    "duration": 29,
    "start_time": "2023-06-12T16:50:35.107Z"
   },
   {
    "duration": 23,
    "start_time": "2023-06-12T16:50:35.138Z"
   },
   {
    "duration": 13,
    "start_time": "2023-06-12T16:50:35.164Z"
   },
   {
    "duration": 25,
    "start_time": "2023-06-12T16:50:35.179Z"
   },
   {
    "duration": 8,
    "start_time": "2023-06-12T16:50:35.206Z"
   },
   {
    "duration": 4616,
    "start_time": "2023-06-12T16:50:35.215Z"
   },
   {
    "duration": 58473,
    "start_time": "2023-06-12T16:50:39.834Z"
   },
   {
    "duration": 971317,
    "start_time": "2023-06-12T16:51:38.308Z"
   },
   {
    "duration": 69666,
    "start_time": "2023-06-12T17:07:49.627Z"
   },
   {
    "duration": 32268,
    "start_time": "2023-06-12T17:08:59.295Z"
   },
   {
    "duration": 17,
    "start_time": "2023-06-12T17:09:31.565Z"
   },
   {
    "duration": 33082,
    "start_time": "2023-06-12T17:09:31.584Z"
   },
   {
    "duration": 29,
    "start_time": "2023-06-12T17:10:04.668Z"
   }
  ],
  "kernelspec": {
   "display_name": "Python 3 (ipykernel)",
   "language": "python",
   "name": "python3"
  },
  "language_info": {
   "codemirror_mode": {
    "name": "ipython",
    "version": 3
   },
   "file_extension": ".py",
   "mimetype": "text/x-python",
   "name": "python",
   "nbconvert_exporter": "python",
   "pygments_lexer": "ipython3",
   "version": "3.9.5"
  },
  "toc": {
   "base_numbering": 1,
   "nav_menu": {},
   "number_sections": true,
   "sideBar": true,
   "skip_h1_title": true,
   "title_cell": "Содержание",
   "title_sidebar": "Contents",
   "toc_cell": true,
   "toc_position": {
    "height": "calc(100% - 180px)",
    "left": "10px",
    "top": "150px",
    "width": "227px"
   },
   "toc_section_display": true,
   "toc_window_display": true
  }
 },
 "nbformat": 4,
 "nbformat_minor": 2
}
