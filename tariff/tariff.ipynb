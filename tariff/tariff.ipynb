{
 "cells": [
  {
   "cell_type": "markdown",
   "metadata": {},
   "source": [
    "# Рекомендация тарифов"
   ]
  },
  {
   "cell_type": "markdown",
   "metadata": {},
   "source": [
    "В вашем распоряжении данные о поведении клиентов, которые уже перешли на эти тарифы (из проекта курса «Статистический анализ данных»). Нужно построить модель для задачи классификации, которая выберет подходящий тариф. Предобработка данных не понадобится — вы её уже сделали.\n",
    "\n",
    "Постройте модель с максимально большим значением *accuracy*. Чтобы сдать проект успешно, нужно довести долю правильных ответов по крайней мере до 0.75. Проверьте *accuracy* на тестовой выборке самостоятельно."
   ]
  },
  {
   "cell_type": "code",
   "execution_count": 1,
   "metadata": {},
   "outputs": [],
   "source": [
    "import pandas as pd \n",
    "from sklearn.tree import DecisionTreeClassifier\n",
    "from sklearn.ensemble import RandomForestClassifier\n",
    "from sklearn.linear_model import LogisticRegression\n",
    "from sklearn.metrics import accuracy_score\n",
    "from sklearn.model_selection import train_test_split\n"
   ]
  },
  {
   "cell_type": "markdown",
   "metadata": {},
   "source": [
    "## Откройте и изучите файл"
   ]
  },
  {
   "cell_type": "code",
   "execution_count": 2,
   "metadata": {},
   "outputs": [
    {
     "data": {
      "text/html": [
       "<div>\n",
       "<style scoped>\n",
       "    .dataframe tbody tr th:only-of-type {\n",
       "        vertical-align: middle;\n",
       "    }\n",
       "\n",
       "    .dataframe tbody tr th {\n",
       "        vertical-align: top;\n",
       "    }\n",
       "\n",
       "    .dataframe thead th {\n",
       "        text-align: right;\n",
       "    }\n",
       "</style>\n",
       "<table border=\"1\" class=\"dataframe\">\n",
       "  <thead>\n",
       "    <tr style=\"text-align: right;\">\n",
       "      <th></th>\n",
       "      <th>calls</th>\n",
       "      <th>minutes</th>\n",
       "      <th>messages</th>\n",
       "      <th>mb_used</th>\n",
       "      <th>is_ultra</th>\n",
       "    </tr>\n",
       "  </thead>\n",
       "  <tbody>\n",
       "    <tr>\n",
       "      <th>0</th>\n",
       "      <td>40.0</td>\n",
       "      <td>311.90</td>\n",
       "      <td>83.0</td>\n",
       "      <td>19915.42</td>\n",
       "      <td>0</td>\n",
       "    </tr>\n",
       "    <tr>\n",
       "      <th>1</th>\n",
       "      <td>85.0</td>\n",
       "      <td>516.75</td>\n",
       "      <td>56.0</td>\n",
       "      <td>22696.96</td>\n",
       "      <td>0</td>\n",
       "    </tr>\n",
       "    <tr>\n",
       "      <th>2</th>\n",
       "      <td>77.0</td>\n",
       "      <td>467.66</td>\n",
       "      <td>86.0</td>\n",
       "      <td>21060.45</td>\n",
       "      <td>0</td>\n",
       "    </tr>\n",
       "    <tr>\n",
       "      <th>3</th>\n",
       "      <td>106.0</td>\n",
       "      <td>745.53</td>\n",
       "      <td>81.0</td>\n",
       "      <td>8437.39</td>\n",
       "      <td>1</td>\n",
       "    </tr>\n",
       "    <tr>\n",
       "      <th>4</th>\n",
       "      <td>66.0</td>\n",
       "      <td>418.74</td>\n",
       "      <td>1.0</td>\n",
       "      <td>14502.75</td>\n",
       "      <td>0</td>\n",
       "    </tr>\n",
       "  </tbody>\n",
       "</table>\n",
       "</div>"
      ],
      "text/plain": [
       "   calls  minutes  messages   mb_used  is_ultra\n",
       "0   40.0   311.90      83.0  19915.42         0\n",
       "1   85.0   516.75      56.0  22696.96         0\n",
       "2   77.0   467.66      86.0  21060.45         0\n",
       "3  106.0   745.53      81.0   8437.39         1\n",
       "4   66.0   418.74       1.0  14502.75         0"
      ]
     },
     "metadata": {},
     "output_type": "display_data"
    },
    {
     "name": "stdout",
     "output_type": "stream",
     "text": [
      "<class 'pandas.core.frame.DataFrame'>\n",
      "RangeIndex: 3214 entries, 0 to 3213\n",
      "Data columns (total 5 columns):\n",
      " #   Column    Non-Null Count  Dtype  \n",
      "---  ------    --------------  -----  \n",
      " 0   calls     3214 non-null   float64\n",
      " 1   minutes   3214 non-null   float64\n",
      " 2   messages  3214 non-null   float64\n",
      " 3   mb_used   3214 non-null   float64\n",
      " 4   is_ultra  3214 non-null   int64  \n",
      "dtypes: float64(4), int64(1)\n",
      "memory usage: 125.7 KB\n"
     ]
    }
   ],
   "source": [
    "df = pd.read_csv('/datasets/users_behavior.csv')\n",
    "display(df.head())\n",
    "df.info()"
   ]
  },
  {
   "cell_type": "markdown",
   "metadata": {},
   "source": [
    "Так как отдельной тестовой выборки нет, то мы делим исходный датафрейм на 3 выборки (тренировочную, валидационную и тестовую) в соотношении 3:1:1"
   ]
  },
  {
   "cell_type": "markdown",
   "metadata": {},
   "source": [
    "## Разбейте данные на выборки"
   ]
  },
  {
   "cell_type": "code",
   "execution_count": 3,
   "metadata": {},
   "outputs": [
    {
     "name": "stdout",
     "output_type": "stream",
     "text": [
      "(1928, 5)\n",
      "(643, 5)\n",
      "(643, 5)\n"
     ]
    }
   ],
   "source": [
    "train_df, valid_df = train_test_split(df, test_size=0.2, random_state=12345)\n",
    "train_df, test_df = train_test_split(train_df, test_size=0.25, random_state=12345)\n",
    "\n",
    "features_train = train_df.drop(['is_ultra'], axis=1)\n",
    "target_train = train_df['is_ultra']\n",
    "features_valid = valid_df.drop(['is_ultra'], axis=1)\n",
    "target_valid = valid_df['is_ultra']\n",
    "features_test = test_df.drop(['is_ultra'], axis=1)\n",
    "target_test = test_df['is_ultra']\n",
    "\n",
    "print(train_df.shape)\n",
    "print(valid_df.shape)\n",
    "print(test_df.shape)"
   ]
  },
  {
   "cell_type": "markdown",
   "metadata": {},
   "source": [
    "Успешно разбиваем выборки и приступаем к построению моделей"
   ]
  },
  {
   "cell_type": "markdown",
   "metadata": {},
   "source": [
    "## Исследуйте модели"
   ]
  },
  {
   "cell_type": "code",
   "execution_count": 4,
   "metadata": {},
   "outputs": [
    {
     "name": "stdout",
     "output_type": "stream",
     "text": [
      "Accuracy score для модели \"Дерево решений\" на валидационной выборке: 0.7884914463452566 ,\n",
      "на тестовой выборке: 0.7744945567651633 с макс длиной: 7\n"
     ]
    }
   ],
   "source": [
    "best_model = None\n",
    "best_result = 0\n",
    "best_depth = 0\n",
    "\n",
    "for depth in range(1,100):\n",
    "    model = DecisionTreeClassifier(random_state=12345, max_depth=depth)\n",
    "    model.fit(features_train, target_train)\n",
    "    result = model.score(features_valid, target_valid)\n",
    "    if ((result > 0.75) and model.score(features_test, target_test) > best_result):\n",
    "        best_model = model\n",
    "        best_result = model.score(features_test, target_test)\n",
    "        best_result_valid = result\n",
    "        best_depth = depth\n",
    "        \n",
    "\n",
    "print('Accuracy score для модели \"Дерево решений\" на валидационной выборке:', best_result_valid, ',\\nна тестовой выборке:', \\\n",
    "      best_result, 'с макс длиной:', best_depth)\n"
   ]
  },
  {
   "cell_type": "markdown",
   "metadata": {},
   "source": [
    "Модель \"Дерево решений\" имеет неплохие показатели accuracy score на тестовой выборке, но можно заметить, что accuracy score для валидационной выборки выше, скорее всего это связано со спецификой моделей данного типа. Они часто переобучаются и недообучаются. "
   ]
  },
  {
   "cell_type": "code",
   "execution_count": 5,
   "metadata": {},
   "outputs": [
    {
     "name": "stdout",
     "output_type": "stream",
     "text": [
      "Accuracy score для модели \"Случайный лес\" на валидационной выборке: 0.7838258164852255 ,\n",
      "на тестовой выборке: 0.7931570762052877 с макс длиной: 22\n"
     ]
    }
   ],
   "source": [
    "best_model = None\n",
    "best_result = 0\n",
    "best_est = 0\n",
    "\n",
    "for est in range(1,25):\n",
    "    model = RandomForestClassifier(random_state=12345, n_estimators=est)\n",
    "    model.fit(features_train, target_train)\n",
    "    result = model.score(features_valid, target_valid)\n",
    "    if ((result > 0.75) and model.score(features_test, target_test) > best_result):\n",
    "        best_model = model\n",
    "        best_result = model.score(features_test, target_test)\n",
    "        best_result_valid = result\n",
    "        best_est = est\n",
    "\n",
    "print('Accuracy score для модели \"Случайный лес\" на валидационной выборке:', best_result_valid, ',\\nна тестовой выборке:', \\\n",
    "      best_result, 'с макс длиной:', best_est)"
   ]
  },
  {
   "cell_type": "markdown",
   "metadata": {},
   "source": [
    "\" Accuracy score для модели \"Случайный лес\" на валидационной выборке: 0.7900466562986003 ,\n",
    "на тестовой выборке: 0.7993779160186625 с макс длиной: 65 \" - такой результат можно получить при n_estimators = 65, но процесс вычисления результата занимает сильно больше времени по сравнению с n_estimators = 22, когда значение accuracy_score мы получем очень близкое: 0.7931570762052877. Разница в 6% может быть и существенна, но зато мы сильно снижаем время подсчета\n"
   ]
  },
  {
   "cell_type": "code",
   "execution_count": 6,
   "metadata": {},
   "outputs": [
    {
     "name": "stdout",
     "output_type": "stream",
     "text": [
      "Accuracy score для модели \"Логистическая регрессия\" на валидационной выборке: 0.7589424572317263 ,\n",
      "на тестовой выборке: 0.7262830482115086\n"
     ]
    }
   ],
   "source": [
    "model = LogisticRegression(random_state=12345, solver='lbfgs', max_iter=1000)\n",
    "model.fit(features_train, target_train)\n",
    "\n",
    "print('Accuracy score для модели \"Логистическая регрессия\" на валидационной выборке:', model.score(features_valid, target_valid), ',\\nна тестовой выборке:', \\\n",
    "      model.score(features_test, target_test))"
   ]
  },
  {
   "cell_type": "markdown",
   "metadata": {},
   "source": [
    "Модель типа \"логистическая регрессия\" имеет accuracy score на тестовой выборке менее 75%, что означает, что она нам не подходит."
   ]
  },
  {
   "cell_type": "markdown",
   "metadata": {},
   "source": [
    "По результатм исследования, лучшей моделью для данного задания оказался \"случайный лес\" с показателем accuracy score = 0.7931570762052877"
   ]
  },
  {
   "cell_type": "code",
   "execution_count": 7,
   "metadata": {},
   "outputs": [
    {
     "data": {
      "text/plain": [
       "RandomForestClassifier(n_estimators=22, random_state=12345)"
      ]
     },
     "execution_count": 7,
     "metadata": {},
     "output_type": "execute_result"
    }
   ],
   "source": [
    "best_model = RandomForestClassifier(random_state=12345, n_estimators=22)\n",
    "best_model.fit(features_train, target_train)"
   ]
  },
  {
   "cell_type": "markdown",
   "metadata": {},
   "source": [
    "## Проверка модели на адекватность"
   ]
  },
  {
   "cell_type": "markdown",
   "metadata": {},
   "source": [
    "Для выполенния проверки модели на вменяемость, создадим константную модель и сравним ее показатель accuracy score с показателем для нашей модели. Если результат будет положительный, то наша модель будет считаться вменяемойб а если нет, то бесполезной."
   ]
  },
  {
   "cell_type": "code",
   "execution_count": 8,
   "metadata": {},
   "outputs": [
    {
     "name": "stdout",
     "output_type": "stream",
     "text": [
      "Разница между качеством лучшей из обученных моделей и константной моделью = 0.10419906687402802\n"
     ]
    }
   ],
   "source": [
    "target_allzero_predicion_constant = pd.Series([0] * len(target_test))\n",
    "print('Разница между качеством лучшей из обученных моделей и константной моделью =', best_model.score(features_test, target_test)-accuracy_score(target_allzero_predicion_constant, target_test))"
   ]
  },
  {
   "cell_type": "markdown",
   "metadata": {},
   "source": [
    "Результат положительный, следовательно, обученная модель вменяема (адекватна)"
   ]
  }
 ],
 "metadata": {
  "ExecuteTimeLog": [
   {
    "duration": 401,
    "start_time": "2023-04-04T14:46:53.482Z"
   },
   {
    "duration": 162,
    "start_time": "2023-04-04T14:47:09.570Z"
   },
   {
    "duration": 39,
    "start_time": "2023-04-04T14:47:18.782Z"
   },
   {
    "duration": 61,
    "start_time": "2023-04-04T14:47:30.140Z"
   },
   {
    "duration": 848,
    "start_time": "2023-04-04T14:50:01.311Z"
   },
   {
    "duration": 146,
    "start_time": "2023-04-04T15:04:45.322Z"
   },
   {
    "duration": 26,
    "start_time": "2023-04-04T15:04:48.404Z"
   },
   {
    "duration": 17,
    "start_time": "2023-04-04T15:07:18.799Z"
   },
   {
    "duration": 14,
    "start_time": "2023-04-04T15:07:23.299Z"
   },
   {
    "duration": 28,
    "start_time": "2023-04-04T15:24:43.476Z"
   },
   {
    "duration": 48,
    "start_time": "2023-04-04T15:25:19.773Z"
   },
   {
    "duration": 43,
    "start_time": "2023-04-04T15:25:28.697Z"
   },
   {
    "duration": 42,
    "start_time": "2023-04-04T15:25:36.677Z"
   },
   {
    "duration": 40,
    "start_time": "2023-04-04T15:25:51.072Z"
   },
   {
    "duration": 62,
    "start_time": "2023-04-04T15:25:53.358Z"
   },
   {
    "duration": 50,
    "start_time": "2023-04-04T15:28:49.109Z"
   },
   {
    "duration": 399,
    "start_time": "2023-04-04T15:32:09.764Z"
   },
   {
    "duration": 289,
    "start_time": "2023-04-04T15:32:43.986Z"
   },
   {
    "duration": 41,
    "start_time": "2023-04-04T15:36:54.343Z"
   },
   {
    "duration": 36,
    "start_time": "2023-04-04T15:37:58.485Z"
   },
   {
    "duration": 34,
    "start_time": "2023-04-04T15:38:02.575Z"
   },
   {
    "duration": 1174,
    "start_time": "2023-04-04T15:40:18.422Z"
   },
   {
    "duration": 45,
    "start_time": "2023-04-04T15:40:19.598Z"
   },
   {
    "duration": 26,
    "start_time": "2023-04-04T15:40:19.645Z"
   },
   {
    "duration": 47,
    "start_time": "2023-04-04T15:40:19.673Z"
   },
   {
    "duration": 289,
    "start_time": "2023-04-04T15:40:19.722Z"
   },
   {
    "duration": 61,
    "start_time": "2023-04-04T15:40:20.013Z"
   },
   {
    "duration": 118,
    "start_time": "2023-04-04T15:41:57.323Z"
   },
   {
    "duration": 1410,
    "start_time": "2023-04-04T15:42:02.177Z"
   },
   {
    "duration": 139,
    "start_time": "2023-04-04T15:46:47.701Z"
   },
   {
    "duration": 1376,
    "start_time": "2023-04-04T15:48:22.769Z"
   },
   {
    "duration": 21445,
    "start_time": "2023-04-04T15:51:03.664Z"
   },
   {
    "duration": 1504,
    "start_time": "2023-04-04T15:51:33.423Z"
   },
   {
    "duration": 132,
    "start_time": "2023-04-04T15:52:27.870Z"
   },
   {
    "duration": 248,
    "start_time": "2023-04-04T15:52:37.573Z"
   },
   {
    "duration": 1136,
    "start_time": "2023-04-04T15:52:40.988Z"
   },
   {
    "duration": 28,
    "start_time": "2023-04-04T15:52:55.686Z"
   },
   {
    "duration": 33,
    "start_time": "2023-04-04T15:53:00.396Z"
   },
   {
    "duration": 33029,
    "start_time": "2023-04-04T15:53:15.067Z"
   },
   {
    "duration": 1463,
    "start_time": "2023-04-04T15:54:57.820Z"
   },
   {
    "duration": 6626,
    "start_time": "2023-04-04T15:57:32.691Z"
   },
   {
    "duration": 107,
    "start_time": "2023-04-04T15:58:06.106Z"
   },
   {
    "duration": 283,
    "start_time": "2023-04-04T15:58:37.936Z"
   },
   {
    "duration": 1392,
    "start_time": "2023-04-04T15:59:09.801Z"
   },
   {
    "duration": 4,
    "start_time": "2023-04-04T16:41:47.438Z"
   },
   {
    "duration": 4,
    "start_time": "2023-04-04T16:43:10.390Z"
   },
   {
    "duration": 2,
    "start_time": "2023-04-04T16:43:53.498Z"
   },
   {
    "duration": 5,
    "start_time": "2023-04-04T16:43:56.320Z"
   },
   {
    "duration": 11,
    "start_time": "2023-04-04T16:44:41.886Z"
   },
   {
    "duration": 11,
    "start_time": "2023-04-04T16:45:11.258Z"
   },
   {
    "duration": 14,
    "start_time": "2023-04-04T16:46:57.167Z"
   },
   {
    "duration": 15,
    "start_time": "2023-04-04T16:47:17.442Z"
   },
   {
    "duration": 15,
    "start_time": "2023-04-04T16:47:42.073Z"
   },
   {
    "duration": 96,
    "start_time": "2023-04-04T16:48:27.944Z"
   },
   {
    "duration": 13,
    "start_time": "2023-04-04T16:48:35.235Z"
   },
   {
    "duration": 14,
    "start_time": "2023-04-04T16:48:42.074Z"
   },
   {
    "duration": 86,
    "start_time": "2023-04-04T16:48:50.294Z"
   },
   {
    "duration": 10,
    "start_time": "2023-04-04T16:48:52.635Z"
   },
   {
    "duration": 46,
    "start_time": "2023-04-04T16:51:34.550Z"
   },
   {
    "duration": 41,
    "start_time": "2023-04-04T16:51:38.149Z"
   },
   {
    "duration": 10,
    "start_time": "2023-04-04T16:52:14.780Z"
   },
   {
    "duration": 13,
    "start_time": "2023-04-04T17:06:59.722Z"
   },
   {
    "duration": 988,
    "start_time": "2023-04-04T17:09:06.387Z"
   },
   {
    "duration": 45,
    "start_time": "2023-04-04T17:09:07.376Z"
   },
   {
    "duration": 9,
    "start_time": "2023-04-04T17:09:07.422Z"
   },
   {
    "duration": 921,
    "start_time": "2023-04-04T17:09:07.432Z"
   },
   {
    "duration": 1207,
    "start_time": "2023-04-04T17:09:08.355Z"
   },
   {
    "duration": 29,
    "start_time": "2023-04-04T17:09:09.564Z"
   },
   {
    "duration": 98,
    "start_time": "2023-04-04T17:09:09.594Z"
   },
   {
    "duration": 10,
    "start_time": "2023-04-04T17:09:09.693Z"
   },
   {
    "duration": 2333,
    "start_time": "2023-04-04T17:12:38.311Z"
   },
   {
    "duration": 48,
    "start_time": "2023-04-04T17:12:40.646Z"
   },
   {
    "duration": 16,
    "start_time": "2023-04-04T17:12:40.696Z"
   },
   {
    "duration": 1174,
    "start_time": "2023-04-04T17:12:40.715Z"
   },
   {
    "duration": 1495,
    "start_time": "2023-04-04T17:12:41.891Z"
   },
   {
    "duration": 44,
    "start_time": "2023-04-04T17:12:43.390Z"
   },
   {
    "duration": 110,
    "start_time": "2023-04-04T17:12:43.436Z"
   },
   {
    "duration": 20,
    "start_time": "2023-04-04T17:12:43.548Z"
   },
   {
    "duration": 51,
    "start_time": "2023-04-05T12:19:41.849Z"
   },
   {
    "duration": 1161,
    "start_time": "2023-04-05T12:19:50.525Z"
   },
   {
    "duration": 93,
    "start_time": "2023-04-05T12:19:51.688Z"
   },
   {
    "duration": 120,
    "start_time": "2023-04-05T12:19:51.783Z"
   },
   {
    "duration": 0,
    "start_time": "2023-04-05T12:19:51.905Z"
   },
   {
    "duration": 0,
    "start_time": "2023-04-05T12:19:51.906Z"
   },
   {
    "duration": 0,
    "start_time": "2023-04-05T12:19:51.907Z"
   },
   {
    "duration": 0,
    "start_time": "2023-04-05T12:19:51.908Z"
   },
   {
    "duration": 0,
    "start_time": "2023-04-05T12:19:51.909Z"
   },
   {
    "duration": 55,
    "start_time": "2023-04-05T12:20:26.415Z"
   },
   {
    "duration": 10,
    "start_time": "2023-04-05T12:20:29.010Z"
   },
   {
    "duration": 11,
    "start_time": "2023-04-05T12:20:49.948Z"
   },
   {
    "duration": 1081,
    "start_time": "2023-04-06T12:41:54.884Z"
   },
   {
    "duration": 97,
    "start_time": "2023-04-06T12:41:55.967Z"
   },
   {
    "duration": 19,
    "start_time": "2023-04-06T12:41:56.065Z"
   },
   {
    "duration": 934,
    "start_time": "2023-04-06T12:41:56.086Z"
   },
   {
    "duration": 1265,
    "start_time": "2023-04-06T12:41:57.022Z"
   },
   {
    "duration": 35,
    "start_time": "2023-04-06T12:41:58.289Z"
   },
   {
    "duration": 96,
    "start_time": "2023-04-06T12:41:58.326Z"
   },
   {
    "duration": 13,
    "start_time": "2023-04-06T12:41:58.423Z"
   }
  ],
  "kernelspec": {
   "display_name": "Python 3 (ipykernel)",
   "language": "python",
   "name": "python3"
  },
  "language_info": {
   "codemirror_mode": {
    "name": "ipython",
    "version": 3
   },
   "file_extension": ".py",
   "mimetype": "text/x-python",
   "name": "python",
   "nbconvert_exporter": "python",
   "pygments_lexer": "ipython3",
   "version": "3.9.12"
  },
  "toc": {
   "base_numbering": 1,
   "nav_menu": {},
   "number_sections": true,
   "sideBar": true,
   "skip_h1_title": true,
   "title_cell": "Table of Contents",
   "title_sidebar": "Contents",
   "toc_cell": false,
   "toc_position": {
    "height": "calc(100% - 180px)",
    "left": "10px",
    "top": "150px",
    "width": "303px"
   },
   "toc_section_display": true,
   "toc_window_display": true
  }
 },
 "nbformat": 4,
 "nbformat_minor": 2
}
