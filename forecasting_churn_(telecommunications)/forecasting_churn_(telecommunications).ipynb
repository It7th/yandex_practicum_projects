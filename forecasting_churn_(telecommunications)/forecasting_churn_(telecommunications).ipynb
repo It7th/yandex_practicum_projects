{
 "cells": [
  {
   "cell_type": "code",
   "execution_count": 1,
   "metadata": {},
   "outputs": [
    {
     "name": "stdout",
     "output_type": "stream",
     "text": [
      "Collecting phik\n",
      "  Downloading phik-0.12.3-cp39-cp39-manylinux_2_17_x86_64.manylinux2014_x86_64.whl (679 kB)\n",
      "\u001b[K     |████████████████████████████████| 679 kB 1.1 MB/s eta 0:00:01\n",
      "\u001b[?25hRequirement already satisfied: scipy>=1.5.2 in /opt/conda/lib/python3.9/site-packages (from phik) (1.9.1)\n",
      "Requirement already satisfied: numpy>=1.18.0 in /opt/conda/lib/python3.9/site-packages (from phik) (1.21.1)\n",
      "Requirement already satisfied: matplotlib>=2.2.3 in /opt/conda/lib/python3.9/site-packages (from phik) (3.3.4)\n",
      "Requirement already satisfied: joblib>=0.14.1 in /opt/conda/lib/python3.9/site-packages (from phik) (1.1.0)\n",
      "Requirement already satisfied: pandas>=0.25.1 in /opt/conda/lib/python3.9/site-packages (from phik) (1.2.4)\n",
      "Requirement already satisfied: pillow>=6.2.0 in /opt/conda/lib/python3.9/site-packages (from matplotlib>=2.2.3->phik) (8.4.0)\n",
      "Requirement already satisfied: python-dateutil>=2.1 in /opt/conda/lib/python3.9/site-packages (from matplotlib>=2.2.3->phik) (2.8.1)\n",
      "Requirement already satisfied: pyparsing!=2.0.4,!=2.1.2,!=2.1.6,>=2.0.3 in /opt/conda/lib/python3.9/site-packages (from matplotlib>=2.2.3->phik) (2.4.7)\n",
      "Requirement already satisfied: kiwisolver>=1.0.1 in /opt/conda/lib/python3.9/site-packages (from matplotlib>=2.2.3->phik) (1.4.4)\n",
      "Requirement already satisfied: cycler>=0.10 in /opt/conda/lib/python3.9/site-packages (from matplotlib>=2.2.3->phik) (0.11.0)\n",
      "Requirement already satisfied: pytz>=2017.3 in /opt/conda/lib/python3.9/site-packages (from pandas>=0.25.1->phik) (2021.1)\n",
      "Requirement already satisfied: six>=1.5 in /opt/conda/lib/python3.9/site-packages (from python-dateutil>=2.1->matplotlib>=2.2.3->phik) (1.16.0)\n",
      "Installing collected packages: phik\n",
      "Successfully installed phik-0.12.3\n"
     ]
    }
   ],
   "source": [
    "!pip3 install phik"
   ]
  },
  {
   "cell_type": "code",
   "execution_count": 2,
   "metadata": {},
   "outputs": [
    {
     "name": "stdout",
     "output_type": "stream",
     "text": [
      "Collecting category_encoders\n",
      "  Downloading category_encoders-2.6.2-py2.py3-none-any.whl (81 kB)\n",
      "\u001b[K     |████████████████████████████████| 81 kB 1.0 MB/s eta 0:00:011\n",
      "\u001b[?25hRequirement already satisfied: scikit-learn>=0.20.0 in /opt/conda/lib/python3.9/site-packages (from category_encoders) (0.24.1)\n",
      "Requirement already satisfied: numpy>=1.14.0 in /opt/conda/lib/python3.9/site-packages (from category_encoders) (1.21.1)\n",
      "Requirement already satisfied: patsy>=0.5.1 in /opt/conda/lib/python3.9/site-packages (from category_encoders) (0.5.2)\n",
      "Requirement already satisfied: pandas>=1.0.5 in /opt/conda/lib/python3.9/site-packages (from category_encoders) (1.2.4)\n",
      "Requirement already satisfied: scipy>=1.0.0 in /opt/conda/lib/python3.9/site-packages (from category_encoders) (1.9.1)\n",
      "Requirement already satisfied: statsmodels>=0.9.0 in /opt/conda/lib/python3.9/site-packages (from category_encoders) (0.13.2)\n",
      "Requirement already satisfied: python-dateutil>=2.7.3 in /opt/conda/lib/python3.9/site-packages (from pandas>=1.0.5->category_encoders) (2.8.1)\n",
      "Requirement already satisfied: pytz>=2017.3 in /opt/conda/lib/python3.9/site-packages (from pandas>=1.0.5->category_encoders) (2021.1)\n",
      "Requirement already satisfied: six in /opt/conda/lib/python3.9/site-packages (from patsy>=0.5.1->category_encoders) (1.16.0)\n",
      "Requirement already satisfied: joblib>=0.11 in /opt/conda/lib/python3.9/site-packages (from scikit-learn>=0.20.0->category_encoders) (1.1.0)\n",
      "Requirement already satisfied: threadpoolctl>=2.0.0 in /opt/conda/lib/python3.9/site-packages (from scikit-learn>=0.20.0->category_encoders) (3.1.0)\n",
      "Requirement already satisfied: packaging>=21.3 in /opt/conda/lib/python3.9/site-packages (from statsmodels>=0.9.0->category_encoders) (21.3)\n",
      "Requirement already satisfied: pyparsing!=3.0.5,>=2.0.2 in /opt/conda/lib/python3.9/site-packages (from packaging>=21.3->statsmodels>=0.9.0->category_encoders) (2.4.7)\n",
      "Installing collected packages: category-encoders\n",
      "Successfully installed category-encoders-2.6.2\n"
     ]
    }
   ],
   "source": [
    "!pip3 install category_encoders"
   ]
  },
  {
   "cell_type": "code",
   "execution_count": 3,
   "metadata": {},
   "outputs": [
    {
     "name": "stdout",
     "output_type": "stream",
     "text": [
      "Collecting scikit-learn==1.1.3\n",
      "  Downloading scikit_learn-1.1.3-cp39-cp39-manylinux_2_17_x86_64.manylinux2014_x86_64.whl (30.8 MB)\n",
      "\u001b[K     |████████████████████████████████| 30.8 MB 46 kB/s  eta 0:00:01\n",
      "\u001b[?25hRequirement already satisfied: joblib>=1.0.0 in /opt/conda/lib/python3.9/site-packages (from scikit-learn==1.1.3) (1.1.0)\n",
      "Requirement already satisfied: numpy>=1.17.3 in /opt/conda/lib/python3.9/site-packages (from scikit-learn==1.1.3) (1.21.1)\n",
      "Requirement already satisfied: threadpoolctl>=2.0.0 in /opt/conda/lib/python3.9/site-packages (from scikit-learn==1.1.3) (3.1.0)\n",
      "Requirement already satisfied: scipy>=1.3.2 in /opt/conda/lib/python3.9/site-packages (from scikit-learn==1.1.3) (1.9.1)\n",
      "Installing collected packages: scikit-learn\n",
      "  Attempting uninstall: scikit-learn\n",
      "    Found existing installation: scikit-learn 0.24.1\n",
      "    Uninstalling scikit-learn-0.24.1:\n",
      "      Successfully uninstalled scikit-learn-0.24.1\n",
      "Successfully installed scikit-learn-1.1.3\n"
     ]
    }
   ],
   "source": [
    "!pip install scikit-learn==1.1.3"
   ]
  },
  {
   "cell_type": "code",
   "execution_count": 4,
   "metadata": {},
   "outputs": [],
   "source": [
    "import pandas as pd\n",
    "import numpy as np\n",
    "import matplotlib.pyplot as plt\n",
    "import re\n",
    "import seaborn as sns\n",
    "import phik\n",
    "import sklearn\n",
    "from sklearn.model_selection import train_test_split, RandomizedSearchCV\n",
    "from sklearn.preprocessing import OneHotEncoder, StandardScaler\n",
    "from sklearn.pipeline import Pipeline, make_pipeline\n",
    "from sklearn.linear_model import LogisticRegression\n",
    "from sklearn.ensemble import RandomForestClassifier\n",
    "from sklearn.metrics import roc_auc_score, roc_curve, confusion_matrix, accuracy_score\n",
    "import category_encoders as ce\n",
    "from catboost import CatBoostClassifier\n",
    "import warnings\n",
    "warnings.filterwarnings(\"ignore\")"
   ]
  },
  {
   "cell_type": "code",
   "execution_count": 5,
   "metadata": {},
   "outputs": [
    {
     "data": {
      "text/html": [
       "<div>\n",
       "<style scoped>\n",
       "    .dataframe tbody tr th:only-of-type {\n",
       "        vertical-align: middle;\n",
       "    }\n",
       "\n",
       "    .dataframe tbody tr th {\n",
       "        vertical-align: top;\n",
       "    }\n",
       "\n",
       "    .dataframe thead th {\n",
       "        text-align: right;\n",
       "    }\n",
       "</style>\n",
       "<table border=\"1\" class=\"dataframe\">\n",
       "  <thead>\n",
       "    <tr style=\"text-align: right;\">\n",
       "      <th></th>\n",
       "      <th>customerID</th>\n",
       "      <th>BeginDate</th>\n",
       "      <th>EndDate</th>\n",
       "      <th>Type</th>\n",
       "      <th>PaperlessBilling</th>\n",
       "      <th>PaymentMethod</th>\n",
       "      <th>MonthlyCharges</th>\n",
       "      <th>TotalCharges</th>\n",
       "    </tr>\n",
       "  </thead>\n",
       "  <tbody>\n",
       "    <tr>\n",
       "      <th>0</th>\n",
       "      <td>7590-VHVEG</td>\n",
       "      <td>2020-01-01</td>\n",
       "      <td>No</td>\n",
       "      <td>Month-to-month</td>\n",
       "      <td>Yes</td>\n",
       "      <td>Electronic check</td>\n",
       "      <td>29.85</td>\n",
       "      <td>31.04</td>\n",
       "    </tr>\n",
       "    <tr>\n",
       "      <th>1</th>\n",
       "      <td>5575-GNVDE</td>\n",
       "      <td>2017-04-01</td>\n",
       "      <td>No</td>\n",
       "      <td>One year</td>\n",
       "      <td>No</td>\n",
       "      <td>Mailed check</td>\n",
       "      <td>56.95</td>\n",
       "      <td>2071.84</td>\n",
       "    </tr>\n",
       "    <tr>\n",
       "      <th>2</th>\n",
       "      <td>3668-QPYBK</td>\n",
       "      <td>2019-10-01</td>\n",
       "      <td>No</td>\n",
       "      <td>Month-to-month</td>\n",
       "      <td>Yes</td>\n",
       "      <td>Mailed check</td>\n",
       "      <td>53.85</td>\n",
       "      <td>226.17</td>\n",
       "    </tr>\n",
       "    <tr>\n",
       "      <th>3</th>\n",
       "      <td>7795-CFOCW</td>\n",
       "      <td>2016-05-01</td>\n",
       "      <td>No</td>\n",
       "      <td>One year</td>\n",
       "      <td>No</td>\n",
       "      <td>Bank transfer (automatic)</td>\n",
       "      <td>42.30</td>\n",
       "      <td>1960.6</td>\n",
       "    </tr>\n",
       "    <tr>\n",
       "      <th>4</th>\n",
       "      <td>9237-HQITU</td>\n",
       "      <td>2019-09-01</td>\n",
       "      <td>No</td>\n",
       "      <td>Month-to-month</td>\n",
       "      <td>Yes</td>\n",
       "      <td>Electronic check</td>\n",
       "      <td>70.70</td>\n",
       "      <td>353.5</td>\n",
       "    </tr>\n",
       "    <tr>\n",
       "      <th>...</th>\n",
       "      <td>...</td>\n",
       "      <td>...</td>\n",
       "      <td>...</td>\n",
       "      <td>...</td>\n",
       "      <td>...</td>\n",
       "      <td>...</td>\n",
       "      <td>...</td>\n",
       "      <td>...</td>\n",
       "    </tr>\n",
       "    <tr>\n",
       "      <th>7038</th>\n",
       "      <td>6840-RESVB</td>\n",
       "      <td>2018-02-01</td>\n",
       "      <td>No</td>\n",
       "      <td>One year</td>\n",
       "      <td>Yes</td>\n",
       "      <td>Mailed check</td>\n",
       "      <td>84.80</td>\n",
       "      <td>2035.2</td>\n",
       "    </tr>\n",
       "    <tr>\n",
       "      <th>7039</th>\n",
       "      <td>2234-XADUH</td>\n",
       "      <td>2014-02-01</td>\n",
       "      <td>No</td>\n",
       "      <td>One year</td>\n",
       "      <td>Yes</td>\n",
       "      <td>Credit card (automatic)</td>\n",
       "      <td>103.20</td>\n",
       "      <td>7430.4</td>\n",
       "    </tr>\n",
       "    <tr>\n",
       "      <th>7040</th>\n",
       "      <td>4801-JZAZL</td>\n",
       "      <td>2019-03-01</td>\n",
       "      <td>No</td>\n",
       "      <td>Month-to-month</td>\n",
       "      <td>Yes</td>\n",
       "      <td>Electronic check</td>\n",
       "      <td>29.60</td>\n",
       "      <td>325.6</td>\n",
       "    </tr>\n",
       "    <tr>\n",
       "      <th>7041</th>\n",
       "      <td>8361-LTMKD</td>\n",
       "      <td>2019-07-01</td>\n",
       "      <td>No</td>\n",
       "      <td>Month-to-month</td>\n",
       "      <td>Yes</td>\n",
       "      <td>Mailed check</td>\n",
       "      <td>74.40</td>\n",
       "      <td>520.8</td>\n",
       "    </tr>\n",
       "    <tr>\n",
       "      <th>7042</th>\n",
       "      <td>3186-AJIEK</td>\n",
       "      <td>2014-08-01</td>\n",
       "      <td>No</td>\n",
       "      <td>Two year</td>\n",
       "      <td>Yes</td>\n",
       "      <td>Bank transfer (automatic)</td>\n",
       "      <td>105.65</td>\n",
       "      <td>7251.82</td>\n",
       "    </tr>\n",
       "  </tbody>\n",
       "</table>\n",
       "<p>7043 rows × 8 columns</p>\n",
       "</div>"
      ],
      "text/plain": [
       "      customerID   BeginDate EndDate            Type PaperlessBilling  \\\n",
       "0     7590-VHVEG  2020-01-01      No  Month-to-month              Yes   \n",
       "1     5575-GNVDE  2017-04-01      No        One year               No   \n",
       "2     3668-QPYBK  2019-10-01      No  Month-to-month              Yes   \n",
       "3     7795-CFOCW  2016-05-01      No        One year               No   \n",
       "4     9237-HQITU  2019-09-01      No  Month-to-month              Yes   \n",
       "...          ...         ...     ...             ...              ...   \n",
       "7038  6840-RESVB  2018-02-01      No        One year              Yes   \n",
       "7039  2234-XADUH  2014-02-01      No        One year              Yes   \n",
       "7040  4801-JZAZL  2019-03-01      No  Month-to-month              Yes   \n",
       "7041  8361-LTMKD  2019-07-01      No  Month-to-month              Yes   \n",
       "7042  3186-AJIEK  2014-08-01      No        Two year              Yes   \n",
       "\n",
       "                  PaymentMethod  MonthlyCharges TotalCharges  \n",
       "0              Electronic check           29.85        31.04  \n",
       "1                  Mailed check           56.95      2071.84  \n",
       "2                  Mailed check           53.85       226.17  \n",
       "3     Bank transfer (automatic)           42.30       1960.6  \n",
       "4              Electronic check           70.70        353.5  \n",
       "...                         ...             ...          ...  \n",
       "7038               Mailed check           84.80       2035.2  \n",
       "7039    Credit card (automatic)          103.20       7430.4  \n",
       "7040           Electronic check           29.60        325.6  \n",
       "7041               Mailed check           74.40        520.8  \n",
       "7042  Bank transfer (automatic)          105.65      7251.82  \n",
       "\n",
       "[7043 rows x 8 columns]"
      ]
     },
     "execution_count": 5,
     "metadata": {},
     "output_type": "execute_result"
    }
   ],
   "source": [
    "contract = pd.read_csv('/datasets/contract_new.csv') \n",
    "personal = pd.read_csv('/datasets/personal_new.csv') \n",
    "internet = pd.read_csv('/datasets/internet_new.csv') \n",
    "phone = pd.read_csv('/datasets/phone_new.csv') \n",
    "contract"
   ]
  },
  {
   "cell_type": "markdown",
   "metadata": {},
   "source": [
    "## Предварительный анализ"
   ]
  },
  {
   "cell_type": "code",
   "execution_count": 6,
   "metadata": {},
   "outputs": [
    {
     "data": {
      "text/html": [
       "<div>\n",
       "<style scoped>\n",
       "    .dataframe tbody tr th:only-of-type {\n",
       "        vertical-align: middle;\n",
       "    }\n",
       "\n",
       "    .dataframe tbody tr th {\n",
       "        vertical-align: top;\n",
       "    }\n",
       "\n",
       "    .dataframe thead th {\n",
       "        text-align: right;\n",
       "    }\n",
       "</style>\n",
       "<table border=\"1\" class=\"dataframe\">\n",
       "  <thead>\n",
       "    <tr style=\"text-align: right;\">\n",
       "      <th></th>\n",
       "      <th>customerID</th>\n",
       "      <th>gender</th>\n",
       "      <th>SeniorCitizen</th>\n",
       "      <th>Partner</th>\n",
       "      <th>Dependents</th>\n",
       "    </tr>\n",
       "  </thead>\n",
       "  <tbody>\n",
       "    <tr>\n",
       "      <th>0</th>\n",
       "      <td>7590-VHVEG</td>\n",
       "      <td>Female</td>\n",
       "      <td>0</td>\n",
       "      <td>Yes</td>\n",
       "      <td>No</td>\n",
       "    </tr>\n",
       "    <tr>\n",
       "      <th>1</th>\n",
       "      <td>5575-GNVDE</td>\n",
       "      <td>Male</td>\n",
       "      <td>0</td>\n",
       "      <td>No</td>\n",
       "      <td>No</td>\n",
       "    </tr>\n",
       "    <tr>\n",
       "      <th>2</th>\n",
       "      <td>3668-QPYBK</td>\n",
       "      <td>Male</td>\n",
       "      <td>0</td>\n",
       "      <td>No</td>\n",
       "      <td>No</td>\n",
       "    </tr>\n",
       "    <tr>\n",
       "      <th>3</th>\n",
       "      <td>7795-CFOCW</td>\n",
       "      <td>Male</td>\n",
       "      <td>0</td>\n",
       "      <td>No</td>\n",
       "      <td>No</td>\n",
       "    </tr>\n",
       "    <tr>\n",
       "      <th>4</th>\n",
       "      <td>9237-HQITU</td>\n",
       "      <td>Female</td>\n",
       "      <td>0</td>\n",
       "      <td>No</td>\n",
       "      <td>No</td>\n",
       "    </tr>\n",
       "    <tr>\n",
       "      <th>...</th>\n",
       "      <td>...</td>\n",
       "      <td>...</td>\n",
       "      <td>...</td>\n",
       "      <td>...</td>\n",
       "      <td>...</td>\n",
       "    </tr>\n",
       "    <tr>\n",
       "      <th>7038</th>\n",
       "      <td>6840-RESVB</td>\n",
       "      <td>Male</td>\n",
       "      <td>0</td>\n",
       "      <td>Yes</td>\n",
       "      <td>Yes</td>\n",
       "    </tr>\n",
       "    <tr>\n",
       "      <th>7039</th>\n",
       "      <td>2234-XADUH</td>\n",
       "      <td>Female</td>\n",
       "      <td>0</td>\n",
       "      <td>Yes</td>\n",
       "      <td>Yes</td>\n",
       "    </tr>\n",
       "    <tr>\n",
       "      <th>7040</th>\n",
       "      <td>4801-JZAZL</td>\n",
       "      <td>Female</td>\n",
       "      <td>0</td>\n",
       "      <td>Yes</td>\n",
       "      <td>Yes</td>\n",
       "    </tr>\n",
       "    <tr>\n",
       "      <th>7041</th>\n",
       "      <td>8361-LTMKD</td>\n",
       "      <td>Male</td>\n",
       "      <td>1</td>\n",
       "      <td>Yes</td>\n",
       "      <td>No</td>\n",
       "    </tr>\n",
       "    <tr>\n",
       "      <th>7042</th>\n",
       "      <td>3186-AJIEK</td>\n",
       "      <td>Male</td>\n",
       "      <td>0</td>\n",
       "      <td>No</td>\n",
       "      <td>No</td>\n",
       "    </tr>\n",
       "  </tbody>\n",
       "</table>\n",
       "<p>7043 rows × 5 columns</p>\n",
       "</div>"
      ],
      "text/plain": [
       "      customerID  gender  SeniorCitizen Partner Dependents\n",
       "0     7590-VHVEG  Female              0     Yes         No\n",
       "1     5575-GNVDE    Male              0      No         No\n",
       "2     3668-QPYBK    Male              0      No         No\n",
       "3     7795-CFOCW    Male              0      No         No\n",
       "4     9237-HQITU  Female              0      No         No\n",
       "...          ...     ...            ...     ...        ...\n",
       "7038  6840-RESVB    Male              0     Yes        Yes\n",
       "7039  2234-XADUH  Female              0     Yes        Yes\n",
       "7040  4801-JZAZL  Female              0     Yes        Yes\n",
       "7041  8361-LTMKD    Male              1     Yes         No\n",
       "7042  3186-AJIEK    Male              0      No         No\n",
       "\n",
       "[7043 rows x 5 columns]"
      ]
     },
     "execution_count": 6,
     "metadata": {},
     "output_type": "execute_result"
    }
   ],
   "source": [
    "personal"
   ]
  },
  {
   "cell_type": "code",
   "execution_count": 7,
   "metadata": {},
   "outputs": [
    {
     "data": {
      "text/html": [
       "<div>\n",
       "<style scoped>\n",
       "    .dataframe tbody tr th:only-of-type {\n",
       "        vertical-align: middle;\n",
       "    }\n",
       "\n",
       "    .dataframe tbody tr th {\n",
       "        vertical-align: top;\n",
       "    }\n",
       "\n",
       "    .dataframe thead th {\n",
       "        text-align: right;\n",
       "    }\n",
       "</style>\n",
       "<table border=\"1\" class=\"dataframe\">\n",
       "  <thead>\n",
       "    <tr style=\"text-align: right;\">\n",
       "      <th></th>\n",
       "      <th>customerID</th>\n",
       "      <th>InternetService</th>\n",
       "      <th>OnlineSecurity</th>\n",
       "      <th>OnlineBackup</th>\n",
       "      <th>DeviceProtection</th>\n",
       "      <th>TechSupport</th>\n",
       "      <th>StreamingTV</th>\n",
       "      <th>StreamingMovies</th>\n",
       "    </tr>\n",
       "  </thead>\n",
       "  <tbody>\n",
       "    <tr>\n",
       "      <th>0</th>\n",
       "      <td>7590-VHVEG</td>\n",
       "      <td>DSL</td>\n",
       "      <td>No</td>\n",
       "      <td>Yes</td>\n",
       "      <td>No</td>\n",
       "      <td>No</td>\n",
       "      <td>No</td>\n",
       "      <td>No</td>\n",
       "    </tr>\n",
       "    <tr>\n",
       "      <th>1</th>\n",
       "      <td>5575-GNVDE</td>\n",
       "      <td>DSL</td>\n",
       "      <td>Yes</td>\n",
       "      <td>No</td>\n",
       "      <td>Yes</td>\n",
       "      <td>No</td>\n",
       "      <td>No</td>\n",
       "      <td>No</td>\n",
       "    </tr>\n",
       "    <tr>\n",
       "      <th>2</th>\n",
       "      <td>3668-QPYBK</td>\n",
       "      <td>DSL</td>\n",
       "      <td>Yes</td>\n",
       "      <td>Yes</td>\n",
       "      <td>No</td>\n",
       "      <td>No</td>\n",
       "      <td>No</td>\n",
       "      <td>No</td>\n",
       "    </tr>\n",
       "    <tr>\n",
       "      <th>3</th>\n",
       "      <td>7795-CFOCW</td>\n",
       "      <td>DSL</td>\n",
       "      <td>Yes</td>\n",
       "      <td>No</td>\n",
       "      <td>Yes</td>\n",
       "      <td>Yes</td>\n",
       "      <td>No</td>\n",
       "      <td>No</td>\n",
       "    </tr>\n",
       "    <tr>\n",
       "      <th>4</th>\n",
       "      <td>9237-HQITU</td>\n",
       "      <td>Fiber optic</td>\n",
       "      <td>No</td>\n",
       "      <td>No</td>\n",
       "      <td>No</td>\n",
       "      <td>No</td>\n",
       "      <td>No</td>\n",
       "      <td>No</td>\n",
       "    </tr>\n",
       "    <tr>\n",
       "      <th>...</th>\n",
       "      <td>...</td>\n",
       "      <td>...</td>\n",
       "      <td>...</td>\n",
       "      <td>...</td>\n",
       "      <td>...</td>\n",
       "      <td>...</td>\n",
       "      <td>...</td>\n",
       "      <td>...</td>\n",
       "    </tr>\n",
       "    <tr>\n",
       "      <th>5512</th>\n",
       "      <td>6840-RESVB</td>\n",
       "      <td>DSL</td>\n",
       "      <td>Yes</td>\n",
       "      <td>No</td>\n",
       "      <td>Yes</td>\n",
       "      <td>Yes</td>\n",
       "      <td>Yes</td>\n",
       "      <td>Yes</td>\n",
       "    </tr>\n",
       "    <tr>\n",
       "      <th>5513</th>\n",
       "      <td>2234-XADUH</td>\n",
       "      <td>Fiber optic</td>\n",
       "      <td>No</td>\n",
       "      <td>Yes</td>\n",
       "      <td>Yes</td>\n",
       "      <td>No</td>\n",
       "      <td>Yes</td>\n",
       "      <td>Yes</td>\n",
       "    </tr>\n",
       "    <tr>\n",
       "      <th>5514</th>\n",
       "      <td>4801-JZAZL</td>\n",
       "      <td>DSL</td>\n",
       "      <td>Yes</td>\n",
       "      <td>No</td>\n",
       "      <td>No</td>\n",
       "      <td>No</td>\n",
       "      <td>No</td>\n",
       "      <td>No</td>\n",
       "    </tr>\n",
       "    <tr>\n",
       "      <th>5515</th>\n",
       "      <td>8361-LTMKD</td>\n",
       "      <td>Fiber optic</td>\n",
       "      <td>No</td>\n",
       "      <td>No</td>\n",
       "      <td>No</td>\n",
       "      <td>No</td>\n",
       "      <td>No</td>\n",
       "      <td>No</td>\n",
       "    </tr>\n",
       "    <tr>\n",
       "      <th>5516</th>\n",
       "      <td>3186-AJIEK</td>\n",
       "      <td>Fiber optic</td>\n",
       "      <td>Yes</td>\n",
       "      <td>No</td>\n",
       "      <td>Yes</td>\n",
       "      <td>Yes</td>\n",
       "      <td>Yes</td>\n",
       "      <td>Yes</td>\n",
       "    </tr>\n",
       "  </tbody>\n",
       "</table>\n",
       "<p>5517 rows × 8 columns</p>\n",
       "</div>"
      ],
      "text/plain": [
       "      customerID InternetService OnlineSecurity OnlineBackup DeviceProtection  \\\n",
       "0     7590-VHVEG             DSL             No          Yes               No   \n",
       "1     5575-GNVDE             DSL            Yes           No              Yes   \n",
       "2     3668-QPYBK             DSL            Yes          Yes               No   \n",
       "3     7795-CFOCW             DSL            Yes           No              Yes   \n",
       "4     9237-HQITU     Fiber optic             No           No               No   \n",
       "...          ...             ...            ...          ...              ...   \n",
       "5512  6840-RESVB             DSL            Yes           No              Yes   \n",
       "5513  2234-XADUH     Fiber optic             No          Yes              Yes   \n",
       "5514  4801-JZAZL             DSL            Yes           No               No   \n",
       "5515  8361-LTMKD     Fiber optic             No           No               No   \n",
       "5516  3186-AJIEK     Fiber optic            Yes           No              Yes   \n",
       "\n",
       "     TechSupport StreamingTV StreamingMovies  \n",
       "0             No          No              No  \n",
       "1             No          No              No  \n",
       "2             No          No              No  \n",
       "3            Yes          No              No  \n",
       "4             No          No              No  \n",
       "...          ...         ...             ...  \n",
       "5512         Yes         Yes             Yes  \n",
       "5513          No         Yes             Yes  \n",
       "5514          No          No              No  \n",
       "5515          No          No              No  \n",
       "5516         Yes         Yes             Yes  \n",
       "\n",
       "[5517 rows x 8 columns]"
      ]
     },
     "execution_count": 7,
     "metadata": {},
     "output_type": "execute_result"
    }
   ],
   "source": [
    "internet"
   ]
  },
  {
   "cell_type": "code",
   "execution_count": 8,
   "metadata": {},
   "outputs": [
    {
     "data": {
      "text/html": [
       "<div>\n",
       "<style scoped>\n",
       "    .dataframe tbody tr th:only-of-type {\n",
       "        vertical-align: middle;\n",
       "    }\n",
       "\n",
       "    .dataframe tbody tr th {\n",
       "        vertical-align: top;\n",
       "    }\n",
       "\n",
       "    .dataframe thead th {\n",
       "        text-align: right;\n",
       "    }\n",
       "</style>\n",
       "<table border=\"1\" class=\"dataframe\">\n",
       "  <thead>\n",
       "    <tr style=\"text-align: right;\">\n",
       "      <th></th>\n",
       "      <th>customerID</th>\n",
       "      <th>MultipleLines</th>\n",
       "    </tr>\n",
       "  </thead>\n",
       "  <tbody>\n",
       "    <tr>\n",
       "      <th>0</th>\n",
       "      <td>5575-GNVDE</td>\n",
       "      <td>No</td>\n",
       "    </tr>\n",
       "    <tr>\n",
       "      <th>1</th>\n",
       "      <td>3668-QPYBK</td>\n",
       "      <td>No</td>\n",
       "    </tr>\n",
       "    <tr>\n",
       "      <th>2</th>\n",
       "      <td>9237-HQITU</td>\n",
       "      <td>No</td>\n",
       "    </tr>\n",
       "    <tr>\n",
       "      <th>3</th>\n",
       "      <td>9305-CDSKC</td>\n",
       "      <td>Yes</td>\n",
       "    </tr>\n",
       "    <tr>\n",
       "      <th>4</th>\n",
       "      <td>1452-KIOVK</td>\n",
       "      <td>Yes</td>\n",
       "    </tr>\n",
       "    <tr>\n",
       "      <th>...</th>\n",
       "      <td>...</td>\n",
       "      <td>...</td>\n",
       "    </tr>\n",
       "    <tr>\n",
       "      <th>6356</th>\n",
       "      <td>2569-WGERO</td>\n",
       "      <td>No</td>\n",
       "    </tr>\n",
       "    <tr>\n",
       "      <th>6357</th>\n",
       "      <td>6840-RESVB</td>\n",
       "      <td>Yes</td>\n",
       "    </tr>\n",
       "    <tr>\n",
       "      <th>6358</th>\n",
       "      <td>2234-XADUH</td>\n",
       "      <td>Yes</td>\n",
       "    </tr>\n",
       "    <tr>\n",
       "      <th>6359</th>\n",
       "      <td>8361-LTMKD</td>\n",
       "      <td>Yes</td>\n",
       "    </tr>\n",
       "    <tr>\n",
       "      <th>6360</th>\n",
       "      <td>3186-AJIEK</td>\n",
       "      <td>No</td>\n",
       "    </tr>\n",
       "  </tbody>\n",
       "</table>\n",
       "<p>6361 rows × 2 columns</p>\n",
       "</div>"
      ],
      "text/plain": [
       "      customerID MultipleLines\n",
       "0     5575-GNVDE            No\n",
       "1     3668-QPYBK            No\n",
       "2     9237-HQITU            No\n",
       "3     9305-CDSKC           Yes\n",
       "4     1452-KIOVK           Yes\n",
       "...          ...           ...\n",
       "6356  2569-WGERO            No\n",
       "6357  6840-RESVB           Yes\n",
       "6358  2234-XADUH           Yes\n",
       "6359  8361-LTMKD           Yes\n",
       "6360  3186-AJIEK            No\n",
       "\n",
       "[6361 rows x 2 columns]"
      ]
     },
     "execution_count": 8,
     "metadata": {},
     "output_type": "execute_result"
    }
   ],
   "source": [
    "phone"
   ]
  },
  {
   "cell_type": "code",
   "execution_count": 9,
   "metadata": {
    "scrolled": true
   },
   "outputs": [
    {
     "name": "stdout",
     "output_type": "stream",
     "text": [
      "<class 'pandas.core.frame.DataFrame'>\n",
      "RangeIndex: 7043 entries, 0 to 7042\n",
      "Data columns (total 8 columns):\n",
      " #   Column            Non-Null Count  Dtype  \n",
      "---  ------            --------------  -----  \n",
      " 0   customerID        7043 non-null   object \n",
      " 1   BeginDate         7043 non-null   object \n",
      " 2   EndDate           7043 non-null   object \n",
      " 3   Type              7043 non-null   object \n",
      " 4   PaperlessBilling  7043 non-null   object \n",
      " 5   PaymentMethod     7043 non-null   object \n",
      " 6   MonthlyCharges    7043 non-null   float64\n",
      " 7   TotalCharges      7043 non-null   object \n",
      "dtypes: float64(1), object(7)\n",
      "memory usage: 440.3+ KB\n"
     ]
    },
    {
     "data": {
      "text/plain": [
       "customerID          0\n",
       "BeginDate           0\n",
       "EndDate             0\n",
       "Type                0\n",
       "PaperlessBilling    0\n",
       "PaymentMethod       0\n",
       "MonthlyCharges      0\n",
       "TotalCharges        0\n",
       "dtype: int64"
      ]
     },
     "execution_count": 9,
     "metadata": {},
     "output_type": "execute_result"
    }
   ],
   "source": [
    "contract.info()\n",
    "contract.isna().sum()"
   ]
  },
  {
   "cell_type": "code",
   "execution_count": 10,
   "metadata": {},
   "outputs": [
    {
     "name": "stdout",
     "output_type": "stream",
     "text": [
      "<class 'pandas.core.frame.DataFrame'>\n",
      "RangeIndex: 7043 entries, 0 to 7042\n",
      "Data columns (total 5 columns):\n",
      " #   Column         Non-Null Count  Dtype \n",
      "---  ------         --------------  ----- \n",
      " 0   customerID     7043 non-null   object\n",
      " 1   gender         7043 non-null   object\n",
      " 2   SeniorCitizen  7043 non-null   int64 \n",
      " 3   Partner        7043 non-null   object\n",
      " 4   Dependents     7043 non-null   object\n",
      "dtypes: int64(1), object(4)\n",
      "memory usage: 275.2+ KB\n"
     ]
    }
   ],
   "source": [
    "personal.info()"
   ]
  },
  {
   "cell_type": "code",
   "execution_count": 11,
   "metadata": {},
   "outputs": [
    {
     "name": "stdout",
     "output_type": "stream",
     "text": [
      "<class 'pandas.core.frame.DataFrame'>\n",
      "RangeIndex: 5517 entries, 0 to 5516\n",
      "Data columns (total 8 columns):\n",
      " #   Column            Non-Null Count  Dtype \n",
      "---  ------            --------------  ----- \n",
      " 0   customerID        5517 non-null   object\n",
      " 1   InternetService   5517 non-null   object\n",
      " 2   OnlineSecurity    5517 non-null   object\n",
      " 3   OnlineBackup      5517 non-null   object\n",
      " 4   DeviceProtection  5517 non-null   object\n",
      " 5   TechSupport       5517 non-null   object\n",
      " 6   StreamingTV       5517 non-null   object\n",
      " 7   StreamingMovies   5517 non-null   object\n",
      "dtypes: object(8)\n",
      "memory usage: 344.9+ KB\n"
     ]
    }
   ],
   "source": [
    "internet.info()"
   ]
  },
  {
   "cell_type": "code",
   "execution_count": 12,
   "metadata": {},
   "outputs": [
    {
     "name": "stdout",
     "output_type": "stream",
     "text": [
      "<class 'pandas.core.frame.DataFrame'>\n",
      "RangeIndex: 6361 entries, 0 to 6360\n",
      "Data columns (total 2 columns):\n",
      " #   Column         Non-Null Count  Dtype \n",
      "---  ------         --------------  ----- \n",
      " 0   customerID     6361 non-null   object\n",
      " 1   MultipleLines  6361 non-null   object\n",
      "dtypes: object(2)\n",
      "memory usage: 99.5+ KB\n"
     ]
    }
   ],
   "source": [
    "phone.info()"
   ]
  },
  {
   "cell_type": "code",
   "execution_count": 13,
   "metadata": {},
   "outputs": [
    {
     "data": {
      "text/plain": [
       "<AxesSubplot:>"
      ]
     },
     "execution_count": 13,
     "metadata": {},
     "output_type": "execute_result"
    },
    {
     "data": {
      "image/png": "[encoded data removed]",
      "text/plain": [
       "<Figure size 432x288 with 1 Axes>"
      ]
     },
     "metadata": {
      "needs_background": "light"
     },
     "output_type": "display_data"
    }
   ],
   "source": [
    "contract['PaperlessBilling'].value_counts().plot(kind='bar')"
   ]
  },
  {
   "cell_type": "code",
   "execution_count": 14,
   "metadata": {},
   "outputs": [
    {
     "data": {
      "text/plain": [
       "<AxesSubplot:>"
      ]
     },
     "execution_count": 14,
     "metadata": {},
     "output_type": "execute_result"
    },
    {
     "data": {
      "image/png": "[encoded data removed]",
      "text/plain": [
       "<Figure size 432x288 with 1 Axes>"
      ]
     },
     "metadata": {
      "needs_background": "light"
     },
     "output_type": "display_data"
    }
   ],
   "source": [
    "contract['PaymentMethod'].value_counts().plot(kind='bar')"
   ]
  },
  {
   "cell_type": "code",
   "execution_count": 15,
   "metadata": {
    "scrolled": true
   },
   "outputs": [
    {
     "data": {
      "text/plain": [
       "<AxesSubplot:>"
      ]
     },
     "execution_count": 15,
     "metadata": {},
     "output_type": "execute_result"
    },
    {
     "data": {
      "image/png": "[encoded data removed]",
      "text/plain": [
       "<Figure size 432x288 with 1 Axes>"
      ]
     },
     "metadata": {
      "needs_background": "light"
     },
     "output_type": "display_data"
    }
   ],
   "source": [
    "personal['gender'].value_counts().plot(kind='bar')"
   ]
  },
  {
   "cell_type": "code",
   "execution_count": 16,
   "metadata": {},
   "outputs": [
    {
     "data": {
      "text/plain": [
       "<AxesSubplot:>"
      ]
     },
     "execution_count": 16,
     "metadata": {},
     "output_type": "execute_result"
    },
    {
     "data": {
      "image/png": "[encoded data removed]",
      "text/plain": [
       "<Figure size 432x288 with 1 Axes>"
      ]
     },
     "metadata": {
      "needs_background": "light"
     },
     "output_type": "display_data"
    }
   ],
   "source": [
    "personal['SeniorCitizen'].value_counts().plot(kind='bar')"
   ]
  },
  {
   "cell_type": "code",
   "execution_count": 17,
   "metadata": {},
   "outputs": [
    {
     "data": {
      "text/plain": [
       "<AxesSubplot:>"
      ]
     },
     "execution_count": 17,
     "metadata": {},
     "output_type": "execute_result"
    },
    {
     "data": {
      "image/png": "[encoded data removed]",
      "text/plain": [
       "<Figure size 432x288 with 1 Axes>"
      ]
     },
     "metadata": {
      "needs_background": "light"
     },
     "output_type": "display_data"
    }
   ],
   "source": [
    "personal['Partner'].value_counts().plot(kind='bar')"
   ]
  },
  {
   "cell_type": "code",
   "execution_count": 18,
   "metadata": {},
   "outputs": [
    {
     "data": {
      "text/plain": [
       "<AxesSubplot:>"
      ]
     },
     "execution_count": 18,
     "metadata": {},
     "output_type": "execute_result"
    },
    {
     "data": {
      "image/png": "[encoded data removed]",
      "text/plain": [
       "<Figure size 432x288 with 1 Axes>"
      ]
     },
     "metadata": {
      "needs_background": "light"
     },
     "output_type": "display_data"
    }
   ],
   "source": [
    "personal['Dependents'].value_counts().plot(kind='bar')"
   ]
  },
  {
   "cell_type": "code",
   "execution_count": 19,
   "metadata": {},
   "outputs": [
    {
     "data": {
      "text/plain": [
       "<AxesSubplot:>"
      ]
     },
     "execution_count": 19,
     "metadata": {},
     "output_type": "execute_result"
    },
    {
     "data": {
      "image/png": "[encoded data removed]",
      "text/plain": [
       "<Figure size 432x288 with 1 Axes>"
      ]
     },
     "metadata": {
      "needs_background": "light"
     },
     "output_type": "display_data"
    }
   ],
   "source": [
    "internet['InternetService'].value_counts().plot(kind='bar')"
   ]
  },
  {
   "cell_type": "code",
   "execution_count": 20,
   "metadata": {},
   "outputs": [
    {
     "data": {
      "text/plain": [
       "<AxesSubplot:>"
      ]
     },
     "execution_count": 20,
     "metadata": {},
     "output_type": "execute_result"
    },
    {
     "data": {
      "image/png": "[encoded data removed]",
      "text/plain": [
       "<Figure size 432x288 with 1 Axes>"
      ]
     },
     "metadata": {
      "needs_background": "light"
     },
     "output_type": "display_data"
    }
   ],
   "source": [
    "internet['OnlineSecurity'].value_counts().plot(kind='bar')"
   ]
  },
  {
   "cell_type": "code",
   "execution_count": 21,
   "metadata": {},
   "outputs": [
    {
     "data": {
      "text/plain": [
       "<AxesSubplot:>"
      ]
     },
     "execution_count": 21,
     "metadata": {},
     "output_type": "execute_result"
    },
    {
     "data": {
      "image/png": "[encoded data removed]",
      "text/plain": [
       "<Figure size 432x288 with 1 Axes>"
      ]
     },
     "metadata": {
      "needs_background": "light"
     },
     "output_type": "display_data"
    }
   ],
   "source": [
    "internet['OnlineBackup'].value_counts().plot(kind='bar')"
   ]
  },
  {
   "cell_type": "code",
   "execution_count": 22,
   "metadata": {},
   "outputs": [
    {
     "data": {
      "text/plain": [
       "<AxesSubplot:>"
      ]
     },
     "execution_count": 22,
     "metadata": {},
     "output_type": "execute_result"
    },
    {
     "data": {
      "image/png": "[encoded data removed]",
      "text/plain": [
       "<Figure size 432x288 with 1 Axes>"
      ]
     },
     "metadata": {
      "needs_background": "light"
     },
     "output_type": "display_data"
    }
   ],
   "source": [
    "internet['DeviceProtection'].value_counts().plot(kind='bar')"
   ]
  },
  {
   "cell_type": "code",
   "execution_count": 23,
   "metadata": {},
   "outputs": [
    {
     "data": {
      "text/plain": [
       "<AxesSubplot:>"
      ]
     },
     "execution_count": 23,
     "metadata": {},
     "output_type": "execute_result"
    },
    {
     "data": {
      "image/png": "[encoded data removed]",
      "text/plain": [
       "<Figure size 432x288 with 1 Axes>"
      ]
     },
     "metadata": {
      "needs_background": "light"
     },
     "output_type": "display_data"
    }
   ],
   "source": [
    "internet['TechSupport'].value_counts().plot(kind='bar')"
   ]
  },
  {
   "cell_type": "code",
   "execution_count": 24,
   "metadata": {},
   "outputs": [
    {
     "data": {
      "text/plain": [
       "<AxesSubplot:>"
      ]
     },
     "execution_count": 24,
     "metadata": {},
     "output_type": "execute_result"
    },
    {
     "data": {
      "image/png": "[encoded data removed]",
      "text/plain": [
       "<Figure size 432x288 with 1 Axes>"
      ]
     },
     "metadata": {
      "needs_background": "light"
     },
     "output_type": "display_data"
    }
   ],
   "source": [
    "internet['StreamingTV'].value_counts().plot(kind='bar')"
   ]
  },
  {
   "cell_type": "code",
   "execution_count": 25,
   "metadata": {},
   "outputs": [
    {
     "data": {
      "text/plain": [
       "<AxesSubplot:>"
      ]
     },
     "execution_count": 25,
     "metadata": {},
     "output_type": "execute_result"
    },
    {
     "data": {
      "image/png": "[encoded data removed]",
      "text/plain": [
       "<Figure size 432x288 with 1 Axes>"
      ]
     },
     "metadata": {
      "needs_background": "light"
     },
     "output_type": "display_data"
    }
   ],
   "source": [
    "internet['StreamingMovies'].value_counts().plot(kind='bar')"
   ]
  },
  {
   "cell_type": "code",
   "execution_count": 26,
   "metadata": {},
   "outputs": [
    {
     "data": {
      "text/plain": [
       "<AxesSubplot:>"
      ]
     },
     "execution_count": 26,
     "metadata": {},
     "output_type": "execute_result"
    },
    {
     "data": {
      "image/png": "[encoded data removed]",
      "text/plain": [
       "<Figure size 432x288 with 1 Axes>"
      ]
     },
     "metadata": {
      "needs_background": "light"
     },
     "output_type": "display_data"
    }
   ],
   "source": [
    "phone['MultipleLines'].value_counts().plot(kind='bar')"
   ]
  },
  {
   "cell_type": "code",
   "execution_count": null,
   "metadata": {},
   "outputs": [],
   "source": []
  },
  {
   "cell_type": "code",
   "execution_count": 27,
   "metadata": {
    "scrolled": true
   },
   "outputs": [
    {
     "data": {
      "text/plain": [
       "count    7043.000000\n",
       "mean       64.761692\n",
       "std        30.090047\n",
       "min        18.250000\n",
       "25%        35.500000\n",
       "50%        70.350000\n",
       "75%        89.850000\n",
       "max       118.750000\n",
       "Name: MonthlyCharges, dtype: float64"
      ]
     },
     "execution_count": 27,
     "metadata": {},
     "output_type": "execute_result"
    }
   ],
   "source": [
    "contract['MonthlyCharges'].describe()"
   ]
  },
  {
   "cell_type": "code",
   "execution_count": 28,
   "metadata": {},
   "outputs": [],
   "source": [
    "contract['TotalCharges'] = pd.to_numeric(contract['TotalCharges'], errors='coerce')"
   ]
  },
  {
   "cell_type": "code",
   "execution_count": 29,
   "metadata": {
    "scrolled": true
   },
   "outputs": [
    {
     "data": {
      "text/plain": [
       "count    7032.000000\n",
       "mean     2118.621822\n",
       "std      2112.736199\n",
       "min        19.050000\n",
       "25%       439.745000\n",
       "50%      1345.275000\n",
       "75%      3239.317500\n",
       "max      9221.380000\n",
       "Name: TotalCharges, dtype: float64"
      ]
     },
     "execution_count": 29,
     "metadata": {},
     "output_type": "execute_result"
    }
   ],
   "source": [
    "contract['TotalCharges'].describe()"
   ]
  },
  {
   "cell_type": "markdown",
   "metadata": {},
   "source": [
    "В данных присутствует небольшой дисбаланс, но вполне на допустимом уровне. Некоторые столбцы имеют неверный тип данных, что следует исправить. Также, необходимо объединить все 4 датафрейма в 1, чтобы упростить анализ. В качестве целевого признака подходит 'EndDate'."
   ]
  },
  {
   "cell_type": "markdown",
   "metadata": {},
   "source": [
    "### План "
   ]
  },
  {
   "cell_type": "markdown",
   "metadata": {},
   "source": [
    "Цель проекта - решить задачу классификации, путем сооздания модели которая будет предсказывать уйдет ли клиент или нет"
   ]
  },
  {
   "cell_type": "markdown",
   "metadata": {},
   "source": [
    "План:\n",
    "\n",
    "    1. Предобработка данных (объединение таблиц, приведение некоторых столбцов к нужному типу данных, удаление пропусков, \n",
    "    удаление явных дубликатов, выделение целевого признака)\n",
    "    \n",
    "    2. Исследование данных (анализ данных, построение графиков)\n",
    "                              \n",
    "    3. Подготовка к обучению модели (разбиение на тренировочную и тестовую выборки, кодирование данных)\n",
    "    \n",
    "    4. Обучение моделей (обучение 2-3х разных моделей на наших данных, использование кросс-валидации для оценки качества    \n",
    "    моделей, получение AUC-ROC метрики)\n",
    "    \n",
    "    5. Тестирование и выводы (тестирование лучше модели на тестовой выборке и написание отчета о проделанной работе, \n",
    "    в случае значения AUC-ROC на тестовой выборке > 0.85)"
   ]
  },
  {
   "cell_type": "code",
   "execution_count": 32,
   "metadata": {},
   "outputs": [],
   "source": [
    "def col_in_low(column):\n",
    "    return str.lower('_'.join(re.sub(r\"([A-Z])\", r\" \\1\", column).split()))"
   ]
  },
  {
   "cell_type": "code",
   "execution_count": 33,
   "metadata": {},
   "outputs": [],
   "source": [
    "contract.columns = map(col_in_low, contract.columns)\n",
    "personal.columns = map(col_in_low, personal.columns)\n",
    "internet.columns = map(col_in_low, internet.columns)\n",
    "phone.columns = map(col_in_low, phone.columns)"
   ]
  },
  {
   "cell_type": "code",
   "execution_count": 34,
   "metadata": {},
   "outputs": [],
   "source": [
    "data = contract.merge(personal, how = 'left', on = 'customer_i_d')\\\n",
    "    .merge(internet, how = 'left', on = 'customer_i_d').\\\n",
    "    merge(phone, how = 'left', on = 'customer_i_d')"
   ]
  },
  {
   "cell_type": "code",
   "execution_count": 35,
   "metadata": {},
   "outputs": [
    {
     "data": {
      "text/html": [
       "<div>\n",
       "<style scoped>\n",
       "    .dataframe tbody tr th:only-of-type {\n",
       "        vertical-align: middle;\n",
       "    }\n",
       "\n",
       "    .dataframe tbody tr th {\n",
       "        vertical-align: top;\n",
       "    }\n",
       "\n",
       "    .dataframe thead th {\n",
       "        text-align: right;\n",
       "    }\n",
       "</style>\n",
       "<table border=\"1\" class=\"dataframe\">\n",
       "  <thead>\n",
       "    <tr style=\"text-align: right;\">\n",
       "      <th></th>\n",
       "      <th>customer_i_d</th>\n",
       "      <th>begin_date</th>\n",
       "      <th>end_date</th>\n",
       "      <th>type</th>\n",
       "      <th>paperless_billing</th>\n",
       "      <th>payment_method</th>\n",
       "      <th>monthly_charges</th>\n",
       "      <th>total_charges</th>\n",
       "      <th>gender</th>\n",
       "      <th>senior_citizen</th>\n",
       "      <th>partner</th>\n",
       "      <th>dependents</th>\n",
       "      <th>internet_service</th>\n",
       "      <th>online_security</th>\n",
       "      <th>online_backup</th>\n",
       "      <th>device_protection</th>\n",
       "      <th>tech_support</th>\n",
       "      <th>streaming_t_v</th>\n",
       "      <th>streaming_movies</th>\n",
       "      <th>multiple_lines</th>\n",
       "    </tr>\n",
       "  </thead>\n",
       "  <tbody>\n",
       "    <tr>\n",
       "      <th>0</th>\n",
       "      <td>7590-VHVEG</td>\n",
       "      <td>2020-01-01</td>\n",
       "      <td>No</td>\n",
       "      <td>Month-to-month</td>\n",
       "      <td>Yes</td>\n",
       "      <td>Electronic check</td>\n",
       "      <td>29.85</td>\n",
       "      <td>31.04</td>\n",
       "      <td>Female</td>\n",
       "      <td>0</td>\n",
       "      <td>Yes</td>\n",
       "      <td>No</td>\n",
       "      <td>DSL</td>\n",
       "      <td>No</td>\n",
       "      <td>Yes</td>\n",
       "      <td>No</td>\n",
       "      <td>No</td>\n",
       "      <td>No</td>\n",
       "      <td>No</td>\n",
       "      <td>NaN</td>\n",
       "    </tr>\n",
       "    <tr>\n",
       "      <th>1</th>\n",
       "      <td>5575-GNVDE</td>\n",
       "      <td>2017-04-01</td>\n",
       "      <td>No</td>\n",
       "      <td>One year</td>\n",
       "      <td>No</td>\n",
       "      <td>Mailed check</td>\n",
       "      <td>56.95</td>\n",
       "      <td>2071.84</td>\n",
       "      <td>Male</td>\n",
       "      <td>0</td>\n",
       "      <td>No</td>\n",
       "      <td>No</td>\n",
       "      <td>DSL</td>\n",
       "      <td>Yes</td>\n",
       "      <td>No</td>\n",
       "      <td>Yes</td>\n",
       "      <td>No</td>\n",
       "      <td>No</td>\n",
       "      <td>No</td>\n",
       "      <td>No</td>\n",
       "    </tr>\n",
       "    <tr>\n",
       "      <th>2</th>\n",
       "      <td>3668-QPYBK</td>\n",
       "      <td>2019-10-01</td>\n",
       "      <td>No</td>\n",
       "      <td>Month-to-month</td>\n",
       "      <td>Yes</td>\n",
       "      <td>Mailed check</td>\n",
       "      <td>53.85</td>\n",
       "      <td>226.17</td>\n",
       "      <td>Male</td>\n",
       "      <td>0</td>\n",
       "      <td>No</td>\n",
       "      <td>No</td>\n",
       "      <td>DSL</td>\n",
       "      <td>Yes</td>\n",
       "      <td>Yes</td>\n",
       "      <td>No</td>\n",
       "      <td>No</td>\n",
       "      <td>No</td>\n",
       "      <td>No</td>\n",
       "      <td>No</td>\n",
       "    </tr>\n",
       "    <tr>\n",
       "      <th>3</th>\n",
       "      <td>7795-CFOCW</td>\n",
       "      <td>2016-05-01</td>\n",
       "      <td>No</td>\n",
       "      <td>One year</td>\n",
       "      <td>No</td>\n",
       "      <td>Bank transfer (automatic)</td>\n",
       "      <td>42.30</td>\n",
       "      <td>1960.60</td>\n",
       "      <td>Male</td>\n",
       "      <td>0</td>\n",
       "      <td>No</td>\n",
       "      <td>No</td>\n",
       "      <td>DSL</td>\n",
       "      <td>Yes</td>\n",
       "      <td>No</td>\n",
       "      <td>Yes</td>\n",
       "      <td>Yes</td>\n",
       "      <td>No</td>\n",
       "      <td>No</td>\n",
       "      <td>NaN</td>\n",
       "    </tr>\n",
       "    <tr>\n",
       "      <th>4</th>\n",
       "      <td>9237-HQITU</td>\n",
       "      <td>2019-09-01</td>\n",
       "      <td>No</td>\n",
       "      <td>Month-to-month</td>\n",
       "      <td>Yes</td>\n",
       "      <td>Electronic check</td>\n",
       "      <td>70.70</td>\n",
       "      <td>353.50</td>\n",
       "      <td>Female</td>\n",
       "      <td>0</td>\n",
       "      <td>No</td>\n",
       "      <td>No</td>\n",
       "      <td>Fiber optic</td>\n",
       "      <td>No</td>\n",
       "      <td>No</td>\n",
       "      <td>No</td>\n",
       "      <td>No</td>\n",
       "      <td>No</td>\n",
       "      <td>No</td>\n",
       "      <td>No</td>\n",
       "    </tr>\n",
       "    <tr>\n",
       "      <th>...</th>\n",
       "      <td>...</td>\n",
       "      <td>...</td>\n",
       "      <td>...</td>\n",
       "      <td>...</td>\n",
       "      <td>...</td>\n",
       "      <td>...</td>\n",
       "      <td>...</td>\n",
       "      <td>...</td>\n",
       "      <td>...</td>\n",
       "      <td>...</td>\n",
       "      <td>...</td>\n",
       "      <td>...</td>\n",
       "      <td>...</td>\n",
       "      <td>...</td>\n",
       "      <td>...</td>\n",
       "      <td>...</td>\n",
       "      <td>...</td>\n",
       "      <td>...</td>\n",
       "      <td>...</td>\n",
       "      <td>...</td>\n",
       "    </tr>\n",
       "    <tr>\n",
       "      <th>7038</th>\n",
       "      <td>6840-RESVB</td>\n",
       "      <td>2018-02-01</td>\n",
       "      <td>No</td>\n",
       "      <td>One year</td>\n",
       "      <td>Yes</td>\n",
       "      <td>Mailed check</td>\n",
       "      <td>84.80</td>\n",
       "      <td>2035.20</td>\n",
       "      <td>Male</td>\n",
       "      <td>0</td>\n",
       "      <td>Yes</td>\n",
       "      <td>Yes</td>\n",
       "      <td>DSL</td>\n",
       "      <td>Yes</td>\n",
       "      <td>No</td>\n",
       "      <td>Yes</td>\n",
       "      <td>Yes</td>\n",
       "      <td>Yes</td>\n",
       "      <td>Yes</td>\n",
       "      <td>Yes</td>\n",
       "    </tr>\n",
       "    <tr>\n",
       "      <th>7039</th>\n",
       "      <td>2234-XADUH</td>\n",
       "      <td>2014-02-01</td>\n",
       "      <td>No</td>\n",
       "      <td>One year</td>\n",
       "      <td>Yes</td>\n",
       "      <td>Credit card (automatic)</td>\n",
       "      <td>103.20</td>\n",
       "      <td>7430.40</td>\n",
       "      <td>Female</td>\n",
       "      <td>0</td>\n",
       "      <td>Yes</td>\n",
       "      <td>Yes</td>\n",
       "      <td>Fiber optic</td>\n",
       "      <td>No</td>\n",
       "      <td>Yes</td>\n",
       "      <td>Yes</td>\n",
       "      <td>No</td>\n",
       "      <td>Yes</td>\n",
       "      <td>Yes</td>\n",
       "      <td>Yes</td>\n",
       "    </tr>\n",
       "    <tr>\n",
       "      <th>7040</th>\n",
       "      <td>4801-JZAZL</td>\n",
       "      <td>2019-03-01</td>\n",
       "      <td>No</td>\n",
       "      <td>Month-to-month</td>\n",
       "      <td>Yes</td>\n",
       "      <td>Electronic check</td>\n",
       "      <td>29.60</td>\n",
       "      <td>325.60</td>\n",
       "      <td>Female</td>\n",
       "      <td>0</td>\n",
       "      <td>Yes</td>\n",
       "      <td>Yes</td>\n",
       "      <td>DSL</td>\n",
       "      <td>Yes</td>\n",
       "      <td>No</td>\n",
       "      <td>No</td>\n",
       "      <td>No</td>\n",
       "      <td>No</td>\n",
       "      <td>No</td>\n",
       "      <td>NaN</td>\n",
       "    </tr>\n",
       "    <tr>\n",
       "      <th>7041</th>\n",
       "      <td>8361-LTMKD</td>\n",
       "      <td>2019-07-01</td>\n",
       "      <td>No</td>\n",
       "      <td>Month-to-month</td>\n",
       "      <td>Yes</td>\n",
       "      <td>Mailed check</td>\n",
       "      <td>74.40</td>\n",
       "      <td>520.80</td>\n",
       "      <td>Male</td>\n",
       "      <td>1</td>\n",
       "      <td>Yes</td>\n",
       "      <td>No</td>\n",
       "      <td>Fiber optic</td>\n",
       "      <td>No</td>\n",
       "      <td>No</td>\n",
       "      <td>No</td>\n",
       "      <td>No</td>\n",
       "      <td>No</td>\n",
       "      <td>No</td>\n",
       "      <td>Yes</td>\n",
       "    </tr>\n",
       "    <tr>\n",
       "      <th>7042</th>\n",
       "      <td>3186-AJIEK</td>\n",
       "      <td>2014-08-01</td>\n",
       "      <td>No</td>\n",
       "      <td>Two year</td>\n",
       "      <td>Yes</td>\n",
       "      <td>Bank transfer (automatic)</td>\n",
       "      <td>105.65</td>\n",
       "      <td>7251.82</td>\n",
       "      <td>Male</td>\n",
       "      <td>0</td>\n",
       "      <td>No</td>\n",
       "      <td>No</td>\n",
       "      <td>Fiber optic</td>\n",
       "      <td>Yes</td>\n",
       "      <td>No</td>\n",
       "      <td>Yes</td>\n",
       "      <td>Yes</td>\n",
       "      <td>Yes</td>\n",
       "      <td>Yes</td>\n",
       "      <td>No</td>\n",
       "    </tr>\n",
       "  </tbody>\n",
       "</table>\n",
       "<p>7043 rows × 20 columns</p>\n",
       "</div>"
      ],
      "text/plain": [
       "     customer_i_d  begin_date end_date            type paperless_billing  \\\n",
       "0      7590-VHVEG  2020-01-01       No  Month-to-month               Yes   \n",
       "1      5575-GNVDE  2017-04-01       No        One year                No   \n",
       "2      3668-QPYBK  2019-10-01       No  Month-to-month               Yes   \n",
       "3      7795-CFOCW  2016-05-01       No        One year                No   \n",
       "4      9237-HQITU  2019-09-01       No  Month-to-month               Yes   \n",
       "...           ...         ...      ...             ...               ...   \n",
       "7038   6840-RESVB  2018-02-01       No        One year               Yes   \n",
       "7039   2234-XADUH  2014-02-01       No        One year               Yes   \n",
       "7040   4801-JZAZL  2019-03-01       No  Month-to-month               Yes   \n",
       "7041   8361-LTMKD  2019-07-01       No  Month-to-month               Yes   \n",
       "7042   3186-AJIEK  2014-08-01       No        Two year               Yes   \n",
       "\n",
       "                 payment_method  monthly_charges  total_charges  gender  \\\n",
       "0              Electronic check            29.85          31.04  Female   \n",
       "1                  Mailed check            56.95        2071.84    Male   \n",
       "2                  Mailed check            53.85         226.17    Male   \n",
       "3     Bank transfer (automatic)            42.30        1960.60    Male   \n",
       "4              Electronic check            70.70         353.50  Female   \n",
       "...                         ...              ...            ...     ...   \n",
       "7038               Mailed check            84.80        2035.20    Male   \n",
       "7039    Credit card (automatic)           103.20        7430.40  Female   \n",
       "7040           Electronic check            29.60         325.60  Female   \n",
       "7041               Mailed check            74.40         520.80    Male   \n",
       "7042  Bank transfer (automatic)           105.65        7251.82    Male   \n",
       "\n",
       "      senior_citizen partner dependents internet_service online_security  \\\n",
       "0                  0     Yes         No              DSL              No   \n",
       "1                  0      No         No              DSL             Yes   \n",
       "2                  0      No         No              DSL             Yes   \n",
       "3                  0      No         No              DSL             Yes   \n",
       "4                  0      No         No      Fiber optic              No   \n",
       "...              ...     ...        ...              ...             ...   \n",
       "7038               0     Yes        Yes              DSL             Yes   \n",
       "7039               0     Yes        Yes      Fiber optic              No   \n",
       "7040               0     Yes        Yes              DSL             Yes   \n",
       "7041               1     Yes         No      Fiber optic              No   \n",
       "7042               0      No         No      Fiber optic             Yes   \n",
       "\n",
       "     online_backup device_protection tech_support streaming_t_v  \\\n",
       "0              Yes                No           No            No   \n",
       "1               No               Yes           No            No   \n",
       "2              Yes                No           No            No   \n",
       "3               No               Yes          Yes            No   \n",
       "4               No                No           No            No   \n",
       "...            ...               ...          ...           ...   \n",
       "7038            No               Yes          Yes           Yes   \n",
       "7039           Yes               Yes           No           Yes   \n",
       "7040            No                No           No            No   \n",
       "7041            No                No           No            No   \n",
       "7042            No               Yes          Yes           Yes   \n",
       "\n",
       "     streaming_movies multiple_lines  \n",
       "0                  No            NaN  \n",
       "1                  No             No  \n",
       "2                  No             No  \n",
       "3                  No            NaN  \n",
       "4                  No             No  \n",
       "...               ...            ...  \n",
       "7038              Yes            Yes  \n",
       "7039              Yes            Yes  \n",
       "7040               No            NaN  \n",
       "7041               No            Yes  \n",
       "7042              Yes             No  \n",
       "\n",
       "[7043 rows x 20 columns]"
      ]
     },
     "execution_count": 35,
     "metadata": {},
     "output_type": "execute_result"
    }
   ],
   "source": [
    "data"
   ]
  },
  {
   "cell_type": "code",
   "execution_count": 36,
   "metadata": {},
   "outputs": [],
   "source": [
    "data['end_date'] = data['end_date'].replace('No', '2020-02-01')"
   ]
  },
  {
   "cell_type": "code",
   "execution_count": 37,
   "metadata": {},
   "outputs": [],
   "source": [
    "data['target'] = data['end_date'].apply(lambda x: 1 if x != '2020-02-01' else 0)"
   ]
  },
  {
   "cell_type": "code",
   "execution_count": 38,
   "metadata": {},
   "outputs": [
    {
     "data": {
      "text/html": [
       "<div>\n",
       "<style scoped>\n",
       "    .dataframe tbody tr th:only-of-type {\n",
       "        vertical-align: middle;\n",
       "    }\n",
       "\n",
       "    .dataframe tbody tr th {\n",
       "        vertical-align: top;\n",
       "    }\n",
       "\n",
       "    .dataframe thead th {\n",
       "        text-align: right;\n",
       "    }\n",
       "</style>\n",
       "<table border=\"1\" class=\"dataframe\">\n",
       "  <thead>\n",
       "    <tr style=\"text-align: right;\">\n",
       "      <th></th>\n",
       "      <th>customer_i_d</th>\n",
       "      <th>begin_date</th>\n",
       "      <th>end_date</th>\n",
       "      <th>type</th>\n",
       "      <th>paperless_billing</th>\n",
       "      <th>payment_method</th>\n",
       "      <th>monthly_charges</th>\n",
       "      <th>total_charges</th>\n",
       "      <th>gender</th>\n",
       "      <th>senior_citizen</th>\n",
       "      <th>...</th>\n",
       "      <th>dependents</th>\n",
       "      <th>internet_service</th>\n",
       "      <th>online_security</th>\n",
       "      <th>online_backup</th>\n",
       "      <th>device_protection</th>\n",
       "      <th>tech_support</th>\n",
       "      <th>streaming_t_v</th>\n",
       "      <th>streaming_movies</th>\n",
       "      <th>multiple_lines</th>\n",
       "      <th>target</th>\n",
       "    </tr>\n",
       "  </thead>\n",
       "  <tbody>\n",
       "    <tr>\n",
       "      <th>0</th>\n",
       "      <td>7590-VHVEG</td>\n",
       "      <td>2020-01-01</td>\n",
       "      <td>2020-02-01</td>\n",
       "      <td>Month-to-month</td>\n",
       "      <td>Yes</td>\n",
       "      <td>Electronic check</td>\n",
       "      <td>29.85</td>\n",
       "      <td>31.04</td>\n",
       "      <td>Female</td>\n",
       "      <td>0</td>\n",
       "      <td>...</td>\n",
       "      <td>No</td>\n",
       "      <td>DSL</td>\n",
       "      <td>No</td>\n",
       "      <td>Yes</td>\n",
       "      <td>No</td>\n",
       "      <td>No</td>\n",
       "      <td>No</td>\n",
       "      <td>No</td>\n",
       "      <td>NaN</td>\n",
       "      <td>0</td>\n",
       "    </tr>\n",
       "    <tr>\n",
       "      <th>1</th>\n",
       "      <td>5575-GNVDE</td>\n",
       "      <td>2017-04-01</td>\n",
       "      <td>2020-02-01</td>\n",
       "      <td>One year</td>\n",
       "      <td>No</td>\n",
       "      <td>Mailed check</td>\n",
       "      <td>56.95</td>\n",
       "      <td>2071.84</td>\n",
       "      <td>Male</td>\n",
       "      <td>0</td>\n",
       "      <td>...</td>\n",
       "      <td>No</td>\n",
       "      <td>DSL</td>\n",
       "      <td>Yes</td>\n",
       "      <td>No</td>\n",
       "      <td>Yes</td>\n",
       "      <td>No</td>\n",
       "      <td>No</td>\n",
       "      <td>No</td>\n",
       "      <td>No</td>\n",
       "      <td>0</td>\n",
       "    </tr>\n",
       "    <tr>\n",
       "      <th>2</th>\n",
       "      <td>3668-QPYBK</td>\n",
       "      <td>2019-10-01</td>\n",
       "      <td>2020-02-01</td>\n",
       "      <td>Month-to-month</td>\n",
       "      <td>Yes</td>\n",
       "      <td>Mailed check</td>\n",
       "      <td>53.85</td>\n",
       "      <td>226.17</td>\n",
       "      <td>Male</td>\n",
       "      <td>0</td>\n",
       "      <td>...</td>\n",
       "      <td>No</td>\n",
       "      <td>DSL</td>\n",
       "      <td>Yes</td>\n",
       "      <td>Yes</td>\n",
       "      <td>No</td>\n",
       "      <td>No</td>\n",
       "      <td>No</td>\n",
       "      <td>No</td>\n",
       "      <td>No</td>\n",
       "      <td>0</td>\n",
       "    </tr>\n",
       "    <tr>\n",
       "      <th>3</th>\n",
       "      <td>7795-CFOCW</td>\n",
       "      <td>2016-05-01</td>\n",
       "      <td>2020-02-01</td>\n",
       "      <td>One year</td>\n",
       "      <td>No</td>\n",
       "      <td>Bank transfer (automatic)</td>\n",
       "      <td>42.30</td>\n",
       "      <td>1960.60</td>\n",
       "      <td>Male</td>\n",
       "      <td>0</td>\n",
       "      <td>...</td>\n",
       "      <td>No</td>\n",
       "      <td>DSL</td>\n",
       "      <td>Yes</td>\n",
       "      <td>No</td>\n",
       "      <td>Yes</td>\n",
       "      <td>Yes</td>\n",
       "      <td>No</td>\n",
       "      <td>No</td>\n",
       "      <td>NaN</td>\n",
       "      <td>0</td>\n",
       "    </tr>\n",
       "    <tr>\n",
       "      <th>4</th>\n",
       "      <td>9237-HQITU</td>\n",
       "      <td>2019-09-01</td>\n",
       "      <td>2020-02-01</td>\n",
       "      <td>Month-to-month</td>\n",
       "      <td>Yes</td>\n",
       "      <td>Electronic check</td>\n",
       "      <td>70.70</td>\n",
       "      <td>353.50</td>\n",
       "      <td>Female</td>\n",
       "      <td>0</td>\n",
       "      <td>...</td>\n",
       "      <td>No</td>\n",
       "      <td>Fiber optic</td>\n",
       "      <td>No</td>\n",
       "      <td>No</td>\n",
       "      <td>No</td>\n",
       "      <td>No</td>\n",
       "      <td>No</td>\n",
       "      <td>No</td>\n",
       "      <td>No</td>\n",
       "      <td>0</td>\n",
       "    </tr>\n",
       "    <tr>\n",
       "      <th>5</th>\n",
       "      <td>9305-CDSKC</td>\n",
       "      <td>2019-03-01</td>\n",
       "      <td>2020-02-01</td>\n",
       "      <td>Month-to-month</td>\n",
       "      <td>Yes</td>\n",
       "      <td>Electronic check</td>\n",
       "      <td>99.65</td>\n",
       "      <td>1150.96</td>\n",
       "      <td>Female</td>\n",
       "      <td>0</td>\n",
       "      <td>...</td>\n",
       "      <td>No</td>\n",
       "      <td>Fiber optic</td>\n",
       "      <td>No</td>\n",
       "      <td>No</td>\n",
       "      <td>Yes</td>\n",
       "      <td>No</td>\n",
       "      <td>Yes</td>\n",
       "      <td>Yes</td>\n",
       "      <td>Yes</td>\n",
       "      <td>0</td>\n",
       "    </tr>\n",
       "    <tr>\n",
       "      <th>6</th>\n",
       "      <td>1452-KIOVK</td>\n",
       "      <td>2018-04-01</td>\n",
       "      <td>2020-02-01</td>\n",
       "      <td>Month-to-month</td>\n",
       "      <td>Yes</td>\n",
       "      <td>Credit card (automatic)</td>\n",
       "      <td>89.10</td>\n",
       "      <td>2058.21</td>\n",
       "      <td>Male</td>\n",
       "      <td>0</td>\n",
       "      <td>...</td>\n",
       "      <td>Yes</td>\n",
       "      <td>Fiber optic</td>\n",
       "      <td>No</td>\n",
       "      <td>Yes</td>\n",
       "      <td>No</td>\n",
       "      <td>No</td>\n",
       "      <td>Yes</td>\n",
       "      <td>No</td>\n",
       "      <td>Yes</td>\n",
       "      <td>0</td>\n",
       "    </tr>\n",
       "    <tr>\n",
       "      <th>7</th>\n",
       "      <td>6713-OKOMC</td>\n",
       "      <td>2019-04-01</td>\n",
       "      <td>2020-02-01</td>\n",
       "      <td>Month-to-month</td>\n",
       "      <td>No</td>\n",
       "      <td>Mailed check</td>\n",
       "      <td>29.75</td>\n",
       "      <td>300.48</td>\n",
       "      <td>Female</td>\n",
       "      <td>0</td>\n",
       "      <td>...</td>\n",
       "      <td>No</td>\n",
       "      <td>DSL</td>\n",
       "      <td>Yes</td>\n",
       "      <td>No</td>\n",
       "      <td>No</td>\n",
       "      <td>No</td>\n",
       "      <td>No</td>\n",
       "      <td>No</td>\n",
       "      <td>NaN</td>\n",
       "      <td>0</td>\n",
       "    </tr>\n",
       "    <tr>\n",
       "      <th>8</th>\n",
       "      <td>7892-POOKP</td>\n",
       "      <td>2017-07-01</td>\n",
       "      <td>2020-02-01</td>\n",
       "      <td>Month-to-month</td>\n",
       "      <td>Yes</td>\n",
       "      <td>Electronic check</td>\n",
       "      <td>104.80</td>\n",
       "      <td>3573.68</td>\n",
       "      <td>Female</td>\n",
       "      <td>0</td>\n",
       "      <td>...</td>\n",
       "      <td>No</td>\n",
       "      <td>Fiber optic</td>\n",
       "      <td>No</td>\n",
       "      <td>No</td>\n",
       "      <td>Yes</td>\n",
       "      <td>Yes</td>\n",
       "      <td>Yes</td>\n",
       "      <td>Yes</td>\n",
       "      <td>Yes</td>\n",
       "      <td>0</td>\n",
       "    </tr>\n",
       "    <tr>\n",
       "      <th>9</th>\n",
       "      <td>6388-TABGU</td>\n",
       "      <td>2014-12-01</td>\n",
       "      <td>2017-05-01</td>\n",
       "      <td>One year</td>\n",
       "      <td>No</td>\n",
       "      <td>Bank transfer (automatic)</td>\n",
       "      <td>56.15</td>\n",
       "      <td>1628.35</td>\n",
       "      <td>Male</td>\n",
       "      <td>0</td>\n",
       "      <td>...</td>\n",
       "      <td>Yes</td>\n",
       "      <td>DSL</td>\n",
       "      <td>Yes</td>\n",
       "      <td>Yes</td>\n",
       "      <td>No</td>\n",
       "      <td>No</td>\n",
       "      <td>No</td>\n",
       "      <td>No</td>\n",
       "      <td>No</td>\n",
       "      <td>1</td>\n",
       "    </tr>\n",
       "    <tr>\n",
       "      <th>10</th>\n",
       "      <td>9763-GRSKD</td>\n",
       "      <td>2019-01-01</td>\n",
       "      <td>2020-02-01</td>\n",
       "      <td>Month-to-month</td>\n",
       "      <td>Yes</td>\n",
       "      <td>Mailed check</td>\n",
       "      <td>49.95</td>\n",
       "      <td>649.35</td>\n",
       "      <td>Male</td>\n",
       "      <td>0</td>\n",
       "      <td>...</td>\n",
       "      <td>Yes</td>\n",
       "      <td>DSL</td>\n",
       "      <td>Yes</td>\n",
       "      <td>No</td>\n",
       "      <td>No</td>\n",
       "      <td>No</td>\n",
       "      <td>No</td>\n",
       "      <td>No</td>\n",
       "      <td>No</td>\n",
       "      <td>0</td>\n",
       "    </tr>\n",
       "    <tr>\n",
       "      <th>11</th>\n",
       "      <td>7469-LKBCI</td>\n",
       "      <td>2018-10-01</td>\n",
       "      <td>2020-02-01</td>\n",
       "      <td>Two year</td>\n",
       "      <td>No</td>\n",
       "      <td>Credit card (automatic)</td>\n",
       "      <td>18.95</td>\n",
       "      <td>312.30</td>\n",
       "      <td>Male</td>\n",
       "      <td>0</td>\n",
       "      <td>...</td>\n",
       "      <td>No</td>\n",
       "      <td>NaN</td>\n",
       "      <td>NaN</td>\n",
       "      <td>NaN</td>\n",
       "      <td>NaN</td>\n",
       "      <td>NaN</td>\n",
       "      <td>NaN</td>\n",
       "      <td>NaN</td>\n",
       "      <td>No</td>\n",
       "      <td>0</td>\n",
       "    </tr>\n",
       "    <tr>\n",
       "      <th>12</th>\n",
       "      <td>8091-TTVAX</td>\n",
       "      <td>2015-04-01</td>\n",
       "      <td>2020-02-01</td>\n",
       "      <td>One year</td>\n",
       "      <td>No</td>\n",
       "      <td>Credit card (automatic)</td>\n",
       "      <td>100.35</td>\n",
       "      <td>6111.31</td>\n",
       "      <td>Male</td>\n",
       "      <td>0</td>\n",
       "      <td>...</td>\n",
       "      <td>No</td>\n",
       "      <td>Fiber optic</td>\n",
       "      <td>No</td>\n",
       "      <td>No</td>\n",
       "      <td>Yes</td>\n",
       "      <td>No</td>\n",
       "      <td>Yes</td>\n",
       "      <td>Yes</td>\n",
       "      <td>Yes</td>\n",
       "      <td>0</td>\n",
       "    </tr>\n",
       "    <tr>\n",
       "      <th>13</th>\n",
       "      <td>0280-XJGEX</td>\n",
       "      <td>2015-09-01</td>\n",
       "      <td>2020-02-01</td>\n",
       "      <td>Month-to-month</td>\n",
       "      <td>Yes</td>\n",
       "      <td>Bank transfer (automatic)</td>\n",
       "      <td>103.70</td>\n",
       "      <td>5496.10</td>\n",
       "      <td>Male</td>\n",
       "      <td>0</td>\n",
       "      <td>...</td>\n",
       "      <td>No</td>\n",
       "      <td>Fiber optic</td>\n",
       "      <td>No</td>\n",
       "      <td>Yes</td>\n",
       "      <td>Yes</td>\n",
       "      <td>No</td>\n",
       "      <td>Yes</td>\n",
       "      <td>Yes</td>\n",
       "      <td>Yes</td>\n",
       "      <td>0</td>\n",
       "    </tr>\n",
       "    <tr>\n",
       "      <th>14</th>\n",
       "      <td>5129-JLPIS</td>\n",
       "      <td>2018-01-01</td>\n",
       "      <td>2020-02-01</td>\n",
       "      <td>Month-to-month</td>\n",
       "      <td>Yes</td>\n",
       "      <td>Electronic check</td>\n",
       "      <td>105.50</td>\n",
       "      <td>2637.50</td>\n",
       "      <td>Male</td>\n",
       "      <td>0</td>\n",
       "      <td>...</td>\n",
       "      <td>No</td>\n",
       "      <td>Fiber optic</td>\n",
       "      <td>Yes</td>\n",
       "      <td>No</td>\n",
       "      <td>Yes</td>\n",
       "      <td>Yes</td>\n",
       "      <td>Yes</td>\n",
       "      <td>Yes</td>\n",
       "      <td>No</td>\n",
       "      <td>0</td>\n",
       "    </tr>\n",
       "    <tr>\n",
       "      <th>15</th>\n",
       "      <td>3655-SNQYZ</td>\n",
       "      <td>2014-05-01</td>\n",
       "      <td>2016-03-01</td>\n",
       "      <td>Two year</td>\n",
       "      <td>No</td>\n",
       "      <td>Credit card (automatic)</td>\n",
       "      <td>113.25</td>\n",
       "      <td>2491.50</td>\n",
       "      <td>Female</td>\n",
       "      <td>0</td>\n",
       "      <td>...</td>\n",
       "      <td>Yes</td>\n",
       "      <td>Fiber optic</td>\n",
       "      <td>Yes</td>\n",
       "      <td>Yes</td>\n",
       "      <td>Yes</td>\n",
       "      <td>Yes</td>\n",
       "      <td>Yes</td>\n",
       "      <td>Yes</td>\n",
       "      <td>Yes</td>\n",
       "      <td>1</td>\n",
       "    </tr>\n",
       "    <tr>\n",
       "      <th>16</th>\n",
       "      <td>8191-XWSZG</td>\n",
       "      <td>2015-10-01</td>\n",
       "      <td>2020-02-01</td>\n",
       "      <td>One year</td>\n",
       "      <td>No</td>\n",
       "      <td>Mailed check</td>\n",
       "      <td>20.65</td>\n",
       "      <td>1106.01</td>\n",
       "      <td>Female</td>\n",
       "      <td>0</td>\n",
       "      <td>...</td>\n",
       "      <td>No</td>\n",
       "      <td>NaN</td>\n",
       "      <td>NaN</td>\n",
       "      <td>NaN</td>\n",
       "      <td>NaN</td>\n",
       "      <td>NaN</td>\n",
       "      <td>NaN</td>\n",
       "      <td>NaN</td>\n",
       "      <td>No</td>\n",
       "      <td>0</td>\n",
       "    </tr>\n",
       "    <tr>\n",
       "      <th>17</th>\n",
       "      <td>9959-WOFKT</td>\n",
       "      <td>2014-03-01</td>\n",
       "      <td>2020-02-01</td>\n",
       "      <td>Two year</td>\n",
       "      <td>No</td>\n",
       "      <td>Bank transfer (automatic)</td>\n",
       "      <td>106.70</td>\n",
       "      <td>8257.51</td>\n",
       "      <td>Male</td>\n",
       "      <td>0</td>\n",
       "      <td>...</td>\n",
       "      <td>Yes</td>\n",
       "      <td>Fiber optic</td>\n",
       "      <td>Yes</td>\n",
       "      <td>No</td>\n",
       "      <td>Yes</td>\n",
       "      <td>No</td>\n",
       "      <td>Yes</td>\n",
       "      <td>Yes</td>\n",
       "      <td>Yes</td>\n",
       "      <td>0</td>\n",
       "    </tr>\n",
       "    <tr>\n",
       "      <th>18</th>\n",
       "      <td>4190-MFLUW</td>\n",
       "      <td>2019-01-01</td>\n",
       "      <td>2020-02-01</td>\n",
       "      <td>Month-to-month</td>\n",
       "      <td>No</td>\n",
       "      <td>Credit card (automatic)</td>\n",
       "      <td>55.20</td>\n",
       "      <td>789.36</td>\n",
       "      <td>Female</td>\n",
       "      <td>0</td>\n",
       "      <td>...</td>\n",
       "      <td>Yes</td>\n",
       "      <td>DSL</td>\n",
       "      <td>No</td>\n",
       "      <td>No</td>\n",
       "      <td>Yes</td>\n",
       "      <td>Yes</td>\n",
       "      <td>No</td>\n",
       "      <td>No</td>\n",
       "      <td>No</td>\n",
       "      <td>0</td>\n",
       "    </tr>\n",
       "    <tr>\n",
       "      <th>19</th>\n",
       "      <td>4183-MYFRB</td>\n",
       "      <td>2018-05-01</td>\n",
       "      <td>2020-02-01</td>\n",
       "      <td>Month-to-month</td>\n",
       "      <td>Yes</td>\n",
       "      <td>Electronic check</td>\n",
       "      <td>90.05</td>\n",
       "      <td>1891.05</td>\n",
       "      <td>Female</td>\n",
       "      <td>0</td>\n",
       "      <td>...</td>\n",
       "      <td>No</td>\n",
       "      <td>Fiber optic</td>\n",
       "      <td>No</td>\n",
       "      <td>Yes</td>\n",
       "      <td>Yes</td>\n",
       "      <td>No</td>\n",
       "      <td>No</td>\n",
       "      <td>Yes</td>\n",
       "      <td>No</td>\n",
       "      <td>0</td>\n",
       "    </tr>\n",
       "  </tbody>\n",
       "</table>\n",
       "<p>20 rows × 21 columns</p>\n",
       "</div>"
      ],
      "text/plain": [
       "   customer_i_d  begin_date    end_date            type paperless_billing  \\\n",
       "0    7590-VHVEG  2020-01-01  2020-02-01  Month-to-month               Yes   \n",
       "1    5575-GNVDE  2017-04-01  2020-02-01        One year                No   \n",
       "2    3668-QPYBK  2019-10-01  2020-02-01  Month-to-month               Yes   \n",
       "3    7795-CFOCW  2016-05-01  2020-02-01        One year                No   \n",
       "4    9237-HQITU  2019-09-01  2020-02-01  Month-to-month               Yes   \n",
       "5    9305-CDSKC  2019-03-01  2020-02-01  Month-to-month               Yes   \n",
       "6    1452-KIOVK  2018-04-01  2020-02-01  Month-to-month               Yes   \n",
       "7    6713-OKOMC  2019-04-01  2020-02-01  Month-to-month                No   \n",
       "8    7892-POOKP  2017-07-01  2020-02-01  Month-to-month               Yes   \n",
       "9    6388-TABGU  2014-12-01  2017-05-01        One year                No   \n",
       "10   9763-GRSKD  2019-01-01  2020-02-01  Month-to-month               Yes   \n",
       "11   7469-LKBCI  2018-10-01  2020-02-01        Two year                No   \n",
       "12   8091-TTVAX  2015-04-01  2020-02-01        One year                No   \n",
       "13   0280-XJGEX  2015-09-01  2020-02-01  Month-to-month               Yes   \n",
       "14   5129-JLPIS  2018-01-01  2020-02-01  Month-to-month               Yes   \n",
       "15   3655-SNQYZ  2014-05-01  2016-03-01        Two year                No   \n",
       "16   8191-XWSZG  2015-10-01  2020-02-01        One year                No   \n",
       "17   9959-WOFKT  2014-03-01  2020-02-01        Two year                No   \n",
       "18   4190-MFLUW  2019-01-01  2020-02-01  Month-to-month                No   \n",
       "19   4183-MYFRB  2018-05-01  2020-02-01  Month-to-month               Yes   \n",
       "\n",
       "               payment_method  monthly_charges  total_charges  gender  \\\n",
       "0            Electronic check            29.85          31.04  Female   \n",
       "1                Mailed check            56.95        2071.84    Male   \n",
       "2                Mailed check            53.85         226.17    Male   \n",
       "3   Bank transfer (automatic)            42.30        1960.60    Male   \n",
       "4            Electronic check            70.70         353.50  Female   \n",
       "5            Electronic check            99.65        1150.96  Female   \n",
       "6     Credit card (automatic)            89.10        2058.21    Male   \n",
       "7                Mailed check            29.75         300.48  Female   \n",
       "8            Electronic check           104.80        3573.68  Female   \n",
       "9   Bank transfer (automatic)            56.15        1628.35    Male   \n",
       "10               Mailed check            49.95         649.35    Male   \n",
       "11    Credit card (automatic)            18.95         312.30    Male   \n",
       "12    Credit card (automatic)           100.35        6111.31    Male   \n",
       "13  Bank transfer (automatic)           103.70        5496.10    Male   \n",
       "14           Electronic check           105.50        2637.50    Male   \n",
       "15    Credit card (automatic)           113.25        2491.50  Female   \n",
       "16               Mailed check            20.65        1106.01  Female   \n",
       "17  Bank transfer (automatic)           106.70        8257.51    Male   \n",
       "18    Credit card (automatic)            55.20         789.36  Female   \n",
       "19           Electronic check            90.05        1891.05  Female   \n",
       "\n",
       "    senior_citizen  ... dependents internet_service online_security  \\\n",
       "0                0  ...         No              DSL              No   \n",
       "1                0  ...         No              DSL             Yes   \n",
       "2                0  ...         No              DSL             Yes   \n",
       "3                0  ...         No              DSL             Yes   \n",
       "4                0  ...         No      Fiber optic              No   \n",
       "5                0  ...         No      Fiber optic              No   \n",
       "6                0  ...        Yes      Fiber optic              No   \n",
       "7                0  ...         No              DSL             Yes   \n",
       "8                0  ...         No      Fiber optic              No   \n",
       "9                0  ...        Yes              DSL             Yes   \n",
       "10               0  ...        Yes              DSL             Yes   \n",
       "11               0  ...         No              NaN             NaN   \n",
       "12               0  ...         No      Fiber optic              No   \n",
       "13               0  ...         No      Fiber optic              No   \n",
       "14               0  ...         No      Fiber optic             Yes   \n",
       "15               0  ...        Yes      Fiber optic             Yes   \n",
       "16               0  ...         No              NaN             NaN   \n",
       "17               0  ...        Yes      Fiber optic             Yes   \n",
       "18               0  ...        Yes              DSL              No   \n",
       "19               0  ...         No      Fiber optic              No   \n",
       "\n",
       "   online_backup device_protection tech_support streaming_t_v  \\\n",
       "0            Yes                No           No            No   \n",
       "1             No               Yes           No            No   \n",
       "2            Yes                No           No            No   \n",
       "3             No               Yes          Yes            No   \n",
       "4             No                No           No            No   \n",
       "5             No               Yes           No           Yes   \n",
       "6            Yes                No           No           Yes   \n",
       "7             No                No           No            No   \n",
       "8             No               Yes          Yes           Yes   \n",
       "9            Yes                No           No            No   \n",
       "10            No                No           No            No   \n",
       "11           NaN               NaN          NaN           NaN   \n",
       "12            No               Yes           No           Yes   \n",
       "13           Yes               Yes           No           Yes   \n",
       "14            No               Yes          Yes           Yes   \n",
       "15           Yes               Yes          Yes           Yes   \n",
       "16           NaN               NaN          NaN           NaN   \n",
       "17            No               Yes           No           Yes   \n",
       "18            No               Yes          Yes            No   \n",
       "19           Yes               Yes           No            No   \n",
       "\n",
       "   streaming_movies multiple_lines target  \n",
       "0                No            NaN      0  \n",
       "1                No             No      0  \n",
       "2                No             No      0  \n",
       "3                No            NaN      0  \n",
       "4                No             No      0  \n",
       "5               Yes            Yes      0  \n",
       "6                No            Yes      0  \n",
       "7                No            NaN      0  \n",
       "8               Yes            Yes      0  \n",
       "9                No             No      1  \n",
       "10               No             No      0  \n",
       "11              NaN             No      0  \n",
       "12              Yes            Yes      0  \n",
       "13              Yes            Yes      0  \n",
       "14              Yes             No      0  \n",
       "15              Yes            Yes      1  \n",
       "16              NaN             No      0  \n",
       "17              Yes            Yes      0  \n",
       "18               No             No      0  \n",
       "19              Yes             No      0  \n",
       "\n",
       "[20 rows x 21 columns]"
      ]
     },
     "execution_count": 38,
     "metadata": {},
     "output_type": "execute_result"
    }
   ],
   "source": [
    "data.head(20)"
   ]
  },
  {
   "cell_type": "code",
   "execution_count": 39,
   "metadata": {},
   "outputs": [],
   "source": [
    "data['begin_date'] = pd.to_datetime(data['begin_date'], format='%Y-%m-%d')\n",
    "data['end_date'] = pd.to_datetime(data['end_date'], format='%Y-%m-%d')"
   ]
  },
  {
   "cell_type": "code",
   "execution_count": 40,
   "metadata": {},
   "outputs": [
    {
     "data": {
      "text/html": [
       "<div>\n",
       "<style scoped>\n",
       "    .dataframe tbody tr th:only-of-type {\n",
       "        vertical-align: middle;\n",
       "    }\n",
       "\n",
       "    .dataframe tbody tr th {\n",
       "        vertical-align: top;\n",
       "    }\n",
       "\n",
       "    .dataframe thead th {\n",
       "        text-align: right;\n",
       "    }\n",
       "</style>\n",
       "<table border=\"1\" class=\"dataframe\">\n",
       "  <thead>\n",
       "    <tr style=\"text-align: right;\">\n",
       "      <th></th>\n",
       "      <th>customer_i_d</th>\n",
       "      <th>begin_date</th>\n",
       "      <th>end_date</th>\n",
       "      <th>type</th>\n",
       "      <th>paperless_billing</th>\n",
       "      <th>payment_method</th>\n",
       "      <th>monthly_charges</th>\n",
       "      <th>total_charges</th>\n",
       "      <th>gender</th>\n",
       "      <th>senior_citizen</th>\n",
       "      <th>...</th>\n",
       "      <th>dependents</th>\n",
       "      <th>internet_service</th>\n",
       "      <th>online_security</th>\n",
       "      <th>online_backup</th>\n",
       "      <th>device_protection</th>\n",
       "      <th>tech_support</th>\n",
       "      <th>streaming_t_v</th>\n",
       "      <th>streaming_movies</th>\n",
       "      <th>multiple_lines</th>\n",
       "      <th>target</th>\n",
       "    </tr>\n",
       "  </thead>\n",
       "  <tbody>\n",
       "    <tr>\n",
       "      <th>0</th>\n",
       "      <td>7590-VHVEG</td>\n",
       "      <td>2020-01-01</td>\n",
       "      <td>2020-02-01</td>\n",
       "      <td>Month-to-month</td>\n",
       "      <td>Yes</td>\n",
       "      <td>Electronic check</td>\n",
       "      <td>29.85</td>\n",
       "      <td>31.04</td>\n",
       "      <td>Female</td>\n",
       "      <td>0</td>\n",
       "      <td>...</td>\n",
       "      <td>No</td>\n",
       "      <td>DSL</td>\n",
       "      <td>No</td>\n",
       "      <td>Yes</td>\n",
       "      <td>No</td>\n",
       "      <td>No</td>\n",
       "      <td>No</td>\n",
       "      <td>No</td>\n",
       "      <td>NaN</td>\n",
       "      <td>0</td>\n",
       "    </tr>\n",
       "    <tr>\n",
       "      <th>1</th>\n",
       "      <td>5575-GNVDE</td>\n",
       "      <td>2017-04-01</td>\n",
       "      <td>2020-02-01</td>\n",
       "      <td>One year</td>\n",
       "      <td>No</td>\n",
       "      <td>Mailed check</td>\n",
       "      <td>56.95</td>\n",
       "      <td>2071.84</td>\n",
       "      <td>Male</td>\n",
       "      <td>0</td>\n",
       "      <td>...</td>\n",
       "      <td>No</td>\n",
       "      <td>DSL</td>\n",
       "      <td>Yes</td>\n",
       "      <td>No</td>\n",
       "      <td>Yes</td>\n",
       "      <td>No</td>\n",
       "      <td>No</td>\n",
       "      <td>No</td>\n",
       "      <td>No</td>\n",
       "      <td>0</td>\n",
       "    </tr>\n",
       "    <tr>\n",
       "      <th>2</th>\n",
       "      <td>3668-QPYBK</td>\n",
       "      <td>2019-10-01</td>\n",
       "      <td>2020-02-01</td>\n",
       "      <td>Month-to-month</td>\n",
       "      <td>Yes</td>\n",
       "      <td>Mailed check</td>\n",
       "      <td>53.85</td>\n",
       "      <td>226.17</td>\n",
       "      <td>Male</td>\n",
       "      <td>0</td>\n",
       "      <td>...</td>\n",
       "      <td>No</td>\n",
       "      <td>DSL</td>\n",
       "      <td>Yes</td>\n",
       "      <td>Yes</td>\n",
       "      <td>No</td>\n",
       "      <td>No</td>\n",
       "      <td>No</td>\n",
       "      <td>No</td>\n",
       "      <td>No</td>\n",
       "      <td>0</td>\n",
       "    </tr>\n",
       "    <tr>\n",
       "      <th>3</th>\n",
       "      <td>7795-CFOCW</td>\n",
       "      <td>2016-05-01</td>\n",
       "      <td>2020-02-01</td>\n",
       "      <td>One year</td>\n",
       "      <td>No</td>\n",
       "      <td>Bank transfer (automatic)</td>\n",
       "      <td>42.30</td>\n",
       "      <td>1960.60</td>\n",
       "      <td>Male</td>\n",
       "      <td>0</td>\n",
       "      <td>...</td>\n",
       "      <td>No</td>\n",
       "      <td>DSL</td>\n",
       "      <td>Yes</td>\n",
       "      <td>No</td>\n",
       "      <td>Yes</td>\n",
       "      <td>Yes</td>\n",
       "      <td>No</td>\n",
       "      <td>No</td>\n",
       "      <td>NaN</td>\n",
       "      <td>0</td>\n",
       "    </tr>\n",
       "    <tr>\n",
       "      <th>4</th>\n",
       "      <td>9237-HQITU</td>\n",
       "      <td>2019-09-01</td>\n",
       "      <td>2020-02-01</td>\n",
       "      <td>Month-to-month</td>\n",
       "      <td>Yes</td>\n",
       "      <td>Electronic check</td>\n",
       "      <td>70.70</td>\n",
       "      <td>353.50</td>\n",
       "      <td>Female</td>\n",
       "      <td>0</td>\n",
       "      <td>...</td>\n",
       "      <td>No</td>\n",
       "      <td>Fiber optic</td>\n",
       "      <td>No</td>\n",
       "      <td>No</td>\n",
       "      <td>No</td>\n",
       "      <td>No</td>\n",
       "      <td>No</td>\n",
       "      <td>No</td>\n",
       "      <td>No</td>\n",
       "      <td>0</td>\n",
       "    </tr>\n",
       "    <tr>\n",
       "      <th>...</th>\n",
       "      <td>...</td>\n",
       "      <td>...</td>\n",
       "      <td>...</td>\n",
       "      <td>...</td>\n",
       "      <td>...</td>\n",
       "      <td>...</td>\n",
       "      <td>...</td>\n",
       "      <td>...</td>\n",
       "      <td>...</td>\n",
       "      <td>...</td>\n",
       "      <td>...</td>\n",
       "      <td>...</td>\n",
       "      <td>...</td>\n",
       "      <td>...</td>\n",
       "      <td>...</td>\n",
       "      <td>...</td>\n",
       "      <td>...</td>\n",
       "      <td>...</td>\n",
       "      <td>...</td>\n",
       "      <td>...</td>\n",
       "      <td>...</td>\n",
       "    </tr>\n",
       "    <tr>\n",
       "      <th>7038</th>\n",
       "      <td>6840-RESVB</td>\n",
       "      <td>2018-02-01</td>\n",
       "      <td>2020-02-01</td>\n",
       "      <td>One year</td>\n",
       "      <td>Yes</td>\n",
       "      <td>Mailed check</td>\n",
       "      <td>84.80</td>\n",
       "      <td>2035.20</td>\n",
       "      <td>Male</td>\n",
       "      <td>0</td>\n",
       "      <td>...</td>\n",
       "      <td>Yes</td>\n",
       "      <td>DSL</td>\n",
       "      <td>Yes</td>\n",
       "      <td>No</td>\n",
       "      <td>Yes</td>\n",
       "      <td>Yes</td>\n",
       "      <td>Yes</td>\n",
       "      <td>Yes</td>\n",
       "      <td>Yes</td>\n",
       "      <td>0</td>\n",
       "    </tr>\n",
       "    <tr>\n",
       "      <th>7039</th>\n",
       "      <td>2234-XADUH</td>\n",
       "      <td>2014-02-01</td>\n",
       "      <td>2020-02-01</td>\n",
       "      <td>One year</td>\n",
       "      <td>Yes</td>\n",
       "      <td>Credit card (automatic)</td>\n",
       "      <td>103.20</td>\n",
       "      <td>7430.40</td>\n",
       "      <td>Female</td>\n",
       "      <td>0</td>\n",
       "      <td>...</td>\n",
       "      <td>Yes</td>\n",
       "      <td>Fiber optic</td>\n",
       "      <td>No</td>\n",
       "      <td>Yes</td>\n",
       "      <td>Yes</td>\n",
       "      <td>No</td>\n",
       "      <td>Yes</td>\n",
       "      <td>Yes</td>\n",
       "      <td>Yes</td>\n",
       "      <td>0</td>\n",
       "    </tr>\n",
       "    <tr>\n",
       "      <th>7040</th>\n",
       "      <td>4801-JZAZL</td>\n",
       "      <td>2019-03-01</td>\n",
       "      <td>2020-02-01</td>\n",
       "      <td>Month-to-month</td>\n",
       "      <td>Yes</td>\n",
       "      <td>Electronic check</td>\n",
       "      <td>29.60</td>\n",
       "      <td>325.60</td>\n",
       "      <td>Female</td>\n",
       "      <td>0</td>\n",
       "      <td>...</td>\n",
       "      <td>Yes</td>\n",
       "      <td>DSL</td>\n",
       "      <td>Yes</td>\n",
       "      <td>No</td>\n",
       "      <td>No</td>\n",
       "      <td>No</td>\n",
       "      <td>No</td>\n",
       "      <td>No</td>\n",
       "      <td>NaN</td>\n",
       "      <td>0</td>\n",
       "    </tr>\n",
       "    <tr>\n",
       "      <th>7041</th>\n",
       "      <td>8361-LTMKD</td>\n",
       "      <td>2019-07-01</td>\n",
       "      <td>2020-02-01</td>\n",
       "      <td>Month-to-month</td>\n",
       "      <td>Yes</td>\n",
       "      <td>Mailed check</td>\n",
       "      <td>74.40</td>\n",
       "      <td>520.80</td>\n",
       "      <td>Male</td>\n",
       "      <td>1</td>\n",
       "      <td>...</td>\n",
       "      <td>No</td>\n",
       "      <td>Fiber optic</td>\n",
       "      <td>No</td>\n",
       "      <td>No</td>\n",
       "      <td>No</td>\n",
       "      <td>No</td>\n",
       "      <td>No</td>\n",
       "      <td>No</td>\n",
       "      <td>Yes</td>\n",
       "      <td>0</td>\n",
       "    </tr>\n",
       "    <tr>\n",
       "      <th>7042</th>\n",
       "      <td>3186-AJIEK</td>\n",
       "      <td>2014-08-01</td>\n",
       "      <td>2020-02-01</td>\n",
       "      <td>Two year</td>\n",
       "      <td>Yes</td>\n",
       "      <td>Bank transfer (automatic)</td>\n",
       "      <td>105.65</td>\n",
       "      <td>7251.82</td>\n",
       "      <td>Male</td>\n",
       "      <td>0</td>\n",
       "      <td>...</td>\n",
       "      <td>No</td>\n",
       "      <td>Fiber optic</td>\n",
       "      <td>Yes</td>\n",
       "      <td>No</td>\n",
       "      <td>Yes</td>\n",
       "      <td>Yes</td>\n",
       "      <td>Yes</td>\n",
       "      <td>Yes</td>\n",
       "      <td>No</td>\n",
       "      <td>0</td>\n",
       "    </tr>\n",
       "  </tbody>\n",
       "</table>\n",
       "<p>7043 rows × 21 columns</p>\n",
       "</div>"
      ],
      "text/plain": [
       "     customer_i_d begin_date   end_date            type paperless_billing  \\\n",
       "0      7590-VHVEG 2020-01-01 2020-02-01  Month-to-month               Yes   \n",
       "1      5575-GNVDE 2017-04-01 2020-02-01        One year                No   \n",
       "2      3668-QPYBK 2019-10-01 2020-02-01  Month-to-month               Yes   \n",
       "3      7795-CFOCW 2016-05-01 2020-02-01        One year                No   \n",
       "4      9237-HQITU 2019-09-01 2020-02-01  Month-to-month               Yes   \n",
       "...           ...        ...        ...             ...               ...   \n",
       "7038   6840-RESVB 2018-02-01 2020-02-01        One year               Yes   \n",
       "7039   2234-XADUH 2014-02-01 2020-02-01        One year               Yes   \n",
       "7040   4801-JZAZL 2019-03-01 2020-02-01  Month-to-month               Yes   \n",
       "7041   8361-LTMKD 2019-07-01 2020-02-01  Month-to-month               Yes   \n",
       "7042   3186-AJIEK 2014-08-01 2020-02-01        Two year               Yes   \n",
       "\n",
       "                 payment_method  monthly_charges  total_charges  gender  \\\n",
       "0              Electronic check            29.85          31.04  Female   \n",
       "1                  Mailed check            56.95        2071.84    Male   \n",
       "2                  Mailed check            53.85         226.17    Male   \n",
       "3     Bank transfer (automatic)            42.30        1960.60    Male   \n",
       "4              Electronic check            70.70         353.50  Female   \n",
       "...                         ...              ...            ...     ...   \n",
       "7038               Mailed check            84.80        2035.20    Male   \n",
       "7039    Credit card (automatic)           103.20        7430.40  Female   \n",
       "7040           Electronic check            29.60         325.60  Female   \n",
       "7041               Mailed check            74.40         520.80    Male   \n",
       "7042  Bank transfer (automatic)           105.65        7251.82    Male   \n",
       "\n",
       "      senior_citizen  ... dependents internet_service online_security  \\\n",
       "0                  0  ...         No              DSL              No   \n",
       "1                  0  ...         No              DSL             Yes   \n",
       "2                  0  ...         No              DSL             Yes   \n",
       "3                  0  ...         No              DSL             Yes   \n",
       "4                  0  ...         No      Fiber optic              No   \n",
       "...              ...  ...        ...              ...             ...   \n",
       "7038               0  ...        Yes              DSL             Yes   \n",
       "7039               0  ...        Yes      Fiber optic              No   \n",
       "7040               0  ...        Yes              DSL             Yes   \n",
       "7041               1  ...         No      Fiber optic              No   \n",
       "7042               0  ...         No      Fiber optic             Yes   \n",
       "\n",
       "     online_backup device_protection tech_support streaming_t_v  \\\n",
       "0              Yes                No           No            No   \n",
       "1               No               Yes           No            No   \n",
       "2              Yes                No           No            No   \n",
       "3               No               Yes          Yes            No   \n",
       "4               No                No           No            No   \n",
       "...            ...               ...          ...           ...   \n",
       "7038            No               Yes          Yes           Yes   \n",
       "7039           Yes               Yes           No           Yes   \n",
       "7040            No                No           No            No   \n",
       "7041            No                No           No            No   \n",
       "7042            No               Yes          Yes           Yes   \n",
       "\n",
       "     streaming_movies multiple_lines target  \n",
       "0                  No            NaN      0  \n",
       "1                  No             No      0  \n",
       "2                  No             No      0  \n",
       "3                  No            NaN      0  \n",
       "4                  No             No      0  \n",
       "...               ...            ...    ...  \n",
       "7038              Yes            Yes      0  \n",
       "7039              Yes            Yes      0  \n",
       "7040               No            NaN      0  \n",
       "7041               No            Yes      0  \n",
       "7042              Yes             No      0  \n",
       "\n",
       "[7043 rows x 21 columns]"
      ]
     },
     "execution_count": 40,
     "metadata": {},
     "output_type": "execute_result"
    }
   ],
   "source": [
    "data"
   ]
  },
  {
   "cell_type": "code",
   "execution_count": 41,
   "metadata": {},
   "outputs": [
    {
     "name": "stdout",
     "output_type": "stream",
     "text": [
      "<class 'pandas.core.frame.DataFrame'>\n",
      "Int64Index: 7043 entries, 0 to 7042\n",
      "Data columns (total 21 columns):\n",
      " #   Column             Non-Null Count  Dtype         \n",
      "---  ------             --------------  -----         \n",
      " 0   customer_i_d       7043 non-null   object        \n",
      " 1   begin_date         7043 non-null   datetime64[ns]\n",
      " 2   end_date           7043 non-null   datetime64[ns]\n",
      " 3   type               7043 non-null   object        \n",
      " 4   paperless_billing  7043 non-null   object        \n",
      " 5   payment_method     7043 non-null   object        \n",
      " 6   monthly_charges    7043 non-null   float64       \n",
      " 7   total_charges      7032 non-null   float64       \n",
      " 8   gender             7043 non-null   object        \n",
      " 9   senior_citizen     7043 non-null   int64         \n",
      " 10  partner            7043 non-null   object        \n",
      " 11  dependents         7043 non-null   object        \n",
      " 12  internet_service   5517 non-null   object        \n",
      " 13  online_security    5517 non-null   object        \n",
      " 14  online_backup      5517 non-null   object        \n",
      " 15  device_protection  5517 non-null   object        \n",
      " 16  tech_support       5517 non-null   object        \n",
      " 17  streaming_t_v      5517 non-null   object        \n",
      " 18  streaming_movies   5517 non-null   object        \n",
      " 19  multiple_lines     6361 non-null   object        \n",
      " 20  target             7043 non-null   int64         \n",
      "dtypes: datetime64[ns](2), float64(2), int64(2), object(15)\n",
      "memory usage: 1.2+ MB\n"
     ]
    }
   ],
   "source": [
    "data.info()"
   ]
  },
  {
   "cell_type": "code",
   "execution_count": 42,
   "metadata": {},
   "outputs": [],
   "source": [
    "data['usage_time'] = (data['end_date'] - data['begin_date'])\n",
    "for i in range(len(data['usage_time'])):\n",
    "     data.loc[i, 'usage_time'] = data.loc[i, 'usage_time'].days"
   ]
  },
  {
   "cell_type": "code",
   "execution_count": 43,
   "metadata": {},
   "outputs": [
    {
     "data": {
      "text/plain": [
       "customer_i_d            0\n",
       "begin_date              0\n",
       "end_date                0\n",
       "type                    0\n",
       "paperless_billing       0\n",
       "payment_method          0\n",
       "monthly_charges         0\n",
       "total_charges          11\n",
       "gender                  0\n",
       "senior_citizen          0\n",
       "partner                 0\n",
       "dependents              0\n",
       "internet_service     1526\n",
       "online_security      1526\n",
       "online_backup        1526\n",
       "device_protection    1526\n",
       "tech_support         1526\n",
       "streaming_t_v        1526\n",
       "streaming_movies     1526\n",
       "multiple_lines        682\n",
       "target                  0\n",
       "usage_time              0\n",
       "dtype: int64"
      ]
     },
     "execution_count": 43,
     "metadata": {},
     "output_type": "execute_result"
    }
   ],
   "source": [
    "data.isna().sum()"
   ]
  },
  {
   "cell_type": "code",
   "execution_count": 44,
   "metadata": {},
   "outputs": [],
   "source": [
    "data['internet_service'].fillna('No', inplace = True)\n",
    "data['online_security'].fillna('No', inplace = True)\n",
    "data['online_backup'].fillna('No', inplace = True)\n",
    "data['device_protection'].fillna('No', inplace = True)\n",
    "data['tech_support'].fillna('No', inplace = True)\n",
    "data['streaming_t_v'].fillna('No', inplace = True)\n",
    "data['streaming_movies'].fillna('No', inplace = True)\n",
    "data['multiple_lines'].fillna('No', inplace = True)"
   ]
  },
  {
   "cell_type": "code",
   "execution_count": 45,
   "metadata": {},
   "outputs": [
    {
     "data": {
      "text/plain": [
       "customer_i_d          0\n",
       "begin_date            0\n",
       "end_date              0\n",
       "type                  0\n",
       "paperless_billing     0\n",
       "payment_method        0\n",
       "monthly_charges       0\n",
       "total_charges        11\n",
       "gender                0\n",
       "senior_citizen        0\n",
       "partner               0\n",
       "dependents            0\n",
       "internet_service      0\n",
       "online_security       0\n",
       "online_backup         0\n",
       "device_protection     0\n",
       "tech_support          0\n",
       "streaming_t_v         0\n",
       "streaming_movies      0\n",
       "multiple_lines        0\n",
       "target                0\n",
       "usage_time            0\n",
       "dtype: int64"
      ]
     },
     "execution_count": 45,
     "metadata": {},
     "output_type": "execute_result"
    }
   ],
   "source": [
    "data.isna().sum()"
   ]
  },
  {
   "cell_type": "code",
   "execution_count": 46,
   "metadata": {
    "scrolled": false
   },
   "outputs": [
    {
     "data": {
      "text/html": [
       "<div>\n",
       "<style scoped>\n",
       "    .dataframe tbody tr th:only-of-type {\n",
       "        vertical-align: middle;\n",
       "    }\n",
       "\n",
       "    .dataframe tbody tr th {\n",
       "        vertical-align: top;\n",
       "    }\n",
       "\n",
       "    .dataframe thead th {\n",
       "        text-align: right;\n",
       "    }\n",
       "</style>\n",
       "<table border=\"1\" class=\"dataframe\">\n",
       "  <thead>\n",
       "    <tr style=\"text-align: right;\">\n",
       "      <th></th>\n",
       "      <th>customer_i_d</th>\n",
       "      <th>begin_date</th>\n",
       "      <th>end_date</th>\n",
       "      <th>type</th>\n",
       "      <th>paperless_billing</th>\n",
       "      <th>payment_method</th>\n",
       "      <th>monthly_charges</th>\n",
       "      <th>total_charges</th>\n",
       "      <th>gender</th>\n",
       "      <th>senior_citizen</th>\n",
       "      <th>...</th>\n",
       "      <th>internet_service</th>\n",
       "      <th>online_security</th>\n",
       "      <th>online_backup</th>\n",
       "      <th>device_protection</th>\n",
       "      <th>tech_support</th>\n",
       "      <th>streaming_t_v</th>\n",
       "      <th>streaming_movies</th>\n",
       "      <th>multiple_lines</th>\n",
       "      <th>target</th>\n",
       "      <th>usage_time</th>\n",
       "    </tr>\n",
       "  </thead>\n",
       "  <tbody>\n",
       "    <tr>\n",
       "      <th>488</th>\n",
       "      <td>4472-LVYGI</td>\n",
       "      <td>2020-02-01</td>\n",
       "      <td>2020-02-01</td>\n",
       "      <td>Two year</td>\n",
       "      <td>Yes</td>\n",
       "      <td>Bank transfer (automatic)</td>\n",
       "      <td>52.55</td>\n",
       "      <td>NaN</td>\n",
       "      <td>Female</td>\n",
       "      <td>0</td>\n",
       "      <td>...</td>\n",
       "      <td>DSL</td>\n",
       "      <td>Yes</td>\n",
       "      <td>No</td>\n",
       "      <td>Yes</td>\n",
       "      <td>Yes</td>\n",
       "      <td>Yes</td>\n",
       "      <td>No</td>\n",
       "      <td>No</td>\n",
       "      <td>0</td>\n",
       "      <td>0</td>\n",
       "    </tr>\n",
       "    <tr>\n",
       "      <th>753</th>\n",
       "      <td>3115-CZMZD</td>\n",
       "      <td>2020-02-01</td>\n",
       "      <td>2020-02-01</td>\n",
       "      <td>Two year</td>\n",
       "      <td>No</td>\n",
       "      <td>Mailed check</td>\n",
       "      <td>20.25</td>\n",
       "      <td>NaN</td>\n",
       "      <td>Male</td>\n",
       "      <td>0</td>\n",
       "      <td>...</td>\n",
       "      <td>No</td>\n",
       "      <td>No</td>\n",
       "      <td>No</td>\n",
       "      <td>No</td>\n",
       "      <td>No</td>\n",
       "      <td>No</td>\n",
       "      <td>No</td>\n",
       "      <td>No</td>\n",
       "      <td>0</td>\n",
       "      <td>0</td>\n",
       "    </tr>\n",
       "    <tr>\n",
       "      <th>936</th>\n",
       "      <td>5709-LVOEQ</td>\n",
       "      <td>2020-02-01</td>\n",
       "      <td>2020-02-01</td>\n",
       "      <td>Two year</td>\n",
       "      <td>No</td>\n",
       "      <td>Mailed check</td>\n",
       "      <td>80.85</td>\n",
       "      <td>NaN</td>\n",
       "      <td>Female</td>\n",
       "      <td>0</td>\n",
       "      <td>...</td>\n",
       "      <td>DSL</td>\n",
       "      <td>Yes</td>\n",
       "      <td>Yes</td>\n",
       "      <td>Yes</td>\n",
       "      <td>No</td>\n",
       "      <td>Yes</td>\n",
       "      <td>Yes</td>\n",
       "      <td>No</td>\n",
       "      <td>0</td>\n",
       "      <td>0</td>\n",
       "    </tr>\n",
       "    <tr>\n",
       "      <th>1082</th>\n",
       "      <td>4367-NUYAO</td>\n",
       "      <td>2020-02-01</td>\n",
       "      <td>2020-02-01</td>\n",
       "      <td>Two year</td>\n",
       "      <td>No</td>\n",
       "      <td>Mailed check</td>\n",
       "      <td>25.75</td>\n",
       "      <td>NaN</td>\n",
       "      <td>Male</td>\n",
       "      <td>0</td>\n",
       "      <td>...</td>\n",
       "      <td>No</td>\n",
       "      <td>No</td>\n",
       "      <td>No</td>\n",
       "      <td>No</td>\n",
       "      <td>No</td>\n",
       "      <td>No</td>\n",
       "      <td>No</td>\n",
       "      <td>Yes</td>\n",
       "      <td>0</td>\n",
       "      <td>0</td>\n",
       "    </tr>\n",
       "    <tr>\n",
       "      <th>1340</th>\n",
       "      <td>1371-DWPAZ</td>\n",
       "      <td>2020-02-01</td>\n",
       "      <td>2020-02-01</td>\n",
       "      <td>Two year</td>\n",
       "      <td>No</td>\n",
       "      <td>Credit card (automatic)</td>\n",
       "      <td>56.05</td>\n",
       "      <td>NaN</td>\n",
       "      <td>Female</td>\n",
       "      <td>0</td>\n",
       "      <td>...</td>\n",
       "      <td>DSL</td>\n",
       "      <td>Yes</td>\n",
       "      <td>Yes</td>\n",
       "      <td>Yes</td>\n",
       "      <td>Yes</td>\n",
       "      <td>Yes</td>\n",
       "      <td>No</td>\n",
       "      <td>No</td>\n",
       "      <td>0</td>\n",
       "      <td>0</td>\n",
       "    </tr>\n",
       "    <tr>\n",
       "      <th>3331</th>\n",
       "      <td>7644-OMVMY</td>\n",
       "      <td>2020-02-01</td>\n",
       "      <td>2020-02-01</td>\n",
       "      <td>Two year</td>\n",
       "      <td>No</td>\n",
       "      <td>Mailed check</td>\n",
       "      <td>19.85</td>\n",
       "      <td>NaN</td>\n",
       "      <td>Male</td>\n",
       "      <td>0</td>\n",
       "      <td>...</td>\n",
       "      <td>No</td>\n",
       "      <td>No</td>\n",
       "      <td>No</td>\n",
       "      <td>No</td>\n",
       "      <td>No</td>\n",
       "      <td>No</td>\n",
       "      <td>No</td>\n",
       "      <td>No</td>\n",
       "      <td>0</td>\n",
       "      <td>0</td>\n",
       "    </tr>\n",
       "    <tr>\n",
       "      <th>3826</th>\n",
       "      <td>3213-VVOLG</td>\n",
       "      <td>2020-02-01</td>\n",
       "      <td>2020-02-01</td>\n",
       "      <td>Two year</td>\n",
       "      <td>No</td>\n",
       "      <td>Mailed check</td>\n",
       "      <td>25.35</td>\n",
       "      <td>NaN</td>\n",
       "      <td>Male</td>\n",
       "      <td>0</td>\n",
       "      <td>...</td>\n",
       "      <td>No</td>\n",
       "      <td>No</td>\n",
       "      <td>No</td>\n",
       "      <td>No</td>\n",
       "      <td>No</td>\n",
       "      <td>No</td>\n",
       "      <td>No</td>\n",
       "      <td>Yes</td>\n",
       "      <td>0</td>\n",
       "      <td>0</td>\n",
       "    </tr>\n",
       "    <tr>\n",
       "      <th>4380</th>\n",
       "      <td>2520-SGTTA</td>\n",
       "      <td>2020-02-01</td>\n",
       "      <td>2020-02-01</td>\n",
       "      <td>Two year</td>\n",
       "      <td>No</td>\n",
       "      <td>Mailed check</td>\n",
       "      <td>20.00</td>\n",
       "      <td>NaN</td>\n",
       "      <td>Female</td>\n",
       "      <td>0</td>\n",
       "      <td>...</td>\n",
       "      <td>No</td>\n",
       "      <td>No</td>\n",
       "      <td>No</td>\n",
       "      <td>No</td>\n",
       "      <td>No</td>\n",
       "      <td>No</td>\n",
       "      <td>No</td>\n",
       "      <td>No</td>\n",
       "      <td>0</td>\n",
       "      <td>0</td>\n",
       "    </tr>\n",
       "    <tr>\n",
       "      <th>5218</th>\n",
       "      <td>2923-ARZLG</td>\n",
       "      <td>2020-02-01</td>\n",
       "      <td>2020-02-01</td>\n",
       "      <td>One year</td>\n",
       "      <td>Yes</td>\n",
       "      <td>Mailed check</td>\n",
       "      <td>19.70</td>\n",
       "      <td>NaN</td>\n",
       "      <td>Male</td>\n",
       "      <td>0</td>\n",
       "      <td>...</td>\n",
       "      <td>No</td>\n",
       "      <td>No</td>\n",
       "      <td>No</td>\n",
       "      <td>No</td>\n",
       "      <td>No</td>\n",
       "      <td>No</td>\n",
       "      <td>No</td>\n",
       "      <td>No</td>\n",
       "      <td>0</td>\n",
       "      <td>0</td>\n",
       "    </tr>\n",
       "    <tr>\n",
       "      <th>6670</th>\n",
       "      <td>4075-WKNIU</td>\n",
       "      <td>2020-02-01</td>\n",
       "      <td>2020-02-01</td>\n",
       "      <td>Two year</td>\n",
       "      <td>No</td>\n",
       "      <td>Mailed check</td>\n",
       "      <td>73.35</td>\n",
       "      <td>NaN</td>\n",
       "      <td>Female</td>\n",
       "      <td>0</td>\n",
       "      <td>...</td>\n",
       "      <td>DSL</td>\n",
       "      <td>No</td>\n",
       "      <td>Yes</td>\n",
       "      <td>Yes</td>\n",
       "      <td>Yes</td>\n",
       "      <td>Yes</td>\n",
       "      <td>No</td>\n",
       "      <td>Yes</td>\n",
       "      <td>0</td>\n",
       "      <td>0</td>\n",
       "    </tr>\n",
       "    <tr>\n",
       "      <th>6754</th>\n",
       "      <td>2775-SEFEE</td>\n",
       "      <td>2020-02-01</td>\n",
       "      <td>2020-02-01</td>\n",
       "      <td>Two year</td>\n",
       "      <td>Yes</td>\n",
       "      <td>Bank transfer (automatic)</td>\n",
       "      <td>61.90</td>\n",
       "      <td>NaN</td>\n",
       "      <td>Male</td>\n",
       "      <td>0</td>\n",
       "      <td>...</td>\n",
       "      <td>DSL</td>\n",
       "      <td>Yes</td>\n",
       "      <td>Yes</td>\n",
       "      <td>No</td>\n",
       "      <td>Yes</td>\n",
       "      <td>No</td>\n",
       "      <td>No</td>\n",
       "      <td>Yes</td>\n",
       "      <td>0</td>\n",
       "      <td>0</td>\n",
       "    </tr>\n",
       "  </tbody>\n",
       "</table>\n",
       "<p>11 rows × 22 columns</p>\n",
       "</div>"
      ],
      "text/plain": [
       "     customer_i_d begin_date   end_date      type paperless_billing  \\\n",
       "488    4472-LVYGI 2020-02-01 2020-02-01  Two year               Yes   \n",
       "753    3115-CZMZD 2020-02-01 2020-02-01  Two year                No   \n",
       "936    5709-LVOEQ 2020-02-01 2020-02-01  Two year                No   \n",
       "1082   4367-NUYAO 2020-02-01 2020-02-01  Two year                No   \n",
       "1340   1371-DWPAZ 2020-02-01 2020-02-01  Two year                No   \n",
       "3331   7644-OMVMY 2020-02-01 2020-02-01  Two year                No   \n",
       "3826   3213-VVOLG 2020-02-01 2020-02-01  Two year                No   \n",
       "4380   2520-SGTTA 2020-02-01 2020-02-01  Two year                No   \n",
       "5218   2923-ARZLG 2020-02-01 2020-02-01  One year               Yes   \n",
       "6670   4075-WKNIU 2020-02-01 2020-02-01  Two year                No   \n",
       "6754   2775-SEFEE 2020-02-01 2020-02-01  Two year               Yes   \n",
       "\n",
       "                 payment_method  monthly_charges  total_charges  gender  \\\n",
       "488   Bank transfer (automatic)            52.55            NaN  Female   \n",
       "753                Mailed check            20.25            NaN    Male   \n",
       "936                Mailed check            80.85            NaN  Female   \n",
       "1082               Mailed check            25.75            NaN    Male   \n",
       "1340    Credit card (automatic)            56.05            NaN  Female   \n",
       "3331               Mailed check            19.85            NaN    Male   \n",
       "3826               Mailed check            25.35            NaN    Male   \n",
       "4380               Mailed check            20.00            NaN  Female   \n",
       "5218               Mailed check            19.70            NaN    Male   \n",
       "6670               Mailed check            73.35            NaN  Female   \n",
       "6754  Bank transfer (automatic)            61.90            NaN    Male   \n",
       "\n",
       "      senior_citizen  ... internet_service online_security online_backup  \\\n",
       "488                0  ...              DSL             Yes            No   \n",
       "753                0  ...               No              No            No   \n",
       "936                0  ...              DSL             Yes           Yes   \n",
       "1082               0  ...               No              No            No   \n",
       "1340               0  ...              DSL             Yes           Yes   \n",
       "3331               0  ...               No              No            No   \n",
       "3826               0  ...               No              No            No   \n",
       "4380               0  ...               No              No            No   \n",
       "5218               0  ...               No              No            No   \n",
       "6670               0  ...              DSL              No           Yes   \n",
       "6754               0  ...              DSL             Yes           Yes   \n",
       "\n",
       "     device_protection tech_support streaming_t_v streaming_movies  \\\n",
       "488                Yes          Yes           Yes               No   \n",
       "753                 No           No            No               No   \n",
       "936                Yes           No           Yes              Yes   \n",
       "1082                No           No            No               No   \n",
       "1340               Yes          Yes           Yes               No   \n",
       "3331                No           No            No               No   \n",
       "3826                No           No            No               No   \n",
       "4380                No           No            No               No   \n",
       "5218                No           No            No               No   \n",
       "6670               Yes          Yes           Yes               No   \n",
       "6754                No          Yes            No               No   \n",
       "\n",
       "     multiple_lines target usage_time  \n",
       "488              No      0          0  \n",
       "753              No      0          0  \n",
       "936              No      0          0  \n",
       "1082            Yes      0          0  \n",
       "1340             No      0          0  \n",
       "3331             No      0          0  \n",
       "3826            Yes      0          0  \n",
       "4380             No      0          0  \n",
       "5218             No      0          0  \n",
       "6670            Yes      0          0  \n",
       "6754            Yes      0          0  \n",
       "\n",
       "[11 rows x 22 columns]"
      ]
     },
     "execution_count": 46,
     "metadata": {},
     "output_type": "execute_result"
    }
   ],
   "source": [
    "data[data['total_charges'].isna() == True]"
   ]
  },
  {
   "cell_type": "code",
   "execution_count": 47,
   "metadata": {},
   "outputs": [],
   "source": [
    "data.loc[data['total_charges'].isna() == True, 'total_charges'] = data['monthly_charges']"
   ]
  },
  {
   "cell_type": "markdown",
   "metadata": {},
   "source": [
    "Пустные строки в \"total_charges\" можно заменить месячными платежами"
   ]
  },
  {
   "cell_type": "code",
   "execution_count": 48,
   "metadata": {},
   "outputs": [
    {
     "data": {
      "text/plain": [
       "0"
      ]
     },
     "execution_count": 48,
     "metadata": {},
     "output_type": "execute_result"
    }
   ],
   "source": [
    "data.duplicated().sum()"
   ]
  },
  {
   "cell_type": "code",
   "execution_count": 49,
   "metadata": {},
   "outputs": [],
   "source": [
    "data = data.drop(columns=['begin_date', 'end_date', 'customer_i_d', 'gender'])"
   ]
  },
  {
   "cell_type": "markdown",
   "metadata": {},
   "source": [
    "Удаляем ненужные столбцы"
   ]
  },
  {
   "cell_type": "markdown",
   "metadata": {},
   "source": [
    "## Исследовательский анализ"
   ]
  },
  {
   "cell_type": "code",
   "execution_count": 50,
   "metadata": {},
   "outputs": [
    {
     "data": {
      "text/plain": [
       "<AxesSubplot:>"
      ]
     },
     "execution_count": 50,
     "metadata": {},
     "output_type": "execute_result"
    },
    {
     "data": {
      "image/png": "[encoded data removed]",
      "text/plain": [
       "<Figure size 432x288 with 1 Axes>"
      ]
     },
     "metadata": {
      "needs_background": "light"
     },
     "output_type": "display_data"
    }
   ],
   "source": [
    "data['target'].value_counts().plot(kind='bar')"
   ]
  },
  {
   "cell_type": "code",
   "execution_count": 51,
   "metadata": {},
   "outputs": [
    {
     "data": {
      "text/plain": [
       "0    5942\n",
       "1    1101\n",
       "Name: target, dtype: int64"
      ]
     },
     "execution_count": 51,
     "metadata": {},
     "output_type": "execute_result"
    }
   ],
   "source": [
    "data['target'].value_counts()"
   ]
  },
  {
   "cell_type": "markdown",
   "metadata": {},
   "source": [
    "В данных наблюдается явный дисбаланс классов"
   ]
  },
  {
   "cell_type": "markdown",
   "metadata": {},
   "source": [
    "Построим распределение признаков для ушедших и оставшихся клиентов"
   ]
  },
  {
   "cell_type": "code",
   "execution_count": 52,
   "metadata": {},
   "outputs": [],
   "source": [
    "categorical_col = data.drop(columns=['monthly_charges', 'total_charges', 'usage_time']).columns"
   ]
  },
  {
   "cell_type": "code",
   "execution_count": 53,
   "metadata": {},
   "outputs": [],
   "source": [
    "data_0 = data[data['target'] == 0]"
   ]
  },
  {
   "cell_type": "code",
   "execution_count": 54,
   "metadata": {},
   "outputs": [],
   "source": [
    "data_1 = data[data['target'] == 1]"
   ]
  },
  {
   "cell_type": "markdown",
   "metadata": {},
   "source": [
    "Для категоральных признаков:"
   ]
  },
  {
   "cell_type": "code",
   "execution_count": 55,
   "metadata": {
    "scrolled": true
   },
   "outputs": [
    {
     "data": {
      "image/png": "[encoded data removed]",
      "text/plain": [
       "<Figure size 1296x432 with 2 Axes>"
      ]
     },
     "metadata": {
      "needs_background": "light"
     },
     "output_type": "display_data"
    },
    {
     "data": {
      "image/png": "[encoded data removed]",
      "text/plain": [
       "<Figure size 1296x432 with 2 Axes>"
      ]
     },
     "metadata": {
      "needs_background": "light"
     },
     "output_type": "display_data"
    },
    {
     "data": {
      "image/png": "[encoded data removed]",
      "text/plain": [
       "<Figure size 1296x432 with 2 Axes>"
      ]
     },
     "metadata": {
      "needs_background": "light"
     },
     "output_type": "display_data"
    },
    {
     "data": {
      "image/png": "[encoded data removed]",
      "text/plain": [
       "<Figure size 1296x432 with 2 Axes>"
      ]
     },
     "metadata": {
      "needs_background": "light"
     },
     "output_type": "display_data"
    },
    {
     "data": {
      "image/png": "[encoded data removed]",
      "text/plain": [
       "<Figure size 1296x432 with 2 Axes>"
      ]
     },
     "metadata": {
      "needs_background": "light"
     },
     "output_type": "display_data"
    },
    {
     "data": {
      "image/png": "[encoded data removed]",
      "text/plain": [
       "<Figure size 1296x432 with 2 Axes>"
      ]
     },
     "metadata": {
      "needs_background": "light"
     },
     "output_type": "display_data"
    },
    {
     "data": {
      "image/png": "[encoded data removed]",
      "text/plain": [
       "<Figure size 1296x432 with 2 Axes>"
      ]
     },
     "metadata": {
      "needs_background": "light"
     },
     "output_type": "display_data"
    },
    {
     "data": {
      "image/png": "[encoded data removed]",
      "text/plain": [
       "<Figure size 1296x432 with 2 Axes>"
      ]
     },
     "metadata": {
      "needs_background": "light"
     },
     "output_type": "display_data"
    },
    {
     "data": {
      "image/png": "[encoded data removed]",
      "text/plain": [
       "<Figure size 1296x432 with 2 Axes>"
      ]
     },
     "metadata": {
      "needs_background": "light"
     },
     "output_type": "display_data"
    },
    {
     "data": {
      "image/png": "[encoded data removed]",
      "text/plain": [
       "<Figure size 1296x432 with 2 Axes>"
      ]
     },
     "metadata": {
      "needs_background": "light"
     },
     "output_type": "display_data"
    },
    {
     "data": {
      "image/png": "[encoded data removed]",
      "text/plain": [
       "<Figure size 1296x432 with 2 Axes>"
      ]
     },
     "metadata": {
      "needs_background": "light"
     },
     "output_type": "display_data"
    },
    {
     "data": {
      "image/png": "[encoded data removed]",
      "text/plain": [
       "<Figure size 1296x432 with 2 Axes>"
      ]
     },
     "metadata": {
      "needs_background": "light"
     },
     "output_type": "display_data"
    },
    {
     "data": {
      "image/png": "[encoded data removed]",
      "text/plain": [
       "<Figure size 1296x432 with 2 Axes>"
      ]
     },
     "metadata": {
      "needs_background": "light"
     },
     "output_type": "display_data"
    },
    {
     "data": {
      "image/png": "[encoded data removed]",
      "text/plain": [
       "<Figure size 1296x432 with 2 Axes>"
      ]
     },
     "metadata": {
      "needs_background": "light"
     },
     "output_type": "display_data"
    }
   ],
   "source": [
    "for i in range(len(categorical_col)-1):\n",
    "    fig, ax = plt.subplots(1, 2, figsize=(18, 6))\n",
    "    ax[0].set_title(f'Распределение {categorical_col[i]} (активный договор)')\n",
    "    ax[1].set_title(f'Распределение {categorical_col[i]} (завершенный)')\n",
    "    \n",
    "    sns.countplot(data = data_0, y = data_0[categorical_col[i]], ax=ax[0])\n",
    "    sns.countplot(data = data_1, y = data_1[categorical_col[i]], ax=ax[1])\n",
    "    fig.tight_layout()\n",
    "\n",
    "\n",
    "    plt.show()"
   ]
  },
  {
   "cell_type": "markdown",
   "metadata": {},
   "source": [
    "Для численных признаков:"
   ]
  },
  {
   "cell_type": "code",
   "execution_count": 56,
   "metadata": {},
   "outputs": [],
   "source": [
    "num_col = data[['monthly_charges', 'total_charges', 'usage_time']].columns"
   ]
  },
  {
   "cell_type": "code",
   "execution_count": 57,
   "metadata": {},
   "outputs": [],
   "source": [
    "data['usage_time'] = data['usage_time'].astype('int')"
   ]
  },
  {
   "cell_type": "code",
   "execution_count": 58,
   "metadata": {
    "scrolled": true
   },
   "outputs": [
    {
     "data": {
      "image/png": "[encoded data removed]",
      "text/plain": [
       "<Figure size 1296x432 with 2 Axes>"
      ]
     },
     "metadata": {
      "needs_background": "light"
     },
     "output_type": "display_data"
    },
    {
     "data": {
      "image/png": "[encoded data removed]",
      "text/plain": [
       "<Figure size 1296x432 with 2 Axes>"
      ]
     },
     "metadata": {
      "needs_background": "light"
     },
     "output_type": "display_data"
    },
    {
     "data": {
      "image/png": "[encoded data removed]",
      "text/plain": [
       "<Figure size 1296x432 with 2 Axes>"
      ]
     },
     "metadata": {
      "needs_background": "light"
     },
     "output_type": "display_data"
    }
   ],
   "source": [
    "for i in num_col:\n",
    "    fig, ax = plt.subplots(1, 2, figsize=(18, 6))\n",
    "    ax[0].set_title(f'Распределение {i} (активный договор)')\n",
    "    ax[1].set_title(f'Распределение {i} (завершенный)')\n",
    "    \n",
    "    sns.boxplot(data = data_0[num_col], ax = ax[0])\n",
    "    sns.boxplot(data = data_1[num_col], ax = ax[1])\n",
    "    \n",
    "    fig.tight_layout()\n",
    "    \n",
    "    plt.show()"
   ]
  },
  {
   "cell_type": "code",
   "execution_count": 59,
   "metadata": {
    "scrolled": true
   },
   "outputs": [
    {
     "data": {
      "image/png": "[encoded data removed]",
      "text/plain": [
       "<Figure size 1296x432 with 2 Axes>"
      ]
     },
     "metadata": {
      "needs_background": "light"
     },
     "output_type": "display_data"
    },
    {
     "data": {
      "image/png": "[encoded data removed]",
      "text/plain": [
       "<Figure size 1296x432 with 2 Axes>"
      ]
     },
     "metadata": {
      "needs_background": "light"
     },
     "output_type": "display_data"
    },
    {
     "data": {
      "image/png": "[encoded data removed]",
      "text/plain": [
       "<Figure size 1296x432 with 2 Axes>"
      ]
     },
     "metadata": {
      "needs_background": "light"
     },
     "output_type": "display_data"
    }
   ],
   "source": [
    "for i in num_col:\n",
    "    fig, ax = plt.subplots(1, 2, figsize=(18, 6))\n",
    "    ax[0].set_title(f'Распределение {i} (активный договор)')\n",
    "    ax[1].set_title(f'Распределение {i} (завершенный)')\n",
    "    \n",
    "    sns.histplot(data = data_0[i], bins=20, ax=ax[0])\n",
    "    sns.histplot(data = data_1[i], bins=20, ax=ax[1])\n",
    "\n",
    "    fig.tight_layout()\n",
    "    \n",
    "    plt.show()"
   ]
  },
  {
   "cell_type": "code",
   "execution_count": 79,
   "metadata": {
    "scrolled": false
   },
   "outputs": [
    {
     "name": "stdout",
     "output_type": "stream",
     "text": [
      "interval columns not set, guessing: ['monthly_charges', 'senior_citizen', 'target', 'usage_time']\n"
     ]
    },
    {
     "data": {
      "image/png": "[encoded data removed]",
      "text/plain": [
       "<Figure size 2160x720 with 2 Axes>"
      ]
     },
     "metadata": {},
     "output_type": "display_data"
    }
   ],
   "source": [
    "sns.heatmap(data.phik_matrix(), annot=True)\n",
    "sns.set(rc={'figure.figsize':(30,10)})"
   ]
  },
  {
   "cell_type": "markdown",
   "metadata": {},
   "source": [
    "Как можно заметить, столбцы \"internet_service\", \"streaming_t_v\", \"streaming_movies\" сильно коррелируют со столбцом \"monthly_charges\", а значит их следует убрать.\n",
    "\n",
    "Также, наблюдается сильная корреляция между \"total_charges\" и \"usage_time\", а значит столбец \"total_charges\" нужно удалить."
   ]
  },
  {
   "cell_type": "code",
   "execution_count": 61,
   "metadata": {},
   "outputs": [],
   "source": [
    "data = data.drop(columns=['internet_service',  'streaming_t_v', 'streaming_movies', 'total_charges'])"
   ]
  },
  {
   "cell_type": "markdown",
   "metadata": {},
   "source": [
    "### Вывод по разделу 2"
   ]
  },
  {
   "cell_type": "markdown",
   "metadata": {},
   "source": [
    "Клиенты, которое продолжают пользоваться услугами компании предпочитают оплачивать услуги компании ежемесячно и с помощью электронной оплаты, когда как предпочтения клиентов, которые расторгли договор с компанией, распределились примерно одинаково между 3-мя способами: картой, переводом из банка, электронным способом. Способ отпраки чека по почте мало распространен среди как бывших, так и действующих клиентов. У клиентов, которые расторгли договор, чаще ни кого не было на иждивении, а также у них чаще были подключены различные дополнительные услуги.\n",
    "\n",
    "Стоит отметить, что в данных наблюдается сильный дисбаланс классов, что может повлиять на обучение модели. При создании модели, будем использовать внутреннюю балансировку классов."
   ]
  },
  {
   "cell_type": "markdown",
   "metadata": {},
   "source": [
    "## Подготовка данных к обучению модели"
   ]
  },
  {
   "cell_type": "markdown",
   "metadata": {},
   "source": [
    "### Разбиение на выборки"
   ]
  },
  {
   "cell_type": "code",
   "execution_count": 62,
   "metadata": {},
   "outputs": [],
   "source": [
    "target = data['target']\n",
    "features = data.drop(['target'], axis=1)\n",
    "\n",
    "RANDOM_STATE = 280823\n",
    "\n",
    "features_train, features_test, target_train, target_test = train_test_split(features, target, test_size=0.25, \\\n",
    "                                                                            random_state=RANDOM_STATE)"
   ]
  },
  {
   "cell_type": "markdown",
   "metadata": {},
   "source": [
    "### Кодирование"
   ]
  },
  {
   "cell_type": "code",
   "execution_count": 64,
   "metadata": {
    "scrolled": true
   },
   "outputs": [
    {
     "data": {
      "text/html": [
       "<div>\n",
       "<style scoped>\n",
       "    .dataframe tbody tr th:only-of-type {\n",
       "        vertical-align: middle;\n",
       "    }\n",
       "\n",
       "    .dataframe tbody tr th {\n",
       "        vertical-align: top;\n",
       "    }\n",
       "\n",
       "    .dataframe thead th {\n",
       "        text-align: right;\n",
       "    }\n",
       "</style>\n",
       "<table border=\"1\" class=\"dataframe\">\n",
       "  <thead>\n",
       "    <tr style=\"text-align: right;\">\n",
       "      <th></th>\n",
       "      <th>type</th>\n",
       "      <th>paperless_billing</th>\n",
       "      <th>payment_method</th>\n",
       "      <th>monthly_charges</th>\n",
       "      <th>senior_citizen</th>\n",
       "      <th>partner</th>\n",
       "      <th>dependents</th>\n",
       "      <th>online_security</th>\n",
       "      <th>online_backup</th>\n",
       "      <th>device_protection</th>\n",
       "      <th>tech_support</th>\n",
       "      <th>multiple_lines</th>\n",
       "      <th>usage_time</th>\n",
       "    </tr>\n",
       "  </thead>\n",
       "  <tbody>\n",
       "    <tr>\n",
       "      <th>3633</th>\n",
       "      <td>Month-to-month</td>\n",
       "      <td>Yes</td>\n",
       "      <td>Electronic check</td>\n",
       "      <td>71.25</td>\n",
       "      <td>1</td>\n",
       "      <td>No</td>\n",
       "      <td>No</td>\n",
       "      <td>No</td>\n",
       "      <td>No</td>\n",
       "      <td>No</td>\n",
       "      <td>No</td>\n",
       "      <td>No</td>\n",
       "      <td>31</td>\n",
       "    </tr>\n",
       "    <tr>\n",
       "      <th>4718</th>\n",
       "      <td>One year</td>\n",
       "      <td>Yes</td>\n",
       "      <td>Mailed check</td>\n",
       "      <td>20.00</td>\n",
       "      <td>0</td>\n",
       "      <td>Yes</td>\n",
       "      <td>No</td>\n",
       "      <td>No</td>\n",
       "      <td>No</td>\n",
       "      <td>No</td>\n",
       "      <td>No</td>\n",
       "      <td>No</td>\n",
       "      <td>610</td>\n",
       "    </tr>\n",
       "    <tr>\n",
       "      <th>1246</th>\n",
       "      <td>Month-to-month</td>\n",
       "      <td>Yes</td>\n",
       "      <td>Electronic check</td>\n",
       "      <td>105.15</td>\n",
       "      <td>0</td>\n",
       "      <td>Yes</td>\n",
       "      <td>Yes</td>\n",
       "      <td>Yes</td>\n",
       "      <td>Yes</td>\n",
       "      <td>No</td>\n",
       "      <td>No</td>\n",
       "      <td>Yes</td>\n",
       "      <td>1371</td>\n",
       "    </tr>\n",
       "    <tr>\n",
       "      <th>3155</th>\n",
       "      <td>One year</td>\n",
       "      <td>No</td>\n",
       "      <td>Mailed check</td>\n",
       "      <td>19.85</td>\n",
       "      <td>0</td>\n",
       "      <td>No</td>\n",
       "      <td>Yes</td>\n",
       "      <td>No</td>\n",
       "      <td>No</td>\n",
       "      <td>No</td>\n",
       "      <td>No</td>\n",
       "      <td>No</td>\n",
       "      <td>883</td>\n",
       "    </tr>\n",
       "    <tr>\n",
       "      <th>4974</th>\n",
       "      <td>Month-to-month</td>\n",
       "      <td>Yes</td>\n",
       "      <td>Mailed check</td>\n",
       "      <td>36.85</td>\n",
       "      <td>0</td>\n",
       "      <td>No</td>\n",
       "      <td>No</td>\n",
       "      <td>No</td>\n",
       "      <td>Yes</td>\n",
       "      <td>No</td>\n",
       "      <td>Yes</td>\n",
       "      <td>No</td>\n",
       "      <td>153</td>\n",
       "    </tr>\n",
       "    <tr>\n",
       "      <th>...</th>\n",
       "      <td>...</td>\n",
       "      <td>...</td>\n",
       "      <td>...</td>\n",
       "      <td>...</td>\n",
       "      <td>...</td>\n",
       "      <td>...</td>\n",
       "      <td>...</td>\n",
       "      <td>...</td>\n",
       "      <td>...</td>\n",
       "      <td>...</td>\n",
       "      <td>...</td>\n",
       "      <td>...</td>\n",
       "      <td>...</td>\n",
       "    </tr>\n",
       "    <tr>\n",
       "      <th>810</th>\n",
       "      <td>One year</td>\n",
       "      <td>Yes</td>\n",
       "      <td>Bank transfer (automatic)</td>\n",
       "      <td>103.25</td>\n",
       "      <td>0</td>\n",
       "      <td>No</td>\n",
       "      <td>No</td>\n",
       "      <td>No</td>\n",
       "      <td>Yes</td>\n",
       "      <td>Yes</td>\n",
       "      <td>No</td>\n",
       "      <td>Yes</td>\n",
       "      <td>1127</td>\n",
       "    </tr>\n",
       "    <tr>\n",
       "      <th>1343</th>\n",
       "      <td>One year</td>\n",
       "      <td>Yes</td>\n",
       "      <td>Credit card (automatic)</td>\n",
       "      <td>73.05</td>\n",
       "      <td>0</td>\n",
       "      <td>Yes</td>\n",
       "      <td>Yes</td>\n",
       "      <td>Yes</td>\n",
       "      <td>No</td>\n",
       "      <td>Yes</td>\n",
       "      <td>No</td>\n",
       "      <td>No</td>\n",
       "      <td>1949</td>\n",
       "    </tr>\n",
       "    <tr>\n",
       "      <th>2312</th>\n",
       "      <td>One year</td>\n",
       "      <td>No</td>\n",
       "      <td>Mailed check</td>\n",
       "      <td>20.10</td>\n",
       "      <td>0</td>\n",
       "      <td>No</td>\n",
       "      <td>No</td>\n",
       "      <td>No</td>\n",
       "      <td>No</td>\n",
       "      <td>No</td>\n",
       "      <td>No</td>\n",
       "      <td>No</td>\n",
       "      <td>549</td>\n",
       "    </tr>\n",
       "    <tr>\n",
       "      <th>5788</th>\n",
       "      <td>Month-to-month</td>\n",
       "      <td>Yes</td>\n",
       "      <td>Electronic check</td>\n",
       "      <td>25.15</td>\n",
       "      <td>0</td>\n",
       "      <td>Yes</td>\n",
       "      <td>No</td>\n",
       "      <td>No</td>\n",
       "      <td>No</td>\n",
       "      <td>No</td>\n",
       "      <td>No</td>\n",
       "      <td>No</td>\n",
       "      <td>123</td>\n",
       "    </tr>\n",
       "    <tr>\n",
       "      <th>112</th>\n",
       "      <td>Month-to-month</td>\n",
       "      <td>Yes</td>\n",
       "      <td>Electronic check</td>\n",
       "      <td>91.65</td>\n",
       "      <td>0</td>\n",
       "      <td>No</td>\n",
       "      <td>No</td>\n",
       "      <td>No</td>\n",
       "      <td>Yes</td>\n",
       "      <td>Yes</td>\n",
       "      <td>No</td>\n",
       "      <td>No</td>\n",
       "      <td>1310</td>\n",
       "    </tr>\n",
       "  </tbody>\n",
       "</table>\n",
       "<p>5282 rows × 13 columns</p>\n",
       "</div>"
      ],
      "text/plain": [
       "                type paperless_billing             payment_method  \\\n",
       "3633  Month-to-month               Yes           Electronic check   \n",
       "4718        One year               Yes               Mailed check   \n",
       "1246  Month-to-month               Yes           Electronic check   \n",
       "3155        One year                No               Mailed check   \n",
       "4974  Month-to-month               Yes               Mailed check   \n",
       "...              ...               ...                        ...   \n",
       "810         One year               Yes  Bank transfer (automatic)   \n",
       "1343        One year               Yes    Credit card (automatic)   \n",
       "2312        One year                No               Mailed check   \n",
       "5788  Month-to-month               Yes           Electronic check   \n",
       "112   Month-to-month               Yes           Electronic check   \n",
       "\n",
       "      monthly_charges  senior_citizen partner dependents online_security  \\\n",
       "3633            71.25               1      No         No              No   \n",
       "4718            20.00               0     Yes         No              No   \n",
       "1246           105.15               0     Yes        Yes             Yes   \n",
       "3155            19.85               0      No        Yes              No   \n",
       "4974            36.85               0      No         No              No   \n",
       "...               ...             ...     ...        ...             ...   \n",
       "810            103.25               0      No         No              No   \n",
       "1343            73.05               0     Yes        Yes             Yes   \n",
       "2312            20.10               0      No         No              No   \n",
       "5788            25.15               0     Yes         No              No   \n",
       "112             91.65               0      No         No              No   \n",
       "\n",
       "     online_backup device_protection tech_support multiple_lines  usage_time  \n",
       "3633            No                No           No             No          31  \n",
       "4718            No                No           No             No         610  \n",
       "1246           Yes                No           No            Yes        1371  \n",
       "3155            No                No           No             No         883  \n",
       "4974           Yes                No          Yes             No         153  \n",
       "...            ...               ...          ...            ...         ...  \n",
       "810            Yes               Yes           No            Yes        1127  \n",
       "1343            No               Yes           No             No        1949  \n",
       "2312            No                No           No             No         549  \n",
       "5788            No                No           No             No         123  \n",
       "112            Yes               Yes           No             No        1310  \n",
       "\n",
       "[5282 rows x 13 columns]"
      ]
     },
     "execution_count": 64,
     "metadata": {},
     "output_type": "execute_result"
    }
   ],
   "source": [
    "features_train"
   ]
  },
  {
   "cell_type": "code",
   "execution_count": 65,
   "metadata": {},
   "outputs": [],
   "source": [
    "categorical_col = features_train.drop(columns=['monthly_charges', 'usage_time']).columns"
   ]
  },
  {
   "cell_type": "code",
   "execution_count": 66,
   "metadata": {},
   "outputs": [
    {
     "data": {
      "text/html": [
       "<style>#sk-container-id-1 {color: black;background-color: white;}#sk-container-id-1 pre{padding: 0;}#sk-container-id-1 div.sk-toggleable {background-color: white;}#sk-container-id-1 label.sk-toggleable__label {cursor: pointer;display: block;width: 100%;margin-bottom: 0;padding: 0.3em;box-sizing: border-box;text-align: center;}#sk-container-id-1 label.sk-toggleable__label-arrow:before {content: \"▸\";float: left;margin-right: 0.25em;color: #696969;}#sk-container-id-1 label.sk-toggleable__label-arrow:hover:before {color: black;}#sk-container-id-1 div.sk-estimator:hover label.sk-toggleable__label-arrow:before {color: black;}#sk-container-id-1 div.sk-toggleable__content {max-height: 0;max-width: 0;overflow: hidden;text-align: left;background-color: #f0f8ff;}#sk-container-id-1 div.sk-toggleable__content pre {margin: 0.2em;color: black;border-radius: 0.25em;background-color: #f0f8ff;}#sk-container-id-1 input.sk-toggleable__control:checked~div.sk-toggleable__content {max-height: 200px;max-width: 100%;overflow: auto;}#sk-container-id-1 input.sk-toggleable__control:checked~label.sk-toggleable__label-arrow:before {content: \"▾\";}#sk-container-id-1 div.sk-estimator input.sk-toggleable__control:checked~label.sk-toggleable__label {background-color: #d4ebff;}#sk-container-id-1 div.sk-label input.sk-toggleable__control:checked~label.sk-toggleable__label {background-color: #d4ebff;}#sk-container-id-1 input.sk-hidden--visually {border: 0;clip: rect(1px 1px 1px 1px);clip: rect(1px, 1px, 1px, 1px);height: 1px;margin: -1px;overflow: hidden;padding: 0;position: absolute;width: 1px;}#sk-container-id-1 div.sk-estimator {font-family: monospace;background-color: #f0f8ff;border: 1px dotted black;border-radius: 0.25em;box-sizing: border-box;margin-bottom: 0.5em;}#sk-container-id-1 div.sk-estimator:hover {background-color: #d4ebff;}#sk-container-id-1 div.sk-parallel-item::after {content: \"\";width: 100%;border-bottom: 1px solid gray;flex-grow: 1;}#sk-container-id-1 div.sk-label:hover label.sk-toggleable__label {background-color: #d4ebff;}#sk-container-id-1 div.sk-serial::before {content: \"\";position: absolute;border-left: 1px solid gray;box-sizing: border-box;top: 0;bottom: 0;left: 50%;z-index: 0;}#sk-container-id-1 div.sk-serial {display: flex;flex-direction: column;align-items: center;background-color: white;padding-right: 0.2em;padding-left: 0.2em;position: relative;}#sk-container-id-1 div.sk-item {position: relative;z-index: 1;}#sk-container-id-1 div.sk-parallel {display: flex;align-items: stretch;justify-content: center;background-color: white;position: relative;}#sk-container-id-1 div.sk-item::before, #sk-container-id-1 div.sk-parallel-item::before {content: \"\";position: absolute;border-left: 1px solid gray;box-sizing: border-box;top: 0;bottom: 0;left: 50%;z-index: -1;}#sk-container-id-1 div.sk-parallel-item {display: flex;flex-direction: column;z-index: 1;position: relative;background-color: white;}#sk-container-id-1 div.sk-parallel-item:first-child::after {align-self: flex-end;width: 50%;}#sk-container-id-1 div.sk-parallel-item:last-child::after {align-self: flex-start;width: 50%;}#sk-container-id-1 div.sk-parallel-item:only-child::after {width: 0;}#sk-container-id-1 div.sk-dashed-wrapped {border: 1px dashed gray;margin: 0 0.4em 0.5em 0.4em;box-sizing: border-box;padding-bottom: 0.4em;background-color: white;}#sk-container-id-1 div.sk-label label {font-family: monospace;font-weight: bold;display: inline-block;line-height: 1.2em;}#sk-container-id-1 div.sk-label-container {text-align: center;}#sk-container-id-1 div.sk-container {/* jupyter's `normalize.less` sets `[hidden] { display: none; }` but bootstrap.min.css set `[hidden] { display: none !important; }` so we also need the `!important` here to be able to override the default hidden behavior on the sphinx rendered scikit-learn.org. See: https://github.com/scikit-learn/scikit-learn/issues/21755 */display: inline-block !important;position: relative;}#sk-container-id-1 div.sk-text-repr-fallback {display: none;}</style><div id=\"sk-container-id-1\" class=\"sk-top-container\"><div class=\"sk-text-repr-fallback\"><pre>OneHotEncoder(drop=&#x27;first&#x27;, handle_unknown=&#x27;ignore&#x27;, sparse=False)</pre><b>In a Jupyter environment, please rerun this cell to show the HTML representation or trust the notebook. <br />On GitHub, the HTML representation is unable to render, please try loading this page with nbviewer.org.</b></div><div class=\"sk-container\" hidden><div class=\"sk-item\"><div class=\"sk-estimator sk-toggleable\"><input class=\"sk-toggleable__control sk-hidden--visually\" id=\"sk-estimator-id-1\" type=\"checkbox\" checked><label for=\"sk-estimator-id-1\" class=\"sk-toggleable__label sk-toggleable__label-arrow\">OneHotEncoder</label><div class=\"sk-toggleable__content\"><pre>OneHotEncoder(drop=&#x27;first&#x27;, handle_unknown=&#x27;ignore&#x27;, sparse=False)</pre></div></div></div></div></div>"
      ],
      "text/plain": [
       "OneHotEncoder(drop='first', handle_unknown='ignore', sparse=False)"
      ]
     },
     "execution_count": 66,
     "metadata": {},
     "output_type": "execute_result"
    }
   ],
   "source": [
    "ohe_encoder = OneHotEncoder(drop='first', handle_unknown='ignore', sparse=False)\n",
    "ohe_train = features_train\n",
    "ohe_encoder.fit(ohe_train[categorical_col])"
   ]
  },
  {
   "cell_type": "code",
   "execution_count": 67,
   "metadata": {
    "scrolled": true
   },
   "outputs": [],
   "source": [
    "ohe_train[\n",
    "    ohe_encoder.get_feature_names_out()\n",
    "] = ohe_encoder.transform(ohe_train[categorical_col])\n",
    "\n",
    "#удаляем незакодированные категориальные признаки (изначальные колонки)\n",
    "ohe_train = ohe_train.drop(categorical_col, axis=1)"
   ]
  },
  {
   "cell_type": "code",
   "execution_count": 68,
   "metadata": {},
   "outputs": [
    {
     "name": "stdout",
     "output_type": "stream",
     "text": [
      "<class 'pandas.core.frame.DataFrame'>\n",
      "Int64Index: 5282 entries, 3633 to 112\n",
      "Data columns (total 16 columns):\n",
      " #   Column                                  Non-Null Count  Dtype  \n",
      "---  ------                                  --------------  -----  \n",
      " 0   monthly_charges                         5282 non-null   float64\n",
      " 1   usage_time                              5282 non-null   int64  \n",
      " 2   type_One year                           5282 non-null   float64\n",
      " 3   type_Two year                           5282 non-null   float64\n",
      " 4   paperless_billing_Yes                   5282 non-null   float64\n",
      " 5   payment_method_Credit card (automatic)  5282 non-null   float64\n",
      " 6   payment_method_Electronic check         5282 non-null   float64\n",
      " 7   payment_method_Mailed check             5282 non-null   float64\n",
      " 8   senior_citizen_1                        5282 non-null   float64\n",
      " 9   partner_Yes                             5282 non-null   float64\n",
      " 10  dependents_Yes                          5282 non-null   float64\n",
      " 11  online_security_Yes                     5282 non-null   float64\n",
      " 12  online_backup_Yes                       5282 non-null   float64\n",
      " 13  device_protection_Yes                   5282 non-null   float64\n",
      " 14  tech_support_Yes                        5282 non-null   float64\n",
      " 15  multiple_lines_Yes                      5282 non-null   float64\n",
      "dtypes: float64(15), int64(1)\n",
      "memory usage: 701.5 KB\n"
     ]
    }
   ],
   "source": [
    "ohe_train.info()"
   ]
  },
  {
   "cell_type": "code",
   "execution_count": 69,
   "metadata": {},
   "outputs": [],
   "source": [
    "ohe_test = features_test\n",
    "ohe_test[\n",
    "    ohe_encoder.get_feature_names_out()\n",
    "] = ohe_encoder.transform(ohe_test[categorical_col])\n",
    "\n",
    "#удаляем незакодированные категориальные признаки (изначальные колонки)\n",
    "ohe_test = ohe_test.drop(categorical_col, axis=1)"
   ]
  },
  {
   "cell_type": "code",
   "execution_count": 70,
   "metadata": {},
   "outputs": [
    {
     "name": "stdout",
     "output_type": "stream",
     "text": [
      "<class 'pandas.core.frame.DataFrame'>\n",
      "Int64Index: 1761 entries, 5386 to 2229\n",
      "Data columns (total 16 columns):\n",
      " #   Column                                  Non-Null Count  Dtype  \n",
      "---  ------                                  --------------  -----  \n",
      " 0   monthly_charges                         1761 non-null   float64\n",
      " 1   usage_time                              1761 non-null   int64  \n",
      " 2   type_One year                           1761 non-null   float64\n",
      " 3   type_Two year                           1761 non-null   float64\n",
      " 4   paperless_billing_Yes                   1761 non-null   float64\n",
      " 5   payment_method_Credit card (automatic)  1761 non-null   float64\n",
      " 6   payment_method_Electronic check         1761 non-null   float64\n",
      " 7   payment_method_Mailed check             1761 non-null   float64\n",
      " 8   senior_citizen_1                        1761 non-null   float64\n",
      " 9   partner_Yes                             1761 non-null   float64\n",
      " 10  dependents_Yes                          1761 non-null   float64\n",
      " 11  online_security_Yes                     1761 non-null   float64\n",
      " 12  online_backup_Yes                       1761 non-null   float64\n",
      " 13  device_protection_Yes                   1761 non-null   float64\n",
      " 14  tech_support_Yes                        1761 non-null   float64\n",
      " 15  multiple_lines_Yes                      1761 non-null   float64\n",
      "dtypes: float64(15), int64(1)\n",
      "memory usage: 233.9 KB\n"
     ]
    }
   ],
   "source": [
    "ohe_test.info()"
   ]
  },
  {
   "cell_type": "markdown",
   "metadata": {},
   "source": [
    "## Обучение моделей"
   ]
  },
  {
   "cell_type": "markdown",
   "metadata": {},
   "source": [
    "### Обучение RandomForestClassifier"
   ]
  },
  {
   "cell_type": "code",
   "execution_count": 71,
   "metadata": {},
   "outputs": [
    {
     "name": "stdout",
     "output_type": "stream",
     "text": [
      "Модель с лучшими гиперпараметрами: Pipeline(steps=[('scaler', StandardScaler()),\n",
      "                ('model',\n",
      "                 RandomForestClassifier(class_weight='balanced', max_depth=6,\n",
      "                                        n_estimators=200, n_jobs=-1,\n",
      "                                        random_state=280823))])\n",
      "ROC-AUC на тренировочной выборке: 0.8271267880372084\n",
      "{'model__random_state': 280823, 'model__n_jobs': -1, 'model__n_estimators': 200, 'model__max_depth': 6, 'model__criterion': 'gini', 'model__class_weight': 'balanced'}\n",
      "CPU times: user 20.1 s, sys: 161 ms, total: 20.3 s\n",
      "Wall time: 20.3 s\n"
     ]
    }
   ],
   "source": [
    "%%time \n",
    "r_forest_model = RandomForestClassifier()\n",
    "r_forest_params = {'model__class_weight': ['balanced'],\n",
    "                    'model__criterion': ['gini'],\n",
    "                    'model__max_depth': [2, 6, 10],\n",
    "                    'model__n_estimators': [50,75,100, 150, 200], \n",
    "                    'model__n_jobs': [-1], \n",
    "                    'model__random_state': [RANDOM_STATE]}\n",
    "\n",
    "\n",
    "scaler = StandardScaler()\n",
    "pipe = Pipeline(steps=[('scaler', scaler), ('model', r_forest_model)])\n",
    "\n",
    "\n",
    "RCV = RandomizedSearchCV(estimator=pipe, param_distributions=r_forest_params, \n",
    "                        cv=5, n_jobs=-1, scoring='roc_auc', random_state=RANDOM_STATE)\n",
    "\n",
    "RCV.fit(ohe_train, target_train)\n",
    "    \n",
    "print('Модель с лучшими гиперпараметрами:', RCV.best_estimator_)\n",
    "print('ROC-AUC на тренировочной выборке:', RCV.best_score_)\n",
    "print(RCV.best_params_)"
   ]
  },
  {
   "cell_type": "markdown",
   "metadata": {},
   "source": [
    "### Обучение LogisticRegression"
   ]
  },
  {
   "cell_type": "code",
   "execution_count": 72,
   "metadata": {},
   "outputs": [
    {
     "name": "stdout",
     "output_type": "stream",
     "text": [
      "Модель с лучшими гиперпараметрами: Pipeline(steps=[('scaler', StandardScaler()),\n",
      "                ('model',\n",
      "                 LogisticRegression(class_weight='balanced',\n",
      "                                    random_state=280823, solver='liblinear'))])\n",
      "ROC-AUC на тренировочной выборке: 0.7574530559436521\n",
      "{'model__solver': 'liblinear', 'model__random_state': 280823, 'model__class_weight': 'balanced'}\n",
      "CPU times: user 1.05 s, sys: 1.45 s, total: 2.5 s\n",
      "Wall time: 2.5 s\n"
     ]
    }
   ],
   "source": [
    "%%time \n",
    "LR = LogisticRegression()\n",
    "\n",
    "LR_param = {'model__class_weight': ['balanced'], \n",
    "             'model__solver': ['liblinear', 'lbfgs'],\n",
    "             'model__random_state': [RANDOM_STATE]}\n",
    "\n",
    "\n",
    "scaler = StandardScaler()\n",
    "pipe = Pipeline(steps=[('scaler', scaler), ('model', LR)])\n",
    "\n",
    "\n",
    "RCV = RandomizedSearchCV(estimator=pipe, param_distributions=LR_param, \n",
    "                        cv=5, n_jobs=-1, scoring='roc_auc', random_state=RANDOM_STATE)\n",
    "\n",
    "RCV.fit(ohe_train, target_train)\n",
    "    \n",
    "print('Модель с лучшими гиперпараметрами:', RCV.best_estimator_)\n",
    "print('ROC-AUC на тренировочной выборке:', RCV.best_score_)\n",
    "print(RCV.best_params_)"
   ]
  },
  {
   "cell_type": "markdown",
   "metadata": {},
   "source": [
    "### Обучение CatBoostClassifier"
   ]
  },
  {
   "cell_type": "code",
   "execution_count": 73,
   "metadata": {
    "scrolled": true
   },
   "outputs": [
    {
     "name": "stdout",
     "output_type": "stream",
     "text": [
      "0:\ttotal: 63.7ms\tremaining: 31.8s\n",
      "499:\ttotal: 6.85s\tremaining: 0us\n",
      "0:\ttotal: 17.5ms\tremaining: 8.75s\n",
      "499:\ttotal: 7.05s\tremaining: 0us\n",
      "0:\ttotal: 17ms\tremaining: 8.48s\n",
      "499:\ttotal: 7.04s\tremaining: 0us\n",
      "0:\ttotal: 16.5ms\tremaining: 8.24s\n",
      "499:\ttotal: 7.21s\tremaining: 0us\n",
      "0:\ttotal: 16.5ms\tremaining: 8.24s\n",
      "499:\ttotal: 9.08s\tremaining: 0us\n",
      "0:\ttotal: 6.81ms\tremaining: 3.4s\n",
      "499:\ttotal: 2.18s\tremaining: 0us\n",
      "0:\ttotal: 5.59ms\tremaining: 2.79s\n",
      "499:\ttotal: 2.22s\tremaining: 0us\n",
      "0:\ttotal: 5.5ms\tremaining: 2.75s\n",
      "499:\ttotal: 2.17s\tremaining: 0us\n",
      "0:\ttotal: 5.68ms\tremaining: 2.83s\n",
      "499:\ttotal: 2.2s\tremaining: 0us\n",
      "0:\ttotal: 5.5ms\tremaining: 2.74s\n",
      "499:\ttotal: 2.21s\tremaining: 0us\n",
      "0:\ttotal: 1.78ms\tremaining: 891ms\n",
      "499:\ttotal: 482ms\tremaining: 0us\n",
      "0:\ttotal: 1.22ms\tremaining: 608ms\n",
      "499:\ttotal: 484ms\tremaining: 0us\n",
      "0:\ttotal: 1.49ms\tremaining: 743ms\n",
      "499:\ttotal: 490ms\tremaining: 0us\n",
      "0:\ttotal: 1.14ms\tremaining: 568ms\n",
      "499:\ttotal: 486ms\tremaining: 0us\n",
      "0:\ttotal: 1.25ms\tremaining: 626ms\n",
      "499:\ttotal: 481ms\tremaining: 0us\n",
      "0:\ttotal: 2.17ms\tremaining: 1.08s\n",
      "499:\ttotal: 992ms\tremaining: 0us\n",
      "0:\ttotal: 2.03ms\tremaining: 1.01s\n",
      "499:\ttotal: 947ms\tremaining: 0us\n",
      "0:\ttotal: 2.11ms\tremaining: 1.05s\n",
      "499:\ttotal: 985ms\tremaining: 0us\n",
      "0:\ttotal: 2.1ms\tremaining: 1.05s\n",
      "499:\ttotal: 967ms\tremaining: 0us\n",
      "0:\ttotal: 2.12ms\tremaining: 1.05s\n",
      "499:\ttotal: 954ms\tremaining: 0us\n",
      "0:\ttotal: 4.77ms\tremaining: 2.38s\n",
      "499:\ttotal: 2.26s\tremaining: 0us\n",
      "0:\ttotal: 5.35ms\tremaining: 2.67s\n",
      "499:\ttotal: 2.23s\tremaining: 0us\n",
      "0:\ttotal: 5.83ms\tremaining: 2.91s\n",
      "499:\ttotal: 2.26s\tremaining: 0us\n",
      "0:\ttotal: 5.43ms\tremaining: 2.71s\n",
      "499:\ttotal: 2.24s\tremaining: 0us\n",
      "0:\ttotal: 5.56ms\tremaining: 2.77s\n",
      "499:\ttotal: 2.21s\tremaining: 0us\n",
      "0:\ttotal: 1.9ms\tremaining: 950ms\n",
      "499:\ttotal: 510ms\tremaining: 0us\n",
      "0:\ttotal: 1.23ms\tremaining: 615ms\n",
      "499:\ttotal: 517ms\tremaining: 0us\n",
      "0:\ttotal: 1.1ms\tremaining: 551ms\n",
      "499:\ttotal: 512ms\tremaining: 0us\n",
      "0:\ttotal: 1.61ms\tremaining: 805ms\n",
      "499:\ttotal: 546ms\tremaining: 0us\n",
      "0:\ttotal: 1.16ms\tremaining: 581ms\n",
      "499:\ttotal: 509ms\tremaining: 0us\n",
      "0:\ttotal: 14.5ms\tremaining: 7.25s\n",
      "499:\ttotal: 6.98s\tremaining: 0us\n",
      "0:\ttotal: 16.9ms\tremaining: 8.46s\n",
      "499:\ttotal: 7.19s\tremaining: 0us\n",
      "0:\ttotal: 16.7ms\tremaining: 8.34s\n",
      "499:\ttotal: 7.79s\tremaining: 0us\n",
      "0:\ttotal: 18.8ms\tremaining: 9.38s\n",
      "499:\ttotal: 8.04s\tremaining: 0us\n",
      "0:\ttotal: 14.9ms\tremaining: 7.45s\n",
      "499:\ttotal: 7.02s\tremaining: 0us\n",
      "0:\ttotal: 16.5ms\tremaining: 8.25s\n",
      "499:\ttotal: 6.74s\tremaining: 0us\n",
      "0:\ttotal: 15.8ms\tremaining: 7.87s\n",
      "499:\ttotal: 6.52s\tremaining: 0us\n",
      "0:\ttotal: 16ms\tremaining: 7.99s\n",
      "499:\ttotal: 6.63s\tremaining: 0us\n",
      "0:\ttotal: 15.1ms\tremaining: 7.54s\n",
      "499:\ttotal: 6.68s\tremaining: 0us\n",
      "0:\ttotal: 15.9ms\tremaining: 7.95s\n",
      "499:\ttotal: 8.33s\tremaining: 0us\n",
      "0:\ttotal: 15.6ms\tremaining: 7.8s\n",
      "499:\ttotal: 6.86s\tremaining: 0us\n",
      "0:\ttotal: 16.5ms\tremaining: 8.24s\n",
      "499:\ttotal: 6.98s\tremaining: 0us\n",
      "0:\ttotal: 16.8ms\tremaining: 8.38s\n",
      "499:\ttotal: 6.79s\tremaining: 0us\n",
      "0:\ttotal: 15.5ms\tremaining: 7.74s\n",
      "499:\ttotal: 6.95s\tremaining: 0us\n",
      "0:\ttotal: 15.8ms\tremaining: 7.87s\n",
      "499:\ttotal: 6.89s\tremaining: 0us\n",
      "0:\ttotal: 3.74ms\tremaining: 1.87s\n",
      "499:\ttotal: 961ms\tremaining: 0us\n",
      "0:\ttotal: 2.15ms\tremaining: 1.07s\n",
      "499:\ttotal: 951ms\tremaining: 0us\n",
      "0:\ttotal: 2.39ms\tremaining: 1.19s\n",
      "499:\ttotal: 1.01s\tremaining: 0us\n",
      "0:\ttotal: 2.46ms\tremaining: 1.23s\n",
      "499:\ttotal: 996ms\tremaining: 0us\n",
      "0:\ttotal: 2.05ms\tremaining: 1.02s\n",
      "499:\ttotal: 963ms\tremaining: 0us\n",
      "0:\ttotal: 1.42ms\tremaining: 706ms\n",
      "499:\ttotal: 605ms\tremaining: 0us\n",
      "Модель с лучшими гиперпараметрами: Pipeline(steps=[('scaler', StandardScaler()),\n",
      "                ('model',\n",
      "                 <catboost.core.CatBoostClassifier object at 0x7f357f2179a0>)])\n",
      "ROC-AUC на тренировочной выборке: 0.9156503087638287\n",
      "{'model__verbose': 500, 'model__random_state': 280823, 'model__loss_function': 'Logloss', 'model__learning_rate': 0.1, 'model__iterations': 500, 'model__eval_metric': 'AUC', 'model__depth': 3}\n",
      "CPU times: user 2min 58s, sys: 2.76 s, total: 3min 1s\n",
      "Wall time: 3min 54s\n"
     ]
    }
   ],
   "source": [
    "%%time \n",
    "cat = CatBoostClassifier()\n",
    "\n",
    "cat_param = {'model__iterations': [500], \n",
    "             'model__depth': [3, 6, 8, 10], 'model__learning_rate': [.1, .5, .01], \n",
    "             'model__loss_function': ['Logloss', 'CrossEntropy'],\n",
    "             'model__eval_metric': ['AUC'],\n",
    "             'model__random_state': [RANDOM_STATE],\n",
    "             'model__verbose' : [500]}\n",
    "\n",
    "\n",
    "scaler = StandardScaler()\n",
    "pipe = Pipeline(steps=[('scaler', scaler), ('model', cat)])\n",
    "\n",
    "\n",
    "RCV = RandomizedSearchCV(estimator=pipe, param_distributions=cat_param, \n",
    "                        cv=5, n_jobs=-1, scoring='roc_auc', random_state=RANDOM_STATE)\n",
    "\n",
    "RCV.fit(ohe_train, target_train)\n",
    "    \n",
    "print('Модель с лучшими гиперпараметрами:', RCV.best_estimator_)\n",
    "print('ROC-AUC на тренировочной выборке:', RCV.best_score_)\n",
    "print(RCV.best_params_)"
   ]
  },
  {
   "cell_type": "markdown",
   "metadata": {},
   "source": [
    "### Вывод по разделу 4"
   ]
  },
  {
   "cell_type": "markdown",
   "metadata": {},
   "source": [
    "Лучший показатель AUC-ROC метрики имеет модель CatBoostClassifier = 0.9156. Именно эту модель будем тестировать"
   ]
  },
  {
   "cell_type": "markdown",
   "metadata": {},
   "source": [
    "## Тестирование и выводы"
   ]
  },
  {
   "cell_type": "markdown",
   "metadata": {},
   "source": [
    "### Тестирование"
   ]
  },
  {
   "cell_type": "code",
   "execution_count": 74,
   "metadata": {},
   "outputs": [],
   "source": [
    "cat = CatBoostClassifier(learning_rate = 0.1, eval_metric = 'AUC', iterations = 500, depth = 3, \\\n",
    "                         loss_function = 'Logloss', random_state=RANDOM_STATE)"
   ]
  },
  {
   "cell_type": "code",
   "execution_count": 75,
   "metadata": {},
   "outputs": [
    {
     "name": "stdout",
     "output_type": "stream",
     "text": [
      "0:\ttotal: 1.25ms\tremaining: 623ms\n",
      "499:\ttotal: 624ms\tremaining: 0us\n"
     ]
    },
    {
     "data": {
      "text/plain": [
       "<catboost.core.CatBoostClassifier at 0x7f357f0c7520>"
      ]
     },
     "execution_count": 75,
     "metadata": {},
     "output_type": "execute_result"
    }
   ],
   "source": [
    "cat.fit(ohe_train, target_train, verbose=500)"
   ]
  },
  {
   "cell_type": "code",
   "execution_count": 76,
   "metadata": {
    "scrolled": true
   },
   "outputs": [],
   "source": [
    "predictions = cat.predict_proba(ohe_test)[:, 1]"
   ]
  },
  {
   "cell_type": "code",
   "execution_count": 77,
   "metadata": {
    "scrolled": true
   },
   "outputs": [
    {
     "name": "stdout",
     "output_type": "stream",
     "text": [
      "0.9177103057562174\n"
     ]
    }
   ],
   "source": [
    "print(roc_auc_score(target_test, predictions))"
   ]
  },
  {
   "cell_type": "code",
   "execution_count": 78,
   "metadata": {},
   "outputs": [
    {
     "data": {
      "image/png": "[encoded data removed]",
      "text/plain": [
       "<Figure size 2160x720 with 1 Axes>"
      ]
     },
     "metadata": {},
     "output_type": "display_data"
    }
   ],
   "source": [
    "probabilities_one_valid = predictions\n",
    "\n",
    "fpr, tpr, thresholds = roc_curve(target_test, probabilities_one_valid)\n",
    "\n",
    "plt.figure()\n",
    "\n",
    "plt.plot(fpr, tpr)\n",
    "\n",
    "\n",
    "plt.plot([0, 1], [0, 1], linestyle='--')\n",
    "\n",
    "plt.xlim([0,1])\n",
    "plt.ylim([0,1])\n",
    "\n",
    "plt.xlabel('False Positive Rate')\n",
    "plt.ylabel('True Positive Rate')\n",
    "\n",
    "plt.title('ROC-кривая')\n",
    "\n",
    "\n",
    "plt.show()"
   ]
  },
  {
   "cell_type": "markdown",
   "metadata": {},
   "source": [
    "### Отчет"
   ]
  },
  {
   "cell_type": "markdown",
   "metadata": {},
   "source": [
    "В ходе работы были выполненны следующие пункты:\n",
    "\n",
    "* Предобработка данных (объединены таблицы, приведены некоторые столбцы к нужному типу данных, удалены пропуски, \n",
    "    удалены явные дубликаты, выделен целевой признак)\n",
    "    \n",
    "    \n",
    "* Исследование данных (проанализированны данные, построены графики)\n",
    "\n",
    "\n",
    "* Подготовка к обучению модели (Датафрейм был разбит на тренировочную и тестовую выборки, закодированны данные)\n",
    "\n",
    "\n",
    "* Обучение моделей (обучены 3 разные модели на подготовленных данных, использована кросс-валидация для оценки качества    \n",
    "    модели)\n",
    "    \n",
    "    \n",
    "* Тестирование и выводы (протестирована лучшая модель на тестовой выборке)\n",
    "\n",
    "Для обучения моделей мы использовали следующие признаки: \n",
    "\n",
    "    Категоральные:\n",
    "    type,\n",
    "    paperless_billing, \n",
    "    payment_method,\n",
    "    senior_citizen,\n",
    "    partner,\n",
    "    dependents,\n",
    "    online_security,\n",
    "    online_backup,\n",
    "    device_protection,\n",
    "    tech_support,\n",
    "    multiple_lines,\n",
    "    \n",
    "    Числовые:\n",
    "    monthly_charges,\n",
    "    usage_time\n",
    "\n",
    "    (Числовые признаки были в последствии закодированы с помощью OneHotEncoder)\n",
    "\n",
    "В качестве целевого признака был взят 'target', которые мы получили в результате преобразования исходного датасета, \\\n",
    "в котором еще находились такие признаки, как: 'BeginDate' и 'EndDate'. 'target' = 1, если клиент еще не расторг договор     \n",
    "о предоставлении услуг с компанией, а 0 соответственно, если расторг\n",
    "\n",
    "В результате всех этих действий, мы получили модель со значением AUC-ROC метрики равной: 0.9177. \n",
    "\n",
    "Лучшей оказалась: CatBoostClassifier, с гиперпараметрами: \n",
    "\n",
    "* learning_rate = 0.1\n",
    "\n",
    "\n",
    "* eval_metric = 'AUC'\n",
    "\n",
    "\n",
    "* iterations = 500 \n",
    "\n",
    "\n",
    "* depth = 3 \n",
    "\n",
    "\n",
    "* loss_function = 'Logloss'\n",
    "\n",
    "'random_state' на всех этапах был зафиксирован на значении: 280823\n",
    "\n",
    "Модель подходит для прогназирования оттока клиентов компанией \"Ниединогоразрыва.ком\". \n",
    "\n",
    "\n",
    "Отличий от исходного плана не было. Трудностей в ходе работы не возникло. Каждый этап работы был важным\n",
    "\n"
   ]
  }
 ],
 "metadata": {
  "ExecuteTimeLog": [
   {
    "duration": 464,
    "start_time": "2023-08-30T08:57:33.616Z"
   },
   {
    "duration": 64,
    "start_time": "2023-08-30T08:58:38.427Z"
   },
   {
    "duration": 451,
    "start_time": "2023-08-30T08:59:08.109Z"
   },
   {
    "duration": 14,
    "start_time": "2023-08-30T08:59:08.860Z"
   },
   {
    "duration": 13,
    "start_time": "2023-08-30T08:59:09.172Z"
   },
   {
    "duration": 9,
    "start_time": "2023-08-30T08:59:09.399Z"
   },
   {
    "duration": 13,
    "start_time": "2023-08-30T08:59:28.010Z"
   },
   {
    "duration": 142,
    "start_time": "2023-08-30T12:21:23.965Z"
   },
   {
    "duration": 617,
    "start_time": "2023-08-30T12:21:46.399Z"
   },
   {
    "duration": 165,
    "start_time": "2023-08-30T13:34:00.569Z"
   },
   {
    "duration": 15,
    "start_time": "2023-08-30T13:34:13.554Z"
   },
   {
    "duration": 56862,
    "start_time": "2023-08-30T13:34:42.419Z"
   },
   {
    "duration": 0,
    "start_time": "2023-08-30T13:36:05.515Z"
   },
   {
    "duration": 145,
    "start_time": "2023-08-30T13:36:12.633Z"
   },
   {
    "duration": 120,
    "start_time": "2023-08-30T13:36:21.739Z"
   },
   {
    "duration": 121,
    "start_time": "2023-08-30T13:36:23.602Z"
   },
   {
    "duration": 1048,
    "start_time": "2023-08-30T13:37:00.620Z"
   },
   {
    "duration": 140,
    "start_time": "2023-08-30T13:37:07.679Z"
   },
   {
    "duration": 3,
    "start_time": "2023-08-30T13:37:33.137Z"
   },
   {
    "duration": 3,
    "start_time": "2023-08-30T13:37:35.681Z"
   },
   {
    "duration": 145,
    "start_time": "2023-08-30T13:37:39.207Z"
   },
   {
    "duration": 152,
    "start_time": "2023-08-30T13:38:04.818Z"
   },
   {
    "duration": 151,
    "start_time": "2023-08-30T13:38:11.904Z"
   },
   {
    "duration": 217,
    "start_time": "2023-08-30T13:39:04.025Z"
   },
   {
    "duration": 107,
    "start_time": "2023-08-30T13:39:07.310Z"
   },
   {
    "duration": 128,
    "start_time": "2023-08-30T13:39:11.938Z"
   },
   {
    "duration": 161,
    "start_time": "2023-08-30T13:39:14.774Z"
   },
   {
    "duration": 156,
    "start_time": "2023-08-30T13:39:44.915Z"
   },
   {
    "duration": 138,
    "start_time": "2023-08-30T13:40:54.241Z"
   },
   {
    "duration": 117,
    "start_time": "2023-08-30T13:40:55.715Z"
   },
   {
    "duration": 122,
    "start_time": "2023-08-30T13:42:03.084Z"
   },
   {
    "duration": 106,
    "start_time": "2023-08-30T13:42:53.070Z"
   },
   {
    "duration": 108,
    "start_time": "2023-08-30T13:42:53.222Z"
   },
   {
    "duration": 104,
    "start_time": "2023-08-30T13:42:53.370Z"
   },
   {
    "duration": 20,
    "start_time": "2023-08-30T13:43:37.358Z"
   },
   {
    "duration": 10,
    "start_time": "2023-08-30T13:44:58.122Z"
   },
   {
    "duration": 129,
    "start_time": "2023-08-30T13:45:16.847Z"
   },
   {
    "duration": 111,
    "start_time": "2023-08-30T13:45:17.030Z"
   },
   {
    "duration": 102,
    "start_time": "2023-08-30T13:45:17.187Z"
   },
   {
    "duration": 101,
    "start_time": "2023-08-30T13:45:17.333Z"
   },
   {
    "duration": 111,
    "start_time": "2023-08-30T13:45:17.479Z"
   },
   {
    "duration": 113,
    "start_time": "2023-08-30T13:45:17.613Z"
   },
   {
    "duration": 100,
    "start_time": "2023-08-30T13:45:18.118Z"
   },
   {
    "duration": 118,
    "start_time": "2023-08-30T13:45:18.220Z"
   },
   {
    "duration": 11,
    "start_time": "2023-08-30T15:06:43.480Z"
   },
   {
    "duration": 13,
    "start_time": "2023-08-30T15:06:53.003Z"
   },
   {
    "duration": 11,
    "start_time": "2023-08-30T15:07:21.938Z"
   },
   {
    "duration": 33911,
    "start_time": "2023-08-30T15:07:41.403Z"
   },
   {
    "duration": 0,
    "start_time": "2023-08-30T15:09:39.320Z"
   },
   {
    "duration": 6,
    "start_time": "2023-08-30T15:09:47.091Z"
   },
   {
    "duration": 19,
    "start_time": "2023-08-30T15:10:36.116Z"
   },
   {
    "duration": 15,
    "start_time": "2023-08-30T15:10:59.033Z"
   },
   {
    "duration": 6,
    "start_time": "2023-08-30T15:11:25.733Z"
   },
   {
    "duration": 6,
    "start_time": "2023-08-30T15:12:01.050Z"
   },
   {
    "duration": 9,
    "start_time": "2023-08-30T15:13:04.052Z"
   },
   {
    "duration": 109,
    "start_time": "2023-08-30T15:13:07.452Z"
   },
   {
    "duration": 1827,
    "start_time": "2023-08-30T15:13:13.020Z"
   },
   {
    "duration": 1875,
    "start_time": "2023-08-30T15:13:30.249Z"
   },
   {
    "duration": 1746,
    "start_time": "2023-08-30T15:13:47.550Z"
   },
   {
    "duration": 9,
    "start_time": "2023-08-30T15:17:48.984Z"
   },
   {
    "duration": 3,
    "start_time": "2023-08-30T15:18:02.945Z"
   },
   {
    "duration": 11,
    "start_time": "2023-08-30T15:18:05.910Z"
   },
   {
    "duration": 16,
    "start_time": "2023-08-30T15:18:16.089Z"
   },
   {
    "duration": 10,
    "start_time": "2023-08-30T15:18:36.141Z"
   },
   {
    "duration": 8,
    "start_time": "2023-08-30T15:21:52.637Z"
   },
   {
    "duration": 9,
    "start_time": "2023-08-30T15:21:55.685Z"
   },
   {
    "duration": 14,
    "start_time": "2023-08-30T15:22:05.927Z"
   },
   {
    "duration": 5,
    "start_time": "2023-08-30T15:22:17.085Z"
   },
   {
    "duration": 13,
    "start_time": "2023-08-30T15:22:22.402Z"
   },
   {
    "duration": 9,
    "start_time": "2023-08-30T15:22:34.689Z"
   },
   {
    "duration": 9,
    "start_time": "2023-08-30T15:23:04.808Z"
   },
   {
    "duration": 9,
    "start_time": "2023-08-30T15:23:08.474Z"
   },
   {
    "duration": 9,
    "start_time": "2023-08-30T15:23:12.861Z"
   },
   {
    "duration": 1877,
    "start_time": "2023-08-30T15:23:20.034Z"
   },
   {
    "duration": 9,
    "start_time": "2023-08-30T15:23:29.394Z"
   },
   {
    "duration": 9,
    "start_time": "2023-08-30T15:23:33.016Z"
   },
   {
    "duration": 12,
    "start_time": "2023-08-30T15:24:46.307Z"
   },
   {
    "duration": 10,
    "start_time": "2023-08-30T15:26:58.416Z"
   },
   {
    "duration": 10,
    "start_time": "2023-08-30T15:27:22.231Z"
   },
   {
    "duration": 10,
    "start_time": "2023-08-30T15:27:48.960Z"
   },
   {
    "duration": 15,
    "start_time": "2023-08-30T15:29:18.368Z"
   },
   {
    "duration": 733,
    "start_time": "2023-08-30T15:29:33.875Z"
   },
   {
    "duration": 114,
    "start_time": "2023-08-30T15:29:34.613Z"
   },
   {
    "duration": 13,
    "start_time": "2023-08-30T15:29:34.730Z"
   },
   {
    "duration": 16,
    "start_time": "2023-08-30T15:29:34.745Z"
   },
   {
    "duration": 14,
    "start_time": "2023-08-30T15:29:34.764Z"
   },
   {
    "duration": 30,
    "start_time": "2023-08-30T15:29:34.781Z"
   },
   {
    "duration": 38,
    "start_time": "2023-08-30T15:29:34.813Z"
   },
   {
    "duration": 144,
    "start_time": "2023-08-30T15:29:34.853Z"
   },
   {
    "duration": 133,
    "start_time": "2023-08-30T15:29:35.000Z"
   },
   {
    "duration": 137,
    "start_time": "2023-08-30T15:29:35.134Z"
   },
   {
    "duration": 137,
    "start_time": "2023-08-30T15:29:35.273Z"
   },
   {
    "duration": 193,
    "start_time": "2023-08-30T15:29:35.412Z"
   },
   {
    "duration": 118,
    "start_time": "2023-08-30T15:29:35.608Z"
   },
   {
    "duration": 138,
    "start_time": "2023-08-30T15:29:35.728Z"
   },
   {
    "duration": 130,
    "start_time": "2023-08-30T15:29:35.868Z"
   },
   {
    "duration": 136,
    "start_time": "2023-08-30T15:29:36.000Z"
   },
   {
    "duration": 125,
    "start_time": "2023-08-30T15:29:36.138Z"
   },
   {
    "duration": 123,
    "start_time": "2023-08-30T15:29:36.265Z"
   },
   {
    "duration": 116,
    "start_time": "2023-08-30T15:29:36.390Z"
   },
   {
    "duration": 106,
    "start_time": "2023-08-30T15:29:36.508Z"
   },
   {
    "duration": 118,
    "start_time": "2023-08-30T15:29:36.615Z"
   },
   {
    "duration": 83,
    "start_time": "2023-08-30T15:29:36.735Z"
   },
   {
    "duration": 0,
    "start_time": "2023-08-30T15:29:36.820Z"
   },
   {
    "duration": 0,
    "start_time": "2023-08-30T15:29:36.822Z"
   },
   {
    "duration": 0,
    "start_time": "2023-08-30T15:29:36.823Z"
   },
   {
    "duration": 14,
    "start_time": "2023-08-30T15:30:14.264Z"
   },
   {
    "duration": 12,
    "start_time": "2023-08-30T15:30:16.413Z"
   },
   {
    "duration": 16,
    "start_time": "2023-08-30T15:30:18.102Z"
   },
   {
    "duration": 5,
    "start_time": "2023-08-30T15:30:30.964Z"
   },
   {
    "duration": 6,
    "start_time": "2023-08-30T15:30:35.853Z"
   },
   {
    "duration": 9,
    "start_time": "2023-08-30T15:31:10.159Z"
   },
   {
    "duration": 1873,
    "start_time": "2023-08-30T15:31:25.439Z"
   },
   {
    "duration": 13,
    "start_time": "2023-08-30T15:35:25.886Z"
   },
   {
    "duration": 12,
    "start_time": "2023-08-30T15:35:26.118Z"
   },
   {
    "duration": 12,
    "start_time": "2023-08-30T15:35:26.326Z"
   },
   {
    "duration": 10,
    "start_time": "2023-08-30T15:35:26.519Z"
   },
   {
    "duration": 106,
    "start_time": "2023-08-30T15:47:34.414Z"
   },
   {
    "duration": 46,
    "start_time": "2023-09-02T09:08:43.790Z"
   },
   {
    "duration": 822,
    "start_time": "2023-09-02T09:08:51.566Z"
   },
   {
    "duration": 383,
    "start_time": "2023-09-02T09:08:52.390Z"
   },
   {
    "duration": 12,
    "start_time": "2023-09-02T09:08:52.775Z"
   },
   {
    "duration": 26,
    "start_time": "2023-09-02T09:08:52.789Z"
   },
   {
    "duration": 8,
    "start_time": "2023-09-02T09:08:52.817Z"
   },
   {
    "duration": 13,
    "start_time": "2023-09-02T09:08:52.827Z"
   },
   {
    "duration": 21,
    "start_time": "2023-09-02T09:08:52.842Z"
   },
   {
    "duration": 27,
    "start_time": "2023-09-02T09:08:52.864Z"
   },
   {
    "duration": 28,
    "start_time": "2023-09-02T09:08:52.893Z"
   },
   {
    "duration": 126,
    "start_time": "2023-09-02T09:08:52.922Z"
   },
   {
    "duration": 125,
    "start_time": "2023-09-02T09:08:53.050Z"
   },
   {
    "duration": 121,
    "start_time": "2023-09-02T09:08:53.177Z"
   },
   {
    "duration": 116,
    "start_time": "2023-09-02T09:08:53.300Z"
   },
   {
    "duration": 184,
    "start_time": "2023-09-02T09:08:53.418Z"
   },
   {
    "duration": 110,
    "start_time": "2023-09-02T09:08:53.604Z"
   },
   {
    "duration": 121,
    "start_time": "2023-09-02T09:08:53.716Z"
   },
   {
    "duration": 122,
    "start_time": "2023-09-02T09:08:53.840Z"
   },
   {
    "duration": 114,
    "start_time": "2023-09-02T09:08:53.964Z"
   },
   {
    "duration": 115,
    "start_time": "2023-09-02T09:08:54.080Z"
   },
   {
    "duration": 119,
    "start_time": "2023-09-02T09:08:54.196Z"
   },
   {
    "duration": 110,
    "start_time": "2023-09-02T09:08:54.317Z"
   },
   {
    "duration": 101,
    "start_time": "2023-09-02T09:08:54.429Z"
   },
   {
    "duration": 125,
    "start_time": "2023-09-02T09:08:54.531Z"
   },
   {
    "duration": 8,
    "start_time": "2023-09-02T09:08:54.658Z"
   },
   {
    "duration": 33,
    "start_time": "2023-09-02T09:08:54.668Z"
   },
   {
    "duration": 2,
    "start_time": "2023-09-02T09:08:54.703Z"
   },
   {
    "duration": 9,
    "start_time": "2023-09-02T09:08:54.707Z"
   },
   {
    "duration": 76,
    "start_time": "2023-09-02T09:08:54.718Z"
   },
   {
    "duration": 9,
    "start_time": "2023-09-02T09:09:06.811Z"
   },
   {
    "duration": 11,
    "start_time": "2023-09-02T09:09:28.140Z"
   },
   {
    "duration": 8,
    "start_time": "2023-09-02T09:09:31.771Z"
   },
   {
    "duration": 6,
    "start_time": "2023-09-02T09:10:11.097Z"
   },
   {
    "duration": 10,
    "start_time": "2023-09-02T09:10:13.730Z"
   },
   {
    "duration": 10,
    "start_time": "2023-09-02T09:10:36.770Z"
   },
   {
    "duration": 3,
    "start_time": "2023-09-02T09:14:18.216Z"
   },
   {
    "duration": 4,
    "start_time": "2023-09-02T09:14:18.931Z"
   },
   {
    "duration": 9,
    "start_time": "2023-09-02T09:14:25.555Z"
   },
   {
    "duration": 9,
    "start_time": "2023-09-02T09:14:33.454Z"
   },
   {
    "duration": 4,
    "start_time": "2023-09-02T09:14:37.303Z"
   },
   {
    "duration": 4,
    "start_time": "2023-09-02T09:15:06.539Z"
   },
   {
    "duration": 9,
    "start_time": "2023-09-02T09:15:41.498Z"
   },
   {
    "duration": 677,
    "start_time": "2023-09-02T09:15:46.833Z"
   },
   {
    "duration": 111,
    "start_time": "2023-09-02T09:15:47.511Z"
   },
   {
    "duration": 12,
    "start_time": "2023-09-02T09:15:47.623Z"
   },
   {
    "duration": 14,
    "start_time": "2023-09-02T09:15:47.637Z"
   },
   {
    "duration": 8,
    "start_time": "2023-09-02T09:15:47.653Z"
   },
   {
    "duration": 16,
    "start_time": "2023-09-02T09:15:47.662Z"
   },
   {
    "duration": 12,
    "start_time": "2023-09-02T09:15:47.679Z"
   },
   {
    "duration": 10,
    "start_time": "2023-09-02T09:15:47.693Z"
   },
   {
    "duration": 12,
    "start_time": "2023-09-02T09:15:47.704Z"
   },
   {
    "duration": 141,
    "start_time": "2023-09-02T09:15:47.718Z"
   },
   {
    "duration": 132,
    "start_time": "2023-09-02T09:15:47.860Z"
   },
   {
    "duration": 117,
    "start_time": "2023-09-02T09:15:47.994Z"
   },
   {
    "duration": 109,
    "start_time": "2023-09-02T09:15:48.113Z"
   },
   {
    "duration": 177,
    "start_time": "2023-09-02T09:15:48.225Z"
   },
   {
    "duration": 102,
    "start_time": "2023-09-02T09:15:48.403Z"
   },
   {
    "duration": 110,
    "start_time": "2023-09-02T09:15:48.507Z"
   },
   {
    "duration": 115,
    "start_time": "2023-09-02T09:15:48.618Z"
   },
   {
    "duration": 130,
    "start_time": "2023-09-02T09:15:48.735Z"
   },
   {
    "duration": 109,
    "start_time": "2023-09-02T09:15:48.866Z"
   },
   {
    "duration": 119,
    "start_time": "2023-09-02T09:15:48.977Z"
   },
   {
    "duration": 111,
    "start_time": "2023-09-02T09:15:49.098Z"
   },
   {
    "duration": 109,
    "start_time": "2023-09-02T09:15:49.210Z"
   },
   {
    "duration": 114,
    "start_time": "2023-09-02T09:15:49.320Z"
   },
   {
    "duration": 9,
    "start_time": "2023-09-02T09:15:49.435Z"
   },
   {
    "duration": 6,
    "start_time": "2023-09-02T09:15:49.457Z"
   },
   {
    "duration": 16,
    "start_time": "2023-09-02T09:15:49.465Z"
   },
   {
    "duration": 2,
    "start_time": "2023-09-02T09:15:49.483Z"
   },
   {
    "duration": 4,
    "start_time": "2023-09-02T09:15:49.487Z"
   },
   {
    "duration": 5,
    "start_time": "2023-09-02T09:15:49.492Z"
   },
   {
    "duration": 503,
    "start_time": "2023-09-02T09:15:49.498Z"
   },
   {
    "duration": 0,
    "start_time": "2023-09-02T09:15:50.002Z"
   },
   {
    "duration": 0,
    "start_time": "2023-09-02T09:15:50.004Z"
   },
   {
    "duration": 0,
    "start_time": "2023-09-02T09:15:50.004Z"
   },
   {
    "duration": 468,
    "start_time": "2023-09-02T09:16:03.338Z"
   },
   {
    "duration": 3,
    "start_time": "2023-09-02T09:16:34.409Z"
   },
   {
    "duration": 5,
    "start_time": "2023-09-02T09:16:40.974Z"
   },
   {
    "duration": 16,
    "start_time": "2023-09-02T09:16:46.121Z"
   },
   {
    "duration": 27,
    "start_time": "2023-09-02T09:18:54.040Z"
   },
   {
    "duration": 28,
    "start_time": "2023-09-02T09:19:00.182Z"
   },
   {
    "duration": 107,
    "start_time": "2023-09-02T09:23:14.011Z"
   },
   {
    "duration": 12,
    "start_time": "2023-09-02T09:23:18.708Z"
   },
   {
    "duration": 1803,
    "start_time": "2023-09-02T09:23:33.580Z"
   },
   {
    "duration": 4,
    "start_time": "2023-09-02T10:23:44.490Z"
   },
   {
    "duration": 6,
    "start_time": "2023-09-02T10:23:46.075Z"
   },
   {
    "duration": 35,
    "start_time": "2023-09-02T10:23:49.284Z"
   },
   {
    "duration": 28,
    "start_time": "2023-09-02T10:24:01.651Z"
   },
   {
    "duration": 28,
    "start_time": "2023-09-02T10:24:05.048Z"
   },
   {
    "duration": 10,
    "start_time": "2023-09-02T10:29:21.840Z"
   },
   {
    "duration": 19,
    "start_time": "2023-09-02T10:29:27.727Z"
   },
   {
    "duration": 19,
    "start_time": "2023-09-02T10:29:31.189Z"
   },
   {
    "duration": 6,
    "start_time": "2023-09-02T10:29:47.988Z"
   },
   {
    "duration": 17,
    "start_time": "2023-09-02T10:29:49.386Z"
   },
   {
    "duration": 33,
    "start_time": "2023-09-02T10:30:00.354Z"
   },
   {
    "duration": 14,
    "start_time": "2023-09-02T10:30:29.398Z"
   },
   {
    "duration": 15,
    "start_time": "2023-09-02T10:30:55.527Z"
   },
   {
    "duration": 30,
    "start_time": "2023-09-02T10:30:56.569Z"
   },
   {
    "duration": 15,
    "start_time": "2023-09-02T10:30:58.386Z"
   },
   {
    "duration": 5,
    "start_time": "2023-09-02T10:31:47.883Z"
   },
   {
    "duration": 102,
    "start_time": "2023-09-02T10:31:50.994Z"
   },
   {
    "duration": 5,
    "start_time": "2023-09-02T10:33:23.424Z"
   },
   {
    "duration": 27,
    "start_time": "2023-09-02T10:33:27.223Z"
   },
   {
    "duration": 24,
    "start_time": "2023-09-02T10:34:28.118Z"
   },
   {
    "duration": 10,
    "start_time": "2023-09-02T10:34:31.482Z"
   },
   {
    "duration": 19,
    "start_time": "2023-09-02T10:36:32.807Z"
   },
   {
    "duration": 71,
    "start_time": "2023-09-02T10:39:24.534Z"
   },
   {
    "duration": 27,
    "start_time": "2023-09-02T10:39:38.418Z"
   },
   {
    "duration": 22,
    "start_time": "2023-09-02T10:39:45.222Z"
   },
   {
    "duration": 23,
    "start_time": "2023-09-02T10:39:53.591Z"
   },
   {
    "duration": 9,
    "start_time": "2023-09-02T10:42:33.090Z"
   },
   {
    "duration": 12,
    "start_time": "2023-09-02T10:42:38.820Z"
   },
   {
    "duration": 635,
    "start_time": "2023-09-02T10:44:47.187Z"
   },
   {
    "duration": 110,
    "start_time": "2023-09-02T10:44:47.824Z"
   },
   {
    "duration": 12,
    "start_time": "2023-09-02T10:44:47.935Z"
   },
   {
    "duration": 16,
    "start_time": "2023-09-02T10:44:47.949Z"
   },
   {
    "duration": 13,
    "start_time": "2023-09-02T10:44:47.968Z"
   },
   {
    "duration": 23,
    "start_time": "2023-09-02T10:44:47.983Z"
   },
   {
    "duration": 11,
    "start_time": "2023-09-02T10:44:48.008Z"
   },
   {
    "duration": 26,
    "start_time": "2023-09-02T10:44:48.021Z"
   },
   {
    "duration": 16,
    "start_time": "2023-09-02T10:44:48.049Z"
   },
   {
    "duration": 139,
    "start_time": "2023-09-02T10:44:48.067Z"
   },
   {
    "duration": 121,
    "start_time": "2023-09-02T10:44:48.208Z"
   },
   {
    "duration": 115,
    "start_time": "2023-09-02T10:44:48.331Z"
   },
   {
    "duration": 111,
    "start_time": "2023-09-02T10:44:48.447Z"
   },
   {
    "duration": 170,
    "start_time": "2023-09-02T10:44:48.561Z"
   },
   {
    "duration": 123,
    "start_time": "2023-09-02T10:44:48.733Z"
   },
   {
    "duration": 121,
    "start_time": "2023-09-02T10:44:48.858Z"
   },
   {
    "duration": 113,
    "start_time": "2023-09-02T10:44:48.981Z"
   },
   {
    "duration": 111,
    "start_time": "2023-09-02T10:44:49.096Z"
   },
   {
    "duration": 109,
    "start_time": "2023-09-02T10:44:49.208Z"
   },
   {
    "duration": 113,
    "start_time": "2023-09-02T10:44:49.319Z"
   },
   {
    "duration": 105,
    "start_time": "2023-09-02T10:44:49.434Z"
   },
   {
    "duration": 120,
    "start_time": "2023-09-02T10:44:49.541Z"
   },
   {
    "duration": 111,
    "start_time": "2023-09-02T10:44:49.664Z"
   },
   {
    "duration": 9,
    "start_time": "2023-09-02T10:44:49.777Z"
   },
   {
    "duration": 5,
    "start_time": "2023-09-02T10:44:49.788Z"
   },
   {
    "duration": 12,
    "start_time": "2023-09-02T10:44:49.795Z"
   },
   {
    "duration": 5,
    "start_time": "2023-09-02T10:44:49.809Z"
   },
   {
    "duration": 9,
    "start_time": "2023-09-02T10:44:49.816Z"
   },
   {
    "duration": 8,
    "start_time": "2023-09-02T10:44:49.827Z"
   },
   {
    "duration": 21,
    "start_time": "2023-09-02T10:44:49.836Z"
   },
   {
    "duration": 41,
    "start_time": "2023-09-02T10:44:49.858Z"
   },
   {
    "duration": 23,
    "start_time": "2023-09-02T10:44:49.901Z"
   },
   {
    "duration": 9,
    "start_time": "2023-09-02T10:44:49.926Z"
   },
   {
    "duration": 10,
    "start_time": "2023-09-02T10:44:49.936Z"
   },
   {
    "duration": 36,
    "start_time": "2023-09-02T10:44:49.948Z"
   },
   {
    "duration": 8,
    "start_time": "2023-09-02T10:44:49.986Z"
   },
   {
    "duration": 36,
    "start_time": "2023-09-02T10:44:49.995Z"
   },
   {
    "duration": 29,
    "start_time": "2023-09-02T10:44:50.032Z"
   },
   {
    "duration": 4,
    "start_time": "2023-09-02T10:44:50.062Z"
   },
   {
    "duration": 17,
    "start_time": "2023-09-02T10:44:50.067Z"
   },
   {
    "duration": 9,
    "start_time": "2023-09-02T10:44:50.087Z"
   },
   {
    "duration": 14,
    "start_time": "2023-09-02T10:44:50.097Z"
   },
   {
    "duration": 20,
    "start_time": "2023-09-02T10:44:50.113Z"
   },
   {
    "duration": 22,
    "start_time": "2023-09-02T10:44:50.135Z"
   },
   {
    "duration": 20,
    "start_time": "2023-09-02T10:44:50.159Z"
   },
   {
    "duration": 108,
    "start_time": "2023-09-02T10:44:50.181Z"
   },
   {
    "duration": 18,
    "start_time": "2023-09-02T10:45:22.782Z"
   },
   {
    "duration": 736,
    "start_time": "2023-09-02T10:45:29.915Z"
   },
   {
    "duration": 115,
    "start_time": "2023-09-02T10:45:30.653Z"
   },
   {
    "duration": 12,
    "start_time": "2023-09-02T10:45:30.770Z"
   },
   {
    "duration": 60,
    "start_time": "2023-09-02T10:45:30.784Z"
   },
   {
    "duration": 56,
    "start_time": "2023-09-02T10:45:30.846Z"
   },
   {
    "duration": 42,
    "start_time": "2023-09-02T10:45:30.903Z"
   },
   {
    "duration": 40,
    "start_time": "2023-09-02T10:45:30.947Z"
   },
   {
    "duration": 50,
    "start_time": "2023-09-02T10:45:30.989Z"
   },
   {
    "duration": 61,
    "start_time": "2023-09-02T10:45:31.041Z"
   },
   {
    "duration": 152,
    "start_time": "2023-09-02T10:45:31.104Z"
   },
   {
    "duration": 124,
    "start_time": "2023-09-02T10:45:31.258Z"
   },
   {
    "duration": 115,
    "start_time": "2023-09-02T10:45:31.384Z"
   },
   {
    "duration": 108,
    "start_time": "2023-09-02T10:45:31.500Z"
   },
   {
    "duration": 182,
    "start_time": "2023-09-02T10:45:31.613Z"
   },
   {
    "duration": 162,
    "start_time": "2023-09-02T10:45:31.796Z"
   },
   {
    "duration": 207,
    "start_time": "2023-09-02T10:45:31.960Z"
   },
   {
    "duration": 220,
    "start_time": "2023-09-02T10:45:32.169Z"
   },
   {
    "duration": 207,
    "start_time": "2023-09-02T10:45:32.391Z"
   },
   {
    "duration": 259,
    "start_time": "2023-09-02T10:45:32.599Z"
   },
   {
    "duration": 216,
    "start_time": "2023-09-02T10:45:32.860Z"
   },
   {
    "duration": 203,
    "start_time": "2023-09-02T10:45:33.078Z"
   },
   {
    "duration": 210,
    "start_time": "2023-09-02T10:45:33.283Z"
   },
   {
    "duration": 215,
    "start_time": "2023-09-02T10:45:33.495Z"
   },
   {
    "duration": 45,
    "start_time": "2023-09-02T10:45:33.712Z"
   },
   {
    "duration": 6,
    "start_time": "2023-09-02T10:45:33.759Z"
   },
   {
    "duration": 31,
    "start_time": "2023-09-02T10:45:33.766Z"
   },
   {
    "duration": 29,
    "start_time": "2023-09-02T10:45:33.799Z"
   },
   {
    "duration": 45,
    "start_time": "2023-09-02T10:45:33.830Z"
   },
   {
    "duration": 47,
    "start_time": "2023-09-02T10:45:33.877Z"
   },
   {
    "duration": 130,
    "start_time": "2023-09-02T10:45:33.926Z"
   },
   {
    "duration": 135,
    "start_time": "2023-09-02T10:45:34.058Z"
   },
   {
    "duration": 26,
    "start_time": "2023-09-02T10:45:34.195Z"
   },
   {
    "duration": 4,
    "start_time": "2023-09-02T10:45:34.222Z"
   },
   {
    "duration": 10,
    "start_time": "2023-09-02T10:45:34.228Z"
   },
   {
    "duration": 34,
    "start_time": "2023-09-02T10:45:34.240Z"
   },
   {
    "duration": 10,
    "start_time": "2023-09-02T10:45:34.275Z"
   },
   {
    "duration": 35,
    "start_time": "2023-09-02T10:45:34.287Z"
   },
   {
    "duration": 38,
    "start_time": "2023-09-02T10:45:34.323Z"
   },
   {
    "duration": 5,
    "start_time": "2023-09-02T10:45:34.362Z"
   },
   {
    "duration": 18,
    "start_time": "2023-09-02T10:45:34.368Z"
   },
   {
    "duration": 11,
    "start_time": "2023-09-02T10:45:34.390Z"
   },
   {
    "duration": 10,
    "start_time": "2023-09-02T10:45:34.402Z"
   },
   {
    "duration": 15,
    "start_time": "2023-09-02T10:45:34.414Z"
   },
   {
    "duration": 26,
    "start_time": "2023-09-02T10:45:34.431Z"
   },
   {
    "duration": 20,
    "start_time": "2023-09-02T10:45:34.459Z"
   },
   {
    "duration": 124,
    "start_time": "2023-09-02T10:45:34.481Z"
   },
   {
    "duration": 684,
    "start_time": "2023-09-02T10:50:24.649Z"
   },
   {
    "duration": 114,
    "start_time": "2023-09-02T10:50:25.336Z"
   },
   {
    "duration": 13,
    "start_time": "2023-09-02T10:50:25.452Z"
   },
   {
    "duration": 17,
    "start_time": "2023-09-02T10:50:25.467Z"
   },
   {
    "duration": 13,
    "start_time": "2023-09-02T10:50:25.486Z"
   },
   {
    "duration": 23,
    "start_time": "2023-09-02T10:50:25.501Z"
   },
   {
    "duration": 31,
    "start_time": "2023-09-02T10:50:25.526Z"
   },
   {
    "duration": 12,
    "start_time": "2023-09-02T10:50:25.559Z"
   },
   {
    "duration": 19,
    "start_time": "2023-09-02T10:50:25.573Z"
   },
   {
    "duration": 139,
    "start_time": "2023-09-02T10:50:25.594Z"
   },
   {
    "duration": 134,
    "start_time": "2023-09-02T10:50:25.734Z"
   },
   {
    "duration": 119,
    "start_time": "2023-09-02T10:50:25.870Z"
   },
   {
    "duration": 111,
    "start_time": "2023-09-02T10:50:25.990Z"
   },
   {
    "duration": 179,
    "start_time": "2023-09-02T10:50:26.102Z"
   },
   {
    "duration": 108,
    "start_time": "2023-09-02T10:50:26.282Z"
   },
   {
    "duration": 119,
    "start_time": "2023-09-02T10:50:26.392Z"
   },
   {
    "duration": 116,
    "start_time": "2023-09-02T10:50:26.513Z"
   },
   {
    "duration": 106,
    "start_time": "2023-09-02T10:50:26.630Z"
   },
   {
    "duration": 121,
    "start_time": "2023-09-02T10:50:26.737Z"
   },
   {
    "duration": 123,
    "start_time": "2023-09-02T10:50:26.860Z"
   },
   {
    "duration": 117,
    "start_time": "2023-09-02T10:50:26.985Z"
   },
   {
    "duration": 109,
    "start_time": "2023-09-02T10:50:27.104Z"
   },
   {
    "duration": 115,
    "start_time": "2023-09-02T10:50:27.215Z"
   },
   {
    "duration": 9,
    "start_time": "2023-09-02T10:50:27.331Z"
   },
   {
    "duration": 20,
    "start_time": "2023-09-02T10:50:27.341Z"
   },
   {
    "duration": 28,
    "start_time": "2023-09-02T10:50:27.362Z"
   },
   {
    "duration": 5,
    "start_time": "2023-09-02T10:50:27.392Z"
   },
   {
    "duration": 15,
    "start_time": "2023-09-02T10:50:27.400Z"
   },
   {
    "duration": 5,
    "start_time": "2023-09-02T10:50:27.417Z"
   },
   {
    "duration": 27,
    "start_time": "2023-09-02T10:50:27.423Z"
   },
   {
    "duration": 31,
    "start_time": "2023-09-02T10:50:27.452Z"
   },
   {
    "duration": 24,
    "start_time": "2023-09-02T10:50:27.485Z"
   },
   {
    "duration": 4,
    "start_time": "2023-09-02T10:50:27.510Z"
   },
   {
    "duration": 7,
    "start_time": "2023-09-02T10:50:27.516Z"
   },
   {
    "duration": 44,
    "start_time": "2023-09-02T10:50:27.524Z"
   },
   {
    "duration": 9,
    "start_time": "2023-09-02T10:50:27.570Z"
   },
   {
    "duration": 39,
    "start_time": "2023-09-02T10:50:27.581Z"
   },
   {
    "duration": 18,
    "start_time": "2023-09-02T10:50:27.621Z"
   },
   {
    "duration": 4,
    "start_time": "2023-09-02T10:50:27.657Z"
   },
   {
    "duration": 10,
    "start_time": "2023-09-02T10:50:27.663Z"
   },
   {
    "duration": 9,
    "start_time": "2023-09-02T10:50:27.675Z"
   },
   {
    "duration": 13,
    "start_time": "2023-09-02T10:50:27.686Z"
   },
   {
    "duration": 15,
    "start_time": "2023-09-02T10:50:27.700Z"
   },
   {
    "duration": 58,
    "start_time": "2023-09-02T10:50:27.717Z"
   },
   {
    "duration": 168,
    "start_time": "2023-09-02T10:50:27.777Z"
   },
   {
    "duration": 0,
    "start_time": "2023-09-02T10:50:27.947Z"
   },
   {
    "duration": 6,
    "start_time": "2023-09-02T10:51:29.313Z"
   },
   {
    "duration": 14,
    "start_time": "2023-09-02T10:51:37.718Z"
   },
   {
    "duration": 1846,
    "start_time": "2023-09-02T10:51:50.588Z"
   },
   {
    "duration": 106,
    "start_time": "2023-09-02T10:51:58.792Z"
   },
   {
    "duration": 863,
    "start_time": "2023-09-02T10:52:04.796Z"
   },
   {
    "duration": 10,
    "start_time": "2023-09-02T10:52:19.093Z"
   },
   {
    "duration": 13,
    "start_time": "2023-09-02T10:52:28.154Z"
   },
   {
    "duration": 19,
    "start_time": "2023-09-02T10:52:32.409Z"
   },
   {
    "duration": 16,
    "start_time": "2023-09-02T10:53:06.493Z"
   },
   {
    "duration": 5,
    "start_time": "2023-09-02T10:54:40.847Z"
   },
   {
    "duration": 26,
    "start_time": "2023-09-02T10:54:44.322Z"
   },
   {
    "duration": 10,
    "start_time": "2023-09-02T10:54:57.655Z"
   },
   {
    "duration": 15,
    "start_time": "2023-09-02T10:55:01.990Z"
   },
   {
    "duration": 99,
    "start_time": "2023-09-02T10:58:40.012Z"
   },
   {
    "duration": 6,
    "start_time": "2023-09-02T10:58:57.989Z"
   },
   {
    "duration": 24,
    "start_time": "2023-09-02T11:13:48.734Z"
   },
   {
    "duration": 9,
    "start_time": "2023-09-02T11:16:30.795Z"
   },
   {
    "duration": 13,
    "start_time": "2023-09-02T11:16:42.090Z"
   },
   {
    "duration": 9,
    "start_time": "2023-09-02T11:16:47.396Z"
   },
   {
    "duration": 9,
    "start_time": "2023-09-02T11:17:15.579Z"
   },
   {
    "duration": 4,
    "start_time": "2023-09-02T11:17:48.919Z"
   },
   {
    "duration": 5,
    "start_time": "2023-09-02T11:17:51.595Z"
   },
   {
    "duration": 4,
    "start_time": "2023-09-02T11:18:01.260Z"
   },
   {
    "duration": 9,
    "start_time": "2023-09-02T11:19:08.834Z"
   },
   {
    "duration": 4,
    "start_time": "2023-09-02T11:19:09.707Z"
   },
   {
    "duration": 4,
    "start_time": "2023-09-02T11:19:28.657Z"
   },
   {
    "duration": 5,
    "start_time": "2023-09-02T11:19:28.903Z"
   },
   {
    "duration": 5,
    "start_time": "2023-09-02T11:19:43.682Z"
   },
   {
    "duration": 5,
    "start_time": "2023-09-02T11:19:43.957Z"
   },
   {
    "duration": 24,
    "start_time": "2023-09-02T11:19:46.685Z"
   },
   {
    "duration": 6,
    "start_time": "2023-09-02T11:19:51.222Z"
   },
   {
    "duration": 24,
    "start_time": "2023-09-02T11:19:54.709Z"
   },
   {
    "duration": 4,
    "start_time": "2023-09-02T11:21:22.532Z"
   },
   {
    "duration": 5,
    "start_time": "2023-09-02T11:21:22.797Z"
   },
   {
    "duration": 295,
    "start_time": "2023-09-02T11:25:03.396Z"
   },
   {
    "duration": 488,
    "start_time": "2023-09-02T11:25:34.618Z"
   },
   {
    "duration": 218,
    "start_time": "2023-09-02T11:25:38.984Z"
   },
   {
    "duration": 3181,
    "start_time": "2023-09-02T11:25:45.336Z"
   },
   {
    "duration": 3037,
    "start_time": "2023-09-02T11:26:36.994Z"
   },
   {
    "duration": 3066,
    "start_time": "2023-09-02T11:26:56.957Z"
   },
   {
    "duration": 3052,
    "start_time": "2023-09-02T11:27:03.700Z"
   },
   {
    "duration": 2997,
    "start_time": "2023-09-02T11:27:09.595Z"
   },
   {
    "duration": 3159,
    "start_time": "2023-09-02T11:27:16.414Z"
   },
   {
    "duration": 3261,
    "start_time": "2023-09-02T11:27:22.350Z"
   },
   {
    "duration": 3340,
    "start_time": "2023-09-02T11:28:33.812Z"
   },
   {
    "duration": 3306,
    "start_time": "2023-09-02T11:28:50.920Z"
   },
   {
    "duration": 5547,
    "start_time": "2023-09-02T11:29:26.904Z"
   },
   {
    "duration": 5351,
    "start_time": "2023-09-02T11:29:42.406Z"
   },
   {
    "duration": 3183,
    "start_time": "2023-09-02T11:29:55.420Z"
   },
   {
    "duration": 5503,
    "start_time": "2023-09-02T11:29:59.644Z"
   },
   {
    "duration": 5,
    "start_time": "2023-09-02T11:31:13.912Z"
   },
   {
    "duration": 5,
    "start_time": "2023-09-02T11:31:19.594Z"
   },
   {
    "duration": 6,
    "start_time": "2023-09-02T11:31:23.678Z"
   },
   {
    "duration": 4,
    "start_time": "2023-09-02T11:31:29.748Z"
   },
   {
    "duration": 5,
    "start_time": "2023-09-02T11:39:13.749Z"
   },
   {
    "duration": 5467,
    "start_time": "2023-09-02T11:40:19.212Z"
   },
   {
    "duration": 128,
    "start_time": "2023-09-02T11:41:15.438Z"
   },
   {
    "duration": 211,
    "start_time": "2023-09-02T11:41:22.202Z"
   },
   {
    "duration": 3341,
    "start_time": "2023-09-02T11:44:45.916Z"
   },
   {
    "duration": 3328,
    "start_time": "2023-09-02T11:44:57.149Z"
   },
   {
    "duration": 3340,
    "start_time": "2023-09-02T11:45:10.024Z"
   },
   {
    "duration": 3107,
    "start_time": "2023-09-02T11:45:33.604Z"
   },
   {
    "duration": 1397,
    "start_time": "2023-09-02T11:45:53.435Z"
   },
   {
    "duration": 16,
    "start_time": "2023-09-02T11:46:59.115Z"
   },
   {
    "duration": 13,
    "start_time": "2023-09-02T11:47:02.078Z"
   },
   {
    "duration": 14,
    "start_time": "2023-09-02T11:48:55.765Z"
   },
   {
    "duration": 4,
    "start_time": "2023-09-02T11:48:58.578Z"
   },
   {
    "duration": 1428,
    "start_time": "2023-09-02T11:49:03.100Z"
   },
   {
    "duration": 5,
    "start_time": "2023-09-02T11:49:15.676Z"
   },
   {
    "duration": 1192,
    "start_time": "2023-09-02T11:49:28.689Z"
   },
   {
    "duration": 111,
    "start_time": "2023-09-02T11:49:29.883Z"
   },
   {
    "duration": 13,
    "start_time": "2023-09-02T11:49:29.996Z"
   },
   {
    "duration": 198,
    "start_time": "2023-09-02T11:49:30.011Z"
   },
   {
    "duration": 60,
    "start_time": "2023-09-02T11:49:30.211Z"
   },
   {
    "duration": 47,
    "start_time": "2023-09-02T11:49:30.273Z"
   },
   {
    "duration": 38,
    "start_time": "2023-09-02T11:49:30.322Z"
   },
   {
    "duration": 58,
    "start_time": "2023-09-02T11:49:30.362Z"
   },
   {
    "duration": 46,
    "start_time": "2023-09-02T11:49:30.422Z"
   },
   {
    "duration": 155,
    "start_time": "2023-09-02T11:49:30.471Z"
   },
   {
    "duration": 129,
    "start_time": "2023-09-02T11:49:30.629Z"
   },
   {
    "duration": 145,
    "start_time": "2023-09-02T11:49:30.760Z"
   },
   {
    "duration": 115,
    "start_time": "2023-09-02T11:49:30.907Z"
   },
   {
    "duration": 118,
    "start_time": "2023-09-02T11:49:31.024Z"
   },
   {
    "duration": 114,
    "start_time": "2023-09-02T11:49:31.157Z"
   },
   {
    "duration": 117,
    "start_time": "2023-09-02T11:49:31.273Z"
   },
   {
    "duration": 118,
    "start_time": "2023-09-02T11:49:31.392Z"
   },
   {
    "duration": 195,
    "start_time": "2023-09-02T11:49:31.512Z"
   },
   {
    "duration": 134,
    "start_time": "2023-09-02T11:49:31.709Z"
   },
   {
    "duration": 117,
    "start_time": "2023-09-02T11:49:31.845Z"
   },
   {
    "duration": 106,
    "start_time": "2023-09-02T11:49:31.964Z"
   },
   {
    "duration": 107,
    "start_time": "2023-09-02T11:49:32.072Z"
   },
   {
    "duration": 109,
    "start_time": "2023-09-02T11:49:32.181Z"
   },
   {
    "duration": 8,
    "start_time": "2023-09-02T11:49:32.292Z"
   },
   {
    "duration": 39,
    "start_time": "2023-09-02T11:49:32.302Z"
   },
   {
    "duration": 40,
    "start_time": "2023-09-02T11:49:32.342Z"
   },
   {
    "duration": 163,
    "start_time": "2023-09-02T11:49:32.384Z"
   },
   {
    "duration": 23,
    "start_time": "2023-09-02T11:49:32.551Z"
   },
   {
    "duration": 28,
    "start_time": "2023-09-02T11:49:32.576Z"
   },
   {
    "duration": 7,
    "start_time": "2023-09-02T11:49:32.606Z"
   },
   {
    "duration": 36,
    "start_time": "2023-09-02T11:49:32.615Z"
   },
   {
    "duration": 25,
    "start_time": "2023-09-02T11:49:32.653Z"
   },
   {
    "duration": 14,
    "start_time": "2023-09-02T11:49:32.680Z"
   },
   {
    "duration": 27,
    "start_time": "2023-09-02T11:49:32.696Z"
   },
   {
    "duration": 49,
    "start_time": "2023-09-02T11:49:32.724Z"
   },
   {
    "duration": 32,
    "start_time": "2023-09-02T11:49:32.775Z"
   },
   {
    "duration": 68,
    "start_time": "2023-09-02T11:49:32.810Z"
   },
   {
    "duration": 21,
    "start_time": "2023-09-02T11:49:32.880Z"
   },
   {
    "duration": 7,
    "start_time": "2023-09-02T11:49:32.903Z"
   },
   {
    "duration": 35,
    "start_time": "2023-09-02T11:49:32.912Z"
   },
   {
    "duration": 21,
    "start_time": "2023-09-02T11:49:32.949Z"
   },
   {
    "duration": 29,
    "start_time": "2023-09-02T11:49:32.972Z"
   },
   {
    "duration": 35,
    "start_time": "2023-09-02T11:49:33.003Z"
   },
   {
    "duration": 5,
    "start_time": "2023-09-02T11:49:33.040Z"
   },
   {
    "duration": 36,
    "start_time": "2023-09-02T11:49:33.046Z"
   },
   {
    "duration": 7,
    "start_time": "2023-09-02T11:49:33.084Z"
   },
   {
    "duration": 108,
    "start_time": "2023-09-02T11:49:33.092Z"
   },
   {
    "duration": 6,
    "start_time": "2023-09-02T11:49:33.202Z"
   },
   {
    "duration": 20,
    "start_time": "2023-09-02T11:49:33.210Z"
   },
   {
    "duration": 15,
    "start_time": "2023-09-02T11:49:33.232Z"
   },
   {
    "duration": 26,
    "start_time": "2023-09-02T11:49:33.248Z"
   },
   {
    "duration": 5506,
    "start_time": "2023-09-02T11:49:33.275Z"
   },
   {
    "duration": 4,
    "start_time": "2023-09-02T11:49:38.783Z"
   },
   {
    "duration": 7,
    "start_time": "2023-09-02T11:49:38.788Z"
   },
   {
    "duration": 1553,
    "start_time": "2023-09-02T11:49:38.797Z"
   },
   {
    "duration": 6,
    "start_time": "2023-09-02T11:49:51.738Z"
   },
   {
    "duration": 9,
    "start_time": "2023-09-02T11:49:56.508Z"
   },
   {
    "duration": 24,
    "start_time": "2023-09-02T11:50:00.422Z"
   },
   {
    "duration": 1920,
    "start_time": "2023-09-02T11:50:42.801Z"
   },
   {
    "duration": 1228,
    "start_time": "2023-09-02T11:50:50.625Z"
   },
   {
    "duration": 115,
    "start_time": "2023-09-02T11:50:51.857Z"
   },
   {
    "duration": 13,
    "start_time": "2023-09-02T11:50:51.975Z"
   },
   {
    "duration": 21,
    "start_time": "2023-09-02T11:50:51.990Z"
   },
   {
    "duration": 10,
    "start_time": "2023-09-02T11:50:52.012Z"
   },
   {
    "duration": 37,
    "start_time": "2023-09-02T11:50:52.023Z"
   },
   {
    "duration": 12,
    "start_time": "2023-09-02T11:50:52.061Z"
   },
   {
    "duration": 11,
    "start_time": "2023-09-02T11:50:52.074Z"
   },
   {
    "duration": 8,
    "start_time": "2023-09-02T11:50:52.087Z"
   },
   {
    "duration": 136,
    "start_time": "2023-09-02T11:50:52.097Z"
   },
   {
    "duration": 127,
    "start_time": "2023-09-02T11:50:52.234Z"
   },
   {
    "duration": 117,
    "start_time": "2023-09-02T11:50:52.362Z"
   },
   {
    "duration": 107,
    "start_time": "2023-09-02T11:50:52.482Z"
   },
   {
    "duration": 111,
    "start_time": "2023-09-02T11:50:52.590Z"
   },
   {
    "duration": 104,
    "start_time": "2023-09-02T11:50:52.702Z"
   },
   {
    "duration": 120,
    "start_time": "2023-09-02T11:50:52.808Z"
   },
   {
    "duration": 128,
    "start_time": "2023-09-02T11:50:52.930Z"
   },
   {
    "duration": 183,
    "start_time": "2023-09-02T11:50:53.060Z"
   },
   {
    "duration": 118,
    "start_time": "2023-09-02T11:50:53.244Z"
   },
   {
    "duration": 125,
    "start_time": "2023-09-02T11:50:53.364Z"
   },
   {
    "duration": 114,
    "start_time": "2023-09-02T11:50:53.491Z"
   },
   {
    "duration": 120,
    "start_time": "2023-09-02T11:50:53.606Z"
   },
   {
    "duration": 114,
    "start_time": "2023-09-02T11:50:53.728Z"
   },
   {
    "duration": 18,
    "start_time": "2023-09-02T11:50:53.844Z"
   },
   {
    "duration": 6,
    "start_time": "2023-09-02T11:50:53.863Z"
   },
   {
    "duration": 9,
    "start_time": "2023-09-02T11:50:53.871Z"
   },
   {
    "duration": 2,
    "start_time": "2023-09-02T11:50:53.882Z"
   },
   {
    "duration": 10,
    "start_time": "2023-09-02T11:50:53.885Z"
   },
   {
    "duration": 4,
    "start_time": "2023-09-02T11:50:53.897Z"
   },
   {
    "duration": 13,
    "start_time": "2023-09-02T11:50:53.902Z"
   },
   {
    "duration": 39,
    "start_time": "2023-09-02T11:50:53.917Z"
   },
   {
    "duration": 26,
    "start_time": "2023-09-02T11:50:53.958Z"
   },
   {
    "duration": 4,
    "start_time": "2023-09-02T11:50:53.985Z"
   },
   {
    "duration": 8,
    "start_time": "2023-09-02T11:50:53.991Z"
   },
   {
    "duration": 30,
    "start_time": "2023-09-02T11:50:54.000Z"
   },
   {
    "duration": 31,
    "start_time": "2023-09-02T11:50:54.032Z"
   },
   {
    "duration": 34,
    "start_time": "2023-09-02T11:50:54.065Z"
   },
   {
    "duration": 15,
    "start_time": "2023-09-02T11:50:54.100Z"
   },
   {
    "duration": 124,
    "start_time": "2023-09-02T11:50:54.117Z"
   },
   {
    "duration": 0,
    "start_time": "2023-09-02T11:50:54.243Z"
   },
   {
    "duration": 0,
    "start_time": "2023-09-02T11:50:54.244Z"
   },
   {
    "duration": 0,
    "start_time": "2023-09-02T11:50:54.245Z"
   },
   {
    "duration": 0,
    "start_time": "2023-09-02T11:50:54.246Z"
   },
   {
    "duration": 0,
    "start_time": "2023-09-02T11:50:54.247Z"
   },
   {
    "duration": 0,
    "start_time": "2023-09-02T11:50:54.256Z"
   },
   {
    "duration": 0,
    "start_time": "2023-09-02T11:50:54.257Z"
   },
   {
    "duration": 0,
    "start_time": "2023-09-02T11:50:54.258Z"
   },
   {
    "duration": 0,
    "start_time": "2023-09-02T11:50:54.259Z"
   },
   {
    "duration": 0,
    "start_time": "2023-09-02T11:50:54.260Z"
   },
   {
    "duration": 0,
    "start_time": "2023-09-02T11:50:54.261Z"
   },
   {
    "duration": 0,
    "start_time": "2023-09-02T11:50:54.262Z"
   },
   {
    "duration": 0,
    "start_time": "2023-09-02T11:50:54.263Z"
   },
   {
    "duration": 0,
    "start_time": "2023-09-02T11:50:54.264Z"
   },
   {
    "duration": 0,
    "start_time": "2023-09-02T11:50:54.265Z"
   },
   {
    "duration": 0,
    "start_time": "2023-09-02T11:50:54.266Z"
   },
   {
    "duration": 12,
    "start_time": "2023-09-02T11:51:25.669Z"
   },
   {
    "duration": 39,
    "start_time": "2023-09-02T11:51:38.473Z"
   },
   {
    "duration": 4,
    "start_time": "2023-09-02T11:52:13.376Z"
   },
   {
    "duration": 13,
    "start_time": "2023-09-02T11:52:29.091Z"
   },
   {
    "duration": 11,
    "start_time": "2023-09-02T11:52:44.206Z"
   },
   {
    "duration": 11,
    "start_time": "2023-09-02T11:54:07.499Z"
   },
   {
    "duration": 4,
    "start_time": "2023-09-02T11:54:17.638Z"
   },
   {
    "duration": 34,
    "start_time": "2023-09-02T11:54:20.799Z"
   },
   {
    "duration": 13,
    "start_time": "2023-09-02T11:54:41.378Z"
   },
   {
    "duration": 378,
    "start_time": "2023-09-02T11:55:15.338Z"
   },
   {
    "duration": 401,
    "start_time": "2023-09-02T11:55:19.572Z"
   },
   {
    "duration": 64,
    "start_time": "2023-09-02T11:55:36.815Z"
   },
   {
    "duration": 37,
    "start_time": "2023-09-02T11:55:47.948Z"
   },
   {
    "duration": 61,
    "start_time": "2023-09-02T11:55:55.973Z"
   },
   {
    "duration": 61,
    "start_time": "2023-09-02T11:56:06.673Z"
   },
   {
    "duration": 61,
    "start_time": "2023-09-02T11:56:12.929Z"
   },
   {
    "duration": 1225,
    "start_time": "2023-09-02T11:56:26.547Z"
   },
   {
    "duration": 112,
    "start_time": "2023-09-02T11:56:27.774Z"
   },
   {
    "duration": 12,
    "start_time": "2023-09-02T11:56:27.888Z"
   },
   {
    "duration": 21,
    "start_time": "2023-09-02T11:56:27.901Z"
   },
   {
    "duration": 26,
    "start_time": "2023-09-02T11:56:27.924Z"
   },
   {
    "duration": 31,
    "start_time": "2023-09-02T11:56:27.951Z"
   },
   {
    "duration": 10,
    "start_time": "2023-09-02T11:56:27.984Z"
   },
   {
    "duration": 11,
    "start_time": "2023-09-02T11:56:27.997Z"
   },
   {
    "duration": 20,
    "start_time": "2023-09-02T11:56:28.010Z"
   },
   {
    "duration": 144,
    "start_time": "2023-09-02T11:56:28.032Z"
   },
   {
    "duration": 125,
    "start_time": "2023-09-02T11:56:28.177Z"
   },
   {
    "duration": 123,
    "start_time": "2023-09-02T11:56:28.303Z"
   },
   {
    "duration": 134,
    "start_time": "2023-09-02T11:56:28.428Z"
   },
   {
    "duration": 131,
    "start_time": "2023-09-02T11:56:28.566Z"
   },
   {
    "duration": 116,
    "start_time": "2023-09-02T11:56:28.699Z"
   },
   {
    "duration": 155,
    "start_time": "2023-09-02T11:56:28.817Z"
   },
   {
    "duration": 115,
    "start_time": "2023-09-02T11:56:28.974Z"
   },
   {
    "duration": 195,
    "start_time": "2023-09-02T11:56:29.091Z"
   },
   {
    "duration": 104,
    "start_time": "2023-09-02T11:56:29.287Z"
   },
   {
    "duration": 118,
    "start_time": "2023-09-02T11:56:29.393Z"
   },
   {
    "duration": 95,
    "start_time": "2023-09-02T11:56:29.513Z"
   },
   {
    "duration": 108,
    "start_time": "2023-09-02T11:56:29.610Z"
   },
   {
    "duration": 116,
    "start_time": "2023-09-02T11:56:29.720Z"
   },
   {
    "duration": 21,
    "start_time": "2023-09-02T11:56:29.838Z"
   },
   {
    "duration": 12,
    "start_time": "2023-09-02T11:56:29.860Z"
   },
   {
    "duration": 15,
    "start_time": "2023-09-02T11:56:29.874Z"
   },
   {
    "duration": 2,
    "start_time": "2023-09-02T11:56:29.891Z"
   },
   {
    "duration": 7,
    "start_time": "2023-09-02T11:56:29.895Z"
   },
   {
    "duration": 4,
    "start_time": "2023-09-02T11:56:29.903Z"
   },
   {
    "duration": 7,
    "start_time": "2023-09-02T11:56:29.909Z"
   },
   {
    "duration": 27,
    "start_time": "2023-09-02T11:56:29.917Z"
   },
   {
    "duration": 34,
    "start_time": "2023-09-02T11:56:29.945Z"
   },
   {
    "duration": 4,
    "start_time": "2023-09-02T11:56:29.980Z"
   },
   {
    "duration": 7,
    "start_time": "2023-09-02T11:56:29.986Z"
   },
   {
    "duration": 30,
    "start_time": "2023-09-02T11:56:29.995Z"
   },
   {
    "duration": 36,
    "start_time": "2023-09-02T11:56:30.027Z"
   },
   {
    "duration": 70,
    "start_time": "2023-09-02T11:56:30.065Z"
   },
   {
    "duration": 17,
    "start_time": "2023-09-02T11:56:30.136Z"
   },
   {
    "duration": 86,
    "start_time": "2023-09-02T11:56:30.155Z"
   },
   {
    "duration": 11,
    "start_time": "2023-09-02T11:56:30.243Z"
   },
   {
    "duration": 33,
    "start_time": "2023-09-02T11:56:30.258Z"
   },
   {
    "duration": 46,
    "start_time": "2023-09-02T11:56:30.293Z"
   },
   {
    "duration": 106,
    "start_time": "2023-09-02T11:56:30.341Z"
   },
   {
    "duration": 32,
    "start_time": "2023-09-02T11:56:30.449Z"
   },
   {
    "duration": 54,
    "start_time": "2023-09-02T11:56:30.483Z"
   },
   {
    "duration": 40,
    "start_time": "2023-09-02T11:56:30.539Z"
   },
   {
    "duration": 124,
    "start_time": "2023-09-02T11:56:30.581Z"
   },
   {
    "duration": 6,
    "start_time": "2023-09-02T11:56:30.707Z"
   },
   {
    "duration": 40,
    "start_time": "2023-09-02T11:56:30.715Z"
   },
   {
    "duration": 43,
    "start_time": "2023-09-02T11:56:30.757Z"
   },
   {
    "duration": 47,
    "start_time": "2023-09-02T11:56:30.802Z"
   },
   {
    "duration": 5541,
    "start_time": "2023-09-02T11:56:30.851Z"
   },
   {
    "duration": 4,
    "start_time": "2023-09-02T11:56:36.393Z"
   },
   {
    "duration": 28,
    "start_time": "2023-09-02T11:56:36.399Z"
   },
   {
    "duration": 1557,
    "start_time": "2023-09-02T11:56:36.429Z"
   },
   {
    "duration": 1809,
    "start_time": "2023-09-02T11:57:34.336Z"
   },
   {
    "duration": 1228,
    "start_time": "2023-09-02T11:57:59.374Z"
   },
   {
    "duration": 117,
    "start_time": "2023-09-02T11:58:00.605Z"
   },
   {
    "duration": 15,
    "start_time": "2023-09-02T11:58:00.725Z"
   },
   {
    "duration": 47,
    "start_time": "2023-09-02T11:58:00.742Z"
   },
   {
    "duration": 166,
    "start_time": "2023-09-02T11:58:00.791Z"
   },
   {
    "duration": 202,
    "start_time": "2023-09-02T11:58:00.958Z"
   },
   {
    "duration": 40,
    "start_time": "2023-09-02T11:58:01.162Z"
   },
   {
    "duration": 83,
    "start_time": "2023-09-02T11:58:01.204Z"
   },
   {
    "duration": 65,
    "start_time": "2023-09-02T11:58:01.289Z"
   },
   {
    "duration": 209,
    "start_time": "2023-09-02T11:58:01.355Z"
   },
   {
    "duration": 127,
    "start_time": "2023-09-02T11:58:01.566Z"
   },
   {
    "duration": 122,
    "start_time": "2023-09-02T11:58:01.695Z"
   },
   {
    "duration": 108,
    "start_time": "2023-09-02T11:58:01.820Z"
   },
   {
    "duration": 228,
    "start_time": "2023-09-02T11:58:01.930Z"
   },
   {
    "duration": 224,
    "start_time": "2023-09-02T11:58:02.160Z"
   },
   {
    "duration": 124,
    "start_time": "2023-09-02T11:58:02.386Z"
   },
   {
    "duration": 129,
    "start_time": "2023-09-02T11:58:02.513Z"
   },
   {
    "duration": 203,
    "start_time": "2023-09-02T11:58:02.644Z"
   },
   {
    "duration": 120,
    "start_time": "2023-09-02T11:58:02.848Z"
   },
   {
    "duration": 116,
    "start_time": "2023-09-02T11:58:02.970Z"
   },
   {
    "duration": 112,
    "start_time": "2023-09-02T11:58:03.088Z"
   },
   {
    "duration": 104,
    "start_time": "2023-09-02T11:58:03.202Z"
   },
   {
    "duration": 110,
    "start_time": "2023-09-02T11:58:03.307Z"
   },
   {
    "duration": 9,
    "start_time": "2023-09-02T11:58:03.418Z"
   },
   {
    "duration": 5,
    "start_time": "2023-09-02T11:58:03.429Z"
   },
   {
    "duration": 27,
    "start_time": "2023-09-02T11:58:03.435Z"
   },
   {
    "duration": 19,
    "start_time": "2023-09-02T11:58:03.464Z"
   },
   {
    "duration": 25,
    "start_time": "2023-09-02T11:58:03.484Z"
   },
   {
    "duration": 32,
    "start_time": "2023-09-02T11:58:03.511Z"
   },
   {
    "duration": 32,
    "start_time": "2023-09-02T11:58:03.546Z"
   },
   {
    "duration": 52,
    "start_time": "2023-09-02T11:58:03.580Z"
   },
   {
    "duration": 26,
    "start_time": "2023-09-02T11:58:03.634Z"
   },
   {
    "duration": 7,
    "start_time": "2023-09-02T11:58:03.662Z"
   },
   {
    "duration": 35,
    "start_time": "2023-09-02T11:58:03.670Z"
   },
   {
    "duration": 65,
    "start_time": "2023-09-02T11:58:03.706Z"
   },
   {
    "duration": 11,
    "start_time": "2023-09-02T11:58:03.773Z"
   },
   {
    "duration": 47,
    "start_time": "2023-09-02T11:58:03.785Z"
   },
   {
    "duration": 26,
    "start_time": "2023-09-02T11:58:03.834Z"
   },
   {
    "duration": 1822,
    "start_time": "2023-09-02T11:58:03.861Z"
   },
   {
    "duration": 0,
    "start_time": "2023-09-02T11:58:05.685Z"
   },
   {
    "duration": 0,
    "start_time": "2023-09-02T11:58:05.686Z"
   },
   {
    "duration": 0,
    "start_time": "2023-09-02T11:58:05.688Z"
   },
   {
    "duration": 0,
    "start_time": "2023-09-02T11:58:05.689Z"
   },
   {
    "duration": 0,
    "start_time": "2023-09-02T11:58:05.690Z"
   },
   {
    "duration": 0,
    "start_time": "2023-09-02T11:58:05.691Z"
   },
   {
    "duration": 0,
    "start_time": "2023-09-02T11:58:05.692Z"
   },
   {
    "duration": 0,
    "start_time": "2023-09-02T11:58:05.693Z"
   },
   {
    "duration": 0,
    "start_time": "2023-09-02T11:58:05.694Z"
   },
   {
    "duration": 0,
    "start_time": "2023-09-02T11:58:05.695Z"
   },
   {
    "duration": 0,
    "start_time": "2023-09-02T11:58:05.696Z"
   },
   {
    "duration": 0,
    "start_time": "2023-09-02T11:58:05.697Z"
   },
   {
    "duration": 0,
    "start_time": "2023-09-02T11:58:05.699Z"
   },
   {
    "duration": 0,
    "start_time": "2023-09-02T11:58:05.700Z"
   },
   {
    "duration": 0,
    "start_time": "2023-09-02T11:58:05.701Z"
   },
   {
    "duration": 0,
    "start_time": "2023-09-02T11:58:05.702Z"
   },
   {
    "duration": 2420,
    "start_time": "2023-09-02T11:58:21.853Z"
   },
   {
    "duration": 12,
    "start_time": "2023-09-02T11:58:37.070Z"
   },
   {
    "duration": 11,
    "start_time": "2023-09-02T11:58:39.042Z"
   },
   {
    "duration": 11,
    "start_time": "2023-09-02T11:58:40.996Z"
   },
   {
    "duration": 28,
    "start_time": "2023-09-02T11:58:42.968Z"
   },
   {
    "duration": 5,
    "start_time": "2023-09-02T11:58:43.297Z"
   },
   {
    "duration": 16,
    "start_time": "2023-09-02T11:58:44.669Z"
   },
   {
    "duration": 4,
    "start_time": "2023-09-02T11:58:45.353Z"
   },
   {
    "duration": 9,
    "start_time": "2023-09-02T11:59:02.673Z"
   },
   {
    "duration": 102,
    "start_time": "2023-09-02T11:59:11.226Z"
   },
   {
    "duration": 5,
    "start_time": "2023-09-02T11:59:11.874Z"
   },
   {
    "duration": 5,
    "start_time": "2023-09-02T11:59:12.673Z"
   },
   {
    "duration": 5,
    "start_time": "2023-09-02T11:59:12.702Z"
   },
   {
    "duration": 4,
    "start_time": "2023-09-02T11:59:12.735Z"
   },
   {
    "duration": 5320,
    "start_time": "2023-09-02T11:59:12.811Z"
   },
   {
    "duration": 5,
    "start_time": "2023-09-02T11:59:18.134Z"
   },
   {
    "duration": 16,
    "start_time": "2023-09-02T11:59:18.141Z"
   },
   {
    "duration": 1556,
    "start_time": "2023-09-02T11:59:18.160Z"
   },
   {
    "duration": 1574,
    "start_time": "2023-09-02T12:03:26.674Z"
   },
   {
    "duration": 132,
    "start_time": "2023-09-02T12:03:32.133Z"
   },
   {
    "duration": 1533,
    "start_time": "2023-09-02T12:03:34.618Z"
   },
   {
    "duration": 1548,
    "start_time": "2023-09-02T12:03:45.705Z"
   },
   {
    "duration": 1440,
    "start_time": "2023-09-02T12:03:52.314Z"
   },
   {
    "duration": 12,
    "start_time": "2023-09-02T12:15:41.600Z"
   },
   {
    "duration": 3007,
    "start_time": "2023-09-02T12:16:04.885Z"
   },
   {
    "duration": 32,
    "start_time": "2023-09-02T12:16:13.439Z"
   },
   {
    "duration": 950,
    "start_time": "2023-09-02T12:16:20.542Z"
   },
   {
    "duration": 1482,
    "start_time": "2023-09-02T12:17:40.607Z"
   },
   {
    "duration": 1546,
    "start_time": "2023-09-02T12:18:49.580Z"
   },
   {
    "duration": 1389,
    "start_time": "2023-09-02T12:18:55.424Z"
   },
   {
    "duration": 1414,
    "start_time": "2023-09-02T12:19:01.042Z"
   },
   {
    "duration": 1473,
    "start_time": "2023-09-02T12:19:05.577Z"
   },
   {
    "duration": 3257,
    "start_time": "2023-09-02T12:20:28.806Z"
   },
   {
    "duration": 2903,
    "start_time": "2023-09-02T12:21:32.772Z"
   },
   {
    "duration": 2967,
    "start_time": "2023-09-02T12:21:40.205Z"
   },
   {
    "duration": 3183,
    "start_time": "2023-09-02T12:21:48.618Z"
   },
   {
    "duration": 3010,
    "start_time": "2023-09-02T12:21:57.783Z"
   },
   {
    "duration": 2858,
    "start_time": "2023-09-02T12:22:05.483Z"
   },
   {
    "duration": 3211,
    "start_time": "2023-09-02T12:22:12.203Z"
   },
   {
    "duration": 3121,
    "start_time": "2023-09-02T12:25:38.253Z"
   },
   {
    "duration": 3192,
    "start_time": "2023-09-02T12:25:45.491Z"
   },
   {
    "duration": 54,
    "start_time": "2023-09-03T10:39:05.514Z"
   },
   {
    "duration": 12,
    "start_time": "2023-09-03T10:44:05.355Z"
   },
   {
    "duration": 4290,
    "start_time": "2023-09-03T10:44:09.975Z"
   },
   {
    "duration": 1484,
    "start_time": "2023-09-03T10:44:14.267Z"
   },
   {
    "duration": 347,
    "start_time": "2023-09-03T10:44:15.753Z"
   },
   {
    "duration": 14,
    "start_time": "2023-09-03T10:44:16.101Z"
   },
   {
    "duration": 16,
    "start_time": "2023-09-03T10:44:16.117Z"
   },
   {
    "duration": 14,
    "start_time": "2023-09-03T10:44:16.136Z"
   },
   {
    "duration": 21,
    "start_time": "2023-09-03T10:44:16.152Z"
   },
   {
    "duration": 46,
    "start_time": "2023-09-03T10:44:16.175Z"
   },
   {
    "duration": 21,
    "start_time": "2023-09-03T10:44:16.223Z"
   },
   {
    "duration": 19,
    "start_time": "2023-09-03T10:44:16.246Z"
   },
   {
    "duration": 218,
    "start_time": "2023-09-03T10:44:16.267Z"
   },
   {
    "duration": 168,
    "start_time": "2023-09-03T10:44:16.487Z"
   },
   {
    "duration": 132,
    "start_time": "2023-09-03T10:44:16.657Z"
   },
   {
    "duration": 129,
    "start_time": "2023-09-03T10:44:16.793Z"
   },
   {
    "duration": 170,
    "start_time": "2023-09-03T10:44:16.924Z"
   },
   {
    "duration": 131,
    "start_time": "2023-09-03T10:44:17.096Z"
   },
   {
    "duration": 135,
    "start_time": "2023-09-03T10:44:17.229Z"
   },
   {
    "duration": 208,
    "start_time": "2023-09-03T10:44:17.366Z"
   },
   {
    "duration": 122,
    "start_time": "2023-09-03T10:44:17.576Z"
   },
   {
    "duration": 129,
    "start_time": "2023-09-03T10:44:17.700Z"
   },
   {
    "duration": 136,
    "start_time": "2023-09-03T10:44:17.830Z"
   },
   {
    "duration": 135,
    "start_time": "2023-09-03T10:44:17.968Z"
   },
   {
    "duration": 131,
    "start_time": "2023-09-03T10:44:18.110Z"
   },
   {
    "duration": 134,
    "start_time": "2023-09-03T10:44:18.243Z"
   },
   {
    "duration": 14,
    "start_time": "2023-09-03T10:44:18.379Z"
   },
   {
    "duration": 21,
    "start_time": "2023-09-03T10:44:18.395Z"
   },
   {
    "duration": 12,
    "start_time": "2023-09-03T10:44:18.418Z"
   },
   {
    "duration": 3,
    "start_time": "2023-09-03T10:44:18.432Z"
   },
   {
    "duration": 6,
    "start_time": "2023-09-03T10:44:18.437Z"
   },
   {
    "duration": 13,
    "start_time": "2023-09-03T10:44:18.445Z"
   },
   {
    "duration": 7,
    "start_time": "2023-09-03T10:44:18.460Z"
   },
   {
    "duration": 80,
    "start_time": "2023-09-03T10:44:18.469Z"
   },
   {
    "duration": 40,
    "start_time": "2023-09-03T10:44:18.551Z"
   },
   {
    "duration": 5,
    "start_time": "2023-09-03T10:44:18.610Z"
   },
   {
    "duration": 11,
    "start_time": "2023-09-03T10:44:18.617Z"
   },
   {
    "duration": 32,
    "start_time": "2023-09-03T10:44:18.630Z"
   },
   {
    "duration": 10,
    "start_time": "2023-09-03T10:44:18.664Z"
   },
   {
    "duration": 71,
    "start_time": "2023-09-03T10:44:18.676Z"
   },
   {
    "duration": 20,
    "start_time": "2023-09-03T10:44:18.750Z"
   },
   {
    "duration": 2679,
    "start_time": "2023-09-03T10:44:18.772Z"
   },
   {
    "duration": 18,
    "start_time": "2023-09-03T10:44:21.455Z"
   },
   {
    "duration": 13,
    "start_time": "2023-09-03T10:44:21.475Z"
   },
   {
    "duration": 34,
    "start_time": "2023-09-03T10:44:21.491Z"
   },
   {
    "duration": 38,
    "start_time": "2023-09-03T10:44:21.527Z"
   },
   {
    "duration": 6,
    "start_time": "2023-09-03T10:44:21.567Z"
   },
   {
    "duration": 54,
    "start_time": "2023-09-03T10:44:21.575Z"
   },
   {
    "duration": 7,
    "start_time": "2023-09-03T10:44:21.631Z"
   },
   {
    "duration": 157,
    "start_time": "2023-09-03T10:44:21.641Z"
   },
   {
    "duration": 13,
    "start_time": "2023-09-03T10:44:21.800Z"
   },
   {
    "duration": 11,
    "start_time": "2023-09-03T10:44:21.816Z"
   },
   {
    "duration": 7,
    "start_time": "2023-09-03T10:44:21.829Z"
   },
   {
    "duration": 7,
    "start_time": "2023-09-03T10:44:21.838Z"
   },
   {
    "duration": 6335,
    "start_time": "2023-09-03T10:44:21.847Z"
   },
   {
    "duration": 5,
    "start_time": "2023-09-03T10:44:28.183Z"
   },
   {
    "duration": 22,
    "start_time": "2023-09-03T10:44:28.190Z"
   },
   {
    "duration": 1574,
    "start_time": "2023-09-03T10:44:28.214Z"
   },
   {
    "duration": 3589,
    "start_time": "2023-09-03T10:44:29.790Z"
   },
   {
    "duration": 38,
    "start_time": "2023-09-03T10:44:33.383Z"
   },
   {
    "duration": 3697,
    "start_time": "2023-09-03T10:44:39.937Z"
   },
   {
    "duration": 3465,
    "start_time": "2023-09-03T10:44:46.226Z"
   },
   {
    "duration": 25,
    "start_time": "2023-09-03T10:45:43.980Z"
   },
   {
    "duration": 6,
    "start_time": "2023-09-03T10:46:01.272Z"
   },
   {
    "duration": 32,
    "start_time": "2023-09-03T10:46:03.487Z"
   },
   {
    "duration": 5,
    "start_time": "2023-09-03T10:49:59.750Z"
   },
   {
    "duration": 22,
    "start_time": "2023-09-03T10:50:04.150Z"
   },
   {
    "duration": 9,
    "start_time": "2023-09-03T10:50:09.728Z"
   },
   {
    "duration": 29,
    "start_time": "2023-09-03T11:03:52.103Z"
   },
   {
    "duration": 112,
    "start_time": "2023-09-03T11:05:54.221Z"
   },
   {
    "duration": 365,
    "start_time": "2023-09-03T11:06:29.983Z"
   },
   {
    "duration": 15,
    "start_time": "2023-09-03T11:06:33.272Z"
   },
   {
    "duration": 12,
    "start_time": "2023-09-03T11:06:35.332Z"
   },
   {
    "duration": 8,
    "start_time": "2023-09-03T11:06:47.003Z"
   },
   {
    "duration": 23,
    "start_time": "2023-09-03T11:06:47.816Z"
   },
   {
    "duration": 24,
    "start_time": "2023-09-03T11:06:49.550Z"
   },
   {
    "duration": 4,
    "start_time": "2023-09-03T11:06:58.414Z"
   },
   {
    "duration": 4,
    "start_time": "2023-09-03T11:07:11.241Z"
   },
   {
    "duration": 22,
    "start_time": "2023-09-03T11:07:16.776Z"
   },
   {
    "duration": 4,
    "start_time": "2023-09-03T11:07:17.764Z"
   },
   {
    "duration": 2883,
    "start_time": "2023-09-03T11:09:12.076Z"
   },
   {
    "duration": 2381,
    "start_time": "2023-09-03T11:09:16.083Z"
   },
   {
    "duration": 239,
    "start_time": "2023-09-03T11:09:33.090Z"
   },
   {
    "duration": 186,
    "start_time": "2023-09-03T11:10:25.145Z"
   },
   {
    "duration": 22,
    "start_time": "2023-09-03T11:10:28.699Z"
   },
   {
    "duration": 182,
    "start_time": "2023-09-03T11:14:20.348Z"
   },
   {
    "duration": 21,
    "start_time": "2023-09-03T11:14:22.895Z"
   },
   {
    "duration": 173,
    "start_time": "2023-09-03T11:14:32.207Z"
   },
   {
    "duration": 29,
    "start_time": "2023-09-03T11:14:32.460Z"
   },
   {
    "duration": 20,
    "start_time": "2023-09-03T11:14:44.650Z"
   },
   {
    "duration": 6,
    "start_time": "2023-09-03T11:15:52.807Z"
   },
   {
    "duration": 6,
    "start_time": "2023-09-03T11:16:23.176Z"
   },
   {
    "duration": 7,
    "start_time": "2023-09-03T11:16:23.455Z"
   },
   {
    "duration": 10,
    "start_time": "2023-09-03T11:17:34.006Z"
   },
   {
    "duration": 161,
    "start_time": "2023-09-03T11:17:39.689Z"
   },
   {
    "duration": 10,
    "start_time": "2023-09-03T11:17:40.976Z"
   },
   {
    "duration": 27,
    "start_time": "2023-09-03T11:17:54.976Z"
   },
   {
    "duration": 15,
    "start_time": "2023-09-03T11:18:07.623Z"
   },
   {
    "duration": 18,
    "start_time": "2023-09-03T11:19:55.435Z"
   },
   {
    "duration": 13,
    "start_time": "2023-09-03T11:20:40.969Z"
   },
   {
    "duration": 11,
    "start_time": "2023-09-03T11:20:44.104Z"
   },
   {
    "duration": 26,
    "start_time": "2023-09-03T11:21:02.635Z"
   },
   {
    "duration": 6,
    "start_time": "2023-09-03T11:21:09.710Z"
   },
   {
    "duration": 1476,
    "start_time": "2023-09-03T11:24:16.292Z"
   },
   {
    "duration": 13,
    "start_time": "2023-09-03T12:11:25.254Z"
   },
   {
    "duration": 5,
    "start_time": "2023-09-03T12:13:04.200Z"
   },
   {
    "duration": 12,
    "start_time": "2023-09-03T12:13:05.680Z"
   },
   {
    "duration": 67,
    "start_time": "2023-09-03T12:15:33.700Z"
   },
   {
    "duration": 4,
    "start_time": "2023-09-03T12:15:39.405Z"
   },
   {
    "duration": 4,
    "start_time": "2023-09-03T12:15:40.446Z"
   },
   {
    "duration": 108,
    "start_time": "2023-09-03T12:15:42.087Z"
   },
   {
    "duration": 4,
    "start_time": "2023-09-03T12:15:55.311Z"
   },
   {
    "duration": 100,
    "start_time": "2023-09-03T12:15:56.198Z"
   },
   {
    "duration": 4,
    "start_time": "2023-09-03T12:16:46.981Z"
   },
   {
    "duration": 11120,
    "start_time": "2023-09-03T12:16:51.785Z"
   },
   {
    "duration": 3,
    "start_time": "2023-09-03T12:17:31.666Z"
   },
   {
    "duration": 20156,
    "start_time": "2023-09-03T12:17:34.265Z"
   },
   {
    "duration": 11,
    "start_time": "2023-09-03T12:28:21.595Z"
   },
   {
    "duration": 4,
    "start_time": "2023-09-03T12:28:51.285Z"
   },
   {
    "duration": 4,
    "start_time": "2023-09-03T12:28:55.733Z"
   },
   {
    "duration": 4,
    "start_time": "2023-09-03T12:29:00.837Z"
   },
   {
    "duration": 133107,
    "start_time": "2023-09-03T12:29:02.331Z"
   },
   {
    "duration": 4,
    "start_time": "2023-09-03T12:32:49.755Z"
   },
   {
    "duration": 4714,
    "start_time": "2023-09-03T12:32:50.349Z"
   },
   {
    "duration": 3,
    "start_time": "2023-09-03T12:33:31.793Z"
   },
   {
    "duration": 4,
    "start_time": "2023-09-03T12:33:39.451Z"
   },
   {
    "duration": 147748,
    "start_time": "2023-09-03T12:33:40.098Z"
   },
   {
    "duration": 4,
    "start_time": "2023-09-03T12:37:11.480Z"
   },
   {
    "duration": 285403,
    "start_time": "2023-09-03T12:37:13.080Z"
   },
   {
    "duration": 5,
    "start_time": "2023-09-03T12:56:35.436Z"
   },
   {
    "duration": 3,
    "start_time": "2023-09-03T12:56:37.357Z"
   },
   {
    "duration": 20708,
    "start_time": "2023-09-03T12:56:37.536Z"
   },
   {
    "duration": 5,
    "start_time": "2023-09-03T12:57:16.295Z"
   },
   {
    "duration": 4,
    "start_time": "2023-09-03T12:57:17.483Z"
   },
   {
    "duration": 20606,
    "start_time": "2023-09-03T12:57:23.774Z"
   },
   {
    "duration": 5,
    "start_time": "2023-09-03T12:58:12.008Z"
   },
   {
    "duration": 290395,
    "start_time": "2023-09-03T12:58:12.492Z"
   },
   {
    "duration": 85,
    "start_time": "2023-09-03T13:24:25.451Z"
   },
   {
    "duration": 94,
    "start_time": "2023-09-03T13:24:39.707Z"
   },
   {
    "duration": 113,
    "start_time": "2023-09-03T13:24:55.784Z"
   },
   {
    "duration": 20198,
    "start_time": "2023-09-03T13:25:06.925Z"
   },
   {
    "duration": 296663,
    "start_time": "2023-09-03T13:26:23.939Z"
   },
   {
    "duration": 39,
    "start_time": "2023-09-03T13:32:20.673Z"
   },
   {
    "duration": 13,
    "start_time": "2023-09-03T13:32:21.301Z"
   },
   {
    "duration": 18,
    "start_time": "2023-09-03T13:33:34.656Z"
   },
   {
    "duration": 5,
    "start_time": "2023-09-03T13:34:04.271Z"
   },
   {
    "duration": 12,
    "start_time": "2023-09-03T13:34:07.139Z"
   },
   {
    "duration": 4,
    "start_time": "2023-09-03T13:34:15.652Z"
   },
   {
    "duration": 12,
    "start_time": "2023-09-03T13:34:17.878Z"
   },
   {
    "duration": 15,
    "start_time": "2023-09-03T13:34:55.742Z"
   },
   {
    "duration": 5,
    "start_time": "2023-09-03T13:35:07.467Z"
   },
   {
    "duration": 12,
    "start_time": "2023-09-03T13:35:35.444Z"
   },
   {
    "duration": 13,
    "start_time": "2023-09-03T13:37:58.849Z"
   },
   {
    "duration": 4,
    "start_time": "2023-09-03T13:38:02.858Z"
   },
   {
    "duration": 1479,
    "start_time": "2023-09-03T13:38:16.386Z"
   },
   {
    "duration": 1725,
    "start_time": "2023-09-03T13:38:41.243Z"
   },
   {
    "duration": 1597,
    "start_time": "2023-09-03T13:38:54.884Z"
   },
   {
    "duration": 6,
    "start_time": "2023-09-03T13:39:29.368Z"
   },
   {
    "duration": 10,
    "start_time": "2023-09-03T13:41:11.345Z"
   },
   {
    "duration": 5,
    "start_time": "2023-09-03T13:41:16.020Z"
   },
   {
    "duration": 7,
    "start_time": "2023-09-03T13:41:22.464Z"
   },
   {
    "duration": 10,
    "start_time": "2023-09-03T13:44:06.601Z"
   },
   {
    "duration": 5,
    "start_time": "2023-09-03T13:44:10.797Z"
   },
   {
    "duration": 18,
    "start_time": "2023-09-03T13:44:15.292Z"
   },
   {
    "duration": 5,
    "start_time": "2023-09-03T13:44:42.084Z"
   },
   {
    "duration": 3,
    "start_time": "2023-09-03T13:45:12.951Z"
   },
   {
    "duration": 7,
    "start_time": "2023-09-03T13:45:20.422Z"
   },
   {
    "duration": 14,
    "start_time": "2023-09-03T13:45:24.252Z"
   },
   {
    "duration": 5,
    "start_time": "2023-09-03T13:45:34.071Z"
   },
   {
    "duration": 4,
    "start_time": "2023-09-03T13:46:54.541Z"
   },
   {
    "duration": 12,
    "start_time": "2023-09-03T13:46:56.408Z"
   },
   {
    "duration": 6,
    "start_time": "2023-09-03T13:47:25.876Z"
   },
   {
    "duration": 433,
    "start_time": "2023-09-03T13:47:50.479Z"
   },
   {
    "duration": 5,
    "start_time": "2023-09-03T13:48:45.081Z"
   },
   {
    "duration": 6,
    "start_time": "2023-09-03T13:49:24.078Z"
   },
   {
    "duration": 4,
    "start_time": "2023-09-03T13:50:58.270Z"
   },
   {
    "duration": 16,
    "start_time": "2023-09-03T13:51:36.959Z"
   },
   {
    "duration": 4,
    "start_time": "2023-09-03T13:51:53.969Z"
   },
   {
    "duration": 4,
    "start_time": "2023-09-03T13:52:00.473Z"
   },
   {
    "duration": 17,
    "start_time": "2023-09-03T13:52:01.976Z"
   },
   {
    "duration": 4,
    "start_time": "2023-09-03T13:52:16.976Z"
   },
   {
    "duration": 364,
    "start_time": "2023-09-03T13:52:25.489Z"
   },
   {
    "duration": 3954,
    "start_time": "2023-09-03T14:02:58.468Z"
   },
   {
    "duration": 2991,
    "start_time": "2023-09-03T14:03:31.433Z"
   },
   {
    "duration": 2518,
    "start_time": "2023-09-03T14:03:57.324Z"
   },
   {
    "duration": 2609,
    "start_time": "2023-09-03T14:03:59.845Z"
   },
   {
    "duration": 1704,
    "start_time": "2023-09-03T14:04:02.457Z"
   },
   {
    "duration": 121,
    "start_time": "2023-09-03T14:04:04.162Z"
   },
   {
    "duration": 13,
    "start_time": "2023-09-03T14:04:04.286Z"
   },
   {
    "duration": 24,
    "start_time": "2023-09-03T14:04:04.301Z"
   },
   {
    "duration": 15,
    "start_time": "2023-09-03T14:04:04.327Z"
   },
   {
    "duration": 37,
    "start_time": "2023-09-03T14:04:04.344Z"
   },
   {
    "duration": 15,
    "start_time": "2023-09-03T14:04:04.383Z"
   },
   {
    "duration": 19,
    "start_time": "2023-09-03T14:04:04.409Z"
   },
   {
    "duration": 11,
    "start_time": "2023-09-03T14:04:04.432Z"
   },
   {
    "duration": 170,
    "start_time": "2023-09-03T14:04:04.445Z"
   },
   {
    "duration": 237,
    "start_time": "2023-09-03T14:04:04.617Z"
   },
   {
    "duration": 139,
    "start_time": "2023-09-03T14:04:04.857Z"
   },
   {
    "duration": 136,
    "start_time": "2023-09-03T14:04:04.998Z"
   },
   {
    "duration": 142,
    "start_time": "2023-09-03T14:04:05.136Z"
   },
   {
    "duration": 153,
    "start_time": "2023-09-03T14:04:05.280Z"
   },
   {
    "duration": 142,
    "start_time": "2023-09-03T14:04:05.435Z"
   },
   {
    "duration": 139,
    "start_time": "2023-09-03T14:04:05.579Z"
   },
   {
    "duration": 136,
    "start_time": "2023-09-03T14:04:05.721Z"
   },
   {
    "duration": 133,
    "start_time": "2023-09-03T14:04:05.859Z"
   },
   {
    "duration": 163,
    "start_time": "2023-09-03T14:04:05.994Z"
   },
   {
    "duration": 124,
    "start_time": "2023-09-03T14:04:06.159Z"
   },
   {
    "duration": 132,
    "start_time": "2023-09-03T14:04:06.284Z"
   },
   {
    "duration": 142,
    "start_time": "2023-09-03T14:04:06.418Z"
   },
   {
    "duration": 11,
    "start_time": "2023-09-03T14:04:06.562Z"
   },
   {
    "duration": 6,
    "start_time": "2023-09-03T14:04:06.575Z"
   },
   {
    "duration": 32,
    "start_time": "2023-09-03T14:04:06.583Z"
   },
   {
    "duration": 3,
    "start_time": "2023-09-03T14:04:06.616Z"
   },
   {
    "duration": 9,
    "start_time": "2023-09-03T14:04:06.620Z"
   },
   {
    "duration": 9,
    "start_time": "2023-09-03T14:04:06.631Z"
   },
   {
    "duration": 9,
    "start_time": "2023-09-03T14:04:06.642Z"
   },
   {
    "duration": 28,
    "start_time": "2023-09-03T14:04:06.653Z"
   },
   {
    "duration": 52,
    "start_time": "2023-09-03T14:04:06.683Z"
   },
   {
    "duration": 52,
    "start_time": "2023-09-03T14:04:06.737Z"
   },
   {
    "duration": 10,
    "start_time": "2023-09-03T14:04:06.791Z"
   },
   {
    "duration": 34,
    "start_time": "2023-09-03T14:04:06.803Z"
   },
   {
    "duration": 12,
    "start_time": "2023-09-03T14:04:06.840Z"
   },
   {
    "duration": 58,
    "start_time": "2023-09-03T14:04:06.854Z"
   },
   {
    "duration": 24,
    "start_time": "2023-09-03T14:04:06.915Z"
   },
   {
    "duration": 2902,
    "start_time": "2023-09-03T14:04:06.944Z"
   },
   {
    "duration": 13,
    "start_time": "2023-09-03T14:04:09.848Z"
   },
   {
    "duration": 15,
    "start_time": "2023-09-03T14:04:09.863Z"
   },
   {
    "duration": 43,
    "start_time": "2023-09-03T14:04:09.880Z"
   },
   {
    "duration": 29,
    "start_time": "2023-09-03T14:04:09.925Z"
   },
   {
    "duration": 5,
    "start_time": "2023-09-03T14:04:09.956Z"
   },
   {
    "duration": 33,
    "start_time": "2023-09-03T14:04:09.963Z"
   },
   {
    "duration": 14,
    "start_time": "2023-09-03T14:04:09.998Z"
   },
   {
    "duration": 133,
    "start_time": "2023-09-03T14:04:10.014Z"
   },
   {
    "duration": 6,
    "start_time": "2023-09-03T14:04:10.149Z"
   },
   {
    "duration": 22,
    "start_time": "2023-09-03T14:04:10.157Z"
   },
   {
    "duration": 11,
    "start_time": "2023-09-03T14:04:10.181Z"
   },
   {
    "duration": 18,
    "start_time": "2023-09-03T14:04:10.193Z"
   },
   {
    "duration": 6088,
    "start_time": "2023-09-03T14:04:10.212Z"
   },
   {
    "duration": 7,
    "start_time": "2023-09-03T14:04:16.303Z"
   },
   {
    "duration": 11,
    "start_time": "2023-09-03T14:04:16.312Z"
   },
   {
    "duration": 1235,
    "start_time": "2023-09-03T14:04:16.325Z"
   },
   {
    "duration": 1589,
    "start_time": "2023-09-03T14:04:17.562Z"
   },
   {
    "duration": 3253,
    "start_time": "2023-09-03T14:04:19.153Z"
   },
   {
    "duration": 7,
    "start_time": "2023-09-03T14:04:22.409Z"
   },
   {
    "duration": 27,
    "start_time": "2023-09-03T14:04:22.418Z"
   },
   {
    "duration": 233,
    "start_time": "2023-09-03T14:04:22.448Z"
   },
   {
    "duration": 25,
    "start_time": "2023-09-03T14:04:22.684Z"
   },
   {
    "duration": 20,
    "start_time": "2023-09-03T14:04:22.712Z"
   },
   {
    "duration": 141,
    "start_time": "2023-09-03T14:04:22.734Z"
   },
   {
    "duration": 4,
    "start_time": "2023-09-03T14:04:22.876Z"
   },
   {
    "duration": 26,
    "start_time": "2023-09-03T14:04:22.882Z"
   },
   {
    "duration": 19583,
    "start_time": "2023-09-03T14:04:22.911Z"
   },
   {
    "duration": 3315,
    "start_time": "2023-09-03T14:04:42.497Z"
   },
   {
    "duration": 230868,
    "start_time": "2023-09-03T14:04:45.815Z"
   },
   {
    "duration": 4,
    "start_time": "2023-09-03T14:08:36.684Z"
   },
   {
    "duration": 1407,
    "start_time": "2023-09-03T14:08:36.690Z"
   },
   {
    "duration": 4,
    "start_time": "2023-09-03T14:08:38.100Z"
   },
   {
    "duration": 6,
    "start_time": "2023-09-03T14:08:38.106Z"
   },
   {
    "duration": 2462,
    "start_time": "2023-09-03T14:30:32.172Z"
   },
   {
    "duration": 3691,
    "start_time": "2023-09-04T17:36:45.171Z"
   },
   {
    "duration": 4213,
    "start_time": "2023-09-04T17:36:48.869Z"
   },
   {
    "duration": 1956,
    "start_time": "2023-09-04T17:36:53.089Z"
   },
   {
    "duration": 486,
    "start_time": "2023-09-04T17:36:55.047Z"
   },
   {
    "duration": 12,
    "start_time": "2023-09-04T17:36:55.535Z"
   },
   {
    "duration": 36,
    "start_time": "2023-09-04T17:36:55.549Z"
   },
   {
    "duration": 14,
    "start_time": "2023-09-04T17:36:55.588Z"
   },
   {
    "duration": 19,
    "start_time": "2023-09-04T17:36:55.604Z"
   },
   {
    "duration": 11,
    "start_time": "2023-09-04T17:36:55.625Z"
   },
   {
    "duration": 41,
    "start_time": "2023-09-04T17:36:55.638Z"
   },
   {
    "duration": 33,
    "start_time": "2023-09-04T17:36:55.681Z"
   },
   {
    "duration": 131,
    "start_time": "2023-09-04T17:36:55.715Z"
   },
   {
    "duration": 256,
    "start_time": "2023-09-04T17:36:55.850Z"
   },
   {
    "duration": 159,
    "start_time": "2023-09-04T17:36:56.111Z"
   },
   {
    "duration": 140,
    "start_time": "2023-09-04T17:36:56.277Z"
   },
   {
    "duration": 174,
    "start_time": "2023-09-04T17:36:56.419Z"
   },
   {
    "duration": 116,
    "start_time": "2023-09-04T17:36:56.595Z"
   },
   {
    "duration": 116,
    "start_time": "2023-09-04T17:36:56.712Z"
   },
   {
    "duration": 112,
    "start_time": "2023-09-04T17:36:56.830Z"
   },
   {
    "duration": 133,
    "start_time": "2023-09-04T17:36:56.952Z"
   },
   {
    "duration": 108,
    "start_time": "2023-09-04T17:36:57.090Z"
   },
   {
    "duration": 119,
    "start_time": "2023-09-04T17:36:57.199Z"
   },
   {
    "duration": 115,
    "start_time": "2023-09-04T17:36:57.320Z"
   },
   {
    "duration": 117,
    "start_time": "2023-09-04T17:36:57.436Z"
   },
   {
    "duration": 133,
    "start_time": "2023-09-04T17:36:57.559Z"
   },
   {
    "duration": 9,
    "start_time": "2023-09-04T17:36:57.694Z"
   },
   {
    "duration": 7,
    "start_time": "2023-09-04T17:36:57.704Z"
   },
   {
    "duration": 18,
    "start_time": "2023-09-04T17:36:57.713Z"
   },
   {
    "duration": 3,
    "start_time": "2023-09-04T17:36:57.732Z"
   },
   {
    "duration": 19,
    "start_time": "2023-09-04T17:36:57.737Z"
   },
   {
    "duration": 27,
    "start_time": "2023-09-04T17:36:57.758Z"
   },
   {
    "duration": 14,
    "start_time": "2023-09-04T17:36:57.787Z"
   },
   {
    "duration": 24,
    "start_time": "2023-09-04T17:36:57.802Z"
   },
   {
    "duration": 32,
    "start_time": "2023-09-04T17:36:57.828Z"
   },
   {
    "duration": 14,
    "start_time": "2023-09-04T17:36:57.862Z"
   },
   {
    "duration": 6,
    "start_time": "2023-09-04T17:36:57.888Z"
   },
   {
    "duration": 31,
    "start_time": "2023-09-04T17:36:57.895Z"
   },
   {
    "duration": 8,
    "start_time": "2023-09-04T17:36:57.927Z"
   },
   {
    "duration": 38,
    "start_time": "2023-09-04T17:36:57.937Z"
   },
   {
    "duration": 26,
    "start_time": "2023-09-04T17:36:57.977Z"
   },
   {
    "duration": 2639,
    "start_time": "2023-09-04T17:36:58.008Z"
   },
   {
    "duration": 33,
    "start_time": "2023-09-04T17:37:00.648Z"
   },
   {
    "duration": 33,
    "start_time": "2023-09-04T17:37:00.689Z"
   },
   {
    "duration": 82,
    "start_time": "2023-09-04T17:37:00.724Z"
   },
   {
    "duration": 82,
    "start_time": "2023-09-04T17:37:00.807Z"
   },
   {
    "duration": 12,
    "start_time": "2023-09-04T17:37:00.890Z"
   },
   {
    "duration": 74,
    "start_time": "2023-09-04T17:37:00.904Z"
   },
   {
    "duration": 47,
    "start_time": "2023-09-04T17:37:00.980Z"
   },
   {
    "duration": 166,
    "start_time": "2023-09-04T17:37:01.029Z"
   },
   {
    "duration": 7,
    "start_time": "2023-09-04T17:37:01.197Z"
   },
   {
    "duration": 84,
    "start_time": "2023-09-04T17:37:01.206Z"
   },
   {
    "duration": 49,
    "start_time": "2023-09-04T17:37:01.292Z"
   },
   {
    "duration": 154,
    "start_time": "2023-09-04T17:37:01.343Z"
   },
   {
    "duration": 7064,
    "start_time": "2023-09-04T17:37:01.499Z"
   },
   {
    "duration": 6,
    "start_time": "2023-09-04T17:37:08.565Z"
   },
   {
    "duration": 114,
    "start_time": "2023-09-04T17:37:08.574Z"
   },
   {
    "duration": 1212,
    "start_time": "2023-09-04T17:37:08.689Z"
   },
   {
    "duration": 1519,
    "start_time": "2023-09-04T17:37:09.902Z"
   },
   {
    "duration": 3068,
    "start_time": "2023-09-04T17:37:11.423Z"
   },
   {
    "duration": 6,
    "start_time": "2023-09-04T17:37:14.493Z"
   },
   {
    "duration": 113,
    "start_time": "2023-09-04T17:37:14.501Z"
   },
   {
    "duration": 177,
    "start_time": "2023-09-04T17:37:14.616Z"
   },
   {
    "duration": 0,
    "start_time": "2023-09-04T17:37:14.794Z"
   },
   {
    "duration": 0,
    "start_time": "2023-09-04T17:37:14.796Z"
   },
   {
    "duration": 0,
    "start_time": "2023-09-04T17:37:14.797Z"
   },
   {
    "duration": 0,
    "start_time": "2023-09-04T17:37:14.798Z"
   },
   {
    "duration": 0,
    "start_time": "2023-09-04T17:37:14.799Z"
   },
   {
    "duration": 0,
    "start_time": "2023-09-04T17:37:14.800Z"
   },
   {
    "duration": 0,
    "start_time": "2023-09-04T17:37:14.801Z"
   },
   {
    "duration": 0,
    "start_time": "2023-09-04T17:37:14.802Z"
   },
   {
    "duration": 0,
    "start_time": "2023-09-04T17:37:14.804Z"
   },
   {
    "duration": 0,
    "start_time": "2023-09-04T17:37:14.805Z"
   },
   {
    "duration": 0,
    "start_time": "2023-09-04T17:37:14.806Z"
   },
   {
    "duration": 0,
    "start_time": "2023-09-04T17:37:14.808Z"
   },
   {
    "duration": 25,
    "start_time": "2023-09-04T17:41:02.281Z"
   },
   {
    "duration": 8,
    "start_time": "2023-09-04T17:41:21.084Z"
   },
   {
    "duration": 6,
    "start_time": "2023-09-04T17:42:53.527Z"
   },
   {
    "duration": 4,
    "start_time": "2023-09-04T17:43:18.209Z"
   },
   {
    "duration": 4,
    "start_time": "2023-09-04T17:46:28.274Z"
   },
   {
    "duration": 10,
    "start_time": "2023-09-04T17:46:31.476Z"
   },
   {
    "duration": 12,
    "start_time": "2023-09-04T17:47:03.519Z"
   },
   {
    "duration": 8,
    "start_time": "2023-09-04T17:47:24.568Z"
   },
   {
    "duration": 10,
    "start_time": "2023-09-04T17:47:27.807Z"
   },
   {
    "duration": 9,
    "start_time": "2023-09-04T17:48:14.300Z"
   },
   {
    "duration": 27,
    "start_time": "2023-09-04T17:48:15.810Z"
   },
   {
    "duration": 25,
    "start_time": "2023-09-04T17:51:14.401Z"
   },
   {
    "duration": 8,
    "start_time": "2023-09-04T17:54:08.098Z"
   },
   {
    "duration": 4,
    "start_time": "2023-09-04T17:54:25.330Z"
   },
   {
    "duration": 3,
    "start_time": "2023-09-04T17:54:34.279Z"
   },
   {
    "duration": 41171,
    "start_time": "2023-09-04T17:57:58.212Z"
   },
   {
    "duration": 6203,
    "start_time": "2023-09-04T17:58:49.496Z"
   },
   {
    "duration": 5,
    "start_time": "2023-09-04T17:58:59.381Z"
   },
   {
    "duration": 109,
    "start_time": "2023-09-04T17:59:00.227Z"
   },
   {
    "duration": 12,
    "start_time": "2023-09-04T17:59:00.664Z"
   },
   {
    "duration": 13,
    "start_time": "2023-09-04T17:59:00.861Z"
   },
   {
    "duration": 9,
    "start_time": "2023-09-04T17:59:01.063Z"
   },
   {
    "duration": 18,
    "start_time": "2023-09-04T17:59:01.263Z"
   },
   {
    "duration": 12,
    "start_time": "2023-09-04T17:59:01.460Z"
   },
   {
    "duration": 12,
    "start_time": "2023-09-04T17:59:01.662Z"
   },
   {
    "duration": 10,
    "start_time": "2023-09-04T17:59:01.871Z"
   },
   {
    "duration": 227,
    "start_time": "2023-09-04T17:59:02.086Z"
   },
   {
    "duration": 248,
    "start_time": "2023-09-04T17:59:02.315Z"
   },
   {
    "duration": 200,
    "start_time": "2023-09-04T17:59:02.565Z"
   },
   {
    "duration": 183,
    "start_time": "2023-09-04T17:59:02.819Z"
   },
   {
    "duration": 187,
    "start_time": "2023-09-04T17:59:03.044Z"
   },
   {
    "duration": 178,
    "start_time": "2023-09-04T17:59:03.258Z"
   },
   {
    "duration": 341,
    "start_time": "2023-09-04T17:59:03.438Z"
   },
   {
    "duration": 204,
    "start_time": "2023-09-04T17:59:03.947Z"
   },
   {
    "duration": 201,
    "start_time": "2023-09-04T17:59:04.153Z"
   },
   {
    "duration": 203,
    "start_time": "2023-09-04T17:59:04.356Z"
   },
   {
    "duration": 211,
    "start_time": "2023-09-04T17:59:04.562Z"
   },
   {
    "duration": 185,
    "start_time": "2023-09-04T17:59:04.775Z"
   },
   {
    "duration": 192,
    "start_time": "2023-09-04T17:59:04.961Z"
   },
   {
    "duration": 207,
    "start_time": "2023-09-04T17:59:05.155Z"
   },
   {
    "duration": 9,
    "start_time": "2023-09-04T17:59:05.363Z"
   },
   {
    "duration": 45,
    "start_time": "2023-09-04T17:59:05.373Z"
   },
   {
    "duration": 28,
    "start_time": "2023-09-04T17:59:05.421Z"
   },
   {
    "duration": 2,
    "start_time": "2023-09-04T17:59:05.531Z"
   },
   {
    "duration": 2,
    "start_time": "2023-09-04T17:59:05.565Z"
   },
   {
    "duration": 3,
    "start_time": "2023-09-04T17:59:05.732Z"
   },
   {
    "duration": 4,
    "start_time": "2023-09-04T17:59:05.769Z"
   },
   {
    "duration": 24,
    "start_time": "2023-09-04T17:59:05.796Z"
   },
   {
    "duration": 22,
    "start_time": "2023-09-04T17:59:05.863Z"
   },
   {
    "duration": 4,
    "start_time": "2023-09-04T17:59:05.889Z"
   },
   {
    "duration": 6,
    "start_time": "2023-09-04T17:59:05.969Z"
   },
   {
    "duration": 28,
    "start_time": "2023-09-04T17:59:06.003Z"
   },
   {
    "duration": 8,
    "start_time": "2023-09-04T17:59:06.035Z"
   },
   {
    "duration": 47,
    "start_time": "2023-09-04T17:59:06.065Z"
   },
   {
    "duration": 25,
    "start_time": "2023-09-04T17:59:06.114Z"
   },
   {
    "duration": 2507,
    "start_time": "2023-09-04T17:59:06.141Z"
   },
   {
    "duration": 13,
    "start_time": "2023-09-04T17:59:08.650Z"
   },
   {
    "duration": 11,
    "start_time": "2023-09-04T17:59:08.664Z"
   },
   {
    "duration": 12,
    "start_time": "2023-09-04T17:59:08.677Z"
   },
   {
    "duration": 26,
    "start_time": "2023-09-04T17:59:08.691Z"
   },
   {
    "duration": 33,
    "start_time": "2023-09-04T17:59:08.719Z"
   },
   {
    "duration": 24,
    "start_time": "2023-09-04T17:59:08.754Z"
   },
   {
    "duration": 5,
    "start_time": "2023-09-04T17:59:08.780Z"
   },
   {
    "duration": 203,
    "start_time": "2023-09-04T17:59:08.787Z"
   },
   {
    "duration": 6,
    "start_time": "2023-09-04T17:59:08.992Z"
   },
   {
    "duration": 16,
    "start_time": "2023-09-04T17:59:08.999Z"
   },
   {
    "duration": 9,
    "start_time": "2023-09-04T17:59:09.017Z"
   },
   {
    "duration": 12,
    "start_time": "2023-09-04T17:59:09.027Z"
   },
   {
    "duration": 6236,
    "start_time": "2023-09-04T17:59:09.041Z"
   },
   {
    "duration": 6,
    "start_time": "2023-09-04T17:59:15.278Z"
   },
   {
    "duration": 4,
    "start_time": "2023-09-04T17:59:15.286Z"
   },
   {
    "duration": 1276,
    "start_time": "2023-09-04T17:59:15.292Z"
   },
   {
    "duration": 1787,
    "start_time": "2023-09-04T17:59:16.570Z"
   },
   {
    "duration": 2897,
    "start_time": "2023-09-04T17:59:18.359Z"
   },
   {
    "duration": 4,
    "start_time": "2023-09-04T17:59:21.258Z"
   },
   {
    "duration": 19,
    "start_time": "2023-09-04T17:59:21.265Z"
   },
   {
    "duration": 19,
    "start_time": "2023-09-04T17:59:21.286Z"
   },
   {
    "duration": 0,
    "start_time": "2023-09-04T17:59:21.307Z"
   },
   {
    "duration": 0,
    "start_time": "2023-09-04T17:59:21.308Z"
   },
   {
    "duration": 0,
    "start_time": "2023-09-04T17:59:21.309Z"
   },
   {
    "duration": 0,
    "start_time": "2023-09-04T17:59:21.311Z"
   },
   {
    "duration": 3,
    "start_time": "2023-09-04T17:59:34.894Z"
   },
   {
    "duration": 18,
    "start_time": "2023-09-04T17:59:36.716Z"
   },
   {
    "duration": 4,
    "start_time": "2023-09-04T17:59:37.867Z"
   },
   {
    "duration": 7,
    "start_time": "2023-09-04T17:59:39.192Z"
   },
   {
    "duration": 28,
    "start_time": "2023-09-04T17:59:41.370Z"
   },
   {
    "duration": 2201,
    "start_time": "2023-09-04T18:00:19.093Z"
   },
   {
    "duration": 2582,
    "start_time": "2023-09-04T18:00:21.297Z"
   },
   {
    "duration": 2644,
    "start_time": "2023-09-04T18:00:23.880Z"
   },
   {
    "duration": 1290,
    "start_time": "2023-09-04T18:00:26.526Z"
   },
   {
    "duration": 112,
    "start_time": "2023-09-04T18:00:27.817Z"
   },
   {
    "duration": 12,
    "start_time": "2023-09-04T18:00:27.931Z"
   },
   {
    "duration": 18,
    "start_time": "2023-09-04T18:00:27.945Z"
   },
   {
    "duration": 12,
    "start_time": "2023-09-04T18:00:27.964Z"
   },
   {
    "duration": 19,
    "start_time": "2023-09-04T18:00:27.977Z"
   },
   {
    "duration": 10,
    "start_time": "2023-09-04T18:00:27.999Z"
   },
   {
    "duration": 19,
    "start_time": "2023-09-04T18:00:28.011Z"
   },
   {
    "duration": 24,
    "start_time": "2023-09-04T18:00:28.031Z"
   },
   {
    "duration": 128,
    "start_time": "2023-09-04T18:00:28.056Z"
   },
   {
    "duration": 123,
    "start_time": "2023-09-04T18:00:28.185Z"
   },
   {
    "duration": 124,
    "start_time": "2023-09-04T18:00:28.309Z"
   },
   {
    "duration": 195,
    "start_time": "2023-09-04T18:00:28.435Z"
   },
   {
    "duration": 119,
    "start_time": "2023-09-04T18:00:28.632Z"
   },
   {
    "duration": 105,
    "start_time": "2023-09-04T18:00:28.753Z"
   },
   {
    "duration": 117,
    "start_time": "2023-09-04T18:00:28.860Z"
   },
   {
    "duration": 115,
    "start_time": "2023-09-04T18:00:28.978Z"
   },
   {
    "duration": 135,
    "start_time": "2023-09-04T18:00:29.094Z"
   },
   {
    "duration": 107,
    "start_time": "2023-09-04T18:00:29.232Z"
   },
   {
    "duration": 114,
    "start_time": "2023-09-04T18:00:29.350Z"
   },
   {
    "duration": 102,
    "start_time": "2023-09-04T18:00:29.466Z"
   },
   {
    "duration": 105,
    "start_time": "2023-09-04T18:00:29.570Z"
   },
   {
    "duration": 113,
    "start_time": "2023-09-04T18:00:29.677Z"
   },
   {
    "duration": 8,
    "start_time": "2023-09-04T18:00:29.791Z"
   },
   {
    "duration": 20,
    "start_time": "2023-09-04T18:00:29.803Z"
   },
   {
    "duration": 51,
    "start_time": "2023-09-04T18:00:29.825Z"
   },
   {
    "duration": 7,
    "start_time": "2023-09-04T18:00:29.878Z"
   },
   {
    "duration": 22,
    "start_time": "2023-09-04T18:00:29.886Z"
   },
   {
    "duration": 8,
    "start_time": "2023-09-04T18:00:29.910Z"
   },
   {
    "duration": 25,
    "start_time": "2023-09-04T18:00:29.920Z"
   },
   {
    "duration": 30,
    "start_time": "2023-09-04T18:00:29.946Z"
   },
   {
    "duration": 23,
    "start_time": "2023-09-04T18:00:29.977Z"
   },
   {
    "duration": 4,
    "start_time": "2023-09-04T18:00:30.001Z"
   },
   {
    "duration": 52,
    "start_time": "2023-09-04T18:00:30.007Z"
   },
   {
    "duration": 66,
    "start_time": "2023-09-04T18:00:30.061Z"
   },
   {
    "duration": 31,
    "start_time": "2023-09-04T18:00:30.129Z"
   },
   {
    "duration": 63,
    "start_time": "2023-09-04T18:00:30.162Z"
   },
   {
    "duration": 16,
    "start_time": "2023-09-04T18:00:30.226Z"
   },
   {
    "duration": 2352,
    "start_time": "2023-09-04T18:00:30.243Z"
   },
   {
    "duration": 12,
    "start_time": "2023-09-04T18:00:32.596Z"
   },
   {
    "duration": 14,
    "start_time": "2023-09-04T18:00:32.609Z"
   },
   {
    "duration": 24,
    "start_time": "2023-09-04T18:00:32.625Z"
   },
   {
    "duration": 25,
    "start_time": "2023-09-04T18:00:32.651Z"
   },
   {
    "duration": 4,
    "start_time": "2023-09-04T18:00:32.678Z"
   },
   {
    "duration": 18,
    "start_time": "2023-09-04T18:00:32.683Z"
   },
   {
    "duration": 5,
    "start_time": "2023-09-04T18:00:32.703Z"
   },
   {
    "duration": 120,
    "start_time": "2023-09-04T18:00:32.710Z"
   },
   {
    "duration": 18,
    "start_time": "2023-09-04T18:00:32.832Z"
   },
   {
    "duration": 5,
    "start_time": "2023-09-04T18:00:32.852Z"
   },
   {
    "duration": 8,
    "start_time": "2023-09-04T18:00:32.859Z"
   },
   {
    "duration": 5,
    "start_time": "2023-09-04T18:00:32.869Z"
   },
   {
    "duration": 5494,
    "start_time": "2023-09-04T18:00:32.875Z"
   },
   {
    "duration": 4,
    "start_time": "2023-09-04T18:00:38.371Z"
   },
   {
    "duration": 13,
    "start_time": "2023-09-04T18:00:38.376Z"
   },
   {
    "duration": 1201,
    "start_time": "2023-09-04T18:00:38.391Z"
   },
   {
    "duration": 1425,
    "start_time": "2023-09-04T18:00:39.594Z"
   },
   {
    "duration": 2811,
    "start_time": "2023-09-04T18:00:41.021Z"
   },
   {
    "duration": 4,
    "start_time": "2023-09-04T18:00:43.834Z"
   },
   {
    "duration": 8,
    "start_time": "2023-09-04T18:00:43.841Z"
   },
   {
    "duration": 12,
    "start_time": "2023-09-04T18:00:43.851Z"
   },
   {
    "duration": 36,
    "start_time": "2023-09-04T18:00:43.865Z"
   },
   {
    "duration": 11,
    "start_time": "2023-09-04T18:00:43.902Z"
   },
   {
    "duration": 19,
    "start_time": "2023-09-04T18:00:43.914Z"
   },
   {
    "duration": 54,
    "start_time": "2023-09-04T18:00:43.935Z"
   },
   {
    "duration": 3,
    "start_time": "2023-09-04T18:00:43.991Z"
   },
   {
    "duration": 21,
    "start_time": "2023-09-04T18:00:43.996Z"
   },
   {
    "duration": 119,
    "start_time": "2023-09-04T18:00:44.019Z"
   },
   {
    "duration": 0,
    "start_time": "2023-09-04T18:00:44.140Z"
   },
   {
    "duration": 0,
    "start_time": "2023-09-04T18:00:44.149Z"
   },
   {
    "duration": 0,
    "start_time": "2023-09-04T18:00:44.150Z"
   },
   {
    "duration": 0,
    "start_time": "2023-09-04T18:00:44.152Z"
   },
   {
    "duration": 0,
    "start_time": "2023-09-04T18:00:44.153Z"
   },
   {
    "duration": 0,
    "start_time": "2023-09-04T18:00:44.155Z"
   },
   {
    "duration": 0,
    "start_time": "2023-09-04T18:00:44.156Z"
   },
   {
    "duration": 0,
    "start_time": "2023-09-04T18:00:44.157Z"
   },
   {
    "duration": 0,
    "start_time": "2023-09-04T18:00:44.158Z"
   },
   {
    "duration": 0,
    "start_time": "2023-09-04T18:00:44.159Z"
   },
   {
    "duration": 31,
    "start_time": "2023-09-04T18:01:02.291Z"
   },
   {
    "duration": 11,
    "start_time": "2023-09-04T18:01:56.249Z"
   },
   {
    "duration": 49,
    "start_time": "2023-09-04T18:01:57.484Z"
   },
   {
    "duration": 27,
    "start_time": "2023-09-04T18:01:59.613Z"
   },
   {
    "duration": 9,
    "start_time": "2023-09-04T18:04:14.111Z"
   },
   {
    "duration": 17,
    "start_time": "2023-09-04T18:04:38.523Z"
   },
   {
    "duration": 27,
    "start_time": "2023-09-04T18:04:44.618Z"
   },
   {
    "duration": 12,
    "start_time": "2023-09-04T18:05:14.687Z"
   },
   {
    "duration": 2267,
    "start_time": "2023-09-04T18:05:30.889Z"
   },
   {
    "duration": 2120,
    "start_time": "2023-09-04T18:05:33.159Z"
   },
   {
    "duration": 2107,
    "start_time": "2023-09-04T18:05:35.281Z"
   },
   {
    "duration": 1218,
    "start_time": "2023-09-04T18:05:37.390Z"
   },
   {
    "duration": 111,
    "start_time": "2023-09-04T18:05:38.610Z"
   },
   {
    "duration": 11,
    "start_time": "2023-09-04T18:05:38.723Z"
   },
   {
    "duration": 13,
    "start_time": "2023-09-04T18:05:38.736Z"
   },
   {
    "duration": 10,
    "start_time": "2023-09-04T18:05:38.751Z"
   },
   {
    "duration": 17,
    "start_time": "2023-09-04T18:05:38.763Z"
   },
   {
    "duration": 9,
    "start_time": "2023-09-04T18:05:38.782Z"
   },
   {
    "duration": 11,
    "start_time": "2023-09-04T18:05:38.792Z"
   },
   {
    "duration": 28,
    "start_time": "2023-09-04T18:05:38.805Z"
   },
   {
    "duration": 137,
    "start_time": "2023-09-04T18:05:38.835Z"
   },
   {
    "duration": 116,
    "start_time": "2023-09-04T18:05:38.976Z"
   },
   {
    "duration": 112,
    "start_time": "2023-09-04T18:05:39.094Z"
   },
   {
    "duration": 174,
    "start_time": "2023-09-04T18:05:39.208Z"
   },
   {
    "duration": 105,
    "start_time": "2023-09-04T18:05:39.383Z"
   },
   {
    "duration": 102,
    "start_time": "2023-09-04T18:05:39.489Z"
   },
   {
    "duration": 105,
    "start_time": "2023-09-04T18:05:39.592Z"
   },
   {
    "duration": 113,
    "start_time": "2023-09-04T18:05:39.698Z"
   },
   {
    "duration": 99,
    "start_time": "2023-09-04T18:05:39.812Z"
   },
   {
    "duration": 105,
    "start_time": "2023-09-04T18:05:39.913Z"
   },
   {
    "duration": 110,
    "start_time": "2023-09-04T18:05:40.020Z"
   },
   {
    "duration": 118,
    "start_time": "2023-09-04T18:05:40.132Z"
   },
   {
    "duration": 103,
    "start_time": "2023-09-04T18:05:40.252Z"
   },
   {
    "duration": 111,
    "start_time": "2023-09-04T18:05:40.357Z"
   },
   {
    "duration": 8,
    "start_time": "2023-09-04T18:05:40.469Z"
   },
   {
    "duration": 15,
    "start_time": "2023-09-04T18:05:40.478Z"
   },
   {
    "duration": 42,
    "start_time": "2023-09-04T18:05:40.494Z"
   },
   {
    "duration": 22,
    "start_time": "2023-09-04T18:05:40.538Z"
   },
   {
    "duration": 20,
    "start_time": "2023-09-04T18:05:40.562Z"
   },
   {
    "duration": 32,
    "start_time": "2023-09-04T18:05:40.583Z"
   },
   {
    "duration": 7,
    "start_time": "2023-09-04T18:05:40.616Z"
   },
   {
    "duration": 51,
    "start_time": "2023-09-04T18:05:40.624Z"
   },
   {
    "duration": 25,
    "start_time": "2023-09-04T18:05:40.676Z"
   },
   {
    "duration": 13,
    "start_time": "2023-09-04T18:05:40.702Z"
   },
   {
    "duration": 31,
    "start_time": "2023-09-04T18:05:40.716Z"
   },
   {
    "duration": 46,
    "start_time": "2023-09-04T18:05:40.749Z"
   },
   {
    "duration": 23,
    "start_time": "2023-09-04T18:05:40.797Z"
   },
   {
    "duration": 48,
    "start_time": "2023-09-04T18:05:40.822Z"
   },
   {
    "duration": 16,
    "start_time": "2023-09-04T18:05:40.874Z"
   },
   {
    "duration": 2248,
    "start_time": "2023-09-04T18:05:40.891Z"
   },
   {
    "duration": 12,
    "start_time": "2023-09-04T18:05:43.141Z"
   },
   {
    "duration": 12,
    "start_time": "2023-09-04T18:05:43.155Z"
   },
   {
    "duration": 12,
    "start_time": "2023-09-04T18:05:43.169Z"
   },
   {
    "duration": 26,
    "start_time": "2023-09-04T18:05:43.182Z"
   },
   {
    "duration": 4,
    "start_time": "2023-09-04T18:05:43.210Z"
   },
   {
    "duration": 47,
    "start_time": "2023-09-04T18:05:43.216Z"
   },
   {
    "duration": 10,
    "start_time": "2023-09-04T18:05:43.265Z"
   },
   {
    "duration": 105,
    "start_time": "2023-09-04T18:05:43.277Z"
   },
   {
    "duration": 4,
    "start_time": "2023-09-04T18:05:43.384Z"
   },
   {
    "duration": 11,
    "start_time": "2023-09-04T18:05:43.390Z"
   },
   {
    "duration": 19,
    "start_time": "2023-09-04T18:05:43.403Z"
   },
   {
    "duration": 10,
    "start_time": "2023-09-04T18:05:43.424Z"
   },
   {
    "duration": 5338,
    "start_time": "2023-09-04T18:05:43.435Z"
   },
   {
    "duration": 4,
    "start_time": "2023-09-04T18:05:48.774Z"
   },
   {
    "duration": 9,
    "start_time": "2023-09-04T18:05:48.779Z"
   },
   {
    "duration": 1180,
    "start_time": "2023-09-04T18:05:48.790Z"
   },
   {
    "duration": 1436,
    "start_time": "2023-09-04T18:05:49.972Z"
   },
   {
    "duration": 2784,
    "start_time": "2023-09-04T18:05:51.409Z"
   },
   {
    "duration": 6,
    "start_time": "2023-09-04T18:05:54.195Z"
   },
   {
    "duration": 27,
    "start_time": "2023-09-04T18:05:54.203Z"
   },
   {
    "duration": 6,
    "start_time": "2023-09-04T18:05:54.231Z"
   },
   {
    "duration": 35,
    "start_time": "2023-09-04T18:05:54.238Z"
   },
   {
    "duration": 10,
    "start_time": "2023-09-04T18:05:54.275Z"
   },
   {
    "duration": 11,
    "start_time": "2023-09-04T18:05:54.286Z"
   },
   {
    "duration": 62,
    "start_time": "2023-09-04T18:05:54.298Z"
   },
   {
    "duration": 29,
    "start_time": "2023-09-04T18:05:54.361Z"
   },
   {
    "duration": 33,
    "start_time": "2023-09-04T18:05:54.392Z"
   },
   {
    "duration": 45,
    "start_time": "2023-09-04T18:05:54.427Z"
   },
   {
    "duration": 13,
    "start_time": "2023-09-04T18:05:54.474Z"
   },
   {
    "duration": 18037,
    "start_time": "2023-09-04T18:05:54.489Z"
   },
   {
    "duration": 2430,
    "start_time": "2023-09-04T18:06:12.527Z"
   },
   {
    "duration": 190223,
    "start_time": "2023-09-04T18:06:14.959Z"
   },
   {
    "duration": 2,
    "start_time": "2023-09-04T18:09:25.184Z"
   },
   {
    "duration": 1510,
    "start_time": "2023-09-04T18:09:25.188Z"
   },
   {
    "duration": 3,
    "start_time": "2023-09-04T18:09:26.700Z"
   },
   {
    "duration": 9,
    "start_time": "2023-09-04T18:09:26.704Z"
   },
   {
    "duration": 120,
    "start_time": "2023-09-04T18:16:09.096Z"
   },
   {
    "duration": 11,
    "start_time": "2023-09-04T18:16:28.740Z"
   },
   {
    "duration": 5,
    "start_time": "2023-09-04T18:16:44.646Z"
   },
   {
    "duration": 226,
    "start_time": "2023-09-04T18:16:51.281Z"
   },
   {
    "duration": 226,
    "start_time": "2023-09-04T18:17:05.349Z"
   },
   {
    "duration": 2354,
    "start_time": "2023-09-04T18:30:18.826Z"
   },
   {
    "duration": 2232,
    "start_time": "2023-09-04T18:30:21.182Z"
   },
   {
    "duration": 2258,
    "start_time": "2023-09-04T18:30:23.416Z"
   },
   {
    "duration": 1317,
    "start_time": "2023-09-04T18:30:25.676Z"
   },
   {
    "duration": 107,
    "start_time": "2023-09-04T18:30:26.995Z"
   },
   {
    "duration": 10,
    "start_time": "2023-09-04T18:30:27.104Z"
   },
   {
    "duration": 42,
    "start_time": "2023-09-04T18:30:27.115Z"
   },
   {
    "duration": 28,
    "start_time": "2023-09-04T18:30:27.159Z"
   },
   {
    "duration": 45,
    "start_time": "2023-09-04T18:30:27.188Z"
   },
   {
    "duration": 30,
    "start_time": "2023-09-04T18:30:27.235Z"
   },
   {
    "duration": 91,
    "start_time": "2023-09-04T18:30:27.266Z"
   },
   {
    "duration": 66,
    "start_time": "2023-09-04T18:30:27.358Z"
   },
   {
    "duration": 139,
    "start_time": "2023-09-04T18:30:27.426Z"
   },
   {
    "duration": 130,
    "start_time": "2023-09-04T18:30:27.568Z"
   },
   {
    "duration": 117,
    "start_time": "2023-09-04T18:30:27.699Z"
   },
   {
    "duration": 178,
    "start_time": "2023-09-04T18:30:27.818Z"
   },
   {
    "duration": 116,
    "start_time": "2023-09-04T18:30:27.997Z"
   },
   {
    "duration": 104,
    "start_time": "2023-09-04T18:30:28.115Z"
   },
   {
    "duration": 113,
    "start_time": "2023-09-04T18:30:28.220Z"
   },
   {
    "duration": 114,
    "start_time": "2023-09-04T18:30:28.335Z"
   },
   {
    "duration": 99,
    "start_time": "2023-09-04T18:30:28.451Z"
   },
   {
    "duration": 108,
    "start_time": "2023-09-04T18:30:28.552Z"
   },
   {
    "duration": 134,
    "start_time": "2023-09-04T18:30:28.662Z"
   },
   {
    "duration": 99,
    "start_time": "2023-09-04T18:30:28.798Z"
   },
   {
    "duration": 102,
    "start_time": "2023-09-04T18:30:28.899Z"
   },
   {
    "duration": 109,
    "start_time": "2023-09-04T18:30:29.003Z"
   },
   {
    "duration": 9,
    "start_time": "2023-09-04T18:30:29.113Z"
   },
   {
    "duration": 56,
    "start_time": "2023-09-04T18:30:29.126Z"
   },
   {
    "duration": 49,
    "start_time": "2023-09-04T18:30:29.184Z"
   },
   {
    "duration": 5,
    "start_time": "2023-09-04T18:30:29.235Z"
   },
   {
    "duration": 30,
    "start_time": "2023-09-04T18:30:29.242Z"
   },
   {
    "duration": 17,
    "start_time": "2023-09-04T18:30:29.273Z"
   },
   {
    "duration": 30,
    "start_time": "2023-09-04T18:30:29.291Z"
   },
   {
    "duration": 65,
    "start_time": "2023-09-04T18:30:29.323Z"
   },
   {
    "duration": 37,
    "start_time": "2023-09-04T18:30:29.390Z"
   },
   {
    "duration": 27,
    "start_time": "2023-09-04T18:30:29.429Z"
   },
   {
    "duration": 34,
    "start_time": "2023-09-04T18:30:29.457Z"
   },
   {
    "duration": 35,
    "start_time": "2023-09-04T18:30:29.493Z"
   },
   {
    "duration": 15,
    "start_time": "2023-09-04T18:30:29.529Z"
   },
   {
    "duration": 50,
    "start_time": "2023-09-04T18:30:29.545Z"
   },
   {
    "duration": 23,
    "start_time": "2023-09-04T18:30:29.597Z"
   },
   {
    "duration": 2401,
    "start_time": "2023-09-04T18:30:29.622Z"
   },
   {
    "duration": 12,
    "start_time": "2023-09-04T18:30:32.025Z"
   },
   {
    "duration": 32,
    "start_time": "2023-09-04T18:30:32.038Z"
   },
   {
    "duration": 17,
    "start_time": "2023-09-04T18:30:32.072Z"
   },
   {
    "duration": 33,
    "start_time": "2023-09-04T18:30:32.091Z"
   },
   {
    "duration": 4,
    "start_time": "2023-09-04T18:30:32.126Z"
   },
   {
    "duration": 51,
    "start_time": "2023-09-04T18:30:32.131Z"
   },
   {
    "duration": 15,
    "start_time": "2023-09-04T18:30:32.184Z"
   },
   {
    "duration": 128,
    "start_time": "2023-09-04T18:30:32.201Z"
   },
   {
    "duration": 6,
    "start_time": "2023-09-04T18:30:32.331Z"
   },
   {
    "duration": 7,
    "start_time": "2023-09-04T18:30:32.348Z"
   },
   {
    "duration": 10,
    "start_time": "2023-09-04T18:30:32.356Z"
   },
   {
    "duration": 14,
    "start_time": "2023-09-04T18:30:32.368Z"
   },
   {
    "duration": 5494,
    "start_time": "2023-09-04T18:30:32.383Z"
   },
   {
    "duration": 3,
    "start_time": "2023-09-04T18:30:37.879Z"
   },
   {
    "duration": 18,
    "start_time": "2023-09-04T18:30:37.884Z"
   },
   {
    "duration": 1197,
    "start_time": "2023-09-04T18:30:37.904Z"
   },
   {
    "duration": 1453,
    "start_time": "2023-09-04T18:30:39.102Z"
   },
   {
    "duration": 2863,
    "start_time": "2023-09-04T18:30:40.557Z"
   },
   {
    "duration": 6,
    "start_time": "2023-09-04T18:30:43.422Z"
   },
   {
    "duration": 8,
    "start_time": "2023-09-04T18:30:43.430Z"
   },
   {
    "duration": 9,
    "start_time": "2023-09-04T18:30:43.440Z"
   },
   {
    "duration": 21,
    "start_time": "2023-09-04T18:30:43.450Z"
   },
   {
    "duration": 4,
    "start_time": "2023-09-04T18:30:43.473Z"
   },
   {
    "duration": 11,
    "start_time": "2023-09-04T18:30:43.478Z"
   },
   {
    "duration": 33,
    "start_time": "2023-09-04T18:30:43.491Z"
   },
   {
    "duration": 24,
    "start_time": "2023-09-04T18:30:43.526Z"
   },
   {
    "duration": 17,
    "start_time": "2023-09-04T18:30:43.552Z"
   },
   {
    "duration": 10,
    "start_time": "2023-09-04T18:30:43.570Z"
   },
   {
    "duration": 18175,
    "start_time": "2023-09-04T18:30:43.581Z"
   },
   {
    "duration": 2903,
    "start_time": "2023-09-04T18:31:01.758Z"
   },
   {
    "duration": 198051,
    "start_time": "2023-09-04T18:31:04.663Z"
   },
   {
    "duration": 3,
    "start_time": "2023-09-04T18:34:22.715Z"
   },
   {
    "duration": 1303,
    "start_time": "2023-09-04T18:34:22.719Z"
   },
   {
    "duration": 4,
    "start_time": "2023-09-04T18:34:24.024Z"
   },
   {
    "duration": 7,
    "start_time": "2023-09-04T18:34:24.029Z"
   },
   {
    "duration": 249,
    "start_time": "2023-09-04T18:34:24.038Z"
   },
   {
    "duration": 3358,
    "start_time": "2023-09-05T04:42:06.957Z"
   },
   {
    "duration": 2936,
    "start_time": "2023-09-05T04:42:10.318Z"
   },
   {
    "duration": 7323,
    "start_time": "2023-09-05T04:42:13.256Z"
   },
   {
    "duration": 1756,
    "start_time": "2023-09-05T04:42:20.582Z"
   },
   {
    "duration": 325,
    "start_time": "2023-09-05T04:42:23.072Z"
   },
   {
    "duration": 14,
    "start_time": "2023-09-05T04:42:25.802Z"
   },
   {
    "duration": 15,
    "start_time": "2023-09-05T04:42:25.970Z"
   },
   {
    "duration": 10,
    "start_time": "2023-09-05T04:42:26.140Z"
   },
   {
    "duration": 21,
    "start_time": "2023-09-05T04:42:26.268Z"
   },
   {
    "duration": 12,
    "start_time": "2023-09-05T04:42:26.431Z"
   },
   {
    "duration": 13,
    "start_time": "2023-09-05T04:42:26.531Z"
   },
   {
    "duration": 11,
    "start_time": "2023-09-05T04:42:26.708Z"
   },
   {
    "duration": 136,
    "start_time": "2023-09-05T04:42:26.853Z"
   },
   {
    "duration": 132,
    "start_time": "2023-09-05T04:42:27.000Z"
   },
   {
    "duration": 209,
    "start_time": "2023-09-05T04:42:27.134Z"
   },
   {
    "duration": 112,
    "start_time": "2023-09-05T04:42:27.345Z"
   },
   {
    "duration": 126,
    "start_time": "2023-09-05T04:42:27.459Z"
   },
   {
    "duration": 114,
    "start_time": "2023-09-05T04:42:27.587Z"
   },
   {
    "duration": 121,
    "start_time": "2023-09-05T04:42:27.703Z"
   },
   {
    "duration": 112,
    "start_time": "2023-09-05T04:42:27.859Z"
   },
   {
    "duration": 114,
    "start_time": "2023-09-05T04:42:27.976Z"
   },
   {
    "duration": 100,
    "start_time": "2023-09-05T04:42:28.154Z"
   },
   {
    "duration": 109,
    "start_time": "2023-09-05T04:42:28.314Z"
   },
   {
    "duration": 103,
    "start_time": "2023-09-05T04:42:28.525Z"
   },
   {
    "duration": 98,
    "start_time": "2023-09-05T04:42:28.692Z"
   },
   {
    "duration": 112,
    "start_time": "2023-09-05T04:42:28.859Z"
   },
   {
    "duration": 8,
    "start_time": "2023-09-05T04:42:29.182Z"
   },
   {
    "duration": 7,
    "start_time": "2023-09-05T04:42:29.291Z"
   },
   {
    "duration": 9,
    "start_time": "2023-09-05T04:42:29.470Z"
   },
   {
    "duration": 2,
    "start_time": "2023-09-05T04:42:30.964Z"
   },
   {
    "duration": 3,
    "start_time": "2023-09-05T04:42:31.115Z"
   },
   {
    "duration": 4,
    "start_time": "2023-09-05T04:42:31.958Z"
   },
   {
    "duration": 5,
    "start_time": "2023-09-05T04:42:32.124Z"
   },
   {
    "duration": 30,
    "start_time": "2023-09-05T04:42:32.284Z"
   },
   {
    "duration": 26,
    "start_time": "2023-09-05T04:42:32.637Z"
   },
   {
    "duration": 5,
    "start_time": "2023-09-05T04:42:32.803Z"
   },
   {
    "duration": 7,
    "start_time": "2023-09-05T04:42:33.157Z"
   },
   {
    "duration": 30,
    "start_time": "2023-09-05T04:42:33.334Z"
   },
   {
    "duration": 9,
    "start_time": "2023-09-05T04:42:33.501Z"
   },
   {
    "duration": 38,
    "start_time": "2023-09-05T04:42:33.676Z"
   },
   {
    "duration": 18,
    "start_time": "2023-09-05T04:42:33.837Z"
   },
   {
    "duration": 2626,
    "start_time": "2023-09-05T04:42:34.004Z"
   },
   {
    "duration": 13,
    "start_time": "2023-09-05T04:42:36.632Z"
   },
   {
    "duration": 17,
    "start_time": "2023-09-05T04:42:36.647Z"
   },
   {
    "duration": 29,
    "start_time": "2023-09-05T04:42:36.666Z"
   },
   {
    "duration": 27,
    "start_time": "2023-09-05T04:42:36.701Z"
   },
   {
    "duration": 6,
    "start_time": "2023-09-05T04:42:36.730Z"
   },
   {
    "duration": 28,
    "start_time": "2023-09-05T04:42:36.738Z"
   },
   {
    "duration": 18,
    "start_time": "2023-09-05T04:42:36.768Z"
   },
   {
    "duration": 119,
    "start_time": "2023-09-05T04:42:36.788Z"
   },
   {
    "duration": 6,
    "start_time": "2023-09-05T04:42:36.910Z"
   },
   {
    "duration": 5,
    "start_time": "2023-09-05T04:42:37.309Z"
   },
   {
    "duration": 5,
    "start_time": "2023-09-05T04:42:37.477Z"
   },
   {
    "duration": 5,
    "start_time": "2023-09-05T04:42:37.626Z"
   },
   {
    "duration": 5867,
    "start_time": "2023-09-05T04:42:37.971Z"
   },
   {
    "duration": 4,
    "start_time": "2023-09-05T04:42:43.839Z"
   },
   {
    "duration": 26,
    "start_time": "2023-09-05T04:42:43.845Z"
   },
   {
    "duration": 1316,
    "start_time": "2023-09-05T04:42:43.873Z"
   },
   {
    "duration": 1592,
    "start_time": "2023-09-05T04:42:45.191Z"
   },
   {
    "duration": 3200,
    "start_time": "2023-09-05T04:42:46.784Z"
   },
   {
    "duration": 5,
    "start_time": "2023-09-05T04:42:55.379Z"
   },
   {
    "duration": 95,
    "start_time": "2023-09-05T15:59:14.850Z"
   },
   {
    "duration": 3640,
    "start_time": "2023-09-13T18:03:10.864Z"
   },
   {
    "duration": 3106,
    "start_time": "2023-09-13T18:03:14.507Z"
   },
   {
    "duration": 7362,
    "start_time": "2023-09-13T18:03:17.614Z"
   },
   {
    "duration": 1603,
    "start_time": "2023-09-13T18:03:24.978Z"
   },
   {
    "duration": 331,
    "start_time": "2023-09-13T18:03:26.582Z"
   },
   {
    "duration": 13,
    "start_time": "2023-09-13T18:03:26.915Z"
   },
   {
    "duration": 27,
    "start_time": "2023-09-13T18:03:26.929Z"
   },
   {
    "duration": 12,
    "start_time": "2023-09-13T18:03:26.958Z"
   },
   {
    "duration": 27,
    "start_time": "2023-09-13T18:03:26.971Z"
   },
   {
    "duration": 15,
    "start_time": "2023-09-13T18:03:27.001Z"
   },
   {
    "duration": 29,
    "start_time": "2023-09-13T18:03:27.017Z"
   },
   {
    "duration": 26,
    "start_time": "2023-09-13T18:03:27.048Z"
   },
   {
    "duration": 149,
    "start_time": "2023-09-13T18:03:27.075Z"
   },
   {
    "duration": 136,
    "start_time": "2023-09-13T18:03:27.226Z"
   },
   {
    "duration": 138,
    "start_time": "2023-09-13T18:03:27.364Z"
   },
   {
    "duration": 191,
    "start_time": "2023-09-13T18:03:27.504Z"
   },
   {
    "duration": 118,
    "start_time": "2023-09-13T18:03:27.697Z"
   },
   {
    "duration": 115,
    "start_time": "2023-09-13T18:03:27.817Z"
   },
   {
    "duration": 131,
    "start_time": "2023-09-13T18:03:27.934Z"
   },
   {
    "duration": 126,
    "start_time": "2023-09-13T18:03:28.066Z"
   },
   {
    "duration": 119,
    "start_time": "2023-09-13T18:03:28.193Z"
   },
   {
    "duration": 117,
    "start_time": "2023-09-13T18:03:28.314Z"
   },
   {
    "duration": 119,
    "start_time": "2023-09-13T18:03:28.447Z"
   },
   {
    "duration": 116,
    "start_time": "2023-09-13T18:03:28.568Z"
   },
   {
    "duration": 110,
    "start_time": "2023-09-13T18:03:28.686Z"
   },
   {
    "duration": 123,
    "start_time": "2023-09-13T18:03:28.797Z"
   },
   {
    "duration": 9,
    "start_time": "2023-09-13T18:03:28.922Z"
   },
   {
    "duration": 7,
    "start_time": "2023-09-13T18:03:28.949Z"
   },
   {
    "duration": 22,
    "start_time": "2023-09-13T18:03:28.957Z"
   },
   {
    "duration": 3,
    "start_time": "2023-09-13T18:03:28.981Z"
   },
   {
    "duration": 9,
    "start_time": "2023-09-13T18:03:28.985Z"
   },
   {
    "duration": 10,
    "start_time": "2023-09-13T18:03:28.995Z"
   },
   {
    "duration": 12,
    "start_time": "2023-09-13T18:03:29.007Z"
   },
   {
    "duration": 48,
    "start_time": "2023-09-13T18:03:29.021Z"
   },
   {
    "duration": 31,
    "start_time": "2023-09-13T18:03:29.071Z"
   },
   {
    "duration": 9,
    "start_time": "2023-09-13T18:03:29.103Z"
   },
   {
    "duration": 12,
    "start_time": "2023-09-13T18:03:29.113Z"
   },
   {
    "duration": 41,
    "start_time": "2023-09-13T18:03:29.126Z"
   },
   {
    "duration": 9,
    "start_time": "2023-09-13T18:03:29.168Z"
   },
   {
    "duration": 37,
    "start_time": "2023-09-13T18:03:29.179Z"
   },
   {
    "duration": 38,
    "start_time": "2023-09-13T18:03:29.218Z"
   },
   {
    "duration": 2630,
    "start_time": "2023-09-13T18:03:29.258Z"
   },
   {
    "duration": 13,
    "start_time": "2023-09-13T18:03:31.889Z"
   },
   {
    "duration": 42,
    "start_time": "2023-09-13T18:03:31.904Z"
   },
   {
    "duration": 47,
    "start_time": "2023-09-13T18:03:31.948Z"
   },
   {
    "duration": 42,
    "start_time": "2023-09-13T18:03:31.996Z"
   },
   {
    "duration": 5,
    "start_time": "2023-09-13T18:03:32.039Z"
   },
   {
    "duration": 59,
    "start_time": "2023-09-13T18:03:32.045Z"
   },
   {
    "duration": 15,
    "start_time": "2023-09-13T18:03:32.106Z"
   },
   {
    "duration": 134,
    "start_time": "2023-09-13T18:03:32.123Z"
   },
   {
    "duration": 6,
    "start_time": "2023-09-13T18:03:32.259Z"
   },
   {
    "duration": 16,
    "start_time": "2023-09-13T18:03:32.267Z"
   },
   {
    "duration": 13,
    "start_time": "2023-09-13T18:03:32.285Z"
   },
   {
    "duration": 6,
    "start_time": "2023-09-13T18:03:32.299Z"
   },
   {
    "duration": 5932,
    "start_time": "2023-09-13T18:03:32.307Z"
   },
   {
    "duration": 4,
    "start_time": "2023-09-13T18:03:38.246Z"
   },
   {
    "duration": 8,
    "start_time": "2023-09-13T18:03:38.251Z"
   },
   {
    "duration": 1257,
    "start_time": "2023-09-13T18:03:38.260Z"
   },
   {
    "duration": 1623,
    "start_time": "2023-09-13T18:03:39.519Z"
   },
   {
    "duration": 3187,
    "start_time": "2023-09-13T18:03:41.146Z"
   },
   {
    "duration": 5,
    "start_time": "2023-09-13T18:03:44.335Z"
   },
   {
    "duration": 18,
    "start_time": "2023-09-13T18:03:44.341Z"
   },
   {
    "duration": 15,
    "start_time": "2023-09-13T18:03:44.361Z"
   },
   {
    "duration": 35,
    "start_time": "2023-09-13T18:03:44.378Z"
   },
   {
    "duration": 6,
    "start_time": "2023-09-13T18:03:44.415Z"
   },
   {
    "duration": 11,
    "start_time": "2023-09-13T18:03:44.422Z"
   },
   {
    "duration": 43,
    "start_time": "2023-09-13T18:03:44.434Z"
   },
   {
    "duration": 11,
    "start_time": "2023-09-13T18:03:44.478Z"
   },
   {
    "duration": 21,
    "start_time": "2023-09-13T18:03:44.491Z"
   },
   {
    "duration": 11,
    "start_time": "2023-09-13T18:03:44.513Z"
   },
   {
    "duration": 20319,
    "start_time": "2023-09-13T18:03:44.525Z"
   },
   {
    "duration": 2508,
    "start_time": "2023-09-13T18:04:04.845Z"
   },
   {
    "duration": 234186,
    "start_time": "2023-09-13T18:04:07.355Z"
   },
   {
    "duration": 4,
    "start_time": "2023-09-13T18:08:01.542Z"
   },
   {
    "duration": 1606,
    "start_time": "2023-09-13T18:08:01.547Z"
   },
   {
    "duration": 4,
    "start_time": "2023-09-13T18:08:03.155Z"
   },
   {
    "duration": 23,
    "start_time": "2023-09-13T18:08:03.161Z"
   },
   {
    "duration": 294,
    "start_time": "2023-09-13T18:08:03.186Z"
   },
   {
    "duration": 2361,
    "start_time": "2023-09-13T18:08:20.507Z"
   }
  ],
  "kernelspec": {
   "display_name": "Python 3 (ipykernel)",
   "language": "python",
   "name": "python3"
  },
  "language_info": {
   "codemirror_mode": {
    "name": "ipython",
    "version": 3
   },
   "file_extension": ".py",
   "mimetype": "text/x-python",
   "name": "python",
   "nbconvert_exporter": "python",
   "pygments_lexer": "ipython3",
   "version": "3.9.12"
  },
  "toc": {
   "base_numbering": 1,
   "nav_menu": {},
   "number_sections": true,
   "sideBar": true,
   "skip_h1_title": true,
   "title_cell": "Table of Contents",
   "title_sidebar": "Contents",
   "toc_cell": false,
   "toc_position": {
    "height": "calc(100% - 180px)",
    "left": "10px",
    "top": "150px",
    "width": "297.797px"
   },
   "toc_section_display": true,
   "toc_window_display": true
  }
 },
 "nbformat": 4,
 "nbformat_minor": 2
}
