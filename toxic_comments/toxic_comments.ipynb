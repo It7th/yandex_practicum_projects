{
 "cells": [
  {
   "cell_type": "markdown",
   "metadata": {
    "id": "Htf-BfT6eWXM",
    "toc": true
   },
   "source": [
    "<h1>Содержание<span class=\"tocSkip\"></span></h1>\n",
    "<div class=\"toc\"><ul class=\"toc-item\"><li><span><a href=\"#Подготовка\" data-toc-modified-id=\"Подготовка-1\"><span class=\"toc-item-num\">1&nbsp;&nbsp;</span>Подготовка</a></span></li><li><span><a href=\"#Обучение\" data-toc-modified-id=\"Обучение-2\"><span class=\"toc-item-num\">2&nbsp;&nbsp;</span>Обучение</a></span><ul class=\"toc-item\"><li><span><a href=\"#CatBoost\" data-toc-modified-id=\"CatBoost-2.1\"><span class=\"toc-item-num\">2.1&nbsp;&nbsp;</span>CatBoost</a></span></li><li><span><a href=\"#LogisticRegression\" data-toc-modified-id=\"LogisticRegression-2.2\"><span class=\"toc-item-num\">2.2&nbsp;&nbsp;</span>LogisticRegression</a></span></li><li><span><a href=\"#Работа-с-BERT\" data-toc-modified-id=\"Работа-с-BERT-2.3\"><span class=\"toc-item-num\">2.3&nbsp;&nbsp;</span>Работа с BERT</a></span></li></ul></li><li><span><a href=\"#Выводы\" data-toc-modified-id=\"Выводы-3\"><span class=\"toc-item-num\">3&nbsp;&nbsp;</span>Выводы</a></span></li><li><span><a href=\"#Чек-лист-проверки\" data-toc-modified-id=\"Чек-лист-проверки-4\"><span class=\"toc-item-num\">4&nbsp;&nbsp;</span>Чек-лист проверки</a></span></li></ul></div>"
   ]
  },
  {
   "cell_type": "markdown",
   "metadata": {
    "id": "arnLCNMneWXO"
   },
   "source": [
    "# Проект для «Викишоп» с BERT"
   ]
  },
  {
   "cell_type": "markdown",
   "metadata": {
    "id": "KRBZWwU-eWXO"
   },
   "source": [
    "Интернет-магазин «Викишоп» запускает новый сервис. Теперь пользователи могут редактировать и дополнять описания товаров, как в вики-сообществах. То есть клиенты предлагают свои правки и комментируют изменения других. Магазину нужен инструмент, который будет искать токсичные комментарии и отправлять их на модерацию.\n",
    "\n",
    "Обучите модель классифицировать комментарии на позитивные и негативные. В вашем распоряжении набор данных с разметкой о токсичности правок.\n",
    "\n",
    "\n",
    "**Описание данных**\n",
    "\n",
    "Данные находятся в файле `toxic_comments.csv`. Столбец *text* в нём содержит текст комментария, а *toxic* — целевой признак."
   ]
  },
  {
   "cell_type": "markdown",
   "metadata": {
    "id": "_oIqRe3VeWXP"
   },
   "source": [
    "## Подготовка"
   ]
  },
  {
   "cell_type": "code",
   "execution_count": 1,
   "metadata": {
    "ExecuteTime": {
     "end_time": "2023-07-09T18:20:36.657862Z",
     "start_time": "2023-07-09T18:20:36.565110Z"
    }
   },
   "outputs": [
    {
     "name": "stderr",
     "output_type": "stream",
     "text": [
      "Script file 'B:\\anaconda\\Scripts\\pip3-script.py' is not present.\n"
     ]
    }
   ],
   "source": [
    "!pip3 install -q transformers catboost"
   ]
  },
  {
   "cell_type": "code",
   "execution_count": 2,
   "metadata": {
    "ExecuteTime": {
     "end_time": "2023-07-09T18:20:56.280402Z",
     "start_time": "2023-07-09T18:20:36.658860Z"
    },
    "id": "aHJynwKJeWXQ"
   },
   "outputs": [],
   "source": [
    "import pandas as pd\n",
    "import numpy as np\n",
    "import torch\n",
    "import torch.nn as nn\n",
    "import transformers\n",
    "import re\n",
    "from tqdm import tqdm\n",
    "from pymystem3 import Mystem\n",
    "from nltk.stem import WordNetLemmatizer\n",
    "from nltk.corpus import stopwords\n",
    "import nltk\n",
    "from sklearn.feature_extraction.text import TfidfVectorizer\n",
    "from sklearn.model_selection import train_test_split, cross_val_score, GridSearchCV\n",
    "from sklearn.metrics import f1_score\n",
    "from sklearn.linear_model import LogisticRegression\n",
    "from sklearn.dummy import DummyClassifier\n",
    "from sklearn.pipeline import Pipeline\n",
    "from catboost import CatBoostClassifier"
   ]
  },
  {
   "cell_type": "code",
   "execution_count": 3,
   "metadata": {
    "ExecuteTime": {
     "end_time": "2023-07-09T18:20:56.969560Z",
     "start_time": "2023-07-09T18:20:56.282397Z"
    },
    "id": "4H8ovNMMeWXR"
   },
   "outputs": [],
   "source": [
    "df = pd.read_csv('/datasets/toxic_comments.csv') #для яндекса\n",
    "#df = pd.read_csv('/content/drive/MyDrive/toxic_comments.csv') # для колаба\n",
    "#df = pd.read_csv('toxic_comments.csv') # для локального"
   ]
  },
  {
   "cell_type": "code",
   "execution_count": 4,
   "metadata": {
    "ExecuteTime": {
     "end_time": "2023-07-09T18:20:56.985517Z",
     "start_time": "2023-07-09T18:20:56.970558Z"
    },
    "colab": {
     "base_uri": "https://localhost:8080/",
     "height": 424
    },
    "id": "fZkAmJsSeWXR",
    "outputId": "cc5138b3-1d50-41bd-d0f7-453a8599292a"
   },
   "outputs": [
    {
     "data": {
      "text/html": [
       "<div>\n",
       "<style scoped>\n",
       "    .dataframe tbody tr th:only-of-type {\n",
       "        vertical-align: middle;\n",
       "    }\n",
       "\n",
       "    .dataframe tbody tr th {\n",
       "        vertical-align: top;\n",
       "    }\n",
       "\n",
       "    .dataframe thead th {\n",
       "        text-align: right;\n",
       "    }\n",
       "</style>\n",
       "<table border=\"1\" class=\"dataframe\">\n",
       "  <thead>\n",
       "    <tr style=\"text-align: right;\">\n",
       "      <th></th>\n",
       "      <th>Unnamed: 0</th>\n",
       "      <th>text</th>\n",
       "      <th>toxic</th>\n",
       "    </tr>\n",
       "  </thead>\n",
       "  <tbody>\n",
       "    <tr>\n",
       "      <th>0</th>\n",
       "      <td>0</td>\n",
       "      <td>Explanation\\nWhy the edits made under my usern...</td>\n",
       "      <td>0</td>\n",
       "    </tr>\n",
       "    <tr>\n",
       "      <th>1</th>\n",
       "      <td>1</td>\n",
       "      <td>D'aww! He matches this background colour I'm s...</td>\n",
       "      <td>0</td>\n",
       "    </tr>\n",
       "    <tr>\n",
       "      <th>2</th>\n",
       "      <td>2</td>\n",
       "      <td>Hey man, I'm really not trying to edit war. It...</td>\n",
       "      <td>0</td>\n",
       "    </tr>\n",
       "    <tr>\n",
       "      <th>3</th>\n",
       "      <td>3</td>\n",
       "      <td>\"\\nMore\\nI can't make any real suggestions on ...</td>\n",
       "      <td>0</td>\n",
       "    </tr>\n",
       "    <tr>\n",
       "      <th>4</th>\n",
       "      <td>4</td>\n",
       "      <td>You, sir, are my hero. Any chance you remember...</td>\n",
       "      <td>0</td>\n",
       "    </tr>\n",
       "  </tbody>\n",
       "</table>\n",
       "</div>"
      ],
      "text/plain": [
       "   Unnamed: 0                                               text  toxic\n",
       "0           0  Explanation\\nWhy the edits made under my usern...      0\n",
       "1           1  D'aww! He matches this background colour I'm s...      0\n",
       "2           2  Hey man, I'm really not trying to edit war. It...      0\n",
       "3           3  \"\\nMore\\nI can't make any real suggestions on ...      0\n",
       "4           4  You, sir, are my hero. Any chance you remember...      0"
      ]
     },
     "execution_count": 4,
     "metadata": {},
     "output_type": "execute_result"
    }
   ],
   "source": [
    "df.head()"
   ]
  },
  {
   "cell_type": "code",
   "execution_count": 5,
   "metadata": {
    "ExecuteTime": {
     "end_time": "2023-07-09T18:20:57.031395Z",
     "start_time": "2023-07-09T18:20:56.986515Z"
    },
    "colab": {
     "base_uri": "https://localhost:8080/"
    },
    "id": "eZalVp0BeWXR",
    "outputId": "d06fc5f1-ce42-4224-9a14-d9b96df5eaf9"
   },
   "outputs": [
    {
     "name": "stdout",
     "output_type": "stream",
     "text": [
      "<class 'pandas.core.frame.DataFrame'>\n",
      "RangeIndex: 159292 entries, 0 to 159291\n",
      "Data columns (total 3 columns):\n",
      " #   Column      Non-Null Count   Dtype \n",
      "---  ------      --------------   ----- \n",
      " 0   Unnamed: 0  159292 non-null  int64 \n",
      " 1   text        159292 non-null  object\n",
      " 2   toxic       159292 non-null  int64 \n",
      "dtypes: int64(2), object(1)\n",
      "memory usage: 3.6+ MB\n"
     ]
    }
   ],
   "source": [
    "df.info()"
   ]
  },
  {
   "cell_type": "code",
   "execution_count": 6,
   "metadata": {
    "ExecuteTime": {
     "end_time": "2023-07-09T18:20:57.061314Z",
     "start_time": "2023-07-09T18:20:57.032392Z"
    },
    "colab": {
     "base_uri": "https://localhost:8080/"
    },
    "id": "qSsAHk-YeWXR",
    "outputId": "4178f82f-9fc4-4c7c-9ad2-77475c98864b"
   },
   "outputs": [
    {
     "data": {
      "text/plain": [
       "0"
      ]
     },
     "execution_count": 6,
     "metadata": {},
     "output_type": "execute_result"
    }
   ],
   "source": [
    "df['text'].isna().sum()"
   ]
  },
  {
   "cell_type": "code",
   "execution_count": 7,
   "metadata": {
    "ExecuteTime": {
     "end_time": "2023-07-09T18:20:57.077272Z",
     "start_time": "2023-07-09T18:20:57.062312Z"
    },
    "id": "aF6yCtGceWXS"
   },
   "outputs": [
    {
     "data": {
      "text/plain": [
       "0    143106\n",
       "1     16186\n",
       "Name: toxic, dtype: int64"
      ]
     },
     "execution_count": 7,
     "metadata": {},
     "output_type": "execute_result"
    }
   ],
   "source": [
    "df['toxic'].value_counts()"
   ]
  },
  {
   "cell_type": "markdown",
   "metadata": {
    "id": "vtaf3riReWXS"
   },
   "source": [
    "Наблюдается явный дисбаланс классов, поэтому обучать модели будем с использования балансировки весов"
   ]
  },
  {
   "cell_type": "markdown",
   "metadata": {
    "id": "lNuX2fd6eWXS"
   },
   "source": [
    "Создаем корпус, очищаем его, лемматизируем"
   ]
  },
  {
   "cell_type": "code",
   "execution_count": 8,
   "metadata": {
    "ExecuteTime": {
     "end_time": "2023-07-09T18:20:58.422675Z",
     "start_time": "2023-07-09T18:20:57.078270Z"
    }
   },
   "outputs": [
    {
     "name": "stdout",
     "output_type": "stream",
     "text": [
      "Requirement already satisfied: spacy in c:\\users\\delo-\\appdata\\local\\programs\\python\\python310\\lib\\site-packages (3.6.0)\n",
      "Requirement already satisfied: spacy-legacy<3.1.0,>=3.0.11 in c:\\users\\delo-\\appdata\\local\\programs\\python\\python310\\lib\\site-packages (from spacy) (3.0.12)\n",
      "Requirement already satisfied: spacy-loggers<2.0.0,>=1.0.0 in c:\\users\\delo-\\appdata\\local\\programs\\python\\python310\\lib\\site-packages (from spacy) (1.0.4)\n",
      "Requirement already satisfied: murmurhash<1.1.0,>=0.28.0 in c:\\users\\delo-\\appdata\\local\\programs\\python\\python310\\lib\\site-packages (from spacy) (1.0.9)\n",
      "Requirement already satisfied: cymem<2.1.0,>=2.0.2 in c:\\users\\delo-\\appdata\\local\\programs\\python\\python310\\lib\\site-packages (from spacy) (2.0.7)\n",
      "Requirement already satisfied: preshed<3.1.0,>=3.0.2 in c:\\users\\delo-\\appdata\\local\\programs\\python\\python310\\lib\\site-packages (from spacy) (3.0.8)\n",
      "Requirement already satisfied: thinc<8.2.0,>=8.1.8 in c:\\users\\delo-\\appdata\\local\\programs\\python\\python310\\lib\\site-packages (from spacy) (8.1.10)\n",
      "Requirement already satisfied: wasabi<1.2.0,>=0.9.1 in c:\\users\\delo-\\appdata\\local\\programs\\python\\python310\\lib\\site-packages (from spacy) (1.1.2)\n",
      "Requirement already satisfied: srsly<3.0.0,>=2.4.3 in c:\\users\\delo-\\appdata\\local\\programs\\python\\python310\\lib\\site-packages (from spacy) (2.4.6)\n",
      "Requirement already satisfied: catalogue<2.1.0,>=2.0.6 in c:\\users\\delo-\\appdata\\local\\programs\\python\\python310\\lib\\site-packages (from spacy) (2.0.8)\n",
      "Requirement already satisfied: typer<0.10.0,>=0.3.0 in c:\\users\\delo-\\appdata\\local\\programs\\python\\python310\\lib\\site-packages (from spacy) (0.9.0)\n",
      "Requirement already satisfied: pathy>=0.10.0 in c:\\users\\delo-\\appdata\\local\\programs\\python\\python310\\lib\\site-packages (from spacy) (0.10.2)\n",
      "Requirement already satisfied: smart-open<7.0.0,>=5.2.1 in c:\\users\\delo-\\appdata\\local\\programs\\python\\python310\\lib\\site-packages (from spacy) (6.3.0)\n",
      "Requirement already satisfied: tqdm<5.0.0,>=4.38.0 in c:\\users\\delo-\\appdata\\local\\programs\\python\\python310\\lib\\site-packages (from spacy) (4.65.0)\n",
      "Requirement already satisfied: numpy>=1.15.0 in c:\\users\\delo-\\appdata\\local\\programs\\python\\python310\\lib\\site-packages (from spacy) (1.23.3)\n",
      "Requirement already satisfied: requests<3.0.0,>=2.13.0 in c:\\users\\delo-\\appdata\\local\\programs\\python\\python310\\lib\\site-packages (from spacy) (2.31.0)\n",
      "Requirement already satisfied: pydantic!=1.8,!=1.8.1,<1.11.0,>=1.7.4 in c:\\users\\delo-\\appdata\\local\\programs\\python\\python310\\lib\\site-packages (from spacy) (1.10.11)\n",
      "Requirement already satisfied: jinja2 in c:\\users\\delo-\\appdata\\local\\programs\\python\\python310\\lib\\site-packages (from spacy) (3.1.2)\n",
      "Requirement already satisfied: setuptools in c:\\users\\delo-\\appdata\\local\\programs\\python\\python310\\lib\\site-packages (from spacy) (63.2.0)\n",
      "Requirement already satisfied: packaging>=20.0 in c:\\users\\delo-\\appdata\\local\\programs\\python\\python310\\lib\\site-packages (from spacy) (23.0)\n",
      "Requirement already satisfied: langcodes<4.0.0,>=3.2.0 in c:\\users\\delo-\\appdata\\local\\programs\\python\\python310\\lib\\site-packages (from spacy) (3.3.0)\n",
      "Requirement already satisfied: typing-extensions>=4.2.0 in c:\\users\\delo-\\appdata\\local\\programs\\python\\python310\\lib\\site-packages (from pydantic!=1.8,!=1.8.1,<1.11.0,>=1.7.4->spacy) (4.7.1)\n",
      "Requirement already satisfied: charset-normalizer<4,>=2 in c:\\users\\delo-\\appdata\\local\\programs\\python\\python310\\lib\\site-packages (from requests<3.0.0,>=2.13.0->spacy) (3.2.0)\n",
      "Requirement already satisfied: idna<4,>=2.5 in c:\\users\\delo-\\appdata\\local\\programs\\python\\python310\\lib\\site-packages (from requests<3.0.0,>=2.13.0->spacy) (3.4)\n",
      "Requirement already satisfied: urllib3<3,>=1.21.1 in c:\\users\\delo-\\appdata\\local\\programs\\python\\python310\\lib\\site-packages (from requests<3.0.0,>=2.13.0->spacy) (2.0.3)\n",
      "Requirement already satisfied: certifi>=2017.4.17 in c:\\users\\delo-\\appdata\\local\\programs\\python\\python310\\lib\\site-packages (from requests<3.0.0,>=2.13.0->spacy) (2023.5.7)\n",
      "Requirement already satisfied: blis<0.8.0,>=0.7.8 in c:\\users\\delo-\\appdata\\local\\programs\\python\\python310\\lib\\site-packages (from thinc<8.2.0,>=8.1.8->spacy) (0.7.9)\n",
      "Requirement already satisfied: confection<1.0.0,>=0.0.1 in c:\\users\\delo-\\appdata\\local\\programs\\python\\python310\\lib\\site-packages (from thinc<8.2.0,>=8.1.8->spacy) (0.1.0)\n",
      "Requirement already satisfied: colorama in c:\\users\\delo-\\appdata\\local\\programs\\python\\python310\\lib\\site-packages (from tqdm<5.0.0,>=4.38.0->spacy) (0.4.6)\n",
      "Requirement already satisfied: click<9.0.0,>=7.1.1 in c:\\users\\delo-\\appdata\\local\\programs\\python\\python310\\lib\\site-packages (from typer<0.10.0,>=0.3.0->spacy) (8.1.4)\n",
      "Requirement already satisfied: MarkupSafe>=2.0 in c:\\users\\delo-\\appdata\\local\\programs\\python\\python310\\lib\\site-packages (from jinja2->spacy) (2.1.3)\n"
     ]
    }
   ],
   "source": [
    "!pip install spacy"
   ]
  },
  {
   "cell_type": "code",
   "execution_count": 9,
   "metadata": {
    "ExecuteTime": {
     "end_time": "2023-07-09T18:21:00.877113Z",
     "start_time": "2023-07-09T18:20:58.424670Z"
    }
   },
   "outputs": [],
   "source": [
    "import spacy"
   ]
  },
  {
   "cell_type": "code",
   "execution_count": 10,
   "metadata": {
    "ExecuteTime": {
     "end_time": "2023-07-09T18:21:01.436617Z",
     "start_time": "2023-07-09T18:21:00.878111Z"
    }
   },
   "outputs": [],
   "source": [
    "nlp = spacy.load(\"en_core_web_sm\", disable=['parser', 'ner'])\n",
    "def clear_text(text):\n",
    "    doc = nlp(text)\n",
    "    return \" \".join([token.lemma_ for token in doc])"
   ]
  },
  {
   "cell_type": "code",
   "execution_count": 11,
   "metadata": {
    "ExecuteTime": {
     "end_time": "2023-07-09T18:21:01.452575Z",
     "start_time": "2023-07-09T18:21:01.437615Z"
    }
   },
   "outputs": [
    {
     "data": {
      "text/html": [
       "<div>\n",
       "<style scoped>\n",
       "    .dataframe tbody tr th:only-of-type {\n",
       "        vertical-align: middle;\n",
       "    }\n",
       "\n",
       "    .dataframe tbody tr th {\n",
       "        vertical-align: top;\n",
       "    }\n",
       "\n",
       "    .dataframe thead th {\n",
       "        text-align: right;\n",
       "    }\n",
       "</style>\n",
       "<table border=\"1\" class=\"dataframe\">\n",
       "  <thead>\n",
       "    <tr style=\"text-align: right;\">\n",
       "      <th></th>\n",
       "      <th>Unnamed: 0</th>\n",
       "      <th>text</th>\n",
       "      <th>toxic</th>\n",
       "    </tr>\n",
       "  </thead>\n",
       "  <tbody>\n",
       "    <tr>\n",
       "      <th>0</th>\n",
       "      <td>0</td>\n",
       "      <td>Explanation\\nWhy the edits made under my usern...</td>\n",
       "      <td>0</td>\n",
       "    </tr>\n",
       "    <tr>\n",
       "      <th>1</th>\n",
       "      <td>1</td>\n",
       "      <td>D'aww! He matches this background colour I'm s...</td>\n",
       "      <td>0</td>\n",
       "    </tr>\n",
       "    <tr>\n",
       "      <th>2</th>\n",
       "      <td>2</td>\n",
       "      <td>Hey man, I'm really not trying to edit war. It...</td>\n",
       "      <td>0</td>\n",
       "    </tr>\n",
       "    <tr>\n",
       "      <th>3</th>\n",
       "      <td>3</td>\n",
       "      <td>\"\\nMore\\nI can't make any real suggestions on ...</td>\n",
       "      <td>0</td>\n",
       "    </tr>\n",
       "    <tr>\n",
       "      <th>4</th>\n",
       "      <td>4</td>\n",
       "      <td>You, sir, are my hero. Any chance you remember...</td>\n",
       "      <td>0</td>\n",
       "    </tr>\n",
       "    <tr>\n",
       "      <th>...</th>\n",
       "      <td>...</td>\n",
       "      <td>...</td>\n",
       "      <td>...</td>\n",
       "    </tr>\n",
       "    <tr>\n",
       "      <th>159287</th>\n",
       "      <td>159446</td>\n",
       "      <td>\":::::And for the second time of asking, when ...</td>\n",
       "      <td>0</td>\n",
       "    </tr>\n",
       "    <tr>\n",
       "      <th>159288</th>\n",
       "      <td>159447</td>\n",
       "      <td>You should be ashamed of yourself \\n\\nThat is ...</td>\n",
       "      <td>0</td>\n",
       "    </tr>\n",
       "    <tr>\n",
       "      <th>159289</th>\n",
       "      <td>159448</td>\n",
       "      <td>Spitzer \\n\\nUmm, theres no actual article for ...</td>\n",
       "      <td>0</td>\n",
       "    </tr>\n",
       "    <tr>\n",
       "      <th>159290</th>\n",
       "      <td>159449</td>\n",
       "      <td>And it looks like it was actually you who put ...</td>\n",
       "      <td>0</td>\n",
       "    </tr>\n",
       "    <tr>\n",
       "      <th>159291</th>\n",
       "      <td>159450</td>\n",
       "      <td>\"\\nAnd ... I really don't think you understand...</td>\n",
       "      <td>0</td>\n",
       "    </tr>\n",
       "  </tbody>\n",
       "</table>\n",
       "<p>159292 rows × 3 columns</p>\n",
       "</div>"
      ],
      "text/plain": [
       "        Unnamed: 0                                               text  toxic\n",
       "0                0  Explanation\\nWhy the edits made under my usern...      0\n",
       "1                1  D'aww! He matches this background colour I'm s...      0\n",
       "2                2  Hey man, I'm really not trying to edit war. It...      0\n",
       "3                3  \"\\nMore\\nI can't make any real suggestions on ...      0\n",
       "4                4  You, sir, are my hero. Any chance you remember...      0\n",
       "...            ...                                                ...    ...\n",
       "159287      159446  \":::::And for the second time of asking, when ...      0\n",
       "159288      159447  You should be ashamed of yourself \\n\\nThat is ...      0\n",
       "159289      159448  Spitzer \\n\\nUmm, theres no actual article for ...      0\n",
       "159290      159449  And it looks like it was actually you who put ...      0\n",
       "159291      159450  \"\\nAnd ... I really don't think you understand...      0\n",
       "\n",
       "[159292 rows x 3 columns]"
      ]
     },
     "execution_count": 11,
     "metadata": {},
     "output_type": "execute_result"
    }
   ],
   "source": [
    "df"
   ]
  },
  {
   "cell_type": "code",
   "execution_count": 12,
   "metadata": {
    "ExecuteTime": {
     "end_time": "2023-07-09T18:33:56.922421Z",
     "start_time": "2023-07-09T18:21:01.453574Z"
    }
   },
   "outputs": [
    {
     "data": {
      "application/vnd.jupyter.widget-view+json": {
       "model_id": "64eeddd771ef4e208fbfa91668e4a48e",
       "version_major": 2,
       "version_minor": 0
      },
      "text/plain": [
       "  0%|          | 0/159292 [00:00<?, ?it/s]"
      ]
     },
     "metadata": {},
     "output_type": "display_data"
    }
   ],
   "source": [
    "from tqdm.notebook import tqdm\n",
    "tqdm.pandas()\n",
    "\n",
    "df['lemm_text'] = df['text'].progress_apply(clear_text)"
   ]
  },
  {
   "cell_type": "code",
   "execution_count": 13,
   "metadata": {
    "ExecuteTime": {
     "end_time": "2023-07-09T18:33:56.970294Z",
     "start_time": "2023-07-09T18:33:56.923419Z"
    },
    "id": "XHYE4JlieWXT"
   },
   "outputs": [],
   "source": [
    "features = df['lemm_text']\n",
    "target = df['toxic']\n",
    "\n",
    "features_train, features_test, target_train_1, target_test_1 = train_test_split(features, target, \\\n",
    "                                                                            test_size=0.2, random_state=12345)\n",
    "\n",
    "features_train, features_valid, target_train_1, target_valid_1 = train_test_split(features_train, target_train_1, \\\n",
    "                                                                            test_size=0.25, random_state=12345)\n"
   ]
  },
  {
   "cell_type": "code",
   "execution_count": 17,
   "metadata": {
    "ExecuteTime": {
     "end_time": "2023-07-09T18:45:29.818904Z",
     "start_time": "2023-07-09T18:45:29.673786Z"
    },
    "colab": {
     "base_uri": "https://localhost:8080/"
    },
    "id": "9jkBZTB2eWXT",
    "outputId": "5635655a-36cb-43b1-9e44-5751cba447c8"
   },
   "outputs": [
    {
     "name": "stderr",
     "output_type": "stream",
     "text": [
      "[nltk_data] Downloading package stopwords to\n",
      "[nltk_data]     C:\\Users\\delo-\\AppData\\Roaming\\nltk_data...\n",
      "[nltk_data]   Package stopwords is already up-to-date!\n"
     ]
    }
   ],
   "source": [
    "from nltk.corpus import stopwords as nltk_stopwords\n",
    "nltk.download('stopwords')\n",
    "stopwords = set(nltk_stopwords.words('english'))"
   ]
  },
  {
   "cell_type": "code",
   "execution_count": 18,
   "metadata": {
    "ExecuteTime": {
     "end_time": "2023-07-09T18:45:37.953772Z",
     "start_time": "2023-07-09T18:45:31.539818Z"
    },
    "id": "gfhszXHCeWXT"
   },
   "outputs": [],
   "source": [
    "count_tf_idf = TfidfVectorizer(stop_words=list(stopwords))\n",
    "features_train_idf = count_tf_idf.fit_transform(features_train)\n",
    "features_test_idf = count_tf_idf.transform(features_test)\n",
    "features_valid_idf = count_tf_idf.transform(features_valid)"
   ]
  },
  {
   "cell_type": "code",
   "execution_count": 19,
   "metadata": {
    "ExecuteTime": {
     "end_time": "2023-07-09T18:45:39.237354Z",
     "start_time": "2023-07-09T18:45:39.222395Z"
    },
    "colab": {
     "base_uri": "https://localhost:8080/",
     "height": 86
    },
    "id": "GjGyY4OxeWXT",
    "outputId": "b5dc38c6-38af-4009-e5bb-73cca3a529aa"
   },
   "outputs": [
    {
     "data": {
      "text/plain": [
       "(95574, 129055)"
      ]
     },
     "metadata": {},
     "output_type": "display_data"
    },
    {
     "data": {
      "text/plain": [
       "(31859, 129055)"
      ]
     },
     "metadata": {},
     "output_type": "display_data"
    },
    {
     "data": {
      "text/plain": [
       "(31859, 129055)"
      ]
     },
     "metadata": {},
     "output_type": "display_data"
    },
    {
     "data": {
      "text/plain": [
       "(95574,)"
      ]
     },
     "metadata": {},
     "output_type": "display_data"
    },
    {
     "data": {
      "text/plain": [
       "(31859,)"
      ]
     },
     "metadata": {},
     "output_type": "display_data"
    },
    {
     "data": {
      "text/plain": [
       "(31859,)"
      ]
     },
     "metadata": {},
     "output_type": "display_data"
    }
   ],
   "source": [
    "display(features_train_idf.shape)\n",
    "display(features_test_idf.shape)\n",
    "display(features_valid_idf.shape)\n",
    "display(target_train_1.shape)\n",
    "display(target_test_1.shape)\n",
    "display(target_valid_1.shape)"
   ]
  },
  {
   "cell_type": "markdown",
   "metadata": {
    "colab": {
     "base_uri": "https://localhost:8080/"
    },
    "id": "Cnk-BoqnmnLo",
    "outputId": "b16589f9-27c6-4ad1-ceeb-eff8ae587464"
   },
   "source": [
    "CatBoost постоянно убивал ядро, поэтому я сократил выборку (только для catboost)"
   ]
  },
  {
   "cell_type": "code",
   "execution_count": 20,
   "metadata": {
    "ExecuteTime": {
     "end_time": "2023-07-09T18:45:39.768968Z",
     "start_time": "2023-07-09T18:45:39.759991Z"
    },
    "id": "3Ujzx50dmHBH"
   },
   "outputs": [],
   "source": [
    "features_train_cat = features_train[:6000]\n",
    "features_test_cat = features_test[:2000]\n",
    "features_valid_cat = features_valid[:2000]\n",
    "\n",
    "target_train_cat = target_train_1[:6000]\n",
    "target_test_cat = target_test_1[:2000]\n",
    "target_valid_cat = target_valid_1[:2000]"
   ]
  },
  {
   "cell_type": "code",
   "execution_count": 21,
   "metadata": {
    "ExecuteTime": {
     "end_time": "2023-07-09T18:45:40.286583Z",
     "start_time": "2023-07-09T18:45:39.803874Z"
    },
    "id": "Vj9owLVXmbxx"
   },
   "outputs": [],
   "source": [
    "features_train_cat = count_tf_idf.fit_transform(features_train_cat)\n",
    "features_test_cat = count_tf_idf.transform(features_test_cat)\n",
    "features_valid_cat = count_tf_idf.transform(features_valid_cat)"
   ]
  },
  {
   "cell_type": "code",
   "execution_count": 22,
   "metadata": {
    "ExecuteTime": {
     "end_time": "2023-07-09T18:45:40.301544Z",
     "start_time": "2023-07-09T18:45:40.288578Z"
    },
    "colab": {
     "base_uri": "https://localhost:8080/",
     "height": 52
    },
    "id": "xjs0TOuxm8pe",
    "outputId": "dff629f5-3510-4499-d333-ada6f1978d44"
   },
   "outputs": [
    {
     "data": {
      "text/plain": [
       "(6000, 23480)"
      ]
     },
     "metadata": {},
     "output_type": "display_data"
    },
    {
     "data": {
      "text/plain": [
       "(2000, 23480)"
      ]
     },
     "metadata": {},
     "output_type": "display_data"
    },
    {
     "data": {
      "text/plain": [
       "(2000, 23480)"
      ]
     },
     "execution_count": 22,
     "metadata": {},
     "output_type": "execute_result"
    }
   ],
   "source": [
    "display(features_train_cat.shape)\n",
    "display(features_test_cat.shape)\n",
    "features_valid_cat.shape"
   ]
  },
  {
   "cell_type": "markdown",
   "metadata": {},
   "source": [
    "## Обучение"
   ]
  },
  {
   "cell_type": "markdown",
   "metadata": {},
   "source": [
    "### CatBoost"
   ]
  },
  {
   "cell_type": "code",
   "execution_count": 26,
   "metadata": {
    "ExecuteTime": {
     "end_time": "2023-07-09T18:51:49.990205Z",
     "start_time": "2023-07-09T18:45:40.350413Z"
    },
    "scrolled": true
   },
   "outputs": [
    {
     "name": "stdout",
     "output_type": "stream",
     "text": [
      "0:\tlearn: 0.4125592\ttotal: 158ms\tremaining: 7.73s\n",
      "10:\tlearn: 0.2287147\ttotal: 367ms\tremaining: 1.3s\n",
      "20:\tlearn: 0.2044741\ttotal: 586ms\tremaining: 809ms\n",
      "30:\tlearn: 0.1823484\ttotal: 773ms\tremaining: 474ms\n",
      "40:\tlearn: 0.1699149\ttotal: 950ms\tremaining: 209ms\n",
      "49:\tlearn: 0.1583551\ttotal: 1.1s\tremaining: 0us\n",
      "0:\tlearn: 0.4375281\ttotal: 18.3ms\tremaining: 896ms\n",
      "10:\tlearn: 0.2300027\ttotal: 193ms\tremaining: 684ms\n",
      "20:\tlearn: 0.1991806\ttotal: 393ms\tremaining: 542ms\n",
      "30:\tlearn: 0.1815484\ttotal: 587ms\tremaining: 360ms\n",
      "40:\tlearn: 0.1690837\ttotal: 784ms\tremaining: 172ms\n",
      "49:\tlearn: 0.1571250\ttotal: 955ms\tremaining: 0us\n",
      "0:\tlearn: 0.4367547\ttotal: 18.4ms\tremaining: 902ms\n",
      "10:\tlearn: 0.2263456\ttotal: 192ms\tremaining: 681ms\n",
      "20:\tlearn: 0.1979809\ttotal: 371ms\tremaining: 512ms\n",
      "30:\tlearn: 0.1790905\ttotal: 545ms\tremaining: 334ms\n",
      "40:\tlearn: 0.1658688\ttotal: 723ms\tremaining: 159ms\n",
      "49:\tlearn: 0.1573206\ttotal: 916ms\tremaining: 0us\n",
      "0:\tlearn: 0.3726025\ttotal: 20.5ms\tremaining: 1s\n",
      "10:\tlearn: 0.2201425\ttotal: 207ms\tremaining: 733ms\n",
      "20:\tlearn: 0.1909366\ttotal: 403ms\tremaining: 556ms\n",
      "30:\tlearn: 0.1693721\ttotal: 588ms\tremaining: 360ms\n",
      "40:\tlearn: 0.1548686\ttotal: 785ms\tremaining: 172ms\n",
      "49:\tlearn: 0.1453987\ttotal: 961ms\tremaining: 0us\n",
      "0:\tlearn: 0.4002301\ttotal: 19.5ms\tremaining: 955ms\n",
      "10:\tlearn: 0.2234928\ttotal: 216ms\tremaining: 765ms\n",
      "20:\tlearn: 0.1932531\ttotal: 405ms\tremaining: 559ms\n",
      "30:\tlearn: 0.1709987\ttotal: 608ms\tremaining: 372ms\n",
      "40:\tlearn: 0.1560698\ttotal: 856ms\tremaining: 188ms\n",
      "49:\tlearn: 0.1459470\ttotal: 1.06s\tremaining: 0us\n",
      "0:\tlearn: 0.3993268\ttotal: 23.5ms\tremaining: 1.15s\n",
      "10:\tlearn: 0.2183525\ttotal: 273ms\tremaining: 969ms\n",
      "20:\tlearn: 0.1886463\ttotal: 488ms\tremaining: 675ms\n",
      "30:\tlearn: 0.1708955\ttotal: 713ms\tremaining: 437ms\n",
      "40:\tlearn: 0.1566376\ttotal: 905ms\tremaining: 199ms\n",
      "49:\tlearn: 0.1451992\ttotal: 1.08s\tremaining: 0us\n",
      "0:\tlearn: 0.3425344\ttotal: 21.8ms\tremaining: 1.07s\n",
      "10:\tlearn: 0.2111593\ttotal: 207ms\tremaining: 733ms\n",
      "20:\tlearn: 0.1764313\ttotal: 401ms\tremaining: 553ms\n",
      "30:\tlearn: 0.1565305\ttotal: 623ms\tremaining: 382ms\n",
      "40:\tlearn: 0.1423991\ttotal: 849ms\tremaining: 186ms\n",
      "49:\tlearn: 0.1330751\ttotal: 1.02s\tremaining: 0us\n",
      "0:\tlearn: 0.3718665\ttotal: 17.5ms\tremaining: 856ms\n",
      "10:\tlearn: 0.2142557\ttotal: 199ms\tremaining: 704ms\n",
      "20:\tlearn: 0.1803343\ttotal: 397ms\tremaining: 548ms\n",
      "30:\tlearn: 0.1573359\ttotal: 582ms\tremaining: 357ms\n",
      "40:\tlearn: 0.1419075\ttotal: 757ms\tremaining: 166ms\n",
      "49:\tlearn: 0.1317739\ttotal: 934ms\tremaining: 0us\n",
      "0:\tlearn: 0.3708847\ttotal: 22.2ms\tremaining: 1.09s\n",
      "10:\tlearn: 0.2104320\ttotal: 214ms\tremaining: 759ms\n",
      "20:\tlearn: 0.1784331\ttotal: 404ms\tremaining: 558ms\n",
      "30:\tlearn: 0.1595454\ttotal: 578ms\tremaining: 354ms\n",
      "40:\tlearn: 0.1425471\ttotal: 766ms\tremaining: 168ms\n",
      "49:\tlearn: 0.1308711\ttotal: 947ms\tremaining: 0us\n",
      "0:\tlearn: 0.3211341\ttotal: 20ms\tremaining: 979ms\n",
      "10:\tlearn: 0.2055482\ttotal: 191ms\tremaining: 677ms\n",
      "20:\tlearn: 0.1707289\ttotal: 365ms\tremaining: 505ms\n",
      "30:\tlearn: 0.1512563\ttotal: 535ms\tremaining: 328ms\n",
      "40:\tlearn: 0.1359028\ttotal: 710ms\tremaining: 156ms\n",
      "49:\tlearn: 0.1240648\ttotal: 862ms\tremaining: 0us\n",
      "0:\tlearn: 0.3514337\ttotal: 18ms\tremaining: 883ms\n",
      "10:\tlearn: 0.2102224\ttotal: 209ms\tremaining: 741ms\n",
      "20:\tlearn: 0.1733666\ttotal: 397ms\tremaining: 549ms\n",
      "30:\tlearn: 0.1472397\ttotal: 593ms\tremaining: 363ms\n",
      "40:\tlearn: 0.1328592\ttotal: 785ms\tremaining: 172ms\n",
      "49:\tlearn: 0.1215576\ttotal: 948ms\tremaining: 0us\n",
      "0:\tlearn: 0.3504196\ttotal: 20.2ms\tremaining: 992ms\n",
      "10:\tlearn: 0.2008008\ttotal: 218ms\tremaining: 774ms\n",
      "20:\tlearn: 0.1687268\ttotal: 419ms\tremaining: 578ms\n",
      "30:\tlearn: 0.1485271\ttotal: 621ms\tremaining: 380ms\n",
      "40:\tlearn: 0.1328341\ttotal: 806ms\tremaining: 177ms\n",
      "49:\tlearn: 0.1229000\ttotal: 966ms\tremaining: 0us\n",
      "0:\tlearn: 0.3071820\ttotal: 22.4ms\tremaining: 1.1s\n",
      "10:\tlearn: 0.1988103\ttotal: 270ms\tremaining: 957ms\n",
      "20:\tlearn: 0.1591733\ttotal: 494ms\tremaining: 682ms\n",
      "30:\tlearn: 0.1372865\ttotal: 742ms\tremaining: 455ms\n",
      "40:\tlearn: 0.1225392\ttotal: 942ms\tremaining: 207ms\n",
      "49:\tlearn: 0.1112323\ttotal: 1.11s\tremaining: 0us\n",
      "0:\tlearn: 0.3379598\ttotal: 17.8ms\tremaining: 873ms\n",
      "10:\tlearn: 0.2063705\ttotal: 195ms\tremaining: 693ms\n",
      "20:\tlearn: 0.1654641\ttotal: 365ms\tremaining: 504ms\n",
      "30:\tlearn: 0.1404384\ttotal: 535ms\tremaining: 328ms\n",
      "40:\tlearn: 0.1211309\ttotal: 707ms\tremaining: 155ms\n",
      "49:\tlearn: 0.1108518\ttotal: 871ms\tremaining: 0us\n",
      "0:\tlearn: 0.3369420\ttotal: 18.3ms\tremaining: 897ms\n",
      "10:\tlearn: 0.1980824\ttotal: 192ms\tremaining: 681ms\n",
      "20:\tlearn: 0.1636749\ttotal: 367ms\tremaining: 507ms\n",
      "30:\tlearn: 0.1410431\ttotal: 541ms\tremaining: 332ms\n",
      "40:\tlearn: 0.1264438\ttotal: 715ms\tremaining: 157ms\n",
      "49:\tlearn: 0.1150922\ttotal: 873ms\tremaining: 0us\n",
      "0:\tlearn: 0.2995473\ttotal: 17.7ms\tremaining: 866ms\n",
      "10:\tlearn: 0.1927239\ttotal: 185ms\tremaining: 654ms\n",
      "20:\tlearn: 0.1581448\ttotal: 353ms\tremaining: 488ms\n",
      "30:\tlearn: 0.1369134\ttotal: 523ms\tremaining: 320ms\n",
      "40:\tlearn: 0.1172136\ttotal: 691ms\tremaining: 152ms\n",
      "49:\tlearn: 0.1058759\ttotal: 842ms\tremaining: 0us\n",
      "0:\tlearn: 0.3305009\ttotal: 17.5ms\tremaining: 855ms\n",
      "10:\tlearn: 0.2022567\ttotal: 185ms\tremaining: 658ms\n",
      "20:\tlearn: 0.1611735\ttotal: 356ms\tremaining: 491ms\n",
      "30:\tlearn: 0.1349818\ttotal: 525ms\tremaining: 322ms\n",
      "40:\tlearn: 0.1176173\ttotal: 694ms\tremaining: 152ms\n",
      "49:\tlearn: 0.1017317\ttotal: 846ms\tremaining: 0us\n",
      "0:\tlearn: 0.3295062\ttotal: 18.2ms\tremaining: 893ms\n",
      "10:\tlearn: 0.1933724\ttotal: 192ms\tremaining: 681ms\n",
      "20:\tlearn: 0.1604657\ttotal: 366ms\tremaining: 506ms\n",
      "30:\tlearn: 0.1382695\ttotal: 540ms\tremaining: 331ms\n",
      "40:\tlearn: 0.1206704\ttotal: 715ms\tremaining: 157ms\n",
      "49:\tlearn: 0.1089650\ttotal: 871ms\tremaining: 0us\n",
      "0:\tlearn: 0.4058380\ttotal: 27.3ms\tremaining: 1.33s\n",
      "10:\tlearn: 0.2139920\ttotal: 293ms\tremaining: 1.04s\n",
      "20:\tlearn: 0.1814502\ttotal: 552ms\tremaining: 762ms\n",
      "30:\tlearn: 0.1616584\ttotal: 811ms\tremaining: 497ms\n",
      "40:\tlearn: 0.1460531\ttotal: 1.07s\tremaining: 235ms\n",
      "49:\tlearn: 0.1358654\ttotal: 1.3s\tremaining: 0us\n",
      "0:\tlearn: 0.4365635\ttotal: 27.5ms\tremaining: 1.35s\n",
      "10:\tlearn: 0.2164117\ttotal: 288ms\tremaining: 1.02s\n",
      "20:\tlearn: 0.1845791\ttotal: 548ms\tremaining: 757ms\n",
      "30:\tlearn: 0.1615626\ttotal: 809ms\tremaining: 496ms\n",
      "40:\tlearn: 0.1468750\ttotal: 1.07s\tremaining: 235ms\n",
      "49:\tlearn: 0.1345338\ttotal: 1.31s\tremaining: 0us\n",
      "0:\tlearn: 0.4366361\ttotal: 28.5ms\tremaining: 1.4s\n",
      "10:\tlearn: 0.2171513\ttotal: 298ms\tremaining: 1.05s\n",
      "20:\tlearn: 0.1886372\ttotal: 567ms\tremaining: 783ms\n",
      "30:\tlearn: 0.1663444\ttotal: 834ms\tremaining: 511ms\n",
      "40:\tlearn: 0.1496382\ttotal: 1.1s\tremaining: 242ms\n",
      "49:\tlearn: 0.1389984\ttotal: 1.34s\tremaining: 0us\n",
      "0:\tlearn: 0.3662256\ttotal: 27.2ms\tremaining: 1.33s\n",
      "10:\tlearn: 0.1984822\ttotal: 285ms\tremaining: 1.01s\n",
      "20:\tlearn: 0.1700002\ttotal: 559ms\tremaining: 771ms\n",
      "30:\tlearn: 0.1491965\ttotal: 853ms\tremaining: 523ms\n",
      "40:\tlearn: 0.1344253\ttotal: 1.14s\tremaining: 249ms\n",
      "49:\tlearn: 0.1215516\ttotal: 1.39s\tremaining: 0us\n",
      "0:\tlearn: 0.3991956\ttotal: 30.3ms\tremaining: 1.49s\n",
      "10:\tlearn: 0.2088856\ttotal: 312ms\tremaining: 1.11s\n",
      "20:\tlearn: 0.1722519\ttotal: 571ms\tremaining: 789ms\n",
      "30:\tlearn: 0.1491535\ttotal: 833ms\tremaining: 511ms\n",
      "40:\tlearn: 0.1316322\ttotal: 1.09s\tremaining: 240ms\n",
      "49:\tlearn: 0.1216665\ttotal: 1.33s\tremaining: 0us\n",
      "0:\tlearn: 0.3992093\ttotal: 28.3ms\tremaining: 1.39s\n",
      "10:\tlearn: 0.2063192\ttotal: 295ms\tremaining: 1.04s\n",
      "20:\tlearn: 0.1735079\ttotal: 563ms\tremaining: 778ms\n",
      "30:\tlearn: 0.1500964\ttotal: 834ms\tremaining: 511ms\n",
      "40:\tlearn: 0.1358259\ttotal: 1.1s\tremaining: 242ms\n",
      "49:\tlearn: 0.1252522\ttotal: 1.34s\tremaining: 0us\n",
      "0:\tlearn: 0.3367023\ttotal: 26.9ms\tremaining: 1.32s\n",
      "10:\tlearn: 0.1905524\ttotal: 283ms\tremaining: 1s\n",
      "20:\tlearn: 0.1577701\ttotal: 538ms\tremaining: 743ms\n",
      "30:\tlearn: 0.1359961\ttotal: 797ms\tremaining: 489ms\n",
      "40:\tlearn: 0.1206128\ttotal: 1.05s\tremaining: 231ms\n",
      "49:\tlearn: 0.1095933\ttotal: 1.28s\tremaining: 0us\n",
      "0:\tlearn: 0.3708219\ttotal: 27.2ms\tremaining: 1.33s\n",
      "10:\tlearn: 0.1981186\ttotal: 287ms\tremaining: 1.02s\n",
      "20:\tlearn: 0.1602561\ttotal: 547ms\tremaining: 756ms\n",
      "30:\tlearn: 0.1378259\ttotal: 805ms\tremaining: 493ms\n",
      "40:\tlearn: 0.1211079\ttotal: 1.06s\tremaining: 234ms\n",
      "49:\tlearn: 0.1090278\ttotal: 1.3s\tremaining: 0us\n",
      "0:\tlearn: 0.3707731\ttotal: 28.1ms\tremaining: 1.38s\n",
      "10:\tlearn: 0.2003697\ttotal: 297ms\tremaining: 1.05s\n",
      "20:\tlearn: 0.1624788\ttotal: 565ms\tremaining: 780ms\n",
      "30:\tlearn: 0.1379499\ttotal: 831ms\tremaining: 510ms\n",
      "40:\tlearn: 0.1228543\ttotal: 1.1s\tremaining: 242ms\n",
      "49:\tlearn: 0.1117010\ttotal: 1.35s\tremaining: 0us\n",
      "0:\tlearn: 0.3158414\ttotal: 27ms\tremaining: 1.32s\n",
      "10:\tlearn: 0.1848590\ttotal: 283ms\tremaining: 1s\n",
      "20:\tlearn: 0.1508252\ttotal: 539ms\tremaining: 745ms\n",
      "30:\tlearn: 0.1276251\ttotal: 797ms\tremaining: 488ms\n",
      "40:\tlearn: 0.1105084\ttotal: 1.05s\tremaining: 231ms\n",
      "49:\tlearn: 0.0996335\ttotal: 1.28s\tremaining: 0us\n",
      "0:\tlearn: 0.3503990\ttotal: 27ms\tremaining: 1.32s\n",
      "10:\tlearn: 0.1970499\ttotal: 284ms\tremaining: 1s\n",
      "20:\tlearn: 0.1507254\ttotal: 540ms\tremaining: 746ms\n",
      "30:\tlearn: 0.1258567\ttotal: 806ms\tremaining: 494ms\n",
      "40:\tlearn: 0.1096345\ttotal: 1.06s\tremaining: 234ms\n",
      "49:\tlearn: 0.0980725\ttotal: 1.3s\tremaining: 0us\n",
      "0:\tlearn: 0.3503172\ttotal: 28.6ms\tremaining: 1.4s\n",
      "10:\tlearn: 0.1927563\ttotal: 294ms\tremaining: 1.04s\n",
      "20:\tlearn: 0.1549164\ttotal: 558ms\tremaining: 771ms\n",
      "30:\tlearn: 0.1269760\ttotal: 823ms\tremaining: 504ms\n",
      "40:\tlearn: 0.1116949\ttotal: 1.09s\tremaining: 239ms\n",
      "49:\tlearn: 0.1009305\ttotal: 1.32s\tremaining: 0us\n",
      "0:\tlearn: 0.3023110\ttotal: 26.9ms\tremaining: 1.32s\n",
      "10:\tlearn: 0.1832265\ttotal: 283ms\tremaining: 1s\n",
      "20:\tlearn: 0.1401335\ttotal: 544ms\tremaining: 751ms\n",
      "30:\tlearn: 0.1165030\ttotal: 835ms\tremaining: 512ms\n",
      "40:\tlearn: 0.1001153\ttotal: 1.11s\tremaining: 244ms\n",
      "49:\tlearn: 0.0874122\ttotal: 1.36s\tremaining: 0us\n",
      "0:\tlearn: 0.3369271\ttotal: 31.4ms\tremaining: 1.54s\n",
      "10:\tlearn: 0.1925919\ttotal: 322ms\tremaining: 1.14s\n",
      "20:\tlearn: 0.1448918\ttotal: 581ms\tremaining: 802ms\n",
      "30:\tlearn: 0.1187480\ttotal: 839ms\tremaining: 514ms\n",
      "40:\tlearn: 0.1039586\ttotal: 1.09s\tremaining: 240ms\n",
      "49:\tlearn: 0.0893548\ttotal: 1.33s\tremaining: 0us\n",
      "0:\tlearn: 0.3368477\ttotal: 28ms\tremaining: 1.37s\n",
      "10:\tlearn: 0.1845419\ttotal: 292ms\tremaining: 1.03s\n",
      "20:\tlearn: 0.1447279\ttotal: 557ms\tremaining: 769ms\n",
      "30:\tlearn: 0.1181262\ttotal: 823ms\tremaining: 504ms\n",
      "40:\tlearn: 0.1015795\ttotal: 1.09s\tremaining: 239ms\n",
      "49:\tlearn: 0.0884137\ttotal: 1.33s\tremaining: 0us\n",
      "0:\tlearn: 0.2949386\ttotal: 27.3ms\tremaining: 1.34s\n",
      "10:\tlearn: 0.1760550\ttotal: 289ms\tremaining: 1.02s\n",
      "20:\tlearn: 0.1386397\ttotal: 547ms\tremaining: 756ms\n",
      "30:\tlearn: 0.1150509\ttotal: 804ms\tremaining: 493ms\n",
      "40:\tlearn: 0.0969212\ttotal: 1.06s\tremaining: 233ms\n",
      "49:\tlearn: 0.0816588\ttotal: 1.3s\tremaining: 0us\n",
      "0:\tlearn: 0.3294753\ttotal: 27.3ms\tremaining: 1.34s\n",
      "10:\tlearn: 0.1809731\ttotal: 286ms\tremaining: 1.01s\n",
      "20:\tlearn: 0.1348712\ttotal: 544ms\tremaining: 751ms\n",
      "30:\tlearn: 0.1076728\ttotal: 805ms\tremaining: 493ms\n",
      "40:\tlearn: 0.0898842\ttotal: 1.06s\tremaining: 234ms\n",
      "49:\tlearn: 0.0773018\ttotal: 1.3s\tremaining: 0us\n",
      "0:\tlearn: 0.3294061\ttotal: 28.1ms\tremaining: 1.37s\n",
      "10:\tlearn: 0.1822060\ttotal: 299ms\tremaining: 1.06s\n",
      "20:\tlearn: 0.1427369\ttotal: 566ms\tremaining: 781ms\n",
      "30:\tlearn: 0.1147294\ttotal: 831ms\tremaining: 509ms\n",
      "40:\tlearn: 0.0977214\ttotal: 1.09s\tremaining: 240ms\n",
      "49:\tlearn: 0.0839455\ttotal: 1.33s\tremaining: 0us\n",
      "0:\tlearn: 0.4056618\ttotal: 40.1ms\tremaining: 1.96s\n",
      "10:\tlearn: 0.2070814\ttotal: 409ms\tremaining: 1.45s\n",
      "20:\tlearn: 0.1782488\ttotal: 778ms\tremaining: 1.07s\n",
      "30:\tlearn: 0.1546258\ttotal: 1.15s\tremaining: 704ms\n",
      "40:\tlearn: 0.1335905\ttotal: 1.52s\tremaining: 333ms\n",
      "49:\tlearn: 0.1226907\ttotal: 1.85s\tremaining: 0us\n",
      "0:\tlearn: 0.4366063\ttotal: 40.1ms\tremaining: 1.96s\n",
      "10:\tlearn: 0.2080706\ttotal: 414ms\tremaining: 1.47s\n",
      "20:\tlearn: 0.1753547\ttotal: 786ms\tremaining: 1.08s\n",
      "30:\tlearn: 0.1493594\ttotal: 1.16s\tremaining: 710ms\n",
      "40:\tlearn: 0.1324850\ttotal: 1.53s\tremaining: 336ms\n",
      "49:\tlearn: 0.1225959\ttotal: 1.86s\tremaining: 0us\n",
      "0:\tlearn: 0.4363121\ttotal: 42.4ms\tremaining: 2.08s\n",
      "10:\tlearn: 0.2055956\ttotal: 435ms\tremaining: 1.54s\n",
      "20:\tlearn: 0.1741305\ttotal: 829ms\tremaining: 1.15s\n",
      "30:\tlearn: 0.1508406\ttotal: 1.22s\tremaining: 747ms\n",
      "40:\tlearn: 0.1322229\ttotal: 1.63s\tremaining: 358ms\n",
      "49:\tlearn: 0.1204639\ttotal: 2.03s\tremaining: 0us\n",
      "0:\tlearn: 0.3660396\ttotal: 42.6ms\tremaining: 2.09s\n",
      "10:\tlearn: 0.1921349\ttotal: 469ms\tremaining: 1.66s\n",
      "20:\tlearn: 0.1630990\ttotal: 868ms\tremaining: 1.2s\n",
      "30:\tlearn: 0.1363472\ttotal: 1.24s\tremaining: 759ms\n",
      "40:\tlearn: 0.1192183\ttotal: 1.61s\tremaining: 353ms\n",
      "49:\tlearn: 0.1074523\ttotal: 1.94s\tremaining: 0us\n",
      "0:\tlearn: 0.3992335\ttotal: 39.9ms\tremaining: 1.96s\n",
      "10:\tlearn: 0.1954345\ttotal: 413ms\tremaining: 1.46s\n",
      "20:\tlearn: 0.1595652\ttotal: 786ms\tremaining: 1.08s\n",
      "30:\tlearn: 0.1304896\ttotal: 1.16s\tremaining: 710ms\n",
      "40:\tlearn: 0.1149739\ttotal: 1.53s\tremaining: 336ms\n",
      "49:\tlearn: 0.1047881\ttotal: 1.87s\tremaining: 0us\n",
      "0:\tlearn: 0.3988777\ttotal: 41.8ms\tremaining: 2.05s\n",
      "10:\tlearn: 0.1979911\ttotal: 429ms\tremaining: 1.52s\n",
      "20:\tlearn: 0.1615049\ttotal: 819ms\tremaining: 1.13s\n",
      "30:\tlearn: 0.1364798\ttotal: 1.2s\tremaining: 738ms\n",
      "40:\tlearn: 0.1178004\ttotal: 1.59s\tremaining: 349ms\n",
      "49:\tlearn: 0.1062867\ttotal: 1.93s\tremaining: 0us\n",
      "0:\tlearn: 0.3365260\ttotal: 40.1ms\tremaining: 1.97s\n",
      "10:\tlearn: 0.1850840\ttotal: 411ms\tremaining: 1.46s\n",
      "20:\tlearn: 0.1477875\ttotal: 782ms\tremaining: 1.08s\n",
      "30:\tlearn: 0.1245758\ttotal: 1.15s\tremaining: 706ms\n",
      "40:\tlearn: 0.1082458\ttotal: 1.52s\tremaining: 334ms\n",
      "49:\tlearn: 0.0970252\ttotal: 1.86s\tremaining: 0us\n",
      "0:\tlearn: 0.3708363\ttotal: 40.2ms\tremaining: 1.97s\n",
      "10:\tlearn: 0.1820139\ttotal: 413ms\tremaining: 1.47s\n",
      "20:\tlearn: 0.1437616\ttotal: 786ms\tremaining: 1.09s\n",
      "30:\tlearn: 0.1216824\ttotal: 1.18s\tremaining: 725ms\n",
      "40:\tlearn: 0.1032180\ttotal: 1.55s\tremaining: 341ms\n",
      "49:\tlearn: 0.0913538\ttotal: 1.91s\tremaining: 0us\n",
      "0:\tlearn: 0.3704451\ttotal: 41.2ms\tremaining: 2.02s\n",
      "10:\tlearn: 0.1852657\ttotal: 424ms\tremaining: 1.5s\n",
      "20:\tlearn: 0.1454462\ttotal: 809ms\tremaining: 1.12s\n",
      "30:\tlearn: 0.1206525\ttotal: 1.19s\tremaining: 731ms\n",
      "40:\tlearn: 0.1042092\ttotal: 1.57s\tremaining: 346ms\n",
      "49:\tlearn: 0.0910897\ttotal: 1.92s\tremaining: 0us\n",
      "0:\tlearn: 0.3156678\ttotal: 40.6ms\tremaining: 1.99s\n",
      "10:\tlearn: 0.1742780\ttotal: 411ms\tremaining: 1.46s\n",
      "20:\tlearn: 0.1372608\ttotal: 782ms\tremaining: 1.08s\n",
      "30:\tlearn: 0.1102491\ttotal: 1.17s\tremaining: 720ms\n",
      "40:\tlearn: 0.0933146\ttotal: 1.6s\tremaining: 352ms\n",
      "49:\tlearn: 0.0811372\ttotal: 1.98s\tremaining: 0us\n",
      "0:\tlearn: 0.3503976\ttotal: 44.3ms\tremaining: 2.17s\n",
      "10:\tlearn: 0.1817758\ttotal: 439ms\tremaining: 1.55s\n",
      "20:\tlearn: 0.1382133\ttotal: 815ms\tremaining: 1.13s\n",
      "30:\tlearn: 0.1156318\ttotal: 1.19s\tremaining: 729ms\n",
      "40:\tlearn: 0.0946911\ttotal: 1.56s\tremaining: 343ms\n",
      "49:\tlearn: 0.0833761\ttotal: 1.9s\tremaining: 0us\n",
      "0:\tlearn: 0.3499807\ttotal: 41.8ms\tremaining: 2.05s\n",
      "10:\tlearn: 0.1781569\ttotal: 425ms\tremaining: 1.5s\n",
      "20:\tlearn: 0.1368364\ttotal: 808ms\tremaining: 1.11s\n",
      "30:\tlearn: 0.1145492\ttotal: 1.19s\tremaining: 730ms\n",
      "40:\tlearn: 0.0962186\ttotal: 1.57s\tremaining: 346ms\n",
      "49:\tlearn: 0.0820050\ttotal: 1.92s\tremaining: 0us\n",
      "0:\tlearn: 0.3021313\ttotal: 40.1ms\tremaining: 1.97s\n",
      "10:\tlearn: 0.1655502\ttotal: 414ms\tremaining: 1.47s\n",
      "20:\tlearn: 0.1297190\ttotal: 795ms\tremaining: 1.1s\n",
      "30:\tlearn: 0.1036517\ttotal: 1.17s\tremaining: 715ms\n",
      "40:\tlearn: 0.0859814\ttotal: 1.54s\tremaining: 338ms\n",
      "49:\tlearn: 0.0735083\ttotal: 1.87s\tremaining: 0us\n",
      "0:\tlearn: 0.3369106\ttotal: 40.3ms\tremaining: 1.97s\n",
      "10:\tlearn: 0.1736007\ttotal: 414ms\tremaining: 1.47s\n",
      "20:\tlearn: 0.1291299\ttotal: 789ms\tremaining: 1.09s\n",
      "30:\tlearn: 0.1039434\ttotal: 1.16s\tremaining: 712ms\n",
      "40:\tlearn: 0.0850233\ttotal: 1.55s\tremaining: 341ms\n",
      "49:\tlearn: 0.0737980\ttotal: 1.89s\tremaining: 0us\n",
      "0:\tlearn: 0.3364845\ttotal: 42.2ms\tremaining: 2.07s\n",
      "10:\tlearn: 0.1702956\ttotal: 434ms\tremaining: 1.54s\n",
      "20:\tlearn: 0.1267660\ttotal: 819ms\tremaining: 1.13s\n",
      "30:\tlearn: 0.1041639\ttotal: 1.2s\tremaining: 738ms\n",
      "40:\tlearn: 0.0866098\ttotal: 1.59s\tremaining: 348ms\n",
      "49:\tlearn: 0.0735907\ttotal: 1.93s\tremaining: 0us\n",
      "0:\tlearn: 0.2947510\ttotal: 40.3ms\tremaining: 1.97s\n",
      "10:\tlearn: 0.1638452\ttotal: 410ms\tremaining: 1.45s\n",
      "20:\tlearn: 0.1207370\ttotal: 782ms\tremaining: 1.08s\n",
      "30:\tlearn: 0.0967262\ttotal: 1.15s\tremaining: 706ms\n",
      "40:\tlearn: 0.0772223\ttotal: 1.52s\tremaining: 334ms\n",
      "49:\tlearn: 0.0649204\ttotal: 1.86s\tremaining: 0us\n",
      "0:\tlearn: 0.3294391\ttotal: 40.4ms\tremaining: 1.98s\n",
      "10:\tlearn: 0.1682433\ttotal: 413ms\tremaining: 1.47s\n",
      "20:\tlearn: 0.1172612\ttotal: 806ms\tremaining: 1.11s\n",
      "30:\tlearn: 0.0951496\ttotal: 1.23s\tremaining: 754ms\n",
      "40:\tlearn: 0.0756098\ttotal: 1.64s\tremaining: 359ms\n",
      "49:\tlearn: 0.0658362\ttotal: 2.02s\tremaining: 0us\n",
      "0:\tlearn: 0.3290192\ttotal: 41.6ms\tremaining: 2.04s\n",
      "10:\tlearn: 0.1657027\ttotal: 425ms\tremaining: 1.51s\n",
      "20:\tlearn: 0.1233592\ttotal: 811ms\tremaining: 1.12s\n",
      "30:\tlearn: 0.0962936\ttotal: 1.19s\tremaining: 732ms\n",
      "40:\tlearn: 0.0785489\ttotal: 1.58s\tremaining: 347ms\n",
      "49:\tlearn: 0.0664937\ttotal: 1.93s\tremaining: 0us\n",
      "0:\tlearn: 0.4058333\ttotal: 57.3ms\tremaining: 2.81s\n",
      "10:\tlearn: 0.2005614\ttotal: 589ms\tremaining: 2.09s\n",
      "20:\tlearn: 0.1690082\ttotal: 1.12s\tremaining: 1.55s\n",
      "30:\tlearn: 0.1421637\ttotal: 1.67s\tremaining: 1.02s\n",
      "40:\tlearn: 0.1229434\ttotal: 2.2s\tremaining: 484ms\n",
      "49:\tlearn: 0.1115868\ttotal: 2.69s\tremaining: 0us\n",
      "0:\tlearn: 0.4366455\ttotal: 62.3ms\tremaining: 3.06s\n",
      "10:\tlearn: 0.2038757\ttotal: 603ms\tremaining: 2.14s\n",
      "20:\tlearn: 0.1659363\ttotal: 1.14s\tremaining: 1.57s\n",
      "30:\tlearn: 0.1392574\ttotal: 1.68s\tremaining: 1.03s\n",
      "40:\tlearn: 0.1214833\ttotal: 2.21s\tremaining: 486ms\n",
      "49:\tlearn: 0.1083849\ttotal: 2.69s\tremaining: 0us\n",
      "0:\tlearn: 0.4359675\ttotal: 60.4ms\tremaining: 2.96s\n",
      "10:\tlearn: 0.2077221\ttotal: 615ms\tremaining: 2.18s\n",
      "20:\tlearn: 0.1696039\ttotal: 1.16s\tremaining: 1.6s\n",
      "30:\tlearn: 0.1435234\ttotal: 1.71s\tremaining: 1.05s\n",
      "40:\tlearn: 0.1212921\ttotal: 2.26s\tremaining: 497ms\n",
      "49:\tlearn: 0.1092094\ttotal: 2.76s\tremaining: 0us\n",
      "0:\tlearn: 0.3662087\ttotal: 57.9ms\tremaining: 2.84s\n",
      "10:\tlearn: 0.1905244\ttotal: 593ms\tremaining: 2.1s\n",
      "20:\tlearn: 0.1581624\ttotal: 1.13s\tremaining: 1.56s\n",
      "30:\tlearn: 0.1282608\ttotal: 1.66s\tremaining: 1.02s\n",
      "40:\tlearn: 0.1094995\ttotal: 2.2s\tremaining: 482ms\n",
      "49:\tlearn: 0.0974501\ttotal: 2.71s\tremaining: 0us\n",
      "0:\tlearn: 0.3992651\ttotal: 61.8ms\tremaining: 3.03s\n",
      "10:\tlearn: 0.1943805\ttotal: 683ms\tremaining: 2.42s\n",
      "20:\tlearn: 0.1531145\ttotal: 1.27s\tremaining: 1.75s\n",
      "30:\tlearn: 0.1278551\ttotal: 1.81s\tremaining: 1.11s\n",
      "40:\tlearn: 0.1072802\ttotal: 2.35s\tremaining: 515ms\n",
      "49:\tlearn: 0.0951700\ttotal: 2.83s\tremaining: 0us\n",
      "0:\tlearn: 0.3985052\ttotal: 59.8ms\tremaining: 2.93s\n",
      "10:\tlearn: 0.1930550\ttotal: 616ms\tremaining: 2.18s\n",
      "20:\tlearn: 0.1549623\ttotal: 1.17s\tremaining: 1.62s\n",
      "30:\tlearn: 0.1296526\ttotal: 1.73s\tremaining: 1.06s\n",
      "40:\tlearn: 0.1078578\ttotal: 2.28s\tremaining: 500ms\n",
      "49:\tlearn: 0.0955229\ttotal: 2.78s\tremaining: 0us\n",
      "0:\tlearn: 0.3366845\ttotal: 57.3ms\tremaining: 2.81s\n",
      "10:\tlearn: 0.1848764\ttotal: 586ms\tremaining: 2.08s\n",
      "20:\tlearn: 0.1435200\ttotal: 1.11s\tremaining: 1.54s\n",
      "30:\tlearn: 0.1129762\ttotal: 1.64s\tremaining: 1.01s\n",
      "40:\tlearn: 0.0966733\ttotal: 2.17s\tremaining: 477ms\n",
      "49:\tlearn: 0.0834640\ttotal: 2.65s\tremaining: 0us\n",
      "0:\tlearn: 0.3708618\ttotal: 58.1ms\tremaining: 2.85s\n",
      "10:\tlearn: 0.1808890\ttotal: 594ms\tremaining: 2.11s\n",
      "20:\tlearn: 0.1366318\ttotal: 1.13s\tremaining: 1.56s\n",
      "30:\tlearn: 0.1104063\ttotal: 1.67s\tremaining: 1.02s\n",
      "40:\tlearn: 0.0914770\ttotal: 2.2s\tremaining: 483ms\n",
      "49:\tlearn: 0.0789978\ttotal: 2.69s\tremaining: 0us\n",
      "0:\tlearn: 0.3700472\ttotal: 59.9ms\tremaining: 2.93s\n",
      "10:\tlearn: 0.1878756\ttotal: 618ms\tremaining: 2.19s\n",
      "20:\tlearn: 0.1415257\ttotal: 1.17s\tremaining: 1.61s\n",
      "30:\tlearn: 0.1140630\ttotal: 1.72s\tremaining: 1.05s\n",
      "40:\tlearn: 0.0962604\ttotal: 2.27s\tremaining: 500ms\n",
      "49:\tlearn: 0.0821154\ttotal: 2.79s\tremaining: 0us\n",
      "0:\tlearn: 0.3158072\ttotal: 65.6ms\tremaining: 3.21s\n",
      "10:\tlearn: 0.1766618\ttotal: 669ms\tremaining: 2.37s\n",
      "20:\tlearn: 0.1242679\ttotal: 1.26s\tremaining: 1.74s\n",
      "30:\tlearn: 0.0968378\ttotal: 1.79s\tremaining: 1.1s\n",
      "40:\tlearn: 0.0791076\ttotal: 2.33s\tremaining: 512ms\n",
      "49:\tlearn: 0.0686436\ttotal: 2.81s\tremaining: 0us\n",
      "0:\tlearn: 0.3504030\ttotal: 57.9ms\tremaining: 2.83s\n",
      "10:\tlearn: 0.1751395\ttotal: 596ms\tremaining: 2.11s\n",
      "20:\tlearn: 0.1307329\ttotal: 1.14s\tremaining: 1.57s\n",
      "30:\tlearn: 0.1033120\ttotal: 1.68s\tremaining: 1.03s\n",
      "40:\tlearn: 0.0831429\ttotal: 2.21s\tremaining: 486ms\n",
      "49:\tlearn: 0.0699087\ttotal: 2.7s\tremaining: 0us\n",
      "0:\tlearn: 0.3495797\ttotal: 59.8ms\tremaining: 2.93s\n",
      "10:\tlearn: 0.1770182\ttotal: 612ms\tremaining: 2.17s\n",
      "20:\tlearn: 0.1274900\ttotal: 1.17s\tremaining: 1.61s\n",
      "30:\tlearn: 0.1011688\ttotal: 1.74s\tremaining: 1.07s\n",
      "40:\tlearn: 0.0833327\ttotal: 2.31s\tremaining: 508ms\n",
      "49:\tlearn: 0.0717785\ttotal: 2.81s\tremaining: 0us\n",
      "0:\tlearn: 0.3022529\ttotal: 57.8ms\tremaining: 2.83s\n",
      "10:\tlearn: 0.1683988\ttotal: 591ms\tremaining: 2.1s\n",
      "20:\tlearn: 0.1212191\ttotal: 1.13s\tremaining: 1.55s\n",
      "30:\tlearn: 0.0946121\ttotal: 1.66s\tremaining: 1.02s\n",
      "40:\tlearn: 0.0751621\ttotal: 2.2s\tremaining: 482ms\n",
      "49:\tlearn: 0.0618107\ttotal: 2.69s\tremaining: 0us\n",
      "0:\tlearn: 0.3368906\ttotal: 57.9ms\tremaining: 2.83s\n",
      "10:\tlearn: 0.1612412\ttotal: 594ms\tremaining: 2.11s\n",
      "20:\tlearn: 0.1143791\ttotal: 1.13s\tremaining: 1.56s\n",
      "30:\tlearn: 0.0893487\ttotal: 1.67s\tremaining: 1.02s\n",
      "40:\tlearn: 0.0716540\ttotal: 2.21s\tremaining: 485ms\n",
      "49:\tlearn: 0.0597364\ttotal: 2.69s\tremaining: 0us\n",
      "0:\tlearn: 0.3360869\ttotal: 67.3ms\tremaining: 3.3s\n",
      "10:\tlearn: 0.1712001\ttotal: 681ms\tremaining: 2.42s\n",
      "20:\tlearn: 0.1195133\ttotal: 1.31s\tremaining: 1.82s\n",
      "30:\tlearn: 0.0921592\ttotal: 1.87s\tremaining: 1.15s\n",
      "40:\tlearn: 0.0724581\ttotal: 2.43s\tremaining: 534ms\n",
      "49:\tlearn: 0.0609090\ttotal: 2.93s\tremaining: 0us\n",
      "0:\tlearn: 0.2948494\ttotal: 57.5ms\tremaining: 2.82s\n",
      "10:\tlearn: 0.1614435\ttotal: 587ms\tremaining: 2.08s\n",
      "20:\tlearn: 0.1113841\ttotal: 1.12s\tremaining: 1.54s\n",
      "30:\tlearn: 0.0816217\ttotal: 1.65s\tremaining: 1.01s\n",
      "40:\tlearn: 0.0634632\ttotal: 2.18s\tremaining: 479ms\n",
      "49:\tlearn: 0.0540585\ttotal: 2.66s\tremaining: 0us\n",
      "0:\tlearn: 0.3293978\ttotal: 58.8ms\tremaining: 2.88s\n",
      "10:\tlearn: 0.1531317\ttotal: 591ms\tremaining: 2.09s\n",
      "20:\tlearn: 0.1038929\ttotal: 1.13s\tremaining: 1.55s\n",
      "30:\tlearn: 0.0793837\ttotal: 1.66s\tremaining: 1.02s\n",
      "40:\tlearn: 0.0649053\ttotal: 2.19s\tremaining: 482ms\n",
      "49:\tlearn: 0.0521525\ttotal: 2.68s\tremaining: 0us\n",
      "0:\tlearn: 0.3286208\ttotal: 60.1ms\tremaining: 2.94s\n",
      "10:\tlearn: 0.1600296\ttotal: 612ms\tremaining: 2.17s\n",
      "20:\tlearn: 0.1092818\ttotal: 1.17s\tremaining: 1.61s\n",
      "30:\tlearn: 0.0819108\ttotal: 1.72s\tremaining: 1.05s\n",
      "40:\tlearn: 0.0641500\ttotal: 2.28s\tremaining: 500ms\n",
      "49:\tlearn: 0.0540113\ttotal: 2.77s\tremaining: 0us\n",
      "0:\tlearn: 0.4061368\ttotal: 86.4ms\tremaining: 4.23s\n",
      "10:\tlearn: 0.1977887\ttotal: 870ms\tremaining: 3.08s\n",
      "20:\tlearn: 0.1625233\ttotal: 1.65s\tremaining: 2.28s\n",
      "30:\tlearn: 0.1323675\ttotal: 2.43s\tremaining: 1.49s\n",
      "40:\tlearn: 0.1124549\ttotal: 3.28s\tremaining: 721ms\n",
      "49:\tlearn: 0.0993273\ttotal: 4.04s\tremaining: 0us\n",
      "0:\tlearn: 0.4364207\ttotal: 116ms\tremaining: 5.69s\n",
      "10:\tlearn: 0.1993091\ttotal: 931ms\tremaining: 3.3s\n",
      "20:\tlearn: 0.1633660\ttotal: 1.72s\tremaining: 2.38s\n",
      "30:\tlearn: 0.1331234\ttotal: 2.51s\tremaining: 1.54s\n",
      "40:\tlearn: 0.1120093\ttotal: 3.31s\tremaining: 726ms\n",
      "49:\tlearn: 0.1003438\ttotal: 4.02s\tremaining: 0us\n",
      "0:\tlearn: 0.4359835\ttotal: 88.9ms\tremaining: 4.36s\n",
      "10:\tlearn: 0.1965103\ttotal: 909ms\tremaining: 3.22s\n",
      "20:\tlearn: 0.1616964\ttotal: 1.72s\tremaining: 2.38s\n",
      "30:\tlearn: 0.1364766\ttotal: 2.54s\tremaining: 1.56s\n",
      "40:\tlearn: 0.1141835\ttotal: 3.36s\tremaining: 737ms\n",
      "49:\tlearn: 0.0992695\ttotal: 4.1s\tremaining: 0us\n",
      "0:\tlearn: 0.3664771\ttotal: 94.9ms\tremaining: 4.65s\n",
      "10:\tlearn: 0.1888346\ttotal: 882ms\tremaining: 3.13s\n",
      "20:\tlearn: 0.1510099\ttotal: 1.67s\tremaining: 2.3s\n",
      "30:\tlearn: 0.1173353\ttotal: 2.45s\tremaining: 1.5s\n",
      "40:\tlearn: 0.0997486\ttotal: 3.24s\tremaining: 712ms\n",
      "49:\tlearn: 0.0874950\ttotal: 3.95s\tremaining: 0us\n",
      "0:\tlearn: 0.3990422\ttotal: 85.3ms\tremaining: 4.18s\n",
      "10:\tlearn: 0.1863129\ttotal: 876ms\tremaining: 3.1s\n",
      "20:\tlearn: 0.1451476\ttotal: 1.76s\tremaining: 2.44s\n",
      "30:\tlearn: 0.1152231\ttotal: 2.69s\tremaining: 1.65s\n",
      "40:\tlearn: 0.0967405\ttotal: 3.53s\tremaining: 775ms\n",
      "49:\tlearn: 0.0850428\ttotal: 4.24s\tremaining: 0us\n",
      "0:\tlearn: 0.3985116\ttotal: 88.2ms\tremaining: 4.32s\n",
      "10:\tlearn: 0.1861718\ttotal: 903ms\tremaining: 3.2s\n",
      "20:\tlearn: 0.1446360\ttotal: 1.72s\tremaining: 2.38s\n",
      "30:\tlearn: 0.1147382\ttotal: 2.55s\tremaining: 1.56s\n",
      "40:\tlearn: 0.0944657\ttotal: 3.37s\tremaining: 739ms\n",
      "49:\tlearn: 0.0822838\ttotal: 4.11s\tremaining: 0us\n",
      "0:\tlearn: 0.3368944\ttotal: 85.3ms\tremaining: 4.18s\n",
      "10:\tlearn: 0.1751645\ttotal: 872ms\tremaining: 3.09s\n",
      "20:\tlearn: 0.1323455\ttotal: 1.66s\tremaining: 2.29s\n",
      "30:\tlearn: 0.1017326\ttotal: 2.44s\tremaining: 1.5s\n",
      "40:\tlearn: 0.0838061\ttotal: 3.23s\tremaining: 709ms\n",
      "49:\tlearn: 0.0710561\ttotal: 3.94s\tremaining: 0us\n",
      "0:\tlearn: 0.3706356\ttotal: 87ms\tremaining: 4.26s\n",
      "10:\tlearn: 0.1752972\ttotal: 879ms\tremaining: 3.12s\n",
      "20:\tlearn: 0.1298095\ttotal: 1.67s\tremaining: 2.3s\n",
      "30:\tlearn: 0.1004100\ttotal: 2.46s\tremaining: 1.5s\n",
      "40:\tlearn: 0.0833132\ttotal: 3.24s\tremaining: 712ms\n",
      "49:\tlearn: 0.0705027\ttotal: 4.03s\tremaining: 0us\n",
      "0:\tlearn: 0.3700525\ttotal: 96.3ms\tremaining: 4.72s\n",
      "10:\tlearn: 0.1790242\ttotal: 1.01s\tremaining: 3.59s\n",
      "20:\tlearn: 0.1294602\ttotal: 1.83s\tremaining: 2.52s\n",
      "30:\tlearn: 0.1047015\ttotal: 2.65s\tremaining: 1.62s\n",
      "40:\tlearn: 0.0861860\ttotal: 3.47s\tremaining: 761ms\n",
      "49:\tlearn: 0.0735303\ttotal: 4.24s\tremaining: 0us\n",
      "0:\tlearn: 0.3159651\ttotal: 84.8ms\tremaining: 4.15s\n",
      "10:\tlearn: 0.1651408\ttotal: 870ms\tremaining: 3.08s\n",
      "20:\tlearn: 0.1162035\ttotal: 1.66s\tremaining: 2.29s\n",
      "30:\tlearn: 0.0883105\ttotal: 2.45s\tremaining: 1.5s\n",
      "40:\tlearn: 0.0684083\ttotal: 3.25s\tremaining: 714ms\n",
      "49:\tlearn: 0.0581789\ttotal: 3.96s\tremaining: 0us\n",
      "0:\tlearn: 0.3501691\ttotal: 85.9ms\tremaining: 4.21s\n",
      "10:\tlearn: 0.1667884\ttotal: 877ms\tremaining: 3.11s\n",
      "20:\tlearn: 0.1137651\ttotal: 1.67s\tremaining: 2.3s\n",
      "30:\tlearn: 0.0882769\ttotal: 2.46s\tremaining: 1.5s\n",
      "40:\tlearn: 0.0706588\ttotal: 3.25s\tremaining: 713ms\n",
      "49:\tlearn: 0.0599342\ttotal: 3.96s\tremaining: 0us\n",
      "0:\tlearn: 0.3495591\ttotal: 90.1ms\tremaining: 4.42s\n",
      "10:\tlearn: 0.1670773\ttotal: 913ms\tremaining: 3.24s\n",
      "20:\tlearn: 0.1183465\ttotal: 1.76s\tremaining: 2.43s\n",
      "30:\tlearn: 0.0933099\ttotal: 2.69s\tremaining: 1.65s\n",
      "40:\tlearn: 0.0735303\ttotal: 3.58s\tremaining: 785ms\n",
      "49:\tlearn: 0.0620407\ttotal: 4.32s\tremaining: 0us\n",
      "0:\tlearn: 0.3023525\ttotal: 87.4ms\tremaining: 4.28s\n",
      "10:\tlearn: 0.1563479\ttotal: 871ms\tremaining: 3.09s\n",
      "20:\tlearn: 0.1041213\ttotal: 1.66s\tremaining: 2.29s\n",
      "30:\tlearn: 0.0771279\ttotal: 2.44s\tremaining: 1.5s\n",
      "40:\tlearn: 0.0610915\ttotal: 3.23s\tremaining: 710ms\n",
      "49:\tlearn: 0.0501844\ttotal: 3.94s\tremaining: 0us\n",
      "0:\tlearn: 0.3366439\ttotal: 88.3ms\tremaining: 4.33s\n",
      "10:\tlearn: 0.1572538\ttotal: 878ms\tremaining: 3.11s\n",
      "20:\tlearn: 0.1033315\ttotal: 1.67s\tremaining: 2.31s\n",
      "30:\tlearn: 0.0797648\ttotal: 2.46s\tremaining: 1.51s\n",
      "40:\tlearn: 0.0617658\ttotal: 3.25s\tremaining: 715ms\n",
      "49:\tlearn: 0.0482422\ttotal: 3.97s\tremaining: 0us\n",
      "0:\tlearn: 0.3360449\ttotal: 88.6ms\tremaining: 4.34s\n",
      "10:\tlearn: 0.1612079\ttotal: 916ms\tremaining: 3.25s\n",
      "20:\tlearn: 0.1057672\ttotal: 1.75s\tremaining: 2.42s\n",
      "30:\tlearn: 0.0766567\ttotal: 2.58s\tremaining: 1.58s\n",
      "40:\tlearn: 0.0622259\ttotal: 3.4s\tremaining: 746ms\n",
      "49:\tlearn: 0.0493428\ttotal: 4.17s\tremaining: 0us\n",
      "0:\tlearn: 0.2948987\ttotal: 92.8ms\tremaining: 4.54s\n",
      "10:\tlearn: 0.1557479\ttotal: 997ms\tremaining: 3.54s\n",
      "20:\tlearn: 0.0999109\ttotal: 1.81s\tremaining: 2.5s\n",
      "30:\tlearn: 0.0706035\ttotal: 2.59s\tremaining: 1.59s\n",
      "40:\tlearn: 0.0542579\ttotal: 3.38s\tremaining: 742ms\n",
      "49:\tlearn: 0.0428204\ttotal: 4.09s\tremaining: 0us\n",
      "0:\tlearn: 0.3291185\ttotal: 85.6ms\tremaining: 4.19s\n",
      "10:\tlearn: 0.1533151\ttotal: 877ms\tremaining: 3.11s\n",
      "20:\tlearn: 0.0966109\ttotal: 1.67s\tremaining: 2.31s\n",
      "30:\tlearn: 0.0718592\ttotal: 2.46s\tremaining: 1.51s\n",
      "40:\tlearn: 0.0544590\ttotal: 3.25s\tremaining: 715ms\n",
      "49:\tlearn: 0.0445510\ttotal: 3.97s\tremaining: 0us\n",
      "0:\tlearn: 0.3285610\ttotal: 88.7ms\tremaining: 4.35s\n",
      "10:\tlearn: 0.1543449\ttotal: 904ms\tremaining: 3.21s\n",
      "20:\tlearn: 0.1008583\ttotal: 1.72s\tremaining: 2.38s\n",
      "30:\tlearn: 0.0722700\ttotal: 2.55s\tremaining: 1.56s\n",
      "40:\tlearn: 0.0556129\ttotal: 3.37s\tremaining: 740ms\n",
      "49:\tlearn: 0.0458355\ttotal: 4.11s\tremaining: 0us\n",
      "0:\tlearn: 0.4061671\ttotal: 133ms\tremaining: 6.51s\n",
      "10:\tlearn: 0.1908667\ttotal: 1.36s\tremaining: 4.81s\n",
      "20:\tlearn: 0.1534376\ttotal: 2.68s\tremaining: 3.7s\n",
      "30:\tlearn: 0.1221629\ttotal: 4.04s\tremaining: 2.48s\n",
      "40:\tlearn: 0.1042479\ttotal: 5.27s\tremaining: 1.16s\n",
      "49:\tlearn: 0.0896878\ttotal: 6.38s\tremaining: 0us\n",
      "0:\tlearn: 0.4363386\ttotal: 136ms\tremaining: 6.64s\n",
      "10:\tlearn: 0.1923232\ttotal: 1.38s\tremaining: 4.89s\n",
      "20:\tlearn: 0.1557834\ttotal: 2.63s\tremaining: 3.63s\n",
      "30:\tlearn: 0.1236515\ttotal: 3.86s\tremaining: 2.37s\n",
      "40:\tlearn: 0.1041059\ttotal: 5.1s\tremaining: 1.12s\n",
      "49:\tlearn: 0.0914240\ttotal: 6.22s\tremaining: 0us\n",
      "0:\tlearn: 0.4357422\ttotal: 140ms\tremaining: 6.86s\n",
      "10:\tlearn: 0.1993336\ttotal: 1.41s\tremaining: 5.01s\n",
      "20:\tlearn: 0.1589243\ttotal: 2.69s\tremaining: 3.71s\n",
      "30:\tlearn: 0.1283826\ttotal: 3.96s\tremaining: 2.43s\n",
      "40:\tlearn: 0.1038885\ttotal: 5.36s\tremaining: 1.18s\n",
      "49:\tlearn: 0.0918379\ttotal: 6.7s\tremaining: 0us\n",
      "0:\tlearn: 0.3665349\ttotal: 133ms\tremaining: 6.5s\n",
      "10:\tlearn: 0.1801339\ttotal: 1.36s\tremaining: 4.82s\n",
      "20:\tlearn: 0.1395406\ttotal: 2.6s\tremaining: 3.6s\n",
      "30:\tlearn: 0.1061414\ttotal: 3.83s\tremaining: 2.35s\n",
      "40:\tlearn: 0.0855281\ttotal: 5.06s\tremaining: 1.11s\n",
      "49:\tlearn: 0.0739999\ttotal: 6.16s\tremaining: 0us\n",
      "0:\tlearn: 0.3989577\ttotal: 134ms\tremaining: 6.59s\n",
      "10:\tlearn: 0.1788022\ttotal: 1.39s\tremaining: 4.91s\n",
      "20:\tlearn: 0.1397812\ttotal: 2.62s\tremaining: 3.62s\n",
      "30:\tlearn: 0.1070714\ttotal: 3.86s\tremaining: 2.37s\n",
      "40:\tlearn: 0.0867845\ttotal: 5.1s\tremaining: 1.12s\n",
      "49:\tlearn: 0.0756240\ttotal: 6.22s\tremaining: 0us\n",
      "0:\tlearn: 0.3982330\ttotal: 156ms\tremaining: 7.63s\n",
      "10:\tlearn: 0.1829969\ttotal: 1.61s\tremaining: 5.7s\n",
      "20:\tlearn: 0.1397441\ttotal: 2.95s\tremaining: 4.07s\n",
      "30:\tlearn: 0.1085233\ttotal: 4.23s\tremaining: 2.59s\n",
      "40:\tlearn: 0.0887260\ttotal: 5.52s\tremaining: 1.21s\n",
      "49:\tlearn: 0.0772917\ttotal: 6.75s\tremaining: 0us\n",
      "0:\tlearn: 0.3369743\ttotal: 133ms\tremaining: 6.52s\n",
      "10:\tlearn: 0.1705080\ttotal: 1.36s\tremaining: 4.83s\n",
      "20:\tlearn: 0.1252158\ttotal: 2.61s\tremaining: 3.61s\n",
      "30:\tlearn: 0.0970919\ttotal: 3.84s\tremaining: 2.35s\n",
      "40:\tlearn: 0.0764733\ttotal: 5.07s\tremaining: 1.11s\n",
      "49:\tlearn: 0.0617607\ttotal: 6.17s\tremaining: 0us\n",
      "0:\tlearn: 0.3705401\ttotal: 135ms\tremaining: 6.62s\n",
      "10:\tlearn: 0.1695208\ttotal: 1.37s\tremaining: 4.87s\n",
      "20:\tlearn: 0.1204810\ttotal: 2.68s\tremaining: 3.7s\n",
      "30:\tlearn: 0.0926731\ttotal: 4.08s\tremaining: 2.5s\n",
      "40:\tlearn: 0.0754540\ttotal: 5.34s\tremaining: 1.17s\n",
      "49:\tlearn: 0.0632039\ttotal: 6.48s\tremaining: 0us\n",
      "0:\tlearn: 0.3697443\ttotal: 143ms\tremaining: 7.01s\n",
      "10:\tlearn: 0.1781406\ttotal: 1.44s\tremaining: 5.09s\n",
      "20:\tlearn: 0.1257826\ttotal: 2.71s\tremaining: 3.74s\n",
      "30:\tlearn: 0.0964729\ttotal: 3.98s\tremaining: 2.44s\n",
      "40:\tlearn: 0.0752395\ttotal: 5.27s\tremaining: 1.16s\n",
      "49:\tlearn: 0.0609975\ttotal: 6.42s\tremaining: 0us\n",
      "0:\tlearn: 0.3160489\ttotal: 133ms\tremaining: 6.52s\n",
      "10:\tlearn: 0.1636880\ttotal: 1.36s\tremaining: 4.82s\n",
      "20:\tlearn: 0.1096891\ttotal: 2.59s\tremaining: 3.58s\n",
      "30:\tlearn: 0.0836103\ttotal: 3.82s\tremaining: 2.34s\n",
      "40:\tlearn: 0.0623626\ttotal: 5.12s\tremaining: 1.12s\n",
      "49:\tlearn: 0.0496904\ttotal: 6.37s\tremaining: 0us\n",
      "0:\tlearn: 0.3500788\ttotal: 134ms\tremaining: 6.56s\n",
      "10:\tlearn: 0.1593899\ttotal: 1.37s\tremaining: 4.85s\n",
      "20:\tlearn: 0.1113776\ttotal: 2.6s\tremaining: 3.6s\n",
      "30:\tlearn: 0.0817215\ttotal: 3.84s\tremaining: 2.35s\n",
      "40:\tlearn: 0.0661449\ttotal: 5.08s\tremaining: 1.11s\n",
      "49:\tlearn: 0.0520098\ttotal: 6.19s\tremaining: 0us\n",
      "0:\tlearn: 0.3492283\ttotal: 138ms\tremaining: 6.78s\n",
      "10:\tlearn: 0.1655818\ttotal: 1.41s\tremaining: 5.01s\n",
      "20:\tlearn: 0.1117553\ttotal: 2.71s\tremaining: 3.75s\n",
      "30:\tlearn: 0.0816179\ttotal: 4.05s\tremaining: 2.48s\n",
      "40:\tlearn: 0.0641156\ttotal: 5.44s\tremaining: 1.19s\n",
      "49:\tlearn: 0.0526319\ttotal: 6.7s\tremaining: 0us\n",
      "0:\tlearn: 0.3024313\ttotal: 160ms\tremaining: 7.84s\n",
      "10:\tlearn: 0.1506369\ttotal: 1.59s\tremaining: 5.63s\n",
      "20:\tlearn: 0.0995471\ttotal: 2.93s\tremaining: 4.05s\n",
      "30:\tlearn: 0.0706035\ttotal: 4.21s\tremaining: 2.58s\n",
      "40:\tlearn: 0.0526629\ttotal: 5.5s\tremaining: 1.21s\n",
      "49:\tlearn: 0.0441039\ttotal: 6.66s\tremaining: 0us\n",
      "0:\tlearn: 0.3365528\ttotal: 139ms\tremaining: 6.82s\n",
      "10:\tlearn: 0.1563637\ttotal: 1.44s\tremaining: 5.11s\n",
      "20:\tlearn: 0.0992178\ttotal: 2.74s\tremaining: 3.78s\n",
      "30:\tlearn: 0.0718109\ttotal: 4.02s\tremaining: 2.46s\n",
      "40:\tlearn: 0.0527695\ttotal: 5.29s\tremaining: 1.16s\n",
      "49:\tlearn: 0.0422904\ttotal: 6.44s\tremaining: 0us\n",
      "0:\tlearn: 0.3356969\ttotal: 139ms\tremaining: 6.8s\n",
      "10:\tlearn: 0.1646167\ttotal: 1.42s\tremaining: 5.05s\n",
      "20:\tlearn: 0.1058566\ttotal: 2.84s\tremaining: 3.93s\n",
      "30:\tlearn: 0.0753119\ttotal: 4.25s\tremaining: 2.61s\n",
      "40:\tlearn: 0.0586402\ttotal: 5.53s\tremaining: 1.21s\n",
      "49:\tlearn: 0.0452249\ttotal: 6.68s\tremaining: 0us\n",
      "0:\tlearn: 0.2949557\ttotal: 133ms\tremaining: 6.54s\n",
      "10:\tlearn: 0.1421824\ttotal: 1.39s\tremaining: 4.93s\n",
      "20:\tlearn: 0.0888264\ttotal: 2.62s\tremaining: 3.62s\n",
      "30:\tlearn: 0.0622391\ttotal: 3.85s\tremaining: 2.36s\n",
      "40:\tlearn: 0.0472995\ttotal: 5.08s\tremaining: 1.11s\n",
      "49:\tlearn: 0.0376902\ttotal: 6.19s\tremaining: 0us\n",
      "0:\tlearn: 0.3290264\ttotal: 134ms\tremaining: 6.58s\n",
      "10:\tlearn: 0.1500431\ttotal: 1.37s\tremaining: 4.87s\n",
      "20:\tlearn: 0.0935949\ttotal: 2.61s\tremaining: 3.61s\n",
      "30:\tlearn: 0.0643274\ttotal: 3.85s\tremaining: 2.36s\n",
      "40:\tlearn: 0.0473649\ttotal: 5.23s\tremaining: 1.15s\n",
      "49:\tlearn: 0.0372213\ttotal: 6.46s\tremaining: 0us\n",
      "0:\tlearn: 0.3282012\ttotal: 139ms\tremaining: 6.83s\n",
      "10:\tlearn: 0.1542934\ttotal: 1.42s\tremaining: 5.02s\n",
      "20:\tlearn: 0.0971483\ttotal: 2.71s\tremaining: 3.74s\n",
      "30:\tlearn: 0.0671696\ttotal: 3.99s\tremaining: 2.44s\n",
      "40:\tlearn: 0.0502326\ttotal: 5.27s\tremaining: 1.16s\n",
      "49:\tlearn: 0.0398363\ttotal: 6.42s\tremaining: 0us\n",
      "0:\tlearn: 0.3384171\ttotal: 189ms\tremaining: 9.27s\n",
      "10:\tlearn: 0.1702903\ttotal: 1.92s\tremaining: 6.81s\n",
      "20:\tlearn: 0.1322692\ttotal: 3.65s\tremaining: 5.04s\n",
      "30:\tlearn: 0.1064606\ttotal: 5.38s\tremaining: 3.3s\n",
      "40:\tlearn: 0.0888885\ttotal: 7.21s\tremaining: 1.58s\n",
      "49:\tlearn: 0.0761915\ttotal: 8.93s\tremaining: 0us\n",
      "CPU times: total: 16min 17s\n",
      "Wall time: 6min 9s\n"
     ]
    },
    {
     "data": {
      "text/plain": [
       "GridSearchCV(cv=3,\n",
       "             estimator=<catboost.core.CatBoostClassifier object at 0x000001D8E23DB0D0>,\n",
       "             param_grid={'depth': range(2, 8),\n",
       "                         'learning_rate': [0.4, 0.5, 0.6, 0.7, 0.8, 0.9]},\n",
       "             scoring='f1')"
      ]
     },
     "execution_count": 26,
     "metadata": {},
     "output_type": "execute_result"
    }
   ],
   "source": [
    "%%time\n",
    "\n",
    "cat = CatBoostClassifier(iterations=50)\n",
    "\n",
    "parameters = { 'depth': range(2, 8),\n",
    "               'learning_rate': [0.4, 0.5, 0.6, 0.7, 0.8, 0.9]}\n",
    "\n",
    "cat_grid = GridSearchCV(cat, parameters, scoring='f1', cv=3)\n",
    "cat_grid.fit(features_train_cat, target_train_cat, verbose=10)\n"
   ]
  },
  {
   "cell_type": "code",
   "execution_count": 27,
   "metadata": {
    "ExecuteTime": {
     "end_time": "2023-07-09T18:51:50.005166Z",
     "start_time": "2023-07-09T18:51:49.991203Z"
    },
    "scrolled": false
   },
   "outputs": [
    {
     "name": "stdout",
     "output_type": "stream",
     "text": [
      "{'depth': 7, 'learning_rate': 0.6}\n",
      "0.6242774463290073\n"
     ]
    }
   ],
   "source": [
    "print(cat_grid.best_params_)\n",
    "print(cat_grid.best_score_)"
   ]
  },
  {
   "cell_type": "code",
   "execution_count": 28,
   "metadata": {
    "ExecuteTime": {
     "end_time": "2023-07-09T18:51:55.926335Z",
     "start_time": "2023-07-09T18:51:50.006163Z"
    }
   },
   "outputs": [
    {
     "name": "stdout",
     "output_type": "stream",
     "text": [
      "0:\tlearn: 0.3173076\ttotal: 119ms\tremaining: 5.84s\n",
      "10:\tlearn: 0.1676453\ttotal: 1.2s\tremaining: 4.26s\n",
      "20:\tlearn: 0.1256960\ttotal: 2.28s\tremaining: 3.15s\n",
      "30:\tlearn: 0.0994736\ttotal: 3.37s\tremaining: 2.06s\n",
      "40:\tlearn: 0.0829423\ttotal: 4.47s\tremaining: 982ms\n",
      "49:\tlearn: 0.0720558\ttotal: 5.45s\tremaining: 0us\n",
      "0.6413043478260869\n"
     ]
    }
   ],
   "source": [
    "cat = CatBoostClassifier(iterations=50, depth=6, learning_rate=0.7)\n",
    "cat.fit(features_train_cat, target_train_cat, verbose=10)\n",
    "print(f1_score(cat.predict(features_valid_cat), target_valid_cat))"
   ]
  },
  {
   "cell_type": "markdown",
   "metadata": {
    "ExecuteTime": {
     "end_time": "2023-07-08T14:56:24.767508Z",
     "start_time": "2023-07-08T14:55:52.380884Z"
    }
   },
   "source": [
    "f1 у catboost слишком мал. Данная модель нам не подходит"
   ]
  },
  {
   "cell_type": "markdown",
   "metadata": {},
   "source": [
    "### LogisticRegression"
   ]
  },
  {
   "cell_type": "code",
   "execution_count": 29,
   "metadata": {
    "ExecuteTime": {
     "end_time": "2023-07-09T18:52:02.442915Z",
     "start_time": "2023-07-09T18:51:55.928331Z"
    },
    "id": "7ETBZOO0eWXU",
    "outputId": "91369fef-745c-4971-bcdd-d7d9cb1294d7"
   },
   "outputs": [
    {
     "name": "stdout",
     "output_type": "stream",
     "text": [
      "CPU times: total: 25 s\n",
      "Wall time: 6.51 s\n"
     ]
    },
    {
     "data": {
      "text/plain": [
       "GridSearchCV(cv=3,\n",
       "             estimator=LogisticRegression(class_weight='balanced',\n",
       "                                          random_state=12345,\n",
       "                                          solver='liblinear'),\n",
       "             param_grid={'C': [0.1, 1, 10]}, scoring='f1')"
      ]
     },
     "execution_count": 29,
     "metadata": {},
     "output_type": "execute_result"
    }
   ],
   "source": [
    "%%time\n",
    "lr_model = LogisticRegression(class_weight='balanced', solver='liblinear', random_state=12345)\n",
    "\n",
    "parameters = { 'C': [0.1, 1, 10]}\n",
    "\n",
    "lr_grid = GridSearchCV(lr_model, parameters, scoring='f1', cv=3)\n",
    "lr_grid.fit(features_train_idf, target_train_1)"
   ]
  },
  {
   "cell_type": "code",
   "execution_count": 30,
   "metadata": {
    "ExecuteTime": {
     "end_time": "2023-07-09T18:52:02.458871Z",
     "start_time": "2023-07-09T18:52:02.443912Z"
    }
   },
   "outputs": [
    {
     "name": "stdout",
     "output_type": "stream",
     "text": [
      "{'C': 10}\n",
      "0.7630295788392444\n"
     ]
    }
   ],
   "source": [
    "print(lr_grid.best_params_)\n",
    "print(lr_grid.best_score_)"
   ]
  },
  {
   "cell_type": "markdown",
   "metadata": {},
   "source": [
    "f1 больше необходимого минимума, а значит эту модеель можно тестировать нас тестовой выборке"
   ]
  },
  {
   "cell_type": "code",
   "execution_count": 31,
   "metadata": {
    "ExecuteTime": {
     "end_time": "2023-07-09T18:52:03.865112Z",
     "start_time": "2023-07-09T18:52:02.459869Z"
    }
   },
   "outputs": [
    {
     "data": {
      "text/plain": [
       "LogisticRegression(C=10, class_weight='balanced', random_state=12345,\n",
       "                   solver='liblinear')"
      ]
     },
     "execution_count": 31,
     "metadata": {},
     "output_type": "execute_result"
    }
   ],
   "source": [
    "lr_model = LogisticRegression(class_weight='balanced', solver='liblinear', random_state=12345, C=10)\n",
    "lr_model.fit(features_train_idf, target_train_1)"
   ]
  },
  {
   "cell_type": "code",
   "execution_count": 32,
   "metadata": {
    "ExecuteTime": {
     "end_time": "2023-07-09T18:52:03.881069Z",
     "start_time": "2023-07-09T18:52:03.866110Z"
    },
    "id": "VsXGS3-jeWXU",
    "outputId": "973081b2-cbfc-4221-f416-fc1d4df569da"
   },
   "outputs": [
    {
     "name": "stdout",
     "output_type": "stream",
     "text": [
      "0.7555168408826947\n"
     ]
    }
   ],
   "source": [
    "print(f1_score(lr_model.predict(features_valid_idf), target_valid_1))"
   ]
  },
  {
   "cell_type": "markdown",
   "metadata": {},
   "source": [
    "F1 данной модели больше 0.75, а значит эта модель нам подходит"
   ]
  },
  {
   "cell_type": "markdown",
   "metadata": {
    "ExecuteTime": {
     "end_time": "2023-07-08T18:05:24.563220Z",
     "start_time": "2023-07-08T18:05:24.538287Z"
    }
   },
   "source": [
    "### Работа с BERT"
   ]
  },
  {
   "cell_type": "code",
   "execution_count": 33,
   "metadata": {
    "ExecuteTime": {
     "end_time": "2023-07-09T18:52:03.896029Z",
     "start_time": "2023-07-09T18:52:03.882067Z"
    }
   },
   "outputs": [
    {
     "data": {
      "text/html": [
       "<div>\n",
       "<style scoped>\n",
       "    .dataframe tbody tr th:only-of-type {\n",
       "        vertical-align: middle;\n",
       "    }\n",
       "\n",
       "    .dataframe tbody tr th {\n",
       "        vertical-align: top;\n",
       "    }\n",
       "\n",
       "    .dataframe thead th {\n",
       "        text-align: right;\n",
       "    }\n",
       "</style>\n",
       "<table border=\"1\" class=\"dataframe\">\n",
       "  <thead>\n",
       "    <tr style=\"text-align: right;\">\n",
       "      <th></th>\n",
       "      <th>Unnamed: 0</th>\n",
       "      <th>text</th>\n",
       "      <th>toxic</th>\n",
       "      <th>lemm_text</th>\n",
       "    </tr>\n",
       "  </thead>\n",
       "  <tbody>\n",
       "    <tr>\n",
       "      <th>0</th>\n",
       "      <td>0</td>\n",
       "      <td>Explanation\\nWhy the edits made under my usern...</td>\n",
       "      <td>0</td>\n",
       "      <td>Explanation \\n why the edit make under my user...</td>\n",
       "    </tr>\n",
       "    <tr>\n",
       "      <th>1</th>\n",
       "      <td>1</td>\n",
       "      <td>D'aww! He matches this background colour I'm s...</td>\n",
       "      <td>0</td>\n",
       "      <td>D'aww ! he match this background colour I be s...</td>\n",
       "    </tr>\n",
       "    <tr>\n",
       "      <th>2</th>\n",
       "      <td>2</td>\n",
       "      <td>Hey man, I'm really not trying to edit war. It...</td>\n",
       "      <td>0</td>\n",
       "      <td>hey man , I be really not try to edit war . it...</td>\n",
       "    </tr>\n",
       "    <tr>\n",
       "      <th>3</th>\n",
       "      <td>3</td>\n",
       "      <td>\"\\nMore\\nI can't make any real suggestions on ...</td>\n",
       "      <td>0</td>\n",
       "      <td>\" \\n More \\n I can not make any real suggestio...</td>\n",
       "    </tr>\n",
       "    <tr>\n",
       "      <th>4</th>\n",
       "      <td>4</td>\n",
       "      <td>You, sir, are my hero. Any chance you remember...</td>\n",
       "      <td>0</td>\n",
       "      <td>you , sir , be my hero . any chance you rememb...</td>\n",
       "    </tr>\n",
       "    <tr>\n",
       "      <th>...</th>\n",
       "      <td>...</td>\n",
       "      <td>...</td>\n",
       "      <td>...</td>\n",
       "      <td>...</td>\n",
       "    </tr>\n",
       "    <tr>\n",
       "      <th>159287</th>\n",
       "      <td>159446</td>\n",
       "      <td>\":::::And for the second time of asking, when ...</td>\n",
       "      <td>0</td>\n",
       "      <td>\" : : : : : and for the second time of asking ...</td>\n",
       "    </tr>\n",
       "    <tr>\n",
       "      <th>159288</th>\n",
       "      <td>159447</td>\n",
       "      <td>You should be ashamed of yourself \\n\\nThat is ...</td>\n",
       "      <td>0</td>\n",
       "      <td>you should be ashamed of yourself \\n\\n that be...</td>\n",
       "    </tr>\n",
       "    <tr>\n",
       "      <th>159289</th>\n",
       "      <td>159448</td>\n",
       "      <td>Spitzer \\n\\nUmm, theres no actual article for ...</td>\n",
       "      <td>0</td>\n",
       "      <td>Spitzer \\n\\n Umm , there s no actual article f...</td>\n",
       "    </tr>\n",
       "    <tr>\n",
       "      <th>159290</th>\n",
       "      <td>159449</td>\n",
       "      <td>And it looks like it was actually you who put ...</td>\n",
       "      <td>0</td>\n",
       "      <td>and it look like it be actually you who put on...</td>\n",
       "    </tr>\n",
       "    <tr>\n",
       "      <th>159291</th>\n",
       "      <td>159450</td>\n",
       "      <td>\"\\nAnd ... I really don't think you understand...</td>\n",
       "      <td>0</td>\n",
       "      <td>\" \\n and ... I really do not think you underst...</td>\n",
       "    </tr>\n",
       "  </tbody>\n",
       "</table>\n",
       "<p>159292 rows × 4 columns</p>\n",
       "</div>"
      ],
      "text/plain": [
       "        Unnamed: 0                                               text  toxic  \\\n",
       "0                0  Explanation\\nWhy the edits made under my usern...      0   \n",
       "1                1  D'aww! He matches this background colour I'm s...      0   \n",
       "2                2  Hey man, I'm really not trying to edit war. It...      0   \n",
       "3                3  \"\\nMore\\nI can't make any real suggestions on ...      0   \n",
       "4                4  You, sir, are my hero. Any chance you remember...      0   \n",
       "...            ...                                                ...    ...   \n",
       "159287      159446  \":::::And for the second time of asking, when ...      0   \n",
       "159288      159447  You should be ashamed of yourself \\n\\nThat is ...      0   \n",
       "159289      159448  Spitzer \\n\\nUmm, theres no actual article for ...      0   \n",
       "159290      159449  And it looks like it was actually you who put ...      0   \n",
       "159291      159450  \"\\nAnd ... I really don't think you understand...      0   \n",
       "\n",
       "                                                lemm_text  \n",
       "0       Explanation \\n why the edit make under my user...  \n",
       "1       D'aww ! he match this background colour I be s...  \n",
       "2       hey man , I be really not try to edit war . it...  \n",
       "3       \" \\n More \\n I can not make any real suggestio...  \n",
       "4       you , sir , be my hero . any chance you rememb...  \n",
       "...                                                   ...  \n",
       "159287  \" : : : : : and for the second time of asking ...  \n",
       "159288  you should be ashamed of yourself \\n\\n that be...  \n",
       "159289  Spitzer \\n\\n Umm , there s no actual article f...  \n",
       "159290  and it look like it be actually you who put on...  \n",
       "159291  \" \\n and ... I really do not think you underst...  \n",
       "\n",
       "[159292 rows x 4 columns]"
      ]
     },
     "execution_count": 33,
     "metadata": {},
     "output_type": "execute_result"
    }
   ],
   "source": [
    "df"
   ]
  },
  {
   "cell_type": "markdown",
   "metadata": {},
   "source": [
    "Берем 5000 строк от исходной выборки, иначе эмбендинги мы будем ждать вечность (хотя чаще ядро просто умирает)"
   ]
  },
  {
   "cell_type": "code",
   "execution_count": 34,
   "metadata": {
    "ExecuteTime": {
     "end_time": "2023-07-09T18:52:03.926947Z",
     "start_time": "2023-07-09T18:52:03.897027Z"
    },
    "id": "4ga6LUsReWXV"
   },
   "outputs": [],
   "source": [
    "df = df.sample(5000).reset_index(drop=True)\n",
    "features = df['text']\n",
    "target = df['toxic']"
   ]
  },
  {
   "cell_type": "markdown",
   "metadata": {},
   "source": [
    "Токенизируем, создаем падинги и маску"
   ]
  },
  {
   "cell_type": "code",
   "execution_count": 35,
   "metadata": {
    "ExecuteTime": {
     "end_time": "2023-07-09T18:52:11.394981Z",
     "start_time": "2023-07-09T18:52:03.927944Z"
    },
    "id": "D40FD7xjeWXV",
    "outputId": "a9a9395b-5728-4399-d882-d4eefa2587ff"
   },
   "outputs": [],
   "source": [
    "tokenizer = transformers.BertTokenizer.from_pretrained('nlptown/bert-base-multilingual-uncased-sentiment')\n",
    "\n",
    "tokenized = features.apply(\n",
    "    lambda x: tokenizer.encode(x, add_special_tokens=True, max_length=64, truncation=True))\n",
    "\n",
    "max_len = 0\n",
    "for i in tokenized.values:\n",
    "    if len(i) > max_len:\n",
    "        max_len = len(i)\n",
    "\n",
    "padded = np.array([i + [0]*(max_len - len(i)) for i in tokenized.values])\n",
    "\n",
    "attention_mask = np.where(padded != 0, 1, 0)"
   ]
  },
  {
   "cell_type": "code",
   "execution_count": 36,
   "metadata": {
    "ExecuteTime": {
     "end_time": "2023-07-09T18:52:12.816182Z",
     "start_time": "2023-07-09T18:52:11.395979Z"
    },
    "id": "h45d_AiLeWXW",
    "outputId": "6bd10ce2-88ca-429b-eda3-6e4eed9e85d9",
    "scrolled": true
   },
   "outputs": [
    {
     "name": "stderr",
     "output_type": "stream",
     "text": [
      "Some weights of the model checkpoint at nlptown/bert-base-multilingual-uncased-sentiment were not used when initializing BertModel: ['classifier.weight', 'classifier.bias']\n",
      "- This IS expected if you are initializing BertModel from the checkpoint of a model trained on another task or with another architecture (e.g. initializing a BertForSequenceClassification model from a BertForPreTraining model).\n",
      "- This IS NOT expected if you are initializing BertModel from the checkpoint of a model that you expect to be exactly identical (initializing a BertForSequenceClassification model from a BertForSequenceClassification model).\n"
     ]
    }
   ],
   "source": [
    "model = transformers.BertModel.from_pretrained(\"nlptown/bert-base-multilingual-uncased-sentiment\")\n"
   ]
  },
  {
   "cell_type": "markdown",
   "metadata": {},
   "source": [
    "Получаем эмбендинги"
   ]
  },
  {
   "cell_type": "code",
   "execution_count": 38,
   "metadata": {
    "ExecuteTime": {
     "end_time": "2023-07-09T18:55:43.928789Z",
     "start_time": "2023-07-09T18:52:12.833137Z"
    },
    "id": "LlAVKlcAeWXf",
    "outputId": "1964c1e8-3fde-4dcf-85f2-85879d9af297"
   },
   "outputs": [
    {
     "data": {
      "application/vnd.jupyter.widget-view+json": {
       "model_id": "e273671739884c6780c08df6a41406db",
       "version_major": 2,
       "version_minor": 0
      },
      "text/plain": [
       "  0%|          | 0/50 [00:00<?, ?it/s]"
      ]
     },
     "metadata": {},
     "output_type": "display_data"
    }
   ],
   "source": [
    "batch_size = 100\n",
    "embeddings = []\n",
    "for i in tqdm(range(padded.shape[0] // batch_size)):\n",
    "        batch = torch.LongTensor(padded[batch_size*i:batch_size*(i+1)])\n",
    "        attention_mask_batch = torch.LongTensor(attention_mask[batch_size*i:batch_size*(i+1)])\n",
    "        with torch.no_grad():\n",
    "            batch_embeddings = model(batch, attention_mask=attention_mask_batch)\n",
    "        embeddings.append(batch_embeddings[0][:,0,:].numpy())"
   ]
  },
  {
   "cell_type": "markdown",
   "metadata": {},
   "source": [
    "разделяем выборку на тестовую и тренировочную"
   ]
  },
  {
   "cell_type": "code",
   "execution_count": 39,
   "metadata": {
    "ExecuteTime": {
     "end_time": "2023-07-09T18:55:43.959707Z",
     "start_time": "2023-07-09T18:55:43.929788Z"
    }
   },
   "outputs": [],
   "source": [
    "features = np.concatenate(embeddings)\n",
    "features_train, features_test, target_train, target_test = train_test_split(features, target, \\\n",
    "                                                                            test_size = 0.25, random_state=12345)\n",
    "\n",
    "features_train, features_valid, target_train, target_valid = train_test_split(features_train, target_train, \\\n",
    "                                                                            test_size=0.25, random_state=12345)"
   ]
  },
  {
   "cell_type": "markdown",
   "metadata": {},
   "source": [
    "Обучаем LogisticRegression с помощью эмбендингов"
   ]
  },
  {
   "cell_type": "code",
   "execution_count": 40,
   "metadata": {
    "ExecuteTime": {
     "end_time": "2023-07-09T18:55:44.864289Z",
     "start_time": "2023-07-09T18:55:43.960705Z"
    },
    "id": "Ux0EeGrKeWXf",
    "outputId": "712c1a11-699d-4c9d-e1b2-b411c06855ec"
   },
   "outputs": [
    {
     "name": "stdout",
     "output_type": "stream",
     "text": [
      "0.5925925925925927\n"
     ]
    }
   ],
   "source": [
    "bert_lr_model = LogisticRegression(class_weight='balanced', solver='liblinear', random_state=12345, C=10)\n",
    "bert_lr_model.fit(features_train, target_train)\n",
    "print(f1_score(bert_lr_model.predict(features_valid), target_valid))\n"
   ]
  },
  {
   "cell_type": "markdown",
   "metadata": {},
   "source": [
    "Обучаем CatBoostClassifier с помощью эмбендингов"
   ]
  },
  {
   "cell_type": "code",
   "execution_count": 41,
   "metadata": {
    "ExecuteTime": {
     "end_time": "2023-07-09T18:55:49.583673Z",
     "start_time": "2023-07-09T18:55:44.866284Z"
    },
    "scrolled": true
   },
   "outputs": [
    {
     "name": "stdout",
     "output_type": "stream",
     "text": [
      "0:\tlearn: 0.2695310\ttotal: 101ms\tremaining: 4.93s\n",
      "10:\tlearn: 0.0901517\ttotal: 948ms\tremaining: 3.36s\n",
      "20:\tlearn: 0.0398013\ttotal: 1.81s\tremaining: 2.49s\n",
      "30:\tlearn: 0.0244493\ttotal: 2.68s\tremaining: 1.64s\n",
      "40:\tlearn: 0.0139126\ttotal: 3.71s\tremaining: 814ms\n",
      "49:\tlearn: 0.0099474\ttotal: 4.56s\tremaining: 0us\n",
      "0.5609756097560976\n"
     ]
    }
   ],
   "source": [
    "cat = CatBoostClassifier(iterations=50, depth=6, learning_rate=0.7, random_state=12345)\n",
    "cat.fit(features_train, target_train, verbose=10)\n",
    "print(f1_score(cat.predict(features_valid), target_valid))\n"
   ]
  },
  {
   "cell_type": "markdown",
   "metadata": {},
   "source": [
    "Ни одна из моделей (обученных на эмбендингах) не дала нужного нам результата (F1>0.75)"
   ]
  },
  {
   "cell_type": "markdown",
   "metadata": {},
   "source": [
    "Едиственная модель, которая дала нужный нам скор на валидационной выборке - LogisticRegression. Протестируем ее на тестовой выборке"
   ]
  },
  {
   "cell_type": "code",
   "execution_count": 42,
   "metadata": {
    "ExecuteTime": {
     "end_time": "2023-07-09T18:55:49.598634Z",
     "start_time": "2023-07-09T18:55:49.584670Z"
    }
   },
   "outputs": [
    {
     "name": "stdout",
     "output_type": "stream",
     "text": [
      "0.772502184678124\n"
     ]
    }
   ],
   "source": [
    "print(f1_score(lr_model.predict(features_test_idf), target_test_1))"
   ]
  },
  {
   "cell_type": "markdown",
   "metadata": {},
   "source": [
    "F1 > 0.75 -> модель нам подходит"
   ]
  },
  {
   "cell_type": "markdown",
   "metadata": {
    "id": "H6RBDugReWXg"
   },
   "source": [
    "## Выводы"
   ]
  },
  {
   "cell_type": "code",
   "execution_count": 49,
   "metadata": {
    "ExecuteTime": {
     "end_time": "2023-07-09T19:23:05.739653Z",
     "start_time": "2023-07-09T19:23:05.731676Z"
    }
   },
   "outputs": [],
   "source": [
    "d = {'name' : ['CatBoost', 'LogisticRegression', 'CatBoost_bert', 'LogisticRegression_bert'], \\\n",
    "     'f1_train(cv)' : ['0.624', '0.763', '-', '-'], \\\n",
    "     'f1_valid' : [0.641, 0.755, 0.56, 0.593], \\\n",
    "     'f1_test' : ['-', '0.773', '-', '-']}\n",
    "\n",
    "result_table = pd.DataFrame(data=d)"
   ]
  },
  {
   "cell_type": "markdown",
   "metadata": {},
   "source": [
    "Таблица:"
   ]
  },
  {
   "cell_type": "code",
   "execution_count": 50,
   "metadata": {
    "ExecuteTime": {
     "end_time": "2023-07-09T19:23:06.457745Z",
     "start_time": "2023-07-09T19:23:06.450765Z"
    }
   },
   "outputs": [
    {
     "data": {
      "text/html": [
       "<div>\n",
       "<style scoped>\n",
       "    .dataframe tbody tr th:only-of-type {\n",
       "        vertical-align: middle;\n",
       "    }\n",
       "\n",
       "    .dataframe tbody tr th {\n",
       "        vertical-align: top;\n",
       "    }\n",
       "\n",
       "    .dataframe thead th {\n",
       "        text-align: right;\n",
       "    }\n",
       "</style>\n",
       "<table border=\"1\" class=\"dataframe\">\n",
       "  <thead>\n",
       "    <tr style=\"text-align: right;\">\n",
       "      <th></th>\n",
       "      <th>name</th>\n",
       "      <th>f1_train(cv)</th>\n",
       "      <th>f1_valid</th>\n",
       "      <th>f1_test</th>\n",
       "    </tr>\n",
       "  </thead>\n",
       "  <tbody>\n",
       "    <tr>\n",
       "      <th>1</th>\n",
       "      <td>LogisticRegression</td>\n",
       "      <td>0.763</td>\n",
       "      <td>0.755</td>\n",
       "      <td>0.773</td>\n",
       "    </tr>\n",
       "    <tr>\n",
       "      <th>0</th>\n",
       "      <td>CatBoost</td>\n",
       "      <td>0.624</td>\n",
       "      <td>0.641</td>\n",
       "      <td>-</td>\n",
       "    </tr>\n",
       "    <tr>\n",
       "      <th>2</th>\n",
       "      <td>CatBoost_bert</td>\n",
       "      <td>-</td>\n",
       "      <td>0.560</td>\n",
       "      <td>-</td>\n",
       "    </tr>\n",
       "    <tr>\n",
       "      <th>3</th>\n",
       "      <td>LogisticRegression_bert</td>\n",
       "      <td>-</td>\n",
       "      <td>0.593</td>\n",
       "      <td>-</td>\n",
       "    </tr>\n",
       "  </tbody>\n",
       "</table>\n",
       "</div>"
      ],
      "text/plain": [
       "                      name f1_train(cv)  f1_valid f1_test\n",
       "1       LogisticRegression        0.763     0.755   0.773\n",
       "0                 CatBoost        0.624     0.641       -\n",
       "2            CatBoost_bert            -     0.560       -\n",
       "3  LogisticRegression_bert            -     0.593       -"
      ]
     },
     "metadata": {},
     "output_type": "display_data"
    }
   ],
   "source": [
    "display(result_table.sort_values('f1_test', ascending=False))"
   ]
  },
  {
   "cell_type": "markdown",
   "metadata": {
    "id": "mRAtea9EeWXg"
   },
   "source": [
    "План выполнения задачи: \n",
    "1. Сначала мы выполнили лемматизацию текста, очистили его от стоп слов и создали \"корпус\".\n",
    "2. Далее выполни векторизацию с помощью TF-IDF величины \n",
    "3. Обучили модели CatBoost и LogisticRegression на векторизованных текстах \n",
    "4. Волспользовались BERT моделью. Токенизировали исходные твиты и нашли эмбендингию \n",
    "5. На полученных эмбендингах обучили CatBoost и LogisticRegression модели\n",
    "\n",
    "Единственной моделью у которой F1 > 0.75 является LogisticRegression\n",
    "\n",
    "Данная модель имеет следующие гиперпараметры:\n",
    "\n",
    "* class_weight='balanced'\n",
    "* solver='liblinear'\n",
    "* C=10\n",
    "\n",
    "F1 этой модели на тестовой выборке равен: 0.7649074708704593\n",
    "\n"
   ]
  }
 ],
 "metadata": {
  "ExecuteTimeLog": [
   {
    "duration": 350,
    "start_time": "2023-07-06T08:48:39.639Z"
   },
   {
    "duration": 120,
    "start_time": "2023-07-06T08:49:52.733Z"
   },
   {
    "duration": 2421,
    "start_time": "2023-07-06T08:50:10.237Z"
   },
   {
    "duration": 18,
    "start_time": "2023-07-06T08:50:19.109Z"
   },
   {
    "duration": 25,
    "start_time": "2023-07-06T08:52:52.243Z"
   },
   {
    "duration": 19,
    "start_time": "2023-07-06T09:02:08.697Z"
   },
   {
    "duration": 2591,
    "start_time": "2023-07-09T14:28:21.534Z"
   },
   {
    "duration": 227,
    "start_time": "2023-07-09T14:28:27.021Z"
   }
  ],
  "accelerator": "GPU",
  "colab": {
   "gpuType": "T4",
   "provenance": [],
   "toc_visible": true
  },
  "kernelspec": {
   "display_name": "Python 3 (ipykernel)",
   "language": "python",
   "name": "python3"
  },
  "language_info": {
   "codemirror_mode": {
    "name": "ipython",
    "version": 3
   },
   "file_extension": ".py",
   "mimetype": "text/x-python",
   "name": "python",
   "nbconvert_exporter": "python",
   "pygments_lexer": "ipython3",
   "version": "3.9.12"
  },
  "toc": {
   "base_numbering": 1,
   "nav_menu": {},
   "number_sections": true,
   "sideBar": true,
   "skip_h1_title": true,
   "title_cell": "Содержание",
   "title_sidebar": "Contents",
   "toc_cell": true,
   "toc_position": {
    "height": "calc(100% - 180px)",
    "left": "10px",
    "top": "150px",
    "width": "302.391px"
   },
   "toc_section_display": true,
   "toc_window_display": true
  }
 },
 "nbformat": 4,
 "nbformat_minor": 1
}
