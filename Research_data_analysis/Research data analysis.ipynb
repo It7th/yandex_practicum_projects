{
 "cells": [
  {
   "cell_type": "markdown",
   "metadata": {},
   "source": [
    "# Исследование объявлений о продаже квартир\n",
    "\n",
    "В вашем распоряжении данные сервиса Яндекс.Недвижимость — архив объявлений о продаже квартир в Санкт-Петербурге и соседних населённых пунктов за несколько лет. Нужно научиться определять рыночную стоимость объектов недвижимости. Ваша задача — установить параметры. Это позволит построить автоматизированную систему: она отследит аномалии и мошенническую деятельность. \n",
    "\n",
    "По каждой квартире на продажу доступны два вида данных. Первые вписаны пользователем, вторые — получены автоматически на основе картографических данных. Например, расстояние до центра, аэропорта, ближайшего парка и водоёма. "
   ]
  },
  {
   "cell_type": "markdown",
   "metadata": {},
   "source": [
    "### Откройте файл с данными и изучите общую информацию. "
   ]
  },
  {
   "cell_type": "code",
   "execution_count": 1,
   "metadata": {},
   "outputs": [
    {
     "data": {
      "text/html": [
       "<div>\n",
       "<style scoped>\n",
       "    .dataframe tbody tr th:only-of-type {\n",
       "        vertical-align: middle;\n",
       "    }\n",
       "\n",
       "    .dataframe tbody tr th {\n",
       "        vertical-align: top;\n",
       "    }\n",
       "\n",
       "    .dataframe thead th {\n",
       "        text-align: right;\n",
       "    }\n",
       "</style>\n",
       "<table border=\"1\" class=\"dataframe\">\n",
       "  <thead>\n",
       "    <tr style=\"text-align: right;\">\n",
       "      <th></th>\n",
       "      <th>total_images</th>\n",
       "      <th>last_price</th>\n",
       "      <th>total_area</th>\n",
       "      <th>first_day_exposition</th>\n",
       "      <th>rooms</th>\n",
       "      <th>ceiling_height</th>\n",
       "      <th>floors_total</th>\n",
       "      <th>living_area</th>\n",
       "      <th>floor</th>\n",
       "      <th>is_apartment</th>\n",
       "      <th>...</th>\n",
       "      <th>kitchen_area</th>\n",
       "      <th>balcony</th>\n",
       "      <th>locality_name</th>\n",
       "      <th>airports_nearest</th>\n",
       "      <th>cityCenters_nearest</th>\n",
       "      <th>parks_around3000</th>\n",
       "      <th>parks_nearest</th>\n",
       "      <th>ponds_around3000</th>\n",
       "      <th>ponds_nearest</th>\n",
       "      <th>days_exposition</th>\n",
       "    </tr>\n",
       "  </thead>\n",
       "  <tbody>\n",
       "    <tr>\n",
       "      <th>0</th>\n",
       "      <td>20</td>\n",
       "      <td>13000000.0</td>\n",
       "      <td>108.0</td>\n",
       "      <td>2019-03-07T00:00:00</td>\n",
       "      <td>3</td>\n",
       "      <td>2.70</td>\n",
       "      <td>16.0</td>\n",
       "      <td>51.0</td>\n",
       "      <td>8</td>\n",
       "      <td>NaN</td>\n",
       "      <td>...</td>\n",
       "      <td>25.0</td>\n",
       "      <td>NaN</td>\n",
       "      <td>Санкт-Петербург</td>\n",
       "      <td>18863.0</td>\n",
       "      <td>16028.0</td>\n",
       "      <td>1.0</td>\n",
       "      <td>482.0</td>\n",
       "      <td>2.0</td>\n",
       "      <td>755.0</td>\n",
       "      <td>NaN</td>\n",
       "    </tr>\n",
       "    <tr>\n",
       "      <th>1</th>\n",
       "      <td>7</td>\n",
       "      <td>3350000.0</td>\n",
       "      <td>40.4</td>\n",
       "      <td>2018-12-04T00:00:00</td>\n",
       "      <td>1</td>\n",
       "      <td>NaN</td>\n",
       "      <td>11.0</td>\n",
       "      <td>18.6</td>\n",
       "      <td>1</td>\n",
       "      <td>NaN</td>\n",
       "      <td>...</td>\n",
       "      <td>11.0</td>\n",
       "      <td>2.0</td>\n",
       "      <td>посёлок Шушары</td>\n",
       "      <td>12817.0</td>\n",
       "      <td>18603.0</td>\n",
       "      <td>0.0</td>\n",
       "      <td>NaN</td>\n",
       "      <td>0.0</td>\n",
       "      <td>NaN</td>\n",
       "      <td>81.0</td>\n",
       "    </tr>\n",
       "    <tr>\n",
       "      <th>2</th>\n",
       "      <td>10</td>\n",
       "      <td>5196000.0</td>\n",
       "      <td>56.0</td>\n",
       "      <td>2015-08-20T00:00:00</td>\n",
       "      <td>2</td>\n",
       "      <td>NaN</td>\n",
       "      <td>5.0</td>\n",
       "      <td>34.3</td>\n",
       "      <td>4</td>\n",
       "      <td>NaN</td>\n",
       "      <td>...</td>\n",
       "      <td>8.3</td>\n",
       "      <td>0.0</td>\n",
       "      <td>Санкт-Петербург</td>\n",
       "      <td>21741.0</td>\n",
       "      <td>13933.0</td>\n",
       "      <td>1.0</td>\n",
       "      <td>90.0</td>\n",
       "      <td>2.0</td>\n",
       "      <td>574.0</td>\n",
       "      <td>558.0</td>\n",
       "    </tr>\n",
       "    <tr>\n",
       "      <th>3</th>\n",
       "      <td>0</td>\n",
       "      <td>64900000.0</td>\n",
       "      <td>159.0</td>\n",
       "      <td>2015-07-24T00:00:00</td>\n",
       "      <td>3</td>\n",
       "      <td>NaN</td>\n",
       "      <td>14.0</td>\n",
       "      <td>NaN</td>\n",
       "      <td>9</td>\n",
       "      <td>NaN</td>\n",
       "      <td>...</td>\n",
       "      <td>NaN</td>\n",
       "      <td>0.0</td>\n",
       "      <td>Санкт-Петербург</td>\n",
       "      <td>28098.0</td>\n",
       "      <td>6800.0</td>\n",
       "      <td>2.0</td>\n",
       "      <td>84.0</td>\n",
       "      <td>3.0</td>\n",
       "      <td>234.0</td>\n",
       "      <td>424.0</td>\n",
       "    </tr>\n",
       "    <tr>\n",
       "      <th>4</th>\n",
       "      <td>2</td>\n",
       "      <td>10000000.0</td>\n",
       "      <td>100.0</td>\n",
       "      <td>2018-06-19T00:00:00</td>\n",
       "      <td>2</td>\n",
       "      <td>3.03</td>\n",
       "      <td>14.0</td>\n",
       "      <td>32.0</td>\n",
       "      <td>13</td>\n",
       "      <td>NaN</td>\n",
       "      <td>...</td>\n",
       "      <td>41.0</td>\n",
       "      <td>NaN</td>\n",
       "      <td>Санкт-Петербург</td>\n",
       "      <td>31856.0</td>\n",
       "      <td>8098.0</td>\n",
       "      <td>2.0</td>\n",
       "      <td>112.0</td>\n",
       "      <td>1.0</td>\n",
       "      <td>48.0</td>\n",
       "      <td>121.0</td>\n",
       "    </tr>\n",
       "  </tbody>\n",
       "</table>\n",
       "<p>5 rows × 22 columns</p>\n",
       "</div>"
      ],
      "text/plain": [
       "   total_images  last_price  total_area first_day_exposition  rooms  \\\n",
       "0            20  13000000.0       108.0  2019-03-07T00:00:00      3   \n",
       "1             7   3350000.0        40.4  2018-12-04T00:00:00      1   \n",
       "2            10   5196000.0        56.0  2015-08-20T00:00:00      2   \n",
       "3             0  64900000.0       159.0  2015-07-24T00:00:00      3   \n",
       "4             2  10000000.0       100.0  2018-06-19T00:00:00      2   \n",
       "\n",
       "   ceiling_height  floors_total  living_area  floor is_apartment  ...  \\\n",
       "0            2.70          16.0         51.0      8          NaN  ...   \n",
       "1             NaN          11.0         18.6      1          NaN  ...   \n",
       "2             NaN           5.0         34.3      4          NaN  ...   \n",
       "3             NaN          14.0          NaN      9          NaN  ...   \n",
       "4            3.03          14.0         32.0     13          NaN  ...   \n",
       "\n",
       "   kitchen_area  balcony    locality_name  airports_nearest  \\\n",
       "0          25.0      NaN  Санкт-Петербург           18863.0   \n",
       "1          11.0      2.0   посёлок Шушары           12817.0   \n",
       "2           8.3      0.0  Санкт-Петербург           21741.0   \n",
       "3           NaN      0.0  Санкт-Петербург           28098.0   \n",
       "4          41.0      NaN  Санкт-Петербург           31856.0   \n",
       "\n",
       "  cityCenters_nearest  parks_around3000  parks_nearest  ponds_around3000  \\\n",
       "0             16028.0               1.0          482.0               2.0   \n",
       "1             18603.0               0.0            NaN               0.0   \n",
       "2             13933.0               1.0           90.0               2.0   \n",
       "3              6800.0               2.0           84.0               3.0   \n",
       "4              8098.0               2.0          112.0               1.0   \n",
       "\n",
       "   ponds_nearest  days_exposition  \n",
       "0          755.0              NaN  \n",
       "1            NaN             81.0  \n",
       "2          574.0            558.0  \n",
       "3          234.0            424.0  \n",
       "4           48.0            121.0  \n",
       "\n",
       "[5 rows x 22 columns]"
      ]
     },
     "metadata": {},
     "output_type": "display_data"
    },
    {
     "name": "stdout",
     "output_type": "stream",
     "text": [
      "<class 'pandas.core.frame.DataFrame'>\n",
      "RangeIndex: 23699 entries, 0 to 23698\n",
      "Data columns (total 22 columns):\n",
      " #   Column                Non-Null Count  Dtype  \n",
      "---  ------                --------------  -----  \n",
      " 0   total_images          23699 non-null  int64  \n",
      " 1   last_price            23699 non-null  float64\n",
      " 2   total_area            23699 non-null  float64\n",
      " 3   first_day_exposition  23699 non-null  object \n",
      " 4   rooms                 23699 non-null  int64  \n",
      " 5   ceiling_height        14504 non-null  float64\n",
      " 6   floors_total          23613 non-null  float64\n",
      " 7   living_area           21796 non-null  float64\n",
      " 8   floor                 23699 non-null  int64  \n",
      " 9   is_apartment          2775 non-null   object \n",
      " 10  studio                23699 non-null  bool   \n",
      " 11  open_plan             23699 non-null  bool   \n",
      " 12  kitchen_area          21421 non-null  float64\n",
      " 13  balcony               12180 non-null  float64\n",
      " 14  locality_name         23650 non-null  object \n",
      " 15  airports_nearest      18157 non-null  float64\n",
      " 16  cityCenters_nearest   18180 non-null  float64\n",
      " 17  parks_around3000      18181 non-null  float64\n",
      " 18  parks_nearest         8079 non-null   float64\n",
      " 19  ponds_around3000      18181 non-null  float64\n",
      " 20  ponds_nearest         9110 non-null   float64\n",
      " 21  days_exposition       20518 non-null  float64\n",
      "dtypes: bool(2), float64(14), int64(3), object(3)\n",
      "memory usage: 3.7+ MB\n"
     ]
    }
   ],
   "source": [
    "import pandas as pd\n",
    "import numpy as np\n",
    "\n",
    "df = pd.read_csv('/datasets/real_estate_data.csv', sep=\"\\t\")\n",
    "display(df.head())\n",
    "\n",
    "df.info()"
   ]
  },
  {
   "cell_type": "code",
   "execution_count": 2,
   "metadata": {
    "scrolled": true
   },
   "outputs": [
    {
     "data": {
      "image/png": "[encoded data removed]",
      "text/plain": [
       "<Figure size 1080x1440 with 20 Axes>"
      ]
     },
     "metadata": {
      "needs_background": "light"
     },
     "output_type": "display_data"
    }
   ],
   "source": [
    "df.hist(figsize=(15,20))\n",
    "df = df.rename(columns={'cityCenters_nearest':'city_centers_nearest'})"
   ]
  },
  {
   "cell_type": "code",
   "execution_count": 3,
   "metadata": {
    "scrolled": false
   },
   "outputs": [
    {
     "data": {
      "text/html": [
       "<style  type=\"text/css\" >\n",
       "#T_797ad_row0_col0,#T_797ad_row1_col0,#T_797ad_row2_col0,#T_797ad_row3_col0,#T_797ad_row4_col0,#T_797ad_row6_col0,#T_797ad_row8_col0,#T_797ad_row10_col0,#T_797ad_row11_col0,#T_797ad_row14_col0{\n",
       "            background-color:  #3b4cc0;\n",
       "            color:  #f1f1f1;\n",
       "        }#T_797ad_row5_col0{\n",
       "            background-color:  #cdd9ec;\n",
       "            color:  #000000;\n",
       "        }#T_797ad_row7_col0{\n",
       "            background-color:  #5673e0;\n",
       "            color:  #000000;\n",
       "        }#T_797ad_row9_col0{\n",
       "            background-color:  #b40426;\n",
       "            color:  #f1f1f1;\n",
       "        }#T_797ad_row12_col0{\n",
       "            background-color:  #5e7de7;\n",
       "            color:  #000000;\n",
       "        }#T_797ad_row13_col0{\n",
       "            background-color:  #ead4c8;\n",
       "            color:  #000000;\n",
       "        }#T_797ad_row15_col0,#T_797ad_row16_col0,#T_797ad_row17_col0,#T_797ad_row19_col0{\n",
       "            background-color:  #90b2fe;\n",
       "            color:  #000000;\n",
       "        }#T_797ad_row18_col0{\n",
       "            background-color:  #f4987a;\n",
       "            color:  #000000;\n",
       "        }#T_797ad_row20_col0{\n",
       "            background-color:  #f7aa8c;\n",
       "            color:  #000000;\n",
       "        }#T_797ad_row21_col0{\n",
       "            background-color:  #688aef;\n",
       "            color:  #000000;\n",
       "        }</style><table id=\"T_797ad_\" ><thead>    <tr>        <th class=\"blank level0\" ></th>        <th class=\"col_heading level0 col0\" >0</th>    </tr></thead><tbody>\n",
       "                <tr>\n",
       "                        <th id=\"T_797ad_level0_row0\" class=\"row_heading level0 row0\" >total_images</th>\n",
       "                        <td id=\"T_797ad_row0_col0\" class=\"data row0 col0\" >0.000000</td>\n",
       "            </tr>\n",
       "            <tr>\n",
       "                        <th id=\"T_797ad_level0_row1\" class=\"row_heading level0 row1\" >last_price</th>\n",
       "                        <td id=\"T_797ad_row1_col0\" class=\"data row1 col0\" >0.000000</td>\n",
       "            </tr>\n",
       "            <tr>\n",
       "                        <th id=\"T_797ad_level0_row2\" class=\"row_heading level0 row2\" >total_area</th>\n",
       "                        <td id=\"T_797ad_row2_col0\" class=\"data row2 col0\" >0.000000</td>\n",
       "            </tr>\n",
       "            <tr>\n",
       "                        <th id=\"T_797ad_level0_row3\" class=\"row_heading level0 row3\" >first_day_exposition</th>\n",
       "                        <td id=\"T_797ad_row3_col0\" class=\"data row3 col0\" >0.000000</td>\n",
       "            </tr>\n",
       "            <tr>\n",
       "                        <th id=\"T_797ad_level0_row4\" class=\"row_heading level0 row4\" >rooms</th>\n",
       "                        <td id=\"T_797ad_row4_col0\" class=\"data row4 col0\" >0.000000</td>\n",
       "            </tr>\n",
       "            <tr>\n",
       "                        <th id=\"T_797ad_level0_row5\" class=\"row_heading level0 row5\" >ceiling_height</th>\n",
       "                        <td id=\"T_797ad_row5_col0\" class=\"data row5 col0\" >39.000000</td>\n",
       "            </tr>\n",
       "            <tr>\n",
       "                        <th id=\"T_797ad_level0_row6\" class=\"row_heading level0 row6\" >floors_total</th>\n",
       "                        <td id=\"T_797ad_row6_col0\" class=\"data row6 col0\" >0.000000</td>\n",
       "            </tr>\n",
       "            <tr>\n",
       "                        <th id=\"T_797ad_level0_row7\" class=\"row_heading level0 row7\" >living_area</th>\n",
       "                        <td id=\"T_797ad_row7_col0\" class=\"data row7 col0\" >8.000000</td>\n",
       "            </tr>\n",
       "            <tr>\n",
       "                        <th id=\"T_797ad_level0_row8\" class=\"row_heading level0 row8\" >floor</th>\n",
       "                        <td id=\"T_797ad_row8_col0\" class=\"data row8 col0\" >0.000000</td>\n",
       "            </tr>\n",
       "            <tr>\n",
       "                        <th id=\"T_797ad_level0_row9\" class=\"row_heading level0 row9\" >is_apartment</th>\n",
       "                        <td id=\"T_797ad_row9_col0\" class=\"data row9 col0\" >88.000000</td>\n",
       "            </tr>\n",
       "            <tr>\n",
       "                        <th id=\"T_797ad_level0_row10\" class=\"row_heading level0 row10\" >studio</th>\n",
       "                        <td id=\"T_797ad_row10_col0\" class=\"data row10 col0\" >0.000000</td>\n",
       "            </tr>\n",
       "            <tr>\n",
       "                        <th id=\"T_797ad_level0_row11\" class=\"row_heading level0 row11\" >open_plan</th>\n",
       "                        <td id=\"T_797ad_row11_col0\" class=\"data row11 col0\" >0.000000</td>\n",
       "            </tr>\n",
       "            <tr>\n",
       "                        <th id=\"T_797ad_level0_row12\" class=\"row_heading level0 row12\" >kitchen_area</th>\n",
       "                        <td id=\"T_797ad_row12_col0\" class=\"data row12 col0\" >10.000000</td>\n",
       "            </tr>\n",
       "            <tr>\n",
       "                        <th id=\"T_797ad_level0_row13\" class=\"row_heading level0 row13\" >balcony</th>\n",
       "                        <td id=\"T_797ad_row13_col0\" class=\"data row13 col0\" >49.000000</td>\n",
       "            </tr>\n",
       "            <tr>\n",
       "                        <th id=\"T_797ad_level0_row14\" class=\"row_heading level0 row14\" >locality_name</th>\n",
       "                        <td id=\"T_797ad_row14_col0\" class=\"data row14 col0\" >0.000000</td>\n",
       "            </tr>\n",
       "            <tr>\n",
       "                        <th id=\"T_797ad_level0_row15\" class=\"row_heading level0 row15\" >airports_nearest</th>\n",
       "                        <td id=\"T_797ad_row15_col0\" class=\"data row15 col0\" >23.000000</td>\n",
       "            </tr>\n",
       "            <tr>\n",
       "                        <th id=\"T_797ad_level0_row16\" class=\"row_heading level0 row16\" >city_centers_nearest</th>\n",
       "                        <td id=\"T_797ad_row16_col0\" class=\"data row16 col0\" >23.000000</td>\n",
       "            </tr>\n",
       "            <tr>\n",
       "                        <th id=\"T_797ad_level0_row17\" class=\"row_heading level0 row17\" >parks_around3000</th>\n",
       "                        <td id=\"T_797ad_row17_col0\" class=\"data row17 col0\" >23.000000</td>\n",
       "            </tr>\n",
       "            <tr>\n",
       "                        <th id=\"T_797ad_level0_row18\" class=\"row_heading level0 row18\" >parks_nearest</th>\n",
       "                        <td id=\"T_797ad_row18_col0\" class=\"data row18 col0\" >66.000000</td>\n",
       "            </tr>\n",
       "            <tr>\n",
       "                        <th id=\"T_797ad_level0_row19\" class=\"row_heading level0 row19\" >ponds_around3000</th>\n",
       "                        <td id=\"T_797ad_row19_col0\" class=\"data row19 col0\" >23.000000</td>\n",
       "            </tr>\n",
       "            <tr>\n",
       "                        <th id=\"T_797ad_level0_row20\" class=\"row_heading level0 row20\" >ponds_nearest</th>\n",
       "                        <td id=\"T_797ad_row20_col0\" class=\"data row20 col0\" >62.000000</td>\n",
       "            </tr>\n",
       "            <tr>\n",
       "                        <th id=\"T_797ad_level0_row21\" class=\"row_heading level0 row21\" >days_exposition</th>\n",
       "                        <td id=\"T_797ad_row21_col0\" class=\"data row21 col0\" >13.000000</td>\n",
       "            </tr>\n",
       "    </tbody></table>"
      ],
      "text/plain": [
       "<pandas.io.formats.style.Styler at 0x7f7f3b675220>"
      ]
     },
     "execution_count": 3,
     "metadata": {},
     "output_type": "execute_result"
    }
   ],
   "source": [
    "df.isna().sum()\n",
    "pd.DataFrame(round(df.isna().mean()*100,)).style.background_gradient('coolwarm')"
   ]
  },
  {
   "cell_type": "code",
   "execution_count": 4,
   "metadata": {},
   "outputs": [
    {
     "name": "stdout",
     "output_type": "stream",
     "text": [
      "total_images                0\n",
      "last_price                  0\n",
      "total_area                  0\n",
      "first_day_exposition        0\n",
      "rooms                       0\n",
      "ceiling_height           9084\n",
      "floors_total                0\n",
      "living_area               110\n",
      "floor                       0\n",
      "is_apartment                0\n",
      "studio                      0\n",
      "open_plan                   0\n",
      "kitchen_area             2076\n",
      "balcony                     0\n",
      "locality_name               0\n",
      "airports_nearest         5524\n",
      "city_centers_nearest     5501\n",
      "parks_around3000            0\n",
      "parks_nearest           15535\n",
      "ponds_around3000            0\n",
      "ponds_nearest           14529\n",
      "days_exposition          3171\n",
      "dtype: int64\n"
     ]
    }
   ],
   "source": [
    "df['balcony'] = df['balcony'].where(df['balcony'].isna() == False, 0)\n",
    "df['parks_around3000'] = df['parks_around3000'].where((df['parks_around3000'].isna() == False) | (df['parks_nearest'] <= 3000), 0)\n",
    "df['parks_around3000'] = df['parks_around3000'].where((df['parks_around3000'].isna() == False) | (df['parks_nearest'] > 3000), 1)\n",
    "df['ponds_around3000'] = df['ponds_around3000'].where((df['ponds_around3000'].isna() == False) | (df['ponds_nearest'] <= 3000), 0)\n",
    "df['ponds_around3000'] = df['ponds_around3000'].where((df['ponds_around3000'].isna() == False) | (df['ponds_nearest'] > 3000), 1)\n",
    "df['living_area'] = df['living_area'].where((df['living_area'].isna() == False) | (df['is_apartment'] == False), 0)\n",
    "df['is_apartment'] = df['is_apartment'].where((df['is_apartment'].isna() == False) | (df['living_area'] != 0), True)\n",
    "df['kitchen_area'] = df['kitchen_area'].where((df['kitchen_area'].isna() == False) | (df['studio'] == False), 0)\n",
    "df['is_apartment'] = df['is_apartment'].fillna('False')\n",
    "\n",
    "df.dropna(subset=['floors_total', 'locality_name'], inplace=True)\n",
    "\n",
    "print(df.isna().sum())\n",
    "\n"
   ]
  },
  {
   "cell_type": "markdown",
   "metadata": {},
   "source": [
    "1. Отсутствие данных в стобце 'balcony' может быть связано с тем, что их попросту нет в квартире.\n",
    "2. Пропуски в стобце 'parks_around3000' и 'ponds_around3000' могли возникнуть вследствие обычной невнимательности пользователя или же программной ошибки. Пропуски можно заменить по следующему условию: если расстояние до ближайшего парка больше 3к, то число парков в радиусе 3км = 0, для строк где пропуск (аналогично для водоемов). А если расстояние до ближайшего парка соответственно меньше 3к, то число парков в радиусе 3к = 1, для строк где есть пропуск. \n",
    "3. Пропукси в столбце 'ceiling_height' могли возникнуть или из-за программной ошибки, или из-за нежелания пользователя заполнять данный пункт (возмоно пользователь просто не знает)\n",
    "4. Пропукси в столбце 'floors_total' скорее всего возникли из-за невнимательности пользователя. Вряд ли кто-то не знает о кол-ве этажей в своем доме. Или же, если в данных есть информация не только о квартирах, но и о домах, то вместо пропусков можно поставить 1.\n",
    "5. Пропукси в столбце 'living_area' могли возникнуть или из-за программной ошибки, или же из-за того, что продаваемый объект не является жилым. (Очень много вопросов по данным. Продаются ТОЛЬКО квартиры или дома тоже ? Возможно ли, что кто-то таунхаус ? Могут ли люди продавать кладовку или место для парковки ?). Пропуски в living_area можно заменить на 0, если объект продажи является апартаментами, потому что по закону у аппартаментов нет жилой площади \n",
    "6. Пропуски в столбце 'is_apartment' могут быть связаны или с невнимательностью пользователя, или с незнанием отличий между аппартаментами и квартирой, или из-за программной ошибки. Можно сказать, что если жилая площадь 0, то объект относится к категории апартамент. Заменим оставшиеся значения на False\n",
    "7. В столбце kitchen_area пропуски могут быть из-за отсутствия как таковой кухни или же из-за ошибки. Проверим, если это студия, то впишем 0\n",
    "8. В стоблце locality_name пропуски могут быть или из-за ошибки или же из-за нежелания пользователя вписывать эти данные.\n",
    "9. В солбце days_exposition пропуски могут быть или из-за ошикбки, или же из-за того, что объект пробыл на площадке менее 1 дня, из-за чего программа не смогла занести значение.\n",
    "10. Для Оставшихся столбцов причины могут быть аналогичны пункту 8."
   ]
  },
  {
   "cell_type": "code",
   "execution_count": 5,
   "metadata": {},
   "outputs": [
    {
     "name": "stdout",
     "output_type": "stream",
     "text": [
      "<class 'pandas.core.frame.DataFrame'>\n",
      "Int64Index: 23565 entries, 0 to 23698\n",
      "Data columns (total 22 columns):\n",
      " #   Column                Non-Null Count  Dtype  \n",
      "---  ------                --------------  -----  \n",
      " 0   total_images          23565 non-null  int64  \n",
      " 1   last_price            23565 non-null  float64\n",
      " 2   total_area            23565 non-null  float64\n",
      " 3   first_day_exposition  23565 non-null  object \n",
      " 4   rooms                 23565 non-null  int64  \n",
      " 5   ceiling_height        14481 non-null  float64\n",
      " 6   floors_total          23565 non-null  float64\n",
      " 7   living_area           23455 non-null  float64\n",
      " 8   floor                 23565 non-null  int64  \n",
      " 9   is_apartment          23565 non-null  object \n",
      " 10  studio                23565 non-null  bool   \n",
      " 11  open_plan             23565 non-null  bool   \n",
      " 12  kitchen_area          21489 non-null  float64\n",
      " 13  balcony               23565 non-null  float64\n",
      " 14  locality_name         23565 non-null  object \n",
      " 15  airports_nearest      18041 non-null  float64\n",
      " 16  city_centers_nearest  18064 non-null  float64\n",
      " 17  parks_around3000      23565 non-null  float64\n",
      " 18  parks_nearest         8030 non-null   float64\n",
      " 19  ponds_around3000      23565 non-null  float64\n",
      " 20  ponds_nearest         9036 non-null   float64\n",
      " 21  days_exposition       20394 non-null  float64\n",
      "dtypes: bool(2), float64(14), int64(3), object(3)\n",
      "memory usage: 3.8+ MB\n"
     ]
    }
   ],
   "source": [
    "df.info()"
   ]
  },
  {
   "cell_type": "code",
   "execution_count": 6,
   "metadata": {},
   "outputs": [
    {
     "name": "stdout",
     "output_type": "stream",
     "text": [
      "we can't change type in columns 'days_exposition'\n",
      "<class 'pandas.core.frame.DataFrame'>\n",
      "Int64Index: 23565 entries, 0 to 23698\n",
      "Data columns (total 22 columns):\n",
      " #   Column                Non-Null Count  Dtype         \n",
      "---  ------                --------------  -----         \n",
      " 0   total_images          23565 non-null  int64         \n",
      " 1   last_price            23565 non-null  int64         \n",
      " 2   total_area            23565 non-null  float64       \n",
      " 3   first_day_exposition  23565 non-null  datetime64[ns]\n",
      " 4   rooms                 23565 non-null  int64         \n",
      " 5   ceiling_height        14481 non-null  float64       \n",
      " 6   floors_total          23565 non-null  int64         \n",
      " 7   living_area           23455 non-null  float64       \n",
      " 8   floor                 23565 non-null  int64         \n",
      " 9   is_apartment          23565 non-null  bool          \n",
      " 10  studio                23565 non-null  bool          \n",
      " 11  open_plan             23565 non-null  bool          \n",
      " 12  kitchen_area          21489 non-null  float64       \n",
      " 13  balcony               23565 non-null  int64         \n",
      " 14  locality_name         23565 non-null  object        \n",
      " 15  airports_nearest      18041 non-null  float64       \n",
      " 16  city_centers_nearest  18064 non-null  float64       \n",
      " 17  parks_around3000      23565 non-null  float64       \n",
      " 18  parks_nearest         8030 non-null   float64       \n",
      " 19  ponds_around3000      23565 non-null  float64       \n",
      " 20  ponds_nearest         9036 non-null   float64       \n",
      " 21  days_exposition       20394 non-null  float64       \n",
      "dtypes: bool(3), datetime64[ns](1), float64(11), int64(6), object(1)\n",
      "memory usage: 3.7+ MB\n"
     ]
    }
   ],
   "source": [
    "\n",
    "try:\n",
    "    df['last_price'] = df['last_price'].astype(int)\n",
    "except:\n",
    "    print(\"we can't change type in columns 'last_price'\")\n",
    "    \n",
    "try:\n",
    "    df['floors_total'] = df['floors_total'].astype(int)\n",
    "except:\n",
    "    print(\"we can't change type in columns 'floors_total'\")\n",
    "    \n",
    "try:\n",
    "    df['balcony'] = df['balcony'].astype(int)\n",
    "except:\n",
    "    print(\"we can't change type in columns 'balcony'\")\n",
    "    \n",
    "try:\n",
    "    df['days_exposition'] = df['days_exposition'].astype('Int64')\n",
    "except:\n",
    "    print(\"we can't change type in columns 'days_exposition'\")\n",
    "    \n",
    "try:\n",
    "    df['is_apartment'] = df['is_apartment'].replace(['False', 'True'], [False, True])\n",
    "except:\n",
    "    print(\"we can't change type in columns 'is_apartment'\")\n",
    "\n",
    "try:\n",
    "    df['first_day_exposition'] = pd.to_datetime(df['first_day_exposition'], format='%Y-%m-%dT%H:%M:%S')\n",
    "except:\n",
    "    print(\"we can't change type in columns 'first_day_exposition'\")\n",
    "df.info()\n",
    "#2019-03-07T00:00:00"
   ]
  },
  {
   "cell_type": "markdown",
   "metadata": {},
   "source": [
    "Меняем тип у таких столбцов, как:\n",
    "1. last_price на int -  для упрощения вида и подсчета\n",
    "2. first_day_exposition на datetime - потому что так корректнее и удобнее\n",
    "3. floors_total на int - в здании не может быть 4,5 этажа, а значит нет смысла во float\n",
    "4. balcony на int - не может быть 4,5 балкона, а значит нет смысла во float \n",
    "5. days_exposition на int - нет смысла писать: 4,5 дня. (не можем заменить из-за пропусков в данных)\n",
    "6. is_apartment на bool"
   ]
  },
  {
   "cell_type": "code",
   "execution_count": 7,
   "metadata": {},
   "outputs": [
    {
     "name": "stdout",
     "output_type": "stream",
     "text": [
      "Counter({'санкт-петербург': 1, 'шушары': 1, 'янино-1': 1, 'парголово': 1, 'мурино': 1, 'ломоносов': 1, 'сертолово': 1, 'петергоф': 1, 'пушкин': 1, 'кудрово': 1, 'коммунар': 1, 'колпино': 1, 'красный бор': 1, 'гатчина': 1, 'федоровское': 1, 'выборг': 1, 'кронштадт': 1, 'кировск': 1, 'новое девяткино': 1, 'металлострой': 1, 'лебяжье': 1, 'сиверский': 1, 'молодцово': 1, 'кузьмоловский': 1, 'садовое товарищество новая ропша': 1, 'павловск': 1, 'пикколово': 1, 'всеволожск': 1, 'волхов': 1, 'кингисепп': 1, 'приозерск': 1, 'сестрорецк': 1, 'куттузи': 1, 'аннино': 1, 'ефимовский': 1, 'плодовое': 1, 'заклинье': 1, 'торковичи': 1, 'первомайское': 1, 'красное село': 1, 'понтонный': 1, 'сясьстрой': 1, 'старая': 1, 'лесколово': 1, 'новый свет': 1, 'сланцы': 1, 'село путилово': 1, 'ивангород': 1, 'шлиссельбург': 1, 'никольское': 1, 'зеленогорск': 1, 'сосновый бор': 1, 'оржицы': 1, 'кальтино': 1, 'романовка': 1, 'бугры': 1, 'рощино': 1, 'кириши': 1, 'луга': 1, 'волосово': 1, 'отрадное': 1, 'село павлово': 1, 'оредеж': 1, 'село копорье': 1, 'молодежное': 1, 'тихвин': 1, 'победа': 1, 'нурма': 1, 'синявино': 1, 'тосно': 1, 'стрельна': 1, 'бокситогорск': 1, 'александровская': 1, 'лопухинка': 1, 'пикалево': 1, 'терволово': 1, 'советский': 1, 'подпорожье': 1, 'петровское': 1, 'токсово': 1, 'сельцо': 1, 'вырица': 1, 'кипень': 1, 'келози': 1, 'вартемяги': 1, 'тельмана': 1, 'севастьяново': 1, 'большая ижора': 1, 'павлово': 1, 'агалатово': 1, 'новогорелово': 1, 'лесогорский': 1, 'лаголово': 1, 'цвелодубово': 1, 'рахья': 1, 'белогорка': 1, 'заводской': 1, 'новоселье': 1, 'большие колпаны': 1, 'горбунки': 1, 'батово': 1, 'заневка': 1, 'иссад': 1, 'приморск': 1, 'мистолово': 1, 'новая ладога': 1, 'зимитицы': 1, 'барышево': 1, 'разметелево': 1, 'имени свердлова': 1, 'пеники': 1, 'рябово': 1, 'пудомяги': 1, 'станции корнево': 1, 'низино': 1, 'бегуницы': 1, 'поляны': 1, 'мга': 1, 'елизаветино': 1, 'кузнечное': 1, 'колтуши': 1, 'запорожское': 1, 'гостилицы': 1, 'малое карлино': 1, 'мичуринское': 1, 'имени морозова': 1, 'песочный': 1, 'сосново': 1, 'аро': 1, 'ильичево': 1, 'тайцы': 1, 'малое верево': 1, 'извара': 1, 'станции вещево': 1, 'село паша': 1, 'калитино': 1, 'ульяновка': 1, 'чудской бор': 1, 'дубровка': 1, 'мины': 1, 'войсковицы': 1, 'коркино': 1, 'ропша': 1, 'приладожский': 1, 'щеглово': 1, 'гаврилово': 1, 'лодейное поле': 1, 'рабитицы': 1, 'никольский': 1, 'кузьмолово': 1, 'малые колпаны': 1, 'петро-славянка': 1, 'назия': 1, 'репино': 1, 'углово': 1, 'старая малукса': 1, 'садовое товарищество рахья': 1, 'меньково': 1, 'старые бегуницы': 1, 'саперный': 1, 'семрино': 1, 'глажево': 1, 'кобринское': 1, 'гарболово': 1, 'юкки': 1, 'станции приветнинское': 1, 'мануйлово': 1, 'пчева': 1, 'цвылево': 1, 'мельниково': 1, 'пудость': 1, 'усть-луга': 1, 'светогорск': 1, 'любань': 1, 'селезнево': 1, 'каменногорск': 1, 'кривко': 1, 'глебычево': 1, 'парицы': 1, 'жил': 1, 'войскорово': 1, 'село никольское': 1, 'стеклянный': 1, 'важины': 1, 'мыза-ивановка': 1, 'село русско-высоцкое': 1, 'форносово': 1, 'село старая ладога': 1, 'житково': 1, 'виллози': 1, 'лампово': 1, 'шпаньково': 1, 'лаврики': 1, 'сумино': 1, 'возрождение': 1, 'старосиверская': 1, 'кикерино': 1, 'старое хинколово': 1, 'пригородный': 1, 'торфяное': 1, 'будогощь': 1, 'суходолье': 1, 'красная долина': 1, 'хапо-ое': 1, 'дружная горка': 1, 'лисий нос': 1, 'яльгелево': 1, 'село рождествено': 1, 'старополье': 1, 'левашово': 1, 'сяськелево': 1, 'камышовка': 1, 'садоводческое некоммерческое товарищество лесная поляна': 1, 'хязельки': 1, 'жилгородок': 1, 'ялгино': 1, 'новый учхоз': 1, 'гончарово': 1, 'почап': 1, 'саперное': 1, 'платформа 69-й километр': 1, 'каложицы': 1, 'фалилеево': 1, 'пельгора': 1, 'торошковичи': 1, 'белоостров': 1, 'алексеевка': 1, 'серебрянский': 1, 'лукаши': 1, 'тарасово': 1, 'кингисеппский': 1, 'при железнодорожной станции вещево': 1, 'ушаки': 1, 'котлы': 1, 'сижно': 1, 'торосово': 1, 'форт красная горка': 1, 'новолисино': 1, 'станции громово': 1, 'глинка': 1, 'старая пустошь': 1, 'коммунары': 1, 'починок': 1, 'вознесенье': 1, 'разбегаево': 1, 'гладкое': 1, 'при железнодорожной станции приветнинское': 1, 'тесово-4': 1, 'бор': 1, 'коробицыно': 1, 'большая вруда': 1, 'курковицы': 1, 'кобралово': 1, 'суоранда': 1, 'кондратьево': 1, 'коттеджный   счастье': 1, 'реброво': 1, 'тойворово': 1, 'семиозерье': 1, 'лесное': 1, 'совхозный': 1, 'ленинское': 1, 'суйда': 1, 'нижние осельки': 1, 'станции свирь': 1, 'перово': 1, 'высоцк': 1, 'село шум': 1, 'котельский': 1, 'станции лужайка': 1, 'большая пустомержа': 1, 'красносельское': 1, 'вахнова кара': 1, 'пижма': 1, 'коттеджный   кивеннапа север': 1, 'ромашки': 1, 'каськово': 1, 'куровицы': 1, 'плоское': 1, 'кирпичное': 1, 'ям-тесово': 1, 'раздолье': 1, 'терпилицы': 1, 'шугозеро': 1, 'ваганово': 1, 'пушное': 1, 'садовое товарищество садко': 1, 'усть-ижора': 1, 'выскатка': 1, 'свирьстрой': 1, 'громово': 1, 'кисельня': 1, 'трубников бор': 1, 'высокоключевой': 1, 'садовое товарищество приладожский': 1, 'пансионат зеленый бор': 1, 'ненимяки': 1, 'снегиревка': 1, 'рапполово': 1, 'пустынка': 1, 'большой сабск': 1, 'русско': 1, 'лупполово': 1, 'большое рейзино': 1, 'малая романовка': 1, 'дружноселье': 1, 'пчевжа': 1, 'володарское': 1, 'нижняя': 1, 'коттеджный   лесное': 1, 'тихковицы': 1, 'борисова грива': 1, 'дзержинского': 1})\n"
     ]
    }
   ],
   "source": [
    "df['locality_name'] = df['locality_name'].str.lower()\n",
    "df['locality_name'] = df['locality_name'].str.replace('ё', 'е')\n",
    "df['locality_name'] = df['locality_name'].str.replace('поселок городского типа', 'поселок')\n",
    "\n",
    "\n",
    "df['locality_name'] = df['locality_name'].str.replace('поселок',' ')\n",
    "df['locality_name'] = df['locality_name'].str.replace('деревня',' ')\n",
    "df['locality_name'] = df['locality_name'].str.replace('городской',' ')\n",
    "\n",
    "\n",
    "df['locality_name'] = df['locality_name'].str.strip(' ')\n",
    "\n",
    "from collections import Counter\n",
    "print(Counter(df['locality_name'].unique()))"
   ]
  },
  {
   "cell_type": "code",
   "execution_count": 8,
   "metadata": {},
   "outputs": [
    {
     "data": {
      "text/html": [
       "<div>\n",
       "<style scoped>\n",
       "    .dataframe tbody tr th:only-of-type {\n",
       "        vertical-align: middle;\n",
       "    }\n",
       "\n",
       "    .dataframe tbody tr th {\n",
       "        vertical-align: top;\n",
       "    }\n",
       "\n",
       "    .dataframe thead th {\n",
       "        text-align: right;\n",
       "    }\n",
       "</style>\n",
       "<table border=\"1\" class=\"dataframe\">\n",
       "  <thead>\n",
       "    <tr style=\"text-align: right;\">\n",
       "      <th></th>\n",
       "      <th>total_images</th>\n",
       "      <th>last_price</th>\n",
       "      <th>total_area</th>\n",
       "      <th>rooms</th>\n",
       "      <th>ceiling_height</th>\n",
       "      <th>floors_total</th>\n",
       "      <th>living_area</th>\n",
       "      <th>floor</th>\n",
       "      <th>kitchen_area</th>\n",
       "      <th>balcony</th>\n",
       "      <th>airports_nearest</th>\n",
       "      <th>city_centers_nearest</th>\n",
       "      <th>parks_around3000</th>\n",
       "      <th>parks_nearest</th>\n",
       "      <th>ponds_around3000</th>\n",
       "      <th>ponds_nearest</th>\n",
       "      <th>days_exposition</th>\n",
       "    </tr>\n",
       "  </thead>\n",
       "  <tbody>\n",
       "    <tr>\n",
       "      <th>count</th>\n",
       "      <td>23565.000000</td>\n",
       "      <td>2.356500e+04</td>\n",
       "      <td>23565.000000</td>\n",
       "      <td>23565.000000</td>\n",
       "      <td>14481.000000</td>\n",
       "      <td>23565.000000</td>\n",
       "      <td>23455.000000</td>\n",
       "      <td>23565.000000</td>\n",
       "      <td>21489.000000</td>\n",
       "      <td>23565.000000</td>\n",
       "      <td>18041.000000</td>\n",
       "      <td>18064.000000</td>\n",
       "      <td>23565.000000</td>\n",
       "      <td>8030.000000</td>\n",
       "      <td>23565.000000</td>\n",
       "      <td>9036.000000</td>\n",
       "      <td>20394.000000</td>\n",
       "    </tr>\n",
       "    <tr>\n",
       "      <th>mean</th>\n",
       "      <td>9.878421</td>\n",
       "      <td>6.540058e+06</td>\n",
       "      <td>60.322824</td>\n",
       "      <td>2.070656</td>\n",
       "      <td>2.771283</td>\n",
       "      <td>10.675875</td>\n",
       "      <td>31.876770</td>\n",
       "      <td>5.878124</td>\n",
       "      <td>10.489241</td>\n",
       "      <td>0.593677</td>\n",
       "      <td>28797.082701</td>\n",
       "      <td>14192.656056</td>\n",
       "      <td>0.468831</td>\n",
       "      <td>490.580448</td>\n",
       "      <td>0.589900</td>\n",
       "      <td>518.289509</td>\n",
       "      <td>180.741395</td>\n",
       "    </tr>\n",
       "    <tr>\n",
       "      <th>std</th>\n",
       "      <td>5.681156</td>\n",
       "      <td>1.091093e+07</td>\n",
       "      <td>35.657060</td>\n",
       "      <td>1.078591</td>\n",
       "      <td>1.261983</td>\n",
       "      <td>6.594823</td>\n",
       "      <td>23.061123</td>\n",
       "      <td>4.871485</td>\n",
       "      <td>5.944202</td>\n",
       "      <td>0.960660</td>\n",
       "      <td>12632.499735</td>\n",
       "      <td>8613.348153</td>\n",
       "      <td>0.748403</td>\n",
       "      <td>341.572956</td>\n",
       "      <td>0.883966</td>\n",
       "      <td>278.009558</td>\n",
       "      <td>219.732782</td>\n",
       "    </tr>\n",
       "    <tr>\n",
       "      <th>min</th>\n",
       "      <td>0.000000</td>\n",
       "      <td>1.219000e+04</td>\n",
       "      <td>12.000000</td>\n",
       "      <td>0.000000</td>\n",
       "      <td>1.000000</td>\n",
       "      <td>1.000000</td>\n",
       "      <td>0.000000</td>\n",
       "      <td>1.000000</td>\n",
       "      <td>0.000000</td>\n",
       "      <td>0.000000</td>\n",
       "      <td>0.000000</td>\n",
       "      <td>181.000000</td>\n",
       "      <td>0.000000</td>\n",
       "      <td>1.000000</td>\n",
       "      <td>0.000000</td>\n",
       "      <td>13.000000</td>\n",
       "      <td>1.000000</td>\n",
       "    </tr>\n",
       "    <tr>\n",
       "      <th>25%</th>\n",
       "      <td>6.000000</td>\n",
       "      <td>3.400000e+06</td>\n",
       "      <td>40.000000</td>\n",
       "      <td>1.000000</td>\n",
       "      <td>2.510000</td>\n",
       "      <td>5.000000</td>\n",
       "      <td>18.000000</td>\n",
       "      <td>2.000000</td>\n",
       "      <td>7.000000</td>\n",
       "      <td>0.000000</td>\n",
       "      <td>18565.000000</td>\n",
       "      <td>9238.000000</td>\n",
       "      <td>0.000000</td>\n",
       "      <td>288.000000</td>\n",
       "      <td>0.000000</td>\n",
       "      <td>293.000000</td>\n",
       "      <td>45.000000</td>\n",
       "    </tr>\n",
       "    <tr>\n",
       "      <th>50%</th>\n",
       "      <td>9.000000</td>\n",
       "      <td>4.646000e+06</td>\n",
       "      <td>52.000000</td>\n",
       "      <td>2.000000</td>\n",
       "      <td>2.650000</td>\n",
       "      <td>9.000000</td>\n",
       "      <td>29.000000</td>\n",
       "      <td>4.000000</td>\n",
       "      <td>9.000000</td>\n",
       "      <td>0.000000</td>\n",
       "      <td>26757.000000</td>\n",
       "      <td>13096.500000</td>\n",
       "      <td>0.000000</td>\n",
       "      <td>455.000000</td>\n",
       "      <td>0.000000</td>\n",
       "      <td>503.000000</td>\n",
       "      <td>95.000000</td>\n",
       "    </tr>\n",
       "    <tr>\n",
       "      <th>75%</th>\n",
       "      <td>14.000000</td>\n",
       "      <td>6.790000e+06</td>\n",
       "      <td>69.700000</td>\n",
       "      <td>3.000000</td>\n",
       "      <td>2.800000</td>\n",
       "      <td>16.000000</td>\n",
       "      <td>41.200000</td>\n",
       "      <td>8.000000</td>\n",
       "      <td>12.000000</td>\n",
       "      <td>1.000000</td>\n",
       "      <td>37273.000000</td>\n",
       "      <td>16285.000000</td>\n",
       "      <td>1.000000</td>\n",
       "      <td>612.000000</td>\n",
       "      <td>1.000000</td>\n",
       "      <td>730.000000</td>\n",
       "      <td>231.000000</td>\n",
       "    </tr>\n",
       "    <tr>\n",
       "      <th>max</th>\n",
       "      <td>50.000000</td>\n",
       "      <td>7.630000e+08</td>\n",
       "      <td>900.000000</td>\n",
       "      <td>19.000000</td>\n",
       "      <td>100.000000</td>\n",
       "      <td>60.000000</td>\n",
       "      <td>409.700000</td>\n",
       "      <td>33.000000</td>\n",
       "      <td>112.000000</td>\n",
       "      <td>5.000000</td>\n",
       "      <td>84869.000000</td>\n",
       "      <td>65968.000000</td>\n",
       "      <td>3.000000</td>\n",
       "      <td>3190.000000</td>\n",
       "      <td>3.000000</td>\n",
       "      <td>1344.000000</td>\n",
       "      <td>1580.000000</td>\n",
       "    </tr>\n",
       "  </tbody>\n",
       "</table>\n",
       "</div>"
      ],
      "text/plain": [
       "       total_images    last_price    total_area         rooms  ceiling_height  \\\n",
       "count  23565.000000  2.356500e+04  23565.000000  23565.000000    14481.000000   \n",
       "mean       9.878421  6.540058e+06     60.322824      2.070656        2.771283   \n",
       "std        5.681156  1.091093e+07     35.657060      1.078591        1.261983   \n",
       "min        0.000000  1.219000e+04     12.000000      0.000000        1.000000   \n",
       "25%        6.000000  3.400000e+06     40.000000      1.000000        2.510000   \n",
       "50%        9.000000  4.646000e+06     52.000000      2.000000        2.650000   \n",
       "75%       14.000000  6.790000e+06     69.700000      3.000000        2.800000   \n",
       "max       50.000000  7.630000e+08    900.000000     19.000000      100.000000   \n",
       "\n",
       "       floors_total   living_area         floor  kitchen_area       balcony  \\\n",
       "count  23565.000000  23455.000000  23565.000000  21489.000000  23565.000000   \n",
       "mean      10.675875     31.876770      5.878124     10.489241      0.593677   \n",
       "std        6.594823     23.061123      4.871485      5.944202      0.960660   \n",
       "min        1.000000      0.000000      1.000000      0.000000      0.000000   \n",
       "25%        5.000000     18.000000      2.000000      7.000000      0.000000   \n",
       "50%        9.000000     29.000000      4.000000      9.000000      0.000000   \n",
       "75%       16.000000     41.200000      8.000000     12.000000      1.000000   \n",
       "max       60.000000    409.700000     33.000000    112.000000      5.000000   \n",
       "\n",
       "       airports_nearest  city_centers_nearest  parks_around3000  \\\n",
       "count      18041.000000          18064.000000      23565.000000   \n",
       "mean       28797.082701          14192.656056          0.468831   \n",
       "std        12632.499735           8613.348153          0.748403   \n",
       "min            0.000000            181.000000          0.000000   \n",
       "25%        18565.000000           9238.000000          0.000000   \n",
       "50%        26757.000000          13096.500000          0.000000   \n",
       "75%        37273.000000          16285.000000          1.000000   \n",
       "max        84869.000000          65968.000000          3.000000   \n",
       "\n",
       "       parks_nearest  ponds_around3000  ponds_nearest  days_exposition  \n",
       "count    8030.000000      23565.000000    9036.000000     20394.000000  \n",
       "mean      490.580448          0.589900     518.289509       180.741395  \n",
       "std       341.572956          0.883966     278.009558       219.732782  \n",
       "min         1.000000          0.000000      13.000000         1.000000  \n",
       "25%       288.000000          0.000000     293.000000        45.000000  \n",
       "50%       455.000000          0.000000     503.000000        95.000000  \n",
       "75%       612.000000          1.000000     730.000000       231.000000  \n",
       "max      3190.000000          3.000000    1344.000000      1580.000000  "
      ]
     },
     "execution_count": 8,
     "metadata": {},
     "output_type": "execute_result"
    }
   ],
   "source": [
    "df.describe()"
   ]
  },
  {
   "cell_type": "code",
   "execution_count": 9,
   "metadata": {},
   "outputs": [
    {
     "data": {
      "text/html": [
       "<div>\n",
       "<style scoped>\n",
       "    .dataframe tbody tr th:only-of-type {\n",
       "        vertical-align: middle;\n",
       "    }\n",
       "\n",
       "    .dataframe tbody tr th {\n",
       "        vertical-align: top;\n",
       "    }\n",
       "\n",
       "    .dataframe thead th {\n",
       "        text-align: right;\n",
       "    }\n",
       "</style>\n",
       "<table border=\"1\" class=\"dataframe\">\n",
       "  <thead>\n",
       "    <tr style=\"text-align: right;\">\n",
       "      <th></th>\n",
       "      <th>total_images</th>\n",
       "      <th>last_price</th>\n",
       "      <th>total_area</th>\n",
       "      <th>first_day_exposition</th>\n",
       "      <th>rooms</th>\n",
       "      <th>ceiling_height</th>\n",
       "      <th>floors_total</th>\n",
       "      <th>living_area</th>\n",
       "      <th>floor</th>\n",
       "      <th>is_apartment</th>\n",
       "      <th>...</th>\n",
       "      <th>kitchen_area</th>\n",
       "      <th>balcony</th>\n",
       "      <th>locality_name</th>\n",
       "      <th>airports_nearest</th>\n",
       "      <th>city_centers_nearest</th>\n",
       "      <th>parks_around3000</th>\n",
       "      <th>parks_nearest</th>\n",
       "      <th>ponds_around3000</th>\n",
       "      <th>ponds_nearest</th>\n",
       "      <th>days_exposition</th>\n",
       "    </tr>\n",
       "  </thead>\n",
       "  <tbody>\n",
       "    <tr>\n",
       "      <th>8793</th>\n",
       "      <td>7</td>\n",
       "      <td>12190</td>\n",
       "      <td>109.0</td>\n",
       "      <td>2019-03-20</td>\n",
       "      <td>2</td>\n",
       "      <td>2.75</td>\n",
       "      <td>25</td>\n",
       "      <td>32.0</td>\n",
       "      <td>25</td>\n",
       "      <td>False</td>\n",
       "      <td>...</td>\n",
       "      <td>40.5</td>\n",
       "      <td>0</td>\n",
       "      <td>санкт-петербург</td>\n",
       "      <td>36421.0</td>\n",
       "      <td>9176.0</td>\n",
       "      <td>1.0</td>\n",
       "      <td>805.0</td>\n",
       "      <td>0.0</td>\n",
       "      <td>NaN</td>\n",
       "      <td>8.0</td>\n",
       "    </tr>\n",
       "  </tbody>\n",
       "</table>\n",
       "<p>1 rows × 22 columns</p>\n",
       "</div>"
      ],
      "text/plain": [
       "      total_images  last_price  total_area first_day_exposition  rooms  \\\n",
       "8793             7       12190       109.0           2019-03-20      2   \n",
       "\n",
       "      ceiling_height  floors_total  living_area  floor  is_apartment  ...  \\\n",
       "8793            2.75            25         32.0     25         False  ...   \n",
       "\n",
       "      kitchen_area  balcony    locality_name  airports_nearest  \\\n",
       "8793          40.5        0  санкт-петербург           36421.0   \n",
       "\n",
       "     city_centers_nearest  parks_around3000  parks_nearest  ponds_around3000  \\\n",
       "8793               9176.0               1.0          805.0               0.0   \n",
       "\n",
       "      ponds_nearest  days_exposition  \n",
       "8793            NaN              8.0  \n",
       "\n",
       "[1 rows x 22 columns]"
      ]
     },
     "execution_count": 9,
     "metadata": {},
     "output_type": "execute_result"
    }
   ],
   "source": [
    "df[df['last_price'] == df['last_price'].min()]"
   ]
  },
  {
   "cell_type": "markdown",
   "metadata": {},
   "source": [
    "Квартира в Санкт-Петербурге не может стоить 12190 руб. Тем более на 26-м этаже и площадью 109 квадратов. Удаляем из данных"
   ]
  },
  {
   "cell_type": "code",
   "execution_count": 10,
   "metadata": {},
   "outputs": [],
   "source": [
    "df.drop(labels=[8793], axis=0, inplace=True)"
   ]
  },
  {
   "cell_type": "code",
   "execution_count": 11,
   "metadata": {},
   "outputs": [
    {
     "name": "stdout",
     "output_type": "stream",
     "text": [
      "Квартиры стоимостью до 100к: 0\n",
      "Квартиры стоимостью до 1кк: 224\n",
      "Квартиры стоимостью от 100кк: 37\n"
     ]
    },
    {
     "data": {
      "image/png": "[encoded data removed]",
      "text/plain": [
       "<Figure size 432x288 with 1 Axes>"
      ]
     },
     "metadata": {
      "needs_background": "light"
     },
     "output_type": "display_data"
    }
   ],
   "source": [
    "df['last_price'].hist(bins=10, range=(0,25000000))\n",
    "print('Квартиры стоимостью до 100к:', df.query('last_price < 100000')['last_price'].count())\n",
    "print('Квартиры стоимостью до 1кк:', df.query('last_price < 1000000')['last_price'].count())\n",
    "print('Квартиры стоимостью от 100кк:', df.query('last_price > 100000000')['last_price'].count())\n",
    "df.drop(index=df.query('last_price > 100000000').index,inplace=True)\n",
    "#удаляем квартиры, которые стоят больше 100 млн -  в них нет смысла для анализа\n"
   ]
  },
  {
   "cell_type": "code",
   "execution_count": 12,
   "metadata": {},
   "outputs": [
    {
     "name": "stdout",
     "output_type": "stream",
     "text": [
      "Квартиры с площадью более 500м^2: 3\n"
     ]
    },
    {
     "data": {
      "text/plain": [
       "<AxesSubplot:>"
      ]
     },
     "execution_count": 12,
     "metadata": {},
     "output_type": "execute_result"
    },
    {
     "data": {
      "image/png": "[encoded data removed]",
      "text/plain": [
       "<Figure size 432x288 with 1 Axes>"
      ]
     },
     "metadata": {
      "needs_background": "light"
     },
     "output_type": "display_data"
    }
   ],
   "source": [
    "print('Квартиры с площадью более 500м^2:',df.query('total_area > 500')['total_area'].count())\n",
    "#можно удалить, так как для анализа будет так проще\n",
    "df.drop(index=df.query('total_area > 500').index,inplace=True)\\\n",
    "\n",
    "df['total_area'].hist(bins=20, range=(0,500)) \n",
    "#больше всего квартир имеют площадь от 40 до 70 квадратов"
   ]
  },
  {
   "cell_type": "code",
   "execution_count": 13,
   "metadata": {},
   "outputs": [
    {
     "name": "stdout",
     "output_type": "stream",
     "text": [
      "Кол-во квартир с кол-вом комнат равным 0: 194\n",
      "Квартиры студии и с 0 комнат: 135\n",
      "Квартиры апартаменты с 0 комнат: 11\n",
      "Квартиры со свободной планировкой и с 0 комнат: 59\n",
      "Квартиры студии и апартаменты с 0 комнат: 7\n",
      "Квартиры не студии не аппартаменты и не со свободной планировкой с 0 комнат: 0\n"
     ]
    }
   ],
   "source": [
    "#В столбце rooms есть квартиры с кол-вом комнат равное 0. \n",
    "#Проверим, студии, апартамениы или может быть это квартиры свободной планировки\n",
    "print('Кол-во квартир с кол-вом комнат равным 0:', df.query('rooms == 0')['rooms'].count())\n",
    "print('Квартиры студии и с 0 комнат:', df.query('rooms == 0 and studio == True')['rooms'].count())\n",
    "print('Квартиры апартаменты с 0 комнат:', df.query('rooms == 0 and is_apartment == True')['rooms'].count())\n",
    "print('Квартиры со свободной планировкой и с 0 комнат:', df.query('rooms == 0 and open_plan == True')['rooms'].count())\n",
    "print('Квартиры студии и апартаменты с 0 комнат:', df.query('rooms == 0 and studio == True and is_apartment == True')['rooms'].count())\n",
    "print('Квартиры не студии не аппартаменты и не со свободной планировкой с 0 комнат:', \\\n",
    "     df.query('rooms == 0 and studio == False and is_apartment == False and open_plan == False')['rooms'].count())\n",
    "#Значит данные в норме и в этом столбце проблем нет"
   ]
  },
  {
   "cell_type": "code",
   "execution_count": 14,
   "metadata": {},
   "outputs": [
    {
     "name": "stdout",
     "output_type": "stream",
     "text": [
      "Кол-во квартир с потолком меньше 2,5 метра: 73\n",
      "Кол-во квартир с потолком больше 4 метров, но меньше 6 метров: 41\n",
      "Кол-во квартир с потолком от 6 метров до 25 метров : 9\n",
      "Кол-во квартир с потолком от 25 метров до 32 метров : 10\n"
     ]
    }
   ],
   "source": [
    "print('Кол-во квартир с потолком меньше 2,5 метра:', df.query('ceiling_height < 2.5')['ceiling_height'].count())\n",
    "#73 квартиры с потолком ментше 2,5 матера - удаляем \n",
    "print('Кол-во квартир с потолком больше 4 метров, но меньше 6 метров:', df.query('ceiling_height > 4 and ceiling_height < 6')['ceiling_height'].count()) \n",
    "#Возможно это таунхаусы, но так как их всего 41, то можно удалить, чтобы не углублять в анализ ко-ва этажей\n",
    "print('Кол-во квартир с потолком от 6 метров до 25 метров :', df.query('ceiling_height > 6 and ceiling_height < 25')['ceiling_height'].count())\n",
    "# удаляем \n",
    "print('Кол-во квартир с потолком от 25 метров до 32 метров :', df.query('ceiling_height > 25 and ceiling_height < 32')['ceiling_height'].count())\n",
    "# Делим на 10, так как скорее всего это опечатка и реальная высота от 2.5 до 3.2 метров \n",
    "#Всё, что выше - удаляем "
   ]
  },
  {
   "cell_type": "code",
   "execution_count": 15,
   "metadata": {},
   "outputs": [
    {
     "data": {
      "text/plain": [
       "<AxesSubplot:>"
      ]
     },
     "execution_count": 15,
     "metadata": {},
     "output_type": "execute_result"
    },
    {
     "data": {
      "image/png": "[encoded data removed]",
      "text/plain": [
       "<Figure size 432x288 with 1 Axes>"
      ]
     },
     "metadata": {
      "needs_background": "light"
     },
     "output_type": "display_data"
    }
   ],
   "source": [
    "df['ceiling_height'] = df['ceiling_height'].where((df['ceiling_height'] < 25) | (df['ceiling_height'] > 32), df['ceiling_height']/10)\n",
    "df.drop(index=df.query('ceiling_height > 4').index,inplace=True)\n",
    "df.drop(index=df.query('ceiling_height < 2.5').index,inplace=True)\n",
    "df['ceiling_height'].hist(range=(2,5), bins=25)"
   ]
  },
  {
   "cell_type": "code",
   "execution_count": 16,
   "metadata": {},
   "outputs": [
    {
     "name": "stdout",
     "output_type": "stream",
     "text": [
      "count    23400.000000\n",
      "mean        10.700470\n",
      "std          6.599324\n",
      "min          1.000000\n",
      "25%          5.000000\n",
      "50%          9.000000\n",
      "75%         16.000000\n",
      "max         60.000000\n",
      "Name: floors_total, dtype: float64\n"
     ]
    },
    {
     "data": {
      "text/plain": [
       "<AxesSubplot:>"
      ]
     },
     "execution_count": 16,
     "metadata": {},
     "output_type": "execute_result"
    },
    {
     "data": {
      "image/png": "[encoded data removed]",
      "text/plain": [
       "<Figure size 432x288 with 1 Axes>"
      ]
     },
     "metadata": {
      "needs_background": "light"
     },
     "output_type": "display_data"
    }
   ],
   "source": [
    "print(df['floors_total'].describe())\n",
    "df['floors_total'].hist(bins=25)\n",
    "#Данные выглядят нормально. Минимальное кол-во этажей - 1 максимальное - 60. "
   ]
  },
  {
   "cell_type": "code",
   "execution_count": 17,
   "metadata": {},
   "outputs": [
    {
     "name": "stdout",
     "output_type": "stream",
     "text": [
      "count    23292.000000\n",
      "mean        31.594436\n",
      "std         21.769388\n",
      "min          0.000000\n",
      "25%         17.900000\n",
      "50%         29.000000\n",
      "75%         41.085000\n",
      "max        312.500000\n",
      "Name: living_area, dtype: float64\n",
      "1868\n",
      "16\n",
      "0\n"
     ]
    },
    {
     "data": {
      "image/png": "[encoded data removed]",
      "text/plain": [
       "<Figure size 432x288 with 1 Axes>"
      ]
     },
     "metadata": {
      "needs_background": "light"
     },
     "output_type": "display_data"
    }
   ],
   "source": [
    "print(df['living_area'].describe())\n",
    "print(df.query('living_area < 12')['living_area'].count())\n",
    "print(df.query('living_area > 200')['living_area'].count())\n",
    "#Целых 1868 квартир с жилой площадью меньше 12 метров квадратных. Или это люди сдают комнаты, или же мы скоро будем жить в капсулах, как в Японии\n",
    "# Удаляем такие данные\n",
    "df['living_area'].hist()\n",
    "print(df.query('living_area > total_area')['living_area'].count()) # Проверяем, нет ли квартир, где жилая площадь больше общей\n",
    "#Также можно удалить квартиры, жилая площадь которых более 200 метров \n",
    "df.drop(index=df.query('living_area < 12 or living_area > 200').index, inplace=True)"
   ]
  },
  {
   "cell_type": "code",
   "execution_count": 18,
   "metadata": {},
   "outputs": [
    {
     "name": "stdout",
     "output_type": "stream",
     "text": [
      "count    21516.000000\n",
      "mean         5.877951\n",
      "std          4.853386\n",
      "min          1.000000\n",
      "25%          2.000000\n",
      "50%          4.000000\n",
      "75%          8.000000\n",
      "max         33.000000\n",
      "Name: floor, dtype: float64\n",
      "0\n"
     ]
    },
    {
     "data": {
      "text/plain": [
       "<AxesSubplot:>"
      ]
     },
     "execution_count": 18,
     "metadata": {},
     "output_type": "execute_result"
    },
    {
     "data": {
      "image/png": "[encoded data removed]",
      "text/plain": [
       "<Figure size 432x288 with 1 Axes>"
      ]
     },
     "metadata": {
      "needs_background": "light"
     },
     "output_type": "display_data"
    }
   ],
   "source": [
    "print(df['floor'].describe())\n",
    "print(df.query('floor > floors_total')['floor'].count()) #Проверяем, нет ли ошибок в номерах этажа.\n",
    "df['floor'].hist()\n",
    "#Данные выглядят нормально\n"
   ]
  },
  {
   "cell_type": "code",
   "execution_count": 19,
   "metadata": {},
   "outputs": [
    {
     "name": "stdout",
     "output_type": "stream",
     "text": [
      "count    20824.000000\n",
      "mean        10.351356\n",
      "std          5.608868\n",
      "min          0.000000\n",
      "25%          7.000000\n",
      "50%          9.000000\n",
      "75%         11.900000\n",
      "max        107.000000\n",
      "Name: kitchen_area, dtype: float64\n",
      "235\n",
      "33\n"
     ]
    },
    {
     "data": {
      "image/png": "[encoded data removed]",
      "text/plain": [
       "<Figure size 432x288 with 1 Axes>"
      ]
     },
     "metadata": {
      "needs_background": "light"
     },
     "output_type": "display_data"
    }
   ],
   "source": [
    "df['kitchen_area'].hist()\n",
    "print(df['kitchen_area'].describe())\n",
    "print(df.query('kitchen_area < 5')['kitchen_area'].count()) \n",
    "#согласно данным Яндекса, минимальный размер кухни - 5 км м - всё, что меньше - удаляем\n",
    "print(df.query('kitchen_area > 50')['kitchen_area'].count()) \n",
    "#исходя из графика, кухни размером более 50 км м встречаются уже крайне редко - удаляем\n",
    "df.drop(index=df.query('kitchen_area > 50 or kitchen_area < 5').index, inplace=True)\n"
   ]
  },
  {
   "cell_type": "code",
   "execution_count": 20,
   "metadata": {},
   "outputs": [
    {
     "name": "stdout",
     "output_type": "stream",
     "text": [
      "count    21248.000000\n",
      "mean         0.618035\n",
      "std          0.968268\n",
      "min          0.000000\n",
      "25%          0.000000\n",
      "50%          0.000000\n",
      "75%          1.000000\n",
      "max          5.000000\n",
      "Name: balcony, dtype: float64\n"
     ]
    },
    {
     "data": {
      "text/plain": [
       "<AxesSubplot:>"
      ]
     },
     "execution_count": 20,
     "metadata": {},
     "output_type": "execute_result"
    },
    {
     "data": {
      "image/png": "[encoded data removed]",
      "text/plain": [
       "<Figure size 432x288 with 1 Axes>"
      ]
     },
     "metadata": {
      "needs_background": "light"
     },
     "output_type": "display_data"
    }
   ],
   "source": [
    "print(df['balcony'].describe())\n",
    "df['balcony'].hist()\n",
    "\n",
    "#В целом данные выглядят нормально.\n"
   ]
  },
  {
   "cell_type": "code",
   "execution_count": 21,
   "metadata": {},
   "outputs": [
    {
     "data": {
      "text/html": [
       "<div>\n",
       "<style scoped>\n",
       "    .dataframe tbody tr th:only-of-type {\n",
       "        vertical-align: middle;\n",
       "    }\n",
       "\n",
       "    .dataframe tbody tr th {\n",
       "        vertical-align: top;\n",
       "    }\n",
       "\n",
       "    .dataframe thead th {\n",
       "        text-align: right;\n",
       "    }\n",
       "</style>\n",
       "<table border=\"1\" class=\"dataframe\">\n",
       "  <thead>\n",
       "    <tr style=\"text-align: right;\">\n",
       "      <th></th>\n",
       "      <th>airports_nearest</th>\n",
       "      <th>city_centers_nearest</th>\n",
       "      <th>parks_around3000</th>\n",
       "      <th>parks_nearest</th>\n",
       "      <th>ponds_around3000</th>\n",
       "      <th>ponds_nearest</th>\n",
       "      <th>days_exposition</th>\n",
       "    </tr>\n",
       "  </thead>\n",
       "  <tbody>\n",
       "    <tr>\n",
       "      <th>count</th>\n",
       "      <td>16450.000000</td>\n",
       "      <td>16468.000000</td>\n",
       "      <td>21248.000000</td>\n",
       "      <td>7307.000000</td>\n",
       "      <td>21248.000000</td>\n",
       "      <td>8145.000000</td>\n",
       "      <td>18321.000000</td>\n",
       "    </tr>\n",
       "    <tr>\n",
       "      <th>mean</th>\n",
       "      <td>28787.933617</td>\n",
       "      <td>14270.719395</td>\n",
       "      <td>0.471527</td>\n",
       "      <td>488.648146</td>\n",
       "      <td>0.588338</td>\n",
       "      <td>520.025046</td>\n",
       "      <td>184.775449</td>\n",
       "    </tr>\n",
       "    <tr>\n",
       "      <th>std</th>\n",
       "      <td>12643.739699</td>\n",
       "      <td>8647.210168</td>\n",
       "      <td>0.747465</td>\n",
       "      <td>339.276813</td>\n",
       "      <td>0.881457</td>\n",
       "      <td>277.299547</td>\n",
       "      <td>221.408911</td>\n",
       "    </tr>\n",
       "    <tr>\n",
       "      <th>min</th>\n",
       "      <td>0.000000</td>\n",
       "      <td>181.000000</td>\n",
       "      <td>0.000000</td>\n",
       "      <td>1.000000</td>\n",
       "      <td>0.000000</td>\n",
       "      <td>13.000000</td>\n",
       "      <td>1.000000</td>\n",
       "    </tr>\n",
       "    <tr>\n",
       "      <th>25%</th>\n",
       "      <td>18498.000000</td>\n",
       "      <td>9415.750000</td>\n",
       "      <td>0.000000</td>\n",
       "      <td>287.500000</td>\n",
       "      <td>0.000000</td>\n",
       "      <td>297.000000</td>\n",
       "      <td>44.000000</td>\n",
       "    </tr>\n",
       "    <tr>\n",
       "      <th>50%</th>\n",
       "      <td>26766.500000</td>\n",
       "      <td>13115.000000</td>\n",
       "      <td>0.000000</td>\n",
       "      <td>451.000000</td>\n",
       "      <td>0.000000</td>\n",
       "      <td>504.000000</td>\n",
       "      <td>101.000000</td>\n",
       "    </tr>\n",
       "    <tr>\n",
       "      <th>75%</th>\n",
       "      <td>37273.000000</td>\n",
       "      <td>16268.000000</td>\n",
       "      <td>1.000000</td>\n",
       "      <td>611.000000</td>\n",
       "      <td>1.000000</td>\n",
       "      <td>732.000000</td>\n",
       "      <td>238.000000</td>\n",
       "    </tr>\n",
       "    <tr>\n",
       "      <th>max</th>\n",
       "      <td>84869.000000</td>\n",
       "      <td>65968.000000</td>\n",
       "      <td>3.000000</td>\n",
       "      <td>3190.000000</td>\n",
       "      <td>3.000000</td>\n",
       "      <td>1344.000000</td>\n",
       "      <td>1580.000000</td>\n",
       "    </tr>\n",
       "  </tbody>\n",
       "</table>\n",
       "</div>"
      ],
      "text/plain": [
       "       airports_nearest  city_centers_nearest  parks_around3000  \\\n",
       "count      16450.000000          16468.000000      21248.000000   \n",
       "mean       28787.933617          14270.719395          0.471527   \n",
       "std        12643.739699           8647.210168          0.747465   \n",
       "min            0.000000            181.000000          0.000000   \n",
       "25%        18498.000000           9415.750000          0.000000   \n",
       "50%        26766.500000          13115.000000          0.000000   \n",
       "75%        37273.000000          16268.000000          1.000000   \n",
       "max        84869.000000          65968.000000          3.000000   \n",
       "\n",
       "       parks_nearest  ponds_around3000  ponds_nearest  days_exposition  \n",
       "count    7307.000000      21248.000000    8145.000000     18321.000000  \n",
       "mean      488.648146          0.588338     520.025046       184.775449  \n",
       "std       339.276813          0.881457     277.299547       221.408911  \n",
       "min         1.000000          0.000000      13.000000         1.000000  \n",
       "25%       287.500000          0.000000     297.000000        44.000000  \n",
       "50%       451.000000          0.000000     504.000000       101.000000  \n",
       "75%       611.000000          1.000000     732.000000       238.000000  \n",
       "max      3190.000000          3.000000    1344.000000      1580.000000  "
      ]
     },
     "metadata": {},
     "output_type": "display_data"
    },
    {
     "data": {
      "text/plain": [
       "array([[<AxesSubplot:title={'center':'airports_nearest'}>,\n",
       "        <AxesSubplot:title={'center':'city_centers_nearest'}>,\n",
       "        <AxesSubplot:title={'center':'parks_around3000'}>],\n",
       "       [<AxesSubplot:title={'center':'parks_nearest'}>,\n",
       "        <AxesSubplot:title={'center':'ponds_around3000'}>,\n",
       "        <AxesSubplot:title={'center':'ponds_nearest'}>],\n",
       "       [<AxesSubplot:title={'center':'days_exposition'}>, <AxesSubplot:>,\n",
       "        <AxesSubplot:>]], dtype=object)"
      ]
     },
     "execution_count": 21,
     "metadata": {},
     "output_type": "execute_result"
    },
    {
     "data": {
      "image/png": "[encoded data removed]",
      "text/plain": [
       "<Figure size 1080x720 with 9 Axes>"
      ]
     },
     "metadata": {
      "needs_background": "light"
     },
     "output_type": "display_data"
    }
   ],
   "source": [
    "display(df[['airports_nearest', 'city_centers_nearest', 'parks_around3000', 'parks_nearest', 'ponds_around3000', 'ponds_nearest', 'days_exposition']].describe())\n",
    "df[['airports_nearest', 'city_centers_nearest', 'parks_around3000', 'parks_nearest', 'ponds_around3000', 'ponds_nearest', 'days_exposition']].hist(figsize=(15,10))"
   ]
  },
  {
   "cell_type": "markdown",
   "metadata": {},
   "source": [
    "Можно заметить, что в стобце airports_nearest минимальное значение 0, значит там точно есть ошибка - удаляем (оставляем с минимальным расстоянием в 10 км - информация из Яндекса)\n",
    "Также в стобце parks_nearest минимальное значение - 1 метр, что тоже крайне сомнительно, разве что человек живет в парке - удаляем\n",
    "В стобце days_exposition всё выглядит хорошо, за исключчением максимального срока продажи в 4 с лишним года - удаляем "
   ]
  },
  {
   "cell_type": "code",
   "execution_count": 22,
   "metadata": {},
   "outputs": [
    {
     "name": "stdout",
     "output_type": "stream",
     "text": [
      "271\n",
      "385\n",
      "152\n"
     ]
    }
   ],
   "source": [
    "print(df.query('airports_nearest < 10000')['airports_nearest'].count())\n",
    "print(df.query('parks_nearest < 100')['parks_nearest'].count())\n",
    "print(df.query('days_exposition > 1095')['days_exposition'].count())\n",
    "df.drop(index=df.query('airports_nearest < 10000').index, inplace=True)\n",
    "df.drop(index=df.query('parks_nearest < 100').index, inplace=True)\n",
    "df.drop(index=df.query('days_exposition > 1095').index, inplace=True)"
   ]
  },
  {
   "cell_type": "markdown",
   "metadata": {},
   "source": [
    "Сбросим индексы"
   ]
  },
  {
   "cell_type": "code",
   "execution_count": 23,
   "metadata": {},
   "outputs": [
    {
     "name": "stdout",
     "output_type": "stream",
     "text": [
      "кол-во явных дубликатов: 0\n"
     ]
    },
    {
     "data": {
      "text/html": [
       "<div>\n",
       "<style scoped>\n",
       "    .dataframe tbody tr th:only-of-type {\n",
       "        vertical-align: middle;\n",
       "    }\n",
       "\n",
       "    .dataframe tbody tr th {\n",
       "        vertical-align: top;\n",
       "    }\n",
       "\n",
       "    .dataframe thead th {\n",
       "        text-align: right;\n",
       "    }\n",
       "</style>\n",
       "<table border=\"1\" class=\"dataframe\">\n",
       "  <thead>\n",
       "    <tr style=\"text-align: right;\">\n",
       "      <th></th>\n",
       "      <th>total_images</th>\n",
       "      <th>last_price</th>\n",
       "      <th>total_area</th>\n",
       "      <th>first_day_exposition</th>\n",
       "      <th>rooms</th>\n",
       "      <th>ceiling_height</th>\n",
       "      <th>floors_total</th>\n",
       "      <th>living_area</th>\n",
       "      <th>floor</th>\n",
       "      <th>is_apartment</th>\n",
       "      <th>...</th>\n",
       "      <th>kitchen_area</th>\n",
       "      <th>balcony</th>\n",
       "      <th>locality_name</th>\n",
       "      <th>airports_nearest</th>\n",
       "      <th>city_centers_nearest</th>\n",
       "      <th>parks_around3000</th>\n",
       "      <th>parks_nearest</th>\n",
       "      <th>ponds_around3000</th>\n",
       "      <th>ponds_nearest</th>\n",
       "      <th>days_exposition</th>\n",
       "    </tr>\n",
       "  </thead>\n",
       "  <tbody>\n",
       "    <tr>\n",
       "      <th>0</th>\n",
       "      <td>20</td>\n",
       "      <td>13000000</td>\n",
       "      <td>108.00</td>\n",
       "      <td>2019-03-07</td>\n",
       "      <td>3</td>\n",
       "      <td>2.70</td>\n",
       "      <td>16</td>\n",
       "      <td>51.00</td>\n",
       "      <td>8</td>\n",
       "      <td>False</td>\n",
       "      <td>...</td>\n",
       "      <td>25.00</td>\n",
       "      <td>0</td>\n",
       "      <td>санкт-петербург</td>\n",
       "      <td>18863.0</td>\n",
       "      <td>16028.0</td>\n",
       "      <td>1.0</td>\n",
       "      <td>482.0</td>\n",
       "      <td>2.0</td>\n",
       "      <td>755.0</td>\n",
       "      <td>NaN</td>\n",
       "    </tr>\n",
       "    <tr>\n",
       "      <th>1</th>\n",
       "      <td>7</td>\n",
       "      <td>3350000</td>\n",
       "      <td>40.40</td>\n",
       "      <td>2018-12-04</td>\n",
       "      <td>1</td>\n",
       "      <td>NaN</td>\n",
       "      <td>11</td>\n",
       "      <td>18.60</td>\n",
       "      <td>1</td>\n",
       "      <td>False</td>\n",
       "      <td>...</td>\n",
       "      <td>11.00</td>\n",
       "      <td>2</td>\n",
       "      <td>шушары</td>\n",
       "      <td>12817.0</td>\n",
       "      <td>18603.0</td>\n",
       "      <td>0.0</td>\n",
       "      <td>NaN</td>\n",
       "      <td>0.0</td>\n",
       "      <td>NaN</td>\n",
       "      <td>81.0</td>\n",
       "    </tr>\n",
       "    <tr>\n",
       "      <th>2</th>\n",
       "      <td>2</td>\n",
       "      <td>10000000</td>\n",
       "      <td>100.00</td>\n",
       "      <td>2018-06-19</td>\n",
       "      <td>2</td>\n",
       "      <td>3.03</td>\n",
       "      <td>14</td>\n",
       "      <td>32.00</td>\n",
       "      <td>13</td>\n",
       "      <td>False</td>\n",
       "      <td>...</td>\n",
       "      <td>41.00</td>\n",
       "      <td>0</td>\n",
       "      <td>санкт-петербург</td>\n",
       "      <td>31856.0</td>\n",
       "      <td>8098.0</td>\n",
       "      <td>2.0</td>\n",
       "      <td>112.0</td>\n",
       "      <td>1.0</td>\n",
       "      <td>48.0</td>\n",
       "      <td>121.0</td>\n",
       "    </tr>\n",
       "    <tr>\n",
       "      <th>3</th>\n",
       "      <td>10</td>\n",
       "      <td>2890000</td>\n",
       "      <td>30.40</td>\n",
       "      <td>2018-09-10</td>\n",
       "      <td>1</td>\n",
       "      <td>NaN</td>\n",
       "      <td>12</td>\n",
       "      <td>14.40</td>\n",
       "      <td>5</td>\n",
       "      <td>False</td>\n",
       "      <td>...</td>\n",
       "      <td>9.10</td>\n",
       "      <td>0</td>\n",
       "      <td>янино-1</td>\n",
       "      <td>NaN</td>\n",
       "      <td>NaN</td>\n",
       "      <td>0.0</td>\n",
       "      <td>NaN</td>\n",
       "      <td>0.0</td>\n",
       "      <td>NaN</td>\n",
       "      <td>55.0</td>\n",
       "    </tr>\n",
       "    <tr>\n",
       "      <th>4</th>\n",
       "      <td>20</td>\n",
       "      <td>2900000</td>\n",
       "      <td>33.16</td>\n",
       "      <td>2018-05-23</td>\n",
       "      <td>1</td>\n",
       "      <td>NaN</td>\n",
       "      <td>27</td>\n",
       "      <td>15.43</td>\n",
       "      <td>26</td>\n",
       "      <td>False</td>\n",
       "      <td>...</td>\n",
       "      <td>8.81</td>\n",
       "      <td>0</td>\n",
       "      <td>мурино</td>\n",
       "      <td>NaN</td>\n",
       "      <td>NaN</td>\n",
       "      <td>0.0</td>\n",
       "      <td>NaN</td>\n",
       "      <td>0.0</td>\n",
       "      <td>NaN</td>\n",
       "      <td>189.0</td>\n",
       "    </tr>\n",
       "    <tr>\n",
       "      <th>...</th>\n",
       "      <td>...</td>\n",
       "      <td>...</td>\n",
       "      <td>...</td>\n",
       "      <td>...</td>\n",
       "      <td>...</td>\n",
       "      <td>...</td>\n",
       "      <td>...</td>\n",
       "      <td>...</td>\n",
       "      <td>...</td>\n",
       "      <td>...</td>\n",
       "      <td>...</td>\n",
       "      <td>...</td>\n",
       "      <td>...</td>\n",
       "      <td>...</td>\n",
       "      <td>...</td>\n",
       "      <td>...</td>\n",
       "      <td>...</td>\n",
       "      <td>...</td>\n",
       "      <td>...</td>\n",
       "      <td>...</td>\n",
       "      <td>...</td>\n",
       "    </tr>\n",
       "    <tr>\n",
       "      <th>20448</th>\n",
       "      <td>9</td>\n",
       "      <td>4600000</td>\n",
       "      <td>62.40</td>\n",
       "      <td>2016-08-05</td>\n",
       "      <td>3</td>\n",
       "      <td>2.60</td>\n",
       "      <td>9</td>\n",
       "      <td>40.00</td>\n",
       "      <td>8</td>\n",
       "      <td>False</td>\n",
       "      <td>...</td>\n",
       "      <td>8.00</td>\n",
       "      <td>0</td>\n",
       "      <td>петергоф</td>\n",
       "      <td>45602.0</td>\n",
       "      <td>34104.0</td>\n",
       "      <td>1.0</td>\n",
       "      <td>352.0</td>\n",
       "      <td>1.0</td>\n",
       "      <td>675.0</td>\n",
       "      <td>239.0</td>\n",
       "    </tr>\n",
       "    <tr>\n",
       "      <th>20449</th>\n",
       "      <td>9</td>\n",
       "      <td>9700000</td>\n",
       "      <td>133.81</td>\n",
       "      <td>2017-03-21</td>\n",
       "      <td>3</td>\n",
       "      <td>3.70</td>\n",
       "      <td>5</td>\n",
       "      <td>73.30</td>\n",
       "      <td>3</td>\n",
       "      <td>False</td>\n",
       "      <td>...</td>\n",
       "      <td>13.83</td>\n",
       "      <td>0</td>\n",
       "      <td>санкт-петербург</td>\n",
       "      <td>24665.0</td>\n",
       "      <td>4232.0</td>\n",
       "      <td>1.0</td>\n",
       "      <td>796.0</td>\n",
       "      <td>3.0</td>\n",
       "      <td>381.0</td>\n",
       "      <td>NaN</td>\n",
       "    </tr>\n",
       "    <tr>\n",
       "      <th>20450</th>\n",
       "      <td>14</td>\n",
       "      <td>3100000</td>\n",
       "      <td>59.00</td>\n",
       "      <td>2018-01-15</td>\n",
       "      <td>3</td>\n",
       "      <td>NaN</td>\n",
       "      <td>5</td>\n",
       "      <td>38.00</td>\n",
       "      <td>4</td>\n",
       "      <td>False</td>\n",
       "      <td>...</td>\n",
       "      <td>8.50</td>\n",
       "      <td>0</td>\n",
       "      <td>тосно</td>\n",
       "      <td>NaN</td>\n",
       "      <td>NaN</td>\n",
       "      <td>0.0</td>\n",
       "      <td>NaN</td>\n",
       "      <td>0.0</td>\n",
       "      <td>NaN</td>\n",
       "      <td>45.0</td>\n",
       "    </tr>\n",
       "    <tr>\n",
       "      <th>20451</th>\n",
       "      <td>18</td>\n",
       "      <td>2500000</td>\n",
       "      <td>56.70</td>\n",
       "      <td>2018-02-11</td>\n",
       "      <td>2</td>\n",
       "      <td>NaN</td>\n",
       "      <td>3</td>\n",
       "      <td>29.70</td>\n",
       "      <td>1</td>\n",
       "      <td>False</td>\n",
       "      <td>...</td>\n",
       "      <td>NaN</td>\n",
       "      <td>0</td>\n",
       "      <td>село рождествено</td>\n",
       "      <td>NaN</td>\n",
       "      <td>NaN</td>\n",
       "      <td>0.0</td>\n",
       "      <td>NaN</td>\n",
       "      <td>0.0</td>\n",
       "      <td>NaN</td>\n",
       "      <td>NaN</td>\n",
       "    </tr>\n",
       "    <tr>\n",
       "      <th>20452</th>\n",
       "      <td>4</td>\n",
       "      <td>1350000</td>\n",
       "      <td>32.30</td>\n",
       "      <td>2017-07-21</td>\n",
       "      <td>1</td>\n",
       "      <td>2.50</td>\n",
       "      <td>5</td>\n",
       "      <td>12.30</td>\n",
       "      <td>1</td>\n",
       "      <td>False</td>\n",
       "      <td>...</td>\n",
       "      <td>9.00</td>\n",
       "      <td>0</td>\n",
       "      <td>новый учхоз</td>\n",
       "      <td>NaN</td>\n",
       "      <td>NaN</td>\n",
       "      <td>0.0</td>\n",
       "      <td>NaN</td>\n",
       "      <td>0.0</td>\n",
       "      <td>NaN</td>\n",
       "      <td>NaN</td>\n",
       "    </tr>\n",
       "  </tbody>\n",
       "</table>\n",
       "<p>20453 rows × 22 columns</p>\n",
       "</div>"
      ],
      "text/plain": [
       "       total_images  last_price  total_area first_day_exposition  rooms  \\\n",
       "0                20    13000000      108.00           2019-03-07      3   \n",
       "1                 7     3350000       40.40           2018-12-04      1   \n",
       "2                 2    10000000      100.00           2018-06-19      2   \n",
       "3                10     2890000       30.40           2018-09-10      1   \n",
       "4                20     2900000       33.16           2018-05-23      1   \n",
       "...             ...         ...         ...                  ...    ...   \n",
       "20448             9     4600000       62.40           2016-08-05      3   \n",
       "20449             9     9700000      133.81           2017-03-21      3   \n",
       "20450            14     3100000       59.00           2018-01-15      3   \n",
       "20451            18     2500000       56.70           2018-02-11      2   \n",
       "20452             4     1350000       32.30           2017-07-21      1   \n",
       "\n",
       "       ceiling_height  floors_total  living_area  floor  is_apartment  ...  \\\n",
       "0                2.70            16        51.00      8         False  ...   \n",
       "1                 NaN            11        18.60      1         False  ...   \n",
       "2                3.03            14        32.00     13         False  ...   \n",
       "3                 NaN            12        14.40      5         False  ...   \n",
       "4                 NaN            27        15.43     26         False  ...   \n",
       "...               ...           ...          ...    ...           ...  ...   \n",
       "20448            2.60             9        40.00      8         False  ...   \n",
       "20449            3.70             5        73.30      3         False  ...   \n",
       "20450             NaN             5        38.00      4         False  ...   \n",
       "20451             NaN             3        29.70      1         False  ...   \n",
       "20452            2.50             5        12.30      1         False  ...   \n",
       "\n",
       "       kitchen_area  balcony     locality_name  airports_nearest  \\\n",
       "0             25.00        0   санкт-петербург           18863.0   \n",
       "1             11.00        2            шушары           12817.0   \n",
       "2             41.00        0   санкт-петербург           31856.0   \n",
       "3              9.10        0           янино-1               NaN   \n",
       "4              8.81        0            мурино               NaN   \n",
       "...             ...      ...               ...               ...   \n",
       "20448          8.00        0          петергоф           45602.0   \n",
       "20449         13.83        0   санкт-петербург           24665.0   \n",
       "20450          8.50        0             тосно               NaN   \n",
       "20451           NaN        0  село рождествено               NaN   \n",
       "20452          9.00        0       новый учхоз               NaN   \n",
       "\n",
       "      city_centers_nearest  parks_around3000  parks_nearest  ponds_around3000  \\\n",
       "0                  16028.0               1.0          482.0               2.0   \n",
       "1                  18603.0               0.0            NaN               0.0   \n",
       "2                   8098.0               2.0          112.0               1.0   \n",
       "3                      NaN               0.0            NaN               0.0   \n",
       "4                      NaN               0.0            NaN               0.0   \n",
       "...                    ...               ...            ...               ...   \n",
       "20448              34104.0               1.0          352.0               1.0   \n",
       "20449               4232.0               1.0          796.0               3.0   \n",
       "20450                  NaN               0.0            NaN               0.0   \n",
       "20451                  NaN               0.0            NaN               0.0   \n",
       "20452                  NaN               0.0            NaN               0.0   \n",
       "\n",
       "       ponds_nearest  days_exposition  \n",
       "0              755.0              NaN  \n",
       "1                NaN             81.0  \n",
       "2               48.0            121.0  \n",
       "3                NaN             55.0  \n",
       "4                NaN            189.0  \n",
       "...              ...              ...  \n",
       "20448          675.0            239.0  \n",
       "20449          381.0              NaN  \n",
       "20450            NaN             45.0  \n",
       "20451            NaN              NaN  \n",
       "20452            NaN              NaN  \n",
       "\n",
       "[20453 rows x 22 columns]"
      ]
     },
     "execution_count": 23,
     "metadata": {},
     "output_type": "execute_result"
    }
   ],
   "source": [
    "print('кол-во явных дубликатов:', df.duplicated().sum())\n",
    "\n",
    "df.reset_index(drop=True, inplace=True)\n",
    "df\n"
   ]
  },
  {
   "cell_type": "markdown",
   "metadata": {},
   "source": [
    "Про исходные данные можно сказать следующее:\n",
    "Несмотря на большую выборку, из-за обилия не самых 'чистых' и подходящих данных, пришлось удалить около 3к строк (около 13%), что в принципе является допустимым числом.\n",
    "\n",
    "Все аномалии и выбросы в особо важных для анализа данных были устранены. Данные отфильтрованы и готовы к анализу"
   ]
  },
  {
   "cell_type": "markdown",
   "metadata": {},
   "source": [
    "### Посчитайте и добавьте в таблицу новые столбцы"
   ]
  },
  {
   "cell_type": "code",
   "execution_count": 24,
   "metadata": {},
   "outputs": [
    {
     "name": "stdout",
     "output_type": "stream",
     "text": [
      "0\n",
      "0\n",
      "0\n"
     ]
    },
    {
     "data": {
      "text/html": [
       "<div>\n",
       "<style scoped>\n",
       "    .dataframe tbody tr th:only-of-type {\n",
       "        vertical-align: middle;\n",
       "    }\n",
       "\n",
       "    .dataframe tbody tr th {\n",
       "        vertical-align: top;\n",
       "    }\n",
       "\n",
       "    .dataframe thead th {\n",
       "        text-align: right;\n",
       "    }\n",
       "</style>\n",
       "<table border=\"1\" class=\"dataframe\">\n",
       "  <thead>\n",
       "    <tr style=\"text-align: right;\">\n",
       "      <th></th>\n",
       "      <th>total_images</th>\n",
       "      <th>last_price</th>\n",
       "      <th>total_area</th>\n",
       "      <th>first_day_exposition</th>\n",
       "      <th>rooms</th>\n",
       "      <th>ceiling_height</th>\n",
       "      <th>floors_total</th>\n",
       "      <th>living_area</th>\n",
       "      <th>floor</th>\n",
       "      <th>is_apartment</th>\n",
       "      <th>...</th>\n",
       "      <th>parks_nearest</th>\n",
       "      <th>ponds_around3000</th>\n",
       "      <th>ponds_nearest</th>\n",
       "      <th>days_exposition</th>\n",
       "      <th>meter_price</th>\n",
       "      <th>week_day</th>\n",
       "      <th>month</th>\n",
       "      <th>year</th>\n",
       "      <th>floor_type</th>\n",
       "      <th>distance_to_center</th>\n",
       "    </tr>\n",
       "  </thead>\n",
       "  <tbody>\n",
       "    <tr>\n",
       "      <th>0</th>\n",
       "      <td>20</td>\n",
       "      <td>13000000</td>\n",
       "      <td>108.00</td>\n",
       "      <td>2019-03-07</td>\n",
       "      <td>3</td>\n",
       "      <td>2.70</td>\n",
       "      <td>16</td>\n",
       "      <td>51.00</td>\n",
       "      <td>8</td>\n",
       "      <td>False</td>\n",
       "      <td>...</td>\n",
       "      <td>482.0</td>\n",
       "      <td>2.0</td>\n",
       "      <td>755.0</td>\n",
       "      <td>NaN</td>\n",
       "      <td>120370.370370</td>\n",
       "      <td>3</td>\n",
       "      <td>3</td>\n",
       "      <td>2019</td>\n",
       "      <td>другой</td>\n",
       "      <td>16.0</td>\n",
       "    </tr>\n",
       "    <tr>\n",
       "      <th>1</th>\n",
       "      <td>7</td>\n",
       "      <td>3350000</td>\n",
       "      <td>40.40</td>\n",
       "      <td>2018-12-04</td>\n",
       "      <td>1</td>\n",
       "      <td>NaN</td>\n",
       "      <td>11</td>\n",
       "      <td>18.60</td>\n",
       "      <td>1</td>\n",
       "      <td>False</td>\n",
       "      <td>...</td>\n",
       "      <td>NaN</td>\n",
       "      <td>0.0</td>\n",
       "      <td>NaN</td>\n",
       "      <td>81.0</td>\n",
       "      <td>82920.792079</td>\n",
       "      <td>1</td>\n",
       "      <td>12</td>\n",
       "      <td>2018</td>\n",
       "      <td>первый</td>\n",
       "      <td>19.0</td>\n",
       "    </tr>\n",
       "    <tr>\n",
       "      <th>2</th>\n",
       "      <td>2</td>\n",
       "      <td>10000000</td>\n",
       "      <td>100.00</td>\n",
       "      <td>2018-06-19</td>\n",
       "      <td>2</td>\n",
       "      <td>3.03</td>\n",
       "      <td>14</td>\n",
       "      <td>32.00</td>\n",
       "      <td>13</td>\n",
       "      <td>False</td>\n",
       "      <td>...</td>\n",
       "      <td>112.0</td>\n",
       "      <td>1.0</td>\n",
       "      <td>48.0</td>\n",
       "      <td>121.0</td>\n",
       "      <td>100000.000000</td>\n",
       "      <td>1</td>\n",
       "      <td>6</td>\n",
       "      <td>2018</td>\n",
       "      <td>другой</td>\n",
       "      <td>8.0</td>\n",
       "    </tr>\n",
       "    <tr>\n",
       "      <th>3</th>\n",
       "      <td>10</td>\n",
       "      <td>2890000</td>\n",
       "      <td>30.40</td>\n",
       "      <td>2018-09-10</td>\n",
       "      <td>1</td>\n",
       "      <td>NaN</td>\n",
       "      <td>12</td>\n",
       "      <td>14.40</td>\n",
       "      <td>5</td>\n",
       "      <td>False</td>\n",
       "      <td>...</td>\n",
       "      <td>NaN</td>\n",
       "      <td>0.0</td>\n",
       "      <td>NaN</td>\n",
       "      <td>55.0</td>\n",
       "      <td>95065.789474</td>\n",
       "      <td>0</td>\n",
       "      <td>9</td>\n",
       "      <td>2018</td>\n",
       "      <td>другой</td>\n",
       "      <td>NaN</td>\n",
       "    </tr>\n",
       "    <tr>\n",
       "      <th>4</th>\n",
       "      <td>20</td>\n",
       "      <td>2900000</td>\n",
       "      <td>33.16</td>\n",
       "      <td>2018-05-23</td>\n",
       "      <td>1</td>\n",
       "      <td>NaN</td>\n",
       "      <td>27</td>\n",
       "      <td>15.43</td>\n",
       "      <td>26</td>\n",
       "      <td>False</td>\n",
       "      <td>...</td>\n",
       "      <td>NaN</td>\n",
       "      <td>0.0</td>\n",
       "      <td>NaN</td>\n",
       "      <td>189.0</td>\n",
       "      <td>87454.764777</td>\n",
       "      <td>2</td>\n",
       "      <td>5</td>\n",
       "      <td>2018</td>\n",
       "      <td>другой</td>\n",
       "      <td>NaN</td>\n",
       "    </tr>\n",
       "    <tr>\n",
       "      <th>...</th>\n",
       "      <td>...</td>\n",
       "      <td>...</td>\n",
       "      <td>...</td>\n",
       "      <td>...</td>\n",
       "      <td>...</td>\n",
       "      <td>...</td>\n",
       "      <td>...</td>\n",
       "      <td>...</td>\n",
       "      <td>...</td>\n",
       "      <td>...</td>\n",
       "      <td>...</td>\n",
       "      <td>...</td>\n",
       "      <td>...</td>\n",
       "      <td>...</td>\n",
       "      <td>...</td>\n",
       "      <td>...</td>\n",
       "      <td>...</td>\n",
       "      <td>...</td>\n",
       "      <td>...</td>\n",
       "      <td>...</td>\n",
       "      <td>...</td>\n",
       "    </tr>\n",
       "    <tr>\n",
       "      <th>20448</th>\n",
       "      <td>9</td>\n",
       "      <td>4600000</td>\n",
       "      <td>62.40</td>\n",
       "      <td>2016-08-05</td>\n",
       "      <td>3</td>\n",
       "      <td>2.60</td>\n",
       "      <td>9</td>\n",
       "      <td>40.00</td>\n",
       "      <td>8</td>\n",
       "      <td>False</td>\n",
       "      <td>...</td>\n",
       "      <td>352.0</td>\n",
       "      <td>1.0</td>\n",
       "      <td>675.0</td>\n",
       "      <td>239.0</td>\n",
       "      <td>73717.948718</td>\n",
       "      <td>4</td>\n",
       "      <td>8</td>\n",
       "      <td>2016</td>\n",
       "      <td>другой</td>\n",
       "      <td>34.0</td>\n",
       "    </tr>\n",
       "    <tr>\n",
       "      <th>20449</th>\n",
       "      <td>9</td>\n",
       "      <td>9700000</td>\n",
       "      <td>133.81</td>\n",
       "      <td>2017-03-21</td>\n",
       "      <td>3</td>\n",
       "      <td>3.70</td>\n",
       "      <td>5</td>\n",
       "      <td>73.30</td>\n",
       "      <td>3</td>\n",
       "      <td>False</td>\n",
       "      <td>...</td>\n",
       "      <td>796.0</td>\n",
       "      <td>3.0</td>\n",
       "      <td>381.0</td>\n",
       "      <td>NaN</td>\n",
       "      <td>72490.845228</td>\n",
       "      <td>1</td>\n",
       "      <td>3</td>\n",
       "      <td>2017</td>\n",
       "      <td>другой</td>\n",
       "      <td>4.0</td>\n",
       "    </tr>\n",
       "    <tr>\n",
       "      <th>20450</th>\n",
       "      <td>14</td>\n",
       "      <td>3100000</td>\n",
       "      <td>59.00</td>\n",
       "      <td>2018-01-15</td>\n",
       "      <td>3</td>\n",
       "      <td>NaN</td>\n",
       "      <td>5</td>\n",
       "      <td>38.00</td>\n",
       "      <td>4</td>\n",
       "      <td>False</td>\n",
       "      <td>...</td>\n",
       "      <td>NaN</td>\n",
       "      <td>0.0</td>\n",
       "      <td>NaN</td>\n",
       "      <td>45.0</td>\n",
       "      <td>52542.372881</td>\n",
       "      <td>0</td>\n",
       "      <td>1</td>\n",
       "      <td>2018</td>\n",
       "      <td>другой</td>\n",
       "      <td>NaN</td>\n",
       "    </tr>\n",
       "    <tr>\n",
       "      <th>20451</th>\n",
       "      <td>18</td>\n",
       "      <td>2500000</td>\n",
       "      <td>56.70</td>\n",
       "      <td>2018-02-11</td>\n",
       "      <td>2</td>\n",
       "      <td>NaN</td>\n",
       "      <td>3</td>\n",
       "      <td>29.70</td>\n",
       "      <td>1</td>\n",
       "      <td>False</td>\n",
       "      <td>...</td>\n",
       "      <td>NaN</td>\n",
       "      <td>0.0</td>\n",
       "      <td>NaN</td>\n",
       "      <td>NaN</td>\n",
       "      <td>44091.710758</td>\n",
       "      <td>6</td>\n",
       "      <td>2</td>\n",
       "      <td>2018</td>\n",
       "      <td>первый</td>\n",
       "      <td>NaN</td>\n",
       "    </tr>\n",
       "    <tr>\n",
       "      <th>20452</th>\n",
       "      <td>4</td>\n",
       "      <td>1350000</td>\n",
       "      <td>32.30</td>\n",
       "      <td>2017-07-21</td>\n",
       "      <td>1</td>\n",
       "      <td>2.50</td>\n",
       "      <td>5</td>\n",
       "      <td>12.30</td>\n",
       "      <td>1</td>\n",
       "      <td>False</td>\n",
       "      <td>...</td>\n",
       "      <td>NaN</td>\n",
       "      <td>0.0</td>\n",
       "      <td>NaN</td>\n",
       "      <td>NaN</td>\n",
       "      <td>41795.665635</td>\n",
       "      <td>4</td>\n",
       "      <td>7</td>\n",
       "      <td>2017</td>\n",
       "      <td>первый</td>\n",
       "      <td>NaN</td>\n",
       "    </tr>\n",
       "  </tbody>\n",
       "</table>\n",
       "<p>20453 rows × 28 columns</p>\n",
       "</div>"
      ],
      "text/plain": [
       "       total_images  last_price  total_area first_day_exposition  rooms  \\\n",
       "0                20    13000000      108.00           2019-03-07      3   \n",
       "1                 7     3350000       40.40           2018-12-04      1   \n",
       "2                 2    10000000      100.00           2018-06-19      2   \n",
       "3                10     2890000       30.40           2018-09-10      1   \n",
       "4                20     2900000       33.16           2018-05-23      1   \n",
       "...             ...         ...         ...                  ...    ...   \n",
       "20448             9     4600000       62.40           2016-08-05      3   \n",
       "20449             9     9700000      133.81           2017-03-21      3   \n",
       "20450            14     3100000       59.00           2018-01-15      3   \n",
       "20451            18     2500000       56.70           2018-02-11      2   \n",
       "20452             4     1350000       32.30           2017-07-21      1   \n",
       "\n",
       "       ceiling_height  floors_total  living_area  floor  is_apartment  ...  \\\n",
       "0                2.70            16        51.00      8         False  ...   \n",
       "1                 NaN            11        18.60      1         False  ...   \n",
       "2                3.03            14        32.00     13         False  ...   \n",
       "3                 NaN            12        14.40      5         False  ...   \n",
       "4                 NaN            27        15.43     26         False  ...   \n",
       "...               ...           ...          ...    ...           ...  ...   \n",
       "20448            2.60             9        40.00      8         False  ...   \n",
       "20449            3.70             5        73.30      3         False  ...   \n",
       "20450             NaN             5        38.00      4         False  ...   \n",
       "20451             NaN             3        29.70      1         False  ...   \n",
       "20452            2.50             5        12.30      1         False  ...   \n",
       "\n",
       "       parks_nearest  ponds_around3000  ponds_nearest  days_exposition  \\\n",
       "0              482.0               2.0          755.0              NaN   \n",
       "1                NaN               0.0            NaN             81.0   \n",
       "2              112.0               1.0           48.0            121.0   \n",
       "3                NaN               0.0            NaN             55.0   \n",
       "4                NaN               0.0            NaN            189.0   \n",
       "...              ...               ...            ...              ...   \n",
       "20448          352.0               1.0          675.0            239.0   \n",
       "20449          796.0               3.0          381.0              NaN   \n",
       "20450            NaN               0.0            NaN             45.0   \n",
       "20451            NaN               0.0            NaN              NaN   \n",
       "20452            NaN               0.0            NaN              NaN   \n",
       "\n",
       "         meter_price  week_day  month  year  floor_type  distance_to_center  \n",
       "0      120370.370370         3      3  2019      другой                16.0  \n",
       "1       82920.792079         1     12  2018      первый                19.0  \n",
       "2      100000.000000         1      6  2018      другой                 8.0  \n",
       "3       95065.789474         0      9  2018      другой                 NaN  \n",
       "4       87454.764777         2      5  2018      другой                 NaN  \n",
       "...              ...       ...    ...   ...         ...                 ...  \n",
       "20448   73717.948718         4      8  2016      другой                34.0  \n",
       "20449   72490.845228         1      3  2017      другой                 4.0  \n",
       "20450   52542.372881         0      1  2018      другой                 NaN  \n",
       "20451   44091.710758         6      2  2018      первый                 NaN  \n",
       "20452   41795.665635         4      7  2017      первый                 NaN  \n",
       "\n",
       "[20453 rows x 28 columns]"
      ]
     },
     "execution_count": 24,
     "metadata": {},
     "output_type": "execute_result"
    }
   ],
   "source": [
    "df['meter_price'] = df['last_price']/df['total_area'] #цена за квадрат\n",
    "\n",
    "df['week_day'] = df['first_day_exposition'].dt.dayofweek #день недели публикации объявления\n",
    "\n",
    "df['month'] = df['first_day_exposition'].dt.month #месяц публикации объявления\n",
    "\n",
    "df['year'] = df['first_day_exposition'].dt.year #год публикации объявления\n",
    "\n",
    "#тип этажа квартиры\n",
    "df.loc[df['floor'] == df['floors_total'],'floor_type'] = 'последний' \n",
    "df.loc[df['floor'] == 1,'floor_type'] = 'первый'\n",
    "df.loc[(df['floor'] != df['floors_total']) & (df['floor'] != 1),'floor_type'] = 'другой' \n",
    "\n",
    "#проверка\n",
    "print(df.query('floor_type == \"последний\" and floors_total != floor')['floor_type'].count())\n",
    "print(df.query('floor_type == \"первый\" and floor != 1')['floor_type'].count())\n",
    "print(df.query('floor_type == \"другой\" and (floors_total == floor or floor == 1)')['floor_type'].count())\n",
    "\n",
    "#расстояние до центра города в километрах\n",
    "df['distance_to_center'] = (df['city_centers_nearest']/1000).round(0)\n",
    "df"
   ]
  },
  {
   "cell_type": "markdown",
   "metadata": {},
   "source": [
    "### Проведите исследовательский анализ данных"
   ]
  },
  {
   "cell_type": "code",
   "execution_count": 25,
   "metadata": {},
   "outputs": [
    {
     "name": "stdout",
     "output_type": "stream",
     "text": [
      "count    20453.000000\n",
      "mean        59.393225\n",
      "std         30.103434\n",
      "min         13.000000\n",
      "25%         40.200000\n",
      "50%         52.000000\n",
      "75%         69.300000\n",
      "max        413.500000\n",
      "Name: total_area, dtype: float64\n",
      "AxesSubplot(0.125,0.125;0.775x0.755)\n"
     ]
    },
    {
     "data": {
      "image/png": "[encoded data removed]",
      "text/plain": [
       "<Figure size 1080x720 with 1 Axes>"
      ]
     },
     "metadata": {
      "needs_background": "light"
     },
     "output_type": "display_data"
    }
   ],
   "source": [
    "print(df['total_area'].describe())\n",
    "print(df['total_area'].hist(bins=100, range=(0,300), figsize=(15,10), legend=True))"
   ]
  },
  {
   "cell_type": "markdown",
   "metadata": {},
   "source": [
    "На графике мы видим, что у жителей Петербурга в основном квартиры площадью от 30 до 50 км м.Квартиры площадью больше 100 кв м не пользуются популярностью "
   ]
  },
  {
   "cell_type": "code",
   "execution_count": 26,
   "metadata": {},
   "outputs": [
    {
     "name": "stdout",
     "output_type": "stream",
     "text": [
      "count    20351.000000\n",
      "mean        34.119229\n",
      "std         19.500475\n",
      "min         12.000000\n",
      "25%         18.800000\n",
      "50%         30.000000\n",
      "75%         42.300000\n",
      "max        200.000000\n",
      "Name: living_area, dtype: float64\n",
      "AxesSubplot(0.125,0.125;0.775x0.755)\n"
     ]
    },
    {
     "data": {
      "image/png": "[encoded data removed]",
      "text/plain": [
       "<Figure size 1080x720 with 1 Axes>"
      ]
     },
     "metadata": {
      "needs_background": "light"
     },
     "output_type": "display_data"
    }
   ],
   "source": [
    "print(df['living_area'].describe())\n",
    "print(df['living_area'].hist(bins=100, range=(0,200), figsize=(15,10), legend=True))"
   ]
  },
  {
   "cell_type": "markdown",
   "metadata": {},
   "source": [
    "В основном квартиры Петербуржцев имеют жилую площадь 19 и 30 кв м. Резкое уменьшение числа квартир с жилой площадью окола 25 кв м может быть связано с типичностью застройки. В Петербурге много старыхдомов, которые строили давно и часто по типовым проектам. Но данная теория требует проверки."
   ]
  },
  {
   "cell_type": "code",
   "execution_count": 27,
   "metadata": {},
   "outputs": [
    {
     "name": "stdout",
     "output_type": "stream",
     "text": [
      "count    19788.000000\n",
      "mean        10.336063\n",
      "std          5.034230\n",
      "min          5.000000\n",
      "25%          7.000000\n",
      "50%          9.000000\n",
      "75%         11.900000\n",
      "max         50.000000\n",
      "Name: kitchen_area, dtype: float64\n",
      "AxesSubplot(0.125,0.125;0.775x0.755)\n"
     ]
    },
    {
     "data": {
      "image/png": "[encoded data removed]",
      "text/plain": [
       "<Figure size 1080x720 with 1 Axes>"
      ]
     },
     "metadata": {
      "needs_background": "light"
     },
     "output_type": "display_data"
    }
   ],
   "source": [
    "print(df['kitchen_area'].describe())\n",
    "print(df['kitchen_area'].hist(bins=100, range=(0,30), figsize=(15,10), legend=True))"
   ]
  },
  {
   "cell_type": "markdown",
   "metadata": {},
   "source": [
    "В основном кухни у Петербуржцев площадью от 6 до 10 кв м. Возможно это как раз связано с популярностью квартир с небольшоц площадью, куда просто не влезет кухня бОльшего размера"
   ]
  },
  {
   "cell_type": "code",
   "execution_count": 28,
   "metadata": {},
   "outputs": [
    {
     "name": "stdout",
     "output_type": "stream",
     "text": [
      "count    2.045300e+04\n",
      "mean     6.095434e+06\n",
      "std      5.817678e+06\n",
      "min      4.300000e+05\n",
      "25%      3.450000e+06\n",
      "50%      4.600000e+06\n",
      "75%      6.700000e+06\n",
      "max      9.900000e+07\n",
      "Name: last_price, dtype: float64\n",
      "AxesSubplot(0.125,0.125;0.775x0.755)\n"
     ]
    },
    {
     "data": {
      "image/png": "[encoded data removed]",
      "text/plain": [
       "<Figure size 1080x720 with 1 Axes>"
      ]
     },
     "metadata": {
      "needs_background": "light"
     },
     "output_type": "display_data"
    }
   ],
   "source": [
    "print(df['last_price'].describe())\n",
    "print(df['last_price'].hist(bins=100, range=(0,5.900000e+07), figsize=(15,10), legend=True))"
   ]
  },
  {
   "cell_type": "markdown",
   "metadata": {},
   "source": [
    "На графике явно видно, что цена на недвижимость в Петербурге находится в оссновном на промежутке от 4 млн до 7. Квартиры бОльшей стоимостью всречаются сильно реже"
   ]
  },
  {
   "cell_type": "code",
   "execution_count": 29,
   "metadata": {},
   "outputs": [
    {
     "name": "stdout",
     "output_type": "stream",
     "text": [
      "count    20453.000000\n",
      "mean         2.075588\n",
      "std          1.035625\n",
      "min          0.000000\n",
      "25%          1.000000\n",
      "50%          2.000000\n",
      "75%          3.000000\n",
      "max         14.000000\n",
      "Name: rooms, dtype: float64\n",
      "AxesSubplot(0.125,0.125;0.775x0.755)\n"
     ]
    },
    {
     "data": {
      "image/png": "[encoded data removed]",
      "text/plain": [
       "<Figure size 1080x720 with 1 Axes>"
      ]
     },
     "metadata": {
      "needs_background": "light"
     },
     "output_type": "display_data"
    }
   ],
   "source": [
    "print(df['rooms'].describe())\n",
    "print(df['rooms'].hist(bins=100, range=(0,14), figsize=(15,10), legend=True))"
   ]
  },
  {
   "cell_type": "markdown",
   "metadata": {},
   "source": [
    "Из графика очевидно, что 1-о комнатные и 2-х комнатные квартиры сильно преобладают над остальными на платфоре. Чуть реже встречаются 3-х комнатные. Остальные квартиры встречаются крайне редко относительно этих 3-х видов"
   ]
  },
  {
   "cell_type": "code",
   "execution_count": 30,
   "metadata": {},
   "outputs": [
    {
     "name": "stdout",
     "output_type": "stream",
     "text": [
      "count    12861.000000\n",
      "mean         2.717482\n",
      "std          0.251856\n",
      "min          2.500000\n",
      "25%          2.520000\n",
      "50%          2.650000\n",
      "75%          2.800000\n",
      "max          4.000000\n",
      "Name: ceiling_height, dtype: float64\n",
      "AxesSubplot(0.125,0.125;0.775x0.755)\n"
     ]
    },
    {
     "data": {
      "image/png": "[encoded data removed]",
      "text/plain": [
       "<Figure size 1080x720 with 1 Axes>"
      ]
     },
     "metadata": {
      "needs_background": "light"
     },
     "output_type": "display_data"
    }
   ],
   "source": [
    "print(df['ceiling_height'].describe())\n",
    "print(df['ceiling_height'].hist(bins=50, range=(2,4), figsize=(15,10), legend=True))"
   ]
  },
  {
   "cell_type": "markdown",
   "metadata": {},
   "source": [
    "Наибольшей популярностью пользуются квартиры с высотой потолков около 2,5 метров "
   ]
  },
  {
   "cell_type": "code",
   "execution_count": 31,
   "metadata": {},
   "outputs": [
    {
     "name": "stdout",
     "output_type": "stream",
     "text": [
      "count    20453.000000\n",
      "mean         5.853420\n",
      "std          4.830951\n",
      "min          1.000000\n",
      "25%          2.000000\n",
      "50%          4.000000\n",
      "75%          8.000000\n",
      "max         33.000000\n",
      "Name: floor, dtype: float64\n",
      "AxesSubplot(0.125,0.125;0.775x0.755)\n"
     ]
    },
    {
     "data": {
      "image/png": "[encoded data removed]",
      "text/plain": [
       "<Figure size 1080x720 with 1 Axes>"
      ]
     },
     "metadata": {
      "needs_background": "light"
     },
     "output_type": "display_data"
    }
   ],
   "source": [
    "print(df['floor'].describe())\n",
    "print(df['floor'].hist(bins=75, range=(0,33), figsize=(15,10), legend=True))"
   ]
  },
  {
   "cell_type": "markdown",
   "metadata": {},
   "source": [
    "На графике видно сильное преобладание квартир на 1-м,2-м,3-м,4-м и пятом этаже. Что опять же, скорее всего связано с тем, что Петерьбург старый город и раньше не строили небоскребы. Также, наверняка это связано с географической особненостью Петербурга. Город был построен не на самой устойчивой поверхности."
   ]
  },
  {
   "cell_type": "code",
   "execution_count": 32,
   "metadata": {},
   "outputs": [
    {
     "name": "stdout",
     "output_type": "stream",
     "text": [
      "count      20453\n",
      "unique         3\n",
      "top       другой\n",
      "freq       15045\n",
      "Name: floor_type, dtype: object\n",
      "AxesSubplot(0.125,0.125;0.775x0.755)\n"
     ]
    },
    {
     "data": {
      "image/png": "[encoded data removed]",
      "text/plain": [
       "<Figure size 1080x720 with 1 Axes>"
      ]
     },
     "metadata": {
      "needs_background": "light"
     },
     "output_type": "display_data"
    }
   ],
   "source": [
    "print(df['floor_type'].describe())\n",
    "print(df['floor_type'].hist(bins=10, figsize=(15,10), legend=True))"
   ]
  },
  {
   "cell_type": "markdown",
   "metadata": {},
   "source": [
    "Абсолютно статистически логичный график. Естественно квартир, находящихся на этажах со 2-го по N-й, будет больше, чем тех, которые на 1-м и на последенем. Графики могли бы показать что-то интересное, если бы все дома были бы 3-х этажные"
   ]
  },
  {
   "cell_type": "code",
   "execution_count": 33,
   "metadata": {},
   "outputs": [
    {
     "name": "stdout",
     "output_type": "stream",
     "text": [
      "count    20453.000000\n",
      "mean        10.596147\n",
      "std          6.513283\n",
      "min          1.000000\n",
      "25%          5.000000\n",
      "50%          9.000000\n",
      "75%         15.000000\n",
      "max         60.000000\n",
      "Name: floors_total, dtype: float64\n",
      "AxesSubplot(0.125,0.125;0.775x0.755)\n"
     ]
    },
    {
     "data": {
      "image/png": "[encoded data removed]",
      "text/plain": [
       "<Figure size 1080x720 with 1 Axes>"
      ]
     },
     "metadata": {
      "needs_background": "light"
     },
     "output_type": "display_data"
    }
   ],
   "source": [
    "print(df['floors_total'].describe())\n",
    "print(df['floors_total'].hist(bins=100, range=(0,60), figsize=(15,10), legend=True))"
   ]
  },
  {
   "cell_type": "markdown",
   "metadata": {},
   "source": [
    "Еще один + в копилку теории о том, что из-за географичекого расположения и грунта, в Петербурге преобладают невысокие дома. В основном дома 5-и и 9-и этажные"
   ]
  },
  {
   "cell_type": "code",
   "execution_count": 34,
   "metadata": {},
   "outputs": [
    {
     "name": "stdout",
     "output_type": "stream",
     "text": [
      "count    15693.000000\n",
      "mean     14291.082776\n",
      "std       8632.151048\n",
      "min        181.000000\n",
      "25%       9380.000000\n",
      "50%      13145.000000\n",
      "75%      16300.000000\n",
      "max      65952.000000\n",
      "Name: city_centers_nearest, dtype: float64\n",
      "AxesSubplot(0.125,0.125;0.775x0.755)\n"
     ]
    },
    {
     "data": {
      "image/png": "[encoded data removed]",
      "text/plain": [
       "<Figure size 1080x720 with 1 Axes>"
      ]
     },
     "metadata": {
      "needs_background": "light"
     },
     "output_type": "display_data"
    }
   ],
   "source": [
    "print(df['city_centers_nearest'].describe())\n",
    "print(df['city_centers_nearest'].hist(bins=100, range=(100,66000), figsize=(15,10), legend=True))"
   ]
  },
  {
   "cell_type": "markdown",
   "metadata": {},
   "source": [
    "В среднем, квартиры, размещенные на площадке, находились на расстояние 11-15 км от центра города. Небольшой подъем на 30км может быть связан с продажей квартир в области или окраинах Питера"
   ]
  },
  {
   "cell_type": "code",
   "execution_count": 35,
   "metadata": {},
   "outputs": [
    {
     "name": "stdout",
     "output_type": "stream",
     "text": [
      "count    15675.000000\n",
      "mean     29129.415056\n",
      "std      12467.947239\n",
      "min      10000.000000\n",
      "25%      18794.000000\n",
      "50%      27084.000000\n",
      "75%      37412.000000\n",
      "max      84853.000000\n",
      "Name: airports_nearest, dtype: float64\n",
      "AxesSubplot(0.125,0.125;0.775x0.755)\n"
     ]
    },
    {
     "data": {
      "image/png": "[encoded data removed]",
      "text/plain": [
       "<Figure size 1080x720 with 1 Axes>"
      ]
     },
     "metadata": {
      "needs_background": "light"
     },
     "output_type": "display_data"
    }
   ],
   "source": [
    "print(df['airports_nearest'].describe())\n",
    "print(df['airports_nearest'].hist(bins=100, range=(10000,85000), figsize=(15,10), legend=True))"
   ]
  },
  {
   "cell_type": "markdown",
   "metadata": {},
   "source": [
    "Аэропрт в Питере находится от центра на расстоянии около 21км, что совпадает с нашим графиком (самое 'популярное' расстояние - 21км). График такой, потому что сам аэропорт не так уж и далеко от Петербрга "
   ]
  },
  {
   "cell_type": "code",
   "execution_count": 36,
   "metadata": {},
   "outputs": [
    {
     "name": "stdout",
     "output_type": "stream",
     "text": [
      "count    6687.000000\n",
      "mean      507.241364\n",
      "std       329.740176\n",
      "min       100.000000\n",
      "25%       313.000000\n",
      "50%       462.000000\n",
      "75%       614.000000\n",
      "max      3190.000000\n",
      "Name: parks_nearest, dtype: float64\n",
      "AxesSubplot(0.125,0.125;0.775x0.755)\n"
     ]
    },
    {
     "data": {
      "image/png": "[encoded data removed]",
      "text/plain": [
       "<Figure size 1080x720 with 1 Axes>"
      ]
     },
     "metadata": {
      "needs_background": "light"
     },
     "output_type": "display_data"
    }
   ],
   "source": [
    "print(df['parks_nearest'].describe())\n",
    "print(df['parks_nearest'].hist(bins=100, range=(0,3200), figsize=(15,10), legend=True))"
   ]
  },
  {
   "cell_type": "markdown",
   "metadata": {},
   "source": [
    "В среднем люди живут в 450м от парка, видимо в Петербурге их много"
   ]
  },
  {
   "cell_type": "code",
   "execution_count": 37,
   "metadata": {},
   "outputs": [
    {
     "name": "stdout",
     "output_type": "stream",
     "text": [
      "count    20453.000000\n",
      "mean         2.552828\n",
      "std          1.783404\n",
      "min          0.000000\n",
      "25%          1.000000\n",
      "50%          3.000000\n",
      "75%          4.000000\n",
      "max          6.000000\n",
      "Name: week_day, dtype: float64\n",
      "count    20453.000000\n",
      "mean         6.417054\n",
      "std          3.460024\n",
      "min          1.000000\n",
      "25%          3.000000\n",
      "50%          6.000000\n",
      "75%         10.000000\n",
      "max         12.000000\n",
      "Name: month, dtype: float64\n",
      "AxesSubplot(0.125,0.125;0.775x0.755)\n"
     ]
    },
    {
     "data": {
      "image/png": "[encoded data removed]",
      "text/plain": [
       "<Figure size 1080x720 with 1 Axes>"
      ]
     },
     "metadata": {
      "needs_background": "light"
     },
     "output_type": "display_data"
    },
    {
     "name": "stdout",
     "output_type": "stream",
     "text": [
      "AxesSubplot(0.125,0.125;0.775x0.755)\n"
     ]
    },
    {
     "data": {
      "image/png": "[encoded data removed]",
      "text/plain": [
       "<Figure size 1080x720 with 1 Axes>"
      ]
     },
     "metadata": {
      "needs_background": "light"
     },
     "output_type": "display_data"
    }
   ],
   "source": [
    "import matplotlib.pyplot as plt\n",
    "print(df['week_day'].describe())\n",
    "print(df['month'].describe())\n",
    "print(df['week_day'].hist(bins=100, range=(0,6), figsize=(15,10), legend=True))\n",
    "plt.show()\n",
    "print(df['month'].hist(bins=100, range=(0,12), figsize=(15,10), legend=True))\n",
    "plt.show()"
   ]
  },
  {
   "cell_type": "markdown",
   "metadata": {},
   "source": [
    "На графике видно, что разница между днями неделями и кол-вом опубликованных постов не столько велико в рабочие дни. Но вот в выходные Петербуржцы не любят выставлять на продажу квартиры.\n",
    "Также, чаще всего квартиры выставлются на продажу в конце зимы и в ее начале. Также есть небольшой подъем в середине года "
   ]
  },
  {
   "cell_type": "code",
   "execution_count": 38,
   "metadata": {},
   "outputs": [
    {
     "name": "stdout",
     "output_type": "stream",
     "text": [
      "count    17610.000000\n",
      "mean       175.791085\n",
      "std        199.404987\n",
      "min          2.000000\n",
      "25%         44.000000\n",
      "50%         99.000000\n",
      "75%        232.000000\n",
      "max       1095.000000\n",
      "Name: days_exposition, dtype: float64\n",
      "Среднее: 175.79108461101646\n",
      "Медиана: 99.0\n"
     ]
    },
    {
     "data": {
      "image/png": "[encoded data removed]",
      "text/plain": [
       "<Figure size 1080x720 with 1 Axes>"
      ]
     },
     "metadata": {
      "needs_background": "light"
     },
     "output_type": "display_data"
    }
   ],
   "source": [
    "df['days_exposition'].hist(bins=200, figsize=(15,10), legend=True, range=(0,200) )\n",
    "print(df['days_exposition'].describe())\n",
    "print('Среднее:', df['days_exposition'].mean())\n",
    "print('Медиана:', df['days_exposition'].median())"
   ]
  },
  {
   "cell_type": "markdown",
   "metadata": {},
   "source": [
    "Квартиры в Петербурге продаются чаще всего примерно за 1.5 месяца. Причем кол-во продаж за меньший срок сильно больше кол-ва продаж за больший. Быстрыми можно считать продажи, которые были совершенны за менее чем 45 дней, медленными - которые продаются дольше 200 дней. Заметны аномально высокие показатели на 44-й день и на 60-й "
   ]
  },
  {
   "cell_type": "code",
   "execution_count": 39,
   "metadata": {},
   "outputs": [
    {
     "data": {
      "image/png": "[encoded data removed]",
      "text/plain": [
       "<Figure size 432x288 with 1 Axes>"
      ]
     },
     "metadata": {
      "needs_background": "light"
     },
     "output_type": "display_data"
    },
    {
     "data": {
      "image/png": "[encoded data removed]",
      "text/plain": [
       "<Figure size 432x288 with 1 Axes>"
      ]
     },
     "metadata": {
      "needs_background": "light"
     },
     "output_type": "display_data"
    },
    {
     "data": {
      "image/png": "[encoded data removed]",
      "text/plain": [
       "<Figure size 432x288 with 1 Axes>"
      ]
     },
     "metadata": {
      "needs_background": "light"
     },
     "output_type": "display_data"
    }
   ],
   "source": [
    "#display(df)\n",
    "list = ['total_area','living_area','kitchen_area',\n",
    "        'rooms', 'floor_type','week_day',\n",
    "        'month','year']\n",
    "for i in list[:3]:\n",
    "    df.plot(kind='scatter', x='last_price', y=i)\n",
    "    plt.show()\n",
    "\n",
    "    \n"
   ]
  },
  {
   "cell_type": "code",
   "execution_count": 40,
   "metadata": {},
   "outputs": [
    {
     "name": "stdout",
     "output_type": "stream",
     "text": [
      "Корреляция между last_price и total_area : 0.7561323436182531\n",
      "Корреляция между last_price и living_area : 0.667267227411407\n",
      "Корреляция между last_price и kitchen_area : 0.5609816914322822\n",
      "Корреляция между last_price и rooms : 0.47304937092955945\n",
      "Корреляция между last_price и month : -0.00017137628197662973\n",
      "Корреляция между last_price и year : -0.03725329931239138\n"
     ]
    }
   ],
   "source": [
    "for i in list[0:4]:\n",
    "    print('Корреляция между last_price и', i, ':', df['last_price'].corr(df[i]))\n",
    "for i in list[6:9]:\n",
    "    print('Корреляция между last_price и', i, ':', df['last_price'].corr(df[i]))"
   ]
  },
  {
   "cell_type": "markdown",
   "metadata": {},
   "source": [
    "Наибольший коэффецент корреляции между last_price и total_area. На 'втором' месте living_area и заканчивает топ 3 'kitchen_area'"
   ]
  },
  {
   "cell_type": "code",
   "execution_count": 41,
   "metadata": {},
   "outputs": [
    {
     "data": {
      "text/plain": [
       "<AxesSubplot:xlabel='rooms'>"
      ]
     },
     "execution_count": 41,
     "metadata": {},
     "output_type": "execute_result"
    },
    {
     "data": {
      "image/png": "[encoded data removed]",
      "text/plain": [
       "<Figure size 432x288 with 1 Axes>"
      ]
     },
     "metadata": {
      "needs_background": "light"
     },
     "output_type": "display_data"
    }
   ],
   "source": [
    "df.pivot_table(index='rooms',values='last_price').plot(y='last_price', kind='bar')"
   ]
  },
  {
   "cell_type": "code",
   "execution_count": 42,
   "metadata": {},
   "outputs": [
    {
     "data": {
      "text/plain": [
       "<AxesSubplot:ylabel='floor_type'>"
      ]
     },
     "execution_count": 42,
     "metadata": {},
     "output_type": "execute_result"
    },
    {
     "data": {
      "image/png": "[encoded data removed]",
      "text/plain": [
       "<Figure size 432x288 with 1 Axes>"
      ]
     },
     "metadata": {
      "needs_background": "light"
     },
     "output_type": "display_data"
    }
   ],
   "source": [
    "df.pivot_table(index='floor_type',values='last_price').plot(y='last_price', kind='barh')"
   ]
  },
  {
   "cell_type": "code",
   "execution_count": 43,
   "metadata": {},
   "outputs": [
    {
     "data": {
      "image/png": "[encoded data removed]",
      "text/plain": [
       "<Figure size 432x288 with 1 Axes>"
      ]
     },
     "metadata": {
      "needs_background": "light"
     },
     "output_type": "display_data"
    },
    {
     "data": {
      "image/png": "[encoded data removed]",
      "text/plain": [
       "<Figure size 432x288 with 1 Axes>"
      ]
     },
     "metadata": {
      "needs_background": "light"
     },
     "output_type": "display_data"
    },
    {
     "data": {
      "image/png": "[encoded data removed]",
      "text/plain": [
       "<Figure size 432x288 with 1 Axes>"
      ]
     },
     "metadata": {
      "needs_background": "light"
     },
     "output_type": "display_data"
    },
    {
     "data": {
      "image/png": "[encoded data removed]",
      "text/plain": [
       "<Figure size 432x288 with 1 Axes>"
      ]
     },
     "metadata": {
      "needs_background": "light"
     },
     "output_type": "display_data"
    },
    {
     "data": {
      "image/png": "[encoded data removed]",
      "text/plain": [
       "<Figure size 432x288 with 1 Axes>"
      ]
     },
     "metadata": {
      "needs_background": "light"
     },
     "output_type": "display_data"
    },
    {
     "data": {
      "image/png": "[encoded data removed]",
      "text/plain": [
       "<Figure size 432x288 with 1 Axes>"
      ]
     },
     "metadata": {
      "needs_background": "light"
     },
     "output_type": "display_data"
    }
   ],
   "source": [
    "for i in list[5:8]:\n",
    "    df.pivot_table(index=i, values='last_price', aggfunc='mean').plot(kind='line', y='last_price', title='mean')\n",
    "    df.pivot_table(index=i, values='last_price', aggfunc='median').plot(kind='line', y='last_price', title='median')\n"
   ]
  },
  {
   "cell_type": "markdown",
   "metadata": {},
   "source": [
    "Цена больше всего зависит от общей площади, жилой площади и площади кухни. Также есть зависимость между кол-вом комнат и ценой, но на промежутки 6-и и 14-ю комнатами, цена меняется сильно слабее. Наибольшая разница цена от кол-ва комнат наблюдается в промежутке между 0 и 5ю комнатами. \n",
    "Цена слабо зависит от этажа, но все-таки разница между ценой квартиры на 1-м и на всех остальных этажах есть.\n",
    "В начала и конце зимы цена растет, что связано с повышением спроса (ранее строили такой график). Аналогично с днями недели, но тут скорее играет роль то, что Петербуржцы просто чаще публикую объявления именно в рабочие дни. Также, с 2014го года цена квартир сильно упала, нос 2017 постепенно можно наблюдать рост."
   ]
  },
  {
   "cell_type": "code",
   "execution_count": 44,
   "metadata": {},
   "outputs": [
    {
     "data": {
      "text/plain": [
       "<AxesSubplot:xlabel='year'>"
      ]
     },
     "execution_count": 44,
     "metadata": {},
     "output_type": "execute_result"
    },
    {
     "data": {
      "image/png": "[encoded data removed]",
      "text/plain": [
       "<Figure size 432x288 with 1 Axes>"
      ]
     },
     "metadata": {
      "needs_background": "light"
     },
     "output_type": "display_data"
    },
    {
     "data": {
      "image/png": "[encoded data removed]",
      "text/plain": [
       "<Figure size 432x288 with 1 Axes>"
      ]
     },
     "metadata": {
      "needs_background": "light"
     },
     "output_type": "display_data"
    },
    {
     "data": {
      "image/png": "[encoded data removed]",
      "text/plain": [
       "<Figure size 432x288 with 1 Axes>"
      ]
     },
     "metadata": {
      "needs_background": "light"
     },
     "output_type": "display_data"
    },
    {
     "data": {
      "image/png": "[encoded data removed]",
      "text/plain": [
       "<Figure size 432x288 with 1 Axes>"
      ]
     },
     "metadata": {
      "needs_background": "light"
     },
     "output_type": "display_data"
    }
   ],
   "source": [
    "b = df.pivot_table(index='year', values='last_price', aggfunc='count')\n",
    "b.plot(kind='bar')\n",
    "b = df.pivot_table(index='year', values='last_price', aggfunc='median')\n",
    "b.plot(kind='bar')\n",
    "b = df.pivot_table(index='year', values='total_area', aggfunc='count')\n",
    "b.plot(kind='bar')\n",
    "b = df.pivot_table(index='year', values='total_area', aggfunc='median')\n",
    "b.plot(kind='bar')\n"
   ]
  },
  {
   "cell_type": "markdown",
   "metadata": {},
   "source": [
    "Можно заметить, что зависимости между уменьшением цены и уменьшением площади нет. Но наблюдается спад цены именно в те года, когда кол-во объявление растет "
   ]
  },
  {
   "cell_type": "code",
   "execution_count": 45,
   "metadata": {},
   "outputs": [
    {
     "data": {
      "text/plain": [
       "'Топ 10 р-в по кол-ву объявлений:'"
      ]
     },
     "metadata": {},
     "output_type": "display_data"
    },
    {
     "data": {
      "text/html": [
       "<div>\n",
       "<style scoped>\n",
       "    .dataframe tbody tr th:only-of-type {\n",
       "        vertical-align: middle;\n",
       "    }\n",
       "\n",
       "    .dataframe tbody tr th {\n",
       "        vertical-align: top;\n",
       "    }\n",
       "\n",
       "    .dataframe thead th {\n",
       "        text-align: right;\n",
       "    }\n",
       "</style>\n",
       "<table border=\"1\" class=\"dataframe\">\n",
       "  <thead>\n",
       "    <tr style=\"text-align: right;\">\n",
       "      <th></th>\n",
       "      <th>count</th>\n",
       "      <th>mean_price</th>\n",
       "    </tr>\n",
       "    <tr>\n",
       "      <th>locality_name</th>\n",
       "      <th></th>\n",
       "      <th></th>\n",
       "    </tr>\n",
       "  </thead>\n",
       "  <tbody>\n",
       "    <tr>\n",
       "      <th>санкт-петербург</th>\n",
       "      <td>13545</td>\n",
       "      <td>112127.831086</td>\n",
       "    </tr>\n",
       "    <tr>\n",
       "      <th>мурино</th>\n",
       "      <td>493</td>\n",
       "      <td>85938.587329</td>\n",
       "    </tr>\n",
       "    <tr>\n",
       "      <th>кудрово</th>\n",
       "      <td>410</td>\n",
       "      <td>95334.738773</td>\n",
       "    </tr>\n",
       "    <tr>\n",
       "      <th>шушары</th>\n",
       "      <td>384</td>\n",
       "      <td>77787.649081</td>\n",
       "    </tr>\n",
       "    <tr>\n",
       "      <th>всеволожск</th>\n",
       "      <td>363</td>\n",
       "      <td>68790.927840</td>\n",
       "    </tr>\n",
       "    <tr>\n",
       "      <th>колпино</th>\n",
       "      <td>318</td>\n",
       "      <td>75179.589917</td>\n",
       "    </tr>\n",
       "    <tr>\n",
       "      <th>пушкин</th>\n",
       "      <td>311</td>\n",
       "      <td>103712.528984</td>\n",
       "    </tr>\n",
       "    <tr>\n",
       "      <th>гатчина</th>\n",
       "      <td>288</td>\n",
       "      <td>68768.361858</td>\n",
       "    </tr>\n",
       "    <tr>\n",
       "      <th>парголово</th>\n",
       "      <td>288</td>\n",
       "      <td>90244.449071</td>\n",
       "    </tr>\n",
       "    <tr>\n",
       "      <th>выборг</th>\n",
       "      <td>192</td>\n",
       "      <td>58193.390351</td>\n",
       "    </tr>\n",
       "  </tbody>\n",
       "</table>\n",
       "</div>"
      ],
      "text/plain": [
       "                 count     mean_price\n",
       "locality_name                        \n",
       "санкт-петербург  13545  112127.831086\n",
       "мурино             493   85938.587329\n",
       "кудрово            410   95334.738773\n",
       "шушары             384   77787.649081\n",
       "всеволожск         363   68790.927840\n",
       "колпино            318   75179.589917\n",
       "пушкин             311  103712.528984\n",
       "гатчина            288   68768.361858\n",
       "парголово          288   90244.449071\n",
       "выборг             192   58193.390351"
      ]
     },
     "metadata": {},
     "output_type": "display_data"
    },
    {
     "data": {
      "text/plain": [
       "'Самая большая цена за кв м в:'"
      ]
     },
     "metadata": {},
     "output_type": "display_data"
    },
    {
     "data": {
      "text/html": [
       "<div>\n",
       "<style scoped>\n",
       "    .dataframe tbody tr th:only-of-type {\n",
       "        vertical-align: middle;\n",
       "    }\n",
       "\n",
       "    .dataframe tbody tr th {\n",
       "        vertical-align: top;\n",
       "    }\n",
       "\n",
       "    .dataframe thead th {\n",
       "        text-align: right;\n",
       "    }\n",
       "</style>\n",
       "<table border=\"1\" class=\"dataframe\">\n",
       "  <thead>\n",
       "    <tr style=\"text-align: right;\">\n",
       "      <th></th>\n",
       "      <th>count</th>\n",
       "      <th>mean_price</th>\n",
       "    </tr>\n",
       "    <tr>\n",
       "      <th>locality_name</th>\n",
       "      <th></th>\n",
       "      <th></th>\n",
       "    </tr>\n",
       "  </thead>\n",
       "  <tbody>\n",
       "    <tr>\n",
       "      <th>санкт-петербург</th>\n",
       "      <td>13545</td>\n",
       "      <td>112127.831086</td>\n",
       "    </tr>\n",
       "  </tbody>\n",
       "</table>\n",
       "</div>"
      ],
      "text/plain": [
       "                 count     mean_price\n",
       "locality_name                        \n",
       "санкт-петербург  13545  112127.831086"
      ]
     },
     "metadata": {},
     "output_type": "display_data"
    },
    {
     "data": {
      "text/plain": [
       "'Самая маленькая цена за кв м в:'"
      ]
     },
     "metadata": {},
     "output_type": "display_data"
    },
    {
     "data": {
      "text/html": [
       "<div>\n",
       "<style scoped>\n",
       "    .dataframe tbody tr th:only-of-type {\n",
       "        vertical-align: middle;\n",
       "    }\n",
       "\n",
       "    .dataframe tbody tr th {\n",
       "        vertical-align: top;\n",
       "    }\n",
       "\n",
       "    .dataframe thead th {\n",
       "        text-align: right;\n",
       "    }\n",
       "</style>\n",
       "<table border=\"1\" class=\"dataframe\">\n",
       "  <thead>\n",
       "    <tr style=\"text-align: right;\">\n",
       "      <th></th>\n",
       "      <th>count</th>\n",
       "      <th>mean_price</th>\n",
       "    </tr>\n",
       "    <tr>\n",
       "      <th>locality_name</th>\n",
       "      <th></th>\n",
       "      <th></th>\n",
       "    </tr>\n",
       "  </thead>\n",
       "  <tbody>\n",
       "    <tr>\n",
       "      <th>выборг</th>\n",
       "      <td>192</td>\n",
       "      <td>58193.390351</td>\n",
       "    </tr>\n",
       "  </tbody>\n",
       "</table>\n",
       "</div>"
      ],
      "text/plain": [
       "               count    mean_price\n",
       "locality_name                     \n",
       "выборг           192  58193.390351"
      ]
     },
     "metadata": {},
     "output_type": "display_data"
    }
   ],
   "source": [
    "#display(df)\n",
    "data = df.pivot_table(index='locality_name', values='meter_price', aggfunc=['count','mean'])\n",
    "data.columns = ['count', 'mean_price']\n",
    "data = data.sort_values('count', ascending=False).head(10)\n",
    "\n",
    "display('Топ 10 р-в по кол-ву объявлений:', data)\n",
    "display('Самая большая цена за кв м в:', data.query('mean_price == @data[\"mean_price\"].max()'))\n",
    "display('Самая маленькая цена за кв м в:', data.query('mean_price == @data[\"mean_price\"].min()'))\n"
   ]
  },
  {
   "cell_type": "code",
   "execution_count": 46,
   "metadata": {},
   "outputs": [
    {
     "data": {
      "text/html": [
       "<div>\n",
       "<style scoped>\n",
       "    .dataframe tbody tr th:only-of-type {\n",
       "        vertical-align: middle;\n",
       "    }\n",
       "\n",
       "    .dataframe tbody tr th {\n",
       "        vertical-align: top;\n",
       "    }\n",
       "\n",
       "    .dataframe thead th {\n",
       "        text-align: right;\n",
       "    }\n",
       "</style>\n",
       "<table border=\"1\" class=\"dataframe\">\n",
       "  <thead>\n",
       "    <tr style=\"text-align: right;\">\n",
       "      <th></th>\n",
       "      <th>last_price</th>\n",
       "    </tr>\n",
       "    <tr>\n",
       "      <th>distance_to_center</th>\n",
       "      <th></th>\n",
       "    </tr>\n",
       "  </thead>\n",
       "  <tbody>\n",
       "    <tr>\n",
       "      <th>0.0</th>\n",
       "      <td>2.212519e+07</td>\n",
       "    </tr>\n",
       "    <tr>\n",
       "      <th>1.0</th>\n",
       "      <td>1.617738e+07</td>\n",
       "    </tr>\n",
       "    <tr>\n",
       "      <th>2.0</th>\n",
       "      <td>1.454254e+07</td>\n",
       "    </tr>\n",
       "    <tr>\n",
       "      <th>3.0</th>\n",
       "      <td>1.063124e+07</td>\n",
       "    </tr>\n",
       "    <tr>\n",
       "      <th>4.0</th>\n",
       "      <td>1.099238e+07</td>\n",
       "    </tr>\n",
       "    <tr>\n",
       "      <th>5.0</th>\n",
       "      <td>1.176217e+07</td>\n",
       "    </tr>\n",
       "    <tr>\n",
       "      <th>6.0</th>\n",
       "      <td>1.286509e+07</td>\n",
       "    </tr>\n",
       "    <tr>\n",
       "      <th>7.0</th>\n",
       "      <td>1.299794e+07</td>\n",
       "    </tr>\n",
       "    <tr>\n",
       "      <th>8.0</th>\n",
       "      <td>9.248306e+06</td>\n",
       "    </tr>\n",
       "    <tr>\n",
       "      <th>9.0</th>\n",
       "      <td>7.063126e+06</td>\n",
       "    </tr>\n",
       "    <tr>\n",
       "      <th>10.0</th>\n",
       "      <td>6.309670e+06</td>\n",
       "    </tr>\n",
       "    <tr>\n",
       "      <th>11.0</th>\n",
       "      <td>6.200628e+06</td>\n",
       "    </tr>\n",
       "    <tr>\n",
       "      <th>12.0</th>\n",
       "      <td>5.817114e+06</td>\n",
       "    </tr>\n",
       "    <tr>\n",
       "      <th>13.0</th>\n",
       "      <td>6.038928e+06</td>\n",
       "    </tr>\n",
       "    <tr>\n",
       "      <th>14.0</th>\n",
       "      <td>5.557410e+06</td>\n",
       "    </tr>\n",
       "    <tr>\n",
       "      <th>15.0</th>\n",
       "      <td>5.838033e+06</td>\n",
       "    </tr>\n",
       "    <tr>\n",
       "      <th>16.0</th>\n",
       "      <td>5.371205e+06</td>\n",
       "    </tr>\n",
       "    <tr>\n",
       "      <th>17.0</th>\n",
       "      <td>5.373755e+06</td>\n",
       "    </tr>\n",
       "    <tr>\n",
       "      <th>18.0</th>\n",
       "      <td>5.165782e+06</td>\n",
       "    </tr>\n",
       "    <tr>\n",
       "      <th>19.0</th>\n",
       "      <td>5.065875e+06</td>\n",
       "    </tr>\n",
       "    <tr>\n",
       "      <th>20.0</th>\n",
       "      <td>6.097430e+06</td>\n",
       "    </tr>\n",
       "    <tr>\n",
       "      <th>21.0</th>\n",
       "      <td>5.208322e+06</td>\n",
       "    </tr>\n",
       "    <tr>\n",
       "      <th>22.0</th>\n",
       "      <td>5.237427e+06</td>\n",
       "    </tr>\n",
       "    <tr>\n",
       "      <th>23.0</th>\n",
       "      <td>5.023173e+06</td>\n",
       "    </tr>\n",
       "    <tr>\n",
       "      <th>24.0</th>\n",
       "      <td>3.871130e+06</td>\n",
       "    </tr>\n",
       "    <tr>\n",
       "      <th>25.0</th>\n",
       "      <td>4.058158e+06</td>\n",
       "    </tr>\n",
       "    <tr>\n",
       "      <th>26.0</th>\n",
       "      <td>4.249460e+06</td>\n",
       "    </tr>\n",
       "    <tr>\n",
       "      <th>27.0</th>\n",
       "      <td>8.300000e+06</td>\n",
       "    </tr>\n",
       "    <tr>\n",
       "      <th>28.0</th>\n",
       "      <td>4.814167e+06</td>\n",
       "    </tr>\n",
       "    <tr>\n",
       "      <th>29.0</th>\n",
       "      <td>4.236667e+06</td>\n",
       "    </tr>\n",
       "  </tbody>\n",
       "</table>\n",
       "</div>"
      ],
      "text/plain": [
       "                      last_price\n",
       "distance_to_center              \n",
       "0.0                 2.212519e+07\n",
       "1.0                 1.617738e+07\n",
       "2.0                 1.454254e+07\n",
       "3.0                 1.063124e+07\n",
       "4.0                 1.099238e+07\n",
       "5.0                 1.176217e+07\n",
       "6.0                 1.286509e+07\n",
       "7.0                 1.299794e+07\n",
       "8.0                 9.248306e+06\n",
       "9.0                 7.063126e+06\n",
       "10.0                6.309670e+06\n",
       "11.0                6.200628e+06\n",
       "12.0                5.817114e+06\n",
       "13.0                6.038928e+06\n",
       "14.0                5.557410e+06\n",
       "15.0                5.838033e+06\n",
       "16.0                5.371205e+06\n",
       "17.0                5.373755e+06\n",
       "18.0                5.165782e+06\n",
       "19.0                5.065875e+06\n",
       "20.0                6.097430e+06\n",
       "21.0                5.208322e+06\n",
       "22.0                5.237427e+06\n",
       "23.0                5.023173e+06\n",
       "24.0                3.871130e+06\n",
       "25.0                4.058158e+06\n",
       "26.0                4.249460e+06\n",
       "27.0                8.300000e+06\n",
       "28.0                4.814167e+06\n",
       "29.0                4.236667e+06"
      ]
     },
     "execution_count": 46,
     "metadata": {},
     "output_type": "execute_result"
    },
    {
     "data": {
      "image/png": "[encoded data removed]",
      "text/plain": [
       "<Figure size 432x288 with 1 Axes>"
      ]
     },
     "metadata": {
      "needs_background": "light"
     },
     "output_type": "display_data"
    }
   ],
   "source": [
    "data = df[df['locality_name'] == 'санкт-петербург']\n",
    "data = data.pivot_table(index='distance_to_center', values='last_price', aggfunc='mean')\n",
    "data.plot(kind='line', grid = True, title = 'Заголовок')\n",
    "data"
   ]
  },
  {
   "cell_type": "markdown",
   "metadata": {},
   "source": [
    "Дороже всех, естественно, квартиры, нахордящиеся в центе. Потом с каждым киллометром цена падает в плоть до значения в 3 км. с 3-го по 7-й киллометр цена растет. С 8-го по 25 цена падет, за исключением небольшого подъема на 20-м киллометре. На 26-м и 27-м киллометрах цена растет. С 28 по 29 продолжает падать. Возможно такие счкачки связаны с удобным расположением квартир или же их нахождением в каких-то особых районах (например в истрическом). Или же наличие в этом районе наиболее удобной инфраструктуры, по сравнению с другими, близлежащими районами."
   ]
  },
  {
   "cell_type": "markdown",
   "metadata": {},
   "source": [
    "### Общий вывод"
   ]
  },
  {
   "cell_type": "markdown",
   "metadata": {},
   "source": [
    "Изучив данные по Санк-Петербургу, можно сделать вывод о том, что самые популярные квартиры одна-двухкомнатные, площадью от 30 до 50 квадратных метрвов, c небольшими кухнями, потолками в среднем 2.5 метра, расположенные в 5-и этажных зданиях на расстоянии 11-15км от центра города.\n",
    "Петербуржцы не любят заниматься продажами по выходным.\n",
    "Хорошие лоты продаются менее чем за 45 дней, а плохие же более чем за 200 дней.\n",
    "Жители Петербурга выставляют цену ориентируясь в основном на площадь кухни, жилую и общую. Также обращают внимание на кол-во комнат. Этаж же наоборот не сильно интересует жителей культурной сталицы России.\n",
    "Ценообразование за кв м в зависимости от геолокации квартиры очень зависит от района и его благоустройства. \n",
    "\n",
    "Были выполнены следующие этапы;\n",
    "1. Общий (беглый) анализ данных\n",
    "2. Проведена предобработка данных: избавились от дубликатов, выбросов, аномалий, изменены типы данных в толбцах для корректного анализа\n",
    "3. Добавлены дополнительные данные для дальнейшего анализа\n",
    "4. Был выполнен анализ по основным параметрам объектов.\n",
    "5. Изучена зависимость скорости продажи объявления от различных параметров объекта\n",
    "6. Изучены факторы, влияющие на ценообразование объекта\n",
    "7. Была посчитана средняя цена 1 кв м в 10 самых популярных населенных пунктах(По кол-ву объявлений)\n",
    "8. Была посчитана ср цена каждого киллометра для Санкт-Петербурга. Также была изучена ависимость вида: цена/расстояние до центра для каждого киллометра "
   ]
  }
 ],
 "metadata": {
  "ExecuteTimeLog": [
   {
    "duration": 457,
    "start_time": "2023-02-23T10:45:19.667Z"
   },
   {
    "duration": 71,
    "start_time": "2023-02-23T10:45:25.965Z"
   },
   {
    "duration": 9,
    "start_time": "2023-02-23T10:45:29.372Z"
   },
   {
    "duration": 6,
    "start_time": "2023-02-23T10:45:36.242Z"
   },
   {
    "duration": 315,
    "start_time": "2023-02-23T10:45:41.703Z"
   },
   {
    "duration": 72,
    "start_time": "2023-02-23T10:46:05.979Z"
   },
   {
    "duration": 71,
    "start_time": "2023-02-23T10:47:33.126Z"
   },
   {
    "duration": 129,
    "start_time": "2023-02-23T10:47:50.618Z"
   },
   {
    "duration": 97,
    "start_time": "2023-02-23T10:47:55.147Z"
   },
   {
    "duration": 92,
    "start_time": "2023-02-23T10:52:32.567Z"
   },
   {
    "duration": 91,
    "start_time": "2023-02-23T10:52:46.007Z"
   },
   {
    "duration": 45,
    "start_time": "2023-02-23T10:54:56.661Z"
   },
   {
    "duration": 131,
    "start_time": "2023-02-23T10:55:06.322Z"
   },
   {
    "duration": 107,
    "start_time": "2023-02-23T10:55:28.311Z"
   },
   {
    "duration": 130,
    "start_time": "2023-02-23T10:55:35.902Z"
   },
   {
    "duration": 103,
    "start_time": "2023-02-23T10:55:40.282Z"
   },
   {
    "duration": 136,
    "start_time": "2023-02-23T10:55:59.303Z"
   },
   {
    "duration": 132,
    "start_time": "2023-02-23T10:56:14.273Z"
   },
   {
    "duration": 138,
    "start_time": "2023-02-23T10:56:18.205Z"
   },
   {
    "duration": 1587,
    "start_time": "2023-02-23T10:57:08.335Z"
   },
   {
    "duration": 1981,
    "start_time": "2023-02-23T10:57:51.297Z"
   },
   {
    "duration": 23,
    "start_time": "2023-02-23T11:15:36.211Z"
   },
   {
    "duration": 11,
    "start_time": "2023-02-23T11:15:44.765Z"
   },
   {
    "duration": 12,
    "start_time": "2023-02-23T11:18:17.734Z"
   },
   {
    "duration": 8,
    "start_time": "2023-02-23T11:23:37.425Z"
   },
   {
    "duration": 9,
    "start_time": "2023-02-23T11:23:52.366Z"
   },
   {
    "duration": 7,
    "start_time": "2023-02-23T11:23:56.775Z"
   },
   {
    "duration": 24,
    "start_time": "2023-02-23T11:24:08.325Z"
   },
   {
    "duration": 23,
    "start_time": "2023-02-23T11:24:39.063Z"
   },
   {
    "duration": 90,
    "start_time": "2023-02-23T11:25:34.671Z"
   },
   {
    "duration": 37,
    "start_time": "2023-02-23T11:25:41.269Z"
   },
   {
    "duration": 31,
    "start_time": "2023-02-23T11:25:46.249Z"
   },
   {
    "duration": 42,
    "start_time": "2023-02-23T11:25:53.599Z"
   },
   {
    "duration": 53,
    "start_time": "2023-02-23T11:26:08.962Z"
   },
   {
    "duration": 11,
    "start_time": "2023-02-23T11:26:23.930Z"
   },
   {
    "duration": 12,
    "start_time": "2023-02-23T11:45:40.621Z"
   },
   {
    "duration": 14,
    "start_time": "2023-02-23T11:46:11.997Z"
   },
   {
    "duration": 24,
    "start_time": "2023-02-23T11:47:58.930Z"
   },
   {
    "duration": 21,
    "start_time": "2023-02-23T12:23:27.017Z"
   },
   {
    "duration": 25,
    "start_time": "2023-02-23T12:30:02.308Z"
   },
   {
    "duration": 33,
    "start_time": "2023-02-23T12:49:37.829Z"
   },
   {
    "duration": 34,
    "start_time": "2023-02-23T12:50:51.332Z"
   },
   {
    "duration": 7,
    "start_time": "2023-02-23T13:06:46.779Z"
   },
   {
    "duration": 13,
    "start_time": "2023-02-23T13:07:11.973Z"
   },
   {
    "duration": 42,
    "start_time": "2023-02-23T13:08:47.496Z"
   },
   {
    "duration": 44,
    "start_time": "2023-02-23T13:16:30.897Z"
   },
   {
    "duration": 4,
    "start_time": "2023-02-23T13:19:46.381Z"
   },
   {
    "duration": 6,
    "start_time": "2023-02-23T13:21:27.243Z"
   },
   {
    "duration": 6,
    "start_time": "2023-02-23T13:22:30.539Z"
   },
   {
    "duration": 8,
    "start_time": "2023-02-23T13:27:05.527Z"
   },
   {
    "duration": 9,
    "start_time": "2023-02-23T13:28:07.390Z"
   },
   {
    "duration": 7,
    "start_time": "2023-02-23T13:28:12.910Z"
   },
   {
    "duration": 8,
    "start_time": "2023-02-23T13:28:43.300Z"
   },
   {
    "duration": 8,
    "start_time": "2023-02-23T13:28:47.260Z"
   },
   {
    "duration": 10,
    "start_time": "2023-02-23T13:28:54.851Z"
   },
   {
    "duration": 39,
    "start_time": "2023-02-23T13:29:51.583Z"
   },
   {
    "duration": 14,
    "start_time": "2023-02-23T13:30:32.172Z"
   },
   {
    "duration": 7,
    "start_time": "2023-02-23T13:33:00.588Z"
   },
   {
    "duration": 23,
    "start_time": "2023-02-23T13:39:38.166Z"
   },
   {
    "duration": 1213,
    "start_time": "2023-02-23T13:39:48.367Z"
   },
   {
    "duration": 30,
    "start_time": "2023-02-23T13:40:03.335Z"
   },
   {
    "duration": 27,
    "start_time": "2023-02-23T13:40:44.703Z"
   },
   {
    "duration": 132,
    "start_time": "2023-02-23T13:41:04.231Z"
   },
   {
    "duration": 1963,
    "start_time": "2023-02-23T13:41:04.366Z"
   },
   {
    "duration": 24,
    "start_time": "2023-02-23T13:41:06.330Z"
   },
   {
    "duration": 30,
    "start_time": "2023-02-23T13:41:06.357Z"
   },
   {
    "duration": 16,
    "start_time": "2023-02-23T13:41:06.389Z"
   },
   {
    "duration": 46,
    "start_time": "2023-02-23T13:41:06.407Z"
   },
   {
    "duration": 28,
    "start_time": "2023-02-23T13:42:32.226Z"
   },
   {
    "duration": 26,
    "start_time": "2023-02-23T13:42:52.386Z"
   },
   {
    "duration": 115,
    "start_time": "2023-02-23T13:42:56.164Z"
   },
   {
    "duration": 1870,
    "start_time": "2023-02-23T13:42:56.281Z"
   },
   {
    "duration": 10,
    "start_time": "2023-02-23T13:42:58.152Z"
   },
   {
    "duration": 27,
    "start_time": "2023-02-23T13:42:58.163Z"
   },
   {
    "duration": 13,
    "start_time": "2023-02-23T13:42:58.192Z"
   },
   {
    "duration": 44,
    "start_time": "2023-02-23T13:42:58.207Z"
   },
   {
    "duration": 28,
    "start_time": "2023-02-23T13:43:52.568Z"
   },
   {
    "duration": 33,
    "start_time": "2023-02-23T13:44:28.479Z"
   },
   {
    "duration": 33,
    "start_time": "2023-02-23T13:44:43.809Z"
   },
   {
    "duration": 119,
    "start_time": "2023-02-23T13:45:03.470Z"
   },
   {
    "duration": 1861,
    "start_time": "2023-02-23T13:45:03.591Z"
   },
   {
    "duration": 13,
    "start_time": "2023-02-23T13:45:05.458Z"
   },
   {
    "duration": 193,
    "start_time": "2023-02-23T13:45:05.473Z"
   },
   {
    "duration": 14,
    "start_time": "2023-02-23T13:45:05.668Z"
   },
   {
    "duration": 6,
    "start_time": "2023-02-23T13:45:05.683Z"
   },
   {
    "duration": 30,
    "start_time": "2023-02-23T13:45:39.641Z"
   },
   {
    "duration": 114,
    "start_time": "2023-02-23T13:45:55.812Z"
   },
   {
    "duration": 1756,
    "start_time": "2023-02-23T13:45:55.929Z"
   },
   {
    "duration": 13,
    "start_time": "2023-02-23T13:45:57.688Z"
   },
   {
    "duration": 63,
    "start_time": "2023-02-23T13:45:57.704Z"
   },
   {
    "duration": 14,
    "start_time": "2023-02-23T13:45:57.769Z"
   },
   {
    "duration": 5,
    "start_time": "2023-02-23T13:45:57.785Z"
   },
   {
    "duration": 7,
    "start_time": "2023-02-23T13:46:19.122Z"
   },
   {
    "duration": 49,
    "start_time": "2023-02-23T13:47:46.755Z"
   },
   {
    "duration": 45,
    "start_time": "2023-02-23T13:48:11.656Z"
   },
   {
    "duration": 0,
    "start_time": "2023-02-23T13:48:51.895Z"
   },
   {
    "duration": 31,
    "start_time": "2023-02-23T13:48:56.424Z"
   },
   {
    "duration": 30,
    "start_time": "2023-02-23T13:49:02.728Z"
   },
   {
    "duration": 6,
    "start_time": "2023-02-23T13:50:21.530Z"
   },
   {
    "duration": 546,
    "start_time": "2023-02-23T13:52:09.830Z"
   },
   {
    "duration": 2085,
    "start_time": "2023-02-23T13:52:10.378Z"
   },
   {
    "duration": 9,
    "start_time": "2023-02-23T13:52:12.465Z"
   },
   {
    "duration": 41,
    "start_time": "2023-02-23T13:52:12.476Z"
   },
   {
    "duration": 38,
    "start_time": "2023-02-23T13:52:12.519Z"
   },
   {
    "duration": 6,
    "start_time": "2023-02-23T13:52:12.558Z"
   },
   {
    "duration": 32,
    "start_time": "2023-02-23T13:53:46.496Z"
   },
   {
    "duration": 26,
    "start_time": "2023-02-23T13:54:41.248Z"
   },
   {
    "duration": 24,
    "start_time": "2023-02-23T13:54:53.009Z"
   },
   {
    "duration": 6,
    "start_time": "2023-02-23T13:55:08.350Z"
   },
   {
    "duration": 146,
    "start_time": "2023-02-23T14:03:13.576Z"
   },
   {
    "duration": 2032,
    "start_time": "2023-02-23T14:03:13.725Z"
   },
   {
    "duration": 11,
    "start_time": "2023-02-23T14:03:15.759Z"
   },
   {
    "duration": 30,
    "start_time": "2023-02-23T14:03:15.772Z"
   },
   {
    "duration": 61,
    "start_time": "2023-02-23T14:03:15.804Z"
   },
   {
    "duration": 6,
    "start_time": "2023-02-23T14:03:15.867Z"
   },
   {
    "duration": 30,
    "start_time": "2023-02-23T14:07:37.019Z"
   },
   {
    "duration": 14,
    "start_time": "2023-02-23T14:09:03.785Z"
   },
   {
    "duration": 7,
    "start_time": "2023-02-23T14:09:09.925Z"
   },
   {
    "duration": 8,
    "start_time": "2023-02-23T14:17:55.992Z"
   },
   {
    "duration": 9,
    "start_time": "2023-02-23T14:18:02.262Z"
   },
   {
    "duration": 17,
    "start_time": "2023-02-23T14:18:16.272Z"
   },
   {
    "duration": 25,
    "start_time": "2023-02-23T14:18:36.853Z"
   },
   {
    "duration": 24,
    "start_time": "2023-02-23T14:19:05.924Z"
   },
   {
    "duration": 27,
    "start_time": "2023-02-23T14:19:33.525Z"
   },
   {
    "duration": 23,
    "start_time": "2023-02-23T14:19:57.526Z"
   },
   {
    "duration": 27,
    "start_time": "2023-02-23T14:20:29.116Z"
   },
   {
    "duration": 31,
    "start_time": "2023-02-23T14:20:52.697Z"
   },
   {
    "duration": 30,
    "start_time": "2023-02-23T14:21:22.159Z"
   },
   {
    "duration": 29,
    "start_time": "2023-02-23T14:21:47.088Z"
   },
   {
    "duration": 32,
    "start_time": "2023-02-23T14:22:02.930Z"
   },
   {
    "duration": 20,
    "start_time": "2023-02-23T14:22:10.189Z"
   },
   {
    "duration": 32,
    "start_time": "2023-02-23T14:26:02.158Z"
   },
   {
    "duration": 31,
    "start_time": "2023-02-23T14:26:55.017Z"
   },
   {
    "duration": 20,
    "start_time": "2023-02-23T14:27:09.328Z"
   },
   {
    "duration": 25,
    "start_time": "2023-02-23T14:27:27.118Z"
   },
   {
    "duration": 28,
    "start_time": "2023-02-23T14:27:35.308Z"
   },
   {
    "duration": 30,
    "start_time": "2023-02-23T14:27:44.938Z"
   },
   {
    "duration": 19,
    "start_time": "2023-02-23T14:27:57.509Z"
   },
   {
    "duration": 22,
    "start_time": "2023-02-23T14:27:58.829Z"
   },
   {
    "duration": 22,
    "start_time": "2023-02-23T14:30:52.623Z"
   },
   {
    "duration": 173,
    "start_time": "2023-02-23T14:31:50.209Z"
   },
   {
    "duration": 2164,
    "start_time": "2023-02-23T14:31:50.385Z"
   },
   {
    "duration": 13,
    "start_time": "2023-02-23T14:31:52.552Z"
   },
   {
    "duration": 47,
    "start_time": "2023-02-23T14:31:52.567Z"
   },
   {
    "duration": 22,
    "start_time": "2023-02-23T14:31:52.649Z"
   },
   {
    "duration": 34,
    "start_time": "2023-02-23T14:31:52.673Z"
   },
   {
    "duration": 8,
    "start_time": "2023-02-23T14:33:54.848Z"
   },
   {
    "duration": 11,
    "start_time": "2023-02-23T14:34:15.909Z"
   },
   {
    "duration": 8,
    "start_time": "2023-02-23T14:51:50.832Z"
   },
   {
    "duration": 21,
    "start_time": "2023-02-23T14:58:59.302Z"
   },
   {
    "duration": 22,
    "start_time": "2023-02-23T14:59:10.523Z"
   },
   {
    "duration": 24,
    "start_time": "2023-02-23T14:59:27.353Z"
   },
   {
    "duration": 7,
    "start_time": "2023-02-23T14:59:42.816Z"
   },
   {
    "duration": 86,
    "start_time": "2023-02-23T15:00:35.185Z"
   },
   {
    "duration": 27,
    "start_time": "2023-02-23T15:01:37.627Z"
   },
   {
    "duration": 14,
    "start_time": "2023-02-23T15:02:08.549Z"
   },
   {
    "duration": 28,
    "start_time": "2023-02-23T15:02:11.249Z"
   },
   {
    "duration": 883,
    "start_time": "2023-02-23T15:03:21.241Z"
   },
   {
    "duration": 121,
    "start_time": "2023-02-23T15:04:32.613Z"
   },
   {
    "duration": 25,
    "start_time": "2023-02-23T15:05:12.148Z"
   },
   {
    "duration": 16,
    "start_time": "2023-02-23T15:05:18.753Z"
   },
   {
    "duration": 127,
    "start_time": "2023-02-23T15:06:33.576Z"
   },
   {
    "duration": 16,
    "start_time": "2023-02-23T15:06:38.497Z"
   },
   {
    "duration": 848,
    "start_time": "2023-02-23T15:07:03.187Z"
   },
   {
    "duration": 672,
    "start_time": "2023-02-23T15:07:19.089Z"
   },
   {
    "duration": 713,
    "start_time": "2023-02-23T15:07:50.531Z"
   },
   {
    "duration": 801,
    "start_time": "2023-02-23T15:08:20.500Z"
   },
   {
    "duration": 728,
    "start_time": "2023-02-23T15:09:01.424Z"
   },
   {
    "duration": 665,
    "start_time": "2023-02-23T15:09:51.943Z"
   },
   {
    "duration": 718,
    "start_time": "2023-02-23T15:10:09.494Z"
   },
   {
    "duration": 4,
    "start_time": "2023-02-23T15:11:02.354Z"
   },
   {
    "duration": 6,
    "start_time": "2023-02-23T15:11:12.242Z"
   },
   {
    "duration": 22,
    "start_time": "2023-02-23T15:12:41.687Z"
   },
   {
    "duration": 35,
    "start_time": "2023-02-23T15:13:04.788Z"
   },
   {
    "duration": 33,
    "start_time": "2023-02-23T15:13:11.298Z"
   },
   {
    "duration": 53,
    "start_time": "2023-02-23T15:15:05.785Z"
   },
   {
    "duration": 60,
    "start_time": "2023-02-23T15:15:16.042Z"
   },
   {
    "duration": 98,
    "start_time": "2023-02-23T15:25:14.837Z"
   },
   {
    "duration": 74,
    "start_time": "2023-02-23T15:25:29.771Z"
   },
   {
    "duration": 70,
    "start_time": "2023-02-23T15:25:45.940Z"
   },
   {
    "duration": 95,
    "start_time": "2023-02-23T15:26:41.840Z"
   },
   {
    "duration": 90,
    "start_time": "2023-02-23T15:26:48.827Z"
   },
   {
    "duration": 205,
    "start_time": "2023-02-23T15:30:03.805Z"
   },
   {
    "duration": 127,
    "start_time": "2023-02-23T15:30:15.499Z"
   },
   {
    "duration": 49,
    "start_time": "2023-02-23T15:30:21.618Z"
   },
   {
    "duration": 77,
    "start_time": "2023-02-23T15:31:05.360Z"
   },
   {
    "duration": 56,
    "start_time": "2023-02-23T15:31:18.654Z"
   },
   {
    "duration": 80,
    "start_time": "2023-02-23T15:33:44.515Z"
   },
   {
    "duration": 53,
    "start_time": "2023-02-23T15:34:08.006Z"
   },
   {
    "duration": 69,
    "start_time": "2023-02-23T15:38:30.399Z"
   },
   {
    "duration": 63,
    "start_time": "2023-02-23T15:38:51.636Z"
   },
   {
    "duration": 70,
    "start_time": "2023-02-23T15:39:02.497Z"
   },
   {
    "duration": 90,
    "start_time": "2023-02-23T15:39:28.988Z"
   },
   {
    "duration": 87,
    "start_time": "2023-02-23T15:39:35.677Z"
   },
   {
    "duration": 77,
    "start_time": "2023-02-23T15:39:54.608Z"
   },
   {
    "duration": 61,
    "start_time": "2023-02-23T15:40:07.388Z"
   },
   {
    "duration": 62,
    "start_time": "2023-02-23T15:40:22.899Z"
   },
   {
    "duration": 76,
    "start_time": "2023-02-23T15:41:45.764Z"
   },
   {
    "duration": 67,
    "start_time": "2023-02-23T15:42:09.823Z"
   },
   {
    "duration": 53,
    "start_time": "2023-02-23T15:42:24.563Z"
   },
   {
    "duration": 86,
    "start_time": "2023-02-23T15:42:31.482Z"
   },
   {
    "duration": 62,
    "start_time": "2023-02-23T15:42:36.283Z"
   },
   {
    "duration": 71,
    "start_time": "2023-02-23T15:42:55.004Z"
   },
   {
    "duration": 62,
    "start_time": "2023-02-23T15:43:43.875Z"
   },
   {
    "duration": 164,
    "start_time": "2023-02-23T15:45:16.609Z"
   },
   {
    "duration": 118,
    "start_time": "2023-02-23T15:46:57.567Z"
   },
   {
    "duration": 147,
    "start_time": "2023-02-23T15:47:34.892Z"
   },
   {
    "duration": 157,
    "start_time": "2023-02-23T15:47:47.303Z"
   },
   {
    "duration": 111,
    "start_time": "2023-02-23T15:50:06.927Z"
   },
   {
    "duration": 134,
    "start_time": "2023-02-23T15:51:35.106Z"
   },
   {
    "duration": 2986,
    "start_time": "2023-02-23T15:57:47.362Z"
   },
   {
    "duration": 10,
    "start_time": "2023-02-23T16:27:08.794Z"
   },
   {
    "duration": 10,
    "start_time": "2023-02-23T16:27:21.485Z"
   },
   {
    "duration": 87,
    "start_time": "2023-02-23T16:27:35.679Z"
   },
   {
    "duration": 2585,
    "start_time": "2023-02-23T16:31:26.622Z"
   },
   {
    "duration": 19,
    "start_time": "2023-02-23T16:31:34.211Z"
   },
   {
    "duration": 27,
    "start_time": "2023-02-23T16:31:50.532Z"
   },
   {
    "duration": 164,
    "start_time": "2023-02-23T16:32:38.805Z"
   },
   {
    "duration": 2386,
    "start_time": "2023-02-23T16:32:38.975Z"
   },
   {
    "duration": 18,
    "start_time": "2023-02-23T16:32:41.363Z"
   },
   {
    "duration": 39,
    "start_time": "2023-02-23T16:32:41.383Z"
   },
   {
    "duration": 37,
    "start_time": "2023-02-23T16:32:41.424Z"
   },
   {
    "duration": 50,
    "start_time": "2023-02-23T16:32:41.463Z"
   },
   {
    "duration": 125,
    "start_time": "2023-02-23T16:32:41.515Z"
   },
   {
    "duration": 74,
    "start_time": "2023-02-23T16:32:41.643Z"
   },
   {
    "duration": 141,
    "start_time": "2023-02-23T16:54:26.003Z"
   },
   {
    "duration": 4,
    "start_time": "2023-02-23T16:57:34.578Z"
   },
   {
    "duration": 11,
    "start_time": "2023-02-23T16:58:09.970Z"
   },
   {
    "duration": 4,
    "start_time": "2023-02-23T16:58:42.681Z"
   },
   {
    "duration": 1459,
    "start_time": "2023-02-23T16:58:57.885Z"
   },
   {
    "duration": 26,
    "start_time": "2023-02-23T16:59:16.387Z"
   },
   {
    "duration": 60,
    "start_time": "2023-02-23T17:20:46.838Z"
   },
   {
    "duration": 22,
    "start_time": "2023-02-23T17:21:11.714Z"
   },
   {
    "duration": 36,
    "start_time": "2023-02-23T17:21:21.940Z"
   },
   {
    "duration": 31,
    "start_time": "2023-02-23T17:33:05.636Z"
   },
   {
    "duration": 17,
    "start_time": "2023-02-23T17:33:24.268Z"
   },
   {
    "duration": 9,
    "start_time": "2023-02-23T17:35:04.680Z"
   },
   {
    "duration": 33,
    "start_time": "2023-02-23T17:35:16.500Z"
   },
   {
    "duration": 147,
    "start_time": "2023-02-23T17:36:06.817Z"
   },
   {
    "duration": 270,
    "start_time": "2023-02-23T17:36:14.191Z"
   },
   {
    "duration": 131,
    "start_time": "2023-02-23T17:36:18.470Z"
   },
   {
    "duration": 179,
    "start_time": "2023-02-23T17:36:49.503Z"
   },
   {
    "duration": 197,
    "start_time": "2023-02-23T17:38:22.836Z"
   },
   {
    "duration": 146,
    "start_time": "2023-02-23T17:38:27.606Z"
   },
   {
    "duration": 140,
    "start_time": "2023-02-23T17:39:35.370Z"
   },
   {
    "duration": 190,
    "start_time": "2023-02-23T17:39:46.238Z"
   },
   {
    "duration": 168,
    "start_time": "2023-02-23T17:40:07.928Z"
   },
   {
    "duration": 136,
    "start_time": "2023-02-23T17:40:38.499Z"
   },
   {
    "duration": 144,
    "start_time": "2023-02-23T17:41:03.222Z"
   },
   {
    "duration": 144,
    "start_time": "2023-02-23T17:41:29.878Z"
   },
   {
    "duration": 138,
    "start_time": "2023-02-23T17:43:50.273Z"
   },
   {
    "duration": 145,
    "start_time": "2023-02-23T17:46:14.898Z"
   },
   {
    "duration": 143,
    "start_time": "2023-02-23T17:46:18.872Z"
   },
   {
    "duration": 155,
    "start_time": "2023-02-23T17:46:31.519Z"
   },
   {
    "duration": 156,
    "start_time": "2023-02-23T17:47:24.983Z"
   },
   {
    "duration": 10,
    "start_time": "2023-02-23T17:49:37.872Z"
   },
   {
    "duration": 6,
    "start_time": "2023-02-23T17:49:55.015Z"
   },
   {
    "duration": 72,
    "start_time": "2023-02-23T17:50:39.721Z"
   },
   {
    "duration": 11,
    "start_time": "2023-02-23T17:50:51.473Z"
   },
   {
    "duration": 318,
    "start_time": "2023-02-23T17:53:05.519Z"
   },
   {
    "duration": 170,
    "start_time": "2023-02-23T17:53:09.979Z"
   },
   {
    "duration": 417,
    "start_time": "2023-02-23T17:53:13.470Z"
   },
   {
    "duration": 151,
    "start_time": "2023-02-23T17:53:20.280Z"
   },
   {
    "duration": 360,
    "start_time": "2023-02-23T17:53:25.182Z"
   },
   {
    "duration": 166,
    "start_time": "2023-02-23T17:53:28.110Z"
   },
   {
    "duration": 206,
    "start_time": "2023-02-23T17:53:45.873Z"
   },
   {
    "duration": 25,
    "start_time": "2023-02-23T17:59:23.620Z"
   },
   {
    "duration": 20,
    "start_time": "2023-02-23T17:59:32.742Z"
   },
   {
    "duration": 11,
    "start_time": "2023-02-23T18:00:48.703Z"
   },
   {
    "duration": 27,
    "start_time": "2023-02-23T18:03:07.879Z"
   },
   {
    "duration": 23,
    "start_time": "2023-02-23T18:03:27.411Z"
   },
   {
    "duration": 24,
    "start_time": "2023-02-23T18:03:57.108Z"
   },
   {
    "duration": 30,
    "start_time": "2023-02-23T18:04:05.451Z"
   },
   {
    "duration": 23,
    "start_time": "2023-02-23T18:04:13.857Z"
   },
   {
    "duration": 16,
    "start_time": "2023-02-23T18:06:00.974Z"
   },
   {
    "duration": 35,
    "start_time": "2023-02-23T18:08:15.394Z"
   },
   {
    "duration": 20,
    "start_time": "2023-02-23T18:08:25.080Z"
   },
   {
    "duration": 32,
    "start_time": "2023-02-23T18:10:47.640Z"
   },
   {
    "duration": 25,
    "start_time": "2023-02-23T18:10:54.031Z"
   },
   {
    "duration": 29,
    "start_time": "2023-02-23T18:12:32.194Z"
   },
   {
    "duration": 38,
    "start_time": "2023-02-23T18:12:58.834Z"
   },
   {
    "duration": 31,
    "start_time": "2023-02-23T18:14:01.536Z"
   },
   {
    "duration": 7,
    "start_time": "2023-02-23T18:17:39.526Z"
   },
   {
    "duration": 4,
    "start_time": "2023-02-23T18:20:02.026Z"
   },
   {
    "duration": 11,
    "start_time": "2023-02-23T18:20:05.206Z"
   },
   {
    "duration": 13,
    "start_time": "2023-02-23T18:20:57.407Z"
   },
   {
    "duration": 15,
    "start_time": "2023-02-23T18:21:35.269Z"
   },
   {
    "duration": 13,
    "start_time": "2023-02-23T18:22:43.131Z"
   },
   {
    "duration": 18,
    "start_time": "2023-02-23T18:23:12.143Z"
   },
   {
    "duration": 14,
    "start_time": "2023-02-23T18:24:17.472Z"
   },
   {
    "duration": 92,
    "start_time": "2023-02-23T18:25:18.689Z"
   },
   {
    "duration": 21,
    "start_time": "2023-02-23T18:25:23.372Z"
   },
   {
    "duration": 55,
    "start_time": "2023-02-23T18:25:52.066Z"
   },
   {
    "duration": 14,
    "start_time": "2023-02-23T18:29:54.402Z"
   },
   {
    "duration": 18,
    "start_time": "2023-02-23T18:30:34.374Z"
   },
   {
    "duration": 16,
    "start_time": "2023-02-23T18:34:21.774Z"
   },
   {
    "duration": 398,
    "start_time": "2023-02-23T18:34:35.876Z"
   },
   {
    "duration": 7,
    "start_time": "2023-02-23T18:34:54.894Z"
   },
   {
    "duration": 18,
    "start_time": "2023-02-23T18:35:01.860Z"
   },
   {
    "duration": 9,
    "start_time": "2023-02-23T18:35:08.184Z"
   },
   {
    "duration": 19,
    "start_time": "2023-02-23T18:35:57.661Z"
   },
   {
    "duration": 20,
    "start_time": "2023-02-23T18:36:07.771Z"
   },
   {
    "duration": 151,
    "start_time": "2023-02-23T18:36:14.746Z"
   },
   {
    "duration": 1979,
    "start_time": "2023-02-23T18:36:14.899Z"
   },
   {
    "duration": 11,
    "start_time": "2023-02-23T18:36:16.880Z"
   },
   {
    "duration": 29,
    "start_time": "2023-02-23T18:36:16.892Z"
   },
   {
    "duration": 45,
    "start_time": "2023-02-23T18:36:16.923Z"
   },
   {
    "duration": 39,
    "start_time": "2023-02-23T18:36:16.969Z"
   },
   {
    "duration": 114,
    "start_time": "2023-02-23T18:36:17.010Z"
   },
   {
    "duration": 100,
    "start_time": "2023-02-23T18:36:17.126Z"
   },
   {
    "duration": 35,
    "start_time": "2023-02-23T18:36:17.228Z"
   },
   {
    "duration": 7,
    "start_time": "2023-02-23T18:36:17.264Z"
   },
   {
    "duration": 148,
    "start_time": "2023-02-23T18:36:17.273Z"
   },
   {
    "duration": 174,
    "start_time": "2023-02-23T18:36:17.422Z"
   },
   {
    "duration": 24,
    "start_time": "2023-02-23T18:36:17.598Z"
   },
   {
    "duration": 41,
    "start_time": "2023-02-23T18:36:17.626Z"
   },
   {
    "duration": 15,
    "start_time": "2023-02-23T18:38:18.601Z"
   },
   {
    "duration": 747,
    "start_time": "2023-02-23T18:38:54.693Z"
   },
   {
    "duration": 16,
    "start_time": "2023-02-23T18:39:06.213Z"
   },
   {
    "duration": 17,
    "start_time": "2023-02-23T18:39:09.003Z"
   },
   {
    "duration": 12,
    "start_time": "2023-02-23T18:39:20.913Z"
   },
   {
    "duration": 6,
    "start_time": "2023-02-23T18:42:03.939Z"
   },
   {
    "duration": 35,
    "start_time": "2023-02-23T18:42:39.340Z"
   },
   {
    "duration": 17,
    "start_time": "2023-02-23T18:42:48.582Z"
   },
   {
    "duration": 13,
    "start_time": "2023-02-23T18:44:44.876Z"
   },
   {
    "duration": 23,
    "start_time": "2023-02-23T18:45:13.036Z"
   },
   {
    "duration": 29,
    "start_time": "2023-02-23T18:45:17.146Z"
   },
   {
    "duration": 27,
    "start_time": "2023-02-23T18:46:04.217Z"
   },
   {
    "duration": 23,
    "start_time": "2023-02-23T18:46:12.277Z"
   },
   {
    "duration": 25,
    "start_time": "2023-02-23T18:46:18.588Z"
   },
   {
    "duration": 52,
    "start_time": "2023-02-23T18:46:59.376Z"
   },
   {
    "duration": 28,
    "start_time": "2023-02-23T18:47:05.299Z"
   },
   {
    "duration": 23,
    "start_time": "2023-02-23T18:47:15.679Z"
   },
   {
    "duration": 181,
    "start_time": "2023-02-23T18:50:08.906Z"
   },
   {
    "duration": 172,
    "start_time": "2023-02-23T18:50:25.256Z"
   },
   {
    "duration": 403,
    "start_time": "2023-02-23T18:50:34.136Z"
   },
   {
    "duration": 139,
    "start_time": "2023-02-23T18:50:37.286Z"
   },
   {
    "duration": 175,
    "start_time": "2023-02-23T18:50:45.986Z"
   },
   {
    "duration": 143,
    "start_time": "2023-02-23T18:51:40.438Z"
   },
   {
    "duration": 13,
    "start_time": "2023-02-23T18:51:54.974Z"
   },
   {
    "duration": 148,
    "start_time": "2023-02-23T18:53:29.491Z"
   },
   {
    "duration": 188,
    "start_time": "2023-02-23T18:53:42.512Z"
   },
   {
    "duration": 172,
    "start_time": "2023-02-23T18:53:58.002Z"
   },
   {
    "duration": 191,
    "start_time": "2023-02-23T18:54:15.393Z"
   },
   {
    "duration": 181,
    "start_time": "2023-02-23T18:54:47.765Z"
   },
   {
    "duration": 43,
    "start_time": "2023-02-23T18:57:37.870Z"
   },
   {
    "duration": 9,
    "start_time": "2023-02-23T18:57:44.205Z"
   },
   {
    "duration": 12,
    "start_time": "2023-02-23T18:58:22.781Z"
   },
   {
    "duration": 13,
    "start_time": "2023-02-23T18:58:28.391Z"
   },
   {
    "duration": 14,
    "start_time": "2023-02-23T18:58:52.572Z"
   },
   {
    "duration": 12,
    "start_time": "2023-02-23T18:59:00.372Z"
   },
   {
    "duration": 14,
    "start_time": "2023-02-23T18:59:33.884Z"
   },
   {
    "duration": 132,
    "start_time": "2023-02-23T19:01:54.408Z"
   },
   {
    "duration": 140,
    "start_time": "2023-02-23T19:04:18.592Z"
   },
   {
    "duration": 143,
    "start_time": "2023-02-23T19:04:38.172Z"
   },
   {
    "duration": 150,
    "start_time": "2023-02-23T19:07:34.739Z"
   },
   {
    "duration": 141,
    "start_time": "2023-02-23T19:07:53.560Z"
   },
   {
    "duration": 158,
    "start_time": "2023-02-23T19:09:16.532Z"
   },
   {
    "duration": 134,
    "start_time": "2023-02-23T19:11:06.883Z"
   },
   {
    "duration": 168,
    "start_time": "2023-02-23T19:11:23.317Z"
   },
   {
    "duration": 140,
    "start_time": "2023-02-23T19:13:13.183Z"
   },
   {
    "duration": 164,
    "start_time": "2023-02-23T19:13:23.955Z"
   },
   {
    "duration": 198,
    "start_time": "2023-02-23T19:15:45.196Z"
   },
   {
    "duration": 191,
    "start_time": "2023-02-23T19:15:51.888Z"
   },
   {
    "duration": 145,
    "start_time": "2023-02-23T19:16:43.037Z"
   },
   {
    "duration": 137,
    "start_time": "2023-02-23T19:17:09.588Z"
   },
   {
    "duration": 158,
    "start_time": "2023-02-23T19:19:04.282Z"
   },
   {
    "duration": 153,
    "start_time": "2023-02-23T19:19:15.543Z"
   },
   {
    "duration": 147,
    "start_time": "2023-02-23T19:19:59.279Z"
   },
   {
    "duration": 142,
    "start_time": "2023-02-23T19:20:25.677Z"
   },
   {
    "duration": 162,
    "start_time": "2023-02-23T19:20:41.687Z"
   },
   {
    "duration": 171,
    "start_time": "2023-02-23T19:20:55.706Z"
   },
   {
    "duration": 163,
    "start_time": "2023-02-23T19:21:26.479Z"
   },
   {
    "duration": 170,
    "start_time": "2023-02-23T19:21:45.275Z"
   },
   {
    "duration": 8,
    "start_time": "2023-02-23T19:22:20.607Z"
   },
   {
    "duration": 428,
    "start_time": "2023-02-23T19:22:34.051Z"
   },
   {
    "duration": 156,
    "start_time": "2023-02-23T19:22:39.898Z"
   },
   {
    "duration": 154,
    "start_time": "2023-02-23T19:23:17.887Z"
   },
   {
    "duration": 181,
    "start_time": "2023-02-23T19:23:28.500Z"
   },
   {
    "duration": 128,
    "start_time": "2023-02-23T19:24:15.998Z"
   },
   {
    "duration": 177,
    "start_time": "2023-02-23T19:24:45.902Z"
   },
   {
    "duration": 743,
    "start_time": "2023-02-23T19:25:51.395Z"
   },
   {
    "duration": 13,
    "start_time": "2023-02-23T19:26:04.295Z"
   },
   {
    "duration": 1382,
    "start_time": "2023-02-23T19:26:12.265Z"
   },
   {
    "duration": 19,
    "start_time": "2023-02-23T19:26:20.174Z"
   },
   {
    "duration": 40,
    "start_time": "2023-02-23T19:27:07.770Z"
   },
   {
    "duration": 564,
    "start_time": "2023-02-23T19:27:37.768Z"
   },
   {
    "duration": 794,
    "start_time": "2023-02-23T19:28:17.836Z"
   },
   {
    "duration": 892,
    "start_time": "2023-02-23T19:28:28.767Z"
   },
   {
    "duration": 15,
    "start_time": "2023-02-23T19:43:25.938Z"
   },
   {
    "duration": 28,
    "start_time": "2023-02-23T19:44:35.791Z"
   },
   {
    "duration": 36,
    "start_time": "2023-02-23T19:44:56.469Z"
   },
   {
    "duration": 45,
    "start_time": "2023-02-23T19:47:22.384Z"
   },
   {
    "duration": 62,
    "start_time": "2023-02-23T19:48:20.999Z"
   },
   {
    "duration": 50,
    "start_time": "2023-02-23T19:48:31.313Z"
   },
   {
    "duration": 140,
    "start_time": "2023-02-23T20:03:12.283Z"
   },
   {
    "duration": 2411,
    "start_time": "2023-02-23T20:03:12.425Z"
   },
   {
    "duration": 30,
    "start_time": "2023-02-23T20:03:14.838Z"
   },
   {
    "duration": 60,
    "start_time": "2023-02-23T20:03:14.877Z"
   },
   {
    "duration": 27,
    "start_time": "2023-02-23T20:03:14.938Z"
   },
   {
    "duration": 53,
    "start_time": "2023-02-23T20:03:14.977Z"
   },
   {
    "duration": 119,
    "start_time": "2023-02-23T20:03:15.032Z"
   },
   {
    "duration": 82,
    "start_time": "2023-02-23T20:03:15.152Z"
   },
   {
    "duration": 48,
    "start_time": "2023-02-23T20:03:15.236Z"
   },
   {
    "duration": 30,
    "start_time": "2023-02-23T20:03:15.287Z"
   },
   {
    "duration": 170,
    "start_time": "2023-02-23T20:03:15.319Z"
   },
   {
    "duration": 205,
    "start_time": "2023-02-23T20:03:15.491Z"
   },
   {
    "duration": 29,
    "start_time": "2023-02-23T20:03:15.704Z"
   },
   {
    "duration": 38,
    "start_time": "2023-02-23T20:03:15.735Z"
   },
   {
    "duration": 218,
    "start_time": "2023-02-23T20:03:15.781Z"
   },
   {
    "duration": 218,
    "start_time": "2023-02-23T20:03:16.001Z"
   },
   {
    "duration": 187,
    "start_time": "2023-02-23T20:03:16.221Z"
   },
   {
    "duration": 157,
    "start_time": "2023-02-23T20:03:16.410Z"
   },
   {
    "duration": 180,
    "start_time": "2023-02-23T20:03:16.571Z"
   },
   {
    "duration": 170,
    "start_time": "2023-02-23T20:03:16.752Z"
   },
   {
    "duration": 910,
    "start_time": "2023-02-23T20:03:16.924Z"
   },
   {
    "duration": 49,
    "start_time": "2023-02-23T20:03:17.836Z"
   },
   {
    "duration": 68,
    "start_time": "2023-02-23T20:03:17.889Z"
   },
   {
    "duration": 2098,
    "start_time": "2023-02-23T20:04:56.302Z"
   },
   {
    "duration": 4,
    "start_time": "2023-02-23T20:05:03.227Z"
   },
   {
    "duration": 26,
    "start_time": "2023-02-23T20:11:23.292Z"
   },
   {
    "duration": 31,
    "start_time": "2023-02-23T20:12:25.761Z"
   },
   {
    "duration": 18,
    "start_time": "2023-02-23T20:12:48.491Z"
   },
   {
    "duration": 59,
    "start_time": "2023-02-23T20:12:52.580Z"
   },
   {
    "duration": 157,
    "start_time": "2023-02-23T20:25:20.628Z"
   },
   {
    "duration": 2088,
    "start_time": "2023-02-23T20:25:20.787Z"
   },
   {
    "duration": 13,
    "start_time": "2023-02-23T20:25:22.878Z"
   },
   {
    "duration": 40,
    "start_time": "2023-02-23T20:25:22.894Z"
   },
   {
    "duration": 25,
    "start_time": "2023-02-23T20:25:22.948Z"
   },
   {
    "duration": 32,
    "start_time": "2023-02-23T20:25:22.978Z"
   },
   {
    "duration": 128,
    "start_time": "2023-02-23T20:25:23.011Z"
   },
   {
    "duration": 98,
    "start_time": "2023-02-23T20:25:23.153Z"
   },
   {
    "duration": 35,
    "start_time": "2023-02-23T20:25:23.253Z"
   },
   {
    "duration": 6,
    "start_time": "2023-02-23T20:25:23.290Z"
   },
   {
    "duration": 196,
    "start_time": "2023-02-23T20:25:23.298Z"
   },
   {
    "duration": 188,
    "start_time": "2023-02-23T20:25:23.496Z"
   },
   {
    "duration": 26,
    "start_time": "2023-02-23T20:25:23.687Z"
   },
   {
    "duration": 42,
    "start_time": "2023-02-23T20:25:23.716Z"
   },
   {
    "duration": 209,
    "start_time": "2023-02-23T20:25:23.761Z"
   },
   {
    "duration": 208,
    "start_time": "2023-02-23T20:25:23.973Z"
   },
   {
    "duration": 197,
    "start_time": "2023-02-23T20:25:24.183Z"
   },
   {
    "duration": 177,
    "start_time": "2023-02-23T20:25:24.382Z"
   },
   {
    "duration": 172,
    "start_time": "2023-02-23T20:25:24.560Z"
   },
   {
    "duration": 175,
    "start_time": "2023-02-23T20:25:24.734Z"
   },
   {
    "duration": 1055,
    "start_time": "2023-02-23T20:25:24.910Z"
   },
   {
    "duration": 31,
    "start_time": "2023-02-23T20:25:25.978Z"
   },
   {
    "duration": 52,
    "start_time": "2023-02-23T20:25:26.011Z"
   },
   {
    "duration": 54,
    "start_time": "2023-02-23T20:25:26.067Z"
   },
   {
    "duration": 44,
    "start_time": "2023-02-23T20:27:59.739Z"
   },
   {
    "duration": 43,
    "start_time": "2023-02-23T20:28:09.339Z"
   },
   {
    "duration": 37,
    "start_time": "2023-02-23T20:28:20.590Z"
   },
   {
    "duration": 46,
    "start_time": "2023-02-23T20:29:23.382Z"
   },
   {
    "duration": 90,
    "start_time": "2023-02-23T20:29:36.524Z"
   },
   {
    "duration": 105,
    "start_time": "2023-02-23T20:29:44.112Z"
   },
   {
    "duration": 59,
    "start_time": "2023-02-23T20:29:47.742Z"
   },
   {
    "duration": 26,
    "start_time": "2023-02-23T20:30:37.243Z"
   },
   {
    "duration": 36,
    "start_time": "2023-02-23T20:31:06.344Z"
   },
   {
    "duration": 40,
    "start_time": "2023-02-23T20:31:24.044Z"
   },
   {
    "duration": 28,
    "start_time": "2023-02-23T20:31:38.594Z"
   },
   {
    "duration": 29,
    "start_time": "2023-02-23T20:32:33.287Z"
   },
   {
    "duration": 66,
    "start_time": "2023-02-23T20:36:03.679Z"
   },
   {
    "duration": 31,
    "start_time": "2023-02-23T20:38:33.374Z"
   },
   {
    "duration": 28,
    "start_time": "2023-02-23T20:38:43.497Z"
   },
   {
    "duration": 11,
    "start_time": "2023-02-23T20:41:23.041Z"
   },
   {
    "duration": 710,
    "start_time": "2023-02-23T20:41:34.921Z"
   },
   {
    "duration": 107,
    "start_time": "2023-02-23T20:41:42.181Z"
   },
   {
    "duration": 302,
    "start_time": "2023-02-23T20:41:45.092Z"
   },
   {
    "duration": 224,
    "start_time": "2023-02-23T20:42:24.602Z"
   },
   {
    "duration": 190,
    "start_time": "2023-02-23T20:42:33.603Z"
   },
   {
    "duration": 306,
    "start_time": "2023-02-23T20:42:54.903Z"
   },
   {
    "duration": 284,
    "start_time": "2023-02-23T20:44:34.929Z"
   },
   {
    "duration": 64,
    "start_time": "2023-02-23T20:49:33.166Z"
   },
   {
    "duration": 424,
    "start_time": "2023-02-23T20:51:58.071Z"
   },
   {
    "duration": 134,
    "start_time": "2023-02-23T20:52:05.440Z"
   },
   {
    "duration": 1798,
    "start_time": "2023-02-23T20:52:05.577Z"
   },
   {
    "duration": 9,
    "start_time": "2023-02-23T20:52:07.376Z"
   },
   {
    "duration": 28,
    "start_time": "2023-02-23T20:52:07.387Z"
   },
   {
    "duration": 38,
    "start_time": "2023-02-23T20:52:07.416Z"
   },
   {
    "duration": 35,
    "start_time": "2023-02-23T20:52:07.459Z"
   },
   {
    "duration": 104,
    "start_time": "2023-02-23T20:52:07.495Z"
   },
   {
    "duration": 86,
    "start_time": "2023-02-23T20:52:07.601Z"
   },
   {
    "duration": 20,
    "start_time": "2023-02-23T20:52:07.689Z"
   },
   {
    "duration": 5,
    "start_time": "2023-02-23T20:52:07.711Z"
   },
   {
    "duration": 179,
    "start_time": "2023-02-23T20:52:07.718Z"
   },
   {
    "duration": 165,
    "start_time": "2023-02-23T20:52:07.899Z"
   },
   {
    "duration": 27,
    "start_time": "2023-02-23T20:52:08.067Z"
   },
   {
    "duration": 17,
    "start_time": "2023-02-23T20:52:08.096Z"
   },
   {
    "duration": 190,
    "start_time": "2023-02-23T20:52:08.115Z"
   },
   {
    "duration": 173,
    "start_time": "2023-02-23T20:52:08.307Z"
   },
   {
    "duration": 158,
    "start_time": "2023-02-23T20:52:08.482Z"
   },
   {
    "duration": 148,
    "start_time": "2023-02-23T20:52:08.641Z"
   },
   {
    "duration": 143,
    "start_time": "2023-02-23T20:52:08.790Z"
   },
   {
    "duration": 154,
    "start_time": "2023-02-23T20:52:08.934Z"
   },
   {
    "duration": 798,
    "start_time": "2023-02-23T20:52:09.089Z"
   },
   {
    "duration": 31,
    "start_time": "2023-02-23T20:52:09.888Z"
   },
   {
    "duration": 74,
    "start_time": "2023-02-23T20:52:09.922Z"
   },
   {
    "duration": 96,
    "start_time": "2023-02-23T20:52:09.998Z"
   },
   {
    "duration": 269,
    "start_time": "2023-02-23T20:52:10.096Z"
   },
   {
    "duration": 6,
    "start_time": "2023-02-23T20:52:10.366Z"
   },
   {
    "duration": 236,
    "start_time": "2023-02-23T20:52:10.377Z"
   },
   {
    "duration": 3,
    "start_time": "2023-02-23T20:52:10.616Z"
   },
   {
    "duration": 762,
    "start_time": "2023-02-23T20:52:10.621Z"
   },
   {
    "duration": 4,
    "start_time": "2023-02-23T20:52:11.385Z"
   },
   {
    "duration": 240,
    "start_time": "2023-02-23T20:52:11.390Z"
   },
   {
    "duration": 3,
    "start_time": "2023-02-23T20:52:11.632Z"
   },
   {
    "duration": 275,
    "start_time": "2023-02-23T20:52:11.648Z"
   },
   {
    "duration": 4,
    "start_time": "2023-02-23T20:52:11.925Z"
   },
   {
    "duration": 279,
    "start_time": "2023-02-23T20:52:11.930Z"
   },
   {
    "duration": 3,
    "start_time": "2023-02-23T20:52:12.211Z"
   },
   {
    "duration": 269,
    "start_time": "2023-02-23T20:52:12.216Z"
   },
   {
    "duration": 3,
    "start_time": "2023-02-23T20:52:12.487Z"
   },
   {
    "duration": 260,
    "start_time": "2023-02-23T20:52:12.491Z"
   },
   {
    "duration": 6,
    "start_time": "2023-02-23T20:52:12.754Z"
   },
   {
    "duration": 261,
    "start_time": "2023-02-23T20:52:12.762Z"
   },
   {
    "duration": 4,
    "start_time": "2023-02-23T20:52:13.025Z"
   },
   {
    "duration": 273,
    "start_time": "2023-02-23T20:52:13.030Z"
   },
   {
    "duration": 4,
    "start_time": "2023-02-23T20:52:13.304Z"
   },
   {
    "duration": 245,
    "start_time": "2023-02-23T20:52:13.309Z"
   },
   {
    "duration": 16,
    "start_time": "2023-02-23T20:52:13.560Z"
   },
   {
    "duration": 239,
    "start_time": "2023-02-23T20:52:13.578Z"
   },
   {
    "duration": 3,
    "start_time": "2023-02-23T20:52:13.819Z"
   },
   {
    "duration": 484,
    "start_time": "2023-02-23T20:52:13.824Z"
   },
   {
    "duration": 4,
    "start_time": "2023-02-23T20:52:14.310Z"
   },
   {
    "duration": 243,
    "start_time": "2023-02-23T20:52:59.573Z"
   },
   {
    "duration": 233,
    "start_time": "2023-02-23T20:53:08.781Z"
   },
   {
    "duration": 241,
    "start_time": "2023-02-23T20:53:34.401Z"
   },
   {
    "duration": 226,
    "start_time": "2023-02-23T20:53:40.011Z"
   },
   {
    "duration": 223,
    "start_time": "2023-02-23T20:53:49.466Z"
   },
   {
    "duration": 261,
    "start_time": "2023-02-23T20:54:04.522Z"
   },
   {
    "duration": 243,
    "start_time": "2023-02-23T20:54:28.133Z"
   },
   {
    "duration": 869,
    "start_time": "2023-02-23T20:54:34.103Z"
   },
   {
    "duration": 263,
    "start_time": "2023-02-23T20:54:51.533Z"
   },
   {
    "duration": 331,
    "start_time": "2023-02-23T20:54:55.178Z"
   },
   {
    "duration": 289,
    "start_time": "2023-02-23T20:54:58.793Z"
   },
   {
    "duration": 218,
    "start_time": "2023-02-23T20:55:05.907Z"
   },
   {
    "duration": 288,
    "start_time": "2023-02-23T20:55:17.003Z"
   },
   {
    "duration": 206,
    "start_time": "2023-02-23T20:55:26.768Z"
   },
   {
    "duration": 222,
    "start_time": "2023-02-23T20:55:33.271Z"
   },
   {
    "duration": 104,
    "start_time": "2023-02-23T20:55:55.824Z"
   },
   {
    "duration": 229,
    "start_time": "2023-02-23T20:55:59.078Z"
   },
   {
    "duration": 166,
    "start_time": "2023-02-23T20:56:05.124Z"
   },
   {
    "duration": 117,
    "start_time": "2023-02-23T20:56:08.274Z"
   },
   {
    "duration": 273,
    "start_time": "2023-02-23T20:56:24.146Z"
   },
   {
    "duration": 202,
    "start_time": "2023-02-23T20:56:29.678Z"
   },
   {
    "duration": 236,
    "start_time": "2023-02-23T20:56:33.076Z"
   },
   {
    "duration": 301,
    "start_time": "2023-02-23T20:56:36.746Z"
   },
   {
    "duration": 322,
    "start_time": "2023-02-23T20:57:01.178Z"
   },
   {
    "duration": 258,
    "start_time": "2023-02-23T20:57:31.227Z"
   },
   {
    "duration": 252,
    "start_time": "2023-02-23T20:57:42.579Z"
   },
   {
    "duration": 476,
    "start_time": "2023-02-23T20:58:16.080Z"
   },
   {
    "duration": 507,
    "start_time": "2023-02-23T20:58:25.075Z"
   },
   {
    "duration": 1126,
    "start_time": "2023-02-23T20:58:49.800Z"
   },
   {
    "duration": 313,
    "start_time": "2023-02-23T20:59:49.711Z"
   },
   {
    "duration": 615,
    "start_time": "2023-02-23T21:00:25.388Z"
   },
   {
    "duration": 247,
    "start_time": "2023-02-23T21:18:37.367Z"
   },
   {
    "duration": 280,
    "start_time": "2023-02-23T21:19:22.418Z"
   },
   {
    "duration": 314,
    "start_time": "2023-02-23T21:19:37.078Z"
   },
   {
    "duration": 371,
    "start_time": "2023-02-23T21:19:53.710Z"
   },
   {
    "duration": 122,
    "start_time": "2023-02-23T21:20:47.477Z"
   },
   {
    "duration": 1941,
    "start_time": "2023-02-23T21:20:47.601Z"
   },
   {
    "duration": 18,
    "start_time": "2023-02-23T21:20:49.544Z"
   },
   {
    "duration": 48,
    "start_time": "2023-02-23T21:20:49.563Z"
   },
   {
    "duration": 15,
    "start_time": "2023-02-23T21:20:49.614Z"
   },
   {
    "duration": 52,
    "start_time": "2023-02-23T21:20:49.631Z"
   },
   {
    "duration": 146,
    "start_time": "2023-02-23T21:20:49.685Z"
   },
   {
    "duration": 84,
    "start_time": "2023-02-23T21:20:49.833Z"
   },
   {
    "duration": 52,
    "start_time": "2023-02-23T21:20:49.919Z"
   },
   {
    "duration": 10,
    "start_time": "2023-02-23T21:20:49.973Z"
   },
   {
    "duration": 166,
    "start_time": "2023-02-23T21:20:49.987Z"
   },
   {
    "duration": 169,
    "start_time": "2023-02-23T21:20:50.162Z"
   },
   {
    "duration": 35,
    "start_time": "2023-02-23T21:20:50.332Z"
   },
   {
    "duration": 18,
    "start_time": "2023-02-23T21:20:50.376Z"
   },
   {
    "duration": 207,
    "start_time": "2023-02-23T21:20:50.396Z"
   },
   {
    "duration": 172,
    "start_time": "2023-02-23T21:20:50.605Z"
   },
   {
    "duration": 161,
    "start_time": "2023-02-23T21:20:50.779Z"
   },
   {
    "duration": 175,
    "start_time": "2023-02-23T21:20:50.948Z"
   },
   {
    "duration": 183,
    "start_time": "2023-02-23T21:20:51.125Z"
   },
   {
    "duration": 169,
    "start_time": "2023-02-23T21:20:51.309Z"
   },
   {
    "duration": 905,
    "start_time": "2023-02-23T21:20:51.482Z"
   },
   {
    "duration": 30,
    "start_time": "2023-02-23T21:20:52.389Z"
   },
   {
    "duration": 88,
    "start_time": "2023-02-23T21:20:52.421Z"
   },
   {
    "duration": 82,
    "start_time": "2023-02-23T21:20:52.511Z"
   },
   {
    "duration": 373,
    "start_time": "2023-02-23T21:20:52.594Z"
   },
   {
    "duration": 10,
    "start_time": "2023-02-23T21:20:52.970Z"
   },
   {
    "duration": 860,
    "start_time": "2023-02-23T21:20:52.984Z"
   },
   {
    "duration": 14,
    "start_time": "2023-02-23T21:20:53.852Z"
   },
   {
    "duration": 335,
    "start_time": "2023-02-23T21:20:53.875Z"
   },
   {
    "duration": 4,
    "start_time": "2023-02-23T21:20:54.212Z"
   },
   {
    "duration": 325,
    "start_time": "2023-02-23T21:20:54.217Z"
   },
   {
    "duration": 14,
    "start_time": "2023-02-23T21:20:54.548Z"
   },
   {
    "duration": 343,
    "start_time": "2023-02-23T21:20:54.563Z"
   },
   {
    "duration": 4,
    "start_time": "2023-02-23T21:20:54.908Z"
   },
   {
    "duration": 316,
    "start_time": "2023-02-23T21:20:54.913Z"
   },
   {
    "duration": 4,
    "start_time": "2023-02-23T21:20:55.230Z"
   },
   {
    "duration": 344,
    "start_time": "2023-02-23T21:20:55.236Z"
   },
   {
    "duration": 5,
    "start_time": "2023-02-23T21:20:55.584Z"
   },
   {
    "duration": 175,
    "start_time": "2023-02-23T21:20:55.590Z"
   },
   {
    "duration": 0,
    "start_time": "2023-02-23T21:20:55.772Z"
   },
   {
    "duration": 0,
    "start_time": "2023-02-23T21:20:55.773Z"
   },
   {
    "duration": 0,
    "start_time": "2023-02-23T21:20:55.774Z"
   },
   {
    "duration": 0,
    "start_time": "2023-02-23T21:20:55.774Z"
   },
   {
    "duration": 0,
    "start_time": "2023-02-23T21:20:55.775Z"
   },
   {
    "duration": 0,
    "start_time": "2023-02-23T21:20:55.775Z"
   },
   {
    "duration": 0,
    "start_time": "2023-02-23T21:20:55.776Z"
   },
   {
    "duration": 0,
    "start_time": "2023-02-23T21:20:55.777Z"
   },
   {
    "duration": 0,
    "start_time": "2023-02-23T21:20:55.777Z"
   },
   {
    "duration": 0,
    "start_time": "2023-02-23T21:20:55.778Z"
   },
   {
    "duration": 0,
    "start_time": "2023-02-23T21:20:55.778Z"
   },
   {
    "duration": 13,
    "start_time": "2023-02-23T21:21:19.162Z"
   },
   {
    "duration": 187,
    "start_time": "2023-02-23T21:21:21.493Z"
   },
   {
    "duration": 134,
    "start_time": "2023-02-23T21:21:32.671Z"
   },
   {
    "duration": 1927,
    "start_time": "2023-02-23T21:21:32.808Z"
   },
   {
    "duration": 30,
    "start_time": "2023-02-23T21:21:34.737Z"
   },
   {
    "duration": 44,
    "start_time": "2023-02-23T21:21:34.770Z"
   },
   {
    "duration": 14,
    "start_time": "2023-02-23T21:21:34.815Z"
   },
   {
    "duration": 46,
    "start_time": "2023-02-23T21:21:34.830Z"
   },
   {
    "duration": 109,
    "start_time": "2023-02-23T21:21:34.882Z"
   },
   {
    "duration": 91,
    "start_time": "2023-02-23T21:21:34.993Z"
   },
   {
    "duration": 24,
    "start_time": "2023-02-23T21:21:35.086Z"
   },
   {
    "duration": 5,
    "start_time": "2023-02-23T21:21:35.112Z"
   },
   {
    "duration": 213,
    "start_time": "2023-02-23T21:21:35.118Z"
   },
   {
    "duration": 192,
    "start_time": "2023-02-23T21:21:35.333Z"
   },
   {
    "duration": 46,
    "start_time": "2023-02-23T21:21:35.527Z"
   },
   {
    "duration": 26,
    "start_time": "2023-02-23T21:21:35.588Z"
   },
   {
    "duration": 162,
    "start_time": "2023-02-23T21:21:35.616Z"
   },
   {
    "duration": 187,
    "start_time": "2023-02-23T21:21:35.780Z"
   },
   {
    "duration": 156,
    "start_time": "2023-02-23T21:21:35.973Z"
   },
   {
    "duration": 161,
    "start_time": "2023-02-23T21:21:36.131Z"
   },
   {
    "duration": 185,
    "start_time": "2023-02-23T21:21:36.294Z"
   },
   {
    "duration": 140,
    "start_time": "2023-02-23T21:21:36.481Z"
   },
   {
    "duration": 848,
    "start_time": "2023-02-23T21:21:36.622Z"
   },
   {
    "duration": 30,
    "start_time": "2023-02-23T21:21:37.472Z"
   },
   {
    "duration": 63,
    "start_time": "2023-02-23T21:21:37.504Z"
   },
   {
    "duration": 77,
    "start_time": "2023-02-23T21:21:37.570Z"
   },
   {
    "duration": 313,
    "start_time": "2023-02-23T21:21:37.651Z"
   },
   {
    "duration": 3,
    "start_time": "2023-02-23T21:21:37.966Z"
   },
   {
    "duration": 301,
    "start_time": "2023-02-23T21:21:37.972Z"
   },
   {
    "duration": 4,
    "start_time": "2023-02-23T21:21:38.275Z"
   },
   {
    "duration": 299,
    "start_time": "2023-02-23T21:21:38.285Z"
   },
   {
    "duration": 4,
    "start_time": "2023-02-23T21:21:38.586Z"
   },
   {
    "duration": 304,
    "start_time": "2023-02-23T21:21:38.592Z"
   },
   {
    "duration": 5,
    "start_time": "2023-02-23T21:21:38.898Z"
   },
   {
    "duration": 900,
    "start_time": "2023-02-23T21:21:38.905Z"
   },
   {
    "duration": 4,
    "start_time": "2023-02-23T21:21:39.807Z"
   },
   {
    "duration": 267,
    "start_time": "2023-02-23T21:21:39.812Z"
   },
   {
    "duration": 4,
    "start_time": "2023-02-23T21:21:40.080Z"
   },
   {
    "duration": 263,
    "start_time": "2023-02-23T21:21:40.086Z"
   },
   {
    "duration": 4,
    "start_time": "2023-02-23T21:21:40.350Z"
   },
   {
    "duration": 177,
    "start_time": "2023-02-23T21:21:40.356Z"
   },
   {
    "duration": 28,
    "start_time": "2023-02-23T21:21:40.535Z"
   },
   {
    "duration": 299,
    "start_time": "2023-02-23T21:21:40.567Z"
   },
   {
    "duration": 4,
    "start_time": "2023-02-23T21:21:40.872Z"
   },
   {
    "duration": 291,
    "start_time": "2023-02-23T21:21:40.878Z"
   },
   {
    "duration": 4,
    "start_time": "2023-02-23T21:21:41.180Z"
   },
   {
    "duration": 291,
    "start_time": "2023-02-23T21:21:41.186Z"
   },
   {
    "duration": 3,
    "start_time": "2023-02-23T21:21:41.484Z"
   },
   {
    "duration": 294,
    "start_time": "2023-02-23T21:21:41.489Z"
   },
   {
    "duration": 4,
    "start_time": "2023-02-23T21:21:41.784Z"
   },
   {
    "duration": 592,
    "start_time": "2023-02-23T21:21:41.789Z"
   },
   {
    "duration": 4,
    "start_time": "2023-02-23T21:21:42.383Z"
   },
   {
    "duration": 581,
    "start_time": "2023-02-23T21:22:55.427Z"
   },
   {
    "duration": 610,
    "start_time": "2023-02-23T21:23:01.726Z"
   },
   {
    "duration": 731,
    "start_time": "2023-02-23T21:24:42.140Z"
   },
   {
    "duration": 814,
    "start_time": "2023-02-23T21:24:53.420Z"
   },
   {
    "duration": 392,
    "start_time": "2023-02-23T21:25:46.575Z"
   },
   {
    "duration": 3,
    "start_time": "2023-02-23T21:25:46.970Z"
   },
   {
    "duration": 557,
    "start_time": "2023-02-23T21:25:47.241Z"
   },
   {
    "duration": 8,
    "start_time": "2023-02-23T21:25:47.800Z"
   },
   {
    "duration": 420,
    "start_time": "2023-02-23T21:25:47.810Z"
   },
   {
    "duration": 4,
    "start_time": "2023-02-23T21:25:48.232Z"
   },
   {
    "duration": 414,
    "start_time": "2023-02-23T21:25:48.251Z"
   },
   {
    "duration": 7,
    "start_time": "2023-02-23T21:25:48.668Z"
   },
   {
    "duration": 439,
    "start_time": "2023-02-23T21:25:48.676Z"
   },
   {
    "duration": 4,
    "start_time": "2023-02-23T21:25:49.118Z"
   },
   {
    "duration": 1029,
    "start_time": "2023-02-23T21:25:49.124Z"
   },
   {
    "duration": 6,
    "start_time": "2023-02-23T21:25:50.155Z"
   },
   {
    "duration": 391,
    "start_time": "2023-02-23T21:25:50.164Z"
   },
   {
    "duration": 9,
    "start_time": "2023-02-23T21:25:50.557Z"
   },
   {
    "duration": 276,
    "start_time": "2023-02-23T21:25:50.567Z"
   },
   {
    "duration": 4,
    "start_time": "2023-02-23T21:25:50.845Z"
   },
   {
    "duration": 471,
    "start_time": "2023-02-23T21:25:50.851Z"
   },
   {
    "duration": 4,
    "start_time": "2023-02-23T21:25:51.326Z"
   },
   {
    "duration": 466,
    "start_time": "2023-02-23T21:25:51.332Z"
   },
   {
    "duration": 8,
    "start_time": "2023-02-23T21:25:51.805Z"
   },
   {
    "duration": 476,
    "start_time": "2023-02-23T21:25:51.817Z"
   },
   {
    "duration": 10,
    "start_time": "2023-02-23T21:25:52.298Z"
   },
   {
    "duration": 431,
    "start_time": "2023-02-23T21:25:52.311Z"
   },
   {
    "duration": 15,
    "start_time": "2023-02-23T21:25:52.744Z"
   },
   {
    "duration": 950,
    "start_time": "2023-02-23T21:25:52.763Z"
   },
   {
    "duration": 4,
    "start_time": "2023-02-23T21:25:53.715Z"
   },
   {
    "duration": 358,
    "start_time": "2023-02-23T21:38:13.673Z"
   },
   {
    "duration": 413,
    "start_time": "2023-02-23T22:08:14.423Z"
   },
   {
    "duration": 1975,
    "start_time": "2023-02-23T22:08:14.838Z"
   },
   {
    "duration": 9,
    "start_time": "2023-02-23T22:08:16.814Z"
   },
   {
    "duration": 58,
    "start_time": "2023-02-23T22:08:16.824Z"
   },
   {
    "duration": 14,
    "start_time": "2023-02-23T22:08:16.885Z"
   },
   {
    "duration": 59,
    "start_time": "2023-02-23T22:08:16.901Z"
   },
   {
    "duration": 93,
    "start_time": "2023-02-23T22:08:16.967Z"
   },
   {
    "duration": 73,
    "start_time": "2023-02-23T22:08:17.066Z"
   },
   {
    "duration": 24,
    "start_time": "2023-02-23T22:08:17.150Z"
   },
   {
    "duration": 19,
    "start_time": "2023-02-23T22:08:17.176Z"
   },
   {
    "duration": 158,
    "start_time": "2023-02-23T22:08:17.196Z"
   },
   {
    "duration": 160,
    "start_time": "2023-02-23T22:08:17.356Z"
   },
   {
    "duration": 33,
    "start_time": "2023-02-23T22:08:17.518Z"
   },
   {
    "duration": 26,
    "start_time": "2023-02-23T22:08:17.554Z"
   },
   {
    "duration": 164,
    "start_time": "2023-02-23T22:08:17.582Z"
   },
   {
    "duration": 172,
    "start_time": "2023-02-23T22:08:17.752Z"
   },
   {
    "duration": 170,
    "start_time": "2023-02-23T22:08:17.926Z"
   },
   {
    "duration": 139,
    "start_time": "2023-02-23T22:08:18.098Z"
   },
   {
    "duration": 163,
    "start_time": "2023-02-23T22:08:18.247Z"
   },
   {
    "duration": 143,
    "start_time": "2023-02-23T22:08:18.412Z"
   },
   {
    "duration": 789,
    "start_time": "2023-02-23T22:08:18.563Z"
   },
   {
    "duration": 34,
    "start_time": "2023-02-23T22:08:19.361Z"
   },
   {
    "duration": 34,
    "start_time": "2023-02-23T22:08:19.396Z"
   },
   {
    "duration": 85,
    "start_time": "2023-02-23T22:08:19.431Z"
   },
   {
    "duration": 362,
    "start_time": "2023-02-23T22:08:19.518Z"
   },
   {
    "duration": 343,
    "start_time": "2023-02-23T22:08:19.882Z"
   },
   {
    "duration": 909,
    "start_time": "2023-02-23T22:08:20.226Z"
   },
   {
    "duration": 343,
    "start_time": "2023-02-23T22:08:21.137Z"
   },
   {
    "duration": 330,
    "start_time": "2023-02-23T22:08:21.482Z"
   },
   {
    "duration": 278,
    "start_time": "2023-02-23T22:08:21.813Z"
   },
   {
    "duration": 300,
    "start_time": "2023-02-23T22:08:22.092Z"
   },
   {
    "duration": 191,
    "start_time": "2023-02-23T22:08:22.394Z"
   },
   {
    "duration": 350,
    "start_time": "2023-02-23T22:08:22.587Z"
   },
   {
    "duration": 361,
    "start_time": "2023-02-23T22:08:22.938Z"
   },
   {
    "duration": 328,
    "start_time": "2023-02-23T22:08:23.301Z"
   },
   {
    "duration": 360,
    "start_time": "2023-02-23T22:08:23.631Z"
   },
   {
    "duration": 688,
    "start_time": "2023-02-23T22:08:23.993Z"
   },
   {
    "duration": 258,
    "start_time": "2023-02-23T22:09:55.069Z"
   },
   {
    "duration": 322,
    "start_time": "2023-02-23T22:10:11.799Z"
   },
   {
    "duration": 93,
    "start_time": "2023-02-23T22:11:20.321Z"
   },
   {
    "duration": 320,
    "start_time": "2023-02-23T22:11:27.701Z"
   },
   {
    "duration": 347,
    "start_time": "2023-02-23T22:12:44.364Z"
   },
   {
    "duration": 361,
    "start_time": "2023-02-23T22:13:14.144Z"
   },
   {
    "duration": 307,
    "start_time": "2023-02-23T22:13:21.405Z"
   },
   {
    "duration": 327,
    "start_time": "2023-02-23T22:13:27.878Z"
   },
   {
    "duration": 2258,
    "start_time": "2023-02-23T22:20:02.036Z"
   },
   {
    "duration": 1554,
    "start_time": "2023-02-23T22:20:07.946Z"
   },
   {
    "duration": 123,
    "start_time": "2023-02-23T22:22:29.574Z"
   },
   {
    "duration": 37,
    "start_time": "2023-02-23T22:22:35.431Z"
   },
   {
    "duration": 46,
    "start_time": "2023-02-23T22:22:57.096Z"
   },
   {
    "duration": 129,
    "start_time": "2023-02-23T22:26:00.191Z"
   },
   {
    "duration": 159,
    "start_time": "2023-02-23T22:26:05.230Z"
   },
   {
    "duration": 1526,
    "start_time": "2023-02-23T22:26:10.899Z"
   },
   {
    "duration": 2231,
    "start_time": "2023-02-23T22:27:53.714Z"
   },
   {
    "duration": 2587,
    "start_time": "2023-02-23T22:28:16.184Z"
   },
   {
    "duration": 829,
    "start_time": "2023-02-23T22:28:20.672Z"
   },
   {
    "duration": 699,
    "start_time": "2023-02-23T22:28:30.979Z"
   },
   {
    "duration": 719,
    "start_time": "2023-02-23T22:28:40.346Z"
   },
   {
    "duration": 530,
    "start_time": "2023-02-23T22:28:46.005Z"
   },
   {
    "duration": 0,
    "start_time": "2023-02-23T22:32:44.235Z"
   },
   {
    "duration": 0,
    "start_time": "2023-02-23T22:33:12.102Z"
   },
   {
    "duration": 21226,
    "start_time": "2023-02-23T22:33:13.370Z"
   },
   {
    "duration": 11110,
    "start_time": "2023-02-23T22:33:36.928Z"
   },
   {
    "duration": 556,
    "start_time": "2023-02-23T22:33:52.737Z"
   },
   {
    "duration": 0,
    "start_time": "2023-02-23T22:36:19.121Z"
   },
   {
    "duration": 15610,
    "start_time": "2023-02-23T22:36:32.311Z"
   },
   {
    "duration": 159,
    "start_time": "2023-02-23T22:37:19.323Z"
   },
   {
    "duration": 169,
    "start_time": "2023-02-23T22:37:27.123Z"
   },
   {
    "duration": 146,
    "start_time": "2023-02-23T22:38:10.085Z"
   },
   {
    "duration": 16167,
    "start_time": "2023-02-23T22:39:12.127Z"
   },
   {
    "duration": 225,
    "start_time": "2023-02-23T22:39:49.029Z"
   },
   {
    "duration": 16,
    "start_time": "2023-02-23T22:41:02.376Z"
   },
   {
    "duration": 154,
    "start_time": "2023-02-23T22:41:12.820Z"
   },
   {
    "duration": 1225,
    "start_time": "2023-02-23T22:45:49.999Z"
   },
   {
    "duration": 1178,
    "start_time": "2023-02-23T22:46:14.153Z"
   },
   {
    "duration": 1558,
    "start_time": "2023-02-23T22:46:18.680Z"
   },
   {
    "duration": 519,
    "start_time": "2023-02-23T22:48:11.168Z"
   },
   {
    "duration": 10,
    "start_time": "2023-02-23T22:49:56.787Z"
   },
   {
    "duration": 973,
    "start_time": "2023-02-23T22:50:00.718Z"
   },
   {
    "duration": 1461,
    "start_time": "2023-02-23T22:51:47.860Z"
   },
   {
    "duration": 515,
    "start_time": "2023-02-23T22:52:22.742Z"
   },
   {
    "duration": 578,
    "start_time": "2023-02-23T22:53:44.704Z"
   },
   {
    "duration": 0,
    "start_time": "2023-02-23T22:54:38.889Z"
   },
   {
    "duration": 489,
    "start_time": "2023-02-23T22:54:43.145Z"
   },
   {
    "duration": 9,
    "start_time": "2023-02-23T23:07:43.615Z"
   },
   {
    "duration": 44,
    "start_time": "2023-02-23T23:07:47.006Z"
   },
   {
    "duration": 55,
    "start_time": "2023-02-23T23:12:07.864Z"
   },
   {
    "duration": 24,
    "start_time": "2023-02-23T23:12:12.693Z"
   },
   {
    "duration": 28,
    "start_time": "2023-02-23T23:12:21.462Z"
   },
   {
    "duration": 31,
    "start_time": "2023-02-23T23:13:05.704Z"
   },
   {
    "duration": 30,
    "start_time": "2023-02-23T23:13:58.775Z"
   },
   {
    "duration": 33,
    "start_time": "2023-02-23T23:14:16.926Z"
   },
   {
    "duration": 26,
    "start_time": "2023-02-23T23:14:44.196Z"
   },
   {
    "duration": 27,
    "start_time": "2023-02-23T23:14:57.096Z"
   },
   {
    "duration": 25,
    "start_time": "2023-02-23T23:15:09.547Z"
   },
   {
    "duration": 40,
    "start_time": "2023-02-23T23:15:12.846Z"
   },
   {
    "duration": 25,
    "start_time": "2023-02-23T23:15:21.464Z"
   },
   {
    "duration": 23,
    "start_time": "2023-02-23T23:16:43.509Z"
   },
   {
    "duration": 31,
    "start_time": "2023-02-23T23:17:56.682Z"
   },
   {
    "duration": 31,
    "start_time": "2023-02-23T23:18:12.402Z"
   },
   {
    "duration": 29,
    "start_time": "2023-02-23T23:18:20.563Z"
   },
   {
    "duration": 28,
    "start_time": "2023-02-23T23:18:26.653Z"
   },
   {
    "duration": 27,
    "start_time": "2023-02-23T23:18:37.303Z"
   },
   {
    "duration": 1137,
    "start_time": "2023-02-23T23:18:53.773Z"
   },
   {
    "duration": 51,
    "start_time": "2023-02-23T23:19:32.925Z"
   },
   {
    "duration": 1237,
    "start_time": "2023-02-23T23:19:39.135Z"
   },
   {
    "duration": 25,
    "start_time": "2023-02-23T23:19:53.295Z"
   },
   {
    "duration": 32,
    "start_time": "2023-02-23T23:20:30.287Z"
   },
   {
    "duration": 5,
    "start_time": "2023-02-23T23:20:46.997Z"
   },
   {
    "duration": 34,
    "start_time": "2023-02-23T23:20:53.064Z"
   },
   {
    "duration": 35,
    "start_time": "2023-02-23T23:21:00.047Z"
   },
   {
    "duration": 30,
    "start_time": "2023-02-23T23:21:28.368Z"
   },
   {
    "duration": 28,
    "start_time": "2023-02-23T23:21:33.468Z"
   },
   {
    "duration": 35,
    "start_time": "2023-02-23T23:22:10.641Z"
   },
   {
    "duration": 38,
    "start_time": "2023-02-23T23:22:20.029Z"
   },
   {
    "duration": 35,
    "start_time": "2023-02-23T23:22:26.366Z"
   },
   {
    "duration": 91,
    "start_time": "2023-02-23T23:22:42.470Z"
   },
   {
    "duration": 41,
    "start_time": "2023-02-23T23:22:45.560Z"
   },
   {
    "duration": 34,
    "start_time": "2023-02-23T23:23:06.774Z"
   },
   {
    "duration": 50,
    "start_time": "2023-02-23T23:24:36.443Z"
   },
   {
    "duration": 8,
    "start_time": "2023-02-23T23:25:30.085Z"
   },
   {
    "duration": 41,
    "start_time": "2023-02-23T23:26:34.891Z"
   },
   {
    "duration": 1244,
    "start_time": "2023-02-23T23:27:00.988Z"
   },
   {
    "duration": 54,
    "start_time": "2023-02-23T23:27:09.537Z"
   },
   {
    "duration": 24,
    "start_time": "2023-02-23T23:28:40.432Z"
   },
   {
    "duration": 165,
    "start_time": "2023-02-23T23:29:38.432Z"
   },
   {
    "duration": 184,
    "start_time": "2023-02-23T23:30:59.346Z"
   },
   {
    "duration": 503,
    "start_time": "2023-02-24T00:01:11.316Z"
   },
   {
    "duration": 2245,
    "start_time": "2023-02-24T00:01:11.821Z"
   },
   {
    "duration": 11,
    "start_time": "2023-02-24T00:01:14.068Z"
   },
   {
    "duration": 37,
    "start_time": "2023-02-24T00:01:14.081Z"
   },
   {
    "duration": 36,
    "start_time": "2023-02-24T00:01:14.120Z"
   },
   {
    "duration": 33,
    "start_time": "2023-02-24T00:01:14.161Z"
   },
   {
    "duration": 102,
    "start_time": "2023-02-24T00:01:14.196Z"
   },
   {
    "duration": 79,
    "start_time": "2023-02-24T00:01:14.300Z"
   },
   {
    "duration": 22,
    "start_time": "2023-02-24T00:01:14.381Z"
   },
   {
    "duration": 8,
    "start_time": "2023-02-24T00:01:14.405Z"
   },
   {
    "duration": 167,
    "start_time": "2023-02-24T00:01:14.414Z"
   },
   {
    "duration": 155,
    "start_time": "2023-02-24T00:01:14.583Z"
   },
   {
    "duration": 33,
    "start_time": "2023-02-24T00:01:14.740Z"
   },
   {
    "duration": 14,
    "start_time": "2023-02-24T00:01:14.776Z"
   },
   {
    "duration": 179,
    "start_time": "2023-02-24T00:01:14.792Z"
   },
   {
    "duration": 171,
    "start_time": "2023-02-24T00:01:14.973Z"
   },
   {
    "duration": 219,
    "start_time": "2023-02-24T00:01:15.149Z"
   },
   {
    "duration": 241,
    "start_time": "2023-02-24T00:01:15.370Z"
   },
   {
    "duration": 164,
    "start_time": "2023-02-24T00:01:15.613Z"
   },
   {
    "duration": 155,
    "start_time": "2023-02-24T00:01:15.779Z"
   },
   {
    "duration": 833,
    "start_time": "2023-02-24T00:01:15.936Z"
   },
   {
    "duration": 28,
    "start_time": "2023-02-24T00:01:16.771Z"
   },
   {
    "duration": 62,
    "start_time": "2023-02-24T00:01:16.801Z"
   },
   {
    "duration": 92,
    "start_time": "2023-02-24T00:01:16.865Z"
   },
   {
    "duration": 334,
    "start_time": "2023-02-24T00:01:16.959Z"
   },
   {
    "duration": 324,
    "start_time": "2023-02-24T00:01:17.295Z"
   },
   {
    "duration": 417,
    "start_time": "2023-02-24T00:01:17.621Z"
   },
   {
    "duration": 328,
    "start_time": "2023-02-24T00:01:18.039Z"
   },
   {
    "duration": 335,
    "start_time": "2023-02-24T00:01:18.368Z"
   },
   {
    "duration": 271,
    "start_time": "2023-02-24T00:01:18.705Z"
   },
   {
    "duration": 307,
    "start_time": "2023-02-24T00:01:18.978Z"
   },
   {
    "duration": 189,
    "start_time": "2023-02-24T00:01:19.286Z"
   },
   {
    "duration": 423,
    "start_time": "2023-02-24T00:01:19.477Z"
   },
   {
    "duration": 327,
    "start_time": "2023-02-24T00:01:19.902Z"
   },
   {
    "duration": 336,
    "start_time": "2023-02-24T00:01:20.231Z"
   },
   {
    "duration": 342,
    "start_time": "2023-02-24T00:01:20.569Z"
   },
   {
    "duration": 813,
    "start_time": "2023-02-24T00:01:20.912Z"
   },
   {
    "duration": 368,
    "start_time": "2023-02-24T00:01:21.727Z"
   },
   {
    "duration": 529,
    "start_time": "2023-02-24T00:01:22.097Z"
   },
   {
    "duration": 178,
    "start_time": "2023-02-24T00:01:22.628Z"
   },
   {
    "duration": 166,
    "start_time": "2023-02-24T00:01:22.811Z"
   },
   {
    "duration": 900,
    "start_time": "2023-02-24T00:01:22.979Z"
   },
   {
    "duration": 33,
    "start_time": "2023-02-24T00:01:23.881Z"
   },
   {
    "duration": 314,
    "start_time": "2023-02-24T00:01:23.916Z"
   },
   {
    "duration": 9,
    "start_time": "2023-02-24T00:07:17.996Z"
   },
   {
    "duration": 82,
    "start_time": "2023-02-24T00:07:22.810Z"
   },
   {
    "duration": 16,
    "start_time": "2023-02-24T00:07:25.449Z"
   },
   {
    "duration": 82,
    "start_time": "2023-02-24T00:07:31.746Z"
   },
   {
    "duration": 175,
    "start_time": "2023-02-24T00:10:08.880Z"
   },
   {
    "duration": 49,
    "start_time": "2023-02-24T08:10:35.788Z"
   },
   {
    "duration": 646,
    "start_time": "2023-02-24T08:10:41.187Z"
   },
   {
    "duration": 2607,
    "start_time": "2023-02-24T08:10:41.835Z"
   },
   {
    "duration": 22,
    "start_time": "2023-02-24T08:10:44.445Z"
   },
   {
    "duration": 48,
    "start_time": "2023-02-24T08:10:44.472Z"
   },
   {
    "duration": 14,
    "start_time": "2023-02-24T08:10:44.522Z"
   },
   {
    "duration": 49,
    "start_time": "2023-02-24T08:10:44.538Z"
   },
   {
    "duration": 97,
    "start_time": "2023-02-24T08:10:44.589Z"
   },
   {
    "duration": 80,
    "start_time": "2023-02-24T08:10:44.688Z"
   },
   {
    "duration": 21,
    "start_time": "2023-02-24T08:10:44.770Z"
   },
   {
    "duration": 6,
    "start_time": "2023-02-24T08:10:44.793Z"
   },
   {
    "duration": 165,
    "start_time": "2023-02-24T08:10:44.801Z"
   },
   {
    "duration": 186,
    "start_time": "2023-02-24T08:10:44.969Z"
   },
   {
    "duration": 31,
    "start_time": "2023-02-24T08:10:45.156Z"
   },
   {
    "duration": 16,
    "start_time": "2023-02-24T08:10:45.188Z"
   },
   {
    "duration": 201,
    "start_time": "2023-02-24T08:10:45.205Z"
   },
   {
    "duration": 184,
    "start_time": "2023-02-24T08:10:45.408Z"
   },
   {
    "duration": 175,
    "start_time": "2023-02-24T08:10:45.594Z"
   },
   {
    "duration": 263,
    "start_time": "2023-02-24T08:10:45.772Z"
   },
   {
    "duration": 174,
    "start_time": "2023-02-24T08:10:46.036Z"
   },
   {
    "duration": 178,
    "start_time": "2023-02-24T08:10:46.211Z"
   },
   {
    "duration": 947,
    "start_time": "2023-02-24T08:10:46.391Z"
   },
   {
    "duration": 47,
    "start_time": "2023-02-24T08:10:47.340Z"
   },
   {
    "duration": 50,
    "start_time": "2023-02-24T08:10:47.390Z"
   },
   {
    "duration": 87,
    "start_time": "2023-02-24T08:10:47.454Z"
   },
   {
    "duration": 419,
    "start_time": "2023-02-24T08:10:47.543Z"
   },
   {
    "duration": 338,
    "start_time": "2023-02-24T08:10:47.964Z"
   },
   {
    "duration": 480,
    "start_time": "2023-02-24T08:10:48.303Z"
   },
   {
    "duration": 338,
    "start_time": "2023-02-24T08:10:48.787Z"
   },
   {
    "duration": 350,
    "start_time": "2023-02-24T08:10:49.127Z"
   },
   {
    "duration": 303,
    "start_time": "2023-02-24T08:10:49.482Z"
   },
   {
    "duration": 335,
    "start_time": "2023-02-24T08:10:49.787Z"
   },
   {
    "duration": 190,
    "start_time": "2023-02-24T08:10:50.124Z"
   },
   {
    "duration": 450,
    "start_time": "2023-02-24T08:10:50.315Z"
   },
   {
    "duration": 315,
    "start_time": "2023-02-24T08:10:50.766Z"
   },
   {
    "duration": 342,
    "start_time": "2023-02-24T08:10:51.083Z"
   },
   {
    "duration": 366,
    "start_time": "2023-02-24T08:10:51.426Z"
   },
   {
    "duration": 754,
    "start_time": "2023-02-24T08:10:51.794Z"
   },
   {
    "duration": 481,
    "start_time": "2023-02-24T08:10:52.557Z"
   },
   {
    "duration": 496,
    "start_time": "2023-02-24T08:10:53.039Z"
   },
   {
    "duration": 194,
    "start_time": "2023-02-24T08:10:53.537Z"
   },
   {
    "duration": 145,
    "start_time": "2023-02-24T08:10:53.733Z"
   },
   {
    "duration": 1011,
    "start_time": "2023-02-24T08:10:53.879Z"
   },
   {
    "duration": 30,
    "start_time": "2023-02-24T08:10:54.891Z"
   },
   {
    "duration": 201,
    "start_time": "2023-02-24T08:10:54.923Z"
   },
   {
    "duration": 58,
    "start_time": "2023-02-24T08:19:34.580Z"
   },
   {
    "duration": 62,
    "start_time": "2023-02-24T08:19:40.244Z"
   },
   {
    "duration": 76,
    "start_time": "2023-02-24T08:23:01.794Z"
   },
   {
    "duration": 43,
    "start_time": "2023-02-24T08:23:51.021Z"
   },
   {
    "duration": 222,
    "start_time": "2023-02-24T08:37:58.553Z"
   },
   {
    "duration": 189,
    "start_time": "2023-02-24T08:41:28.731Z"
   },
   {
    "duration": 187,
    "start_time": "2023-02-24T08:43:11.850Z"
   },
   {
    "duration": 201,
    "start_time": "2023-02-24T08:43:36.745Z"
   },
   {
    "duration": 864,
    "start_time": "2023-02-24T08:44:26.727Z"
   },
   {
    "duration": 865,
    "start_time": "2023-02-24T08:45:00.178Z"
   },
   {
    "duration": 822,
    "start_time": "2023-02-24T08:45:12.808Z"
   },
   {
    "duration": 512,
    "start_time": "2023-02-24T08:45:20.250Z"
   },
   {
    "duration": 4,
    "start_time": "2023-02-24T08:46:46.710Z"
   },
   {
    "duration": 3,
    "start_time": "2023-02-24T08:46:57.001Z"
   },
   {
    "duration": 244,
    "start_time": "2023-02-24T08:47:03.301Z"
   },
   {
    "duration": 322,
    "start_time": "2023-02-24T08:47:20.612Z"
   },
   {
    "duration": 17,
    "start_time": "2023-02-24T08:54:30.381Z"
   },
   {
    "duration": 20,
    "start_time": "2023-02-24T08:54:35.924Z"
   },
   {
    "duration": 158,
    "start_time": "2023-02-24T08:55:24.982Z"
   },
   {
    "duration": 278,
    "start_time": "2023-02-24T08:55:34.816Z"
   },
   {
    "duration": 197,
    "start_time": "2023-02-24T08:56:47.118Z"
   },
   {
    "duration": 192,
    "start_time": "2023-02-24T08:56:55.069Z"
   },
   {
    "duration": 174,
    "start_time": "2023-02-24T08:56:59.778Z"
   },
   {
    "duration": 216,
    "start_time": "2023-02-24T08:57:03.619Z"
   },
   {
    "duration": 146,
    "start_time": "2023-02-24T08:57:24.380Z"
   },
   {
    "duration": 288,
    "start_time": "2023-02-24T08:58:20.662Z"
   },
   {
    "duration": 298,
    "start_time": "2023-02-24T08:59:59.814Z"
   },
   {
    "duration": 575,
    "start_time": "2023-02-24T09:00:13.705Z"
   },
   {
    "duration": 258,
    "start_time": "2023-02-24T09:03:45.363Z"
   },
   {
    "duration": 7,
    "start_time": "2023-02-24T09:04:31.743Z"
   },
   {
    "duration": 9,
    "start_time": "2023-02-24T09:05:14.013Z"
   },
   {
    "duration": 54,
    "start_time": "2023-02-24T09:06:05.616Z"
   },
   {
    "duration": 13,
    "start_time": "2023-02-24T09:06:09.965Z"
   },
   {
    "duration": 12,
    "start_time": "2023-02-24T09:06:20.796Z"
   },
   {
    "duration": 682,
    "start_time": "2023-02-24T09:07:16.808Z"
   },
   {
    "duration": 46,
    "start_time": "2023-02-24T09:14:30.628Z"
   },
   {
    "duration": 34,
    "start_time": "2023-02-24T09:16:24.566Z"
   },
   {
    "duration": 31,
    "start_time": "2023-02-24T09:19:53.733Z"
   },
   {
    "duration": 30,
    "start_time": "2023-02-24T09:20:19.683Z"
   },
   {
    "duration": 45,
    "start_time": "2023-02-24T09:26:45.922Z"
   },
   {
    "duration": 118,
    "start_time": "2023-02-24T09:27:07.547Z"
   },
   {
    "duration": 56,
    "start_time": "2023-02-24T09:27:56.719Z"
   },
   {
    "duration": 60,
    "start_time": "2023-02-24T09:28:13.940Z"
   },
   {
    "duration": 55,
    "start_time": "2023-02-24T09:28:26.090Z"
   },
   {
    "duration": 31,
    "start_time": "2023-02-24T09:31:13.741Z"
   },
   {
    "duration": 30,
    "start_time": "2023-02-24T09:32:20.217Z"
   },
   {
    "duration": 30,
    "start_time": "2023-02-24T09:33:33.328Z"
   },
   {
    "duration": 30,
    "start_time": "2023-02-24T09:33:43.534Z"
   },
   {
    "duration": 32,
    "start_time": "2023-02-24T09:34:16.079Z"
   },
   {
    "duration": 27,
    "start_time": "2023-02-24T09:34:34.620Z"
   },
   {
    "duration": 33,
    "start_time": "2023-02-24T09:35:50.883Z"
   },
   {
    "duration": 56,
    "start_time": "2023-02-24T09:36:50.620Z"
   },
   {
    "duration": 75,
    "start_time": "2023-02-24T09:37:12.125Z"
   },
   {
    "duration": 43,
    "start_time": "2023-02-24T09:39:02.469Z"
   },
   {
    "duration": 39,
    "start_time": "2023-02-24T09:52:46.293Z"
   },
   {
    "duration": 65,
    "start_time": "2023-02-24T09:53:06.703Z"
   },
   {
    "duration": 718,
    "start_time": "2023-02-24T09:53:43.444Z"
   },
   {
    "duration": 82,
    "start_time": "2023-02-24T09:53:50.315Z"
   },
   {
    "duration": 65,
    "start_time": "2023-02-24T09:54:31.327Z"
   },
   {
    "duration": 61,
    "start_time": "2023-02-24T09:55:23.768Z"
   },
   {
    "duration": 52,
    "start_time": "2023-02-24T09:55:34.268Z"
   },
   {
    "duration": 59,
    "start_time": "2023-02-24T09:55:38.468Z"
   },
   {
    "duration": 55,
    "start_time": "2023-02-24T09:56:34.600Z"
   },
   {
    "duration": 734,
    "start_time": "2023-02-24T09:57:04.540Z"
   },
   {
    "duration": 49,
    "start_time": "2023-02-24T09:57:33.252Z"
   },
   {
    "duration": 69,
    "start_time": "2023-02-24T09:57:56.983Z"
   },
   {
    "duration": 57,
    "start_time": "2023-02-24T09:59:48.796Z"
   },
   {
    "duration": 48,
    "start_time": "2023-02-24T10:00:02.416Z"
   },
   {
    "duration": 34,
    "start_time": "2023-02-24T10:02:06.830Z"
   },
   {
    "duration": 735,
    "start_time": "2023-02-24T10:05:30.422Z"
   },
   {
    "duration": 28,
    "start_time": "2023-02-24T10:06:12.418Z"
   },
   {
    "duration": 29,
    "start_time": "2023-02-24T10:06:30.478Z"
   },
   {
    "duration": 45,
    "start_time": "2023-02-24T10:06:33.209Z"
   },
   {
    "duration": 25,
    "start_time": "2023-02-24T10:06:36.148Z"
   },
   {
    "duration": 144,
    "start_time": "2023-02-24T10:06:43.859Z"
   },
   {
    "duration": 215,
    "start_time": "2023-02-24T10:06:56.399Z"
   },
   {
    "duration": 51,
    "start_time": "2023-02-24T10:07:45.427Z"
   },
   {
    "duration": 186,
    "start_time": "2023-02-24T10:07:52.021Z"
   },
   {
    "duration": 53,
    "start_time": "2023-02-24T10:08:33.722Z"
   },
   {
    "duration": 43,
    "start_time": "2023-02-24T10:08:37.472Z"
   },
   {
    "duration": 34,
    "start_time": "2023-02-24T10:09:03.573Z"
   },
   {
    "duration": 27,
    "start_time": "2023-02-24T10:09:15.393Z"
   },
   {
    "duration": 35,
    "start_time": "2023-02-24T10:09:22.803Z"
   },
   {
    "duration": 202,
    "start_time": "2023-02-24T10:09:47.890Z"
   },
   {
    "duration": 148,
    "start_time": "2023-02-24T10:10:22.205Z"
   },
   {
    "duration": 32,
    "start_time": "2023-02-24T10:10:50.317Z"
   },
   {
    "duration": 24,
    "start_time": "2023-02-24T10:11:46.300Z"
   },
   {
    "duration": 35,
    "start_time": "2023-02-24T10:11:57.938Z"
   },
   {
    "duration": 39,
    "start_time": "2023-02-24T10:13:24.041Z"
   },
   {
    "duration": 727,
    "start_time": "2023-02-24T10:13:30.041Z"
   },
   {
    "duration": 37,
    "start_time": "2023-02-24T10:13:47.322Z"
   },
   {
    "duration": 36,
    "start_time": "2023-02-24T10:13:52.962Z"
   },
   {
    "duration": 55,
    "start_time": "2023-02-24T10:14:51.674Z"
   },
   {
    "duration": 55,
    "start_time": "2023-02-24T10:14:59.535Z"
   },
   {
    "duration": 50,
    "start_time": "2023-02-24T10:15:24.494Z"
   },
   {
    "duration": 127,
    "start_time": "2023-02-24T10:32:16.148Z"
   },
   {
    "duration": 2123,
    "start_time": "2023-02-24T10:32:16.277Z"
   },
   {
    "duration": 19,
    "start_time": "2023-02-24T10:32:18.402Z"
   },
   {
    "duration": 44,
    "start_time": "2023-02-24T10:32:18.422Z"
   },
   {
    "duration": 14,
    "start_time": "2023-02-24T10:32:18.468Z"
   },
   {
    "duration": 27,
    "start_time": "2023-02-24T10:32:18.483Z"
   },
   {
    "duration": 99,
    "start_time": "2023-02-24T10:32:18.512Z"
   },
   {
    "duration": 75,
    "start_time": "2023-02-24T10:32:18.612Z"
   },
   {
    "duration": 22,
    "start_time": "2023-02-24T10:32:18.688Z"
   },
   {
    "duration": 8,
    "start_time": "2023-02-24T10:32:18.711Z"
   },
   {
    "duration": 160,
    "start_time": "2023-02-24T10:32:18.720Z"
   },
   {
    "duration": 157,
    "start_time": "2023-02-24T10:32:18.882Z"
   },
   {
    "duration": 30,
    "start_time": "2023-02-24T10:32:19.041Z"
   },
   {
    "duration": 14,
    "start_time": "2023-02-24T10:32:19.074Z"
   },
   {
    "duration": 163,
    "start_time": "2023-02-24T10:32:19.090Z"
   },
   {
    "duration": 144,
    "start_time": "2023-02-24T10:32:19.254Z"
   },
   {
    "duration": 167,
    "start_time": "2023-02-24T10:32:19.400Z"
   },
   {
    "duration": 155,
    "start_time": "2023-02-24T10:32:19.568Z"
   },
   {
    "duration": 286,
    "start_time": "2023-02-24T10:32:19.724Z"
   },
   {
    "duration": 134,
    "start_time": "2023-02-24T10:32:20.011Z"
   },
   {
    "duration": 802,
    "start_time": "2023-02-24T10:32:20.153Z"
   },
   {
    "duration": 29,
    "start_time": "2023-02-24T10:32:20.956Z"
   },
   {
    "duration": 73,
    "start_time": "2023-02-24T10:32:20.987Z"
   },
   {
    "duration": 73,
    "start_time": "2023-02-24T10:32:21.062Z"
   },
   {
    "duration": 336,
    "start_time": "2023-02-24T10:32:21.153Z"
   },
   {
    "duration": 320,
    "start_time": "2023-02-24T10:32:21.491Z"
   },
   {
    "duration": 434,
    "start_time": "2023-02-24T10:32:21.813Z"
   },
   {
    "duration": 302,
    "start_time": "2023-02-24T10:32:22.253Z"
   },
   {
    "duration": 313,
    "start_time": "2023-02-24T10:32:22.557Z"
   },
   {
    "duration": 245,
    "start_time": "2023-02-24T10:32:22.871Z"
   },
   {
    "duration": 279,
    "start_time": "2023-02-24T10:32:23.117Z"
   },
   {
    "duration": 185,
    "start_time": "2023-02-24T10:32:23.398Z"
   },
   {
    "duration": 473,
    "start_time": "2023-02-24T10:32:23.584Z"
   },
   {
    "duration": 310,
    "start_time": "2023-02-24T10:32:24.059Z"
   },
   {
    "duration": 329,
    "start_time": "2023-02-24T10:32:24.370Z"
   },
   {
    "duration": 325,
    "start_time": "2023-02-24T10:32:24.701Z"
   },
   {
    "duration": 776,
    "start_time": "2023-02-24T10:32:25.028Z"
   },
   {
    "duration": 506,
    "start_time": "2023-02-24T10:32:25.806Z"
   },
   {
    "duration": 541,
    "start_time": "2023-02-24T10:32:26.314Z"
   },
   {
    "duration": 11,
    "start_time": "2023-02-24T10:32:26.856Z"
   },
   {
    "duration": 203,
    "start_time": "2023-02-24T10:32:26.871Z"
   },
   {
    "duration": 145,
    "start_time": "2023-02-24T10:32:27.075Z"
   },
   {
    "duration": 908,
    "start_time": "2023-02-24T10:32:27.222Z"
   },
   {
    "duration": 715,
    "start_time": "2023-02-24T10:32:28.132Z"
   },
   {
    "duration": 55,
    "start_time": "2023-02-24T10:32:28.848Z"
   },
   {
    "duration": 205,
    "start_time": "2023-02-24T10:32:28.905Z"
   },
   {
    "duration": 765,
    "start_time": "2023-02-24T12:05:48.124Z"
   },
   {
    "duration": 2578,
    "start_time": "2023-02-24T12:05:48.890Z"
   },
   {
    "duration": 64,
    "start_time": "2023-02-24T12:05:51.469Z"
   },
   {
    "duration": 36,
    "start_time": "2023-02-24T12:05:51.536Z"
   },
   {
    "duration": 21,
    "start_time": "2023-02-24T12:05:51.574Z"
   },
   {
    "duration": 53,
    "start_time": "2023-02-24T12:05:51.599Z"
   },
   {
    "duration": 104,
    "start_time": "2023-02-24T12:05:51.654Z"
   },
   {
    "duration": 86,
    "start_time": "2023-02-24T12:05:51.760Z"
   },
   {
    "duration": 26,
    "start_time": "2023-02-24T12:05:51.848Z"
   },
   {
    "duration": 7,
    "start_time": "2023-02-24T12:05:51.877Z"
   },
   {
    "duration": 208,
    "start_time": "2023-02-24T12:05:51.885Z"
   },
   {
    "duration": 188,
    "start_time": "2023-02-24T12:05:52.095Z"
   },
   {
    "duration": 26,
    "start_time": "2023-02-24T12:05:52.285Z"
   },
   {
    "duration": 38,
    "start_time": "2023-02-24T12:05:52.312Z"
   },
   {
    "duration": 234,
    "start_time": "2023-02-24T12:05:52.352Z"
   },
   {
    "duration": 222,
    "start_time": "2023-02-24T12:05:52.589Z"
   },
   {
    "duration": 259,
    "start_time": "2023-02-24T12:05:52.813Z"
   },
   {
    "duration": 155,
    "start_time": "2023-02-24T12:05:53.074Z"
   },
   {
    "duration": 191,
    "start_time": "2023-02-24T12:05:53.231Z"
   },
   {
    "duration": 171,
    "start_time": "2023-02-24T12:05:53.425Z"
   },
   {
    "duration": 902,
    "start_time": "2023-02-24T12:05:53.598Z"
   },
   {
    "duration": 42,
    "start_time": "2023-02-24T12:05:54.503Z"
   },
   {
    "duration": 55,
    "start_time": "2023-02-24T12:05:54.547Z"
   },
   {
    "duration": 90,
    "start_time": "2023-02-24T12:05:54.604Z"
   },
   {
    "duration": 402,
    "start_time": "2023-02-24T12:05:54.696Z"
   },
   {
    "duration": 469,
    "start_time": "2023-02-24T12:05:55.101Z"
   },
   {
    "duration": 374,
    "start_time": "2023-02-24T12:05:55.572Z"
   },
   {
    "duration": 339,
    "start_time": "2023-02-24T12:05:55.950Z"
   },
   {
    "duration": 387,
    "start_time": "2023-02-24T12:05:56.291Z"
   },
   {
    "duration": 324,
    "start_time": "2023-02-24T12:05:56.679Z"
   },
   {
    "duration": 306,
    "start_time": "2023-02-24T12:05:57.005Z"
   },
   {
    "duration": 291,
    "start_time": "2023-02-24T12:05:57.313Z"
   },
   {
    "duration": 371,
    "start_time": "2023-02-24T12:05:57.607Z"
   },
   {
    "duration": 354,
    "start_time": "2023-02-24T12:05:57.980Z"
   },
   {
    "duration": 320,
    "start_time": "2023-02-24T12:05:58.337Z"
   },
   {
    "duration": 349,
    "start_time": "2023-02-24T12:05:58.659Z"
   },
   {
    "duration": 766,
    "start_time": "2023-02-24T12:05:59.010Z"
   },
   {
    "duration": 502,
    "start_time": "2023-02-24T12:05:59.778Z"
   },
   {
    "duration": 527,
    "start_time": "2023-02-24T12:06:00.282Z"
   },
   {
    "duration": 13,
    "start_time": "2023-02-24T12:06:00.811Z"
   },
   {
    "duration": 204,
    "start_time": "2023-02-24T12:06:00.825Z"
   },
   {
    "duration": 146,
    "start_time": "2023-02-24T12:06:01.031Z"
   },
   {
    "duration": 1017,
    "start_time": "2023-02-24T12:06:01.179Z"
   },
   {
    "duration": 652,
    "start_time": "2023-02-24T12:06:02.198Z"
   },
   {
    "duration": 126,
    "start_time": "2023-02-24T12:06:02.854Z"
   },
   {
    "duration": 177,
    "start_time": "2023-02-24T12:06:02.982Z"
   },
   {
    "duration": 588,
    "start_time": "2023-02-24T14:07:28.567Z"
   },
   {
    "duration": 2507,
    "start_time": "2023-02-24T14:07:29.156Z"
   },
   {
    "duration": 57,
    "start_time": "2023-02-24T14:07:31.665Z"
   },
   {
    "duration": 40,
    "start_time": "2023-02-24T14:07:31.725Z"
   },
   {
    "duration": 15,
    "start_time": "2023-02-24T14:07:31.767Z"
   },
   {
    "duration": 60,
    "start_time": "2023-02-24T14:07:31.783Z"
   },
   {
    "duration": 98,
    "start_time": "2023-02-24T14:07:31.844Z"
   },
   {
    "duration": 74,
    "start_time": "2023-02-24T14:07:31.944Z"
   },
   {
    "duration": 36,
    "start_time": "2023-02-24T14:07:32.020Z"
   },
   {
    "duration": 18,
    "start_time": "2023-02-24T14:07:32.059Z"
   },
   {
    "duration": 161,
    "start_time": "2023-02-24T14:07:32.078Z"
   },
   {
    "duration": 145,
    "start_time": "2023-02-24T14:07:32.242Z"
   },
   {
    "duration": 23,
    "start_time": "2023-02-24T14:07:32.388Z"
   },
   {
    "duration": 34,
    "start_time": "2023-02-24T14:07:32.412Z"
   },
   {
    "duration": 162,
    "start_time": "2023-02-24T14:07:32.448Z"
   },
   {
    "duration": 181,
    "start_time": "2023-02-24T14:07:32.612Z"
   },
   {
    "duration": 268,
    "start_time": "2023-02-24T14:07:32.795Z"
   },
   {
    "duration": 148,
    "start_time": "2023-02-24T14:07:33.065Z"
   },
   {
    "duration": 158,
    "start_time": "2023-02-24T14:07:33.214Z"
   },
   {
    "duration": 163,
    "start_time": "2023-02-24T14:07:33.374Z"
   },
   {
    "duration": 838,
    "start_time": "2023-02-24T14:07:33.540Z"
   },
   {
    "duration": 28,
    "start_time": "2023-02-24T14:07:34.379Z"
   },
   {
    "duration": 78,
    "start_time": "2023-02-24T14:07:34.408Z"
   },
   {
    "duration": 82,
    "start_time": "2023-02-24T14:07:34.488Z"
   },
   {
    "duration": 386,
    "start_time": "2023-02-24T14:07:34.571Z"
   },
   {
    "duration": 421,
    "start_time": "2023-02-24T14:07:34.959Z"
   },
   {
    "duration": 363,
    "start_time": "2023-02-24T14:07:35.382Z"
   },
   {
    "duration": 334,
    "start_time": "2023-02-24T14:07:35.748Z"
   },
   {
    "duration": 370,
    "start_time": "2023-02-24T14:07:36.084Z"
   },
   {
    "duration": 288,
    "start_time": "2023-02-24T14:07:36.456Z"
   },
   {
    "duration": 304,
    "start_time": "2023-02-24T14:07:36.746Z"
   },
   {
    "duration": 303,
    "start_time": "2023-02-24T14:07:37.052Z"
   },
   {
    "duration": 348,
    "start_time": "2023-02-24T14:07:37.357Z"
   },
   {
    "duration": 341,
    "start_time": "2023-02-24T14:07:37.707Z"
   },
   {
    "duration": 331,
    "start_time": "2023-02-24T14:07:38.050Z"
   },
   {
    "duration": 354,
    "start_time": "2023-02-24T14:07:38.384Z"
   },
   {
    "duration": 737,
    "start_time": "2023-02-24T14:07:38.743Z"
   },
   {
    "duration": 517,
    "start_time": "2023-02-24T14:07:39.482Z"
   },
   {
    "duration": 587,
    "start_time": "2023-02-24T14:07:40.001Z"
   },
   {
    "duration": 12,
    "start_time": "2023-02-24T14:07:40.590Z"
   },
   {
    "duration": 209,
    "start_time": "2023-02-24T14:07:40.603Z"
   },
   {
    "duration": 146,
    "start_time": "2023-02-24T14:07:40.813Z"
   },
   {
    "duration": 988,
    "start_time": "2023-02-24T14:07:40.961Z"
   },
   {
    "duration": 583,
    "start_time": "2023-02-24T14:07:41.951Z"
   },
   {
    "duration": 131,
    "start_time": "2023-02-24T14:07:42.543Z"
   },
   {
    "duration": 195,
    "start_time": "2023-02-24T14:07:42.676Z"
   },
   {
    "duration": 546,
    "start_time": "2023-02-24T15:16:13.077Z"
   },
   {
    "duration": 2353,
    "start_time": "2023-02-24T15:16:13.626Z"
   },
   {
    "duration": 79,
    "start_time": "2023-02-24T15:16:15.982Z"
   },
   {
    "duration": 39,
    "start_time": "2023-02-24T15:16:16.063Z"
   },
   {
    "duration": 36,
    "start_time": "2023-02-24T15:16:16.105Z"
   },
   {
    "duration": 31,
    "start_time": "2023-02-24T15:16:16.143Z"
   },
   {
    "duration": 113,
    "start_time": "2023-02-24T15:16:16.177Z"
   },
   {
    "duration": 86,
    "start_time": "2023-02-24T15:16:16.292Z"
   },
   {
    "duration": 24,
    "start_time": "2023-02-24T15:16:16.381Z"
   },
   {
    "duration": 15,
    "start_time": "2023-02-24T15:16:16.407Z"
   },
   {
    "duration": 175,
    "start_time": "2023-02-24T15:16:16.424Z"
   },
   {
    "duration": 166,
    "start_time": "2023-02-24T15:16:16.601Z"
   },
   {
    "duration": 25,
    "start_time": "2023-02-24T15:16:16.769Z"
   },
   {
    "duration": 18,
    "start_time": "2023-02-24T15:16:16.797Z"
   },
   {
    "duration": 177,
    "start_time": "2023-02-24T15:16:16.837Z"
   },
   {
    "duration": 181,
    "start_time": "2023-02-24T15:16:17.016Z"
   },
   {
    "duration": 177,
    "start_time": "2023-02-24T15:16:17.199Z"
   },
   {
    "duration": 242,
    "start_time": "2023-02-24T15:16:17.378Z"
   },
   {
    "duration": 166,
    "start_time": "2023-02-24T15:16:17.621Z"
   },
   {
    "duration": 152,
    "start_time": "2023-02-24T15:16:17.788Z"
   },
   {
    "duration": 871,
    "start_time": "2023-02-24T15:16:17.942Z"
   },
   {
    "duration": 43,
    "start_time": "2023-02-24T15:16:18.814Z"
   },
   {
    "duration": 61,
    "start_time": "2023-02-24T15:16:18.859Z"
   },
   {
    "duration": 88,
    "start_time": "2023-02-24T15:16:18.923Z"
   },
   {
    "duration": 391,
    "start_time": "2023-02-24T15:16:19.013Z"
   },
   {
    "duration": 389,
    "start_time": "2023-02-24T15:16:19.406Z"
   },
   {
    "duration": 470,
    "start_time": "2023-02-24T15:16:19.797Z"
   },
   {
    "duration": 351,
    "start_time": "2023-02-24T15:16:20.268Z"
   },
   {
    "duration": 360,
    "start_time": "2023-02-24T15:16:20.621Z"
   },
   {
    "duration": 291,
    "start_time": "2023-02-24T15:16:20.983Z"
   },
   {
    "duration": 316,
    "start_time": "2023-02-24T15:16:21.276Z"
   },
   {
    "duration": 188,
    "start_time": "2023-02-24T15:16:21.594Z"
   },
   {
    "duration": 438,
    "start_time": "2023-02-24T15:16:21.784Z"
   },
   {
    "duration": 419,
    "start_time": "2023-02-24T15:16:22.224Z"
   },
   {
    "duration": 344,
    "start_time": "2023-02-24T15:16:22.647Z"
   },
   {
    "duration": 344,
    "start_time": "2023-02-24T15:16:22.993Z"
   },
   {
    "duration": 801,
    "start_time": "2023-02-24T15:16:23.339Z"
   },
   {
    "duration": 515,
    "start_time": "2023-02-24T15:16:24.142Z"
   },
   {
    "duration": 536,
    "start_time": "2023-02-24T15:16:24.659Z"
   },
   {
    "duration": 11,
    "start_time": "2023-02-24T15:16:25.197Z"
   },
   {
    "duration": 210,
    "start_time": "2023-02-24T15:16:25.212Z"
   },
   {
    "duration": 145,
    "start_time": "2023-02-24T15:16:25.424Z"
   },
   {
    "duration": 980,
    "start_time": "2023-02-24T15:16:25.571Z"
   },
   {
    "duration": 599,
    "start_time": "2023-02-24T15:16:26.553Z"
   },
   {
    "duration": 133,
    "start_time": "2023-02-24T15:16:27.153Z"
   },
   {
    "duration": 195,
    "start_time": "2023-02-24T15:16:27.288Z"
   },
   {
    "duration": 60,
    "start_time": "2023-03-18T09:59:24.746Z"
   },
   {
    "duration": 600,
    "start_time": "2023-03-18T09:59:31.467Z"
   },
   {
    "duration": 2292,
    "start_time": "2023-03-18T09:59:32.438Z"
   },
   {
    "duration": 70,
    "start_time": "2023-03-18T09:59:41.726Z"
   },
   {
    "duration": 1090,
    "start_time": "2023-09-09T09:05:06.944Z"
   },
   {
    "duration": 2518,
    "start_time": "2023-09-09T09:05:08.036Z"
   },
   {
    "duration": 73,
    "start_time": "2023-09-09T09:05:10.556Z"
   },
   {
    "duration": 142,
    "start_time": "2023-09-09T09:05:10.631Z"
   },
   {
    "duration": 26,
    "start_time": "2023-09-09T09:05:10.776Z"
   },
   {
    "duration": 34,
    "start_time": "2023-09-09T09:05:10.805Z"
   },
   {
    "duration": 109,
    "start_time": "2023-09-09T09:05:10.841Z"
   },
   {
    "duration": 87,
    "start_time": "2023-09-09T09:05:10.952Z"
   },
   {
    "duration": 45,
    "start_time": "2023-09-09T09:05:11.041Z"
   },
   {
    "duration": 245,
    "start_time": "2023-09-09T09:05:11.088Z"
   },
   {
    "duration": 327,
    "start_time": "2023-09-09T09:05:11.334Z"
   },
   {
    "duration": 168,
    "start_time": "2023-09-09T09:05:11.663Z"
   },
   {
    "duration": 68,
    "start_time": "2023-09-09T09:05:11.833Z"
   },
   {
    "duration": 210,
    "start_time": "2023-09-09T09:05:11.905Z"
   },
   {
    "duration": 187,
    "start_time": "2023-09-09T09:05:12.117Z"
   },
   {
    "duration": 177,
    "start_time": "2023-09-09T09:05:12.306Z"
   },
   {
    "duration": 276,
    "start_time": "2023-09-09T09:05:12.484Z"
   },
   {
    "duration": 164,
    "start_time": "2023-09-09T09:05:12.762Z"
   },
   {
    "duration": 179,
    "start_time": "2023-09-09T09:05:12.927Z"
   },
   {
    "duration": 165,
    "start_time": "2023-09-09T09:05:13.109Z"
   },
   {
    "duration": 897,
    "start_time": "2023-09-09T09:05:13.277Z"
   },
   {
    "duration": 56,
    "start_time": "2023-09-09T09:05:14.177Z"
   },
   {
    "duration": 58,
    "start_time": "2023-09-09T09:05:14.235Z"
   },
   {
    "duration": 96,
    "start_time": "2023-09-09T09:05:14.295Z"
   },
   {
    "duration": 365,
    "start_time": "2023-09-09T09:05:14.393Z"
   },
   {
    "duration": 424,
    "start_time": "2023-09-09T09:05:14.759Z"
   },
   {
    "duration": 365,
    "start_time": "2023-09-09T09:05:15.185Z"
   },
   {
    "duration": 431,
    "start_time": "2023-09-09T09:05:15.552Z"
   },
   {
    "duration": 368,
    "start_time": "2023-09-09T09:05:15.985Z"
   },
   {
    "duration": 285,
    "start_time": "2023-09-09T09:05:16.355Z"
   },
   {
    "duration": 325,
    "start_time": "2023-09-09T09:05:16.642Z"
   },
   {
    "duration": 317,
    "start_time": "2023-09-09T09:05:16.969Z"
   },
   {
    "duration": 343,
    "start_time": "2023-09-09T09:05:17.288Z"
   },
   {
    "duration": 324,
    "start_time": "2023-09-09T09:05:17.633Z"
   },
   {
    "duration": 367,
    "start_time": "2023-09-09T09:05:17.959Z"
   },
   {
    "duration": 422,
    "start_time": "2023-09-09T09:05:18.327Z"
   },
   {
    "duration": 794,
    "start_time": "2023-09-09T09:05:18.751Z"
   },
   {
    "duration": 543,
    "start_time": "2023-09-09T09:05:19.547Z"
   },
   {
    "duration": 569,
    "start_time": "2023-09-09T09:05:20.092Z"
   },
   {
    "duration": 17,
    "start_time": "2023-09-09T09:05:20.664Z"
   },
   {
    "duration": 331,
    "start_time": "2023-09-09T09:05:20.689Z"
   },
   {
    "duration": 153,
    "start_time": "2023-09-09T09:05:21.024Z"
   },
   {
    "duration": 947,
    "start_time": "2023-09-09T09:05:21.179Z"
   },
   {
    "duration": 555,
    "start_time": "2023-09-09T09:05:22.128Z"
   },
   {
    "duration": 139,
    "start_time": "2023-09-09T09:05:22.685Z"
   },
   {
    "duration": 191,
    "start_time": "2023-09-09T09:05:22.826Z"
   }
  ],
  "kernelspec": {
   "display_name": "Python 3 (ipykernel)",
   "language": "python",
   "name": "python3"
  },
  "language_info": {
   "codemirror_mode": {
    "name": "ipython",
    "version": 3
   },
   "file_extension": ".py",
   "mimetype": "text/x-python",
   "name": "python",
   "nbconvert_exporter": "python",
   "pygments_lexer": "ipython3",
   "version": "3.9.12"
  },
  "toc": {
   "base_numbering": 1,
   "nav_menu": {},
   "number_sections": true,
   "sideBar": true,
   "skip_h1_title": true,
   "title_cell": "Table of Contents",
   "title_sidebar": "Contents",
   "toc_cell": false,
   "toc_position": {},
   "toc_section_display": true,
   "toc_window_display": true
  }
 },
 "nbformat": 4,
 "nbformat_minor": 2
}
