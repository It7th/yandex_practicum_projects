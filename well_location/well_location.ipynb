{
 "cells": [
  {
   "cell_type": "markdown",
   "metadata": {
    "toc": true
   },
   "source": [
    "<h1>Содержание<span class=\"tocSkip\"></span></h1>\n",
    "<div class=\"toc\"><ul class=\"toc-item\"><li><span><a href=\"#Загрузка-и-подготовка-данных\" data-toc-modified-id=\"Загрузка-и-подготовка-данных-1\"><span class=\"toc-item-num\">1&nbsp;&nbsp;</span>Загрузка и подготовка данных</a></span></li><li><span><a href=\"#Обучение-и-проверка-модели\" data-toc-modified-id=\"Обучение-и-проверка-модели-2\"><span class=\"toc-item-num\">2&nbsp;&nbsp;</span>Обучение и проверка модели</a></span></li><li><span><a href=\"#Подготовка-к-расчёту-прибыли\" data-toc-modified-id=\"Подготовка-к-расчёту-прибыли-3\"><span class=\"toc-item-num\">3&nbsp;&nbsp;</span>Подготовка к расчёту прибыли</a></span></li><li><span><a href=\"#Расчёт-прибыли-и-рисков\" data-toc-modified-id=\"Расчёт-прибыли-и-рисков-4\"><span class=\"toc-item-num\">4&nbsp;&nbsp;</span>Расчёт прибыли и рисков</a></span></li><li><span><a href=\"#Вывод\" data-toc-modified-id=\"Вывод-5\"><span class=\"toc-item-num\">5&nbsp;&nbsp;</span>Вывод</a></span></li></ul></div>"
   ]
  },
  {
   "cell_type": "markdown",
   "metadata": {},
   "source": [
    "# Выбор локации для скважины"
   ]
  },
  {
   "cell_type": "markdown",
   "metadata": {},
   "source": [
    "Допустим, вы работаете в добывающей компании «ГлавРосГосНефть». Нужно решить, где бурить новую скважину.\n",
    "\n",
    "Вам предоставлены пробы нефти в трёх регионах: в каждом 10 000 месторождений, где измерили качество нефти и объём её запасов. Постройте модель машинного обучения, которая поможет определить регион, где добыча принесёт наибольшую прибыль. Проанализируйте возможную прибыль и риски техникой *Bootstrap.*\n",
    "\n",
    "Шаги для выбора локации:\n",
    "\n",
    "- В избранном регионе ищут месторождения, для каждого определяют значения признаков;\n",
    "- Строят модель и оценивают объём запасов;\n",
    "- Выбирают месторождения с самым высокими оценками значений. Количество месторождений зависит от бюджета компании и стоимости разработки одной скважины;\n",
    "- Прибыль равна суммарной прибыли отобранных месторождений."
   ]
  },
  {
   "cell_type": "markdown",
   "metadata": {},
   "source": [
    "Исходя из условия, очевидно, что перед нами задача регрессии"
   ]
  },
  {
   "cell_type": "markdown",
   "metadata": {},
   "source": [
    "## Загрузка и подготовка данных"
   ]
  },
  {
   "cell_type": "code",
   "execution_count": 1,
   "metadata": {},
   "outputs": [],
   "source": [
    "import pandas as pd\n",
    "import numpy as np\n",
    "from sklearn.model_selection import train_test_split\n",
    "from sklearn.linear_model import LinearRegression\n",
    "from sklearn.metrics import mean_squared_error"
   ]
  },
  {
   "cell_type": "code",
   "execution_count": 2,
   "metadata": {},
   "outputs": [],
   "source": [
    "data_1 = pd.read_csv('/datasets/geo_data_0.csv')\n",
    "data_2 = pd.read_csv('/datasets/geo_data_1.csv')\n",
    "data_3 = pd.read_csv('/datasets/geo_data_2.csv')"
   ]
  },
  {
   "cell_type": "code",
   "execution_count": 3,
   "metadata": {},
   "outputs": [
    {
     "data": {
      "text/html": [
       "<div>\n",
       "<style scoped>\n",
       "    .dataframe tbody tr th:only-of-type {\n",
       "        vertical-align: middle;\n",
       "    }\n",
       "\n",
       "    .dataframe tbody tr th {\n",
       "        vertical-align: top;\n",
       "    }\n",
       "\n",
       "    .dataframe thead th {\n",
       "        text-align: right;\n",
       "    }\n",
       "</style>\n",
       "<table border=\"1\" class=\"dataframe\">\n",
       "  <thead>\n",
       "    <tr style=\"text-align: right;\">\n",
       "      <th></th>\n",
       "      <th>id</th>\n",
       "      <th>f0</th>\n",
       "      <th>f1</th>\n",
       "      <th>f2</th>\n",
       "      <th>product</th>\n",
       "    </tr>\n",
       "  </thead>\n",
       "  <tbody>\n",
       "    <tr>\n",
       "      <th>0</th>\n",
       "      <td>txEyH</td>\n",
       "      <td>0.705745</td>\n",
       "      <td>-0.497823</td>\n",
       "      <td>1.221170</td>\n",
       "      <td>105.280062</td>\n",
       "    </tr>\n",
       "    <tr>\n",
       "      <th>1</th>\n",
       "      <td>2acmU</td>\n",
       "      <td>1.334711</td>\n",
       "      <td>-0.340164</td>\n",
       "      <td>4.365080</td>\n",
       "      <td>73.037750</td>\n",
       "    </tr>\n",
       "    <tr>\n",
       "      <th>2</th>\n",
       "      <td>409Wp</td>\n",
       "      <td>1.022732</td>\n",
       "      <td>0.151990</td>\n",
       "      <td>1.419926</td>\n",
       "      <td>85.265647</td>\n",
       "    </tr>\n",
       "    <tr>\n",
       "      <th>3</th>\n",
       "      <td>iJLyR</td>\n",
       "      <td>-0.032172</td>\n",
       "      <td>0.139033</td>\n",
       "      <td>2.978566</td>\n",
       "      <td>168.620776</td>\n",
       "    </tr>\n",
       "    <tr>\n",
       "      <th>4</th>\n",
       "      <td>Xdl7t</td>\n",
       "      <td>1.988431</td>\n",
       "      <td>0.155413</td>\n",
       "      <td>4.751769</td>\n",
       "      <td>154.036647</td>\n",
       "    </tr>\n",
       "    <tr>\n",
       "      <th>...</th>\n",
       "      <td>...</td>\n",
       "      <td>...</td>\n",
       "      <td>...</td>\n",
       "      <td>...</td>\n",
       "      <td>...</td>\n",
       "    </tr>\n",
       "    <tr>\n",
       "      <th>99995</th>\n",
       "      <td>DLsed</td>\n",
       "      <td>0.971957</td>\n",
       "      <td>0.370953</td>\n",
       "      <td>6.075346</td>\n",
       "      <td>110.744026</td>\n",
       "    </tr>\n",
       "    <tr>\n",
       "      <th>99996</th>\n",
       "      <td>QKivN</td>\n",
       "      <td>1.392429</td>\n",
       "      <td>-0.382606</td>\n",
       "      <td>1.273912</td>\n",
       "      <td>122.346843</td>\n",
       "    </tr>\n",
       "    <tr>\n",
       "      <th>99997</th>\n",
       "      <td>3rnvd</td>\n",
       "      <td>1.029585</td>\n",
       "      <td>0.018787</td>\n",
       "      <td>-1.348308</td>\n",
       "      <td>64.375443</td>\n",
       "    </tr>\n",
       "    <tr>\n",
       "      <th>99998</th>\n",
       "      <td>7kl59</td>\n",
       "      <td>0.998163</td>\n",
       "      <td>-0.528582</td>\n",
       "      <td>1.583869</td>\n",
       "      <td>74.040764</td>\n",
       "    </tr>\n",
       "    <tr>\n",
       "      <th>99999</th>\n",
       "      <td>1CWhH</td>\n",
       "      <td>1.764754</td>\n",
       "      <td>-0.266417</td>\n",
       "      <td>5.722849</td>\n",
       "      <td>149.633246</td>\n",
       "    </tr>\n",
       "  </tbody>\n",
       "</table>\n",
       "<p>100000 rows × 5 columns</p>\n",
       "</div>"
      ],
      "text/plain": [
       "          id        f0        f1        f2     product\n",
       "0      txEyH  0.705745 -0.497823  1.221170  105.280062\n",
       "1      2acmU  1.334711 -0.340164  4.365080   73.037750\n",
       "2      409Wp  1.022732  0.151990  1.419926   85.265647\n",
       "3      iJLyR -0.032172  0.139033  2.978566  168.620776\n",
       "4      Xdl7t  1.988431  0.155413  4.751769  154.036647\n",
       "...      ...       ...       ...       ...         ...\n",
       "99995  DLsed  0.971957  0.370953  6.075346  110.744026\n",
       "99996  QKivN  1.392429 -0.382606  1.273912  122.346843\n",
       "99997  3rnvd  1.029585  0.018787 -1.348308   64.375443\n",
       "99998  7kl59  0.998163 -0.528582  1.583869   74.040764\n",
       "99999  1CWhH  1.764754 -0.266417  5.722849  149.633246\n",
       "\n",
       "[100000 rows x 5 columns]"
      ]
     },
     "metadata": {},
     "output_type": "display_data"
    },
    {
     "data": {
      "text/html": [
       "<div>\n",
       "<style scoped>\n",
       "    .dataframe tbody tr th:only-of-type {\n",
       "        vertical-align: middle;\n",
       "    }\n",
       "\n",
       "    .dataframe tbody tr th {\n",
       "        vertical-align: top;\n",
       "    }\n",
       "\n",
       "    .dataframe thead th {\n",
       "        text-align: right;\n",
       "    }\n",
       "</style>\n",
       "<table border=\"1\" class=\"dataframe\">\n",
       "  <thead>\n",
       "    <tr style=\"text-align: right;\">\n",
       "      <th></th>\n",
       "      <th>id</th>\n",
       "      <th>f0</th>\n",
       "      <th>f1</th>\n",
       "      <th>f2</th>\n",
       "      <th>product</th>\n",
       "    </tr>\n",
       "  </thead>\n",
       "  <tbody>\n",
       "    <tr>\n",
       "      <th>0</th>\n",
       "      <td>kBEdx</td>\n",
       "      <td>-15.001348</td>\n",
       "      <td>-8.276000</td>\n",
       "      <td>-0.005876</td>\n",
       "      <td>3.179103</td>\n",
       "    </tr>\n",
       "    <tr>\n",
       "      <th>1</th>\n",
       "      <td>62mP7</td>\n",
       "      <td>14.272088</td>\n",
       "      <td>-3.475083</td>\n",
       "      <td>0.999183</td>\n",
       "      <td>26.953261</td>\n",
       "    </tr>\n",
       "    <tr>\n",
       "      <th>2</th>\n",
       "      <td>vyE1P</td>\n",
       "      <td>6.263187</td>\n",
       "      <td>-5.948386</td>\n",
       "      <td>5.001160</td>\n",
       "      <td>134.766305</td>\n",
       "    </tr>\n",
       "    <tr>\n",
       "      <th>3</th>\n",
       "      <td>KcrkZ</td>\n",
       "      <td>-13.081196</td>\n",
       "      <td>-11.506057</td>\n",
       "      <td>4.999415</td>\n",
       "      <td>137.945408</td>\n",
       "    </tr>\n",
       "    <tr>\n",
       "      <th>4</th>\n",
       "      <td>AHL4O</td>\n",
       "      <td>12.702195</td>\n",
       "      <td>-8.147433</td>\n",
       "      <td>5.004363</td>\n",
       "      <td>134.766305</td>\n",
       "    </tr>\n",
       "    <tr>\n",
       "      <th>...</th>\n",
       "      <td>...</td>\n",
       "      <td>...</td>\n",
       "      <td>...</td>\n",
       "      <td>...</td>\n",
       "      <td>...</td>\n",
       "    </tr>\n",
       "    <tr>\n",
       "      <th>99995</th>\n",
       "      <td>QywKC</td>\n",
       "      <td>9.535637</td>\n",
       "      <td>-6.878139</td>\n",
       "      <td>1.998296</td>\n",
       "      <td>53.906522</td>\n",
       "    </tr>\n",
       "    <tr>\n",
       "      <th>99996</th>\n",
       "      <td>ptvty</td>\n",
       "      <td>-10.160631</td>\n",
       "      <td>-12.558096</td>\n",
       "      <td>5.005581</td>\n",
       "      <td>137.945408</td>\n",
       "    </tr>\n",
       "    <tr>\n",
       "      <th>99997</th>\n",
       "      <td>09gWa</td>\n",
       "      <td>-7.378891</td>\n",
       "      <td>-3.084104</td>\n",
       "      <td>4.998651</td>\n",
       "      <td>137.945408</td>\n",
       "    </tr>\n",
       "    <tr>\n",
       "      <th>99998</th>\n",
       "      <td>rqwUm</td>\n",
       "      <td>0.665714</td>\n",
       "      <td>-6.152593</td>\n",
       "      <td>1.000146</td>\n",
       "      <td>30.132364</td>\n",
       "    </tr>\n",
       "    <tr>\n",
       "      <th>99999</th>\n",
       "      <td>relB0</td>\n",
       "      <td>-3.426139</td>\n",
       "      <td>-7.794274</td>\n",
       "      <td>-0.003299</td>\n",
       "      <td>3.179103</td>\n",
       "    </tr>\n",
       "  </tbody>\n",
       "</table>\n",
       "<p>100000 rows × 5 columns</p>\n",
       "</div>"
      ],
      "text/plain": [
       "          id         f0         f1        f2     product\n",
       "0      kBEdx -15.001348  -8.276000 -0.005876    3.179103\n",
       "1      62mP7  14.272088  -3.475083  0.999183   26.953261\n",
       "2      vyE1P   6.263187  -5.948386  5.001160  134.766305\n",
       "3      KcrkZ -13.081196 -11.506057  4.999415  137.945408\n",
       "4      AHL4O  12.702195  -8.147433  5.004363  134.766305\n",
       "...      ...        ...        ...       ...         ...\n",
       "99995  QywKC   9.535637  -6.878139  1.998296   53.906522\n",
       "99996  ptvty -10.160631 -12.558096  5.005581  137.945408\n",
       "99997  09gWa  -7.378891  -3.084104  4.998651  137.945408\n",
       "99998  rqwUm   0.665714  -6.152593  1.000146   30.132364\n",
       "99999  relB0  -3.426139  -7.794274 -0.003299    3.179103\n",
       "\n",
       "[100000 rows x 5 columns]"
      ]
     },
     "metadata": {},
     "output_type": "display_data"
    },
    {
     "data": {
      "text/html": [
       "<div>\n",
       "<style scoped>\n",
       "    .dataframe tbody tr th:only-of-type {\n",
       "        vertical-align: middle;\n",
       "    }\n",
       "\n",
       "    .dataframe tbody tr th {\n",
       "        vertical-align: top;\n",
       "    }\n",
       "\n",
       "    .dataframe thead th {\n",
       "        text-align: right;\n",
       "    }\n",
       "</style>\n",
       "<table border=\"1\" class=\"dataframe\">\n",
       "  <thead>\n",
       "    <tr style=\"text-align: right;\">\n",
       "      <th></th>\n",
       "      <th>id</th>\n",
       "      <th>f0</th>\n",
       "      <th>f1</th>\n",
       "      <th>f2</th>\n",
       "      <th>product</th>\n",
       "    </tr>\n",
       "  </thead>\n",
       "  <tbody>\n",
       "    <tr>\n",
       "      <th>0</th>\n",
       "      <td>fwXo0</td>\n",
       "      <td>-1.146987</td>\n",
       "      <td>0.963328</td>\n",
       "      <td>-0.828965</td>\n",
       "      <td>27.758673</td>\n",
       "    </tr>\n",
       "    <tr>\n",
       "      <th>1</th>\n",
       "      <td>WJtFt</td>\n",
       "      <td>0.262778</td>\n",
       "      <td>0.269839</td>\n",
       "      <td>-2.530187</td>\n",
       "      <td>56.069697</td>\n",
       "    </tr>\n",
       "    <tr>\n",
       "      <th>2</th>\n",
       "      <td>ovLUW</td>\n",
       "      <td>0.194587</td>\n",
       "      <td>0.289035</td>\n",
       "      <td>-5.586433</td>\n",
       "      <td>62.871910</td>\n",
       "    </tr>\n",
       "    <tr>\n",
       "      <th>3</th>\n",
       "      <td>q6cA6</td>\n",
       "      <td>2.236060</td>\n",
       "      <td>-0.553760</td>\n",
       "      <td>0.930038</td>\n",
       "      <td>114.572842</td>\n",
       "    </tr>\n",
       "    <tr>\n",
       "      <th>4</th>\n",
       "      <td>WPMUX</td>\n",
       "      <td>-0.515993</td>\n",
       "      <td>1.716266</td>\n",
       "      <td>5.899011</td>\n",
       "      <td>149.600746</td>\n",
       "    </tr>\n",
       "    <tr>\n",
       "      <th>...</th>\n",
       "      <td>...</td>\n",
       "      <td>...</td>\n",
       "      <td>...</td>\n",
       "      <td>...</td>\n",
       "      <td>...</td>\n",
       "    </tr>\n",
       "    <tr>\n",
       "      <th>99995</th>\n",
       "      <td>4GxBu</td>\n",
       "      <td>-1.777037</td>\n",
       "      <td>1.125220</td>\n",
       "      <td>6.263374</td>\n",
       "      <td>172.327046</td>\n",
       "    </tr>\n",
       "    <tr>\n",
       "      <th>99996</th>\n",
       "      <td>YKFjq</td>\n",
       "      <td>-1.261523</td>\n",
       "      <td>-0.894828</td>\n",
       "      <td>2.524545</td>\n",
       "      <td>138.748846</td>\n",
       "    </tr>\n",
       "    <tr>\n",
       "      <th>99997</th>\n",
       "      <td>tKPY3</td>\n",
       "      <td>-1.199934</td>\n",
       "      <td>-2.957637</td>\n",
       "      <td>5.219411</td>\n",
       "      <td>157.080080</td>\n",
       "    </tr>\n",
       "    <tr>\n",
       "      <th>99998</th>\n",
       "      <td>nmxp2</td>\n",
       "      <td>-2.419896</td>\n",
       "      <td>2.417221</td>\n",
       "      <td>-5.548444</td>\n",
       "      <td>51.795253</td>\n",
       "    </tr>\n",
       "    <tr>\n",
       "      <th>99999</th>\n",
       "      <td>V9kWn</td>\n",
       "      <td>-2.551421</td>\n",
       "      <td>-2.025625</td>\n",
       "      <td>6.090891</td>\n",
       "      <td>102.775767</td>\n",
       "    </tr>\n",
       "  </tbody>\n",
       "</table>\n",
       "<p>100000 rows × 5 columns</p>\n",
       "</div>"
      ],
      "text/plain": [
       "          id        f0        f1        f2     product\n",
       "0      fwXo0 -1.146987  0.963328 -0.828965   27.758673\n",
       "1      WJtFt  0.262778  0.269839 -2.530187   56.069697\n",
       "2      ovLUW  0.194587  0.289035 -5.586433   62.871910\n",
       "3      q6cA6  2.236060 -0.553760  0.930038  114.572842\n",
       "4      WPMUX -0.515993  1.716266  5.899011  149.600746\n",
       "...      ...       ...       ...       ...         ...\n",
       "99995  4GxBu -1.777037  1.125220  6.263374  172.327046\n",
       "99996  YKFjq -1.261523 -0.894828  2.524545  138.748846\n",
       "99997  tKPY3 -1.199934 -2.957637  5.219411  157.080080\n",
       "99998  nmxp2 -2.419896  2.417221 -5.548444   51.795253\n",
       "99999  V9kWn -2.551421 -2.025625  6.090891  102.775767\n",
       "\n",
       "[100000 rows x 5 columns]"
      ]
     },
     "metadata": {},
     "output_type": "display_data"
    }
   ],
   "source": [
    "display(data_1)\n",
    "display(data_2)\n",
    "display(data_3)"
   ]
  },
  {
   "cell_type": "code",
   "execution_count": 4,
   "metadata": {},
   "outputs": [
    {
     "name": "stdout",
     "output_type": "stream",
     "text": [
      "<class 'pandas.core.frame.DataFrame'>\n",
      "RangeIndex: 100000 entries, 0 to 99999\n",
      "Data columns (total 5 columns):\n",
      " #   Column   Non-Null Count   Dtype  \n",
      "---  ------   --------------   -----  \n",
      " 0   id       100000 non-null  object \n",
      " 1   f0       100000 non-null  float64\n",
      " 2   f1       100000 non-null  float64\n",
      " 3   f2       100000 non-null  float64\n",
      " 4   product  100000 non-null  float64\n",
      "dtypes: float64(4), object(1)\n",
      "memory usage: 3.8+ MB\n",
      "<class 'pandas.core.frame.DataFrame'>\n",
      "RangeIndex: 100000 entries, 0 to 99999\n",
      "Data columns (total 5 columns):\n",
      " #   Column   Non-Null Count   Dtype  \n",
      "---  ------   --------------   -----  \n",
      " 0   id       100000 non-null  object \n",
      " 1   f0       100000 non-null  float64\n",
      " 2   f1       100000 non-null  float64\n",
      " 3   f2       100000 non-null  float64\n",
      " 4   product  100000 non-null  float64\n",
      "dtypes: float64(4), object(1)\n",
      "memory usage: 3.8+ MB\n",
      "<class 'pandas.core.frame.DataFrame'>\n",
      "RangeIndex: 100000 entries, 0 to 99999\n",
      "Data columns (total 5 columns):\n",
      " #   Column   Non-Null Count   Dtype  \n",
      "---  ------   --------------   -----  \n",
      " 0   id       100000 non-null  object \n",
      " 1   f0       100000 non-null  float64\n",
      " 2   f1       100000 non-null  float64\n",
      " 3   f2       100000 non-null  float64\n",
      " 4   product  100000 non-null  float64\n",
      "dtypes: float64(4), object(1)\n",
      "memory usage: 3.8+ MB\n"
     ]
    }
   ],
   "source": [
    "data_1.info()\n",
    "data_2.info()\n",
    "data_3.info()"
   ]
  },
  {
   "cell_type": "code",
   "execution_count": 5,
   "metadata": {},
   "outputs": [
    {
     "name": "stdout",
     "output_type": "stream",
     "text": [
      "Кол-во пропусков: id         0\n",
      "f0         0\n",
      "f1         0\n",
      "f2         0\n",
      "product    0\n",
      "dtype: int64\n",
      "Кол-во дубликатов: 0\n",
      "Распределения значений столбцов: [[<AxesSubplot:title={'center':'f0'}> <AxesSubplot:title={'center':'f1'}>]\n",
      " [<AxesSubplot:title={'center':'f2'}> <AxesSubplot:>]]\n"
     ]
    },
    {
     "data": {
      "image/png": "[encoded data removed]",
      "text/plain": [
       "<Figure size 432x288 with 4 Axes>"
      ]
     },
     "metadata": {
      "needs_background": "light"
     },
     "output_type": "display_data"
    }
   ],
   "source": [
    "def data_info(data):\n",
    "    print('Кол-во пропусков:', data.isna().sum())\n",
    "    print('Кол-во дубликатов:', data.duplicated().sum())\n",
    "    print('Распределения значений столбцов:', data[['f0', 'f1', 'f2']].hist())\n",
    "\n",
    "\n",
    "data_info(data_1)"
   ]
  },
  {
   "cell_type": "code",
   "execution_count": 6,
   "metadata": {},
   "outputs": [
    {
     "name": "stdout",
     "output_type": "stream",
     "text": [
      "Кол-во пропусков: id         0\n",
      "f0         0\n",
      "f1         0\n",
      "f2         0\n",
      "product    0\n",
      "dtype: int64\n",
      "Кол-во дубликатов: 0\n",
      "Распределения значений столбцов: [[<AxesSubplot:title={'center':'f0'}> <AxesSubplot:title={'center':'f1'}>]\n",
      " [<AxesSubplot:title={'center':'f2'}> <AxesSubplot:>]]\n"
     ]
    },
    {
     "data": {
      "image/png": "[encoded data removed]",
      "text/plain": [
       "<Figure size 432x288 with 4 Axes>"
      ]
     },
     "metadata": {
      "needs_background": "light"
     },
     "output_type": "display_data"
    }
   ],
   "source": [
    "data_info(data_2)"
   ]
  },
  {
   "cell_type": "code",
   "execution_count": 7,
   "metadata": {},
   "outputs": [
    {
     "name": "stdout",
     "output_type": "stream",
     "text": [
      "Кол-во пропусков: id         0\n",
      "f0         0\n",
      "f1         0\n",
      "f2         0\n",
      "product    0\n",
      "dtype: int64\n",
      "Кол-во дубликатов: 0\n",
      "Распределения значений столбцов: [[<AxesSubplot:title={'center':'f0'}> <AxesSubplot:title={'center':'f1'}>]\n",
      " [<AxesSubplot:title={'center':'f2'}> <AxesSubplot:>]]\n"
     ]
    },
    {
     "data": {
      "image/png": "[encoded data removed]",
      "text/plain": [
       "<Figure size 432x288 with 4 Axes>"
      ]
     },
     "metadata": {
      "needs_background": "light"
     },
     "output_type": "display_data"
    }
   ],
   "source": [
    "data_info(data_3)"
   ]
  },
  {
   "cell_type": "code",
   "execution_count": 8,
   "metadata": {},
   "outputs": [],
   "source": [
    "features_1 = data_1[['f0', 'f1', 'f2']]\n",
    "features_2 = data_2[['f0', 'f1', 'f2']]\n",
    "features_3 = data_3[['f0', 'f1', 'f2']]\n",
    "\n",
    "target_1 = data_1['product']\n",
    "target_2 = data_2['product']\n",
    "target_3 = data_3['product']"
   ]
  },
  {
   "cell_type": "markdown",
   "metadata": {},
   "source": [
    "Сильного разброса в значениях столбцов f0, f1, f2 не наблюдается, поэтому нет смысла их масштабировать "
   ]
  },
  {
   "cell_type": "code",
   "execution_count": 9,
   "metadata": {},
   "outputs": [],
   "source": [
    "state = np.random.RandomState(12345)"
   ]
  },
  {
   "cell_type": "markdown",
   "metadata": {},
   "source": [
    "## Обучение и проверка модели"
   ]
  },
  {
   "cell_type": "code",
   "execution_count": 10,
   "metadata": {},
   "outputs": [],
   "source": [
    "features_train_1, features_valid_1, target_train_1, target_valid_1 = train_test_split(features_1, target_1, \\\n",
    "                                                                                      test_size = 0.25, random_state = state)\n",
    "\n",
    "features_train_2, features_valid_2, target_train_2, target_valid_2 = train_test_split(features_2, target_2, \\\n",
    "                                                                                      test_size = 0.25, random_state = state)\n",
    "\n",
    "features_train_3, features_valid_3, target_train_3, target_valid_3 = train_test_split(features_3, target_3, \\\n",
    "                                                                                      test_size = 0.25, random_state = state)"
   ]
  },
  {
   "cell_type": "code",
   "execution_count": 11,
   "metadata": {},
   "outputs": [
    {
     "name": "stdout",
     "output_type": "stream",
     "text": [
      "(75000, 3) (25000, 3) (75000,) (25000,)\n",
      "(75000, 3) (25000, 3) (75000,) (25000,)\n",
      "(75000, 3) (25000, 3) (75000,) (25000,)\n"
     ]
    }
   ],
   "source": [
    "features_train = [features_train_1, features_train_2, features_train_3]\n",
    "features_valid = [features_valid_1, features_valid_2, features_valid_3]\n",
    "target_train = [target_train_1, target_train_2, target_train_3]\n",
    "target_valid = [target_valid_1, target_valid_2, target_valid_3]\n",
    "\n",
    "\n",
    "for i in range(3):\n",
    "    print(features_train[i].shape, features_valid[i].shape, target_train[i].shape, target_valid[i].shape)"
   ]
  },
  {
   "cell_type": "code",
   "execution_count": 12,
   "metadata": {},
   "outputs": [
    {
     "name": "stdout",
     "output_type": "stream",
     "text": [
      "Значение RMSE для  1 -го региона равно: 37.5794217150813\n",
      "Средний запас предсказанного сырья: 92.59256778438035 \n",
      "\n",
      "Значение RMSE для  2 -го региона равно: 0.889736773768065\n",
      "Средний запас предсказанного сырья: 68.76995145799754 \n",
      "\n",
      "Значение RMSE для  3 -го региона равно: 39.958042459521614\n",
      "Средний запас предсказанного сырья: 95.087528122523 \n",
      "\n"
     ]
    }
   ],
   "source": [
    "model = LinearRegression()\n",
    "prediction = [0, 0, 0]\n",
    "for i in range(3):\n",
    "    model.fit(features_train[i], target_train[i])\n",
    "    prediction[i] = model.predict(features_valid[i])\n",
    "    rmse = mean_squared_error(target_valid[i], prediction[i], squared=False)\n",
    "    print('Значение RMSE для ', i+1,'-го региона равно:', rmse)\n",
    "    print('Средний запас предсказанного сырья:', prediction[i].mean(), '\\n')\n"
   ]
  },
  {
   "cell_type": "markdown",
   "metadata": {},
   "source": [
    "Самый низкий RMSE у 2-го региона, причем он очень сильно отличается от показателей своих собратьев. Что-то мне подсказывает, что именно этот регион будет наилучшим по итог исследования"
   ]
  },
  {
   "cell_type": "markdown",
   "metadata": {},
   "source": [
    "## Подготовка к расчёту прибыли"
   ]
  },
  {
   "cell_type": "code",
   "execution_count": 13,
   "metadata": {},
   "outputs": [],
   "source": [
    "budget = 10**10\n",
    "n_spot = 500\n",
    "n_best_spot = 200\n",
    "price = 450000\n",
    "alpha = 0.025"
   ]
  },
  {
   "cell_type": "code",
   "execution_count": 14,
   "metadata": {},
   "outputs": [
    {
     "name": "stdout",
     "output_type": "stream",
     "text": [
      "Минимальный объем сырья в регионе для безубыточной разработки новой скважины равен: 22222.222222222223\n"
     ]
    }
   ],
   "source": [
    "min_volume = budget/price\n",
    "print('Минимальный объем сырья в регионе для безубыточной разработки новой скважины равен:', min_volume)"
   ]
  },
  {
   "cell_type": "code",
   "execution_count": 15,
   "metadata": {},
   "outputs": [
    {
     "name": "stdout",
     "output_type": "stream",
     "text": [
      "В среднем, в каждой скважине должно быть: 111.11111111111111 тыс. баррелей нефти для безубыточной разработки\n"
     ]
    }
   ],
   "source": [
    "print('В среднем, в каждой скважине должно быть:', min_volume/200, 'тыс. баррелей нефти для безубыточной разработки')"
   ]
  },
  {
   "cell_type": "code",
   "execution_count": 16,
   "metadata": {},
   "outputs": [
    {
     "name": "stdout",
     "output_type": "stream",
     "text": [
      "Средний запас в регионге 1 равен: 92.07859674082927\n",
      "Средний запас в регионге 2 равен: 68.77162424984647\n",
      "Средний запас в регионге 3 равен: 94.74895871720241\n"
     ]
    }
   ],
   "source": [
    "for i in range(3):\n",
    "    print('Средний запас в регионге', i+1, 'равен:', target_valid[i].mean())"
   ]
  },
  {
   "cell_type": "markdown",
   "metadata": {},
   "source": [
    "Средней объем сырья в скважинах, в каджом из регионов, меньше минимального среднего объема для безубыточной разработки"
   ]
  },
  {
   "cell_type": "markdown",
   "metadata": {},
   "source": [
    "Возможно дело в том, что мы сравниваем среднии показатели и там и там. Из-за этого и получается, что показатель rmse как будто не влияет"
   ]
  },
  {
   "cell_type": "markdown",
   "metadata": {},
   "source": [
    "## Расчёт прибыли и рисков "
   ]
  },
  {
   "cell_type": "code",
   "execution_count": 17,
   "metadata": {
    "scrolled": true
   },
   "outputs": [
    {
     "name": "stdout",
     "output_type": "stream",
     "text": [
      "Прибыль для региона 1 равна: 3320826043.1398506 \n",
      "\n",
      "Прибыль для региона 2 равна: 2415086696.681511 \n",
      "\n",
      "Прибыль для региона 3 равна: 2539915945.842947 \n",
      "\n"
     ]
    }
   ],
   "source": [
    "    \n",
    "def profit(predict, target):\n",
    "    predict.reset_index(drop=True, inplace=True)\n",
    "    target.reset_index(drop=True, inplace=True)\n",
    "    predict = predict.sort_values(ascending=False).head(n_best_spot)\n",
    "\n",
    "    if target[predict.index].shape[0] != predict.shape[0]:\n",
    "        print(\"Shape mismatch! Targets shape:\", target[predict.index].shape[0])\n",
    "    target = target[predict.index].head(n_best_spot)\n",
    "\n",
    "\n",
    "    return target.sum()*price-budget\n",
    "\n",
    " \n",
    "for i in range(3):\n",
    "    prediction[i] = pd.Series(prediction[i], index=target_valid[i].index)\n",
    "    print('Прибыль для региона', i+1, 'равна:', profit(prediction[i], target_valid[i]), '\\n')"
   ]
  },
  {
   "cell_type": "code",
   "execution_count": 21,
   "metadata": {},
   "outputs": [],
   "source": [
    "def bootstrap_and_more(predict, target):\n",
    "    distribution = []\n",
    "    for i in range(1000):\n",
    "        target_subsample = target.sample(n_spot, replace=True, random_state=state)\n",
    "        predict_subsample = predict[target_subsample.index]\n",
    "        distribution.append(profit(predict_subsample, target_subsample))\n",
    "        \n",
    "    low = np.percentile(distribution, 2.5)\n",
    "    high = np.percentile(distribution, 97.5)\n",
    "\n",
    "    negative = 0\n",
    "    for i in range(len(distribution)):\n",
    "        if distribution[i] < 0:\n",
    "            negative += 1\n",
    "\n",
    "    risk = negative/len(distribution)\n",
    "    mean_profit = pd.Series(distribution).mean()\n",
    "    return (mean_profit, (low, high), risk)"
   ]
  },
  {
   "cell_type": "code",
   "execution_count": 22,
   "metadata": {},
   "outputs": [
    {
     "name": "stdout",
     "output_type": "stream",
     "text": [
      "Средняя прибыль в регионе 1 равна: 394284411.3405507 \n",
      "\n",
      "95-й доверительный интервал равен: (-69450566.85672115, 915496165.8311511) \n",
      "\n",
      "% риска равен: 6.1% \n",
      "\n",
      "\n",
      "Средняя прибыль в регионе 2 равна: 454736359.0973578 \n",
      "\n",
      "95-й доверительный интервал равен: (61071811.297698975, 855914149.1428356) \n",
      "\n",
      "% риска равен: 0.7% \n",
      "\n",
      "\n",
      "Средняя прибыль в регионе 3 равна: 353664097.5248346 \n",
      "\n",
      "95-й доверительный интервал равен: (-162650946.9422927, 847761844.5147682) \n",
      "\n",
      "% риска равен: 7.6% \n",
      "\n",
      "\n"
     ]
    }
   ],
   "source": [
    "for i in range(3):\n",
    "    mean_profit, interval, risk = bootstrap_and_more(prediction[i], target_valid[i])\n",
    "    print('Средняя прибыль в регионе', i+1, 'равна:', mean_profit, '\\n')\n",
    "    print('95-й доверительный интервал равен:', interval, '\\n')\n",
    "    print('% риска равен: {:.1%}'.format(risk), '\\n')\n",
    "    print('')"
   ]
  },
  {
   "cell_type": "markdown",
   "metadata": {},
   "source": [
    "## Вывод"
   ]
  },
  {
   "cell_type": "markdown",
   "metadata": {},
   "source": [
    "Наиболее выгодный регион: 2-й.\n",
    "Он имеет: \n",
    "1. Самую высокую среднюю прибыль\n",
    "2. 95-й доверительный интервал, в котором нижний и верхние пределы положительны, когда как в остальных регионах нижний предел иногда становится отрицательным.\n",
    "3. Самый низкий процент риска: всего 1-2%"
   ]
  },
  {
   "cell_type": "markdown",
   "metadata": {},
   "source": [
    "----------"
   ]
  }
 ],
 "metadata": {
  "ExecuteTimeLog": [
   {
    "duration": 46,
    "start_time": "2023-05-05T11:34:36.079Z"
   },
   {
    "duration": 366,
    "start_time": "2023-05-05T11:34:52.727Z"
   },
   {
    "duration": 371,
    "start_time": "2023-05-05T11:34:54.318Z"
   },
   {
    "duration": 1544,
    "start_time": "2023-05-05T11:35:18.948Z"
   },
   {
    "duration": 37,
    "start_time": "2023-05-05T11:36:02.510Z"
   },
   {
    "duration": 40,
    "start_time": "2023-05-05T11:37:22.762Z"
   },
   {
    "duration": 31,
    "start_time": "2023-05-05T11:40:23.532Z"
   },
   {
    "duration": 29,
    "start_time": "2023-05-05T11:40:28.978Z"
   },
   {
    "duration": 79,
    "start_time": "2023-05-05T11:40:34.588Z"
   },
   {
    "duration": 31,
    "start_time": "2023-05-05T11:40:36.718Z"
   },
   {
    "duration": 31,
    "start_time": "2023-05-05T11:41:17.189Z"
   },
   {
    "duration": 26,
    "start_time": "2023-05-05T11:45:21.312Z"
   },
   {
    "duration": 711,
    "start_time": "2023-05-05T11:45:29.885Z"
   },
   {
    "duration": 12,
    "start_time": "2023-05-05T11:46:47.545Z"
   },
   {
    "duration": 10,
    "start_time": "2023-05-05T11:48:26.477Z"
   },
   {
    "duration": 14,
    "start_time": "2023-05-05T11:48:36.446Z"
   },
   {
    "duration": 4,
    "start_time": "2023-05-05T11:53:38.131Z"
   },
   {
    "duration": 3,
    "start_time": "2023-05-05T11:53:46.349Z"
   },
   {
    "duration": 4,
    "start_time": "2023-05-05T11:57:28.167Z"
   },
   {
    "duration": 5,
    "start_time": "2023-05-05T11:57:31.107Z"
   },
   {
    "duration": 3,
    "start_time": "2023-05-05T11:57:41.947Z"
   },
   {
    "duration": 36,
    "start_time": "2023-05-05T11:58:51.847Z"
   },
   {
    "duration": 77,
    "start_time": "2023-05-05T11:59:26.912Z"
   },
   {
    "duration": 28,
    "start_time": "2023-05-05T11:59:30.241Z"
   },
   {
    "duration": 38,
    "start_time": "2023-05-05T11:59:57.601Z"
   },
   {
    "duration": 26,
    "start_time": "2023-05-05T12:00:34.712Z"
   },
   {
    "duration": 12,
    "start_time": "2023-05-05T12:02:20.017Z"
   },
   {
    "duration": 3,
    "start_time": "2023-05-05T12:02:23.736Z"
   },
   {
    "duration": 3,
    "start_time": "2023-05-05T12:07:02.601Z"
   },
   {
    "duration": 32,
    "start_time": "2023-05-05T12:07:18.194Z"
   },
   {
    "duration": 42,
    "start_time": "2023-05-05T12:07:40.369Z"
   },
   {
    "duration": 49,
    "start_time": "2023-05-05T12:09:22.615Z"
   },
   {
    "duration": 35,
    "start_time": "2023-05-05T12:10:10.519Z"
   },
   {
    "duration": 49,
    "start_time": "2023-05-05T12:10:20.602Z"
   },
   {
    "duration": 4,
    "start_time": "2023-05-05T12:10:36.444Z"
   },
   {
    "duration": 30,
    "start_time": "2023-05-05T12:10:38.781Z"
   },
   {
    "duration": 34,
    "start_time": "2023-05-05T12:11:28.672Z"
   },
   {
    "duration": 3,
    "start_time": "2023-05-05T12:11:29.244Z"
   },
   {
    "duration": 7,
    "start_time": "2023-05-05T12:11:45.112Z"
   },
   {
    "duration": 23,
    "start_time": "2023-05-05T12:11:47.962Z"
   },
   {
    "duration": 25,
    "start_time": "2023-05-05T12:15:57.995Z"
   },
   {
    "duration": 4,
    "start_time": "2023-05-05T12:16:04.320Z"
   },
   {
    "duration": 190,
    "start_time": "2023-05-05T12:16:08.100Z"
   },
   {
    "duration": 34,
    "start_time": "2023-05-05T12:16:58.861Z"
   },
   {
    "duration": 27,
    "start_time": "2023-05-05T12:17:20.433Z"
   },
   {
    "duration": 83,
    "start_time": "2023-05-05T12:17:27.902Z"
   },
   {
    "duration": 217,
    "start_time": "2023-05-05T12:18:46.174Z"
   },
   {
    "duration": 160,
    "start_time": "2023-05-05T12:19:43.026Z"
   },
   {
    "duration": 57,
    "start_time": "2023-05-05T12:19:48.636Z"
   },
   {
    "duration": 59,
    "start_time": "2023-05-05T12:19:58.236Z"
   },
   {
    "duration": 60,
    "start_time": "2023-05-05T12:20:35.438Z"
   },
   {
    "duration": 309,
    "start_time": "2023-05-05T12:21:45.190Z"
   },
   {
    "duration": 403,
    "start_time": "2023-05-05T12:21:53.381Z"
   },
   {
    "duration": 75,
    "start_time": "2023-05-05T12:21:59.291Z"
   },
   {
    "duration": 399,
    "start_time": "2023-05-05T12:22:05.291Z"
   },
   {
    "duration": 1049,
    "start_time": "2023-05-05T12:23:23.591Z"
   },
   {
    "duration": 450,
    "start_time": "2023-05-05T12:23:24.643Z"
   },
   {
    "duration": 45,
    "start_time": "2023-05-05T12:23:25.095Z"
   },
   {
    "duration": 51,
    "start_time": "2023-05-05T12:23:25.142Z"
   },
   {
    "duration": 11,
    "start_time": "2023-05-05T12:23:25.196Z"
   },
   {
    "duration": 15,
    "start_time": "2023-05-05T12:23:25.209Z"
   },
   {
    "duration": 38,
    "start_time": "2023-05-05T12:23:25.227Z"
   },
   {
    "duration": 6,
    "start_time": "2023-05-05T12:23:25.268Z"
   },
   {
    "duration": 400,
    "start_time": "2023-05-05T12:23:25.284Z"
   },
   {
    "duration": 96,
    "start_time": "2023-05-05T14:10:26.554Z"
   },
   {
    "duration": 3,
    "start_time": "2023-05-05T14:10:28.079Z"
   },
   {
    "duration": 4,
    "start_time": "2023-05-05T14:10:28.438Z"
   },
   {
    "duration": 3,
    "start_time": "2023-05-05T14:10:43.590Z"
   },
   {
    "duration": 3,
    "start_time": "2023-05-05T14:14:26.046Z"
   },
   {
    "duration": 3,
    "start_time": "2023-05-05T14:14:26.425Z"
   },
   {
    "duration": 5,
    "start_time": "2023-05-05T14:15:45.669Z"
   },
   {
    "duration": 4,
    "start_time": "2023-05-05T14:15:56.050Z"
   },
   {
    "duration": 4,
    "start_time": "2023-05-05T14:21:50.449Z"
   },
   {
    "duration": 14,
    "start_time": "2023-05-05T14:40:08.158Z"
   },
   {
    "duration": 120,
    "start_time": "2023-05-05T14:40:27.001Z"
   },
   {
    "duration": 15,
    "start_time": "2023-05-05T14:40:34.581Z"
   },
   {
    "duration": 11,
    "start_time": "2023-05-05T14:40:38.572Z"
   },
   {
    "duration": 9,
    "start_time": "2023-05-05T14:40:40.881Z"
   },
   {
    "duration": 10,
    "start_time": "2023-05-05T14:41:26.662Z"
   },
   {
    "duration": 9,
    "start_time": "2023-05-05T14:41:44.664Z"
   },
   {
    "duration": 24,
    "start_time": "2023-05-05T14:42:50.906Z"
   },
   {
    "duration": 12,
    "start_time": "2023-05-05T14:42:57.686Z"
   },
   {
    "duration": 11,
    "start_time": "2023-05-05T14:44:17.250Z"
   },
   {
    "duration": 16,
    "start_time": "2023-05-05T14:44:24.848Z"
   },
   {
    "duration": 30,
    "start_time": "2023-05-05T14:44:45.391Z"
   },
   {
    "duration": 13,
    "start_time": "2023-05-05T14:45:17.971Z"
   },
   {
    "duration": 12,
    "start_time": "2023-05-05T14:47:17.224Z"
   },
   {
    "duration": 89,
    "start_time": "2023-05-05T14:48:20.107Z"
   },
   {
    "duration": 491,
    "start_time": "2023-05-05T14:48:59.196Z"
   },
   {
    "duration": 128,
    "start_time": "2023-05-05T14:49:07.956Z"
   },
   {
    "duration": 135,
    "start_time": "2023-05-05T14:49:10.147Z"
   },
   {
    "duration": 218,
    "start_time": "2023-05-05T14:49:13.567Z"
   },
   {
    "duration": 2,
    "start_time": "2023-05-05T14:49:19.057Z"
   },
   {
    "duration": 5,
    "start_time": "2023-05-05T14:49:19.627Z"
   },
   {
    "duration": 5,
    "start_time": "2023-05-05T14:49:20.138Z"
   },
   {
    "duration": 22,
    "start_time": "2023-05-05T14:49:22.897Z"
   },
   {
    "duration": 412,
    "start_time": "2023-05-05T14:50:31.989Z"
   },
   {
    "duration": 184,
    "start_time": "2023-05-05T14:50:40.209Z"
   },
   {
    "duration": 365,
    "start_time": "2023-05-05T14:50:49.329Z"
   },
   {
    "duration": 95,
    "start_time": "2023-05-05T14:50:51.849Z"
   },
   {
    "duration": 498,
    "start_time": "2023-05-05T14:50:53.590Z"
   },
   {
    "duration": 11,
    "start_time": "2023-05-05T14:51:38.563Z"
   },
   {
    "duration": 143,
    "start_time": "2023-05-05T14:55:29.754Z"
   },
   {
    "duration": 79,
    "start_time": "2023-05-05T14:55:40.956Z"
   },
   {
    "duration": 272,
    "start_time": "2023-05-05T14:55:51.115Z"
   },
   {
    "duration": 3,
    "start_time": "2023-05-05T14:55:53.910Z"
   },
   {
    "duration": 5,
    "start_time": "2023-05-05T14:55:54.212Z"
   },
   {
    "duration": 4,
    "start_time": "2023-05-05T14:55:54.690Z"
   },
   {
    "duration": 15,
    "start_time": "2023-05-05T14:55:56.283Z"
   },
   {
    "duration": 12,
    "start_time": "2023-05-05T14:56:22.493Z"
   },
   {
    "duration": 114,
    "start_time": "2023-05-05T14:56:34.170Z"
   },
   {
    "duration": 337,
    "start_time": "2023-05-05T14:56:38.962Z"
   },
   {
    "duration": 11,
    "start_time": "2023-05-05T14:56:41.591Z"
   },
   {
    "duration": 1454,
    "start_time": "2023-05-05T14:57:02.771Z"
   },
   {
    "duration": 448,
    "start_time": "2023-05-05T14:57:04.227Z"
   },
   {
    "duration": 52,
    "start_time": "2023-05-05T14:57:04.677Z"
   },
   {
    "duration": 79,
    "start_time": "2023-05-05T14:57:04.732Z"
   },
   {
    "duration": 13,
    "start_time": "2023-05-05T14:57:04.814Z"
   },
   {
    "duration": 13,
    "start_time": "2023-05-05T14:57:04.829Z"
   },
   {
    "duration": 55,
    "start_time": "2023-05-05T14:57:04.844Z"
   },
   {
    "duration": 9,
    "start_time": "2023-05-05T14:57:04.902Z"
   },
   {
    "duration": 179,
    "start_time": "2023-05-05T14:57:04.914Z"
   },
   {
    "duration": 102,
    "start_time": "2023-05-05T14:57:05.096Z"
   },
   {
    "duration": 93,
    "start_time": "2023-05-05T14:57:05.201Z"
   },
   {
    "duration": 24,
    "start_time": "2023-05-05T14:57:05.296Z"
   },
   {
    "duration": 22,
    "start_time": "2023-05-05T14:57:05.322Z"
   },
   {
    "duration": 23,
    "start_time": "2023-05-05T15:04:27.637Z"
   },
   {
    "duration": 21,
    "start_time": "2023-05-05T15:04:35.617Z"
   },
   {
    "duration": 16,
    "start_time": "2023-05-05T15:04:40.963Z"
   },
   {
    "duration": 15,
    "start_time": "2023-05-05T15:06:54.143Z"
   },
   {
    "duration": 16,
    "start_time": "2023-05-05T15:06:59.752Z"
   },
   {
    "duration": 15,
    "start_time": "2023-05-05T15:07:19.143Z"
   },
   {
    "duration": 21,
    "start_time": "2023-05-05T15:07:37.983Z"
   },
   {
    "duration": 19,
    "start_time": "2023-05-05T15:07:41.649Z"
   },
   {
    "duration": 8,
    "start_time": "2023-05-05T15:33:26.880Z"
   },
   {
    "duration": 175,
    "start_time": "2023-05-05T15:34:39.271Z"
   },
   {
    "duration": 5,
    "start_time": "2023-05-05T15:35:21.636Z"
   },
   {
    "duration": 18,
    "start_time": "2023-05-05T15:35:22.555Z"
   },
   {
    "duration": 8,
    "start_time": "2023-05-05T15:37:00.632Z"
   },
   {
    "duration": 14,
    "start_time": "2023-05-05T15:37:03.113Z"
   },
   {
    "duration": 17,
    "start_time": "2023-05-05T15:37:08.073Z"
   },
   {
    "duration": 20,
    "start_time": "2023-05-05T15:37:11.016Z"
   },
   {
    "duration": 4,
    "start_time": "2023-05-05T15:37:32.631Z"
   },
   {
    "duration": 23,
    "start_time": "2023-05-05T15:37:34.104Z"
   },
   {
    "duration": 6,
    "start_time": "2023-05-05T15:37:49.539Z"
   },
   {
    "duration": 24,
    "start_time": "2023-05-05T15:37:49.548Z"
   },
   {
    "duration": 8,
    "start_time": "2023-05-05T15:38:24.709Z"
   },
   {
    "duration": 13,
    "start_time": "2023-05-05T15:38:26.072Z"
   },
   {
    "duration": 5,
    "start_time": "2023-05-05T15:38:31.270Z"
   },
   {
    "duration": 4,
    "start_time": "2023-05-05T15:39:49.155Z"
   },
   {
    "duration": 18,
    "start_time": "2023-05-05T15:39:50.000Z"
   },
   {
    "duration": 16,
    "start_time": "2023-05-05T15:39:54.046Z"
   },
   {
    "duration": 89,
    "start_time": "2023-05-05T15:41:50.714Z"
   },
   {
    "duration": 13,
    "start_time": "2023-05-05T15:41:53.833Z"
   },
   {
    "duration": 15,
    "start_time": "2023-05-05T15:42:00.172Z"
   },
   {
    "duration": 13,
    "start_time": "2023-05-05T15:42:03.801Z"
   },
   {
    "duration": 18,
    "start_time": "2023-05-05T15:42:08.401Z"
   },
   {
    "duration": 9,
    "start_time": "2023-05-05T15:43:21.984Z"
   },
   {
    "duration": 19,
    "start_time": "2023-05-05T15:43:23.775Z"
   },
   {
    "duration": 5,
    "start_time": "2023-05-05T15:45:38.246Z"
   },
   {
    "duration": 14,
    "start_time": "2023-05-05T15:45:39.723Z"
   },
   {
    "duration": 5,
    "start_time": "2023-05-05T15:46:53.884Z"
   },
   {
    "duration": 13,
    "start_time": "2023-05-05T15:46:55.745Z"
   },
   {
    "duration": 6,
    "start_time": "2023-05-05T15:47:40.644Z"
   },
   {
    "duration": 14,
    "start_time": "2023-05-05T15:47:43.412Z"
   },
   {
    "duration": 70,
    "start_time": "2023-05-05T15:51:22.897Z"
   },
   {
    "duration": 4,
    "start_time": "2023-05-05T15:51:50.864Z"
   },
   {
    "duration": 5,
    "start_time": "2023-05-05T15:51:56.196Z"
   },
   {
    "duration": 6,
    "start_time": "2023-05-05T15:52:26.925Z"
   },
   {
    "duration": 36,
    "start_time": "2023-05-05T15:52:34.746Z"
   },
   {
    "duration": 5,
    "start_time": "2023-05-05T15:52:53.977Z"
   },
   {
    "duration": 4,
    "start_time": "2023-05-05T15:52:58.804Z"
   },
   {
    "duration": 12,
    "start_time": "2023-05-05T15:53:02.145Z"
   },
   {
    "duration": 95,
    "start_time": "2023-05-05T15:53:05.645Z"
   },
   {
    "duration": 5,
    "start_time": "2023-05-05T15:53:07.519Z"
   },
   {
    "duration": 7,
    "start_time": "2023-05-05T15:53:12.696Z"
   },
   {
    "duration": 25,
    "start_time": "2023-05-05T15:53:27.735Z"
   },
   {
    "duration": 5,
    "start_time": "2023-05-05T15:53:51.547Z"
   },
   {
    "duration": 4,
    "start_time": "2023-05-05T15:54:02.426Z"
   },
   {
    "duration": 132,
    "start_time": "2023-05-05T15:54:10.227Z"
   },
   {
    "duration": 7,
    "start_time": "2023-05-05T15:54:13.348Z"
   },
   {
    "duration": 1137,
    "start_time": "2023-05-05T15:54:44.830Z"
   },
   {
    "duration": 392,
    "start_time": "2023-05-05T15:54:45.969Z"
   },
   {
    "duration": 45,
    "start_time": "2023-05-05T15:54:46.363Z"
   },
   {
    "duration": 33,
    "start_time": "2023-05-05T15:54:46.410Z"
   },
   {
    "duration": 9,
    "start_time": "2023-05-05T15:54:46.446Z"
   },
   {
    "duration": 28,
    "start_time": "2023-05-05T15:54:46.456Z"
   },
   {
    "duration": 40,
    "start_time": "2023-05-05T15:54:46.490Z"
   },
   {
    "duration": 6,
    "start_time": "2023-05-05T15:54:46.532Z"
   },
   {
    "duration": 257,
    "start_time": "2023-05-05T15:54:46.540Z"
   },
   {
    "duration": 4,
    "start_time": "2023-05-05T15:54:46.885Z"
   },
   {
    "duration": 97,
    "start_time": "2023-05-05T15:54:46.891Z"
   },
   {
    "duration": 11,
    "start_time": "2023-05-05T15:54:46.990Z"
   },
   {
    "duration": 24,
    "start_time": "2023-05-05T15:54:47.003Z"
   },
   {
    "duration": 7,
    "start_time": "2023-05-05T15:54:47.030Z"
   },
   {
    "duration": 17,
    "start_time": "2023-05-05T15:54:47.039Z"
   },
   {
    "duration": 4,
    "start_time": "2023-05-05T15:54:58.778Z"
   },
   {
    "duration": 104,
    "start_time": "2023-05-05T15:55:38.380Z"
   },
   {
    "duration": 4,
    "start_time": "2023-05-05T15:55:48.568Z"
   },
   {
    "duration": 4,
    "start_time": "2023-05-05T15:56:11.209Z"
   },
   {
    "duration": 5,
    "start_time": "2023-05-05T15:56:14.211Z"
   },
   {
    "duration": 6,
    "start_time": "2023-05-05T15:57:19.851Z"
   },
   {
    "duration": 17,
    "start_time": "2023-05-05T15:57:26.276Z"
   },
   {
    "duration": 5,
    "start_time": "2023-05-05T15:57:33.334Z"
   },
   {
    "duration": 392,
    "start_time": "2023-05-05T16:03:42.405Z"
   },
   {
    "duration": 379,
    "start_time": "2023-05-05T16:04:16.717Z"
   },
   {
    "duration": 427,
    "start_time": "2023-05-05T16:04:24.857Z"
   },
   {
    "duration": 183,
    "start_time": "2023-05-05T16:04:29.009Z"
   },
   {
    "duration": 330,
    "start_time": "2023-05-05T16:04:42.964Z"
   },
   {
    "duration": 10,
    "start_time": "2023-05-05T16:05:48.457Z"
   },
   {
    "duration": 3,
    "start_time": "2023-05-05T16:06:01.081Z"
   },
   {
    "duration": 27,
    "start_time": "2023-05-05T16:06:27.686Z"
   },
   {
    "duration": 1144,
    "start_time": "2023-05-05T16:06:33.958Z"
   },
   {
    "duration": 406,
    "start_time": "2023-05-05T16:06:35.104Z"
   },
   {
    "duration": 38,
    "start_time": "2023-05-05T16:06:35.512Z"
   },
   {
    "duration": 60,
    "start_time": "2023-05-05T16:06:35.552Z"
   },
   {
    "duration": 10,
    "start_time": "2023-05-05T16:06:35.615Z"
   },
   {
    "duration": 30,
    "start_time": "2023-05-05T16:06:35.627Z"
   },
   {
    "duration": 42,
    "start_time": "2023-05-05T16:06:35.659Z"
   },
   {
    "duration": 5,
    "start_time": "2023-05-05T16:06:35.703Z"
   },
   {
    "duration": 187,
    "start_time": "2023-05-05T16:06:35.710Z"
   },
   {
    "duration": 8,
    "start_time": "2023-05-05T16:06:35.985Z"
   },
   {
    "duration": 89,
    "start_time": "2023-05-05T16:06:35.996Z"
   },
   {
    "duration": 13,
    "start_time": "2023-05-05T16:06:36.087Z"
   },
   {
    "duration": 20,
    "start_time": "2023-05-05T16:06:36.101Z"
   },
   {
    "duration": 126,
    "start_time": "2023-05-05T16:06:36.123Z"
   },
   {
    "duration": 0,
    "start_time": "2023-05-05T16:06:36.251Z"
   },
   {
    "duration": 0,
    "start_time": "2023-05-05T16:06:36.252Z"
   },
   {
    "duration": 1156,
    "start_time": "2023-05-05T16:08:48.570Z"
   },
   {
    "duration": 430,
    "start_time": "2023-05-05T16:08:49.728Z"
   },
   {
    "duration": 46,
    "start_time": "2023-05-05T16:08:50.160Z"
   },
   {
    "duration": 37,
    "start_time": "2023-05-05T16:08:50.208Z"
   },
   {
    "duration": 10,
    "start_time": "2023-05-05T16:08:50.247Z"
   },
   {
    "duration": 32,
    "start_time": "2023-05-05T16:08:50.284Z"
   },
   {
    "duration": 79,
    "start_time": "2023-05-05T16:08:50.319Z"
   },
   {
    "duration": 18,
    "start_time": "2023-05-05T16:08:50.400Z"
   },
   {
    "duration": 265,
    "start_time": "2023-05-05T16:08:50.420Z"
   },
   {
    "duration": 3,
    "start_time": "2023-05-05T16:08:50.687Z"
   },
   {
    "duration": 122,
    "start_time": "2023-05-05T16:08:50.692Z"
   },
   {
    "duration": 36,
    "start_time": "2023-05-05T16:08:50.816Z"
   },
   {
    "duration": 46,
    "start_time": "2023-05-05T16:08:50.855Z"
   },
   {
    "duration": 47,
    "start_time": "2023-05-05T16:08:50.904Z"
   },
   {
    "duration": 13,
    "start_time": "2023-05-05T16:08:50.953Z"
   },
   {
    "duration": 35,
    "start_time": "2023-05-05T16:08:50.968Z"
   },
   {
    "duration": 1114,
    "start_time": "2023-05-05T16:09:50.707Z"
   },
   {
    "duration": 429,
    "start_time": "2023-05-05T16:09:51.824Z"
   },
   {
    "duration": 42,
    "start_time": "2023-05-05T16:09:52.255Z"
   },
   {
    "duration": 40,
    "start_time": "2023-05-05T16:09:52.298Z"
   },
   {
    "duration": 10,
    "start_time": "2023-05-05T16:09:52.340Z"
   },
   {
    "duration": 31,
    "start_time": "2023-05-05T16:09:52.352Z"
   },
   {
    "duration": 61,
    "start_time": "2023-05-05T16:09:52.385Z"
   },
   {
    "duration": 8,
    "start_time": "2023-05-05T16:09:52.448Z"
   },
   {
    "duration": 225,
    "start_time": "2023-05-05T16:09:52.458Z"
   },
   {
    "duration": 6,
    "start_time": "2023-05-05T16:09:52.686Z"
   },
   {
    "duration": 95,
    "start_time": "2023-05-05T16:09:52.695Z"
   },
   {
    "duration": 28,
    "start_time": "2023-05-05T16:09:52.793Z"
   },
   {
    "duration": 13,
    "start_time": "2023-05-05T16:09:52.823Z"
   },
   {
    "duration": 46,
    "start_time": "2023-05-05T16:09:52.840Z"
   },
   {
    "duration": 6,
    "start_time": "2023-05-05T16:09:52.888Z"
   },
   {
    "duration": 36,
    "start_time": "2023-05-05T16:09:52.896Z"
   },
   {
    "duration": 1164,
    "start_time": "2023-05-05T16:10:39.282Z"
   },
   {
    "duration": 399,
    "start_time": "2023-05-05T16:10:40.448Z"
   },
   {
    "duration": 51,
    "start_time": "2023-05-05T16:10:40.849Z"
   },
   {
    "duration": 35,
    "start_time": "2023-05-05T16:10:40.903Z"
   },
   {
    "duration": 10,
    "start_time": "2023-05-05T16:10:40.941Z"
   },
   {
    "duration": 30,
    "start_time": "2023-05-05T16:10:40.953Z"
   },
   {
    "duration": 48,
    "start_time": "2023-05-05T16:10:40.986Z"
   },
   {
    "duration": 6,
    "start_time": "2023-05-05T16:10:41.036Z"
   },
   {
    "duration": 243,
    "start_time": "2023-05-05T16:10:41.044Z"
   },
   {
    "duration": 4,
    "start_time": "2023-05-05T16:10:41.290Z"
   },
   {
    "duration": 89,
    "start_time": "2023-05-05T16:10:41.296Z"
   },
   {
    "duration": 14,
    "start_time": "2023-05-05T16:10:41.387Z"
   },
   {
    "duration": 33,
    "start_time": "2023-05-05T16:10:41.403Z"
   },
   {
    "duration": 5,
    "start_time": "2023-05-05T16:10:41.438Z"
   },
   {
    "duration": 12,
    "start_time": "2023-05-05T16:10:41.445Z"
   },
   {
    "duration": 3354,
    "start_time": "2023-05-05T16:11:24.981Z"
   },
   {
    "duration": 3478,
    "start_time": "2023-05-05T16:11:47.135Z"
   },
   {
    "duration": 5,
    "start_time": "2023-05-05T16:12:35.351Z"
   },
   {
    "duration": 3524,
    "start_time": "2023-05-05T16:12:37.001Z"
   },
   {
    "duration": 5,
    "start_time": "2023-05-05T16:13:04.159Z"
   },
   {
    "duration": 3539,
    "start_time": "2023-05-05T16:13:05.440Z"
   },
   {
    "duration": 3451,
    "start_time": "2023-05-05T16:19:05.104Z"
   },
   {
    "duration": 3771,
    "start_time": "2023-05-05T16:19:16.657Z"
   },
   {
    "duration": 3666,
    "start_time": "2023-05-05T16:19:35.986Z"
   },
   {
    "duration": 1375,
    "start_time": "2023-05-05T16:19:45.683Z"
   },
   {
    "duration": 1420,
    "start_time": "2023-05-05T16:19:53.840Z"
   },
   {
    "duration": 1398,
    "start_time": "2023-05-05T16:19:59.831Z"
   },
   {
    "duration": 4124,
    "start_time": "2023-05-05T16:20:04.736Z"
   },
   {
    "duration": 4086,
    "start_time": "2023-05-05T16:20:17.364Z"
   },
   {
    "duration": 3635,
    "start_time": "2023-05-05T16:21:56.077Z"
   },
   {
    "duration": 4046,
    "start_time": "2023-05-05T16:22:08.801Z"
   },
   {
    "duration": 4086,
    "start_time": "2023-05-05T16:22:42.978Z"
   },
   {
    "duration": 4149,
    "start_time": "2023-05-05T16:23:23.734Z"
   },
   {
    "duration": 1249,
    "start_time": "2023-05-05T16:23:42.064Z"
   },
   {
    "duration": 469,
    "start_time": "2023-05-05T16:23:43.315Z"
   },
   {
    "duration": 55,
    "start_time": "2023-05-05T16:23:43.786Z"
   },
   {
    "duration": 68,
    "start_time": "2023-05-05T16:23:43.843Z"
   },
   {
    "duration": 11,
    "start_time": "2023-05-05T16:23:43.913Z"
   },
   {
    "duration": 9,
    "start_time": "2023-05-05T16:23:43.925Z"
   },
   {
    "duration": 66,
    "start_time": "2023-05-05T16:23:43.936Z"
   },
   {
    "duration": 7,
    "start_time": "2023-05-05T16:23:44.004Z"
   },
   {
    "duration": 186,
    "start_time": "2023-05-05T16:23:44.012Z"
   },
   {
    "duration": 82,
    "start_time": "2023-05-05T16:23:44.203Z"
   },
   {
    "duration": 116,
    "start_time": "2023-05-05T16:23:44.288Z"
   },
   {
    "duration": 16,
    "start_time": "2023-05-05T16:23:44.406Z"
   },
   {
    "duration": 28,
    "start_time": "2023-05-05T16:23:44.424Z"
   },
   {
    "duration": 4,
    "start_time": "2023-05-05T16:23:44.454Z"
   },
   {
    "duration": 4095,
    "start_time": "2023-05-05T16:23:44.461Z"
   },
   {
    "duration": 64,
    "start_time": "2023-05-05T16:27:52.683Z"
   },
   {
    "duration": 65,
    "start_time": "2023-05-05T16:28:01.214Z"
   },
   {
    "duration": 116,
    "start_time": "2023-05-05T16:29:20.555Z"
   },
   {
    "duration": 104,
    "start_time": "2023-05-05T16:32:21.436Z"
   },
   {
    "duration": 1423,
    "start_time": "2023-05-05T16:32:27.043Z"
   },
   {
    "duration": 354,
    "start_time": "2023-05-05T16:32:37.676Z"
   },
   {
    "duration": 393,
    "start_time": "2023-05-05T16:32:49.673Z"
   },
   {
    "duration": 356,
    "start_time": "2023-05-05T16:32:50.097Z"
   },
   {
    "duration": 371,
    "start_time": "2023-05-05T16:33:02.460Z"
   },
   {
    "duration": 3522,
    "start_time": "2023-05-05T16:40:52.680Z"
   },
   {
    "duration": 3521,
    "start_time": "2023-05-05T16:40:59.430Z"
   },
   {
    "duration": 1312,
    "start_time": "2023-05-05T23:00:46.865Z"
   },
   {
    "duration": 1950,
    "start_time": "2023-05-05T23:00:48.186Z"
   },
   {
    "duration": 44,
    "start_time": "2023-05-05T23:00:50.137Z"
   },
   {
    "duration": 48,
    "start_time": "2023-05-05T23:00:50.183Z"
   },
   {
    "duration": 788,
    "start_time": "2023-05-05T23:00:50.234Z"
   },
   {
    "duration": 379,
    "start_time": "2023-05-05T23:00:51.024Z"
   },
   {
    "duration": 410,
    "start_time": "2023-05-05T23:00:51.406Z"
   },
   {
    "duration": 7,
    "start_time": "2023-05-05T23:00:51.818Z"
   },
   {
    "duration": 11,
    "start_time": "2023-05-05T23:00:51.827Z"
   },
   {
    "duration": 57,
    "start_time": "2023-05-05T23:00:51.840Z"
   },
   {
    "duration": 14,
    "start_time": "2023-05-05T23:00:51.899Z"
   },
   {
    "duration": 363,
    "start_time": "2023-05-05T23:00:51.914Z"
   },
   {
    "duration": 7,
    "start_time": "2023-05-05T23:00:52.286Z"
   },
   {
    "duration": 121,
    "start_time": "2023-05-05T23:00:52.304Z"
   },
   {
    "duration": 27,
    "start_time": "2023-05-05T23:00:52.427Z"
   },
   {
    "duration": 34,
    "start_time": "2023-05-05T23:00:52.456Z"
   },
   {
    "duration": 7,
    "start_time": "2023-05-05T23:00:52.511Z"
   },
   {
    "duration": 6459,
    "start_time": "2023-05-05T23:00:52.519Z"
   },
   {
    "duration": 1170,
    "start_time": "2023-05-05T23:01:39.096Z"
   },
   {
    "duration": 373,
    "start_time": "2023-05-05T23:01:40.268Z"
   },
   {
    "duration": 52,
    "start_time": "2023-05-05T23:01:40.643Z"
   },
   {
    "duration": 47,
    "start_time": "2023-05-05T23:01:40.698Z"
   },
   {
    "duration": 613,
    "start_time": "2023-05-05T23:01:40.747Z"
   },
   {
    "duration": 337,
    "start_time": "2023-05-05T23:01:41.361Z"
   },
   {
    "duration": 335,
    "start_time": "2023-05-05T23:01:41.700Z"
   },
   {
    "duration": 10,
    "start_time": "2023-05-05T23:01:42.037Z"
   },
   {
    "duration": 6,
    "start_time": "2023-05-05T23:01:42.048Z"
   },
   {
    "duration": 43,
    "start_time": "2023-05-05T23:01:42.056Z"
   },
   {
    "duration": 90,
    "start_time": "2023-05-05T23:01:42.100Z"
   },
   {
    "duration": 179,
    "start_time": "2023-05-05T23:01:42.192Z"
   },
   {
    "duration": 3,
    "start_time": "2023-05-05T23:01:42.378Z"
   },
   {
    "duration": 108,
    "start_time": "2023-05-05T23:01:42.387Z"
   },
   {
    "duration": 22,
    "start_time": "2023-05-05T23:01:42.497Z"
   },
   {
    "duration": 24,
    "start_time": "2023-05-05T23:01:42.521Z"
   },
   {
    "duration": 4,
    "start_time": "2023-05-05T23:01:42.547Z"
   },
   {
    "duration": 7743,
    "start_time": "2023-05-05T23:01:42.553Z"
   },
   {
    "duration": 7,
    "start_time": "2023-05-05T23:06:34.458Z"
   },
   {
    "duration": 89,
    "start_time": "2023-05-06T10:17:18.057Z"
   },
   {
    "duration": 8,
    "start_time": "2023-05-06T10:17:22.523Z"
   },
   {
    "duration": 11,
    "start_time": "2023-05-06T10:17:36.310Z"
   },
   {
    "duration": 15,
    "start_time": "2023-05-06T10:17:57.694Z"
   },
   {
    "duration": 1172,
    "start_time": "2023-05-06T10:18:04.633Z"
   },
   {
    "duration": 3114,
    "start_time": "2023-05-06T10:18:05.807Z"
   },
   {
    "duration": 50,
    "start_time": "2023-05-06T10:18:08.925Z"
   },
   {
    "duration": 40,
    "start_time": "2023-05-06T10:18:08.976Z"
   },
   {
    "duration": 867,
    "start_time": "2023-05-06T10:18:09.020Z"
   },
   {
    "duration": 453,
    "start_time": "2023-05-06T10:18:09.896Z"
   },
   {
    "duration": 512,
    "start_time": "2023-05-06T10:18:10.351Z"
   },
   {
    "duration": 28,
    "start_time": "2023-05-06T10:18:10.865Z"
   },
   {
    "duration": 5,
    "start_time": "2023-05-06T10:18:10.895Z"
   },
   {
    "duration": 49,
    "start_time": "2023-05-06T10:18:10.902Z"
   },
   {
    "duration": 6,
    "start_time": "2023-05-06T10:18:10.952Z"
   },
   {
    "duration": 122,
    "start_time": "2023-05-06T10:18:10.959Z"
   },
   {
    "duration": 17,
    "start_time": "2023-05-06T10:18:11.089Z"
   },
   {
    "duration": 33,
    "start_time": "2023-05-06T10:18:11.110Z"
   },
   {
    "duration": 81,
    "start_time": "2023-05-06T10:18:11.146Z"
   },
   {
    "duration": 9,
    "start_time": "2023-05-06T10:18:11.229Z"
   },
   {
    "duration": 24,
    "start_time": "2023-05-06T10:18:11.239Z"
   },
   {
    "duration": 16,
    "start_time": "2023-05-06T10:18:11.265Z"
   },
   {
    "duration": 20,
    "start_time": "2023-05-06T10:18:11.283Z"
   },
   {
    "duration": 8181,
    "start_time": "2023-05-06T10:18:11.305Z"
   },
   {
    "duration": 6,
    "start_time": "2023-05-06T10:18:22.040Z"
   },
   {
    "duration": 10,
    "start_time": "2023-05-06T10:18:34.042Z"
   },
   {
    "duration": 10,
    "start_time": "2023-05-06T10:27:33.920Z"
   },
   {
    "duration": 5,
    "start_time": "2023-05-06T10:27:44.643Z"
   },
   {
    "duration": 26,
    "start_time": "2023-05-06T10:49:26.709Z"
   },
   {
    "duration": 1119,
    "start_time": "2023-05-06T10:49:58.118Z"
   },
   {
    "duration": 378,
    "start_time": "2023-05-06T10:49:59.238Z"
   },
   {
    "duration": 30,
    "start_time": "2023-05-06T10:49:59.617Z"
   },
   {
    "duration": 58,
    "start_time": "2023-05-06T10:49:59.649Z"
   },
   {
    "duration": 542,
    "start_time": "2023-05-06T10:49:59.712Z"
   },
   {
    "duration": 358,
    "start_time": "2023-05-06T10:50:00.256Z"
   },
   {
    "duration": 321,
    "start_time": "2023-05-06T10:50:00.616Z"
   },
   {
    "duration": 10,
    "start_time": "2023-05-06T10:50:00.939Z"
   },
   {
    "duration": 65,
    "start_time": "2023-05-06T10:50:00.951Z"
   },
   {
    "duration": 76,
    "start_time": "2023-05-06T10:50:01.018Z"
   },
   {
    "duration": 49,
    "start_time": "2023-05-06T10:50:01.098Z"
   },
   {
    "duration": 174,
    "start_time": "2023-05-06T10:50:01.149Z"
   },
   {
    "duration": 63,
    "start_time": "2023-05-06T10:50:01.324Z"
   },
   {
    "duration": 112,
    "start_time": "2023-05-06T10:50:01.401Z"
   },
   {
    "duration": 54,
    "start_time": "2023-05-06T10:50:01.515Z"
   },
   {
    "duration": 69,
    "start_time": "2023-05-06T10:50:01.571Z"
   },
   {
    "duration": 94,
    "start_time": "2023-05-06T10:50:01.641Z"
   },
   {
    "duration": 23,
    "start_time": "2023-05-06T10:50:01.737Z"
   },
   {
    "duration": 81,
    "start_time": "2023-05-06T10:50:01.761Z"
   },
   {
    "duration": 5412,
    "start_time": "2023-05-06T10:50:01.844Z"
   },
   {
    "duration": 36,
    "start_time": "2023-05-06T10:50:57.366Z"
   },
   {
    "duration": 11,
    "start_time": "2023-05-06T10:56:33.126Z"
   },
   {
    "duration": 10,
    "start_time": "2023-05-06T10:56:57.745Z"
   },
   {
    "duration": 1127,
    "start_time": "2023-05-06T21:21:54.867Z"
   },
   {
    "duration": 1689,
    "start_time": "2023-05-06T21:21:55.996Z"
   },
   {
    "duration": 32,
    "start_time": "2023-05-06T21:21:57.687Z"
   },
   {
    "duration": 38,
    "start_time": "2023-05-06T21:21:57.721Z"
   },
   {
    "duration": 735,
    "start_time": "2023-05-06T21:21:57.761Z"
   },
   {
    "duration": 315,
    "start_time": "2023-05-06T21:21:58.497Z"
   },
   {
    "duration": 393,
    "start_time": "2023-05-06T21:21:58.813Z"
   },
   {
    "duration": 8,
    "start_time": "2023-05-06T21:21:59.208Z"
   },
   {
    "duration": 17,
    "start_time": "2023-05-06T21:21:59.217Z"
   },
   {
    "duration": 38,
    "start_time": "2023-05-06T21:21:59.245Z"
   },
   {
    "duration": 6,
    "start_time": "2023-05-06T21:21:59.285Z"
   },
   {
    "duration": 245,
    "start_time": "2023-05-06T21:21:59.293Z"
   },
   {
    "duration": 8,
    "start_time": "2023-05-06T21:21:59.540Z"
   },
   {
    "duration": 97,
    "start_time": "2023-05-06T21:21:59.550Z"
   },
   {
    "duration": 7,
    "start_time": "2023-05-06T21:21:59.648Z"
   },
   {
    "duration": 11,
    "start_time": "2023-05-06T21:21:59.656Z"
   },
   {
    "duration": 22,
    "start_time": "2023-05-06T21:21:59.669Z"
   },
   {
    "duration": 7,
    "start_time": "2023-05-06T21:21:59.692Z"
   },
   {
    "duration": 4,
    "start_time": "2023-05-06T21:21:59.700Z"
   },
   {
    "duration": 3909,
    "start_time": "2023-05-06T21:21:59.705Z"
   },
   {
    "duration": 1211,
    "start_time": "2023-05-06T21:22:52.709Z"
   },
   {
    "duration": 383,
    "start_time": "2023-05-06T21:22:53.922Z"
   },
   {
    "duration": 45,
    "start_time": "2023-05-06T21:22:54.306Z"
   },
   {
    "duration": 31,
    "start_time": "2023-05-06T21:22:54.352Z"
   },
   {
    "duration": 562,
    "start_time": "2023-05-06T21:22:54.385Z"
   },
   {
    "duration": 316,
    "start_time": "2023-05-06T21:22:54.949Z"
   },
   {
    "duration": 323,
    "start_time": "2023-05-06T21:22:55.266Z"
   },
   {
    "duration": 6,
    "start_time": "2023-05-06T21:22:55.591Z"
   },
   {
    "duration": 28,
    "start_time": "2023-05-06T21:22:55.598Z"
   },
   {
    "duration": 48,
    "start_time": "2023-05-06T21:22:55.628Z"
   },
   {
    "duration": 4,
    "start_time": "2023-05-06T21:22:55.678Z"
   },
   {
    "duration": 260,
    "start_time": "2023-05-06T21:22:55.684Z"
   },
   {
    "duration": 3,
    "start_time": "2023-05-06T21:22:55.946Z"
   },
   {
    "duration": 113,
    "start_time": "2023-05-06T21:22:55.952Z"
   },
   {
    "duration": 5,
    "start_time": "2023-05-06T21:22:56.067Z"
   },
   {
    "duration": 13,
    "start_time": "2023-05-06T21:22:56.073Z"
   },
   {
    "duration": 135,
    "start_time": "2023-05-06T21:22:56.087Z"
   },
   {
    "duration": 0,
    "start_time": "2023-05-06T21:22:56.224Z"
   },
   {
    "duration": 0,
    "start_time": "2023-05-06T21:22:56.225Z"
   },
   {
    "duration": 0,
    "start_time": "2023-05-06T21:22:56.226Z"
   },
   {
    "duration": 1158,
    "start_time": "2023-05-06T21:23:21.833Z"
   },
   {
    "duration": 375,
    "start_time": "2023-05-06T21:23:22.993Z"
   },
   {
    "duration": 33,
    "start_time": "2023-05-06T21:23:23.369Z"
   },
   {
    "duration": 45,
    "start_time": "2023-05-06T21:23:23.404Z"
   },
   {
    "duration": 529,
    "start_time": "2023-05-06T21:23:23.451Z"
   },
   {
    "duration": 332,
    "start_time": "2023-05-06T21:23:23.981Z"
   },
   {
    "duration": 331,
    "start_time": "2023-05-06T21:23:24.314Z"
   },
   {
    "duration": 7,
    "start_time": "2023-05-06T21:23:24.646Z"
   },
   {
    "duration": 21,
    "start_time": "2023-05-06T21:23:24.655Z"
   },
   {
    "duration": 31,
    "start_time": "2023-05-06T21:23:24.677Z"
   },
   {
    "duration": 73,
    "start_time": "2023-05-06T21:23:24.710Z"
   },
   {
    "duration": 154,
    "start_time": "2023-05-06T21:23:24.785Z"
   },
   {
    "duration": 8,
    "start_time": "2023-05-06T21:23:24.943Z"
   },
   {
    "duration": 79,
    "start_time": "2023-05-06T21:23:24.956Z"
   },
   {
    "duration": 10,
    "start_time": "2023-05-06T21:23:25.037Z"
   },
   {
    "duration": 14,
    "start_time": "2023-05-06T21:23:25.051Z"
   },
   {
    "duration": 78,
    "start_time": "2023-05-06T21:23:25.066Z"
   },
   {
    "duration": 7,
    "start_time": "2023-05-06T21:23:25.147Z"
   },
   {
    "duration": 5,
    "start_time": "2023-05-06T21:23:25.155Z"
   },
   {
    "duration": 7512,
    "start_time": "2023-05-06T21:23:25.161Z"
   },
   {
    "duration": 1147,
    "start_time": "2023-05-06T21:23:54.654Z"
   },
   {
    "duration": 374,
    "start_time": "2023-05-06T21:23:55.803Z"
   },
   {
    "duration": 34,
    "start_time": "2023-05-06T21:23:56.178Z"
   },
   {
    "duration": 45,
    "start_time": "2023-05-06T21:23:56.213Z"
   },
   {
    "duration": 608,
    "start_time": "2023-05-06T21:23:56.261Z"
   },
   {
    "duration": 310,
    "start_time": "2023-05-06T21:23:56.871Z"
   },
   {
    "duration": 321,
    "start_time": "2023-05-06T21:23:57.182Z"
   },
   {
    "duration": 7,
    "start_time": "2023-05-06T21:23:57.504Z"
   },
   {
    "duration": 16,
    "start_time": "2023-05-06T21:23:57.512Z"
   },
   {
    "duration": 53,
    "start_time": "2023-05-06T21:23:57.530Z"
   },
   {
    "duration": 5,
    "start_time": "2023-05-06T21:23:57.584Z"
   },
   {
    "duration": 262,
    "start_time": "2023-05-06T21:23:57.590Z"
   },
   {
    "duration": 104,
    "start_time": "2023-05-06T21:23:57.934Z"
   },
   {
    "duration": 25,
    "start_time": "2023-05-06T21:23:58.041Z"
   },
   {
    "duration": 10,
    "start_time": "2023-05-06T21:23:58.068Z"
   },
   {
    "duration": 15,
    "start_time": "2023-05-06T21:23:58.079Z"
   },
   {
    "duration": 26,
    "start_time": "2023-05-06T21:23:58.096Z"
   },
   {
    "duration": 6,
    "start_time": "2023-05-06T21:23:58.123Z"
   },
   {
    "duration": 18,
    "start_time": "2023-05-06T21:23:58.131Z"
   },
   {
    "duration": 9043,
    "start_time": "2023-05-06T21:23:58.150Z"
   },
   {
    "duration": 8,
    "start_time": "2023-05-06T21:25:58.292Z"
   },
   {
    "duration": 12,
    "start_time": "2023-05-06T21:26:40.332Z"
   },
   {
    "duration": 6,
    "start_time": "2023-05-06T21:28:27.386Z"
   },
   {
    "duration": 52,
    "start_time": "2023-05-07T09:15:03.611Z"
   },
   {
    "duration": 1353,
    "start_time": "2023-05-07T09:15:17.891Z"
   },
   {
    "duration": 1429,
    "start_time": "2023-05-07T09:15:19.246Z"
   },
   {
    "duration": 31,
    "start_time": "2023-05-07T09:15:20.677Z"
   },
   {
    "duration": 30,
    "start_time": "2023-05-07T09:15:20.710Z"
   },
   {
    "duration": 836,
    "start_time": "2023-05-07T09:15:20.741Z"
   },
   {
    "duration": 277,
    "start_time": "2023-05-07T09:15:21.579Z"
   },
   {
    "duration": 344,
    "start_time": "2023-05-07T09:15:21.857Z"
   },
   {
    "duration": 9,
    "start_time": "2023-05-07T09:15:22.203Z"
   },
   {
    "duration": 6,
    "start_time": "2023-05-07T09:15:22.213Z"
   },
   {
    "duration": 42,
    "start_time": "2023-05-07T09:15:22.221Z"
   },
   {
    "duration": 4,
    "start_time": "2023-05-07T09:15:22.265Z"
   },
   {
    "duration": 305,
    "start_time": "2023-05-07T09:15:22.270Z"
   },
   {
    "duration": 3,
    "start_time": "2023-05-07T09:15:22.576Z"
   },
   {
    "duration": 93,
    "start_time": "2023-05-07T09:15:22.581Z"
   },
   {
    "duration": 97,
    "start_time": "2023-05-07T09:15:22.676Z"
   },
   {
    "duration": 13,
    "start_time": "2023-05-07T09:15:22.774Z"
   },
   {
    "duration": 19,
    "start_time": "2023-05-07T09:15:22.789Z"
   },
   {
    "duration": 7,
    "start_time": "2023-05-07T09:15:22.809Z"
   },
   {
    "duration": 6,
    "start_time": "2023-05-07T09:15:22.817Z"
   },
   {
    "duration": 9,
    "start_time": "2023-05-07T09:15:22.824Z"
   },
   {
    "duration": 4,
    "start_time": "2023-05-07T09:15:22.834Z"
   },
   {
    "duration": 6489,
    "start_time": "2023-05-07T09:15:22.840Z"
   },
   {
    "duration": 17,
    "start_time": "2023-05-07T09:17:51.074Z"
   },
   {
    "duration": 1135,
    "start_time": "2023-05-07T09:18:06.061Z"
   },
   {
    "duration": 318,
    "start_time": "2023-05-07T09:18:07.197Z"
   },
   {
    "duration": 32,
    "start_time": "2023-05-07T09:18:07.519Z"
   },
   {
    "duration": 45,
    "start_time": "2023-05-07T09:18:07.552Z"
   },
   {
    "duration": 536,
    "start_time": "2023-05-07T09:18:07.598Z"
   },
   {
    "duration": 274,
    "start_time": "2023-05-07T09:18:08.136Z"
   },
   {
    "duration": 283,
    "start_time": "2023-05-07T09:18:08.412Z"
   },
   {
    "duration": 6,
    "start_time": "2023-05-07T09:18:08.696Z"
   },
   {
    "duration": 12,
    "start_time": "2023-05-07T09:18:08.705Z"
   },
   {
    "duration": 42,
    "start_time": "2023-05-07T09:18:08.718Z"
   },
   {
    "duration": 59,
    "start_time": "2023-05-07T09:18:08.761Z"
   },
   {
    "duration": 155,
    "start_time": "2023-05-07T09:18:08.821Z"
   },
   {
    "duration": 96,
    "start_time": "2023-05-07T09:18:08.977Z"
   },
   {
    "duration": 103,
    "start_time": "2023-05-07T09:18:09.075Z"
   },
   {
    "duration": 12,
    "start_time": "2023-05-07T09:18:09.179Z"
   },
   {
    "duration": 24,
    "start_time": "2023-05-07T09:18:09.192Z"
   },
   {
    "duration": 24,
    "start_time": "2023-05-07T09:18:09.218Z"
   },
   {
    "duration": 24,
    "start_time": "2023-05-07T09:18:09.244Z"
   },
   {
    "duration": 28,
    "start_time": "2023-05-07T09:18:09.270Z"
   },
   {
    "duration": 8,
    "start_time": "2023-05-07T09:18:09.299Z"
   },
   {
    "duration": 6,
    "start_time": "2023-05-07T09:18:09.308Z"
   },
   {
    "duration": 2617,
    "start_time": "2023-05-07T09:18:09.316Z"
   },
   {
    "duration": 2663,
    "start_time": "2023-05-07T09:18:32.047Z"
   },
   {
    "duration": 2633,
    "start_time": "2023-05-07T09:18:37.088Z"
   },
   {
    "duration": 2618,
    "start_time": "2023-05-07T09:18:47.979Z"
   },
   {
    "duration": 2693,
    "start_time": "2023-05-07T09:18:55.298Z"
   },
   {
    "duration": 2726,
    "start_time": "2023-05-07T09:19:19.180Z"
   },
   {
    "duration": 6390,
    "start_time": "2023-05-07T10:07:50.809Z"
   },
   {
    "duration": 2611,
    "start_time": "2023-05-07T10:07:57.203Z"
   },
   {
    "duration": 403,
    "start_time": "2023-05-07T10:07:59.898Z"
   },
   {
    "duration": 296,
    "start_time": "2023-05-07T10:08:00.302Z"
   },
   {
    "duration": 4604,
    "start_time": "2023-05-07T10:08:00.602Z"
   },
   {
    "duration": 3088,
    "start_time": "2023-05-07T10:08:05.207Z"
   },
   {
    "duration": 3098,
    "start_time": "2023-05-07T10:08:08.303Z"
   },
   {
    "duration": 187,
    "start_time": "2023-05-07T10:08:11.406Z"
   },
   {
    "duration": 98,
    "start_time": "2023-05-07T10:08:11.598Z"
   },
   {
    "duration": 295,
    "start_time": "2023-05-07T10:08:11.708Z"
   },
   {
    "duration": 92,
    "start_time": "2023-05-07T10:08:12.005Z"
   },
   {
    "duration": 999,
    "start_time": "2023-05-07T10:08:12.099Z"
   },
   {
    "duration": 105,
    "start_time": "2023-05-07T10:08:13.100Z"
   },
   {
    "duration": 4,
    "start_time": "2023-05-07T10:08:13.296Z"
   },
   {
    "duration": 92,
    "start_time": "2023-05-07T10:08:13.302Z"
   },
   {
    "duration": 7,
    "start_time": "2023-05-07T10:08:13.396Z"
   },
   {
    "duration": 289,
    "start_time": "2023-05-07T10:08:13.405Z"
   },
   {
    "duration": 105,
    "start_time": "2023-05-07T10:08:13.695Z"
   },
   {
    "duration": 97,
    "start_time": "2023-05-07T10:08:13.802Z"
   },
   {
    "duration": 102,
    "start_time": "2023-05-07T10:08:13.904Z"
   },
   {
    "duration": 190,
    "start_time": "2023-05-07T10:08:14.008Z"
   },
   {
    "duration": 31989,
    "start_time": "2023-05-07T10:08:14.204Z"
   }
  ],
  "kernelspec": {
   "display_name": "Python 3 (ipykernel)",
   "language": "python",
   "name": "python3"
  },
  "language_info": {
   "codemirror_mode": {
    "name": "ipython",
    "version": 3
   },
   "file_extension": ".py",
   "mimetype": "text/x-python",
   "name": "python",
   "nbconvert_exporter": "python",
   "pygments_lexer": "ipython3",
   "version": "3.9.12"
  },
  "toc": {
   "base_numbering": 1,
   "nav_menu": {
    "height": "167px",
    "width": "275px"
   },
   "number_sections": true,
   "sideBar": true,
   "skip_h1_title": true,
   "title_cell": "Содержание",
   "title_sidebar": "Contents",
   "toc_cell": true,
   "toc_position": {
    "height": "calc(100% - 180px)",
    "left": "10px",
    "top": "150px",
    "width": "240.797px"
   },
   "toc_section_display": true,
   "toc_window_display": true
  },
  "widgets": {
   "application/vnd.jupyter.widget-state+json": {
    "state": {},
    "version_major": 2,
    "version_minor": 0
   }
  }
 },
 "nbformat": 4,
 "nbformat_minor": 2
}
