{
 "cells": [
  {
   "cell_type": "markdown",
   "metadata": {},
   "source": [
    "# Определение стоимости автомобилей"
   ]
  },
  {
   "cell_type": "markdown",
   "metadata": {},
   "source": [
    "Сервис по продаже автомобилей с пробегом «Не бит, не крашен» разрабатывает приложение для привлечения новых клиентов. В нём можно быстро узнать рыночную стоимость своего автомобиля. В вашем распоряжении исторические данные: технические характеристики, комплектации и цены автомобилей. Вам нужно построить модель для определения стоимости. \n",
    "\n",
    "Заказчику важны:\n",
    "\n",
    "- качество предсказания;\n",
    "- скорость предсказания;\n",
    "- время обучения."
   ]
  },
  {
   "cell_type": "markdown",
   "metadata": {},
   "source": [
    "## Подготовка данных"
   ]
  },
  {
   "cell_type": "code",
   "execution_count": 1,
   "metadata": {
    "ExecuteTime": {
     "end_time": "2023-06-19T13:19:00.699912Z",
     "start_time": "2023-06-19T13:18:57.825596Z"
    }
   },
   "outputs": [
    {
     "name": "stdout",
     "output_type": "stream",
     "text": [
      "Requirement already satisfied: catboost in b:\\anaconda\\lib\\site-packages (1.2)\n",
      "Requirement already satisfied: numpy>=1.16.0 in b:\\anaconda\\lib\\site-packages (from catboost) (1.21.5)\n",
      "Requirement already satisfied: pandas>=0.24 in b:\\anaconda\\lib\\site-packages (from catboost) (1.4.2)\n",
      "Requirement already satisfied: scipy in b:\\anaconda\\lib\\site-packages (from catboost) (1.7.3)\n",
      "Requirement already satisfied: plotly in b:\\anaconda\\lib\\site-packages (from catboost) (5.6.0)\n",
      "Requirement already satisfied: graphviz in b:\\anaconda\\lib\\site-packages (from catboost) (0.20.1)\n",
      "Requirement already satisfied: six in b:\\anaconda\\lib\\site-packages (from catboost) (1.16.0)\n",
      "Requirement already satisfied: matplotlib in b:\\anaconda\\lib\\site-packages (from catboost) (3.5.1)\n",
      "Requirement already satisfied: python-dateutil>=2.8.1 in b:\\anaconda\\lib\\site-packages (from pandas>=0.24->catboost) (2.8.2)\n",
      "Requirement already satisfied: pytz>=2020.1 in b:\\anaconda\\lib\\site-packages (from pandas>=0.24->catboost) (2021.3)\n",
      "Requirement already satisfied: fonttools>=4.22.0 in b:\\anaconda\\lib\\site-packages (from matplotlib->catboost) (4.25.0)\n",
      "Requirement already satisfied: cycler>=0.10 in b:\\anaconda\\lib\\site-packages (from matplotlib->catboost) (0.11.0)\n",
      "Requirement already satisfied: packaging>=20.0 in b:\\anaconda\\lib\\site-packages (from matplotlib->catboost) (21.3)\n",
      "Requirement already satisfied: pillow>=6.2.0 in b:\\anaconda\\lib\\site-packages (from matplotlib->catboost) (9.0.1)\n",
      "Requirement already satisfied: kiwisolver>=1.0.1 in b:\\anaconda\\lib\\site-packages (from matplotlib->catboost) (1.3.2)\n",
      "Requirement already satisfied: pyparsing>=2.2.1 in b:\\anaconda\\lib\\site-packages (from matplotlib->catboost) (3.0.4)\n",
      "Requirement already satisfied: tenacity>=6.2.0 in b:\\anaconda\\lib\\site-packages (from plotly->catboost) (8.0.1)\n"
     ]
    }
   ],
   "source": [
    "!pip install catboost"
   ]
  },
  {
   "cell_type": "code",
   "execution_count": 2,
   "metadata": {
    "ExecuteTime": {
     "end_time": "2023-06-19T13:19:03.390717Z",
     "start_time": "2023-06-19T13:19:00.701907Z"
    }
   },
   "outputs": [
    {
     "name": "stdout",
     "output_type": "stream",
     "text": [
      "Requirement already satisfied: lightgbm in b:\\anaconda\\lib\\site-packages (3.3.5)\n",
      "Requirement already satisfied: numpy in b:\\anaconda\\lib\\site-packages (from lightgbm) (1.21.5)\n",
      "Requirement already satisfied: scikit-learn!=0.22.0 in b:\\anaconda\\lib\\site-packages (from lightgbm) (1.0.2)\n",
      "Requirement already satisfied: wheel in b:\\anaconda\\lib\\site-packages (from lightgbm) (0.37.1)\n",
      "Requirement already satisfied: scipy in b:\\anaconda\\lib\\site-packages (from lightgbm) (1.7.3)\n",
      "Requirement already satisfied: threadpoolctl>=2.0.0 in b:\\anaconda\\lib\\site-packages (from scikit-learn!=0.22.0->lightgbm) (2.2.0)\n",
      "Requirement already satisfied: joblib>=0.11 in b:\\anaconda\\lib\\site-packages (from scikit-learn!=0.22.0->lightgbm) (1.1.0)\n"
     ]
    }
   ],
   "source": [
    "!pip install lightgbm"
   ]
  },
  {
   "cell_type": "code",
   "execution_count": 3,
   "metadata": {
    "ExecuteTime": {
     "end_time": "2023-06-19T13:19:05.420291Z",
     "start_time": "2023-06-19T13:19:03.392713Z"
    }
   },
   "outputs": [],
   "source": [
    "import pandas as pd\n",
    "import matplotlib.pyplot as plt\n",
    "import category_encoders as ce\n",
    "from sklearn.preprocessing import OneHotEncoder\n",
    "from sklearn.metrics import mean_squared_error\n",
    "from sklearn.model_selection import train_test_split, RandomizedSearchCV\n",
    "from sklearn.ensemble import RandomForestRegressor\n",
    "from sklearn.dummy import DummyRegressor\n",
    "from catboost import CatBoostRegressor\n",
    "from lightgbm import LGBMRegressor"
   ]
  },
  {
   "cell_type": "code",
   "execution_count": 4,
   "metadata": {
    "ExecuteTime": {
     "end_time": "2023-06-19T13:19:06.062574Z",
     "start_time": "2023-06-19T13:19:05.421289Z"
    }
   },
   "outputs": [
    {
     "data": {
      "text/html": [
       "<div>\n",
       "<style scoped>\n",
       "    .dataframe tbody tr th:only-of-type {\n",
       "        vertical-align: middle;\n",
       "    }\n",
       "\n",
       "    .dataframe tbody tr th {\n",
       "        vertical-align: top;\n",
       "    }\n",
       "\n",
       "    .dataframe thead th {\n",
       "        text-align: right;\n",
       "    }\n",
       "</style>\n",
       "<table border=\"1\" class=\"dataframe\">\n",
       "  <thead>\n",
       "    <tr style=\"text-align: right;\">\n",
       "      <th></th>\n",
       "      <th>DateCrawled</th>\n",
       "      <th>Price</th>\n",
       "      <th>VehicleType</th>\n",
       "      <th>RegistrationYear</th>\n",
       "      <th>Gearbox</th>\n",
       "      <th>Power</th>\n",
       "      <th>Model</th>\n",
       "      <th>Kilometer</th>\n",
       "      <th>RegistrationMonth</th>\n",
       "      <th>FuelType</th>\n",
       "      <th>Brand</th>\n",
       "      <th>Repaired</th>\n",
       "      <th>DateCreated</th>\n",
       "      <th>NumberOfPictures</th>\n",
       "      <th>PostalCode</th>\n",
       "      <th>LastSeen</th>\n",
       "    </tr>\n",
       "  </thead>\n",
       "  <tbody>\n",
       "    <tr>\n",
       "      <th>0</th>\n",
       "      <td>2016-03-24 11:52:17</td>\n",
       "      <td>480</td>\n",
       "      <td>NaN</td>\n",
       "      <td>1993</td>\n",
       "      <td>manual</td>\n",
       "      <td>0</td>\n",
       "      <td>golf</td>\n",
       "      <td>150000</td>\n",
       "      <td>0</td>\n",
       "      <td>petrol</td>\n",
       "      <td>volkswagen</td>\n",
       "      <td>NaN</td>\n",
       "      <td>2016-03-24 00:00:00</td>\n",
       "      <td>0</td>\n",
       "      <td>70435</td>\n",
       "      <td>2016-04-07 03:16:57</td>\n",
       "    </tr>\n",
       "    <tr>\n",
       "      <th>1</th>\n",
       "      <td>2016-03-24 10:58:45</td>\n",
       "      <td>18300</td>\n",
       "      <td>coupe</td>\n",
       "      <td>2011</td>\n",
       "      <td>manual</td>\n",
       "      <td>190</td>\n",
       "      <td>NaN</td>\n",
       "      <td>125000</td>\n",
       "      <td>5</td>\n",
       "      <td>gasoline</td>\n",
       "      <td>audi</td>\n",
       "      <td>yes</td>\n",
       "      <td>2016-03-24 00:00:00</td>\n",
       "      <td>0</td>\n",
       "      <td>66954</td>\n",
       "      <td>2016-04-07 01:46:50</td>\n",
       "    </tr>\n",
       "    <tr>\n",
       "      <th>2</th>\n",
       "      <td>2016-03-14 12:52:21</td>\n",
       "      <td>9800</td>\n",
       "      <td>suv</td>\n",
       "      <td>2004</td>\n",
       "      <td>auto</td>\n",
       "      <td>163</td>\n",
       "      <td>grand</td>\n",
       "      <td>125000</td>\n",
       "      <td>8</td>\n",
       "      <td>gasoline</td>\n",
       "      <td>jeep</td>\n",
       "      <td>NaN</td>\n",
       "      <td>2016-03-14 00:00:00</td>\n",
       "      <td>0</td>\n",
       "      <td>90480</td>\n",
       "      <td>2016-04-05 12:47:46</td>\n",
       "    </tr>\n",
       "    <tr>\n",
       "      <th>3</th>\n",
       "      <td>2016-03-17 16:54:04</td>\n",
       "      <td>1500</td>\n",
       "      <td>small</td>\n",
       "      <td>2001</td>\n",
       "      <td>manual</td>\n",
       "      <td>75</td>\n",
       "      <td>golf</td>\n",
       "      <td>150000</td>\n",
       "      <td>6</td>\n",
       "      <td>petrol</td>\n",
       "      <td>volkswagen</td>\n",
       "      <td>no</td>\n",
       "      <td>2016-03-17 00:00:00</td>\n",
       "      <td>0</td>\n",
       "      <td>91074</td>\n",
       "      <td>2016-03-17 17:40:17</td>\n",
       "    </tr>\n",
       "    <tr>\n",
       "      <th>4</th>\n",
       "      <td>2016-03-31 17:25:20</td>\n",
       "      <td>3600</td>\n",
       "      <td>small</td>\n",
       "      <td>2008</td>\n",
       "      <td>manual</td>\n",
       "      <td>69</td>\n",
       "      <td>fabia</td>\n",
       "      <td>90000</td>\n",
       "      <td>7</td>\n",
       "      <td>gasoline</td>\n",
       "      <td>skoda</td>\n",
       "      <td>no</td>\n",
       "      <td>2016-03-31 00:00:00</td>\n",
       "      <td>0</td>\n",
       "      <td>60437</td>\n",
       "      <td>2016-04-06 10:17:21</td>\n",
       "    </tr>\n",
       "    <tr>\n",
       "      <th>...</th>\n",
       "      <td>...</td>\n",
       "      <td>...</td>\n",
       "      <td>...</td>\n",
       "      <td>...</td>\n",
       "      <td>...</td>\n",
       "      <td>...</td>\n",
       "      <td>...</td>\n",
       "      <td>...</td>\n",
       "      <td>...</td>\n",
       "      <td>...</td>\n",
       "      <td>...</td>\n",
       "      <td>...</td>\n",
       "      <td>...</td>\n",
       "      <td>...</td>\n",
       "      <td>...</td>\n",
       "      <td>...</td>\n",
       "    </tr>\n",
       "    <tr>\n",
       "      <th>354364</th>\n",
       "      <td>2016-03-21 09:50:58</td>\n",
       "      <td>0</td>\n",
       "      <td>NaN</td>\n",
       "      <td>2005</td>\n",
       "      <td>manual</td>\n",
       "      <td>0</td>\n",
       "      <td>colt</td>\n",
       "      <td>150000</td>\n",
       "      <td>7</td>\n",
       "      <td>petrol</td>\n",
       "      <td>mitsubishi</td>\n",
       "      <td>yes</td>\n",
       "      <td>2016-03-21 00:00:00</td>\n",
       "      <td>0</td>\n",
       "      <td>2694</td>\n",
       "      <td>2016-03-21 10:42:49</td>\n",
       "    </tr>\n",
       "    <tr>\n",
       "      <th>354365</th>\n",
       "      <td>2016-03-14 17:48:27</td>\n",
       "      <td>2200</td>\n",
       "      <td>NaN</td>\n",
       "      <td>2005</td>\n",
       "      <td>NaN</td>\n",
       "      <td>0</td>\n",
       "      <td>NaN</td>\n",
       "      <td>20000</td>\n",
       "      <td>1</td>\n",
       "      <td>NaN</td>\n",
       "      <td>sonstige_autos</td>\n",
       "      <td>NaN</td>\n",
       "      <td>2016-03-14 00:00:00</td>\n",
       "      <td>0</td>\n",
       "      <td>39576</td>\n",
       "      <td>2016-04-06 00:46:52</td>\n",
       "    </tr>\n",
       "    <tr>\n",
       "      <th>354366</th>\n",
       "      <td>2016-03-05 19:56:21</td>\n",
       "      <td>1199</td>\n",
       "      <td>convertible</td>\n",
       "      <td>2000</td>\n",
       "      <td>auto</td>\n",
       "      <td>101</td>\n",
       "      <td>fortwo</td>\n",
       "      <td>125000</td>\n",
       "      <td>3</td>\n",
       "      <td>petrol</td>\n",
       "      <td>smart</td>\n",
       "      <td>no</td>\n",
       "      <td>2016-03-05 00:00:00</td>\n",
       "      <td>0</td>\n",
       "      <td>26135</td>\n",
       "      <td>2016-03-11 18:17:12</td>\n",
       "    </tr>\n",
       "    <tr>\n",
       "      <th>354367</th>\n",
       "      <td>2016-03-19 18:57:12</td>\n",
       "      <td>9200</td>\n",
       "      <td>bus</td>\n",
       "      <td>1996</td>\n",
       "      <td>manual</td>\n",
       "      <td>102</td>\n",
       "      <td>transporter</td>\n",
       "      <td>150000</td>\n",
       "      <td>3</td>\n",
       "      <td>gasoline</td>\n",
       "      <td>volkswagen</td>\n",
       "      <td>no</td>\n",
       "      <td>2016-03-19 00:00:00</td>\n",
       "      <td>0</td>\n",
       "      <td>87439</td>\n",
       "      <td>2016-04-07 07:15:26</td>\n",
       "    </tr>\n",
       "    <tr>\n",
       "      <th>354368</th>\n",
       "      <td>2016-03-20 19:41:08</td>\n",
       "      <td>3400</td>\n",
       "      <td>wagon</td>\n",
       "      <td>2002</td>\n",
       "      <td>manual</td>\n",
       "      <td>100</td>\n",
       "      <td>golf</td>\n",
       "      <td>150000</td>\n",
       "      <td>6</td>\n",
       "      <td>gasoline</td>\n",
       "      <td>volkswagen</td>\n",
       "      <td>NaN</td>\n",
       "      <td>2016-03-20 00:00:00</td>\n",
       "      <td>0</td>\n",
       "      <td>40764</td>\n",
       "      <td>2016-03-24 12:45:21</td>\n",
       "    </tr>\n",
       "  </tbody>\n",
       "</table>\n",
       "<p>354369 rows × 16 columns</p>\n",
       "</div>"
      ],
      "text/plain": [
       "                DateCrawled  Price  VehicleType  RegistrationYear Gearbox  \\\n",
       "0       2016-03-24 11:52:17    480          NaN              1993  manual   \n",
       "1       2016-03-24 10:58:45  18300        coupe              2011  manual   \n",
       "2       2016-03-14 12:52:21   9800          suv              2004    auto   \n",
       "3       2016-03-17 16:54:04   1500        small              2001  manual   \n",
       "4       2016-03-31 17:25:20   3600        small              2008  manual   \n",
       "...                     ...    ...          ...               ...     ...   \n",
       "354364  2016-03-21 09:50:58      0          NaN              2005  manual   \n",
       "354365  2016-03-14 17:48:27   2200          NaN              2005     NaN   \n",
       "354366  2016-03-05 19:56:21   1199  convertible              2000    auto   \n",
       "354367  2016-03-19 18:57:12   9200          bus              1996  manual   \n",
       "354368  2016-03-20 19:41:08   3400        wagon              2002  manual   \n",
       "\n",
       "        Power        Model  Kilometer  RegistrationMonth  FuelType  \\\n",
       "0           0         golf     150000                  0    petrol   \n",
       "1         190          NaN     125000                  5  gasoline   \n",
       "2         163        grand     125000                  8  gasoline   \n",
       "3          75         golf     150000                  6    petrol   \n",
       "4          69        fabia      90000                  7  gasoline   \n",
       "...       ...          ...        ...                ...       ...   \n",
       "354364      0         colt     150000                  7    petrol   \n",
       "354365      0          NaN      20000                  1       NaN   \n",
       "354366    101       fortwo     125000                  3    petrol   \n",
       "354367    102  transporter     150000                  3  gasoline   \n",
       "354368    100         golf     150000                  6  gasoline   \n",
       "\n",
       "                 Brand Repaired          DateCreated  NumberOfPictures  \\\n",
       "0           volkswagen      NaN  2016-03-24 00:00:00                 0   \n",
       "1                 audi      yes  2016-03-24 00:00:00                 0   \n",
       "2                 jeep      NaN  2016-03-14 00:00:00                 0   \n",
       "3           volkswagen       no  2016-03-17 00:00:00                 0   \n",
       "4                skoda       no  2016-03-31 00:00:00                 0   \n",
       "...                ...      ...                  ...               ...   \n",
       "354364      mitsubishi      yes  2016-03-21 00:00:00                 0   \n",
       "354365  sonstige_autos      NaN  2016-03-14 00:00:00                 0   \n",
       "354366           smart       no  2016-03-05 00:00:00                 0   \n",
       "354367      volkswagen       no  2016-03-19 00:00:00                 0   \n",
       "354368      volkswagen      NaN  2016-03-20 00:00:00                 0   \n",
       "\n",
       "        PostalCode             LastSeen  \n",
       "0            70435  2016-04-07 03:16:57  \n",
       "1            66954  2016-04-07 01:46:50  \n",
       "2            90480  2016-04-05 12:47:46  \n",
       "3            91074  2016-03-17 17:40:17  \n",
       "4            60437  2016-04-06 10:17:21  \n",
       "...            ...                  ...  \n",
       "354364        2694  2016-03-21 10:42:49  \n",
       "354365       39576  2016-04-06 00:46:52  \n",
       "354366       26135  2016-03-11 18:17:12  \n",
       "354367       87439  2016-04-07 07:15:26  \n",
       "354368       40764  2016-03-24 12:45:21  \n",
       "\n",
       "[354369 rows x 16 columns]"
      ]
     },
     "execution_count": 4,
     "metadata": {},
     "output_type": "execute_result"
    }
   ],
   "source": [
    "df = pd.read_csv('autos.csv') #использовалость для запуска на локальной машине\n",
    "#df = pd.read_csv('/datasets/autos.csv')\n",
    "df\n",
    "\n",
    "\n",
    "#print(df['NumberOfPictures'].unique()) ---- для прооверки кол-ва уникальных значений в столбце NumberOfPictures"
   ]
  },
  {
   "cell_type": "code",
   "execution_count": 5,
   "metadata": {
    "ExecuteTime": {
     "end_time": "2023-06-19T13:19:06.375737Z",
     "start_time": "2023-06-19T13:19:06.063572Z"
    }
   },
   "outputs": [
    {
     "data": {
      "text/plain": [
       "DateCrawled              0\n",
       "Price                    0\n",
       "VehicleType          37490\n",
       "RegistrationYear         0\n",
       "Gearbox              19833\n",
       "Power                    0\n",
       "Model                19705\n",
       "Kilometer                0\n",
       "RegistrationMonth        0\n",
       "FuelType             32895\n",
       "Brand                    0\n",
       "Repaired             71154\n",
       "DateCreated              0\n",
       "NumberOfPictures         0\n",
       "PostalCode               0\n",
       "LastSeen                 0\n",
       "dtype: int64"
      ]
     },
     "execution_count": 5,
     "metadata": {},
     "output_type": "execute_result"
    }
   ],
   "source": [
    "df.isna().sum()"
   ]
  },
  {
   "cell_type": "code",
   "execution_count": 6,
   "metadata": {
    "ExecuteTime": {
     "end_time": "2023-06-19T13:19:06.423609Z",
     "start_time": "2023-06-19T13:19:06.376735Z"
    }
   },
   "outputs": [],
   "source": [
    "df.columns=['date_crawled', 'price', 'vehicle_type', 'registration_year', 'gearbox', 'power', 'model', 'kilometer', \\\n",
    "                 'registration_month', 'fuel_type', 'brand', 'repaired', 'date_created', 'number_of_pictures', 'postal_code', \\\n",
    "                 'last_seen']\n",
    "\n",
    "df.drop(['last_seen'], axis=1, inplace=True)\n",
    "\n",
    "#df['date_crawled'] = pd.to_datetime(df['date_crawled'], format='%Y%m%d %H:%M:%S')\n",
    "#df['date_created'] = pd.to_datetime(df['date_created'], format='%Y%m%d %H:%M:%S')"
   ]
  },
  {
   "cell_type": "code",
   "execution_count": 7,
   "metadata": {
    "ExecuteTime": {
     "end_time": "2023-06-19T13:19:06.702862Z",
     "start_time": "2023-06-19T13:19:06.424607Z"
    }
   },
   "outputs": [
    {
     "name": "stdout",
     "output_type": "stream",
     "text": [
      "<class 'pandas.core.frame.DataFrame'>\n",
      "RangeIndex: 354369 entries, 0 to 354368\n",
      "Data columns (total 15 columns):\n",
      " #   Column              Non-Null Count   Dtype \n",
      "---  ------              --------------   ----- \n",
      " 0   date_crawled        354369 non-null  object\n",
      " 1   price               354369 non-null  int64 \n",
      " 2   vehicle_type        316879 non-null  object\n",
      " 3   registration_year   354369 non-null  int64 \n",
      " 4   gearbox             334536 non-null  object\n",
      " 5   power               354369 non-null  int64 \n",
      " 6   model               334664 non-null  object\n",
      " 7   kilometer           354369 non-null  int64 \n",
      " 8   registration_month  354369 non-null  int64 \n",
      " 9   fuel_type           321474 non-null  object\n",
      " 10  brand               354369 non-null  object\n",
      " 11  repaired            283215 non-null  object\n",
      " 12  date_created        354369 non-null  object\n",
      " 13  number_of_pictures  354369 non-null  int64 \n",
      " 14  postal_code         354369 non-null  int64 \n",
      "dtypes: int64(7), object(8)\n",
      "memory usage: 40.6+ MB\n"
     ]
    }
   ],
   "source": [
    "df.info()"
   ]
  },
  {
   "cell_type": "markdown",
   "metadata": {},
   "source": [
    "В нашем случае, категоральные признаки с пропусками мы никак не можем больше обработать, кроме как удалить, потому что все эти признаки важны для обучения модели и могут влиять на цену автомобиля"
   ]
  },
  {
   "cell_type": "code",
   "execution_count": 8,
   "metadata": {
    "ExecuteTime": {
     "end_time": "2023-06-19T13:19:07.235439Z",
     "start_time": "2023-06-19T13:19:06.703861Z"
    }
   },
   "outputs": [
    {
     "name": "stdout",
     "output_type": "stream",
     "text": [
      "date_crawled          0\n",
      "price                 0\n",
      "vehicle_type          0\n",
      "registration_year     0\n",
      "gearbox               0\n",
      "power                 0\n",
      "model                 0\n",
      "kilometer             0\n",
      "registration_month    0\n",
      "fuel_type             0\n",
      "brand                 0\n",
      "repaired              0\n",
      "date_created          0\n",
      "number_of_pictures    0\n",
      "postal_code           0\n",
      "dtype: int64\n"
     ]
    }
   ],
   "source": [
    "data = df\n",
    "data.fillna('unknown', inplace=True)\n",
    "print(data.isna().sum())"
   ]
  },
  {
   "cell_type": "code",
   "execution_count": 9,
   "metadata": {
    "ExecuteTime": {
     "end_time": "2023-06-19T13:19:07.768015Z",
     "start_time": "2023-06-19T13:19:07.237434Z"
    }
   },
   "outputs": [
    {
     "name": "stdout",
     "output_type": "stream",
     "text": [
      "19\n"
     ]
    },
    {
     "data": {
      "text/html": [
       "<div>\n",
       "<style scoped>\n",
       "    .dataframe tbody tr th:only-of-type {\n",
       "        vertical-align: middle;\n",
       "    }\n",
       "\n",
       "    .dataframe tbody tr th {\n",
       "        vertical-align: top;\n",
       "    }\n",
       "\n",
       "    .dataframe thead th {\n",
       "        text-align: right;\n",
       "    }\n",
       "</style>\n",
       "<table border=\"1\" class=\"dataframe\">\n",
       "  <thead>\n",
       "    <tr style=\"text-align: right;\">\n",
       "      <th></th>\n",
       "      <th>date_crawled</th>\n",
       "      <th>price</th>\n",
       "      <th>vehicle_type</th>\n",
       "      <th>registration_year</th>\n",
       "      <th>gearbox</th>\n",
       "      <th>power</th>\n",
       "      <th>model</th>\n",
       "      <th>kilometer</th>\n",
       "      <th>registration_month</th>\n",
       "      <th>fuel_type</th>\n",
       "      <th>brand</th>\n",
       "      <th>repaired</th>\n",
       "      <th>date_created</th>\n",
       "      <th>number_of_pictures</th>\n",
       "      <th>postal_code</th>\n",
       "    </tr>\n",
       "  </thead>\n",
       "  <tbody>\n",
       "    <tr>\n",
       "      <th>116439</th>\n",
       "      <td>2016-03-22 21:58:18</td>\n",
       "      <td>1500</td>\n",
       "      <td>sedan</td>\n",
       "      <td>2001</td>\n",
       "      <td>manual</td>\n",
       "      <td>116</td>\n",
       "      <td>stilo</td>\n",
       "      <td>150000</td>\n",
       "      <td>11</td>\n",
       "      <td>gasoline</td>\n",
       "      <td>fiat</td>\n",
       "      <td>no</td>\n",
       "      <td>2016-03-22 00:00:00</td>\n",
       "      <td>0</td>\n",
       "      <td>41564</td>\n",
       "    </tr>\n",
       "    <tr>\n",
       "      <th>171088</th>\n",
       "      <td>2016-03-08 18:42:48</td>\n",
       "      <td>1799</td>\n",
       "      <td>coupe</td>\n",
       "      <td>1999</td>\n",
       "      <td>auto</td>\n",
       "      <td>193</td>\n",
       "      <td>clk</td>\n",
       "      <td>20000</td>\n",
       "      <td>7</td>\n",
       "      <td>petrol</td>\n",
       "      <td>mercedes_benz</td>\n",
       "      <td>no</td>\n",
       "      <td>2016-03-08 00:00:00</td>\n",
       "      <td>0</td>\n",
       "      <td>89518</td>\n",
       "    </tr>\n",
       "    <tr>\n",
       "      <th>179521</th>\n",
       "      <td>2016-03-19 13:36:23</td>\n",
       "      <td>8750</td>\n",
       "      <td>small</td>\n",
       "      <td>2012</td>\n",
       "      <td>manual</td>\n",
       "      <td>69</td>\n",
       "      <td>polo</td>\n",
       "      <td>40000</td>\n",
       "      <td>8</td>\n",
       "      <td>petrol</td>\n",
       "      <td>volkswagen</td>\n",
       "      <td>no</td>\n",
       "      <td>2016-03-19 00:00:00</td>\n",
       "      <td>0</td>\n",
       "      <td>96247</td>\n",
       "    </tr>\n",
       "    <tr>\n",
       "      <th>209732</th>\n",
       "      <td>2016-04-02 10:43:57</td>\n",
       "      <td>1990</td>\n",
       "      <td>coupe</td>\n",
       "      <td>2000</td>\n",
       "      <td>manual</td>\n",
       "      <td>125</td>\n",
       "      <td>other</td>\n",
       "      <td>150000</td>\n",
       "      <td>6</td>\n",
       "      <td>petrol</td>\n",
       "      <td>ford</td>\n",
       "      <td>no</td>\n",
       "      <td>2016-04-02 00:00:00</td>\n",
       "      <td>0</td>\n",
       "      <td>53797</td>\n",
       "    </tr>\n",
       "    <tr>\n",
       "      <th>216300</th>\n",
       "      <td>2016-03-21 19:46:53</td>\n",
       "      <td>15299</td>\n",
       "      <td>sedan</td>\n",
       "      <td>2004</td>\n",
       "      <td>auto</td>\n",
       "      <td>367</td>\n",
       "      <td>c_klasse</td>\n",
       "      <td>150000</td>\n",
       "      <td>9</td>\n",
       "      <td>petrol</td>\n",
       "      <td>mercedes_benz</td>\n",
       "      <td>no</td>\n",
       "      <td>2016-03-21 00:00:00</td>\n",
       "      <td>0</td>\n",
       "      <td>22850</td>\n",
       "    </tr>\n",
       "    <tr>\n",
       "      <th>231258</th>\n",
       "      <td>2016-03-28 00:56:10</td>\n",
       "      <td>1000</td>\n",
       "      <td>small</td>\n",
       "      <td>2002</td>\n",
       "      <td>manual</td>\n",
       "      <td>83</td>\n",
       "      <td>other</td>\n",
       "      <td>150000</td>\n",
       "      <td>1</td>\n",
       "      <td>petrol</td>\n",
       "      <td>suzuki</td>\n",
       "      <td>no</td>\n",
       "      <td>2016-03-28 00:00:00</td>\n",
       "      <td>0</td>\n",
       "      <td>66589</td>\n",
       "    </tr>\n",
       "    <tr>\n",
       "      <th>232438</th>\n",
       "      <td>2016-03-22 01:51:32</td>\n",
       "      <td>2000</td>\n",
       "      <td>sedan</td>\n",
       "      <td>1999</td>\n",
       "      <td>manual</td>\n",
       "      <td>150</td>\n",
       "      <td>3er</td>\n",
       "      <td>150000</td>\n",
       "      <td>11</td>\n",
       "      <td>petrol</td>\n",
       "      <td>bmw</td>\n",
       "      <td>no</td>\n",
       "      <td>2016-03-22 00:00:00</td>\n",
       "      <td>0</td>\n",
       "      <td>35683</td>\n",
       "    </tr>\n",
       "    <tr>\n",
       "      <th>254900</th>\n",
       "      <td>2016-03-13 17:06:23</td>\n",
       "      <td>9000</td>\n",
       "      <td>coupe</td>\n",
       "      <td>2005</td>\n",
       "      <td>auto</td>\n",
       "      <td>218</td>\n",
       "      <td>crossfire</td>\n",
       "      <td>60000</td>\n",
       "      <td>3</td>\n",
       "      <td>petrol</td>\n",
       "      <td>chrysler</td>\n",
       "      <td>no</td>\n",
       "      <td>2016-03-13 00:00:00</td>\n",
       "      <td>0</td>\n",
       "      <td>61476</td>\n",
       "    </tr>\n",
       "    <tr>\n",
       "      <th>255297</th>\n",
       "      <td>2016-03-19 20:54:35</td>\n",
       "      <td>1450</td>\n",
       "      <td>small</td>\n",
       "      <td>2001</td>\n",
       "      <td>manual</td>\n",
       "      <td>107</td>\n",
       "      <td>clio</td>\n",
       "      <td>150000</td>\n",
       "      <td>12</td>\n",
       "      <td>petrol</td>\n",
       "      <td>renault</td>\n",
       "      <td>no</td>\n",
       "      <td>2016-03-19 00:00:00</td>\n",
       "      <td>0</td>\n",
       "      <td>51647</td>\n",
       "    </tr>\n",
       "    <tr>\n",
       "      <th>258109</th>\n",
       "      <td>2016-04-03 09:01:15</td>\n",
       "      <td>4699</td>\n",
       "      <td>coupe</td>\n",
       "      <td>2003</td>\n",
       "      <td>auto</td>\n",
       "      <td>218</td>\n",
       "      <td>clk</td>\n",
       "      <td>125000</td>\n",
       "      <td>6</td>\n",
       "      <td>petrol</td>\n",
       "      <td>mercedes_benz</td>\n",
       "      <td>yes</td>\n",
       "      <td>2016-04-03 00:00:00</td>\n",
       "      <td>0</td>\n",
       "      <td>75196</td>\n",
       "    </tr>\n",
       "    <tr>\n",
       "      <th>270999</th>\n",
       "      <td>2016-03-21 10:41:52</td>\n",
       "      <td>10850</td>\n",
       "      <td>wagon</td>\n",
       "      <td>2011</td>\n",
       "      <td>manual</td>\n",
       "      <td>122</td>\n",
       "      <td>octavia</td>\n",
       "      <td>80000</td>\n",
       "      <td>5</td>\n",
       "      <td>petrol</td>\n",
       "      <td>skoda</td>\n",
       "      <td>no</td>\n",
       "      <td>2016-03-21 00:00:00</td>\n",
       "      <td>0</td>\n",
       "      <td>92342</td>\n",
       "    </tr>\n",
       "    <tr>\n",
       "      <th>280012</th>\n",
       "      <td>2016-03-23 19:49:39</td>\n",
       "      <td>1300</td>\n",
       "      <td>small</td>\n",
       "      <td>2001</td>\n",
       "      <td>manual</td>\n",
       "      <td>75</td>\n",
       "      <td>twingo</td>\n",
       "      <td>150000</td>\n",
       "      <td>8</td>\n",
       "      <td>petrol</td>\n",
       "      <td>renault</td>\n",
       "      <td>no</td>\n",
       "      <td>2016-03-23 00:00:00</td>\n",
       "      <td>0</td>\n",
       "      <td>65611</td>\n",
       "    </tr>\n",
       "    <tr>\n",
       "      <th>281155</th>\n",
       "      <td>2016-03-08 14:45:27</td>\n",
       "      <td>1200</td>\n",
       "      <td>sedan</td>\n",
       "      <td>1999</td>\n",
       "      <td>manual</td>\n",
       "      <td>75</td>\n",
       "      <td>golf</td>\n",
       "      <td>150000</td>\n",
       "      <td>11</td>\n",
       "      <td>petrol</td>\n",
       "      <td>volkswagen</td>\n",
       "      <td>no</td>\n",
       "      <td>2016-03-08 00:00:00</td>\n",
       "      <td>0</td>\n",
       "      <td>51069</td>\n",
       "    </tr>\n",
       "    <tr>\n",
       "      <th>296415</th>\n",
       "      <td>2016-03-27 07:36:24</td>\n",
       "      <td>6299</td>\n",
       "      <td>suv</td>\n",
       "      <td>2005</td>\n",
       "      <td>manual</td>\n",
       "      <td>141</td>\n",
       "      <td>tucson</td>\n",
       "      <td>60000</td>\n",
       "      <td>8</td>\n",
       "      <td>petrol</td>\n",
       "      <td>hyundai</td>\n",
       "      <td>no</td>\n",
       "      <td>2016-03-27 00:00:00</td>\n",
       "      <td>0</td>\n",
       "      <td>53111</td>\n",
       "    </tr>\n",
       "    <tr>\n",
       "      <th>301041</th>\n",
       "      <td>2016-04-06 07:25:35</td>\n",
       "      <td>8500</td>\n",
       "      <td>coupe</td>\n",
       "      <td>1991</td>\n",
       "      <td>auto</td>\n",
       "      <td>220</td>\n",
       "      <td>e_klasse</td>\n",
       "      <td>150000</td>\n",
       "      <td>7</td>\n",
       "      <td>petrol</td>\n",
       "      <td>mercedes_benz</td>\n",
       "      <td>no</td>\n",
       "      <td>2016-04-06 00:00:00</td>\n",
       "      <td>0</td>\n",
       "      <td>61184</td>\n",
       "    </tr>\n",
       "    <tr>\n",
       "      <th>303629</th>\n",
       "      <td>2016-03-05 14:13:35</td>\n",
       "      <td>800</td>\n",
       "      <td>wagon</td>\n",
       "      <td>1997</td>\n",
       "      <td>manual</td>\n",
       "      <td>90</td>\n",
       "      <td>golf</td>\n",
       "      <td>150000</td>\n",
       "      <td>1</td>\n",
       "      <td>gasoline</td>\n",
       "      <td>volkswagen</td>\n",
       "      <td>no</td>\n",
       "      <td>2016-03-03 00:00:00</td>\n",
       "      <td>0</td>\n",
       "      <td>57539</td>\n",
       "    </tr>\n",
       "    <tr>\n",
       "      <th>318343</th>\n",
       "      <td>2016-03-24 19:37:21</td>\n",
       "      <td>9500</td>\n",
       "      <td>other</td>\n",
       "      <td>1979</td>\n",
       "      <td>auto</td>\n",
       "      <td>156</td>\n",
       "      <td>other</td>\n",
       "      <td>150000</td>\n",
       "      <td>2</td>\n",
       "      <td>petrol</td>\n",
       "      <td>mercedes_benz</td>\n",
       "      <td>no</td>\n",
       "      <td>2016-03-24 00:00:00</td>\n",
       "      <td>0</td>\n",
       "      <td>58642</td>\n",
       "    </tr>\n",
       "    <tr>\n",
       "      <th>325651</th>\n",
       "      <td>2016-03-18 18:46:15</td>\n",
       "      <td>1999</td>\n",
       "      <td>wagon</td>\n",
       "      <td>2001</td>\n",
       "      <td>manual</td>\n",
       "      <td>131</td>\n",
       "      <td>passat</td>\n",
       "      <td>150000</td>\n",
       "      <td>7</td>\n",
       "      <td>gasoline</td>\n",
       "      <td>volkswagen</td>\n",
       "      <td>no</td>\n",
       "      <td>2016-03-18 00:00:00</td>\n",
       "      <td>0</td>\n",
       "      <td>36391</td>\n",
       "    </tr>\n",
       "    <tr>\n",
       "      <th>353057</th>\n",
       "      <td>2016-03-05 14:16:07</td>\n",
       "      <td>9500</td>\n",
       "      <td>small</td>\n",
       "      <td>2013</td>\n",
       "      <td>manual</td>\n",
       "      <td>105</td>\n",
       "      <td>ibiza</td>\n",
       "      <td>40000</td>\n",
       "      <td>5</td>\n",
       "      <td>petrol</td>\n",
       "      <td>seat</td>\n",
       "      <td>no</td>\n",
       "      <td>2016-03-04 00:00:00</td>\n",
       "      <td>0</td>\n",
       "      <td>61381</td>\n",
       "    </tr>\n",
       "  </tbody>\n",
       "</table>\n",
       "</div>"
      ],
      "text/plain": [
       "               date_crawled  price vehicle_type  registration_year gearbox  \\\n",
       "116439  2016-03-22 21:58:18   1500        sedan               2001  manual   \n",
       "171088  2016-03-08 18:42:48   1799        coupe               1999    auto   \n",
       "179521  2016-03-19 13:36:23   8750        small               2012  manual   \n",
       "209732  2016-04-02 10:43:57   1990        coupe               2000  manual   \n",
       "216300  2016-03-21 19:46:53  15299        sedan               2004    auto   \n",
       "231258  2016-03-28 00:56:10   1000        small               2002  manual   \n",
       "232438  2016-03-22 01:51:32   2000        sedan               1999  manual   \n",
       "254900  2016-03-13 17:06:23   9000        coupe               2005    auto   \n",
       "255297  2016-03-19 20:54:35   1450        small               2001  manual   \n",
       "258109  2016-04-03 09:01:15   4699        coupe               2003    auto   \n",
       "270999  2016-03-21 10:41:52  10850        wagon               2011  manual   \n",
       "280012  2016-03-23 19:49:39   1300        small               2001  manual   \n",
       "281155  2016-03-08 14:45:27   1200        sedan               1999  manual   \n",
       "296415  2016-03-27 07:36:24   6299          suv               2005  manual   \n",
       "301041  2016-04-06 07:25:35   8500        coupe               1991    auto   \n",
       "303629  2016-03-05 14:13:35    800        wagon               1997  manual   \n",
       "318343  2016-03-24 19:37:21   9500        other               1979    auto   \n",
       "325651  2016-03-18 18:46:15   1999        wagon               2001  manual   \n",
       "353057  2016-03-05 14:16:07   9500        small               2013  manual   \n",
       "\n",
       "        power      model  kilometer  registration_month fuel_type  \\\n",
       "116439    116      stilo     150000                  11  gasoline   \n",
       "171088    193        clk      20000                   7    petrol   \n",
       "179521     69       polo      40000                   8    petrol   \n",
       "209732    125      other     150000                   6    petrol   \n",
       "216300    367   c_klasse     150000                   9    petrol   \n",
       "231258     83      other     150000                   1    petrol   \n",
       "232438    150        3er     150000                  11    petrol   \n",
       "254900    218  crossfire      60000                   3    petrol   \n",
       "255297    107       clio     150000                  12    petrol   \n",
       "258109    218        clk     125000                   6    petrol   \n",
       "270999    122    octavia      80000                   5    petrol   \n",
       "280012     75     twingo     150000                   8    petrol   \n",
       "281155     75       golf     150000                  11    petrol   \n",
       "296415    141     tucson      60000                   8    petrol   \n",
       "301041    220   e_klasse     150000                   7    petrol   \n",
       "303629     90       golf     150000                   1  gasoline   \n",
       "318343    156      other     150000                   2    petrol   \n",
       "325651    131     passat     150000                   7  gasoline   \n",
       "353057    105      ibiza      40000                   5    petrol   \n",
       "\n",
       "                brand repaired         date_created  number_of_pictures  \\\n",
       "116439           fiat       no  2016-03-22 00:00:00                   0   \n",
       "171088  mercedes_benz       no  2016-03-08 00:00:00                   0   \n",
       "179521     volkswagen       no  2016-03-19 00:00:00                   0   \n",
       "209732           ford       no  2016-04-02 00:00:00                   0   \n",
       "216300  mercedes_benz       no  2016-03-21 00:00:00                   0   \n",
       "231258         suzuki       no  2016-03-28 00:00:00                   0   \n",
       "232438            bmw       no  2016-03-22 00:00:00                   0   \n",
       "254900       chrysler       no  2016-03-13 00:00:00                   0   \n",
       "255297        renault       no  2016-03-19 00:00:00                   0   \n",
       "258109  mercedes_benz      yes  2016-04-03 00:00:00                   0   \n",
       "270999          skoda       no  2016-03-21 00:00:00                   0   \n",
       "280012        renault       no  2016-03-23 00:00:00                   0   \n",
       "281155     volkswagen       no  2016-03-08 00:00:00                   0   \n",
       "296415        hyundai       no  2016-03-27 00:00:00                   0   \n",
       "301041  mercedes_benz       no  2016-04-06 00:00:00                   0   \n",
       "303629     volkswagen       no  2016-03-03 00:00:00                   0   \n",
       "318343  mercedes_benz       no  2016-03-24 00:00:00                   0   \n",
       "325651     volkswagen       no  2016-03-18 00:00:00                   0   \n",
       "353057           seat       no  2016-03-04 00:00:00                   0   \n",
       "\n",
       "        postal_code  \n",
       "116439        41564  \n",
       "171088        89518  \n",
       "179521        96247  \n",
       "209732        53797  \n",
       "216300        22850  \n",
       "231258        66589  \n",
       "232438        35683  \n",
       "254900        61476  \n",
       "255297        51647  \n",
       "258109        75196  \n",
       "270999        92342  \n",
       "280012        65611  \n",
       "281155        51069  \n",
       "296415        53111  \n",
       "301041        61184  \n",
       "303629        57539  \n",
       "318343        58642  \n",
       "325651        36391  \n",
       "353057        61381  "
      ]
     },
     "metadata": {},
     "output_type": "display_data"
    }
   ],
   "source": [
    "print(data.duplicated().sum())\n",
    "display(data[data.duplicated()])"
   ]
  },
  {
   "cell_type": "code",
   "execution_count": 10,
   "metadata": {
    "ExecuteTime": {
     "end_time": "2023-06-19T13:19:08.314553Z",
     "start_time": "2023-06-19T13:19:07.769012Z"
    },
    "scrolled": true
   },
   "outputs": [
    {
     "data": {
      "text/plain": [
       "0"
      ]
     },
     "execution_count": 10,
     "metadata": {},
     "output_type": "execute_result"
    }
   ],
   "source": [
    "data = data.drop_duplicates().reset_index(drop=True)\n",
    "data.duplicated().sum()"
   ]
  },
  {
   "cell_type": "code",
   "execution_count": 11,
   "metadata": {
    "ExecuteTime": {
     "end_time": "2023-06-19T13:19:08.330511Z",
     "start_time": "2023-06-19T13:19:08.315552Z"
    }
   },
   "outputs": [],
   "source": [
    "cat = ['vehicle_type', 'gearbox', 'model', 'fuel_type', 'brand', 'repaired']\n",
    "col = ['price', 'registration_year', 'power', 'kilometer', 'registration_month', 'number_of_pictures', 'postal_code']"
   ]
  },
  {
   "cell_type": "code",
   "execution_count": 12,
   "metadata": {
    "ExecuteTime": {
     "end_time": "2023-06-19T13:19:08.717476Z",
     "start_time": "2023-06-19T13:19:08.331509Z"
    }
   },
   "outputs": [
    {
     "name": "stdout",
     "output_type": "stream",
     "text": [
      "count                  354350\n",
      "unique                 271174\n",
      "top       2016-03-24 14:49:47\n",
      "freq                        7\n",
      "Name: date_crawled, dtype: object \n",
      "\n",
      "count    354350.000000\n",
      "mean       4416.618626\n",
      "std        4514.167595\n",
      "min           0.000000\n",
      "25%        1050.000000\n",
      "50%        2700.000000\n",
      "75%        6400.000000\n",
      "max       20000.000000\n",
      "Name: price, dtype: float64 \n",
      "\n",
      "count     354350\n",
      "unique         9\n",
      "top        sedan\n",
      "freq       91453\n",
      "Name: vehicle_type, dtype: object \n",
      "\n",
      "count    354350.000000\n",
      "mean       2004.234610\n",
      "std          90.230358\n",
      "min        1000.000000\n",
      "25%        1999.000000\n",
      "50%        2003.000000\n",
      "75%        2008.000000\n",
      "max        9999.000000\n",
      "Name: registration_year, dtype: float64 \n",
      "\n",
      "count     354350\n",
      "unique         3\n",
      "top       manual\n",
      "freq      268238\n",
      "Name: gearbox, dtype: object \n",
      "\n",
      "count    354350.000000\n",
      "mean        110.092448\n",
      "std         189.854610\n",
      "min           0.000000\n",
      "25%          69.000000\n",
      "50%         105.000000\n",
      "75%         143.000000\n",
      "max       20000.000000\n",
      "Name: power, dtype: float64 \n",
      "\n",
      "count     354350\n",
      "unique       251\n",
      "top         golf\n",
      "freq       29230\n",
      "Name: model, dtype: object \n",
      "\n",
      "count    354350.000000\n",
      "mean     128211.768026\n",
      "std       37904.697157\n",
      "min        5000.000000\n",
      "25%      125000.000000\n",
      "50%      150000.000000\n",
      "75%      150000.000000\n",
      "max      150000.000000\n",
      "Name: kilometer, dtype: float64 \n",
      "\n",
      "count    354350.000000\n",
      "mean          5.714590\n",
      "std           3.726437\n",
      "min           0.000000\n",
      "25%           3.000000\n",
      "50%           6.000000\n",
      "75%           9.000000\n",
      "max          12.000000\n",
      "Name: registration_month, dtype: float64 \n",
      "\n",
      "count     354350\n",
      "unique         8\n",
      "top       petrol\n",
      "freq      216336\n",
      "Name: fuel_type, dtype: object \n",
      "\n",
      "count         354350\n",
      "unique            40\n",
      "top       volkswagen\n",
      "freq           77009\n",
      "Name: brand, dtype: object \n",
      "\n",
      "count     354350\n",
      "unique         3\n",
      "top           no\n",
      "freq      247143\n",
      "Name: repaired, dtype: object \n",
      "\n",
      "count                  354350\n",
      "unique                    109\n",
      "top       2016-04-03 00:00:00\n",
      "freq                    13718\n",
      "Name: date_created, dtype: object \n",
      "\n",
      "count    354350.0\n",
      "mean          0.0\n",
      "std           0.0\n",
      "min           0.0\n",
      "25%           0.0\n",
      "50%           0.0\n",
      "75%           0.0\n",
      "max           0.0\n",
      "Name: number_of_pictures, dtype: float64 \n",
      "\n",
      "count    354350.000000\n",
      "mean      50508.203206\n",
      "std       25783.338103\n",
      "min        1067.000000\n",
      "25%       30165.000000\n",
      "50%       49406.000000\n",
      "75%       71083.000000\n",
      "max       99998.000000\n",
      "Name: postal_code, dtype: float64 \n",
      "\n"
     ]
    }
   ],
   "source": [
    "for i in data.columns:\n",
    "    print(data[i].describe(), '\\n')"
   ]
  },
  {
   "cell_type": "code",
   "execution_count": 13,
   "metadata": {
    "ExecuteTime": {
     "end_time": "2023-06-19T13:19:09.341807Z",
     "start_time": "2023-06-19T13:19:08.718474Z"
    }
   },
   "outputs": [
    {
     "name": "stdout",
     "output_type": "stream",
     "text": [
      "price\n"
     ]
    },
    {
     "data": {
      "image/png": "[encoded data removed]",
      "text/plain": [
       "<Figure size 432x288 with 1 Axes>"
      ]
     },
     "metadata": {
      "needs_background": "light"
     },
     "output_type": "display_data"
    },
    {
     "name": "stdout",
     "output_type": "stream",
     "text": [
      "registration_year\n"
     ]
    },
    {
     "data": {
      "image/png": "[encoded data removed]",
      "text/plain": [
       "<Figure size 432x288 with 1 Axes>"
      ]
     },
     "metadata": {
      "needs_background": "light"
     },
     "output_type": "display_data"
    },
    {
     "name": "stdout",
     "output_type": "stream",
     "text": [
      "power\n"
     ]
    },
    {
     "data": {
      "image/png": "[encoded data removed]",
      "text/plain": [
       "<Figure size 432x288 with 1 Axes>"
      ]
     },
     "metadata": {
      "needs_background": "light"
     },
     "output_type": "display_data"
    },
    {
     "name": "stdout",
     "output_type": "stream",
     "text": [
      "kilometer\n"
     ]
    },
    {
     "data": {
      "image/png": "[encoded data removed]",
      "text/plain": [
       "<Figure size 432x288 with 1 Axes>"
      ]
     },
     "metadata": {
      "needs_background": "light"
     },
     "output_type": "display_data"
    },
    {
     "name": "stdout",
     "output_type": "stream",
     "text": [
      "registration_month\n"
     ]
    },
    {
     "data": {
      "image/png": "[encoded data removed]",
      "text/plain": [
       "<Figure size 432x288 with 1 Axes>"
      ]
     },
     "metadata": {
      "needs_background": "light"
     },
     "output_type": "display_data"
    },
    {
     "name": "stdout",
     "output_type": "stream",
     "text": [
      "number_of_pictures\n"
     ]
    },
    {
     "data": {
      "image/png": "[encoded data removed]",
      "text/plain": [
       "<Figure size 432x288 with 1 Axes>"
      ]
     },
     "metadata": {
      "needs_background": "light"
     },
     "output_type": "display_data"
    },
    {
     "name": "stdout",
     "output_type": "stream",
     "text": [
      "postal_code\n"
     ]
    },
    {
     "data": {
      "image/png": "[encoded data removed]",
      "text/plain": [
       "<Figure size 432x288 with 1 Axes>"
      ]
     },
     "metadata": {
      "needs_background": "light"
     },
     "output_type": "display_data"
    }
   ],
   "source": [
    "for i in col:\n",
    "    plt.hist(data[i], label=i, density=True)\n",
    "    print(i)\n",
    "    plt.show()"
   ]
  },
  {
   "cell_type": "code",
   "execution_count": 14,
   "metadata": {
    "ExecuteTime": {
     "end_time": "2023-06-19T13:19:09.388682Z",
     "start_time": "2023-06-19T13:19:09.342805Z"
    }
   },
   "outputs": [
    {
     "name": "stdout",
     "output_type": "stream",
     "text": [
      "[0]\n"
     ]
    }
   ],
   "source": [
    "print(data['number_of_pictures'].unique()) # как можно заметить, столбец number_of_pictures не имеет никаких больше значений, кроме как 0, \\\n",
    "                                  #поэтому его можно удалить \n",
    "    \n",
    "data.drop(['number_of_pictures'], axis=1, inplace=True)\n"
   ]
  },
  {
   "cell_type": "code",
   "execution_count": 15,
   "metadata": {
    "ExecuteTime": {
     "end_time": "2023-06-19T13:19:11.922907Z",
     "start_time": "2023-06-19T13:19:09.389681Z"
    }
   },
   "outputs": [
    {
     "name": "stdout",
     "output_type": "stream",
     "text": [
      "2015\n"
     ]
    }
   ],
   "source": [
    "array = []\n",
    "for i in range(data['date_crawled'].shape[0]):\n",
    "    array.append(int(data.loc[i, 'date_crawled'][:4]))\n",
    "\n",
    "data = data[data['registration_year'] < max(array)]\n",
    "print(max(data['registration_year'].unique()))"
   ]
  },
  {
   "cell_type": "code",
   "execution_count": 16,
   "metadata": {
    "ExecuteTime": {
     "end_time": "2023-06-19T13:19:11.937867Z",
     "start_time": "2023-06-19T13:19:11.923905Z"
    }
   },
   "outputs": [
    {
     "name": "stdout",
     "output_type": "stream",
     "text": [
      "9390\n"
     ]
    }
   ],
   "source": [
    "print(data[data['price'] == 0]['price'].count())"
   ]
  },
  {
   "cell_type": "code",
   "execution_count": 17,
   "metadata": {
    "ExecuteTime": {
     "end_time": "2023-06-19T13:19:11.983744Z",
     "start_time": "2023-06-19T13:19:11.938865Z"
    }
   },
   "outputs": [
    {
     "name": "stdout",
     "output_type": "stream",
     "text": [
      "0\n"
     ]
    }
   ],
   "source": [
    "data = data[data['price'] != 0]\n",
    "print(data[data['price'] == 0]['price'].count())"
   ]
  },
  {
   "cell_type": "code",
   "execution_count": 18,
   "metadata": {
    "ExecuteTime": {
     "end_time": "2023-06-19T13:19:12.014662Z",
     "start_time": "2023-06-19T13:19:11.984742Z"
    }
   },
   "outputs": [
    {
     "data": {
      "text/plain": [
       "array(['unknown', 'coupe', 'suv', 'small', 'sedan', 'convertible', 'bus',\n",
       "       'wagon', 'other'], dtype=object)"
      ]
     },
     "execution_count": 18,
     "metadata": {},
     "output_type": "execute_result"
    }
   ],
   "source": [
    "data['vehicle_type'].unique()"
   ]
  },
  {
   "cell_type": "code",
   "execution_count": 19,
   "metadata": {
    "ExecuteTime": {
     "end_time": "2023-06-19T13:19:12.107414Z",
     "start_time": "2023-06-19T13:19:12.015660Z"
    }
   },
   "outputs": [
    {
     "data": {
      "text/plain": [
       "(array([ 35636.,  97977., 111489.,  52131.,  15908.,   4262.,   2318.,\n",
       "           418.,    156.,    154.]),\n",
       " array([  0.,  50., 100., 150., 200., 250., 300., 350., 400., 450., 500.]),\n",
       " <BarContainer object of 10 artists>)"
      ]
     },
     "execution_count": 19,
     "metadata": {},
     "output_type": "execute_result"
    },
    {
     "data": {
      "image/png": "[encoded data removed]",
      "text/plain": [
       "<Figure size 432x288 with 1 Axes>"
      ]
     },
     "metadata": {
      "needs_background": "light"
     },
     "output_type": "display_data"
    }
   ],
   "source": [
    "plt.hist(data['power'], range=(0, 500))"
   ]
  },
  {
   "cell_type": "code",
   "execution_count": 20,
   "metadata": {
    "ExecuteTime": {
     "end_time": "2023-06-19T13:19:12.153291Z",
     "start_time": "2023-06-19T13:19:12.108411Z"
    },
    "scrolled": true
   },
   "outputs": [
    {
     "data": {
      "text/plain": [
       "count    280635.000000\n",
       "mean        123.462964\n",
       "std          52.456764\n",
       "min          51.000000\n",
       "25%          83.000000\n",
       "50%         116.000000\n",
       "75%         150.000000\n",
       "max         490.000000\n",
       "Name: power, dtype: float64"
      ]
     },
     "execution_count": 20,
     "metadata": {},
     "output_type": "execute_result"
    }
   ],
   "source": [
    "data = data[(data['power'] < 500) & (data['power'] > 50)]\n",
    "data['power'].describe()"
   ]
  },
  {
   "cell_type": "code",
   "execution_count": 21,
   "metadata": {
    "ExecuteTime": {
     "end_time": "2023-06-19T13:19:12.185206Z",
     "start_time": "2023-06-19T13:19:12.154289Z"
    }
   },
   "outputs": [
    {
     "name": "stdout",
     "output_type": "stream",
     "text": [
      "[ 5  8  6  7 10  0 12 11  2  3  1  4  9]\n",
      "20248\n",
      "15509\n",
      "2015\n",
      "2015\n"
     ]
    }
   ],
   "source": [
    "print(data['registration_month'].unique())\n",
    "print(data[data['registration_month'] == 12]['registration_year'].count())\n",
    "print(data[data['registration_month'] == 0]['registration_year'].count())\n",
    "print(max(data[data['registration_month'] == 12]['registration_year'].unique()))\n",
    "print(max(data[data['registration_month'] == 0]['registration_year'].unique()))"
   ]
  },
  {
   "cell_type": "code",
   "execution_count": 22,
   "metadata": {
    "ExecuteTime": {
     "end_time": "2023-06-19T13:19:12.201163Z",
     "start_time": "2023-06-19T13:19:12.186204Z"
    }
   },
   "outputs": [],
   "source": [
    "data['registration_month'] = data[data['registration_month'] == 0]['registration_month'] = 1 "
   ]
  },
  {
   "cell_type": "code",
   "execution_count": 23,
   "metadata": {
    "ExecuteTime": {
     "end_time": "2023-06-19T13:19:12.216123Z",
     "start_time": "2023-06-19T13:19:12.202161Z"
    }
   },
   "outputs": [
    {
     "name": "stdout",
     "output_type": "stream",
     "text": [
      "0\n"
     ]
    }
   ],
   "source": [
    "print(data[data['registration_month'] == 0]['registration_month'].count())"
   ]
  },
  {
   "cell_type": "code",
   "execution_count": 24,
   "metadata": {
    "ExecuteTime": {
     "end_time": "2023-06-19T13:19:12.246043Z",
     "start_time": "2023-06-19T13:19:12.217121Z"
    }
   },
   "outputs": [
    {
     "data": {
      "text/plain": [
       "array(['gasoline', 'petrol', 'unknown', 'lpg', 'other', 'hybrid', 'cng',\n",
       "       'electric'], dtype=object)"
      ]
     },
     "execution_count": 24,
     "metadata": {},
     "output_type": "execute_result"
    }
   ],
   "source": [
    "data['fuel_type'].unique()"
   ]
  },
  {
   "cell_type": "code",
   "execution_count": 25,
   "metadata": {
    "ExecuteTime": {
     "end_time": "2023-06-19T13:19:12.261003Z",
     "start_time": "2023-06-19T13:19:12.247041Z"
    }
   },
   "outputs": [
    {
     "data": {
      "text/plain": [
       "8102"
      ]
     },
     "execution_count": 25,
     "metadata": {},
     "output_type": "execute_result"
    }
   ],
   "source": [
    "data['postal_code'].nunique()"
   ]
  },
  {
   "cell_type": "markdown",
   "metadata": {},
   "source": [
    "В остальных случаях изменять ничего не нужно. Осталось удалить столбец date_crawled, ведь это информация не нужна моделе для обучения. Данный столбец существует исключительно для предобработки и нашего удобства"
   ]
  },
  {
   "cell_type": "markdown",
   "metadata": {},
   "source": [
    "## Обучение моделей"
   ]
  },
  {
   "cell_type": "code",
   "execution_count": 26,
   "metadata": {
    "ExecuteTime": {
     "end_time": "2023-06-19T13:19:12.276961Z",
     "start_time": "2023-06-19T13:19:12.262001Z"
    }
   },
   "outputs": [
    {
     "data": {
      "text/html": [
       "<div>\n",
       "<style scoped>\n",
       "    .dataframe tbody tr th:only-of-type {\n",
       "        vertical-align: middle;\n",
       "    }\n",
       "\n",
       "    .dataframe tbody tr th {\n",
       "        vertical-align: top;\n",
       "    }\n",
       "\n",
       "    .dataframe thead th {\n",
       "        text-align: right;\n",
       "    }\n",
       "</style>\n",
       "<table border=\"1\" class=\"dataframe\">\n",
       "  <thead>\n",
       "    <tr style=\"text-align: right;\">\n",
       "      <th></th>\n",
       "      <th>date_crawled</th>\n",
       "      <th>price</th>\n",
       "      <th>vehicle_type</th>\n",
       "      <th>registration_year</th>\n",
       "      <th>gearbox</th>\n",
       "      <th>power</th>\n",
       "      <th>model</th>\n",
       "      <th>kilometer</th>\n",
       "      <th>registration_month</th>\n",
       "      <th>fuel_type</th>\n",
       "      <th>brand</th>\n",
       "      <th>repaired</th>\n",
       "      <th>date_created</th>\n",
       "      <th>postal_code</th>\n",
       "    </tr>\n",
       "  </thead>\n",
       "  <tbody>\n",
       "    <tr>\n",
       "      <th>1</th>\n",
       "      <td>2016-03-24 10:58:45</td>\n",
       "      <td>18300</td>\n",
       "      <td>coupe</td>\n",
       "      <td>2011</td>\n",
       "      <td>manual</td>\n",
       "      <td>190</td>\n",
       "      <td>unknown</td>\n",
       "      <td>125000</td>\n",
       "      <td>1</td>\n",
       "      <td>gasoline</td>\n",
       "      <td>audi</td>\n",
       "      <td>yes</td>\n",
       "      <td>2016-03-24 00:00:00</td>\n",
       "      <td>66954</td>\n",
       "    </tr>\n",
       "    <tr>\n",
       "      <th>2</th>\n",
       "      <td>2016-03-14 12:52:21</td>\n",
       "      <td>9800</td>\n",
       "      <td>suv</td>\n",
       "      <td>2004</td>\n",
       "      <td>auto</td>\n",
       "      <td>163</td>\n",
       "      <td>grand</td>\n",
       "      <td>125000</td>\n",
       "      <td>1</td>\n",
       "      <td>gasoline</td>\n",
       "      <td>jeep</td>\n",
       "      <td>unknown</td>\n",
       "      <td>2016-03-14 00:00:00</td>\n",
       "      <td>90480</td>\n",
       "    </tr>\n",
       "    <tr>\n",
       "      <th>3</th>\n",
       "      <td>2016-03-17 16:54:04</td>\n",
       "      <td>1500</td>\n",
       "      <td>small</td>\n",
       "      <td>2001</td>\n",
       "      <td>manual</td>\n",
       "      <td>75</td>\n",
       "      <td>golf</td>\n",
       "      <td>150000</td>\n",
       "      <td>1</td>\n",
       "      <td>petrol</td>\n",
       "      <td>volkswagen</td>\n",
       "      <td>no</td>\n",
       "      <td>2016-03-17 00:00:00</td>\n",
       "      <td>91074</td>\n",
       "    </tr>\n",
       "    <tr>\n",
       "      <th>4</th>\n",
       "      <td>2016-03-31 17:25:20</td>\n",
       "      <td>3600</td>\n",
       "      <td>small</td>\n",
       "      <td>2008</td>\n",
       "      <td>manual</td>\n",
       "      <td>69</td>\n",
       "      <td>fabia</td>\n",
       "      <td>90000</td>\n",
       "      <td>1</td>\n",
       "      <td>gasoline</td>\n",
       "      <td>skoda</td>\n",
       "      <td>no</td>\n",
       "      <td>2016-03-31 00:00:00</td>\n",
       "      <td>60437</td>\n",
       "    </tr>\n",
       "    <tr>\n",
       "      <th>5</th>\n",
       "      <td>2016-04-04 17:36:23</td>\n",
       "      <td>650</td>\n",
       "      <td>sedan</td>\n",
       "      <td>1995</td>\n",
       "      <td>manual</td>\n",
       "      <td>102</td>\n",
       "      <td>3er</td>\n",
       "      <td>150000</td>\n",
       "      <td>1</td>\n",
       "      <td>petrol</td>\n",
       "      <td>bmw</td>\n",
       "      <td>yes</td>\n",
       "      <td>2016-04-04 00:00:00</td>\n",
       "      <td>33775</td>\n",
       "    </tr>\n",
       "    <tr>\n",
       "      <th>...</th>\n",
       "      <td>...</td>\n",
       "      <td>...</td>\n",
       "      <td>...</td>\n",
       "      <td>...</td>\n",
       "      <td>...</td>\n",
       "      <td>...</td>\n",
       "      <td>...</td>\n",
       "      <td>...</td>\n",
       "      <td>...</td>\n",
       "      <td>...</td>\n",
       "      <td>...</td>\n",
       "      <td>...</td>\n",
       "      <td>...</td>\n",
       "      <td>...</td>\n",
       "    </tr>\n",
       "    <tr>\n",
       "      <th>354340</th>\n",
       "      <td>2016-03-28 13:48:07</td>\n",
       "      <td>7900</td>\n",
       "      <td>sedan</td>\n",
       "      <td>2010</td>\n",
       "      <td>manual</td>\n",
       "      <td>140</td>\n",
       "      <td>golf</td>\n",
       "      <td>150000</td>\n",
       "      <td>1</td>\n",
       "      <td>gasoline</td>\n",
       "      <td>volkswagen</td>\n",
       "      <td>no</td>\n",
       "      <td>2016-03-28 00:00:00</td>\n",
       "      <td>75223</td>\n",
       "    </tr>\n",
       "    <tr>\n",
       "      <th>354343</th>\n",
       "      <td>2016-03-19 19:53:49</td>\n",
       "      <td>3200</td>\n",
       "      <td>sedan</td>\n",
       "      <td>2004</td>\n",
       "      <td>manual</td>\n",
       "      <td>225</td>\n",
       "      <td>leon</td>\n",
       "      <td>150000</td>\n",
       "      <td>1</td>\n",
       "      <td>petrol</td>\n",
       "      <td>seat</td>\n",
       "      <td>yes</td>\n",
       "      <td>2016-03-19 00:00:00</td>\n",
       "      <td>96465</td>\n",
       "    </tr>\n",
       "    <tr>\n",
       "      <th>354347</th>\n",
       "      <td>2016-03-05 19:56:21</td>\n",
       "      <td>1199</td>\n",
       "      <td>convertible</td>\n",
       "      <td>2000</td>\n",
       "      <td>auto</td>\n",
       "      <td>101</td>\n",
       "      <td>fortwo</td>\n",
       "      <td>125000</td>\n",
       "      <td>1</td>\n",
       "      <td>petrol</td>\n",
       "      <td>smart</td>\n",
       "      <td>no</td>\n",
       "      <td>2016-03-05 00:00:00</td>\n",
       "      <td>26135</td>\n",
       "    </tr>\n",
       "    <tr>\n",
       "      <th>354348</th>\n",
       "      <td>2016-03-19 18:57:12</td>\n",
       "      <td>9200</td>\n",
       "      <td>bus</td>\n",
       "      <td>1996</td>\n",
       "      <td>manual</td>\n",
       "      <td>102</td>\n",
       "      <td>transporter</td>\n",
       "      <td>150000</td>\n",
       "      <td>1</td>\n",
       "      <td>gasoline</td>\n",
       "      <td>volkswagen</td>\n",
       "      <td>no</td>\n",
       "      <td>2016-03-19 00:00:00</td>\n",
       "      <td>87439</td>\n",
       "    </tr>\n",
       "    <tr>\n",
       "      <th>354349</th>\n",
       "      <td>2016-03-20 19:41:08</td>\n",
       "      <td>3400</td>\n",
       "      <td>wagon</td>\n",
       "      <td>2002</td>\n",
       "      <td>manual</td>\n",
       "      <td>100</td>\n",
       "      <td>golf</td>\n",
       "      <td>150000</td>\n",
       "      <td>1</td>\n",
       "      <td>gasoline</td>\n",
       "      <td>volkswagen</td>\n",
       "      <td>unknown</td>\n",
       "      <td>2016-03-20 00:00:00</td>\n",
       "      <td>40764</td>\n",
       "    </tr>\n",
       "  </tbody>\n",
       "</table>\n",
       "<p>280635 rows × 14 columns</p>\n",
       "</div>"
      ],
      "text/plain": [
       "               date_crawled  price vehicle_type  registration_year gearbox  \\\n",
       "1       2016-03-24 10:58:45  18300        coupe               2011  manual   \n",
       "2       2016-03-14 12:52:21   9800          suv               2004    auto   \n",
       "3       2016-03-17 16:54:04   1500        small               2001  manual   \n",
       "4       2016-03-31 17:25:20   3600        small               2008  manual   \n",
       "5       2016-04-04 17:36:23    650        sedan               1995  manual   \n",
       "...                     ...    ...          ...                ...     ...   \n",
       "354340  2016-03-28 13:48:07   7900        sedan               2010  manual   \n",
       "354343  2016-03-19 19:53:49   3200        sedan               2004  manual   \n",
       "354347  2016-03-05 19:56:21   1199  convertible               2000    auto   \n",
       "354348  2016-03-19 18:57:12   9200          bus               1996  manual   \n",
       "354349  2016-03-20 19:41:08   3400        wagon               2002  manual   \n",
       "\n",
       "        power        model  kilometer  registration_month fuel_type  \\\n",
       "1         190      unknown     125000                   1  gasoline   \n",
       "2         163        grand     125000                   1  gasoline   \n",
       "3          75         golf     150000                   1    petrol   \n",
       "4          69        fabia      90000                   1  gasoline   \n",
       "5         102          3er     150000                   1    petrol   \n",
       "...       ...          ...        ...                 ...       ...   \n",
       "354340    140         golf     150000                   1  gasoline   \n",
       "354343    225         leon     150000                   1    petrol   \n",
       "354347    101       fortwo     125000                   1    petrol   \n",
       "354348    102  transporter     150000                   1  gasoline   \n",
       "354349    100         golf     150000                   1  gasoline   \n",
       "\n",
       "             brand repaired         date_created  postal_code  \n",
       "1             audi      yes  2016-03-24 00:00:00        66954  \n",
       "2             jeep  unknown  2016-03-14 00:00:00        90480  \n",
       "3       volkswagen       no  2016-03-17 00:00:00        91074  \n",
       "4            skoda       no  2016-03-31 00:00:00        60437  \n",
       "5              bmw      yes  2016-04-04 00:00:00        33775  \n",
       "...            ...      ...                  ...          ...  \n",
       "354340  volkswagen       no  2016-03-28 00:00:00        75223  \n",
       "354343        seat      yes  2016-03-19 00:00:00        96465  \n",
       "354347       smart       no  2016-03-05 00:00:00        26135  \n",
       "354348  volkswagen       no  2016-03-19 00:00:00        87439  \n",
       "354349  volkswagen  unknown  2016-03-20 00:00:00        40764  \n",
       "\n",
       "[280635 rows x 14 columns]"
      ]
     },
     "execution_count": 26,
     "metadata": {},
     "output_type": "execute_result"
    }
   ],
   "source": [
    "data"
   ]
  },
  {
   "cell_type": "code",
   "execution_count": 27,
   "metadata": {
    "ExecuteTime": {
     "end_time": "2023-06-19T13:19:12.307878Z",
     "start_time": "2023-06-19T13:19:12.279954Z"
    }
   },
   "outputs": [],
   "source": [
    "target = data['price']\n",
    "features = data.drop(['date_crawled', 'price', 'date_created'], axis=1)\n",
    "cat = ['vehicle_type', 'gearbox', 'model', 'fuel_type', 'brand', 'repaired']"
   ]
  },
  {
   "cell_type": "code",
   "execution_count": 28,
   "metadata": {
    "ExecuteTime": {
     "end_time": "2023-06-19T13:19:12.399633Z",
     "start_time": "2023-06-19T13:19:12.308875Z"
    }
   },
   "outputs": [],
   "source": [
    "features_train, features_valid, target_train, target_valid = train_test_split(features, target, \\\n",
    "                                                                              test_size=0.2, random_state=12345)\n",
    "features_train, features_test, target_train, target_test = train_test_split(features_train, target_train, \\\n",
    "                                                                            test_size=0.25, random_state=12345)"
   ]
  },
  {
   "cell_type": "markdown",
   "metadata": {},
   "source": [
    "### Catboost"
   ]
  },
  {
   "cell_type": "code",
   "execution_count": 29,
   "metadata": {
    "ExecuteTime": {
     "end_time": "2023-06-19T13:19:12.414593Z",
     "start_time": "2023-06-19T13:19:12.400631Z"
    }
   },
   "outputs": [],
   "source": [
    "model_catboost = CatBoostRegressor(iterations=200, depth=10, loss_function='RMSE', learning_rate=0.3) "
   ]
  },
  {
   "cell_type": "code",
   "execution_count": 30,
   "metadata": {
    "ExecuteTime": {
     "end_time": "2023-06-19T13:19:47.579583Z",
     "start_time": "2023-06-19T13:19:12.415591Z"
    }
   },
   "outputs": [
    {
     "name": "stdout",
     "output_type": "stream",
     "text": [
      "0:\tlearn: 3620.8108222\ttotal: 326ms\tremaining: 1m 4s\n",
      "10:\tlearn: 1765.2171824\ttotal: 1.94s\tremaining: 33.3s\n",
      "20:\tlearn: 1650.7152209\ttotal: 3.59s\tremaining: 30.6s\n",
      "30:\tlearn: 1592.4536490\ttotal: 5.24s\tremaining: 28.5s\n",
      "40:\tlearn: 1559.3741550\ttotal: 6.9s\tremaining: 26.8s\n",
      "50:\tlearn: 1526.2165642\ttotal: 8.51s\tremaining: 24.9s\n",
      "60:\tlearn: 1503.7003410\ttotal: 10.2s\tremaining: 23.2s\n",
      "70:\tlearn: 1481.2141063\ttotal: 11.8s\tremaining: 21.5s\n",
      "80:\tlearn: 1465.7423955\ttotal: 13.5s\tremaining: 19.8s\n",
      "90:\tlearn: 1449.3232233\ttotal: 15.5s\tremaining: 18.5s\n",
      "100:\tlearn: 1436.1895175\ttotal: 17.1s\tremaining: 16.7s\n",
      "110:\tlearn: 1422.4675069\ttotal: 18.8s\tremaining: 15s\n",
      "120:\tlearn: 1410.2615546\ttotal: 20.5s\tremaining: 13.4s\n",
      "130:\tlearn: 1397.3196162\ttotal: 22.3s\tremaining: 11.7s\n",
      "140:\tlearn: 1388.2714035\ttotal: 23.9s\tremaining: 10s\n",
      "150:\tlearn: 1379.0327829\ttotal: 25.7s\tremaining: 8.34s\n",
      "160:\tlearn: 1368.8651742\ttotal: 27.4s\tremaining: 6.65s\n",
      "170:\tlearn: 1357.9763891\ttotal: 29.1s\tremaining: 4.94s\n",
      "180:\tlearn: 1350.8252759\ttotal: 31.1s\tremaining: 3.27s\n",
      "190:\tlearn: 1344.7861358\ttotal: 32.9s\tremaining: 1.55s\n",
      "199:\tlearn: 1338.8769892\ttotal: 34.5s\tremaining: 0us\n",
      "CPU times: total: 1min 58s\n",
      "Wall time: 35.2 s\n"
     ]
    },
    {
     "data": {
      "text/plain": [
       "<catboost.core.CatBoostRegressor at 0x27f043da910>"
      ]
     },
     "execution_count": 30,
     "metadata": {},
     "output_type": "execute_result"
    }
   ],
   "source": [
    "%%time\n",
    "model_catboost.fit(features_train, target_train, cat_features=cat, verbose=10)"
   ]
  },
  {
   "cell_type": "code",
   "execution_count": 31,
   "metadata": {
    "ExecuteTime": {
     "end_time": "2023-06-19T13:19:47.751123Z",
     "start_time": "2023-06-19T13:19:47.580580Z"
    }
   },
   "outputs": [
    {
     "name": "stdout",
     "output_type": "stream",
     "text": [
      "1552.286216436875\n",
      "CPU times: total: 344 ms\n",
      "Wall time: 159 ms\n"
     ]
    }
   ],
   "source": [
    "%%time\n",
    "prediction = model_catboost.predict(features_test)\n",
    "print(mean_squared_error(target_test, prediction, squared=False))"
   ]
  },
  {
   "cell_type": "code",
   "execution_count": 32,
   "metadata": {
    "ExecuteTime": {
     "end_time": "2023-06-19T13:19:48.080243Z",
     "start_time": "2023-06-19T13:19:47.752121Z"
    }
   },
   "outputs": [],
   "source": [
    "encoder = OrdinalEncoder(handle_unknown='use_encoded_value', unknown_value=9999)\n",
    "#cat_columns = data.select_dtypes(include=['object']).columns # название датафрейма может отличаться\n",
    "\n",
    "encoder.fit(features_train[cat])\n",
    "\n",
    "features_train_ord = features_train.copy()\n",
    "features_valid_ord = features_valid.copy()\n",
    "features_test_ord = features_test.copy()\n",
    "\n",
    "features_train_ord[cat] = encoder.transform(features_train_ord[cat])\n",
    "features_valid_ord[cat] = encoder.transform(features_valid_ord[cat])\n",
    "features_test_ord[cat] = encoder.transform(features_test_ord[cat])"
   ]
  },
  {
   "cell_type": "code",
   "execution_count": 33,
   "metadata": {
    "ExecuteTime": {
     "end_time": "2023-06-19T13:19:48.096201Z",
     "start_time": "2023-06-19T13:19:48.081241Z"
    }
   },
   "outputs": [
    {
     "data": {
      "text/html": [
       "<div>\n",
       "<style scoped>\n",
       "    .dataframe tbody tr th:only-of-type {\n",
       "        vertical-align: middle;\n",
       "    }\n",
       "\n",
       "    .dataframe tbody tr th {\n",
       "        vertical-align: top;\n",
       "    }\n",
       "\n",
       "    .dataframe thead th {\n",
       "        text-align: right;\n",
       "    }\n",
       "</style>\n",
       "<table border=\"1\" class=\"dataframe\">\n",
       "  <thead>\n",
       "    <tr style=\"text-align: right;\">\n",
       "      <th></th>\n",
       "      <th>vehicle_type</th>\n",
       "      <th>registration_year</th>\n",
       "      <th>gearbox</th>\n",
       "      <th>power</th>\n",
       "      <th>model</th>\n",
       "      <th>kilometer</th>\n",
       "      <th>registration_month</th>\n",
       "      <th>fuel_type</th>\n",
       "      <th>brand</th>\n",
       "      <th>repaired</th>\n",
       "      <th>postal_code</th>\n",
       "    </tr>\n",
       "  </thead>\n",
       "  <tbody>\n",
       "    <tr>\n",
       "      <th>27452</th>\n",
       "      <td>2.0</td>\n",
       "      <td>1999</td>\n",
       "      <td>1.0</td>\n",
       "      <td>170</td>\n",
       "      <td>11.0</td>\n",
       "      <td>150000</td>\n",
       "      <td>1</td>\n",
       "      <td>6.0</td>\n",
       "      <td>2.0</td>\n",
       "      <td>0.0</td>\n",
       "      <td>68309</td>\n",
       "    </tr>\n",
       "    <tr>\n",
       "      <th>234304</th>\n",
       "      <td>5.0</td>\n",
       "      <td>2002</td>\n",
       "      <td>1.0</td>\n",
       "      <td>75</td>\n",
       "      <td>8.0</td>\n",
       "      <td>150000</td>\n",
       "      <td>1</td>\n",
       "      <td>6.0</td>\n",
       "      <td>25.0</td>\n",
       "      <td>0.0</td>\n",
       "      <td>75181</td>\n",
       "    </tr>\n",
       "    <tr>\n",
       "      <th>88984</th>\n",
       "      <td>5.0</td>\n",
       "      <td>1998</td>\n",
       "      <td>1.0</td>\n",
       "      <td>60</td>\n",
       "      <td>127.0</td>\n",
       "      <td>80000</td>\n",
       "      <td>1</td>\n",
       "      <td>6.0</td>\n",
       "      <td>10.0</td>\n",
       "      <td>0.0</td>\n",
       "      <td>64347</td>\n",
       "    </tr>\n",
       "    <tr>\n",
       "      <th>266894</th>\n",
       "      <td>5.0</td>\n",
       "      <td>2011</td>\n",
       "      <td>1.0</td>\n",
       "      <td>73</td>\n",
       "      <td>8.0</td>\n",
       "      <td>125000</td>\n",
       "      <td>1</td>\n",
       "      <td>6.0</td>\n",
       "      <td>25.0</td>\n",
       "      <td>2.0</td>\n",
       "      <td>35781</td>\n",
       "    </tr>\n",
       "    <tr>\n",
       "      <th>228962</th>\n",
       "      <td>0.0</td>\n",
       "      <td>2001</td>\n",
       "      <td>1.0</td>\n",
       "      <td>151</td>\n",
       "      <td>221.0</td>\n",
       "      <td>150000</td>\n",
       "      <td>1</td>\n",
       "      <td>2.0</td>\n",
       "      <td>38.0</td>\n",
       "      <td>0.0</td>\n",
       "      <td>37441</td>\n",
       "    </tr>\n",
       "    <tr>\n",
       "      <th>...</th>\n",
       "      <td>...</td>\n",
       "      <td>...</td>\n",
       "      <td>...</td>\n",
       "      <td>...</td>\n",
       "      <td>...</td>\n",
       "      <td>...</td>\n",
       "      <td>...</td>\n",
       "      <td>...</td>\n",
       "      <td>...</td>\n",
       "      <td>...</td>\n",
       "      <td>...</td>\n",
       "    </tr>\n",
       "    <tr>\n",
       "      <th>145847</th>\n",
       "      <td>4.0</td>\n",
       "      <td>2001</td>\n",
       "      <td>1.0</td>\n",
       "      <td>75</td>\n",
       "      <td>32.0</td>\n",
       "      <td>125000</td>\n",
       "      <td>1</td>\n",
       "      <td>2.0</td>\n",
       "      <td>20.0</td>\n",
       "      <td>2.0</td>\n",
       "      <td>32602</td>\n",
       "    </tr>\n",
       "    <tr>\n",
       "      <th>93911</th>\n",
       "      <td>8.0</td>\n",
       "      <td>2006</td>\n",
       "      <td>0.0</td>\n",
       "      <td>140</td>\n",
       "      <td>169.0</td>\n",
       "      <td>150000</td>\n",
       "      <td>1</td>\n",
       "      <td>2.0</td>\n",
       "      <td>38.0</td>\n",
       "      <td>0.0</td>\n",
       "      <td>39340</td>\n",
       "    </tr>\n",
       "    <tr>\n",
       "      <th>211591</th>\n",
       "      <td>8.0</td>\n",
       "      <td>2006</td>\n",
       "      <td>1.0</td>\n",
       "      <td>150</td>\n",
       "      <td>202.0</td>\n",
       "      <td>150000</td>\n",
       "      <td>1</td>\n",
       "      <td>2.0</td>\n",
       "      <td>24.0</td>\n",
       "      <td>0.0</td>\n",
       "      <td>32825</td>\n",
       "    </tr>\n",
       "    <tr>\n",
       "      <th>206400</th>\n",
       "      <td>4.0</td>\n",
       "      <td>2008</td>\n",
       "      <td>1.0</td>\n",
       "      <td>80</td>\n",
       "      <td>115.0</td>\n",
       "      <td>60000</td>\n",
       "      <td>1</td>\n",
       "      <td>6.0</td>\n",
       "      <td>38.0</td>\n",
       "      <td>0.0</td>\n",
       "      <td>89075</td>\n",
       "    </tr>\n",
       "    <tr>\n",
       "      <th>123972</th>\n",
       "      <td>4.0</td>\n",
       "      <td>1997</td>\n",
       "      <td>1.0</td>\n",
       "      <td>74</td>\n",
       "      <td>169.0</td>\n",
       "      <td>150000</td>\n",
       "      <td>1</td>\n",
       "      <td>6.0</td>\n",
       "      <td>38.0</td>\n",
       "      <td>1.0</td>\n",
       "      <td>72181</td>\n",
       "    </tr>\n",
       "  </tbody>\n",
       "</table>\n",
       "<p>168381 rows × 11 columns</p>\n",
       "</div>"
      ],
      "text/plain": [
       "        vehicle_type  registration_year  gearbox  power  model  kilometer  \\\n",
       "27452            2.0               1999      1.0    170   11.0     150000   \n",
       "234304           5.0               2002      1.0     75    8.0     150000   \n",
       "88984            5.0               1998      1.0     60  127.0      80000   \n",
       "266894           5.0               2011      1.0     73    8.0     125000   \n",
       "228962           0.0               2001      1.0    151  221.0     150000   \n",
       "...              ...                ...      ...    ...    ...        ...   \n",
       "145847           4.0               2001      1.0     75   32.0     125000   \n",
       "93911            8.0               2006      0.0    140  169.0     150000   \n",
       "211591           8.0               2006      1.0    150  202.0     150000   \n",
       "206400           4.0               2008      1.0     80  115.0      60000   \n",
       "123972           4.0               1997      1.0     74  169.0     150000   \n",
       "\n",
       "        registration_month  fuel_type  brand  repaired  postal_code  \n",
       "27452                    1        6.0    2.0       0.0        68309  \n",
       "234304                   1        6.0   25.0       0.0        75181  \n",
       "88984                    1        6.0   10.0       0.0        64347  \n",
       "266894                   1        6.0   25.0       2.0        35781  \n",
       "228962                   1        2.0   38.0       0.0        37441  \n",
       "...                    ...        ...    ...       ...          ...  \n",
       "145847                   1        2.0   20.0       2.0        32602  \n",
       "93911                    1        2.0   38.0       0.0        39340  \n",
       "211591                   1        2.0   24.0       0.0        32825  \n",
       "206400                   1        6.0   38.0       0.0        89075  \n",
       "123972                   1        6.0   38.0       1.0        72181  \n",
       "\n",
       "[168381 rows x 11 columns]"
      ]
     },
     "execution_count": 33,
     "metadata": {},
     "output_type": "execute_result"
    }
   ],
   "source": [
    "features_train_ord"
   ]
  },
  {
   "cell_type": "code",
   "execution_count": 34,
   "metadata": {
    "ExecuteTime": {
     "end_time": "2023-06-19T13:19:48.112158Z",
     "start_time": "2023-06-19T13:19:48.097199Z"
    }
   },
   "outputs": [
    {
     "data": {
      "text/plain": [
       "['vehicle_type',\n",
       " 'registration_year',\n",
       " 'gearbox',\n",
       " 'power',\n",
       " 'model',\n",
       " 'kilometer',\n",
       " 'registration_month',\n",
       " 'fuel_type',\n",
       " 'brand',\n",
       " 'repaired',\n",
       " 'postal_code']"
      ]
     },
     "execution_count": 34,
     "metadata": {},
     "output_type": "execute_result"
    }
   ],
   "source": [
    "features_train_ord.columns.values.tolist ()"
   ]
  },
  {
   "cell_type": "code",
   "execution_count": 35,
   "metadata": {
    "ExecuteTime": {
     "end_time": "2023-06-19T13:19:48.127118Z",
     "start_time": "2023-06-19T13:19:48.113156Z"
    }
   },
   "outputs": [],
   "source": [
    "cat = features_train_ord.drop(['registration_year', 'power', 'kilometer', \\\n",
    "                               'registration_month', 'postal_code'], axis=1).columns"
   ]
  },
  {
   "cell_type": "markdown",
   "metadata": {},
   "source": [
    "### LGBMRegressor"
   ]
  },
  {
   "cell_type": "code",
   "execution_count": 36,
   "metadata": {
    "ExecuteTime": {
     "end_time": "2023-06-19T13:19:48.143075Z",
     "start_time": "2023-06-19T13:19:48.128116Z"
    },
    "scrolled": false
   },
   "outputs": [
    {
     "name": "stdout",
     "output_type": "stream",
     "text": [
      "CPU times: total: 0 ns\n",
      "Wall time: 0 ns\n"
     ]
    }
   ],
   "source": [
    "%%time\n",
    "parametrs = { 'n_estimators': range (10, 101, 3),\n",
    "               'max_depth': range (1,16)}\n",
    "model = RandomizedSearchCV(LGBMRegressor(), param_distributions=parametrs, cv=5, n_jobs=-1, verbose=1, random_state=12345)"
   ]
  },
  {
   "cell_type": "code",
   "execution_count": 37,
   "metadata": {
    "ExecuteTime": {
     "end_time": "2023-06-19T13:20:00.920915Z",
     "start_time": "2023-06-19T13:19:48.144073Z"
    }
   },
   "outputs": [
    {
     "name": "stdout",
     "output_type": "stream",
     "text": [
      "Fitting 5 folds for each of 10 candidates, totalling 50 fits\n",
      "CPU times: total: 1.66 s\n",
      "Wall time: 12.8 s\n"
     ]
    }
   ],
   "source": [
    "%%time\n",
    "model_grid = model.fit(features_train_ord, target_train)"
   ]
  },
  {
   "cell_type": "code",
   "execution_count": 38,
   "metadata": {
    "ExecuteTime": {
     "end_time": "2023-06-19T13:20:00.936872Z",
     "start_time": "2023-06-19T13:20:00.921913Z"
    }
   },
   "outputs": [
    {
     "name": "stdout",
     "output_type": "stream",
     "text": [
      "LGBMRegressor(max_depth=14, n_estimators=97)\n",
      "0.8709974689202233\n",
      "CPU times: total: 0 ns\n",
      "Wall time: 2 ms\n"
     ]
    }
   ],
   "source": [
    "%%time\n",
    "#model.fit(features_train, target_train)\n",
    "print(model_grid.best_estimator_)\n",
    "print(model_grid.best_score_)"
   ]
  },
  {
   "cell_type": "code",
   "execution_count": 39,
   "metadata": {
    "ExecuteTime": {
     "end_time": "2023-06-19T13:20:00.952829Z",
     "start_time": "2023-06-19T13:20:00.937870Z"
    }
   },
   "outputs": [],
   "source": [
    "model_lgbmr = LGBMRegressor(max_depth=14, n_estimators=97, random_state=12345, n_jobs=-1)"
   ]
  },
  {
   "cell_type": "code",
   "execution_count": 40,
   "metadata": {
    "ExecuteTime": {
     "end_time": "2023-06-19T13:20:01.375699Z",
     "start_time": "2023-06-19T13:20:00.953827Z"
    }
   },
   "outputs": [
    {
     "name": "stdout",
     "output_type": "stream",
     "text": [
      "CPU times: total: 1.53 s\n",
      "Wall time: 407 ms\n"
     ]
    },
    {
     "data": {
      "text/plain": [
       "LGBMRegressor(max_depth=14, n_estimators=97, random_state=12345)"
      ]
     },
     "execution_count": 40,
     "metadata": {},
     "output_type": "execute_result"
    }
   ],
   "source": [
    "%%time\n",
    "model_lgbmr.fit(features_train_ord, target_train)"
   ]
  },
  {
   "cell_type": "code",
   "execution_count": 41,
   "metadata": {
    "ExecuteTime": {
     "end_time": "2023-06-19T13:20:01.470446Z",
     "start_time": "2023-06-19T13:20:01.376697Z"
    }
   },
   "outputs": [
    {
     "name": "stdout",
     "output_type": "stream",
     "text": [
      "1678.6445719360024\n",
      "CPU times: total: 344 ms\n",
      "Wall time: 86.8 ms\n"
     ]
    }
   ],
   "source": [
    "%%time\n",
    "prediction = model_lgbmr.predict(features_test_ord)\n",
    "print(mean_squared_error(target_test, prediction, squared=False))"
   ]
  },
  {
   "cell_type": "markdown",
   "metadata": {},
   "source": [
    "### RandomForestRegressor"
   ]
  },
  {
   "cell_type": "code",
   "execution_count": 42,
   "metadata": {
    "ExecuteTime": {
     "end_time": "2023-06-19T13:20:01.485406Z",
     "start_time": "2023-06-19T13:20:01.471444Z"
    }
   },
   "outputs": [],
   "source": [
    "parametrs = { 'n_estimators': range (30, 101, 4),\n",
    "               'max_depth': range (3,16)}\n",
    "\n",
    "model = RandomizedSearchCV(RandomForestRegressor(), param_distributions=parametrs, cv=5, n_jobs=-1, verbose=1, random_state=12345)"
   ]
  },
  {
   "cell_type": "code",
   "execution_count": 43,
   "metadata": {
    "ExecuteTime": {
     "end_time": "2023-06-19T13:24:04.467347Z",
     "start_time": "2023-06-19T13:20:01.486404Z"
    }
   },
   "outputs": [
    {
     "name": "stdout",
     "output_type": "stream",
     "text": [
      "Fitting 5 folds for each of 10 candidates, totalling 50 fits\n",
      "RandomForestRegressor(max_depth=14, n_estimators=54)\n",
      "0.8724051001803975\n",
      "CPU times: total: 17.4 s\n",
      "Wall time: 4min 2s\n"
     ]
    }
   ],
   "source": [
    "%%time\n",
    "model_grid = model.fit(features_train_ord, target_train)\n",
    "print(model_grid.best_estimator_)\n",
    "print(model_grid.best_score_)"
   ]
  },
  {
   "cell_type": "code",
   "execution_count": 44,
   "metadata": {
    "ExecuteTime": {
     "end_time": "2023-06-19T13:24:04.482307Z",
     "start_time": "2023-06-19T13:24:04.468345Z"
    }
   },
   "outputs": [],
   "source": [
    "model_forest = RandomForestRegressor(max_depth=14 , n_estimators=54 , random_state=12345, verbose=1)"
   ]
  },
  {
   "cell_type": "code",
   "execution_count": 45,
   "metadata": {
    "ExecuteTime": {
     "end_time": "2023-06-19T13:24:21.626474Z",
     "start_time": "2023-06-19T13:24:04.483304Z"
    }
   },
   "outputs": [
    {
     "name": "stderr",
     "output_type": "stream",
     "text": [
      "[Parallel(n_jobs=1)]: Using backend SequentialBackend with 1 concurrent workers.\n"
     ]
    },
    {
     "name": "stdout",
     "output_type": "stream",
     "text": [
      "CPU times: total: 17.2 s\n",
      "Wall time: 17.1 s\n"
     ]
    },
    {
     "name": "stderr",
     "output_type": "stream",
     "text": [
      "[Parallel(n_jobs=1)]: Done  54 out of  54 | elapsed:   17.0s finished\n"
     ]
    },
    {
     "data": {
      "text/plain": [
       "RandomForestRegressor(max_depth=14, n_estimators=54, random_state=12345,\n",
       "                      verbose=1)"
      ]
     },
     "execution_count": 45,
     "metadata": {},
     "output_type": "execute_result"
    }
   ],
   "source": [
    "%%time\n",
    "model_forest.fit(features_train_ord, target_train)"
   ]
  },
  {
   "cell_type": "code",
   "execution_count": 46,
   "metadata": {
    "ExecuteTime": {
     "end_time": "2023-06-19T13:24:22.045354Z",
     "start_time": "2023-06-19T13:24:21.627472Z"
    }
   },
   "outputs": [
    {
     "name": "stderr",
     "output_type": "stream",
     "text": [
      "[Parallel(n_jobs=1)]: Using backend SequentialBackend with 1 concurrent workers.\n"
     ]
    },
    {
     "name": "stdout",
     "output_type": "stream",
     "text": [
      "1643.003790914896\n",
      "CPU times: total: 406 ms\n",
      "Wall time: 401 ms\n"
     ]
    },
    {
     "name": "stderr",
     "output_type": "stream",
     "text": [
      "[Parallel(n_jobs=1)]: Done  54 out of  54 | elapsed:    0.3s finished\n"
     ]
    }
   ],
   "source": [
    "%%time\n",
    "prediction = model_forest.predict(features_test_ord)\n",
    "print(mean_squared_error(target_test, prediction, squared=False))"
   ]
  },
  {
   "cell_type": "markdown",
   "metadata": {},
   "source": [
    "## Анализ моделей"
   ]
  },
  {
   "cell_type": "markdown",
   "metadata": {},
   "source": [
    "Быстрее всех обучается модель LGBMRegressor: \n",
    "   * CPU times: total: 1.88 s\n",
    "   * Wall time: 14.8 s\n",
    "   \n",
    "\\\n",
    "Быстрее всех предсказывает модель LGBMRegressor:\n",
    "   * CPU times: total: 344 ms\n",
    "   * Wall time: 92.8 ms\n",
    "\n",
    "\\\n",
    "Наилучшее качество у модели CatBoostRegressor:\n",
    "   * RMSE = 1552.286216436875 - на тестовой выборке \n",
    "   "
   ]
  },
  {
   "cell_type": "code",
   "execution_count": 47,
   "metadata": {
    "ExecuteTime": {
     "end_time": "2023-06-19T13:24:22.060314Z",
     "start_time": "2023-06-19T13:24:22.046351Z"
    }
   },
   "outputs": [
    {
     "data": {
      "text/html": [
       "<div>\n",
       "<style scoped>\n",
       "    .dataframe tbody tr th:only-of-type {\n",
       "        vertical-align: middle;\n",
       "    }\n",
       "\n",
       "    .dataframe tbody tr th {\n",
       "        vertical-align: top;\n",
       "    }\n",
       "\n",
       "    .dataframe thead th {\n",
       "        text-align: right;\n",
       "    }\n",
       "</style>\n",
       "<table border=\"1\" class=\"dataframe\">\n",
       "  <thead>\n",
       "    <tr style=\"text-align: right;\">\n",
       "      <th></th>\n",
       "      <th>name</th>\n",
       "      <th>fit_time_in_sec</th>\n",
       "      <th>predict_time_in_ms</th>\n",
       "      <th>RMSE</th>\n",
       "    </tr>\n",
       "  </thead>\n",
       "  <tbody>\n",
       "    <tr>\n",
       "      <th>0</th>\n",
       "      <td>CatBoostRegressor</td>\n",
       "      <td>152.900</td>\n",
       "      <td>533.0</td>\n",
       "      <td>1552.286</td>\n",
       "    </tr>\n",
       "    <tr>\n",
       "      <th>1</th>\n",
       "      <td>LGBMRegressor</td>\n",
       "      <td>1.913</td>\n",
       "      <td>436.8</td>\n",
       "      <td>1678.645</td>\n",
       "    </tr>\n",
       "    <tr>\n",
       "      <th>2</th>\n",
       "      <td>RandomForestRegressor</td>\n",
       "      <td>36.200</td>\n",
       "      <td>846.0</td>\n",
       "      <td>1643.004</td>\n",
       "    </tr>\n",
       "  </tbody>\n",
       "</table>\n",
       "</div>"
      ],
      "text/plain": [
       "                    name  fit_time_in_sec  predict_time_in_ms      RMSE\n",
       "0      CatBoostRegressor          152.900               533.0  1552.286\n",
       "1          LGBMRegressor            1.913               436.8  1678.645\n",
       "2  RandomForestRegressor           36.200               846.0  1643.004"
      ]
     },
     "execution_count": 47,
     "metadata": {},
     "output_type": "execute_result"
    }
   ],
   "source": [
    "d = {'name' : ['CatBoostRegressor', 'LGBMRegressor', 'RandomForestRegressor'], \\\n",
    "     'fit_time_in_sec' : [152.9, 1.913, 36.2], \\\n",
    "     'predict_time_in_ms' : [533, 436.8, 846], \\\n",
    "     'RMSE' : [1552.286, 1678.645, 1643.004]}\n",
    "\n",
    "result_table = pd.DataFrame(data=d)\n",
    "result_table"
   ]
  },
  {
   "cell_type": "markdown",
   "metadata": {},
   "source": [
    "Несмотря на нато, что catboost намного дольше обучается и немного дольше предсказывает, я бы порекомендовал заказчику использовать именно модель CatBoostRegressor со следующими гиперпараметрами: \n",
    "   * iterations=200 \n",
    "   * depth=10 \n",
    "   * loss_function='RMSE' \n",
    "   * learning_rate=0.3 \n",
    "   \n",
    "Так как RMSE у этой модели значительно меньше, чем у остальных. Стоит также добавить, что если учитывать время, которое нужно на подбор гиперпараметров, то catboost будет быстрее своих конкурентов"
   ]
  },
  {
   "cell_type": "markdown",
   "metadata": {},
   "source": [
    "## Тестирование лучшей модели"
   ]
  },
  {
   "cell_type": "markdown",
   "metadata": {},
   "source": [
    "Лучшей моделью оказалась CatBoostRegressor со значением RMSE=1552.286216436875 на тестовой выборке. \\\n",
    "Проверим ее качество на валидационной"
   ]
  },
  {
   "cell_type": "code",
   "execution_count": 48,
   "metadata": {
    "ExecuteTime": {
     "end_time": "2023-06-19T13:24:22.233849Z",
     "start_time": "2023-06-19T13:24:22.061311Z"
    }
   },
   "outputs": [
    {
     "name": "stdout",
     "output_type": "stream",
     "text": [
      "1573.3815901894914\n",
      "CPU times: total: 344 ms\n",
      "Wall time: 157 ms\n"
     ]
    }
   ],
   "source": [
    "%%time\n",
    "prediction = model_catboost.predict(features_valid)\n",
    "print(mean_squared_error(target_valid, prediction, squared=False))"
   ]
  },
  {
   "cell_type": "markdown",
   "metadata": {},
   "source": [
    "Результат отличный. Он не сильно отличается от того, который мы получили на тестовой выборке, а значит модель работает корректно"
   ]
  }
 ],
 "metadata": {
  "ExecuteTimeLog": [
   {
    "duration": 449,
    "start_time": "2023-06-16T11:04:03.065Z"
   },
   {
    "duration": 1266,
    "start_time": "2023-06-16T11:04:22.925Z"
   },
   {
    "duration": 145,
    "start_time": "2023-06-16T11:05:06.028Z"
   },
   {
    "duration": 149,
    "start_time": "2023-06-16T11:15:46.818Z"
   },
   {
    "duration": 173,
    "start_time": "2023-06-16T11:20:25.171Z"
   },
   {
    "duration": 178,
    "start_time": "2023-06-16T11:20:56.913Z"
   },
   {
    "duration": 70,
    "start_time": "2023-06-16T11:21:17.771Z"
   },
   {
    "duration": 194,
    "start_time": "2023-06-16T11:21:24.610Z"
   },
   {
    "duration": 251,
    "start_time": "2023-06-16T11:21:34.257Z"
   },
   {
    "duration": 13,
    "start_time": "2023-06-16T11:21:46.540Z"
   },
   {
    "duration": 309,
    "start_time": "2023-06-16T11:21:52.424Z"
   },
   {
    "duration": 259,
    "start_time": "2023-06-16T11:22:00.114Z"
   },
   {
    "duration": 281,
    "start_time": "2023-06-16T11:22:13.715Z"
   },
   {
    "duration": 204,
    "start_time": "2023-06-16T11:28:45.587Z"
   },
   {
    "duration": 257,
    "start_time": "2023-06-16T11:29:06.116Z"
   },
   {
    "duration": 239,
    "start_time": "2023-06-16T11:29:22.726Z"
   },
   {
    "duration": 252,
    "start_time": "2023-06-16T11:29:29.914Z"
   },
   {
    "duration": 435,
    "start_time": "2023-06-16T11:29:38.545Z"
   },
   {
    "duration": 932,
    "start_time": "2023-06-16T11:29:38.982Z"
   },
   {
    "duration": 154,
    "start_time": "2023-06-16T11:29:39.916Z"
   },
   {
    "duration": 137,
    "start_time": "2023-06-16T11:29:40.072Z"
   },
   {
    "duration": 262,
    "start_time": "2023-06-16T11:29:40.212Z"
   },
   {
    "duration": 5,
    "start_time": "2023-06-16T11:31:19.326Z"
   },
   {
    "duration": 843,
    "start_time": "2023-06-16T11:32:22.978Z"
   },
   {
    "duration": 2150,
    "start_time": "2023-06-16T11:32:41.841Z"
   },
   {
    "duration": 124,
    "start_time": "2023-06-16T11:33:36.399Z"
   },
   {
    "duration": 211,
    "start_time": "2023-06-16T11:34:01.971Z"
   },
   {
    "duration": 180,
    "start_time": "2023-06-16T11:34:12.420Z"
   },
   {
    "duration": 6,
    "start_time": "2023-06-16T11:34:33.021Z"
   },
   {
    "duration": 10,
    "start_time": "2023-06-16T11:34:44.348Z"
   },
   {
    "duration": 10,
    "start_time": "2023-06-16T11:35:19.434Z"
   },
   {
    "duration": 10,
    "start_time": "2023-06-16T11:36:50.395Z"
   },
   {
    "duration": 12,
    "start_time": "2023-06-16T11:37:15.113Z"
   },
   {
    "duration": 13,
    "start_time": "2023-06-16T11:40:03.762Z"
   },
   {
    "duration": 29,
    "start_time": "2023-06-16T11:40:29.802Z"
   },
   {
    "duration": 876,
    "start_time": "2023-06-16T11:40:39.403Z"
   },
   {
    "duration": 836,
    "start_time": "2023-06-16T11:41:14.651Z"
   },
   {
    "duration": 470,
    "start_time": "2023-06-16T11:42:12.450Z"
   },
   {
    "duration": 443,
    "start_time": "2023-06-16T11:42:25.411Z"
   },
   {
    "duration": 419,
    "start_time": "2023-06-16T11:42:32.865Z"
   },
   {
    "duration": 442,
    "start_time": "2023-06-16T11:42:37.271Z"
   },
   {
    "duration": 949,
    "start_time": "2023-06-16T11:43:40.134Z"
   },
   {
    "duration": 970,
    "start_time": "2023-06-16T11:43:48.134Z"
   },
   {
    "duration": 942,
    "start_time": "2023-06-16T11:45:13.844Z"
   },
   {
    "duration": 925,
    "start_time": "2023-06-16T11:45:43.641Z"
   },
   {
    "duration": 895,
    "start_time": "2023-06-16T11:45:54.197Z"
   },
   {
    "duration": 101,
    "start_time": "2023-06-16T11:46:42.478Z"
   },
   {
    "duration": 108,
    "start_time": "2023-06-16T11:47:05.522Z"
   },
   {
    "duration": 423,
    "start_time": "2023-06-16T11:47:24.810Z"
   },
   {
    "duration": 975,
    "start_time": "2023-06-16T11:47:25.235Z"
   },
   {
    "duration": 166,
    "start_time": "2023-06-16T11:47:26.214Z"
   },
   {
    "duration": 173,
    "start_time": "2023-06-16T11:47:26.382Z"
   },
   {
    "duration": 263,
    "start_time": "2023-06-16T11:47:26.561Z"
   },
   {
    "duration": 118,
    "start_time": "2023-06-16T11:47:26.826Z"
   },
   {
    "duration": 829,
    "start_time": "2023-06-16T11:47:26.953Z"
   },
   {
    "duration": 103,
    "start_time": "2023-06-16T11:49:24.566Z"
   },
   {
    "duration": 784,
    "start_time": "2023-06-16T11:53:27.993Z"
   },
   {
    "duration": 916,
    "start_time": "2023-06-16T11:54:15.632Z"
   },
   {
    "duration": 441,
    "start_time": "2023-06-16T11:54:21.846Z"
   },
   {
    "duration": 1073,
    "start_time": "2023-06-16T11:54:22.289Z"
   },
   {
    "duration": 159,
    "start_time": "2023-06-16T11:54:23.370Z"
   },
   {
    "duration": 183,
    "start_time": "2023-06-16T11:54:23.532Z"
   },
   {
    "duration": 317,
    "start_time": "2023-06-16T11:54:23.717Z"
   },
   {
    "duration": 944,
    "start_time": "2023-06-16T11:54:24.036Z"
   },
   {
    "duration": 954,
    "start_time": "2023-06-16T11:54:24.982Z"
   },
   {
    "duration": 826,
    "start_time": "2023-06-16T11:54:25.938Z"
   },
   {
    "duration": 396,
    "start_time": "2023-06-16T12:01:59.100Z"
   },
   {
    "duration": 970,
    "start_time": "2023-06-16T12:01:59.498Z"
   },
   {
    "duration": 159,
    "start_time": "2023-06-16T12:02:00.472Z"
   },
   {
    "duration": 191,
    "start_time": "2023-06-16T12:02:00.634Z"
   },
   {
    "duration": 140,
    "start_time": "2023-06-16T12:02:00.828Z"
   },
   {
    "duration": 0,
    "start_time": "2023-06-16T12:02:00.971Z"
   },
   {
    "duration": 0,
    "start_time": "2023-06-16T12:02:00.973Z"
   },
   {
    "duration": 0,
    "start_time": "2023-06-16T12:02:00.977Z"
   },
   {
    "duration": 0,
    "start_time": "2023-06-16T12:02:00.978Z"
   },
   {
    "duration": 0,
    "start_time": "2023-06-16T12:02:00.980Z"
   },
   {
    "duration": 9,
    "start_time": "2023-06-16T12:02:16.872Z"
   },
   {
    "duration": 538,
    "start_time": "2023-06-16T12:03:26.051Z"
   },
   {
    "duration": 1125,
    "start_time": "2023-06-16T12:03:26.592Z"
   },
   {
    "duration": 177,
    "start_time": "2023-06-16T12:03:27.719Z"
   },
   {
    "duration": 178,
    "start_time": "2023-06-16T12:03:27.898Z"
   },
   {
    "duration": 535,
    "start_time": "2023-06-16T12:03:28.078Z"
   },
   {
    "duration": 0,
    "start_time": "2023-06-16T12:03:28.616Z"
   },
   {
    "duration": 0,
    "start_time": "2023-06-16T12:03:28.617Z"
   },
   {
    "duration": 0,
    "start_time": "2023-06-16T12:03:28.618Z"
   },
   {
    "duration": 0,
    "start_time": "2023-06-16T12:03:28.619Z"
   },
   {
    "duration": 0,
    "start_time": "2023-06-16T12:03:28.620Z"
   },
   {
    "duration": 5,
    "start_time": "2023-06-16T12:04:49.751Z"
   },
   {
    "duration": 265,
    "start_time": "2023-06-16T12:04:57.254Z"
   },
   {
    "duration": 979,
    "start_time": "2023-06-16T12:04:58.242Z"
   },
   {
    "duration": 1040,
    "start_time": "2023-06-16T12:04:59.224Z"
   },
   {
    "duration": 2,
    "start_time": "2023-06-16T12:05:00.266Z"
   },
   {
    "duration": 887,
    "start_time": "2023-06-16T12:05:00.270Z"
   },
   {
    "duration": 460,
    "start_time": "2023-06-16T12:13:06.711Z"
   },
   {
    "duration": 1072,
    "start_time": "2023-06-16T12:13:07.179Z"
   },
   {
    "duration": 190,
    "start_time": "2023-06-16T12:13:08.253Z"
   },
   {
    "duration": 199,
    "start_time": "2023-06-16T12:13:08.445Z"
   },
   {
    "duration": 256,
    "start_time": "2023-06-16T12:13:08.653Z"
   },
   {
    "duration": 268,
    "start_time": "2023-06-16T12:13:08.911Z"
   },
   {
    "duration": 622,
    "start_time": "2023-06-16T12:13:09.181Z"
   },
   {
    "duration": 617,
    "start_time": "2023-06-16T12:13:09.806Z"
   },
   {
    "duration": 3,
    "start_time": "2023-06-16T12:13:10.425Z"
   },
   {
    "duration": 476,
    "start_time": "2023-06-16T12:13:10.430Z"
   },
   {
    "duration": 453,
    "start_time": "2023-06-16T12:13:33.773Z"
   },
   {
    "duration": 1004,
    "start_time": "2023-06-16T12:13:34.228Z"
   },
   {
    "duration": 173,
    "start_time": "2023-06-16T12:13:35.234Z"
   },
   {
    "duration": 252,
    "start_time": "2023-06-16T12:13:35.409Z"
   },
   {
    "duration": 141,
    "start_time": "2023-06-16T12:13:35.666Z"
   },
   {
    "duration": 262,
    "start_time": "2023-06-16T12:13:35.809Z"
   },
   {
    "duration": 547,
    "start_time": "2023-06-16T12:13:36.075Z"
   },
   {
    "duration": 587,
    "start_time": "2023-06-16T12:13:36.624Z"
   },
   {
    "duration": 3,
    "start_time": "2023-06-16T12:13:37.212Z"
   },
   {
    "duration": 442,
    "start_time": "2023-06-16T12:13:37.217Z"
   },
   {
    "duration": 93,
    "start_time": "2023-06-16T12:24:12.648Z"
   },
   {
    "duration": 17,
    "start_time": "2023-06-16T12:24:17.000Z"
   },
   {
    "duration": 12,
    "start_time": "2023-06-16T12:27:39.496Z"
   },
   {
    "duration": 99,
    "start_time": "2023-06-16T12:27:43.414Z"
   },
   {
    "duration": 11,
    "start_time": "2023-06-16T12:27:45.689Z"
   },
   {
    "duration": 1588,
    "start_time": "2023-06-16T12:35:55.418Z"
   },
   {
    "duration": 388,
    "start_time": "2023-06-16T12:36:23.789Z"
   },
   {
    "duration": 919,
    "start_time": "2023-06-16T12:36:24.180Z"
   },
   {
    "duration": 148,
    "start_time": "2023-06-16T12:36:25.101Z"
   },
   {
    "duration": 208,
    "start_time": "2023-06-16T12:36:25.253Z"
   },
   {
    "duration": 1231,
    "start_time": "2023-06-16T12:36:25.464Z"
   },
   {
    "duration": 0,
    "start_time": "2023-06-16T12:36:26.697Z"
   },
   {
    "duration": 0,
    "start_time": "2023-06-16T12:36:26.698Z"
   },
   {
    "duration": 0,
    "start_time": "2023-06-16T12:36:26.699Z"
   },
   {
    "duration": 0,
    "start_time": "2023-06-16T12:36:26.701Z"
   },
   {
    "duration": 1,
    "start_time": "2023-06-16T12:36:26.701Z"
   },
   {
    "duration": 0,
    "start_time": "2023-06-16T12:36:26.703Z"
   },
   {
    "duration": 1412,
    "start_time": "2023-06-16T12:36:45.050Z"
   },
   {
    "duration": 19,
    "start_time": "2023-06-16T12:37:14.357Z"
   },
   {
    "duration": 4,
    "start_time": "2023-06-16T12:37:22.502Z"
   },
   {
    "duration": 3,
    "start_time": "2023-06-16T12:37:25.341Z"
   },
   {
    "duration": 5,
    "start_time": "2023-06-16T12:37:32.474Z"
   },
   {
    "duration": 4,
    "start_time": "2023-06-16T12:37:38.295Z"
   },
   {
    "duration": 3,
    "start_time": "2023-06-16T12:37:40.892Z"
   },
   {
    "duration": 5,
    "start_time": "2023-06-16T12:37:48.519Z"
   },
   {
    "duration": 9,
    "start_time": "2023-06-16T12:37:57.390Z"
   },
   {
    "duration": 10,
    "start_time": "2023-06-16T12:38:01.453Z"
   },
   {
    "duration": 8,
    "start_time": "2023-06-16T12:38:06.546Z"
   },
   {
    "duration": 4,
    "start_time": "2023-06-16T12:38:10.316Z"
   },
   {
    "duration": 8,
    "start_time": "2023-06-16T12:38:13.292Z"
   },
   {
    "duration": 3,
    "start_time": "2023-06-16T12:38:56.300Z"
   },
   {
    "duration": 381,
    "start_time": "2023-06-16T12:39:26.402Z"
   },
   {
    "duration": 886,
    "start_time": "2023-06-16T12:39:26.785Z"
   },
   {
    "duration": 143,
    "start_time": "2023-06-16T12:39:27.673Z"
   },
   {
    "duration": 209,
    "start_time": "2023-06-16T12:39:27.818Z"
   },
   {
    "duration": 113,
    "start_time": "2023-06-16T12:39:28.029Z"
   },
   {
    "duration": 216,
    "start_time": "2023-06-16T12:39:28.144Z"
   },
   {
    "duration": 451,
    "start_time": "2023-06-16T12:39:28.362Z"
   },
   {
    "duration": 485,
    "start_time": "2023-06-16T12:39:28.815Z"
   },
   {
    "duration": 3,
    "start_time": "2023-06-16T12:39:29.301Z"
   },
   {
    "duration": 389,
    "start_time": "2023-06-16T12:39:29.306Z"
   },
   {
    "duration": 728,
    "start_time": "2023-06-16T12:40:49.574Z"
   },
   {
    "duration": 9,
    "start_time": "2023-06-16T12:40:58.233Z"
   },
   {
    "duration": 17,
    "start_time": "2023-06-16T12:41:03.668Z"
   },
   {
    "duration": 39,
    "start_time": "2023-06-16T12:42:51.844Z"
   },
   {
    "duration": 42,
    "start_time": "2023-06-16T12:43:00.447Z"
   },
   {
    "duration": 105,
    "start_time": "2023-06-16T12:43:04.550Z"
   },
   {
    "duration": 461,
    "start_time": "2023-06-16T12:43:30.745Z"
   },
   {
    "duration": 965,
    "start_time": "2023-06-16T12:43:31.208Z"
   },
   {
    "duration": 147,
    "start_time": "2023-06-16T12:43:32.175Z"
   },
   {
    "duration": 271,
    "start_time": "2023-06-16T12:43:32.324Z"
   },
   {
    "duration": 169,
    "start_time": "2023-06-16T12:43:32.597Z"
   },
   {
    "duration": 220,
    "start_time": "2023-06-16T12:43:32.768Z"
   },
   {
    "duration": 505,
    "start_time": "2023-06-16T12:43:32.990Z"
   },
   {
    "duration": 488,
    "start_time": "2023-06-16T12:43:33.497Z"
   },
   {
    "duration": 2,
    "start_time": "2023-06-16T12:43:33.987Z"
   },
   {
    "duration": 454,
    "start_time": "2023-06-16T12:43:33.991Z"
   },
   {
    "duration": 24,
    "start_time": "2023-06-16T12:43:34.446Z"
   },
   {
    "duration": 91,
    "start_time": "2023-06-16T12:44:27.856Z"
   },
   {
    "duration": 441,
    "start_time": "2023-06-16T12:44:34.146Z"
   },
   {
    "duration": 865,
    "start_time": "2023-06-16T12:44:34.589Z"
   },
   {
    "duration": 157,
    "start_time": "2023-06-16T12:44:35.456Z"
   },
   {
    "duration": 247,
    "start_time": "2023-06-16T12:44:35.615Z"
   },
   {
    "duration": 105,
    "start_time": "2023-06-16T12:44:35.865Z"
   },
   {
    "duration": 204,
    "start_time": "2023-06-16T12:44:35.972Z"
   },
   {
    "duration": 372,
    "start_time": "2023-06-16T12:44:36.178Z"
   },
   {
    "duration": 397,
    "start_time": "2023-06-16T12:44:36.553Z"
   },
   {
    "duration": 3,
    "start_time": "2023-06-16T12:44:36.953Z"
   },
   {
    "duration": 358,
    "start_time": "2023-06-16T12:44:36.957Z"
   },
   {
    "duration": 17,
    "start_time": "2023-06-16T12:44:37.316Z"
   },
   {
    "duration": 400,
    "start_time": "2023-06-16T12:46:10.957Z"
   },
   {
    "duration": 881,
    "start_time": "2023-06-16T12:46:11.359Z"
   },
   {
    "duration": 147,
    "start_time": "2023-06-16T12:46:12.241Z"
   },
   {
    "duration": 302,
    "start_time": "2023-06-16T12:46:12.391Z"
   },
   {
    "duration": 103,
    "start_time": "2023-06-16T12:46:12.696Z"
   },
   {
    "duration": 210,
    "start_time": "2023-06-16T12:46:12.801Z"
   },
   {
    "duration": 363,
    "start_time": "2023-06-16T12:46:13.013Z"
   },
   {
    "duration": 389,
    "start_time": "2023-06-16T12:46:13.378Z"
   },
   {
    "duration": 3,
    "start_time": "2023-06-16T12:46:13.769Z"
   },
   {
    "duration": 324,
    "start_time": "2023-06-16T12:46:13.774Z"
   },
   {
    "duration": 18,
    "start_time": "2023-06-16T12:46:14.100Z"
   },
   {
    "duration": 71,
    "start_time": "2023-06-16T13:14:46.087Z"
   },
   {
    "duration": 101,
    "start_time": "2023-06-16T13:15:29.407Z"
   },
   {
    "duration": 110,
    "start_time": "2023-06-16T13:15:36.008Z"
   },
   {
    "duration": 1594,
    "start_time": "2023-06-16T13:15:41.928Z"
   },
   {
    "duration": 9,
    "start_time": "2023-06-16T13:16:41.220Z"
   },
   {
    "duration": 9,
    "start_time": "2023-06-16T13:16:45.150Z"
   },
   {
    "duration": 4,
    "start_time": "2023-06-16T13:17:33.804Z"
   },
   {
    "duration": 15333,
    "start_time": "2023-06-16T14:00:33.471Z"
   },
   {
    "duration": 12,
    "start_time": "2023-06-16T18:36:43.324Z"
   },
   {
    "duration": 563,
    "start_time": "2023-06-16T18:37:21.424Z"
   },
   {
    "duration": 172,
    "start_time": "2023-06-16T18:37:44.246Z"
   },
   {
    "duration": 106,
    "start_time": "2023-06-16T18:37:58.027Z"
   },
   {
    "duration": 1586,
    "start_time": "2023-06-16T18:38:35.935Z"
   },
   {
    "duration": 1570,
    "start_time": "2023-06-16T18:38:49.295Z"
   },
   {
    "duration": 1534,
    "start_time": "2023-06-16T18:39:08.487Z"
   },
   {
    "duration": 1603,
    "start_time": "2023-06-16T18:39:19.889Z"
   },
   {
    "duration": 1621,
    "start_time": "2023-06-16T18:39:30.313Z"
   },
   {
    "duration": 1666,
    "start_time": "2023-06-16T18:40:25.901Z"
   },
   {
    "duration": 1737,
    "start_time": "2023-06-16T18:40:43.752Z"
   },
   {
    "duration": 126,
    "start_time": "2023-06-16T18:41:17.055Z"
   },
   {
    "duration": 365,
    "start_time": "2023-06-16T18:41:22.777Z"
   },
   {
    "duration": 8,
    "start_time": "2023-06-16T18:41:37.734Z"
   },
   {
    "duration": 2356,
    "start_time": "2023-06-16T18:41:40.716Z"
   },
   {
    "duration": 2273,
    "start_time": "2023-06-16T18:42:13.425Z"
   },
   {
    "duration": 6429,
    "start_time": "2023-06-16T18:43:08.313Z"
   },
   {
    "duration": 0,
    "start_time": "2023-06-16T18:44:54.335Z"
   },
   {
    "duration": 12,
    "start_time": "2023-06-16T18:45:38.087Z"
   },
   {
    "duration": 9,
    "start_time": "2023-06-16T18:45:53.903Z"
   },
   {
    "duration": 0,
    "start_time": "2023-06-16T18:47:25.854Z"
   },
   {
    "duration": 18610,
    "start_time": "2023-06-16T18:47:27.030Z"
   },
   {
    "duration": 983,
    "start_time": "2023-06-16T18:48:31.734Z"
   },
   {
    "duration": 912,
    "start_time": "2023-06-16T18:48:47.409Z"
   },
   {
    "duration": 963,
    "start_time": "2023-06-16T18:49:06.720Z"
   },
   {
    "duration": 937,
    "start_time": "2023-06-16T18:50:09.863Z"
   },
   {
    "duration": 78,
    "start_time": "2023-06-16T18:50:17.614Z"
   },
   {
    "duration": 1009,
    "start_time": "2023-06-16T18:50:21.816Z"
   },
   {
    "duration": 6,
    "start_time": "2023-06-16T18:51:47.890Z"
   },
   {
    "duration": 5,
    "start_time": "2023-06-16T18:51:57.022Z"
   },
   {
    "duration": 403,
    "start_time": "2023-06-16T18:52:18.866Z"
   },
   {
    "duration": 922,
    "start_time": "2023-06-16T18:52:19.271Z"
   },
   {
    "duration": 151,
    "start_time": "2023-06-16T18:52:20.194Z"
   },
   {
    "duration": 257,
    "start_time": "2023-06-16T18:52:20.347Z"
   },
   {
    "duration": 99,
    "start_time": "2023-06-16T18:52:20.606Z"
   },
   {
    "duration": 213,
    "start_time": "2023-06-16T18:52:20.707Z"
   },
   {
    "duration": 366,
    "start_time": "2023-06-16T18:52:20.921Z"
   },
   {
    "duration": 395,
    "start_time": "2023-06-16T18:52:21.289Z"
   },
   {
    "duration": 3,
    "start_time": "2023-06-16T18:52:21.686Z"
   },
   {
    "duration": 319,
    "start_time": "2023-06-16T18:52:21.690Z"
   },
   {
    "duration": 1361,
    "start_time": "2023-06-16T18:52:22.011Z"
   },
   {
    "duration": 5,
    "start_time": "2023-06-16T18:52:23.374Z"
   },
   {
    "duration": 831,
    "start_time": "2023-06-16T18:52:50.092Z"
   },
   {
    "duration": 419,
    "start_time": "2023-06-16T18:52:58.543Z"
   },
   {
    "duration": 861,
    "start_time": "2023-06-16T18:52:58.964Z"
   },
   {
    "duration": 145,
    "start_time": "2023-06-16T18:52:59.826Z"
   },
   {
    "duration": 241,
    "start_time": "2023-06-16T18:52:59.973Z"
   },
   {
    "duration": 101,
    "start_time": "2023-06-16T18:53:00.216Z"
   },
   {
    "duration": 242,
    "start_time": "2023-06-16T18:53:00.318Z"
   },
   {
    "duration": 379,
    "start_time": "2023-06-16T18:53:00.561Z"
   },
   {
    "duration": 411,
    "start_time": "2023-06-16T18:53:00.942Z"
   },
   {
    "duration": 3,
    "start_time": "2023-06-16T18:53:01.355Z"
   },
   {
    "duration": 347,
    "start_time": "2023-06-16T18:53:01.360Z"
   },
   {
    "duration": 1327,
    "start_time": "2023-06-16T18:53:01.709Z"
   },
   {
    "duration": 5,
    "start_time": "2023-06-16T18:53:03.038Z"
   },
   {
    "duration": 107,
    "start_time": "2023-06-16T18:57:05.841Z"
   },
   {
    "duration": 36,
    "start_time": "2023-06-16T18:57:08.925Z"
   },
   {
    "duration": 437,
    "start_time": "2023-06-16T18:57:18.083Z"
   },
   {
    "duration": 1025,
    "start_time": "2023-06-16T18:57:18.522Z"
   },
   {
    "duration": 176,
    "start_time": "2023-06-16T18:57:19.559Z"
   },
   {
    "duration": 283,
    "start_time": "2023-06-16T18:57:19.736Z"
   },
   {
    "duration": 116,
    "start_time": "2023-06-16T18:57:20.021Z"
   },
   {
    "duration": 234,
    "start_time": "2023-06-16T18:57:20.139Z"
   },
   {
    "duration": 382,
    "start_time": "2023-06-16T18:57:20.375Z"
   },
   {
    "duration": 421,
    "start_time": "2023-06-16T18:57:20.760Z"
   },
   {
    "duration": 3,
    "start_time": "2023-06-16T18:57:21.184Z"
   },
   {
    "duration": 353,
    "start_time": "2023-06-16T18:57:21.189Z"
   },
   {
    "duration": 1463,
    "start_time": "2023-06-16T18:57:21.544Z"
   },
   {
    "duration": 126,
    "start_time": "2023-06-16T18:57:23.008Z"
   },
   {
    "duration": 82,
    "start_time": "2023-06-16T18:57:53.994Z"
   },
   {
    "duration": 449,
    "start_time": "2023-06-16T18:58:07.918Z"
   },
   {
    "duration": 919,
    "start_time": "2023-06-16T18:58:08.371Z"
   },
   {
    "duration": 147,
    "start_time": "2023-06-16T18:58:09.292Z"
   },
   {
    "duration": 280,
    "start_time": "2023-06-16T18:58:09.440Z"
   },
   {
    "duration": 111,
    "start_time": "2023-06-16T18:58:09.723Z"
   },
   {
    "duration": 227,
    "start_time": "2023-06-16T18:58:09.836Z"
   },
   {
    "duration": 431,
    "start_time": "2023-06-16T18:58:10.066Z"
   },
   {
    "duration": 444,
    "start_time": "2023-06-16T18:58:10.499Z"
   },
   {
    "duration": 3,
    "start_time": "2023-06-16T18:58:10.945Z"
   },
   {
    "duration": 340,
    "start_time": "2023-06-16T18:58:10.956Z"
   },
   {
    "duration": 1309,
    "start_time": "2023-06-16T18:58:11.298Z"
   },
   {
    "duration": 19,
    "start_time": "2023-06-16T18:58:12.608Z"
   },
   {
    "duration": 111,
    "start_time": "2023-06-16T20:06:12.431Z"
   },
   {
    "duration": 32468,
    "start_time": "2023-06-16T20:07:04.595Z"
   },
   {
    "duration": 22,
    "start_time": "2023-06-16T20:07:47.864Z"
   },
   {
    "duration": 15,
    "start_time": "2023-06-16T20:09:26.510Z"
   },
   {
    "duration": 13,
    "start_time": "2023-06-16T20:09:39.831Z"
   },
   {
    "duration": 14,
    "start_time": "2023-06-16T20:09:43.933Z"
   },
   {
    "duration": 1230,
    "start_time": "2023-06-16T20:10:50.423Z"
   },
   {
    "duration": 45168,
    "start_time": "2023-06-16T20:10:59.700Z"
   },
   {
    "duration": 12,
    "start_time": "2023-06-16T20:22:30.287Z"
   },
   {
    "duration": 0,
    "start_time": "2023-06-16T20:26:44.316Z"
   },
   {
    "duration": 4,
    "start_time": "2023-06-16T20:27:07.377Z"
   },
   {
    "duration": 10,
    "start_time": "2023-06-16T20:27:19.070Z"
   },
   {
    "duration": 406,
    "start_time": "2023-06-16T20:27:24.596Z"
   },
   {
    "duration": 1050,
    "start_time": "2023-06-16T20:27:25.004Z"
   },
   {
    "duration": 159,
    "start_time": "2023-06-16T20:27:26.056Z"
   },
   {
    "duration": 76,
    "start_time": "2023-06-16T20:27:26.217Z"
   },
   {
    "duration": 162,
    "start_time": "2023-06-16T20:27:26.295Z"
   },
   {
    "duration": 261,
    "start_time": "2023-06-16T20:27:26.466Z"
   },
   {
    "duration": 654,
    "start_time": "2023-06-16T20:27:26.729Z"
   },
   {
    "duration": 742,
    "start_time": "2023-06-16T20:27:27.385Z"
   },
   {
    "duration": 4,
    "start_time": "2023-06-16T20:27:28.129Z"
   },
   {
    "duration": 716,
    "start_time": "2023-06-16T20:27:28.135Z"
   },
   {
    "duration": 1489,
    "start_time": "2023-06-16T20:27:28.858Z"
   },
   {
    "duration": 34,
    "start_time": "2023-06-16T20:27:30.353Z"
   },
   {
    "duration": 48,
    "start_time": "2023-06-16T20:27:30.388Z"
   },
   {
    "duration": 5,
    "start_time": "2023-06-16T20:27:49.279Z"
   },
   {
    "duration": 5,
    "start_time": "2023-06-16T20:28:02.847Z"
   },
   {
    "duration": 1859,
    "start_time": "2023-06-16T20:28:40.830Z"
   },
   {
    "duration": 1715,
    "start_time": "2023-06-16T20:28:51.390Z"
   },
   {
    "duration": 1619,
    "start_time": "2023-06-16T20:30:13.411Z"
   },
   {
    "duration": 409,
    "start_time": "2023-06-16T20:30:41.985Z"
   },
   {
    "duration": 990,
    "start_time": "2023-06-16T20:30:42.397Z"
   },
   {
    "duration": 155,
    "start_time": "2023-06-16T20:30:43.389Z"
   },
   {
    "duration": 74,
    "start_time": "2023-06-16T20:30:43.546Z"
   },
   {
    "duration": 180,
    "start_time": "2023-06-16T20:30:43.622Z"
   },
   {
    "duration": 239,
    "start_time": "2023-06-16T20:30:43.804Z"
   },
   {
    "duration": 640,
    "start_time": "2023-06-16T20:30:44.054Z"
   },
   {
    "duration": 631,
    "start_time": "2023-06-16T20:30:44.696Z"
   },
   {
    "duration": 4,
    "start_time": "2023-06-16T20:30:45.329Z"
   },
   {
    "duration": 626,
    "start_time": "2023-06-16T20:30:45.336Z"
   },
   {
    "duration": 1305,
    "start_time": "2023-06-16T20:30:45.963Z"
   },
   {
    "duration": 28,
    "start_time": "2023-06-16T20:30:47.270Z"
   },
   {
    "duration": 1620,
    "start_time": "2023-06-16T20:30:47.300Z"
   },
   {
    "duration": 414,
    "start_time": "2023-06-16T20:30:59.863Z"
   },
   {
    "duration": 895,
    "start_time": "2023-06-16T20:31:00.280Z"
   },
   {
    "duration": 149,
    "start_time": "2023-06-16T20:31:01.177Z"
   },
   {
    "duration": 60,
    "start_time": "2023-06-16T20:31:01.329Z"
   },
   {
    "duration": 230,
    "start_time": "2023-06-16T20:31:01.391Z"
   },
   {
    "duration": 240,
    "start_time": "2023-06-16T20:31:01.623Z"
   },
   {
    "duration": 610,
    "start_time": "2023-06-16T20:31:01.865Z"
   },
   {
    "duration": 581,
    "start_time": "2023-06-16T20:31:02.477Z"
   },
   {
    "duration": 3,
    "start_time": "2023-06-16T20:31:03.060Z"
   },
   {
    "duration": 539,
    "start_time": "2023-06-16T20:31:03.066Z"
   },
   {
    "duration": 1221,
    "start_time": "2023-06-16T20:31:03.607Z"
   },
   {
    "duration": 37,
    "start_time": "2023-06-16T20:31:04.830Z"
   },
   {
    "duration": 1764,
    "start_time": "2023-06-16T20:31:04.869Z"
   },
   {
    "duration": 1470,
    "start_time": "2023-06-16T20:31:32.874Z"
   },
   {
    "duration": 411,
    "start_time": "2023-06-16T20:32:42.016Z"
   },
   {
    "duration": 919,
    "start_time": "2023-06-16T20:32:42.430Z"
   },
   {
    "duration": 144,
    "start_time": "2023-06-16T20:32:43.350Z"
   },
   {
    "duration": 67,
    "start_time": "2023-06-16T20:32:43.496Z"
   },
   {
    "duration": 142,
    "start_time": "2023-06-16T20:32:43.564Z"
   },
   {
    "duration": 229,
    "start_time": "2023-06-16T20:32:43.708Z"
   },
   {
    "duration": 606,
    "start_time": "2023-06-16T20:32:43.939Z"
   },
   {
    "duration": 591,
    "start_time": "2023-06-16T20:32:44.553Z"
   },
   {
    "duration": 7,
    "start_time": "2023-06-16T20:32:45.146Z"
   },
   {
    "duration": 520,
    "start_time": "2023-06-16T20:32:45.155Z"
   },
   {
    "duration": 1197,
    "start_time": "2023-06-16T20:32:45.676Z"
   },
   {
    "duration": 27,
    "start_time": "2023-06-16T20:32:46.875Z"
   },
   {
    "duration": 5,
    "start_time": "2023-06-16T20:32:46.904Z"
   },
   {
    "duration": 1850,
    "start_time": "2023-06-16T20:32:46.911Z"
   },
   {
    "duration": 1526,
    "start_time": "2023-06-16T20:33:36.674Z"
   },
   {
    "duration": 391,
    "start_time": "2023-06-16T20:33:51.796Z"
   },
   {
    "duration": 992,
    "start_time": "2023-06-16T20:33:52.189Z"
   },
   {
    "duration": 144,
    "start_time": "2023-06-16T20:33:53.184Z"
   },
   {
    "duration": 61,
    "start_time": "2023-06-16T20:33:53.331Z"
   },
   {
    "duration": 133,
    "start_time": "2023-06-16T20:33:53.394Z"
   },
   {
    "duration": 234,
    "start_time": "2023-06-16T20:33:53.529Z"
   },
   {
    "duration": 631,
    "start_time": "2023-06-16T20:33:53.765Z"
   },
   {
    "duration": 596,
    "start_time": "2023-06-16T20:33:54.398Z"
   },
   {
    "duration": 3,
    "start_time": "2023-06-16T20:33:54.996Z"
   },
   {
    "duration": 569,
    "start_time": "2023-06-16T20:33:55.002Z"
   },
   {
    "duration": 1283,
    "start_time": "2023-06-16T20:33:55.573Z"
   },
   {
    "duration": 28,
    "start_time": "2023-06-16T20:33:56.858Z"
   },
   {
    "duration": 6,
    "start_time": "2023-06-16T20:33:56.887Z"
   },
   {
    "duration": 1668,
    "start_time": "2023-06-16T20:33:56.894Z"
   },
   {
    "duration": 1595,
    "start_time": "2023-06-16T20:34:18.205Z"
   },
   {
    "duration": 424,
    "start_time": "2023-06-16T20:34:22.358Z"
   },
   {
    "duration": 983,
    "start_time": "2023-06-16T20:34:22.784Z"
   },
   {
    "duration": 152,
    "start_time": "2023-06-16T20:34:23.769Z"
   },
   {
    "duration": 72,
    "start_time": "2023-06-16T20:34:23.924Z"
   },
   {
    "duration": 139,
    "start_time": "2023-06-16T20:34:23.997Z"
   },
   {
    "duration": 272,
    "start_time": "2023-06-16T20:34:24.138Z"
   },
   {
    "duration": 609,
    "start_time": "2023-06-16T20:34:24.411Z"
   },
   {
    "duration": 610,
    "start_time": "2023-06-16T20:34:25.022Z"
   },
   {
    "duration": 4,
    "start_time": "2023-06-16T20:34:25.633Z"
   },
   {
    "duration": 589,
    "start_time": "2023-06-16T20:34:25.639Z"
   },
   {
    "duration": 1452,
    "start_time": "2023-06-16T20:34:26.230Z"
   },
   {
    "duration": 29,
    "start_time": "2023-06-16T20:34:27.683Z"
   },
   {
    "duration": 6,
    "start_time": "2023-06-16T20:34:27.713Z"
   },
   {
    "duration": 1805,
    "start_time": "2023-06-16T20:34:27.721Z"
   },
   {
    "duration": 365,
    "start_time": "2023-06-16T20:35:03.598Z"
   },
   {
    "duration": 872,
    "start_time": "2023-06-16T20:35:03.965Z"
   },
   {
    "duration": 130,
    "start_time": "2023-06-16T20:35:04.839Z"
   },
   {
    "duration": 51,
    "start_time": "2023-06-16T20:35:04.971Z"
   },
   {
    "duration": 167,
    "start_time": "2023-06-16T20:35:05.023Z"
   },
   {
    "duration": 233,
    "start_time": "2023-06-16T20:35:05.191Z"
   },
   {
    "duration": 617,
    "start_time": "2023-06-16T20:35:05.426Z"
   },
   {
    "duration": 606,
    "start_time": "2023-06-16T20:35:06.044Z"
   },
   {
    "duration": 3,
    "start_time": "2023-06-16T20:35:06.653Z"
   },
   {
    "duration": 568,
    "start_time": "2023-06-16T20:35:06.659Z"
   },
   {
    "duration": 1333,
    "start_time": "2023-06-16T20:35:07.228Z"
   },
   {
    "duration": 27,
    "start_time": "2023-06-16T20:35:08.563Z"
   },
   {
    "duration": 7,
    "start_time": "2023-06-16T20:35:08.592Z"
   },
   {
    "duration": 1786,
    "start_time": "2023-06-16T20:35:08.601Z"
   },
   {
    "duration": 6,
    "start_time": "2023-06-16T20:36:12.754Z"
   },
   {
    "duration": 475,
    "start_time": "2023-06-16T20:36:18.970Z"
   },
   {
    "duration": 956,
    "start_time": "2023-06-16T20:36:19.447Z"
   },
   {
    "duration": 142,
    "start_time": "2023-06-16T20:36:20.405Z"
   },
   {
    "duration": 60,
    "start_time": "2023-06-16T20:36:20.549Z"
   },
   {
    "duration": 155,
    "start_time": "2023-06-16T20:36:20.612Z"
   },
   {
    "duration": 232,
    "start_time": "2023-06-16T20:36:20.769Z"
   },
   {
    "duration": 607,
    "start_time": "2023-06-16T20:36:21.003Z"
   },
   {
    "duration": 603,
    "start_time": "2023-06-16T20:36:21.612Z"
   },
   {
    "duration": 3,
    "start_time": "2023-06-16T20:36:22.216Z"
   },
   {
    "duration": 600,
    "start_time": "2023-06-16T20:36:22.221Z"
   },
   {
    "duration": 1362,
    "start_time": "2023-06-16T20:36:22.822Z"
   },
   {
    "duration": 28,
    "start_time": "2023-06-16T20:36:24.187Z"
   },
   {
    "duration": 7,
    "start_time": "2023-06-16T20:36:24.217Z"
   },
   {
    "duration": 1638,
    "start_time": "2023-06-16T20:36:24.253Z"
   },
   {
    "duration": 413,
    "start_time": "2023-06-16T20:36:52.954Z"
   },
   {
    "duration": 918,
    "start_time": "2023-06-16T20:36:53.370Z"
   },
   {
    "duration": 141,
    "start_time": "2023-06-16T20:36:54.290Z"
   },
   {
    "duration": 63,
    "start_time": "2023-06-16T20:36:54.432Z"
   },
   {
    "duration": 138,
    "start_time": "2023-06-16T20:36:54.497Z"
   },
   {
    "duration": 225,
    "start_time": "2023-06-16T20:36:54.636Z"
   },
   {
    "duration": 581,
    "start_time": "2023-06-16T20:36:54.862Z"
   },
   {
    "duration": 611,
    "start_time": "2023-06-16T20:36:55.445Z"
   },
   {
    "duration": 4,
    "start_time": "2023-06-16T20:36:56.057Z"
   },
   {
    "duration": 572,
    "start_time": "2023-06-16T20:36:56.062Z"
   },
   {
    "duration": 1322,
    "start_time": "2023-06-16T20:36:56.635Z"
   },
   {
    "duration": 27,
    "start_time": "2023-06-16T20:36:57.959Z"
   },
   {
    "duration": 8,
    "start_time": "2023-06-16T20:36:57.988Z"
   },
   {
    "duration": 1599,
    "start_time": "2023-06-16T20:36:58.000Z"
   },
   {
    "duration": 3,
    "start_time": "2023-06-16T20:37:43.178Z"
   },
   {
    "duration": 5,
    "start_time": "2023-06-16T20:37:55.273Z"
   },
   {
    "duration": 21,
    "start_time": "2023-06-16T20:38:29.818Z"
   },
   {
    "duration": 12,
    "start_time": "2023-06-16T20:38:37.704Z"
   },
   {
    "duration": 27,
    "start_time": "2023-06-16T20:38:44.577Z"
   },
   {
    "duration": 9,
    "start_time": "2023-06-16T20:38:56.952Z"
   },
   {
    "duration": 10,
    "start_time": "2023-06-16T20:39:23.398Z"
   },
   {
    "duration": 101,
    "start_time": "2023-06-16T20:42:00.395Z"
   },
   {
    "duration": 427,
    "start_time": "2023-06-16T20:42:15.340Z"
   },
   {
    "duration": 886,
    "start_time": "2023-06-16T20:42:15.769Z"
   },
   {
    "duration": 139,
    "start_time": "2023-06-16T20:42:16.657Z"
   },
   {
    "duration": 64,
    "start_time": "2023-06-16T20:42:16.798Z"
   },
   {
    "duration": 138,
    "start_time": "2023-06-16T20:42:16.864Z"
   },
   {
    "duration": 228,
    "start_time": "2023-06-16T20:42:17.003Z"
   },
   {
    "duration": 585,
    "start_time": "2023-06-16T20:42:17.233Z"
   },
   {
    "duration": 624,
    "start_time": "2023-06-16T20:42:17.819Z"
   },
   {
    "duration": 3,
    "start_time": "2023-06-16T20:42:18.444Z"
   },
   {
    "duration": 579,
    "start_time": "2023-06-16T20:42:18.453Z"
   },
   {
    "duration": 1320,
    "start_time": "2023-06-16T20:42:19.033Z"
   },
   {
    "duration": 28,
    "start_time": "2023-06-16T20:42:20.355Z"
   },
   {
    "duration": 6,
    "start_time": "2023-06-16T20:42:20.384Z"
   },
   {
    "duration": 1647,
    "start_time": "2023-06-16T20:42:20.392Z"
   },
   {
    "duration": 15,
    "start_time": "2023-06-16T20:42:22.041Z"
   },
   {
    "duration": 197,
    "start_time": "2023-06-16T20:42:22.058Z"
   },
   {
    "duration": 30,
    "start_time": "2023-06-16T20:42:58.502Z"
   },
   {
    "duration": 17,
    "start_time": "2023-06-16T20:44:01.001Z"
   },
   {
    "duration": 16,
    "start_time": "2023-06-16T20:44:23.767Z"
   },
   {
    "duration": 7,
    "start_time": "2023-06-16T20:44:42.763Z"
   },
   {
    "duration": 2146,
    "start_time": "2023-06-16T20:45:18.415Z"
   },
   {
    "duration": 2320,
    "start_time": "2023-06-16T20:45:25.420Z"
   },
   {
    "duration": 2098,
    "start_time": "2023-06-16T20:45:33.708Z"
   },
   {
    "duration": 166,
    "start_time": "2023-06-16T20:51:22.324Z"
   },
   {
    "duration": 151,
    "start_time": "2023-06-16T20:52:24.114Z"
   },
   {
    "duration": 34,
    "start_time": "2023-06-16T20:53:23.170Z"
   },
   {
    "duration": 35,
    "start_time": "2023-06-16T20:54:26.335Z"
   },
   {
    "duration": 40,
    "start_time": "2023-06-16T20:54:46.724Z"
   },
   {
    "duration": 18,
    "start_time": "2023-06-16T20:55:17.978Z"
   },
   {
    "duration": 5,
    "start_time": "2023-06-16T20:56:16.565Z"
   },
   {
    "duration": 5,
    "start_time": "2023-06-16T20:56:26.019Z"
   },
   {
    "duration": 15,
    "start_time": "2023-06-16T20:57:17.630Z"
   },
   {
    "duration": 12,
    "start_time": "2023-06-16T20:57:31.814Z"
   },
   {
    "duration": 75,
    "start_time": "2023-06-16T20:57:37.785Z"
   },
   {
    "duration": 13,
    "start_time": "2023-06-16T20:57:40.516Z"
   },
   {
    "duration": 12,
    "start_time": "2023-06-16T21:03:20.670Z"
   },
   {
    "duration": 13,
    "start_time": "2023-06-16T21:03:26.248Z"
   },
   {
    "duration": 13,
    "start_time": "2023-06-16T21:03:38.210Z"
   },
   {
    "duration": 13,
    "start_time": "2023-06-16T21:03:59.624Z"
   },
   {
    "duration": 17,
    "start_time": "2023-06-16T21:04:29.380Z"
   },
   {
    "duration": 17,
    "start_time": "2023-06-16T21:04:35.851Z"
   },
   {
    "duration": 17,
    "start_time": "2023-06-16T21:04:38.572Z"
   },
   {
    "duration": 19,
    "start_time": "2023-06-16T21:05:08.524Z"
   },
   {
    "duration": 4,
    "start_time": "2023-06-16T21:05:16.338Z"
   },
   {
    "duration": 30,
    "start_time": "2023-06-16T21:05:20.733Z"
   },
   {
    "duration": 8,
    "start_time": "2023-06-16T21:06:39.874Z"
   },
   {
    "duration": 5,
    "start_time": "2023-06-16T21:06:55.139Z"
   },
   {
    "duration": 399,
    "start_time": "2023-06-16T21:07:15.208Z"
   },
   {
    "duration": 873,
    "start_time": "2023-06-16T21:07:15.608Z"
   },
   {
    "duration": 147,
    "start_time": "2023-06-16T21:07:16.486Z"
   },
   {
    "duration": 65,
    "start_time": "2023-06-16T21:07:16.635Z"
   },
   {
    "duration": 128,
    "start_time": "2023-06-16T21:07:16.702Z"
   },
   {
    "duration": 228,
    "start_time": "2023-06-16T21:07:16.832Z"
   },
   {
    "duration": 605,
    "start_time": "2023-06-16T21:07:17.062Z"
   },
   {
    "duration": 628,
    "start_time": "2023-06-16T21:07:17.668Z"
   },
   {
    "duration": 3,
    "start_time": "2023-06-16T21:07:18.299Z"
   },
   {
    "duration": 580,
    "start_time": "2023-06-16T21:07:18.304Z"
   },
   {
    "duration": 1386,
    "start_time": "2023-06-16T21:07:18.886Z"
   },
   {
    "duration": 30,
    "start_time": "2023-06-16T21:07:20.274Z"
   },
   {
    "duration": 1749,
    "start_time": "2023-06-16T21:07:20.306Z"
   },
   {
    "duration": 9,
    "start_time": "2023-06-16T21:07:22.057Z"
   },
   {
    "duration": 51,
    "start_time": "2023-06-16T21:07:22.068Z"
   },
   {
    "duration": 17,
    "start_time": "2023-06-16T21:07:22.121Z"
   },
   {
    "duration": 142,
    "start_time": "2023-06-16T21:07:22.140Z"
   },
   {
    "duration": 41,
    "start_time": "2023-06-16T21:07:22.284Z"
   },
   {
    "duration": 53,
    "start_time": "2023-06-16T21:07:22.327Z"
   },
   {
    "duration": 125,
    "start_time": "2023-06-16T21:07:22.383Z"
   },
   {
    "duration": 86,
    "start_time": "2023-06-16T21:07:22.509Z"
   },
   {
    "duration": 79,
    "start_time": "2023-06-16T21:08:19.077Z"
   },
   {
    "duration": 11,
    "start_time": "2023-06-16T21:08:30.640Z"
   },
   {
    "duration": 12,
    "start_time": "2023-06-16T21:08:36.905Z"
   },
   {
    "duration": 7,
    "start_time": "2023-06-16T21:08:45.769Z"
   },
   {
    "duration": 4,
    "start_time": "2023-06-16T21:09:11.277Z"
   },
   {
    "duration": 5,
    "start_time": "2023-06-16T21:09:22.905Z"
   },
   {
    "duration": 5,
    "start_time": "2023-06-16T21:09:25.442Z"
   },
   {
    "duration": 6,
    "start_time": "2023-06-16T21:09:52.006Z"
   },
   {
    "duration": 15,
    "start_time": "2023-06-16T21:10:42.945Z"
   },
   {
    "duration": 7,
    "start_time": "2023-06-16T21:14:43.727Z"
   },
   {
    "duration": 7,
    "start_time": "2023-06-16T21:14:47.051Z"
   },
   {
    "duration": 5,
    "start_time": "2023-06-16T21:22:17.241Z"
   },
   {
    "duration": 5,
    "start_time": "2023-06-16T21:22:20.454Z"
   },
   {
    "duration": 105,
    "start_time": "2023-06-17T15:43:52.270Z"
   },
   {
    "duration": 2386,
    "start_time": "2023-06-17T15:43:57.208Z"
   },
   {
    "duration": 4629,
    "start_time": "2023-06-17T15:43:59.601Z"
   },
   {
    "duration": 142,
    "start_time": "2023-06-17T15:44:04.242Z"
   },
   {
    "duration": 220,
    "start_time": "2023-06-17T15:44:04.387Z"
   },
   {
    "duration": 185,
    "start_time": "2023-06-17T15:44:04.610Z"
   },
   {
    "duration": 257,
    "start_time": "2023-06-17T15:44:04.798Z"
   },
   {
    "duration": 756,
    "start_time": "2023-06-17T15:44:05.057Z"
   },
   {
    "duration": 730,
    "start_time": "2023-06-17T15:44:05.819Z"
   },
   {
    "duration": 4,
    "start_time": "2023-06-17T15:44:06.554Z"
   },
   {
    "duration": 767,
    "start_time": "2023-06-17T15:44:06.561Z"
   },
   {
    "duration": 1392,
    "start_time": "2023-06-17T15:44:07.330Z"
   },
   {
    "duration": 33,
    "start_time": "2023-06-17T15:44:08.723Z"
   },
   {
    "duration": 2368,
    "start_time": "2023-06-17T15:44:08.758Z"
   },
   {
    "duration": 9,
    "start_time": "2023-06-17T15:44:11.130Z"
   },
   {
    "duration": 66,
    "start_time": "2023-06-17T15:44:11.141Z"
   },
   {
    "duration": 60,
    "start_time": "2023-06-17T15:44:11.209Z"
   },
   {
    "duration": 204,
    "start_time": "2023-06-17T15:44:11.272Z"
   },
   {
    "duration": 46,
    "start_time": "2023-06-17T15:44:11.478Z"
   },
   {
    "duration": 56,
    "start_time": "2023-06-17T15:44:11.526Z"
   },
   {
    "duration": 7,
    "start_time": "2023-06-17T15:44:11.585Z"
   },
   {
    "duration": 29,
    "start_time": "2023-06-17T15:44:11.594Z"
   },
   {
    "duration": 58,
    "start_time": "2023-06-17T15:44:11.625Z"
   },
   {
    "duration": 9,
    "start_time": "2023-06-17T15:44:11.686Z"
   },
   {
    "duration": 33,
    "start_time": "2023-06-17T15:44:11.698Z"
   },
   {
    "duration": 3,
    "start_time": "2023-06-17T15:44:11.734Z"
   },
   {
    "duration": 155,
    "start_time": "2023-06-17T15:44:11.745Z"
   },
   {
    "duration": 0,
    "start_time": "2023-06-17T15:44:11.902Z"
   },
   {
    "duration": 1735,
    "start_time": "2023-06-17T15:49:40.538Z"
   },
   {
    "duration": 920,
    "start_time": "2023-06-17T15:49:42.275Z"
   },
   {
    "duration": 161,
    "start_time": "2023-06-17T15:49:43.197Z"
   },
   {
    "duration": 66,
    "start_time": "2023-06-17T15:49:43.360Z"
   },
   {
    "duration": 141,
    "start_time": "2023-06-17T15:49:43.436Z"
   },
   {
    "duration": 262,
    "start_time": "2023-06-17T15:49:43.579Z"
   },
   {
    "duration": 616,
    "start_time": "2023-06-17T15:49:43.843Z"
   },
   {
    "duration": 633,
    "start_time": "2023-06-17T15:49:44.461Z"
   },
   {
    "duration": 3,
    "start_time": "2023-06-17T15:49:45.096Z"
   },
   {
    "duration": 631,
    "start_time": "2023-06-17T15:49:45.101Z"
   },
   {
    "duration": 796,
    "start_time": "2023-06-17T15:49:45.735Z"
   },
   {
    "duration": 0,
    "start_time": "2023-06-17T15:49:46.538Z"
   },
   {
    "duration": 1,
    "start_time": "2023-06-17T15:49:46.538Z"
   },
   {
    "duration": 0,
    "start_time": "2023-06-17T15:49:46.541Z"
   },
   {
    "duration": 0,
    "start_time": "2023-06-17T15:49:46.542Z"
   },
   {
    "duration": 0,
    "start_time": "2023-06-17T15:49:46.542Z"
   },
   {
    "duration": 0,
    "start_time": "2023-06-17T15:49:46.543Z"
   },
   {
    "duration": 0,
    "start_time": "2023-06-17T15:49:46.544Z"
   },
   {
    "duration": 0,
    "start_time": "2023-06-17T15:49:46.544Z"
   },
   {
    "duration": 0,
    "start_time": "2023-06-17T15:49:46.545Z"
   },
   {
    "duration": 0,
    "start_time": "2023-06-17T15:49:46.546Z"
   },
   {
    "duration": 0,
    "start_time": "2023-06-17T15:49:46.546Z"
   },
   {
    "duration": 0,
    "start_time": "2023-06-17T15:49:46.547Z"
   },
   {
    "duration": 0,
    "start_time": "2023-06-17T15:49:46.549Z"
   },
   {
    "duration": 0,
    "start_time": "2023-06-17T15:49:46.550Z"
   },
   {
    "duration": 0,
    "start_time": "2023-06-17T15:49:46.551Z"
   },
   {
    "duration": 0,
    "start_time": "2023-06-17T15:49:46.553Z"
   },
   {
    "duration": 1382,
    "start_time": "2023-06-17T15:49:53.316Z"
   },
   {
    "duration": 51,
    "start_time": "2023-06-17T15:49:54.701Z"
   },
   {
    "duration": 1993,
    "start_time": "2023-06-17T15:49:54.758Z"
   },
   {
    "duration": 8,
    "start_time": "2023-06-17T15:49:56.755Z"
   },
   {
    "duration": 37,
    "start_time": "2023-06-17T15:49:56.766Z"
   },
   {
    "duration": 22,
    "start_time": "2023-06-17T15:49:56.814Z"
   },
   {
    "duration": 161,
    "start_time": "2023-06-17T15:49:56.838Z"
   },
   {
    "duration": 54,
    "start_time": "2023-06-17T15:49:57.001Z"
   },
   {
    "duration": 28,
    "start_time": "2023-06-17T15:49:57.056Z"
   },
   {
    "duration": 5,
    "start_time": "2023-06-17T15:49:57.086Z"
   },
   {
    "duration": 8,
    "start_time": "2023-06-17T15:49:57.113Z"
   },
   {
    "duration": 29,
    "start_time": "2023-06-17T15:49:57.122Z"
   },
   {
    "duration": 18,
    "start_time": "2023-06-17T15:49:57.154Z"
   },
   {
    "duration": 33,
    "start_time": "2023-06-17T15:50:02.389Z"
   },
   {
    "duration": 30,
    "start_time": "2023-06-17T15:50:03.568Z"
   },
   {
    "duration": 178,
    "start_time": "2023-06-17T15:50:59.327Z"
   },
   {
    "duration": 1899,
    "start_time": "2023-06-17T15:58:23.887Z"
   },
   {
    "duration": 975,
    "start_time": "2023-06-17T15:58:25.788Z"
   },
   {
    "duration": 170,
    "start_time": "2023-06-17T15:58:26.771Z"
   },
   {
    "duration": 73,
    "start_time": "2023-06-17T15:58:26.948Z"
   },
   {
    "duration": 149,
    "start_time": "2023-06-17T15:58:27.026Z"
   },
   {
    "duration": 258,
    "start_time": "2023-06-17T15:58:27.178Z"
   },
   {
    "duration": 700,
    "start_time": "2023-06-17T15:58:27.437Z"
   },
   {
    "duration": 723,
    "start_time": "2023-06-17T15:58:28.148Z"
   },
   {
    "duration": 5,
    "start_time": "2023-06-17T15:58:28.875Z"
   },
   {
    "duration": 707,
    "start_time": "2023-06-17T15:58:28.883Z"
   },
   {
    "duration": 1501,
    "start_time": "2023-06-17T15:58:29.593Z"
   },
   {
    "duration": 41,
    "start_time": "2023-06-17T15:58:31.099Z"
   },
   {
    "duration": 2573,
    "start_time": "2023-06-17T15:58:31.147Z"
   },
   {
    "duration": 12,
    "start_time": "2023-06-17T15:58:33.725Z"
   },
   {
    "duration": 40,
    "start_time": "2023-06-17T15:58:33.740Z"
   },
   {
    "duration": 42,
    "start_time": "2023-06-17T15:58:33.783Z"
   },
   {
    "duration": 205,
    "start_time": "2023-06-17T15:58:33.832Z"
   },
   {
    "duration": 81,
    "start_time": "2023-06-17T15:58:34.044Z"
   },
   {
    "duration": 52,
    "start_time": "2023-06-17T15:58:34.131Z"
   },
   {
    "duration": 8,
    "start_time": "2023-06-17T15:58:34.189Z"
   },
   {
    "duration": 6,
    "start_time": "2023-06-17T15:58:34.200Z"
   },
   {
    "duration": 32,
    "start_time": "2023-06-17T15:58:34.208Z"
   },
   {
    "duration": 22,
    "start_time": "2023-06-17T15:58:34.245Z"
   },
   {
    "duration": 47,
    "start_time": "2023-06-17T15:58:34.269Z"
   },
   {
    "duration": 188,
    "start_time": "2023-06-17T15:58:34.324Z"
   },
   {
    "duration": 1,
    "start_time": "2023-06-17T15:58:34.514Z"
   },
   {
    "duration": 0,
    "start_time": "2023-06-17T15:58:34.516Z"
   },
   {
    "duration": 0,
    "start_time": "2023-06-17T15:58:34.519Z"
   },
   {
    "duration": 0,
    "start_time": "2023-06-17T15:58:34.525Z"
   },
   {
    "duration": 0,
    "start_time": "2023-06-17T15:58:34.527Z"
   },
   {
    "duration": 45,
    "start_time": "2023-06-17T15:58:45.204Z"
   },
   {
    "duration": 148,
    "start_time": "2023-06-17T15:58:47.579Z"
   },
   {
    "duration": 7,
    "start_time": "2023-06-17T15:58:49.578Z"
   },
   {
    "duration": 3768,
    "start_time": "2023-06-17T15:58:50.654Z"
   },
   {
    "duration": 113,
    "start_time": "2023-06-17T15:58:56.078Z"
   },
   {
    "duration": 350,
    "start_time": "2023-06-17T15:59:53.234Z"
   },
   {
    "duration": 4687,
    "start_time": "2023-06-17T16:00:50.063Z"
   },
   {
    "duration": 2195,
    "start_time": "2023-06-17T16:00:54.764Z"
   },
   {
    "duration": 247,
    "start_time": "2023-06-17T16:00:56.969Z"
   },
   {
    "duration": 77,
    "start_time": "2023-06-17T16:00:57.227Z"
   },
   {
    "duration": 226,
    "start_time": "2023-06-17T16:00:57.307Z"
   },
   {
    "duration": 510,
    "start_time": "2023-06-17T16:00:57.539Z"
   },
   {
    "duration": 789,
    "start_time": "2023-06-17T16:00:58.054Z"
   },
   {
    "duration": 859,
    "start_time": "2023-06-17T16:00:58.849Z"
   },
   {
    "duration": 5,
    "start_time": "2023-06-17T16:00:59.714Z"
   },
   {
    "duration": 1121,
    "start_time": "2023-06-17T16:00:59.726Z"
   },
   {
    "duration": 1864,
    "start_time": "2023-06-17T16:01:00.855Z"
   },
   {
    "duration": 75,
    "start_time": "2023-06-17T16:01:02.726Z"
   },
   {
    "duration": 2857,
    "start_time": "2023-06-17T16:01:02.820Z"
   },
   {
    "duration": 21,
    "start_time": "2023-06-17T16:01:05.684Z"
   },
   {
    "duration": 44,
    "start_time": "2023-06-17T16:01:05.714Z"
   },
   {
    "duration": 30,
    "start_time": "2023-06-17T16:01:05.760Z"
   },
   {
    "duration": 195,
    "start_time": "2023-06-17T16:01:05.797Z"
   },
   {
    "duration": 60,
    "start_time": "2023-06-17T16:01:05.998Z"
   },
   {
    "duration": 44,
    "start_time": "2023-06-17T16:01:06.066Z"
   },
   {
    "duration": 8,
    "start_time": "2023-06-17T16:01:06.122Z"
   },
   {
    "duration": 36,
    "start_time": "2023-06-17T16:01:06.135Z"
   },
   {
    "duration": 67,
    "start_time": "2023-06-17T16:01:06.174Z"
   },
   {
    "duration": 32,
    "start_time": "2023-06-17T16:01:06.248Z"
   },
   {
    "duration": 43,
    "start_time": "2023-06-17T16:01:06.285Z"
   },
   {
    "duration": 68,
    "start_time": "2023-06-17T16:01:06.330Z"
   },
   {
    "duration": 203,
    "start_time": "2023-06-17T16:01:06.401Z"
   },
   {
    "duration": 3,
    "start_time": "2023-06-17T16:01:06.606Z"
   },
   {
    "duration": 4631,
    "start_time": "2023-06-17T16:01:06.614Z"
   },
   {
    "duration": 121,
    "start_time": "2023-06-17T16:01:11.248Z"
   },
   {
    "duration": 201,
    "start_time": "2023-06-17T16:01:11.371Z"
   },
   {
    "duration": 1940,
    "start_time": "2023-06-17T16:15:51.487Z"
   },
   {
    "duration": 2140,
    "start_time": "2023-06-17T16:15:53.429Z"
   },
   {
    "duration": 177,
    "start_time": "2023-06-17T16:15:55.576Z"
   },
   {
    "duration": 158,
    "start_time": "2023-06-17T16:15:55.761Z"
   },
   {
    "duration": 205,
    "start_time": "2023-06-17T16:15:55.924Z"
   },
   {
    "duration": 370,
    "start_time": "2023-06-17T16:15:56.131Z"
   },
   {
    "duration": 804,
    "start_time": "2023-06-17T16:15:56.504Z"
   },
   {
    "duration": 791,
    "start_time": "2023-06-17T16:15:57.310Z"
   },
   {
    "duration": 20,
    "start_time": "2023-06-17T16:15:58.104Z"
   },
   {
    "duration": 813,
    "start_time": "2023-06-17T16:15:58.133Z"
   },
   {
    "duration": 1507,
    "start_time": "2023-06-17T16:15:58.951Z"
   },
   {
    "duration": 41,
    "start_time": "2023-06-17T16:16:00.464Z"
   },
   {
    "duration": 2716,
    "start_time": "2023-06-17T16:16:00.508Z"
   },
   {
    "duration": 17,
    "start_time": "2023-06-17T16:16:03.229Z"
   },
   {
    "duration": 84,
    "start_time": "2023-06-17T16:16:03.253Z"
   },
   {
    "duration": 40,
    "start_time": "2023-06-17T16:16:03.347Z"
   },
   {
    "duration": 237,
    "start_time": "2023-06-17T16:16:03.392Z"
   },
   {
    "duration": 72,
    "start_time": "2023-06-17T16:16:03.631Z"
   },
   {
    "duration": 69,
    "start_time": "2023-06-17T16:16:03.706Z"
   },
   {
    "duration": 8,
    "start_time": "2023-06-17T16:16:03.777Z"
   },
   {
    "duration": 6,
    "start_time": "2023-06-17T16:16:03.787Z"
   },
   {
    "duration": 26,
    "start_time": "2023-06-17T16:16:03.795Z"
   },
   {
    "duration": 20,
    "start_time": "2023-06-17T16:16:03.825Z"
   },
   {
    "duration": 38,
    "start_time": "2023-06-17T16:16:03.848Z"
   },
   {
    "duration": 50,
    "start_time": "2023-06-17T16:16:03.889Z"
   },
   {
    "duration": 168,
    "start_time": "2023-06-17T16:16:03.943Z"
   },
   {
    "duration": 4,
    "start_time": "2023-06-17T16:16:04.113Z"
   },
   {
    "duration": 3371,
    "start_time": "2023-06-17T16:16:04.119Z"
   },
   {
    "duration": 147,
    "start_time": "2023-06-17T16:16:07.495Z"
   },
   {
    "duration": 3138,
    "start_time": "2023-06-17T16:16:07.651Z"
   },
   {
    "duration": 1802,
    "start_time": "2023-06-17T16:16:53.389Z"
   },
   {
    "duration": 1066,
    "start_time": "2023-06-17T16:16:55.194Z"
   },
   {
    "duration": 136,
    "start_time": "2023-06-17T16:16:56.263Z"
   },
   {
    "duration": 73,
    "start_time": "2023-06-17T16:16:56.401Z"
   },
   {
    "duration": 189,
    "start_time": "2023-06-17T16:16:56.476Z"
   },
   {
    "duration": 240,
    "start_time": "2023-06-17T16:16:56.670Z"
   },
   {
    "duration": 663,
    "start_time": "2023-06-17T16:16:56.914Z"
   },
   {
    "duration": 676,
    "start_time": "2023-06-17T16:16:57.579Z"
   },
   {
    "duration": 11,
    "start_time": "2023-06-17T16:16:58.258Z"
   },
   {
    "duration": 790,
    "start_time": "2023-06-17T16:16:58.281Z"
   },
   {
    "duration": 1569,
    "start_time": "2023-06-17T16:16:59.073Z"
   },
   {
    "duration": 39,
    "start_time": "2023-06-17T16:17:00.649Z"
   },
   {
    "duration": 2838,
    "start_time": "2023-06-17T16:17:00.691Z"
   },
   {
    "duration": 25,
    "start_time": "2023-06-17T16:17:03.540Z"
   },
   {
    "duration": 62,
    "start_time": "2023-06-17T16:17:03.577Z"
   },
   {
    "duration": 28,
    "start_time": "2023-06-17T16:17:03.645Z"
   },
   {
    "duration": 270,
    "start_time": "2023-06-17T16:17:03.686Z"
   },
   {
    "duration": 66,
    "start_time": "2023-06-17T16:17:03.959Z"
   },
   {
    "duration": 52,
    "start_time": "2023-06-17T16:17:04.043Z"
   },
   {
    "duration": 8,
    "start_time": "2023-06-17T16:17:04.103Z"
   },
   {
    "duration": 12,
    "start_time": "2023-06-17T16:17:04.123Z"
   },
   {
    "duration": 31,
    "start_time": "2023-06-17T16:17:04.137Z"
   },
   {
    "duration": 14,
    "start_time": "2023-06-17T16:17:04.170Z"
   },
   {
    "duration": 41,
    "start_time": "2023-06-17T16:17:04.186Z"
   },
   {
    "duration": 44,
    "start_time": "2023-06-17T16:17:04.229Z"
   },
   {
    "duration": 142,
    "start_time": "2023-06-17T16:17:04.275Z"
   },
   {
    "duration": 2,
    "start_time": "2023-06-17T16:17:04.419Z"
   },
   {
    "duration": 3597,
    "start_time": "2023-06-17T16:17:04.425Z"
   },
   {
    "duration": 117,
    "start_time": "2023-06-17T16:17:08.024Z"
   },
   {
    "duration": 14,
    "start_time": "2023-06-17T16:17:08.144Z"
   },
   {
    "duration": 23,
    "start_time": "2023-06-17T16:39:23.840Z"
   },
   {
    "duration": 8097,
    "start_time": "2023-06-17T16:39:25.132Z"
   },
   {
    "duration": 133,
    "start_time": "2023-06-17T16:39:34.057Z"
   },
   {
    "duration": 13,
    "start_time": "2023-06-17T16:39:39.170Z"
   },
   {
    "duration": 8206,
    "start_time": "2023-06-17T16:39:39.645Z"
   },
   {
    "duration": 103,
    "start_time": "2023-06-17T16:39:49.196Z"
   },
   {
    "duration": 8,
    "start_time": "2023-06-17T16:40:04.472Z"
   },
   {
    "duration": 9593,
    "start_time": "2023-06-17T16:40:04.848Z"
   },
   {
    "duration": 117,
    "start_time": "2023-06-17T16:40:14.450Z"
   },
   {
    "duration": 6,
    "start_time": "2023-06-17T16:40:20.631Z"
   },
   {
    "duration": 9183,
    "start_time": "2023-06-17T16:40:21.627Z"
   },
   {
    "duration": 133,
    "start_time": "2023-06-17T16:40:30.820Z"
   },
   {
    "duration": 5,
    "start_time": "2023-06-17T16:40:45.058Z"
   },
   {
    "duration": 13799,
    "start_time": "2023-06-17T16:40:45.345Z"
   },
   {
    "duration": 245,
    "start_time": "2023-06-17T16:40:59.146Z"
   },
   {
    "duration": 4,
    "start_time": "2023-06-17T16:41:21.599Z"
   },
   {
    "duration": 11118,
    "start_time": "2023-06-17T16:41:21.968Z"
   },
   {
    "duration": 100,
    "start_time": "2023-06-17T16:41:33.102Z"
   },
   {
    "duration": 5,
    "start_time": "2023-06-17T16:41:47.879Z"
   },
   {
    "duration": 31946,
    "start_time": "2023-06-17T16:41:48.155Z"
   },
   {
    "duration": 163,
    "start_time": "2023-06-17T16:42:20.104Z"
   },
   {
    "duration": 14,
    "start_time": "2023-06-17T16:42:46.055Z"
   },
   {
    "duration": 16173,
    "start_time": "2023-06-17T16:42:46.678Z"
   },
   {
    "duration": 144,
    "start_time": "2023-06-17T16:43:02.858Z"
   },
   {
    "duration": 230,
    "start_time": "2023-06-17T16:43:37.847Z"
   },
   {
    "duration": 48,
    "start_time": "2023-06-17T16:43:43.420Z"
   },
   {
    "duration": 3,
    "start_time": "2023-06-17T16:43:47.701Z"
   },
   {
    "duration": 202,
    "start_time": "2023-06-17T16:43:50.239Z"
   },
   {
    "duration": 174,
    "start_time": "2023-06-17T16:48:07.782Z"
   },
   {
    "duration": 147,
    "start_time": "2023-06-17T16:48:19.969Z"
   },
   {
    "duration": 152,
    "start_time": "2023-06-17T16:48:25.398Z"
   },
   {
    "duration": 3,
    "start_time": "2023-06-17T16:48:26.999Z"
   },
   {
    "duration": 133,
    "start_time": "2023-06-17T16:48:27.474Z"
   },
   {
    "duration": 142,
    "start_time": "2023-06-17T16:49:14.335Z"
   },
   {
    "duration": 121,
    "start_time": "2023-06-17T16:49:41.667Z"
   },
   {
    "duration": 172,
    "start_time": "2023-06-17T16:49:47.212Z"
   },
   {
    "duration": 2048,
    "start_time": "2023-06-17T16:55:13.914Z"
   },
   {
    "duration": 1168,
    "start_time": "2023-06-17T16:55:15.970Z"
   },
   {
    "duration": 187,
    "start_time": "2023-06-17T16:55:17.140Z"
   },
   {
    "duration": 84,
    "start_time": "2023-06-17T16:55:17.330Z"
   },
   {
    "duration": 170,
    "start_time": "2023-06-17T16:55:17.420Z"
   },
   {
    "duration": 379,
    "start_time": "2023-06-17T16:55:17.592Z"
   },
   {
    "duration": 827,
    "start_time": "2023-06-17T16:55:17.978Z"
   },
   {
    "duration": 840,
    "start_time": "2023-06-17T16:55:18.813Z"
   },
   {
    "duration": 8,
    "start_time": "2023-06-17T16:55:19.664Z"
   },
   {
    "duration": 1030,
    "start_time": "2023-06-17T16:55:19.679Z"
   },
   {
    "duration": 1595,
    "start_time": "2023-06-17T16:55:20.711Z"
   },
   {
    "duration": 52,
    "start_time": "2023-06-17T16:55:22.308Z"
   },
   {
    "duration": 2491,
    "start_time": "2023-06-17T16:55:22.362Z"
   },
   {
    "duration": 17,
    "start_time": "2023-06-17T16:55:24.859Z"
   },
   {
    "duration": 55,
    "start_time": "2023-06-17T16:55:24.879Z"
   },
   {
    "duration": 40,
    "start_time": "2023-06-17T16:55:24.936Z"
   },
   {
    "duration": 163,
    "start_time": "2023-06-17T16:55:24.978Z"
   },
   {
    "duration": 47,
    "start_time": "2023-06-17T16:55:25.143Z"
   },
   {
    "duration": 59,
    "start_time": "2023-06-17T16:55:25.192Z"
   },
   {
    "duration": 5,
    "start_time": "2023-06-17T16:55:25.253Z"
   },
   {
    "duration": 15,
    "start_time": "2023-06-17T16:55:25.260Z"
   },
   {
    "duration": 21,
    "start_time": "2023-06-17T16:55:25.277Z"
   },
   {
    "duration": 24,
    "start_time": "2023-06-17T16:55:25.301Z"
   },
   {
    "duration": 38,
    "start_time": "2023-06-17T16:55:25.327Z"
   },
   {
    "duration": 36,
    "start_time": "2023-06-17T16:55:25.367Z"
   },
   {
    "duration": 194,
    "start_time": "2023-06-17T16:55:25.405Z"
   },
   {
    "duration": 3,
    "start_time": "2023-06-17T16:55:25.602Z"
   },
   {
    "duration": 14068,
    "start_time": "2023-06-17T16:55:25.608Z"
   },
   {
    "duration": 134,
    "start_time": "2023-06-17T16:55:39.683Z"
   },
   {
    "duration": 5,
    "start_time": "2023-06-17T16:55:39.823Z"
   },
   {
    "duration": 488,
    "start_time": "2023-06-17T16:55:39.834Z"
   },
   {
    "duration": 201,
    "start_time": "2023-06-17T16:55:40.324Z"
   },
   {
    "duration": 14,
    "start_time": "2023-06-17T16:55:40.527Z"
   },
   {
    "duration": 17,
    "start_time": "2023-06-17T17:28:50.908Z"
   },
   {
    "duration": 3474,
    "start_time": "2023-06-17T17:29:21.733Z"
   },
   {
    "duration": 16,
    "start_time": "2023-06-17T17:29:28.560Z"
   },
   {
    "duration": 10,
    "start_time": "2023-06-17T17:29:54.567Z"
   },
   {
    "duration": 426,
    "start_time": "2023-06-17T17:29:56.877Z"
   },
   {
    "duration": 24,
    "start_time": "2023-06-17T17:30:12.642Z"
   },
   {
    "duration": 3648,
    "start_time": "2023-06-17T17:35:12.208Z"
   },
   {
    "duration": 11,
    "start_time": "2023-06-17T17:35:19.042Z"
   },
   {
    "duration": 205,
    "start_time": "2023-06-17T17:35:50.185Z"
   },
   {
    "duration": 13192,
    "start_time": "2023-06-17T17:37:37.109Z"
   },
   {
    "duration": 9539,
    "start_time": "2023-06-17T17:43:03.383Z"
   },
   {
    "duration": 10824,
    "start_time": "2023-06-17T17:43:30.676Z"
   },
   {
    "duration": 9731,
    "start_time": "2023-06-17T17:44:17.000Z"
   },
   {
    "duration": 9367,
    "start_time": "2023-06-17T17:44:52.298Z"
   },
   {
    "duration": 9523,
    "start_time": "2023-06-17T17:45:18.665Z"
   },
   {
    "duration": 4,
    "start_time": "2023-06-17T17:45:55.079Z"
   },
   {
    "duration": 5,
    "start_time": "2023-06-17T17:45:55.291Z"
   },
   {
    "duration": 4,
    "start_time": "2023-06-17T17:45:55.544Z"
   },
   {
    "duration": 27,
    "start_time": "2023-06-17T17:46:33.979Z"
   },
   {
    "duration": 23,
    "start_time": "2023-06-17T17:47:36.412Z"
   },
   {
    "duration": 12,
    "start_time": "2023-06-17T17:47:58.842Z"
   },
   {
    "duration": 7,
    "start_time": "2023-06-17T17:47:59.170Z"
   },
   {
    "duration": 32,
    "start_time": "2023-06-17T17:50:11.801Z"
   },
   {
    "duration": 9,
    "start_time": "2023-06-17T17:50:14.677Z"
   },
   {
    "duration": 70,
    "start_time": "2023-06-17T17:53:29.662Z"
   },
   {
    "duration": 144,
    "start_time": "2023-06-17T17:53:36.980Z"
   },
   {
    "duration": 147,
    "start_time": "2023-06-17T17:53:40.355Z"
   },
   {
    "duration": 131,
    "start_time": "2023-06-17T17:54:43.036Z"
   },
   {
    "duration": 4,
    "start_time": "2023-06-17T17:54:45.275Z"
   },
   {
    "duration": 93,
    "start_time": "2023-06-17T17:54:47.202Z"
   },
   {
    "duration": 349811,
    "start_time": "2023-06-17T17:55:02.399Z"
   },
   {
    "duration": 8,
    "start_time": "2023-06-17T18:00:52.213Z"
   },
   {
    "duration": 366520,
    "start_time": "2023-06-17T18:00:54.604Z"
   },
   {
    "duration": 82,
    "start_time": "2023-06-17T18:07:01.748Z"
   },
   {
    "duration": 49,
    "start_time": "2023-06-17T18:08:10.121Z"
   },
   {
    "duration": 3748,
    "start_time": "2023-06-17T18:15:15.379Z"
   },
   {
    "duration": 3205,
    "start_time": "2023-06-17T18:15:19.134Z"
   },
   {
    "duration": 3457,
    "start_time": "2023-06-17T18:15:22.341Z"
   },
   {
    "duration": 160,
    "start_time": "2023-06-17T18:15:25.800Z"
   },
   {
    "duration": 79,
    "start_time": "2023-06-17T18:15:25.963Z"
   },
   {
    "duration": 151,
    "start_time": "2023-06-17T18:15:26.044Z"
   },
   {
    "duration": 228,
    "start_time": "2023-06-17T18:15:26.198Z"
   },
   {
    "duration": 606,
    "start_time": "2023-06-17T18:15:26.428Z"
   },
   {
    "duration": 696,
    "start_time": "2023-06-17T18:15:27.037Z"
   },
   {
    "duration": 3,
    "start_time": "2023-06-17T18:15:27.738Z"
   },
   {
    "duration": 600,
    "start_time": "2023-06-17T18:15:27.743Z"
   },
   {
    "duration": 1206,
    "start_time": "2023-06-17T18:15:28.344Z"
   },
   {
    "duration": 32,
    "start_time": "2023-06-17T18:15:29.552Z"
   },
   {
    "duration": 1967,
    "start_time": "2023-06-17T18:15:29.588Z"
   },
   {
    "duration": 9,
    "start_time": "2023-06-17T18:15:31.558Z"
   },
   {
    "duration": 88,
    "start_time": "2023-06-17T18:15:31.569Z"
   },
   {
    "duration": 91,
    "start_time": "2023-06-17T18:15:31.659Z"
   },
   {
    "duration": 217,
    "start_time": "2023-06-17T18:15:31.753Z"
   },
   {
    "duration": 50,
    "start_time": "2023-06-17T18:15:31.972Z"
   },
   {
    "duration": 39,
    "start_time": "2023-06-17T18:15:32.023Z"
   },
   {
    "duration": 5,
    "start_time": "2023-06-17T18:15:32.064Z"
   },
   {
    "duration": 21,
    "start_time": "2023-06-17T18:15:32.071Z"
   },
   {
    "duration": 61,
    "start_time": "2023-06-17T18:15:32.094Z"
   },
   {
    "duration": 29,
    "start_time": "2023-06-17T18:15:32.157Z"
   },
   {
    "duration": 48,
    "start_time": "2023-06-17T18:15:32.189Z"
   },
   {
    "duration": 15,
    "start_time": "2023-06-17T18:15:32.239Z"
   },
   {
    "duration": 164,
    "start_time": "2023-06-17T18:15:32.256Z"
   },
   {
    "duration": 3,
    "start_time": "2023-06-17T18:15:32.422Z"
   },
   {
    "duration": 10457,
    "start_time": "2023-06-17T18:15:32.427Z"
   },
   {
    "duration": 94,
    "start_time": "2023-06-17T18:15:42.887Z"
   },
   {
    "duration": 20280,
    "start_time": "2023-06-17T18:15:42.983Z"
   },
   {
    "duration": 2408,
    "start_time": "2023-06-17T18:16:03.265Z"
   },
   {
    "duration": 0,
    "start_time": "2023-06-17T18:16:05.675Z"
   },
   {
    "duration": 0,
    "start_time": "2023-06-17T18:16:05.677Z"
   },
   {
    "duration": 0,
    "start_time": "2023-06-17T18:16:05.679Z"
   },
   {
    "duration": 0,
    "start_time": "2023-06-17T18:16:05.680Z"
   },
   {
    "duration": 0,
    "start_time": "2023-06-17T18:16:05.682Z"
   },
   {
    "duration": 0,
    "start_time": "2023-06-17T18:16:05.683Z"
   },
   {
    "duration": 10,
    "start_time": "2023-06-17T18:16:24.773Z"
   },
   {
    "duration": 257,
    "start_time": "2023-06-17T18:16:34.122Z"
   },
   {
    "duration": 4,
    "start_time": "2023-06-17T18:16:35.067Z"
   },
   {
    "duration": 89,
    "start_time": "2023-06-17T18:16:36.072Z"
   },
   {
    "duration": 347765,
    "start_time": "2023-06-17T18:16:41.603Z"
   },
   {
    "duration": 457,
    "start_time": "2023-06-17T18:22:29.421Z"
   },
   {
    "duration": 44,
    "start_time": "2023-06-17T18:22:29.880Z"
   },
   {
    "duration": 3,
    "start_time": "2023-06-17T18:28:43.969Z"
   },
   {
    "duration": 136267,
    "start_time": "2023-06-17T18:28:44.968Z"
   },
   {
    "duration": 416,
    "start_time": "2023-06-17T18:31:01.237Z"
   },
   {
    "duration": 34,
    "start_time": "2023-06-17T18:49:26.530Z"
   },
   {
    "duration": 3,
    "start_time": "2023-06-17T18:49:45.505Z"
   },
   {
    "duration": 222301,
    "start_time": "2023-06-17T18:49:48.229Z"
   },
   {
    "duration": 398,
    "start_time": "2023-06-17T18:53:30.533Z"
   },
   {
    "duration": 43,
    "start_time": "2023-06-18T10:12:41.608Z"
   },
   {
    "duration": 2923,
    "start_time": "2023-06-18T10:13:46.477Z"
   },
   {
    "duration": 1629,
    "start_time": "2023-06-18T10:13:49.402Z"
   },
   {
    "duration": 2717,
    "start_time": "2023-06-18T10:13:51.033Z"
   },
   {
    "duration": 116,
    "start_time": "2023-06-18T10:13:53.752Z"
   },
   {
    "duration": 47,
    "start_time": "2023-06-18T10:13:53.870Z"
   },
   {
    "duration": 153,
    "start_time": "2023-06-18T10:13:53.919Z"
   },
   {
    "duration": 218,
    "start_time": "2023-06-18T10:13:54.074Z"
   },
   {
    "duration": 475,
    "start_time": "2023-06-18T10:13:54.294Z"
   },
   {
    "duration": 492,
    "start_time": "2023-06-18T10:13:54.770Z"
   },
   {
    "duration": 3,
    "start_time": "2023-06-18T10:13:55.269Z"
   },
   {
    "duration": 472,
    "start_time": "2023-06-18T10:13:55.273Z"
   },
   {
    "duration": 915,
    "start_time": "2023-06-18T10:13:55.746Z"
   },
   {
    "duration": 22,
    "start_time": "2023-06-18T10:13:56.668Z"
   },
   {
    "duration": 1411,
    "start_time": "2023-06-18T10:13:56.692Z"
   },
   {
    "duration": 7,
    "start_time": "2023-06-18T10:13:58.105Z"
   },
   {
    "duration": 36,
    "start_time": "2023-06-18T10:13:58.113Z"
   },
   {
    "duration": 20,
    "start_time": "2023-06-18T10:13:58.151Z"
   },
   {
    "duration": 122,
    "start_time": "2023-06-18T10:13:58.173Z"
   },
   {
    "duration": 33,
    "start_time": "2023-06-18T10:13:58.297Z"
   },
   {
    "duration": 37,
    "start_time": "2023-06-18T10:13:58.332Z"
   },
   {
    "duration": 4,
    "start_time": "2023-06-18T10:13:58.370Z"
   },
   {
    "duration": 5,
    "start_time": "2023-06-18T10:13:58.375Z"
   },
   {
    "duration": 16,
    "start_time": "2023-06-18T10:13:58.381Z"
   },
   {
    "duration": 8,
    "start_time": "2023-06-18T10:13:58.398Z"
   },
   {
    "duration": 18,
    "start_time": "2023-06-18T10:13:58.407Z"
   },
   {
    "duration": 45,
    "start_time": "2023-06-18T10:13:58.427Z"
   },
   {
    "duration": 79,
    "start_time": "2023-06-18T10:13:58.473Z"
   },
   {
    "duration": 14,
    "start_time": "2023-06-18T10:13:58.556Z"
   },
   {
    "duration": 7891,
    "start_time": "2023-06-18T10:13:58.572Z"
   },
   {
    "duration": 61,
    "start_time": "2023-06-18T10:14:06.465Z"
   },
   {
    "duration": 10865,
    "start_time": "2023-06-18T10:14:06.528Z"
   },
   {
    "duration": 7,
    "start_time": "2023-06-18T10:14:17.395Z"
   },
   {
    "duration": 128,
    "start_time": "2023-06-18T10:14:17.403Z"
   },
   {
    "duration": 7,
    "start_time": "2023-06-18T10:14:17.532Z"
   },
   {
    "duration": 6333,
    "start_time": "2023-06-18T10:14:17.540Z"
   },
   {
    "duration": 2496,
    "start_time": "2023-06-18T10:14:23.875Z"
   },
   {
    "duration": 2,
    "start_time": "2023-06-18T10:14:26.373Z"
   },
   {
    "duration": 11,
    "start_time": "2023-06-18T10:14:26.377Z"
   },
   {
    "duration": 32,
    "start_time": "2023-06-18T10:14:26.390Z"
   },
   {
    "duration": 2,
    "start_time": "2023-06-18T10:14:26.424Z"
   },
   {
    "duration": 4,
    "start_time": "2023-06-18T10:32:58.175Z"
   },
   {
    "duration": 9807,
    "start_time": "2023-06-18T10:33:00.886Z"
   },
   {
    "duration": 4017,
    "start_time": "2023-06-18T10:33:10.695Z"
   },
   {
    "duration": 4,
    "start_time": "2023-06-18T10:33:17.305Z"
   },
   {
    "duration": 14849,
    "start_time": "2023-06-18T10:33:20.922Z"
   },
   {
    "duration": 4,
    "start_time": "2023-06-18T10:33:54.852Z"
   },
   {
    "duration": 192349,
    "start_time": "2023-06-18T10:33:55.326Z"
   },
   {
    "duration": 4,
    "start_time": "2023-06-18T10:37:07.677Z"
   },
   {
    "duration": 3,
    "start_time": "2023-06-18T10:43:13.472Z"
   },
   {
    "duration": 86,
    "start_time": "2023-06-18T10:43:14.039Z"
   },
   {
    "duration": 5605,
    "start_time": "2023-06-18T10:43:49.773Z"
   },
   {
    "duration": 589,
    "start_time": "2023-06-18T10:43:55.380Z"
   },
   {
    "duration": 70,
    "start_time": "2023-06-18T10:45:35.149Z"
   },
   {
    "duration": 3,
    "start_time": "2023-06-18T10:48:28.305Z"
   },
   {
    "duration": 190258,
    "start_time": "2023-06-18T10:48:30.513Z"
   },
   {
    "duration": 4,
    "start_time": "2023-06-18T10:51:40.773Z"
   },
   {
    "duration": 4,
    "start_time": "2023-06-18T10:52:14.019Z"
   },
   {
    "duration": 4164,
    "start_time": "2023-06-18T10:52:15.413Z"
   },
   {
    "duration": 496,
    "start_time": "2023-06-18T10:52:19.579Z"
   },
   {
    "duration": 2,
    "start_time": "2023-06-18T10:53:54.713Z"
   },
   {
    "duration": 4433,
    "start_time": "2023-06-18T10:53:56.038Z"
   },
   {
    "duration": 504,
    "start_time": "2023-06-18T10:54:00.472Z"
   },
   {
    "duration": 7400,
    "start_time": "2023-06-18T10:55:38.848Z"
   },
   {
    "duration": 3,
    "start_time": "2023-06-18T10:56:03.853Z"
   },
   {
    "duration": 18465,
    "start_time": "2023-06-18T10:56:04.682Z"
   },
   {
    "duration": 3768,
    "start_time": "2023-06-18T11:34:06.457Z"
   },
   {
    "duration": 3020,
    "start_time": "2023-06-18T11:34:10.227Z"
   },
   {
    "duration": 3563,
    "start_time": "2023-06-18T11:34:13.249Z"
   },
   {
    "duration": 147,
    "start_time": "2023-06-18T11:34:16.814Z"
   },
   {
    "duration": 62,
    "start_time": "2023-06-18T11:34:16.963Z"
   },
   {
    "duration": 182,
    "start_time": "2023-06-18T11:34:17.027Z"
   },
   {
    "duration": 263,
    "start_time": "2023-06-18T11:34:17.211Z"
   },
   {
    "duration": 641,
    "start_time": "2023-06-18T11:34:17.477Z"
   },
   {
    "duration": 650,
    "start_time": "2023-06-18T11:34:18.125Z"
   },
   {
    "duration": 4,
    "start_time": "2023-06-18T11:34:18.777Z"
   },
   {
    "duration": 639,
    "start_time": "2023-06-18T11:34:18.783Z"
   },
   {
    "duration": 1272,
    "start_time": "2023-06-18T11:34:19.424Z"
   },
   {
    "duration": 29,
    "start_time": "2023-06-18T11:34:20.699Z"
   },
   {
    "duration": 2150,
    "start_time": "2023-06-18T11:34:20.732Z"
   },
   {
    "duration": 24,
    "start_time": "2023-06-18T11:34:22.884Z"
   },
   {
    "duration": 26,
    "start_time": "2023-06-18T11:34:22.911Z"
   },
   {
    "duration": 15,
    "start_time": "2023-06-18T11:34:22.938Z"
   },
   {
    "duration": 170,
    "start_time": "2023-06-18T11:34:22.954Z"
   },
   {
    "duration": 43,
    "start_time": "2023-06-18T11:34:23.126Z"
   },
   {
    "duration": 43,
    "start_time": "2023-06-18T11:34:23.171Z"
   },
   {
    "duration": 4,
    "start_time": "2023-06-18T11:34:23.216Z"
   },
   {
    "duration": 8,
    "start_time": "2023-06-18T11:34:23.222Z"
   },
   {
    "duration": 16,
    "start_time": "2023-06-18T11:34:23.232Z"
   },
   {
    "duration": 16,
    "start_time": "2023-06-18T11:34:23.270Z"
   },
   {
    "duration": 28,
    "start_time": "2023-06-18T11:34:23.288Z"
   },
   {
    "duration": 13,
    "start_time": "2023-06-18T11:34:23.319Z"
   },
   {
    "duration": 125,
    "start_time": "2023-06-18T11:34:23.334Z"
   },
   {
    "duration": 29,
    "start_time": "2023-06-18T11:34:23.460Z"
   },
   {
    "duration": 10709,
    "start_time": "2023-06-18T11:34:23.502Z"
   },
   {
    "duration": 102,
    "start_time": "2023-06-18T11:34:34.213Z"
   },
   {
    "duration": 13233,
    "start_time": "2023-06-18T11:34:34.317Z"
   },
   {
    "duration": 5,
    "start_time": "2023-06-18T11:34:47.552Z"
   },
   {
    "duration": 126,
    "start_time": "2023-06-18T11:34:47.570Z"
   },
   {
    "duration": 4,
    "start_time": "2023-06-18T11:34:47.698Z"
   },
   {
    "duration": 1437885,
    "start_time": "2023-06-18T11:34:47.703Z"
   },
   {
    "duration": 11,
    "start_time": "2023-06-18T11:58:45.669Z"
   },
   {
    "duration": 3,
    "start_time": "2023-06-18T11:58:45.681Z"
   },
   {
    "duration": 4595,
    "start_time": "2023-06-18T11:58:45.685Z"
   },
   {
    "duration": 588,
    "start_time": "2023-06-18T11:58:50.281Z"
   },
   {
    "duration": 3,
    "start_time": "2023-06-18T11:58:50.871Z"
   },
   {
    "duration": 2148,
    "start_time": "2023-06-18T13:00:09.953Z"
   },
   {
    "duration": 2268,
    "start_time": "2023-06-18T13:00:12.104Z"
   },
   {
    "duration": 2853,
    "start_time": "2023-06-18T13:00:14.374Z"
   },
   {
    "duration": 125,
    "start_time": "2023-06-18T13:00:17.230Z"
   },
   {
    "duration": 50,
    "start_time": "2023-06-18T13:00:17.357Z"
   },
   {
    "duration": 122,
    "start_time": "2023-06-18T13:00:17.409Z"
   },
   {
    "duration": 204,
    "start_time": "2023-06-18T13:00:17.533Z"
   },
   {
    "duration": 533,
    "start_time": "2023-06-18T13:00:17.739Z"
   },
   {
    "duration": 542,
    "start_time": "2023-06-18T13:00:18.274Z"
   },
   {
    "duration": 3,
    "start_time": "2023-06-18T13:00:18.818Z"
   },
   {
    "duration": 522,
    "start_time": "2023-06-18T13:00:18.823Z"
   },
   {
    "duration": 965,
    "start_time": "2023-06-18T13:00:19.346Z"
   },
   {
    "duration": 26,
    "start_time": "2023-06-18T13:00:20.314Z"
   },
   {
    "duration": 1706,
    "start_time": "2023-06-18T13:00:20.342Z"
   },
   {
    "duration": 8,
    "start_time": "2023-06-18T13:00:22.049Z"
   },
   {
    "duration": 50,
    "start_time": "2023-06-18T13:00:22.068Z"
   },
   {
    "duration": 21,
    "start_time": "2023-06-18T13:00:22.120Z"
   },
   {
    "duration": 150,
    "start_time": "2023-06-18T13:00:22.143Z"
   },
   {
    "duration": 38,
    "start_time": "2023-06-18T13:00:22.295Z"
   },
   {
    "duration": 46,
    "start_time": "2023-06-18T13:00:22.334Z"
   },
   {
    "duration": 5,
    "start_time": "2023-06-18T13:00:22.382Z"
   },
   {
    "duration": 7,
    "start_time": "2023-06-18T13:00:22.388Z"
   },
   {
    "duration": 19,
    "start_time": "2023-06-18T13:00:22.397Z"
   },
   {
    "duration": 7,
    "start_time": "2023-06-18T13:00:22.418Z"
   },
   {
    "duration": 51,
    "start_time": "2023-06-18T13:00:22.427Z"
   },
   {
    "duration": 17,
    "start_time": "2023-06-18T13:00:22.480Z"
   },
   {
    "duration": 103,
    "start_time": "2023-06-18T13:00:22.500Z"
   },
   {
    "duration": 4,
    "start_time": "2023-06-18T13:00:22.607Z"
   },
   {
    "duration": 8535,
    "start_time": "2023-06-18T13:00:22.613Z"
   },
   {
    "duration": 71,
    "start_time": "2023-06-18T13:00:31.149Z"
   },
   {
    "duration": 11865,
    "start_time": "2023-06-18T13:00:31.222Z"
   },
   {
    "duration": 8,
    "start_time": "2023-06-18T13:00:43.089Z"
   },
   {
    "duration": 146,
    "start_time": "2023-06-18T13:00:43.099Z"
   },
   {
    "duration": 10,
    "start_time": "2023-06-18T13:00:43.247Z"
   },
   {
    "duration": 29703,
    "start_time": "2023-06-18T13:34:21.306Z"
   },
   {
    "duration": 1921,
    "start_time": "2023-06-18T13:34:51.012Z"
   },
   {
    "duration": 5146,
    "start_time": "2023-06-18T13:34:52.935Z"
   },
   {
    "duration": 1,
    "start_time": "2023-06-18T13:34:58.085Z"
   },
   {
    "duration": 0,
    "start_time": "2023-06-18T13:34:58.087Z"
   },
   {
    "duration": 0,
    "start_time": "2023-06-18T13:34:58.089Z"
   },
   {
    "duration": 0,
    "start_time": "2023-06-18T13:34:58.091Z"
   },
   {
    "duration": 0,
    "start_time": "2023-06-18T13:34:58.092Z"
   },
   {
    "duration": 0,
    "start_time": "2023-06-18T13:34:58.094Z"
   },
   {
    "duration": 0,
    "start_time": "2023-06-18T13:34:58.095Z"
   },
   {
    "duration": 0,
    "start_time": "2023-06-18T13:34:58.096Z"
   },
   {
    "duration": 0,
    "start_time": "2023-06-18T13:34:58.098Z"
   },
   {
    "duration": 0,
    "start_time": "2023-06-18T13:34:58.100Z"
   },
   {
    "duration": 0,
    "start_time": "2023-06-18T13:34:58.101Z"
   },
   {
    "duration": 0,
    "start_time": "2023-06-18T13:34:58.102Z"
   },
   {
    "duration": 0,
    "start_time": "2023-06-18T13:34:58.103Z"
   },
   {
    "duration": 0,
    "start_time": "2023-06-18T13:34:58.105Z"
   },
   {
    "duration": 0,
    "start_time": "2023-06-18T13:34:58.106Z"
   },
   {
    "duration": 0,
    "start_time": "2023-06-18T13:34:58.107Z"
   },
   {
    "duration": 0,
    "start_time": "2023-06-18T13:34:58.109Z"
   },
   {
    "duration": 0,
    "start_time": "2023-06-18T13:34:58.110Z"
   },
   {
    "duration": 0,
    "start_time": "2023-06-18T13:34:58.112Z"
   },
   {
    "duration": 0,
    "start_time": "2023-06-18T13:34:58.114Z"
   },
   {
    "duration": 0,
    "start_time": "2023-06-18T13:34:58.152Z"
   },
   {
    "duration": 0,
    "start_time": "2023-06-18T13:34:58.155Z"
   },
   {
    "duration": 0,
    "start_time": "2023-06-18T13:34:58.156Z"
   },
   {
    "duration": 0,
    "start_time": "2023-06-18T13:34:58.158Z"
   },
   {
    "duration": 0,
    "start_time": "2023-06-18T13:34:58.159Z"
   },
   {
    "duration": 0,
    "start_time": "2023-06-18T13:34:58.160Z"
   },
   {
    "duration": 0,
    "start_time": "2023-06-18T13:34:58.162Z"
   },
   {
    "duration": 0,
    "start_time": "2023-06-18T13:34:58.164Z"
   },
   {
    "duration": 0,
    "start_time": "2023-06-18T13:34:58.165Z"
   },
   {
    "duration": 0,
    "start_time": "2023-06-18T13:34:58.167Z"
   },
   {
    "duration": 0,
    "start_time": "2023-06-18T13:34:58.168Z"
   },
   {
    "duration": 0,
    "start_time": "2023-06-18T13:34:58.169Z"
   },
   {
    "duration": 0,
    "start_time": "2023-06-18T13:34:58.171Z"
   },
   {
    "duration": 0,
    "start_time": "2023-06-18T13:34:58.172Z"
   },
   {
    "duration": 0,
    "start_time": "2023-06-18T13:34:58.173Z"
   },
   {
    "duration": 0,
    "start_time": "2023-06-18T13:34:58.175Z"
   },
   {
    "duration": 0,
    "start_time": "2023-06-18T13:34:58.176Z"
   },
   {
    "duration": 0,
    "start_time": "2023-06-18T13:34:58.177Z"
   },
   {
    "duration": 0,
    "start_time": "2023-06-18T13:34:58.178Z"
   },
   {
    "duration": 0,
    "start_time": "2023-06-18T13:34:58.179Z"
   },
   {
    "duration": 1,
    "start_time": "2023-06-18T13:34:58.181Z"
   },
   {
    "duration": 2238,
    "start_time": "2023-06-18T13:47:26.638Z"
   },
   {
    "duration": 1584,
    "start_time": "2023-06-18T13:47:28.878Z"
   },
   {
    "duration": 1253,
    "start_time": "2023-06-18T13:47:30.464Z"
   },
   {
    "duration": 120,
    "start_time": "2023-06-18T13:47:31.718Z"
   },
   {
    "duration": 64,
    "start_time": "2023-06-18T13:47:31.840Z"
   },
   {
    "duration": 131,
    "start_time": "2023-06-18T13:47:31.907Z"
   },
   {
    "duration": 237,
    "start_time": "2023-06-18T13:47:32.040Z"
   },
   {
    "duration": 594,
    "start_time": "2023-06-18T13:47:32.278Z"
   },
   {
    "duration": 606,
    "start_time": "2023-06-18T13:47:32.874Z"
   },
   {
    "duration": 3,
    "start_time": "2023-06-18T13:47:33.482Z"
   },
   {
    "duration": 576,
    "start_time": "2023-06-18T13:47:33.487Z"
   },
   {
    "duration": 1055,
    "start_time": "2023-06-18T13:47:34.065Z"
   },
   {
    "duration": 49,
    "start_time": "2023-06-18T13:47:35.122Z"
   },
   {
    "duration": 1598,
    "start_time": "2023-06-18T13:47:35.175Z"
   },
   {
    "duration": 8,
    "start_time": "2023-06-18T13:47:36.775Z"
   },
   {
    "duration": 33,
    "start_time": "2023-06-18T13:47:36.785Z"
   },
   {
    "duration": 42,
    "start_time": "2023-06-18T13:47:36.820Z"
   },
   {
    "duration": 170,
    "start_time": "2023-06-18T13:47:36.863Z"
   },
   {
    "duration": 50,
    "start_time": "2023-06-18T13:47:37.036Z"
   },
   {
    "duration": 30,
    "start_time": "2023-06-18T13:47:37.088Z"
   },
   {
    "duration": 7,
    "start_time": "2023-06-18T13:47:37.119Z"
   },
   {
    "duration": 6,
    "start_time": "2023-06-18T13:47:37.152Z"
   },
   {
    "duration": 22,
    "start_time": "2023-06-18T13:47:37.160Z"
   },
   {
    "duration": 9,
    "start_time": "2023-06-18T13:47:37.184Z"
   },
   {
    "duration": 22,
    "start_time": "2023-06-18T13:47:37.195Z"
   },
   {
    "duration": 34,
    "start_time": "2023-06-18T13:47:37.219Z"
   },
   {
    "duration": 109,
    "start_time": "2023-06-18T13:47:37.255Z"
   },
   {
    "duration": 3,
    "start_time": "2023-06-18T13:47:37.366Z"
   },
   {
    "duration": 9206,
    "start_time": "2023-06-18T13:47:37.371Z"
   },
   {
    "duration": 71,
    "start_time": "2023-06-18T13:47:46.579Z"
   },
   {
    "duration": 12634,
    "start_time": "2023-06-18T13:47:46.652Z"
   },
   {
    "duration": 8,
    "start_time": "2023-06-18T13:47:59.288Z"
   },
   {
    "duration": 151,
    "start_time": "2023-06-18T13:47:59.298Z"
   },
   {
    "duration": 17,
    "start_time": "2023-06-18T13:47:59.451Z"
   },
   {
    "duration": 46,
    "start_time": "2023-06-19T11:24:52.303Z"
   },
   {
    "duration": 2834,
    "start_time": "2023-06-19T11:25:08.159Z"
   },
   {
    "duration": 2192,
    "start_time": "2023-06-19T11:25:10.995Z"
   },
   {
    "duration": 2024,
    "start_time": "2023-06-19T11:25:13.189Z"
   },
   {
    "duration": 1630,
    "start_time": "2023-06-19T11:25:15.216Z"
   },
   {
    "duration": 2768,
    "start_time": "2023-06-19T11:25:16.848Z"
   },
   {
    "duration": 118,
    "start_time": "2023-06-19T11:25:19.617Z"
   },
   {
    "duration": 54,
    "start_time": "2023-06-19T11:25:19.736Z"
   },
   {
    "duration": 135,
    "start_time": "2023-06-19T11:25:19.792Z"
   },
   {
    "duration": 90,
    "start_time": "2023-06-19T11:25:19.929Z"
   },
   {
    "duration": 10,
    "start_time": "2023-06-19T11:25:35.036Z"
   },
   {
    "duration": 96,
    "start_time": "2023-06-19T11:26:02.744Z"
   },
   {
    "duration": 210,
    "start_time": "2023-06-19T11:26:14.323Z"
   },
   {
    "duration": 1106,
    "start_time": "2023-06-19T11:26:35.371Z"
   },
   {
    "duration": 97,
    "start_time": "2023-06-19T11:26:51.114Z"
   },
   {
    "duration": 91,
    "start_time": "2023-06-19T11:27:04.995Z"
   },
   {
    "duration": 574,
    "start_time": "2023-06-19T11:27:27.505Z"
   },
   {
    "duration": 10,
    "start_time": "2023-06-19T11:27:41.348Z"
   },
   {
    "duration": 11,
    "start_time": "2023-06-19T11:27:52.126Z"
   },
   {
    "duration": 451,
    "start_time": "2023-06-19T11:27:56.476Z"
   },
   {
    "duration": 735,
    "start_time": "2023-06-19T11:29:19.404Z"
   },
   {
    "duration": 69,
    "start_time": "2023-06-19T11:29:59.171Z"
   },
   {
    "duration": 87,
    "start_time": "2023-06-19T11:30:05.201Z"
   },
   {
    "duration": 84,
    "start_time": "2023-06-19T11:30:18.976Z"
   },
   {
    "duration": 133,
    "start_time": "2023-06-19T11:30:27.470Z"
   },
   {
    "duration": 102,
    "start_time": "2023-06-19T11:30:36.606Z"
   },
   {
    "duration": 2089,
    "start_time": "2023-06-19T11:30:51.357Z"
   },
   {
    "duration": 2081,
    "start_time": "2023-06-19T11:30:53.448Z"
   },
   {
    "duration": 2182,
    "start_time": "2023-06-19T11:30:55.532Z"
   },
   {
    "duration": 3,
    "start_time": "2023-06-19T11:30:57.716Z"
   },
   {
    "duration": 741,
    "start_time": "2023-06-19T11:30:57.721Z"
   },
   {
    "duration": 122,
    "start_time": "2023-06-19T11:30:58.465Z"
   },
   {
    "duration": 36,
    "start_time": "2023-06-19T11:30:58.589Z"
   },
   {
    "duration": 127,
    "start_time": "2023-06-19T11:30:58.627Z"
   },
   {
    "duration": 113,
    "start_time": "2023-06-19T11:30:58.755Z"
   },
   {
    "duration": 102,
    "start_time": "2023-06-19T11:31:13.606Z"
   },
   {
    "duration": 209,
    "start_time": "2023-06-19T11:31:27.554Z"
   },
   {
    "duration": 234,
    "start_time": "2023-06-19T11:31:51.899Z"
   },
   {
    "duration": 3,
    "start_time": "2023-06-19T11:32:00.075Z"
   },
   {
    "duration": 722,
    "start_time": "2023-06-19T11:32:00.676Z"
   },
   {
    "duration": 115,
    "start_time": "2023-06-19T11:32:02.143Z"
   },
   {
    "duration": 35,
    "start_time": "2023-06-19T11:32:03.198Z"
   },
   {
    "duration": 109,
    "start_time": "2023-06-19T11:32:04.687Z"
   },
   {
    "duration": 181,
    "start_time": "2023-06-19T11:32:12.850Z"
   },
   {
    "duration": 133,
    "start_time": "2023-06-19T11:32:33.985Z"
   },
   {
    "duration": 244,
    "start_time": "2023-06-19T11:32:38.990Z"
   },
   {
    "duration": 258,
    "start_time": "2023-06-19T11:32:45.176Z"
   },
   {
    "duration": 3,
    "start_time": "2023-06-19T11:32:52.353Z"
   },
   {
    "duration": 697,
    "start_time": "2023-06-19T11:32:52.580Z"
   },
   {
    "duration": 116,
    "start_time": "2023-06-19T11:32:53.279Z"
   },
   {
    "duration": 34,
    "start_time": "2023-06-19T11:32:53.397Z"
   },
   {
    "duration": 103,
    "start_time": "2023-06-19T11:32:53.800Z"
   },
   {
    "duration": 231,
    "start_time": "2023-06-19T11:32:55.274Z"
   },
   {
    "duration": 2009,
    "start_time": "2023-06-19T11:33:39.673Z"
   },
   {
    "duration": 2084,
    "start_time": "2023-06-19T11:33:41.685Z"
   },
   {
    "duration": 2074,
    "start_time": "2023-06-19T11:33:43.771Z"
   },
   {
    "duration": 4,
    "start_time": "2023-06-19T11:33:45.847Z"
   },
   {
    "duration": 786,
    "start_time": "2023-06-19T11:33:45.853Z"
   },
   {
    "duration": 132,
    "start_time": "2023-06-19T11:33:46.640Z"
   },
   {
    "duration": 38,
    "start_time": "2023-06-19T11:33:51.253Z"
   },
   {
    "duration": 106,
    "start_time": "2023-06-19T11:33:54.914Z"
   },
   {
    "duration": 233,
    "start_time": "2023-06-19T11:33:58.497Z"
   },
   {
    "duration": 361,
    "start_time": "2023-06-19T11:34:26.067Z"
   },
   {
    "duration": 3,
    "start_time": "2023-06-19T11:34:33.975Z"
   },
   {
    "duration": 724,
    "start_time": "2023-06-19T11:34:34.190Z"
   },
   {
    "duration": 117,
    "start_time": "2023-06-19T11:34:34.916Z"
   },
   {
    "duration": 46,
    "start_time": "2023-06-19T11:34:35.034Z"
   },
   {
    "duration": 104,
    "start_time": "2023-06-19T11:34:35.437Z"
   },
   {
    "duration": 228,
    "start_time": "2023-06-19T11:34:37.071Z"
   },
   {
    "duration": 296,
    "start_time": "2023-06-19T11:35:01.895Z"
   },
   {
    "duration": 2186,
    "start_time": "2023-06-19T11:43:12.893Z"
   },
   {
    "duration": 2081,
    "start_time": "2023-06-19T11:43:15.081Z"
   },
   {
    "duration": 4,
    "start_time": "2023-06-19T11:43:17.164Z"
   },
   {
    "duration": 829,
    "start_time": "2023-06-19T11:43:17.171Z"
   },
   {
    "duration": 127,
    "start_time": "2023-06-19T11:43:18.001Z"
   },
   {
    "duration": 55,
    "start_time": "2023-06-19T11:43:18.130Z"
   },
   {
    "duration": 109,
    "start_time": "2023-06-19T11:43:18.187Z"
   },
   {
    "duration": 221,
    "start_time": "2023-06-19T11:43:18.298Z"
   },
   {
    "duration": 605,
    "start_time": "2023-06-19T11:43:18.521Z"
   },
   {
    "duration": 632,
    "start_time": "2023-06-19T11:43:19.128Z"
   },
   {
    "duration": 3,
    "start_time": "2023-06-19T11:43:19.761Z"
   },
   {
    "duration": 689,
    "start_time": "2023-06-19T11:43:19.765Z"
   },
   {
    "duration": 948,
    "start_time": "2023-06-19T11:43:20.455Z"
   },
   {
    "duration": 33,
    "start_time": "2023-06-19T11:43:21.404Z"
   },
   {
    "duration": 2106,
    "start_time": "2023-06-19T11:43:21.439Z"
   },
   {
    "duration": 13,
    "start_time": "2023-06-19T11:43:23.547Z"
   },
   {
    "duration": 36,
    "start_time": "2023-06-19T11:43:23.562Z"
   },
   {
    "duration": 20,
    "start_time": "2023-06-19T11:43:23.600Z"
   },
   {
    "duration": 144,
    "start_time": "2023-06-19T11:43:23.621Z"
   },
   {
    "duration": 43,
    "start_time": "2023-06-19T11:43:23.767Z"
   },
   {
    "duration": 54,
    "start_time": "2023-06-19T11:43:23.812Z"
   },
   {
    "duration": 4,
    "start_time": "2023-06-19T11:43:23.868Z"
   },
   {
    "duration": 26,
    "start_time": "2023-06-19T11:43:23.873Z"
   },
   {
    "duration": 24,
    "start_time": "2023-06-19T11:43:23.901Z"
   },
   {
    "duration": 16,
    "start_time": "2023-06-19T11:43:23.927Z"
   },
   {
    "duration": 30,
    "start_time": "2023-06-19T11:43:23.944Z"
   },
   {
    "duration": 21,
    "start_time": "2023-06-19T11:43:23.976Z"
   },
   {
    "duration": 108,
    "start_time": "2023-06-19T11:43:23.999Z"
   },
   {
    "duration": 3,
    "start_time": "2023-06-19T11:43:24.249Z"
   },
   {
    "duration": 12270,
    "start_time": "2023-06-19T11:43:25.071Z"
   },
   {
    "duration": 103,
    "start_time": "2023-06-19T11:43:37.342Z"
   },
   {
    "duration": 8,
    "start_time": "2023-06-19T11:43:37.447Z"
   },
   {
    "duration": 61,
    "start_time": "2023-06-19T11:43:37.457Z"
   },
   {
    "duration": 23,
    "start_time": "2023-06-19T11:44:36.614Z"
   },
   {
    "duration": 65,
    "start_time": "2023-06-19T11:46:15.675Z"
   },
   {
    "duration": 710,
    "start_time": "2023-06-19T11:46:51.769Z"
   },
   {
    "duration": 26,
    "start_time": "2023-06-19T11:47:07.324Z"
   },
   {
    "duration": 63,
    "start_time": "2023-06-19T11:49:18.615Z"
   },
   {
    "duration": 4,
    "start_time": "2023-06-19T11:49:56.399Z"
   },
   {
    "duration": 9,
    "start_time": "2023-06-19T11:50:29.405Z"
   },
   {
    "duration": 4,
    "start_time": "2023-06-19T11:50:49.173Z"
   },
   {
    "duration": 867,
    "start_time": "2023-06-19T11:50:51.875Z"
   },
   {
    "duration": 139671,
    "start_time": "2023-06-19T11:51:21.388Z"
   },
   {
    "duration": 69,
    "start_time": "2023-06-19T11:53:41.060Z"
   }
  ],
  "kernelspec": {
   "display_name": "Python 3 (ipykernel)",
   "language": "python",
   "name": "python3"
  },
  "language_info": {
   "codemirror_mode": {
    "name": "ipython",
    "version": 3
   },
   "file_extension": ".py",
   "mimetype": "text/x-python",
   "name": "python",
   "nbconvert_exporter": "python",
   "pygments_lexer": "ipython3",
   "version": "3.9.12"
  },
  "toc": {
   "base_numbering": 1,
   "nav_menu": {},
   "number_sections": true,
   "sideBar": true,
   "skip_h1_title": true,
   "title_cell": "Table of Contents",
   "title_sidebar": "Contents",
   "toc_cell": false,
   "toc_position": {
    "height": "calc(100% - 180px)",
    "left": "10px",
    "top": "150px",
    "width": "209.797px"
   },
   "toc_section_display": true,
   "toc_window_display": true
  }
 },
 "nbformat": 4,
 "nbformat_minor": 2
}
